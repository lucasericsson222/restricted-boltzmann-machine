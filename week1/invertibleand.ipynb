{
 "cells": [
  {
   "cell_type": "code",
   "execution_count": 9,
   "metadata": {},
   "outputs": [],
   "source": [
    "import numpy as np"
   ]
  },
  {
   "cell_type": "markdown",
   "metadata": {},
   "source": [
    "Let $W$ equal the symmetric matrix of weights for a Restricted Boltzman Machine\n",
    "\n",
    "Let $c$ be the biases for the visible layer\n",
    "\n",
    "Let $b$ be the biases for the hidden layer"
   ]
  },
  {
   "cell_type": "code",
   "execution_count": 10,
   "metadata": {},
   "outputs": [],
   "source": [
    "W: np.matrix = np.matrix([ [-9, -12, 4], [-9, 4, -12], [-1, -10, -10] ])\n",
    "c: np.matrix = np.matrix([6, 6, 4]).T\n",
    "b: np.matrix = np.matrix([4, 6, 6]).T"
   ]
  },
  {
   "cell_type": "markdown",
   "metadata": {},
   "source": [
    "$$E(\\vec v, \\vec h) = - \\sum_{i=1}^n \\sum_{j=1}^m W_{ij} v_i h_i - \\sum_{i=1}^n v_i c_i - \\sum_{i=1}^n h_i b_i$$\n",
    "$$E(\\vec v, \\vec h) = - h^T W v - v^T c - h^T b$$"
   ]
  },
  {
   "cell_type": "code",
   "execution_count": 11,
   "metadata": {},
   "outputs": [],
   "source": [
    "def Energy(v: np.matrix, h: np.matrix):\n",
    "    out = -1 * ( v.T @ c + h.T @ b + h.T @ W @ v)\n",
    "    return out[0,0]"
   ]
  },
  {
   "cell_type": "markdown",
   "metadata": {},
   "source": [
    "$$p(\\vec v| \\vec h) = \\frac {e^{-E(\\vec v, \\vec h)}}{\\displaystyle\\sum_{\\vec v} e^{-E(\\vec v, \\vec h)}}$$"
   ]
  },
  {
   "cell_type": "code",
   "execution_count": 12,
   "metadata": {},
   "outputs": [],
   "source": [
    "Z = 0\n",
    "# this sum will be replaced with MCMC methods (gibbs sampling)\n",
    "for i1 in range(0, 2):\n",
    "    for i2 in range(0, 2):\n",
    "        for i3 in range(0, 2):\n",
    "            for j1 in range(0, 2):\n",
    "                for j2 in range(0, 2):\n",
    "                    for j3 in range(0, 2):\n",
    "                        Z += np.exp(Energy(np.matrix([i1, i2, i3]).T, np.matrix([j1, j2, j3]).T))"
   ]
  },
  {
   "cell_type": "code",
   "execution_count": 13,
   "metadata": {},
   "outputs": [],
   "source": [
    "\n",
    "def prob(v: np.matrix, h: np.matrix):\n",
    "    return np.exp(Energy(v,h)) / Z "
   ]
  },
  {
   "cell_type": "code",
   "execution_count": 14,
   "metadata": {},
   "outputs": [],
   "source": [
    "def prob_v(v: np.matrix):\n",
    "    res = 0 \n",
    "    for i1 in range(0, 2):\n",
    "        for i2 in range(0, 2):\n",
    "            for i3 in range(0, 2):\n",
    "                res += prob(v, np.matrix([i1, i2, i3]).T)\n",
    "    return res"
   ]
  },
  {
   "cell_type": "code",
   "execution_count": 29,
   "metadata": {},
   "outputs": [
    {
     "data": {
      "text/plain": [
       "1.0501349589650545e-10"
      ]
     },
     "execution_count": 29,
     "metadata": {},
     "output_type": "execute_result"
    }
   ],
   "source": [
    "prob_v(np.matrix([0, 0, 0]).T)"
   ]
  },
  {
   "cell_type": "code",
   "execution_count": null,
   "metadata": {},
   "outputs": [],
   "source": []
  }
 ],
 "metadata": {
  "kernelspec": {
   "display_name": "Python 3",
   "language": "python",
   "name": "python3"
  },
  "language_info": {
   "codemirror_mode": {
    "name": "ipython",
    "version": 3
   },
   "file_extension": ".py",
   "mimetype": "text/x-python",
   "name": "python",
   "nbconvert_exporter": "python",
   "pygments_lexer": "ipython3",
   "version": "3.10.6"
  }
 },
 "nbformat": 4,
 "nbformat_minor": 2
}
