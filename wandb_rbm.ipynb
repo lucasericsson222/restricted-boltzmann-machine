{
 "cells": [
  {
   "cell_type": "code",
   "execution_count": 1,
   "metadata": {},
   "outputs": [],
   "source": [
    "import numpy as np\n",
    "import matplotlib.pyplot as plt\n",
    "import RestrictedBoltzmannMachine as RBM\n",
    "import wandb"
   ]
  },
  {
   "cell_type": "code",
   "execution_count": 2,
   "metadata": {},
   "outputs": [],
   "source": [
    "data = None\n",
    "with open(\"train-images.idx3-ubyte\", \"rb\") as f:\n",
    "    data = np.frombuffer(f.read(), np.uint8, offset=16).reshape(-1,28*28)\n",
    "\n",
    "data = (data > 128).astype(np.uint8)\n",
    "\n",
    "validation_data = None\n",
    "with open(\"t10k-images.idx3-ubyte\", \"rb\") as f:\n",
    "    validation_data = np.frombuffer(f.read(), np.uint8, offset=16).reshape(-1,28*28)\n",
    "\n",
    "validation_data = (validation_data > 128).astype(np.uint8)"
   ]
  },
  {
   "cell_type": "code",
   "execution_count": 3,
   "metadata": {},
   "outputs": [
    {
     "name": "stderr",
     "output_type": "stream",
     "text": [
      "Failed to detect the name of this notebook, you can set it manually with the WANDB_NOTEBOOK_NAME environment variable to enable code saving.\n",
      "\u001b[34m\u001b[1mwandb\u001b[0m: Currently logged in as: \u001b[33mlucasericsson\u001b[0m (\u001b[33mlucasericsson222\u001b[0m). Use \u001b[1m`wandb login --relogin`\u001b[0m to force relogin\n"
     ]
    },
    {
     "data": {
      "text/html": [
       "Tracking run with wandb version 0.16.6"
      ],
      "text/plain": [
       "<IPython.core.display.HTML object>"
      ]
     },
     "metadata": {},
     "output_type": "display_data"
    },
    {
     "data": {
      "text/html": [
       "Run data is saved locally in <code>/Users/lucasericsson/repos/restricted-boltzmann-machine/wandb/run-20240412_132745-zoadkfc6</code>"
      ],
      "text/plain": [
       "<IPython.core.display.HTML object>"
      ]
     },
     "metadata": {},
     "output_type": "display_data"
    },
    {
     "data": {
      "text/html": [
       "Syncing run <strong><a href='https://wandb.ai/lucasericsson222/restricted-boltzmann-machine/runs/zoadkfc6' target=\"_blank\">eager-microwave-21</a></strong> to <a href='https://wandb.ai/lucasericsson222/restricted-boltzmann-machine' target=\"_blank\">Weights & Biases</a> (<a href='https://wandb.me/run' target=\"_blank\">docs</a>)<br/>"
      ],
      "text/plain": [
       "<IPython.core.display.HTML object>"
      ]
     },
     "metadata": {},
     "output_type": "display_data"
    },
    {
     "data": {
      "text/html": [
       " View project at <a href='https://wandb.ai/lucasericsson222/restricted-boltzmann-machine' target=\"_blank\">https://wandb.ai/lucasericsson222/restricted-boltzmann-machine</a>"
      ],
      "text/plain": [
       "<IPython.core.display.HTML object>"
      ]
     },
     "metadata": {},
     "output_type": "display_data"
    },
    {
     "data": {
      "text/html": [
       " View run at <a href='https://wandb.ai/lucasericsson222/restricted-boltzmann-machine/runs/zoadkfc6' target=\"_blank\">https://wandb.ai/lucasericsson222/restricted-boltzmann-machine/runs/zoadkfc6</a>"
      ],
      "text/plain": [
       "<IPython.core.display.HTML object>"
      ]
     },
     "metadata": {},
     "output_type": "display_data"
    },
    {
     "data": {
      "text/html": [
       "<button onClick=\"this.nextSibling.style.display='block';this.style.display='none';\">Display W&B run</button><iframe src='https://wandb.ai/lucasericsson222/restricted-boltzmann-machine/runs/zoadkfc6?jupyter=true' style='border:none;width:100%;height:420px;display:none;'></iframe>"
      ],
      "text/plain": [
       "<wandb.sdk.wandb_run.Run at 0x13a825960>"
      ]
     },
     "execution_count": 3,
     "metadata": {},
     "output_type": "execute_result"
    }
   ],
   "source": [
    "wandb.init(\n",
    "    project=\"restricted-boltzmann-machine\",\n",
    "\n",
    "    config={\n",
    "        \"learning_rate\": 0.01,\n",
    "        \"architecture\": \"RBM\",\n",
    "        \"dataset\": \"MNIST\",\n",
    "        \"epochs\": 30,\n",
    "    }\n",
    ")"
   ]
  },
  {
   "cell_type": "code",
   "execution_count": 4,
   "metadata": {},
   "outputs": [],
   "source": [
    "my_rbm = RBM.RestrictedBoltzmannMachine(28*28, 1000)"
   ]
  },
  {
   "cell_type": "code",
   "execution_count": 5,
   "metadata": {},
   "outputs": [
    {
     "name": "stdout",
     "output_type": "stream",
     "text": [
      "(60000, 784)\n",
      "Epoch: 0\n",
      "current_weight_diff: 9.236804980139786\n",
      "sqrd_recon_error: 0.26985969387755104\n",
      "Epoch: 1\n",
      "current_weight_diff: 3.2114147193618923\n",
      "sqrd_recon_error: 0.2459311224489796\n",
      "Epoch: 2\n",
      "current_weight_diff: 1.8163883392679092\n",
      "sqrd_recon_error: 0.21184948979591836\n",
      "Epoch: 3\n",
      "current_weight_diff: 1.3605531116315084\n",
      "sqrd_recon_error: 0.19294642857142857\n",
      "Epoch: 4\n",
      "current_weight_diff: 1.1948508208621083\n",
      "sqrd_recon_error: 0.1776658163265306\n",
      "Epoch: 5\n",
      "current_weight_diff: 0.7751078114633985\n",
      "sqrd_recon_error: 0.1884183673469388\n",
      "Epoch: 6\n",
      "current_weight_diff: 0.6361635789163912\n",
      "sqrd_recon_error: 0.13497448979591836\n",
      "Epoch: 7\n",
      "current_weight_diff: 0.6844643474763247\n",
      "sqrd_recon_error: 0.1594515306122449\n",
      "Epoch: 8\n",
      "current_weight_diff: 0.6983511539461736\n",
      "sqrd_recon_error: 0.14489795918367349\n",
      "Epoch: 9\n",
      "current_weight_diff: 0.5917592684299231\n",
      "sqrd_recon_error: 0.14165816326530611\n",
      "Epoch: 10\n",
      "current_weight_diff: 0.49052827466097315\n",
      "sqrd_recon_error: 0.13404336734693878\n",
      "Epoch: 11\n",
      "current_weight_diff: 0.5692471994506857\n",
      "sqrd_recon_error: 0.15099489795918367\n",
      "Epoch: 12\n",
      "current_weight_diff: 0.4049468749410809\n",
      "sqrd_recon_error: 0.12048469387755102\n",
      "Epoch: 13\n",
      "current_weight_diff: 0.4080383050855565\n",
      "sqrd_recon_error: 0.13631377551020407\n",
      "Epoch: 14\n",
      "current_weight_diff: 0.40899213634007714\n",
      "sqrd_recon_error: 0.15377551020408162\n",
      "Epoch: 15\n",
      "current_weight_diff: 0.3883153648993463\n",
      "sqrd_recon_error: 0.12093112244897959\n",
      "Epoch: 16\n",
      "current_weight_diff: 0.5560349312501479\n",
      "sqrd_recon_error: 0.12556122448979593\n",
      "Epoch: 17\n",
      "current_weight_diff: 0.34701835677767234\n",
      "sqrd_recon_error: 0.1431887755102041\n",
      "Epoch: 18\n",
      "current_weight_diff: 0.39310281830986504\n",
      "sqrd_recon_error: 0.11395408163265307\n",
      "Epoch: 19\n",
      "current_weight_diff: 0.313419444343554\n",
      "sqrd_recon_error: 0.10785714285714286\n",
      "Epoch: 20\n",
      "current_weight_diff: 0.3178304214836345\n",
      "sqrd_recon_error: 0.11776785714285713\n",
      "Epoch: 21\n",
      "current_weight_diff: 0.3697214784211797\n",
      "sqrd_recon_error: 0.11182397959183672\n",
      "Epoch: 22\n",
      "current_weight_diff: 3.0501939512021368\n",
      "sqrd_recon_error: 0.13017857142857142\n",
      "Epoch: 23\n",
      "current_weight_diff: 0.3364968737054788\n",
      "sqrd_recon_error: 0.09386479591836734\n",
      "Epoch: 24\n",
      "current_weight_diff: 0.33739202064718854\n",
      "sqrd_recon_error: 0.09604591836734694\n",
      "Epoch: 25\n",
      "current_weight_diff: 0.3815628400382555\n",
      "sqrd_recon_error: 0.10721938775510204\n",
      "Epoch: 26\n",
      "current_weight_diff: 0.2697283127116771\n",
      "sqrd_recon_error: 0.11394132653061223\n",
      "Epoch: 27\n",
      "current_weight_diff: 0.30711131706410816\n",
      "sqrd_recon_error: 0.12770408163265307\n",
      "Epoch: 28\n",
      "current_weight_diff: 0.35363487930319293\n",
      "sqrd_recon_error: 0.12118622448979592\n",
      "Epoch: 29\n",
      "current_weight_diff: 0.26781644359847556\n",
      "sqrd_recon_error: 0.11573979591836733\n",
      "Epoch: 30\n",
      "current_weight_diff: 0.3668680524480512\n",
      "sqrd_recon_error: 0.09732142857142857\n",
      "Epoch: 31\n",
      "current_weight_diff: 0.30608336727739044\n",
      "sqrd_recon_error: 0.11338010204081632\n"
     ]
    },
    {
     "ename": "KeyboardInterrupt",
     "evalue": "",
     "output_type": "error",
     "traceback": [
      "\u001b[0;31m---------------------------------------------------------------------------\u001b[0m",
      "\u001b[0;31mKeyboardInterrupt\u001b[0m                         Traceback (most recent call last)",
      "Cell \u001b[0;32mIn[5], line 1\u001b[0m\n\u001b[0;32m----> 1\u001b[0m \u001b[43mmy_rbm\u001b[49m\u001b[38;5;241;43m.\u001b[39;49m\u001b[43mcontrastive_divergence\u001b[49m\u001b[43m(\u001b[49m\u001b[43mdata\u001b[49m\u001b[43m,\u001b[49m\u001b[43m \u001b[49m\u001b[43mvalidation_data\u001b[49m\u001b[43m,\u001b[49m\u001b[43m \u001b[49m\u001b[38;5;241;43m1000\u001b[39;49m\u001b[43m)\u001b[49m\n",
      "File \u001b[0;32m~/repos/restricted-boltzmann-machine/RestrictedBoltzmannMachine.py:138\u001b[0m, in \u001b[0;36mRestrictedBoltzmannMachine.contrastive_divergence\u001b[0;34m(self, training_data, validation_data, num_epochs, k)\u001b[0m\n\u001b[1;32m    136\u001b[0m average_weight \u001b[38;5;241m=\u001b[39m \u001b[38;5;28mself\u001b[39m\u001b[38;5;241m.\u001b[39mcalculate_average_weight()\n\u001b[1;32m    137\u001b[0m \u001b[38;5;28mprint\u001b[39m(\u001b[38;5;124mf\u001b[39m\u001b[38;5;124m\"\u001b[39m\u001b[38;5;124msqrd_recon_error: \u001b[39m\u001b[38;5;132;01m{\u001b[39;00msqrd_recon_error\u001b[38;5;132;01m}\u001b[39;00m\u001b[38;5;124m\"\u001b[39m)\n\u001b[0;32m--> 138\u001b[0m data_average_free_energy, validation_average_free_energy, free_energy_ratio \u001b[38;5;241m=\u001b[39m \u001b[38;5;28;43mself\u001b[39;49m\u001b[38;5;241;43m.\u001b[39;49m\u001b[43mcalculate_sampled_average_free_energy\u001b[49m\u001b[43m(\u001b[49m\u001b[43mtraining_data\u001b[49m\u001b[43m,\u001b[49m\u001b[43m \u001b[49m\u001b[43mvalidation_data\u001b[49m\u001b[43m)\u001b[49m\n\u001b[1;32m    139\u001b[0m wandb\u001b[38;5;241m.\u001b[39mlog({ \n\u001b[1;32m    140\u001b[0m     \u001b[38;5;124m\"\u001b[39m\u001b[38;5;124mweight_diff\u001b[39m\u001b[38;5;124m\"\u001b[39m: cur_diff, \n\u001b[1;32m    141\u001b[0m     \u001b[38;5;124m\"\u001b[39m\u001b[38;5;124maverage_weight\u001b[39m\u001b[38;5;124m\"\u001b[39m: average_weight, \n\u001b[0;32m   (...)\u001b[0m\n\u001b[1;32m    145\u001b[0m     \u001b[38;5;124m\"\u001b[39m\u001b[38;5;124mfree_energy_ratio_training_over_validation\u001b[39m\u001b[38;5;124m\"\u001b[39m: free_energy_ratio \n\u001b[1;32m    146\u001b[0m })\n\u001b[1;32m    148\u001b[0m w_diffs\u001b[38;5;241m.\u001b[39mappend(cur_diff)\n",
      "File \u001b[0;32m~/repos/restricted-boltzmann-machine/RestrictedBoltzmannMachine.py:176\u001b[0m, in \u001b[0;36mRestrictedBoltzmannMachine.calculate_sampled_average_free_energy\u001b[0;34m(self, data, validation_data, num_samples)\u001b[0m\n\u001b[1;32m    174\u001b[0m     v_data \u001b[38;5;241m=\u001b[39m data[np\u001b[38;5;241m.\u001b[39mrandom\u001b[38;5;241m.\u001b[39mrandint(\u001b[38;5;241m0\u001b[39m, data\u001b[38;5;241m.\u001b[39mshape[\u001b[38;5;241m0\u001b[39m])]\n\u001b[1;32m    175\u001b[0m     v_val_data \u001b[38;5;241m=\u001b[39m data[np\u001b[38;5;241m.\u001b[39mrandom\u001b[38;5;241m.\u001b[39mrandint(\u001b[38;5;241m0\u001b[39m, validation_data\u001b[38;5;241m.\u001b[39mshape[\u001b[38;5;241m0\u001b[39m])]\n\u001b[0;32m--> 176\u001b[0m     data_sum \u001b[38;5;241m+\u001b[39m\u001b[38;5;241m=\u001b[39m \u001b[38;5;28;43mself\u001b[39;49m\u001b[38;5;241;43m.\u001b[39;49m\u001b[43mfree_energy\u001b[49m\u001b[43m(\u001b[49m\u001b[43mnp\u001b[49m\u001b[38;5;241;43m.\u001b[39;49m\u001b[43mmatrix\u001b[49m\u001b[43m(\u001b[49m\u001b[43mv_data\u001b[49m\u001b[43m)\u001b[49m\u001b[38;5;241;43m.\u001b[39;49m\u001b[43mT\u001b[49m\u001b[43m)\u001b[49m\n\u001b[1;32m    177\u001b[0m     val_data_sum \u001b[38;5;241m+\u001b[39m\u001b[38;5;241m=\u001b[39m \u001b[38;5;28mself\u001b[39m\u001b[38;5;241m.\u001b[39mfree_energy(np\u001b[38;5;241m.\u001b[39mmatrix(v_val_data)\u001b[38;5;241m.\u001b[39mT)\n\u001b[1;32m    178\u001b[0m \u001b[38;5;28;01mreturn\u001b[39;00m data_sum\u001b[38;5;241m/\u001b[39mnum_samples, val_data_sum\u001b[38;5;241m/\u001b[39mnum_samples, data_sum \u001b[38;5;241m/\u001b[39m val_data_sum\n",
      "File \u001b[0;32m~/repos/restricted-boltzmann-machine/RestrictedBoltzmannMachine.py:185\u001b[0m, in \u001b[0;36mRestrictedBoltzmannMachine.free_energy\u001b[0;34m(self, v)\u001b[0m\n\u001b[1;32m    183\u001b[0m \u001b[38;5;28;01mdef\u001b[39;00m \u001b[38;5;21mx_j\u001b[39m(j: \u001b[38;5;28mint\u001b[39m) \u001b[38;5;241m-\u001b[39m\u001b[38;5;241m>\u001b[39m \u001b[38;5;28mfloat\u001b[39m:\n\u001b[1;32m    184\u001b[0m     \u001b[38;5;28;01mreturn\u001b[39;00m \u001b[38;5;28mself\u001b[39m\u001b[38;5;241m.\u001b[39mhidden_biases[j] \u001b[38;5;241m+\u001b[39m np\u001b[38;5;241m.\u001b[39msum(v\u001b[38;5;241m.\u001b[39mT \u001b[38;5;241m@\u001b[39m \u001b[38;5;28mself\u001b[39m\u001b[38;5;241m.\u001b[39mweights)\n\u001b[0;32m--> 185\u001b[0m \u001b[38;5;28;01mreturn\u001b[39;00m \u001b[38;5;241m-\u001b[39m np\u001b[38;5;241m.\u001b[39msum(v\u001b[38;5;241m.\u001b[39mT \u001b[38;5;241m@\u001b[39m \u001b[38;5;28mself\u001b[39m\u001b[38;5;241m.\u001b[39mvisible_biases) \u001b[38;5;241m-\u001b[39m np\u001b[38;5;241m.\u001b[39msum(np\u001b[38;5;241m.\u001b[39mlog(\u001b[38;5;241m1\u001b[39m \u001b[38;5;241m+\u001b[39m np\u001b[38;5;241m.\u001b[39mexp(np\u001b[38;5;241m.\u001b[39mmatrix(\u001b[38;5;28;43mlist\u001b[39;49m\u001b[43m(\u001b[49m\u001b[38;5;28;43mmap\u001b[39;49m\u001b[43m(\u001b[49m\u001b[43mx_j\u001b[49m\u001b[43m,\u001b[49m\u001b[43m \u001b[49m\u001b[38;5;28;43mrange\u001b[39;49m\u001b[43m(\u001b[49m\u001b[38;5;241;43m0\u001b[39;49m\u001b[43m,\u001b[49m\u001b[43m \u001b[49m\u001b[38;5;28;43mself\u001b[39;49m\u001b[38;5;241;43m.\u001b[39;49m\u001b[43mhidden_biases\u001b[49m\u001b[38;5;241;43m.\u001b[39;49m\u001b[43mshape\u001b[49m\u001b[43m[\u001b[49m\u001b[38;5;241;43m0\u001b[39;49m\u001b[43m]\u001b[49m\u001b[43m)\u001b[49m\u001b[43m)\u001b[49m\u001b[43m)\u001b[49m))))\n",
      "File \u001b[0;32m~/repos/restricted-boltzmann-machine/RestrictedBoltzmannMachine.py:184\u001b[0m, in \u001b[0;36mRestrictedBoltzmannMachine.free_energy.<locals>.x_j\u001b[0;34m(j)\u001b[0m\n\u001b[1;32m    183\u001b[0m \u001b[38;5;28;01mdef\u001b[39;00m \u001b[38;5;21mx_j\u001b[39m(j: \u001b[38;5;28mint\u001b[39m) \u001b[38;5;241m-\u001b[39m\u001b[38;5;241m>\u001b[39m \u001b[38;5;28mfloat\u001b[39m:\n\u001b[0;32m--> 184\u001b[0m     \u001b[38;5;28;01mreturn\u001b[39;00m \u001b[38;5;28mself\u001b[39m\u001b[38;5;241m.\u001b[39mhidden_biases[j] \u001b[38;5;241m+\u001b[39m np\u001b[38;5;241m.\u001b[39msum(\u001b[43mv\u001b[49m\u001b[38;5;241;43m.\u001b[39;49m\u001b[43mT\u001b[49m\u001b[43m \u001b[49m\u001b[38;5;241;43m@\u001b[39;49m\u001b[43m \u001b[49m\u001b[38;5;28;43mself\u001b[39;49m\u001b[38;5;241;43m.\u001b[39;49m\u001b[43mweights\u001b[49m)\n",
      "File \u001b[0;32m/Library/Frameworks/Python.framework/Versions/3.10/lib/python3.10/site-packages/numpy/matrixlib/defmatrix.py:167\u001b[0m, in \u001b[0;36mmatrix.__array_finalize__\u001b[0;34m(self, obj)\u001b[0m\n\u001b[1;32m    162\u001b[0m     ret \u001b[38;5;241m=\u001b[39m N\u001b[38;5;241m.\u001b[39mndarray\u001b[38;5;241m.\u001b[39m\u001b[38;5;21m__new__\u001b[39m(subtype, shape, arr\u001b[38;5;241m.\u001b[39mdtype,\n\u001b[1;32m    163\u001b[0m                             buffer\u001b[38;5;241m=\u001b[39marr,\n\u001b[1;32m    164\u001b[0m                             order\u001b[38;5;241m=\u001b[39morder)\n\u001b[1;32m    165\u001b[0m     \u001b[38;5;28;01mreturn\u001b[39;00m ret\n\u001b[0;32m--> 167\u001b[0m \u001b[38;5;28;01mdef\u001b[39;00m \u001b[38;5;21m__array_finalize__\u001b[39m(\u001b[38;5;28mself\u001b[39m, obj):\n\u001b[1;32m    168\u001b[0m     \u001b[38;5;28mself\u001b[39m\u001b[38;5;241m.\u001b[39m_getitem \u001b[38;5;241m=\u001b[39m \u001b[38;5;28;01mFalse\u001b[39;00m\n\u001b[1;32m    169\u001b[0m     \u001b[38;5;28;01mif\u001b[39;00m (\u001b[38;5;28misinstance\u001b[39m(obj, matrix) \u001b[38;5;129;01mand\u001b[39;00m obj\u001b[38;5;241m.\u001b[39m_getitem): \u001b[38;5;28;01mreturn\u001b[39;00m\n",
      "\u001b[0;31mKeyboardInterrupt\u001b[0m: "
     ]
    }
   ],
   "source": [
    "my_rbm.contrastive_divergence(data, validation_data, num_epochs=30)"
   ]
  },
  {
   "cell_type": "code",
   "execution_count": 6,
   "metadata": {},
   "outputs": [
    {
     "data": {
      "application/vnd.jupyter.widget-view+json": {
       "model_id": "5ee27a644e4e4daaa390fa83678d644e",
       "version_major": 2,
       "version_minor": 0
      },
      "text/plain": [
       "VBox(children=(Label(value='0.001 MB of 0.001 MB uploaded\\r'), FloatProgress(value=1.0, max=1.0)))"
      ]
     },
     "metadata": {},
     "output_type": "display_data"
    },
    {
     "name": "stderr",
     "output_type": "stream",
     "text": [
      "\u001b[34m\u001b[1mwandb\u001b[0m: \u001b[32m\u001b[41mERROR\u001b[0m Problem finishing run\n",
      "Traceback (most recent call last):\n",
      "  File \"/Library/Frameworks/Python.framework/Versions/3.10/lib/python3.10/site-packages/wandb/sdk/wandb_run.py\", line 2313, in _atexit_cleanup\n",
      "    self._on_finish()\n",
      "  File \"/Library/Frameworks/Python.framework/Versions/3.10/lib/python3.10/site-packages/wandb/sdk/wandb_run.py\", line 2567, in _on_finish\n",
      "    self._footer_file_pusher_status_info(\n",
      "  File \"/Library/Frameworks/Python.framework/Versions/3.10/lib/python3.10/site-packages/wandb/sdk/wandb_run.py\", line 3749, in _footer_file_pusher_status_info\n",
      "    Run._footer_single_run_file_pusher_status_info(\n",
      "  File \"/Library/Frameworks/Python.framework/Versions/3.10/lib/python3.10/site-packages/wandb/sdk/wandb_run.py\", line 3802, in _footer_single_run_file_pusher_status_info\n",
      "    printer.progress_close()\n",
      "  File \"/Library/Frameworks/Python.framework/Versions/3.10/lib/python3.10/site-packages/wandb/sdk/lib/printer.py\", line 292, in progress_close\n",
      "    self._progress.close()\n",
      "  File \"/Library/Frameworks/Python.framework/Versions/3.10/lib/python3.10/site-packages/wandb/sdk/lib/ipython.py\", line 128, in close\n",
      "    self._widget.close()\n",
      "  File \"/Users/lucasericsson/Library/Python/3.10/lib/python/site-packages/ipywidgets/widgets/widget.py\", line 500, in close\n",
      "    self.comm.close()\n",
      "  File \"/Users/lucasericsson/Library/Python/3.10/lib/python/site-packages/comm/base_comm.py\", line 109, in close\n",
      "    comm.get_comm_manager().unregister_comm(self)\n",
      "  File \"/Users/lucasericsson/Library/Python/3.10/lib/python/site-packages/comm/base_comm.py\", line 199, in unregister_comm\n",
      "    comm = self.comms.pop(comm.comm_id)\n",
      "KeyError: '5ee27a644e4e4daaa390fa83678d644e'\n"
     ]
    }
   ],
   "source": [
    "wandb.finish()"
   ]
  },
  {
   "cell_type": "code",
   "execution_count": 3,
   "metadata": {},
   "outputs": [
    {
     "ename": "NameError",
     "evalue": "name 'data' is not defined",
     "output_type": "error",
     "traceback": [
      "\u001b[0;31m---------------------------------------------------------------------------\u001b[0m",
      "\u001b[0;31mNameError\u001b[0m                                 Traceback (most recent call last)",
      "Cell \u001b[0;32mIn[3], line 7\u001b[0m\n\u001b[1;32m      3\u001b[0m     data2 \u001b[38;5;241m=\u001b[39m np\u001b[38;5;241m.\u001b[39mfrombuffer(f\u001b[38;5;241m.\u001b[39mread(), np\u001b[38;5;241m.\u001b[39muint8, offset\u001b[38;5;241m=\u001b[39m\u001b[38;5;241m16\u001b[39m)\u001b[38;5;241m.\u001b[39mreshape(\u001b[38;5;241m-\u001b[39m\u001b[38;5;241m1\u001b[39m,\u001b[38;5;241m28\u001b[39m\u001b[38;5;241m*\u001b[39m\u001b[38;5;241m28\u001b[39m)\n\u001b[1;32m      5\u001b[0m data2 \u001b[38;5;241m=\u001b[39m (data2 \u001b[38;5;241m>\u001b[39m \u001b[38;5;241m128\u001b[39m)\u001b[38;5;241m.\u001b[39mastype(np\u001b[38;5;241m.\u001b[39muint8)\n\u001b[0;32m----> 7\u001b[0m myin \u001b[38;5;241m=\u001b[39m \u001b[43mdata\u001b[49m[np\u001b[38;5;241m.\u001b[39mrandom\u001b[38;5;241m.\u001b[39mrandint(\u001b[38;5;241m0\u001b[39m,\u001b[38;5;241m60000\u001b[39m)]\n\u001b[1;32m      8\u001b[0m inimg \u001b[38;5;241m=\u001b[39m myin\u001b[38;5;241m.\u001b[39mreshape(\u001b[38;5;241m28\u001b[39m,\u001b[38;5;241m28\u001b[39m)\u001b[38;5;241m.\u001b[39mcopy()\n\u001b[1;32m      9\u001b[0m plt\u001b[38;5;241m.\u001b[39mimshow(inimg, cmap\u001b[38;5;241m=\u001b[39m\u001b[38;5;124m'\u001b[39m\u001b[38;5;124mgray\u001b[39m\u001b[38;5;124m'\u001b[39m)\n",
      "\u001b[0;31mNameError\u001b[0m: name 'data' is not defined"
     ]
    }
   ],
   "source": [
    "data2 = None\n",
    "with open(\"t10k-images.idx3-ubyte\", \"rb\") as f:\n",
    "    data2 = np.frombuffer(f.read(), np.uint8, offset=16).reshape(-1,28*28)\n",
    "\n",
    "data2 = (data2 > 128).astype(np.uint8)\n",
    "\n",
    "myin = data[np.random.randint(0,60000)]\n",
    "inimg = myin.reshape(28,28).copy()\n",
    "plt.imshow(inimg, cmap='gray')\n",
    "plt.show()\n",
    "inimg[14:, :] = 0\n",
    "plt.imshow(inimg, cmap='gray')\n",
    "plt.show()\n",
    "\n",
    "out = my_rbm.conditional_gibbs_sample(np.matrix(inimg.reshape(1, 28*28)).T, 1)\n",
    "for i in range(0, 100):\n",
    "    out += my_rbm.conditional_gibbs_sample(np.matrix(inimg.reshape(1, 28*28)).T, 100)\n",
    "\n",
    "out = out.astype(np.uint8)\n",
    "img = out.reshape(28,28) # First image in the training set.\n",
    "plt.imshow(img,cmap='gray')\n",
    "plt.show() # Show the image"
   ]
  },
  {
   "cell_type": "code",
   "execution_count": 2,
   "metadata": {},
   "outputs": [
    {
     "ename": "NameError",
     "evalue": "name 'data' is not defined",
     "output_type": "error",
     "traceback": [
      "\u001b[0;31m---------------------------------------------------------------------------\u001b[0m",
      "\u001b[0;31mNameError\u001b[0m                                 Traceback (most recent call last)",
      "Cell \u001b[0;32mIn[2], line 8\u001b[0m\n\u001b[1;32m      4\u001b[0m     data2 \u001b[38;5;241m=\u001b[39m np\u001b[38;5;241m.\u001b[39mfrombuffer(f\u001b[38;5;241m.\u001b[39mread(), np\u001b[38;5;241m.\u001b[39muint8, offset\u001b[38;5;241m=\u001b[39m\u001b[38;5;241m16\u001b[39m)\u001b[38;5;241m.\u001b[39mreshape(\u001b[38;5;241m-\u001b[39m\u001b[38;5;241m1\u001b[39m,\u001b[38;5;241m28\u001b[39m\u001b[38;5;241m*\u001b[39m\u001b[38;5;241m28\u001b[39m)\n\u001b[1;32m      6\u001b[0m data2 \u001b[38;5;241m=\u001b[39m (data2 \u001b[38;5;241m>\u001b[39m \u001b[38;5;241m128\u001b[39m)\u001b[38;5;241m.\u001b[39mastype(np\u001b[38;5;241m.\u001b[39muint8)\n\u001b[0;32m----> 8\u001b[0m myin \u001b[38;5;241m=\u001b[39m \u001b[43mdata\u001b[49m[np\u001b[38;5;241m.\u001b[39mrandom\u001b[38;5;241m.\u001b[39mrandint(\u001b[38;5;241m0\u001b[39m,\u001b[38;5;241m60000\u001b[39m)]\n\u001b[1;32m      9\u001b[0m inimg \u001b[38;5;241m=\u001b[39m myin\u001b[38;5;241m.\u001b[39mreshape(\u001b[38;5;241m28\u001b[39m,\u001b[38;5;241m28\u001b[39m)\u001b[38;5;241m.\u001b[39mcopy()\n\u001b[1;32m     10\u001b[0m plt\u001b[38;5;241m.\u001b[39mimshow(inimg, cmap\u001b[38;5;241m=\u001b[39m\u001b[38;5;124m'\u001b[39m\u001b[38;5;124mgray\u001b[39m\u001b[38;5;124m'\u001b[39m)\n",
      "\u001b[0;31mNameError\u001b[0m: name 'data' is not defined"
     ]
    }
   ],
   "source": [
    "data2 = None\n",
    "with open(\"t10k-images.idx3-ubyte\", \"rb\") as f:\n",
    "    data2 = np.frombuffer(f.read(), np.uint8, offset=16).reshape(-1,28*28)\n",
    "\n",
    "data2 = (data2 > 128).astype(np.uint8)\n",
    "\n",
    "myin = data[np.random.randint(0,60000)]\n",
    "inimg = myin.reshape(28,28).copy()\n",
    "plt.imshow(inimg, cmap='gray')\n",
    "plt.show()\n",
    "\n",
    "noise = np.random.rand(28, 28) < .10\n",
    "inimg = inimg ^ noise\n",
    "plt.imshow(inimg, cmap='gray')\n",
    "plt.show()\n",
    "\n",
    "out = my_rbm.gibbs_sample_v(np.matrix(inimg.reshape(1, 28*28)).T, 1)\n",
    "for i in range(0, 100):\n",
    "    out += my_rbm.gibbs_sample_v(np.matrix(inimg.reshape(1, 28*28)).T, 100)\n",
    "\n",
    "out = out.astype(np.uint8)\n",
    "img = out.reshape(28,28) # First image in the training set.\n",
    "plt.imshow(img,cmap='gray')\n",
    "plt.show() # Show the image"
   ]
  },
  {
   "cell_type": "code",
   "execution_count": null,
   "metadata": {},
   "outputs": [],
   "source": []
  },
  {
   "cell_type": "code",
   "execution_count": null,
   "metadata": {},
   "outputs": [],
   "source": []
  }
 ],
 "metadata": {
  "kernelspec": {
   "display_name": "Python 3",
   "language": "python",
   "name": "python3"
  },
  "language_info": {
   "codemirror_mode": {
    "name": "ipython",
    "version": 3
   },
   "file_extension": ".py",
   "mimetype": "text/x-python",
   "name": "python",
   "nbconvert_exporter": "python",
   "pygments_lexer": "ipython3",
   "version": "3.10.6"
  }
 },
 "nbformat": 4,
 "nbformat_minor": 2
}
