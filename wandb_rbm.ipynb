{
 "cells": [
  {
   "cell_type": "code",
   "execution_count": 1,
   "metadata": {},
   "outputs": [],
   "source": [
    "import numpy as np\n",
    "import matplotlib.pyplot as plt\n",
    "import RestrictedBoltzmannMachine as RBM\n",
    "import wandb"
   ]
  },
  {
   "cell_type": "code",
   "execution_count": 2,
   "metadata": {},
   "outputs": [],
   "source": [
    "data = None\n",
    "with open(\"train-images.idx3-ubyte\", \"rb\") as f:\n",
    "    data = np.frombuffer(f.read(), np.uint8, offset=16).reshape(-1,28*28)\n",
    "\n",
    "data = (data > 128).astype(np.uint8)"
   ]
  },
  {
   "cell_type": "code",
   "execution_count": 3,
   "metadata": {},
   "outputs": [
    {
     "name": "stderr",
     "output_type": "stream",
     "text": [
      "Failed to detect the name of this notebook, you can set it manually with the WANDB_NOTEBOOK_NAME environment variable to enable code saving.\n",
      "\u001b[34m\u001b[1mwandb\u001b[0m: Currently logged in as: \u001b[33mlucasericsson\u001b[0m (\u001b[33mlucasericsson222\u001b[0m). Use \u001b[1m`wandb login --relogin`\u001b[0m to force relogin\n"
     ]
    },
    {
     "data": {
      "text/html": [
       "Tracking run with wandb version 0.16.6"
      ],
      "text/plain": [
       "<IPython.core.display.HTML object>"
      ]
     },
     "metadata": {},
     "output_type": "display_data"
    },
    {
     "data": {
      "text/html": [
       "Run data is saved locally in <code>/Users/lucasericsson/repos/research/week1/wandb/run-20240408_165253-1jrbu07f</code>"
      ],
      "text/plain": [
       "<IPython.core.display.HTML object>"
      ]
     },
     "metadata": {},
     "output_type": "display_data"
    },
    {
     "data": {
      "text/html": [
       "Syncing run <strong><a href='https://wandb.ai/lucasericsson222/restricted-boltzmann-machine/runs/1jrbu07f' target=\"_blank\">crisp-bush-14</a></strong> to <a href='https://wandb.ai/lucasericsson222/restricted-boltzmann-machine' target=\"_blank\">Weights & Biases</a> (<a href='https://wandb.me/run' target=\"_blank\">docs</a>)<br/>"
      ],
      "text/plain": [
       "<IPython.core.display.HTML object>"
      ]
     },
     "metadata": {},
     "output_type": "display_data"
    },
    {
     "data": {
      "text/html": [
       " View project at <a href='https://wandb.ai/lucasericsson222/restricted-boltzmann-machine' target=\"_blank\">https://wandb.ai/lucasericsson222/restricted-boltzmann-machine</a>"
      ],
      "text/plain": [
       "<IPython.core.display.HTML object>"
      ]
     },
     "metadata": {},
     "output_type": "display_data"
    },
    {
     "data": {
      "text/html": [
       " View run at <a href='https://wandb.ai/lucasericsson222/restricted-boltzmann-machine/runs/1jrbu07f' target=\"_blank\">https://wandb.ai/lucasericsson222/restricted-boltzmann-machine/runs/1jrbu07f</a>"
      ],
      "text/plain": [
       "<IPython.core.display.HTML object>"
      ]
     },
     "metadata": {},
     "output_type": "display_data"
    },
    {
     "data": {
      "text/html": [
       "<button onClick=\"this.nextSibling.style.display='block';this.style.display='none';\">Display W&B run</button><iframe src='https://wandb.ai/lucasericsson222/restricted-boltzmann-machine/runs/1jrbu07f?jupyter=true' style='border:none;width:100%;height:420px;display:none;'></iframe>"
      ],
      "text/plain": [
       "<wandb.sdk.wandb_run.Run at 0x163d25e70>"
      ]
     },
     "execution_count": 3,
     "metadata": {},
     "output_type": "execute_result"
    }
   ],
   "source": [
    "wandb.init(\n",
    "    project=\"restricted-boltzmann-machine\",\n",
    "\n",
    "    config={\n",
    "        \"learning_rate\": 0.01,\n",
    "        \"architecture\": \"RBM\",\n",
    "        \"dataset\": \"MNIST\",\n",
    "        \"epochs\": 10,\n",
    "    }\n",
    ")"
   ]
  },
  {
   "cell_type": "code",
   "execution_count": 4,
   "metadata": {},
   "outputs": [],
   "source": [
    "my_rbm = RBM.RestrictedBoltzmannMachine(28*28, 28*28)"
   ]
  },
  {
   "cell_type": "code",
   "execution_count": 5,
   "metadata": {},
   "outputs": [
    {
     "name": "stdout",
     "output_type": "stream",
     "text": [
      "(60000, 784)\n",
      "Epoch: 0\n",
      "current_weight_diff: 11.77866632147378\n",
      "average_reconstruction_error: 13.200255102040817\n",
      "Epoch: 1\n",
      "current_weight_diff: 3.200974307613031\n",
      "average_reconstruction_error: 11.553571428571429\n",
      "Epoch: 2\n",
      "current_weight_diff: 2.3218185926984334\n",
      "average_reconstruction_error: 10.371173469387756\n",
      "Epoch: 3\n",
      "current_weight_diff: 1.3089808847781184\n",
      "average_reconstruction_error: 10.741071428571429\n",
      "Epoch: 4\n",
      "current_weight_diff: 1.010831623257575\n",
      "average_reconstruction_error: 11.158163265306122\n",
      "Epoch: 5\n",
      "current_weight_diff: 0.7074581399201044\n",
      "average_reconstruction_error: 8.353316326530612\n",
      "Epoch: 6\n",
      "current_weight_diff: 0.6584596788625307\n",
      "average_reconstruction_error: 7.9145408163265305\n",
      "Epoch: 7\n",
      "current_weight_diff: 0.9565150013798585\n",
      "average_reconstruction_error: 9.059948979591837\n",
      "Epoch: 8\n",
      "current_weight_diff: 4.247094506043505\n",
      "average_reconstruction_error: 9.081632653061224\n",
      "Epoch: 9\n",
      "current_weight_diff: 0.44571214421616173\n",
      "average_reconstruction_error: 7.258928571428571\n"
     ]
    }
   ],
   "source": [
    "my_rbm.contrastive_divergence(data)"
   ]
  },
  {
   "cell_type": "code",
   "execution_count": 6,
   "metadata": {},
   "outputs": [
    {
     "ename": "KeyboardInterrupt",
     "evalue": "",
     "output_type": "error",
     "traceback": [
      "\u001b[0;31m---------------------------------------------------------------------------\u001b[0m",
      "\u001b[0;31mKeyboardInterrupt\u001b[0m                         Traceback (most recent call last)",
      "Cell \u001b[0;32mIn[6], line 2\u001b[0m\n\u001b[1;32m      1\u001b[0m \u001b[38;5;28;01mfor\u001b[39;00m i \u001b[38;5;129;01min\u001b[39;00m \u001b[38;5;28mrange\u001b[39m(\u001b[38;5;241m0\u001b[39m,\u001b[38;5;241m60000\u001b[39m):\n\u001b[0;32m----> 2\u001b[0m     \u001b[43mmy_rbm\u001b[49m\u001b[38;5;241;43m.\u001b[39;49m\u001b[43mfree_energy\u001b[49m\u001b[43m(\u001b[49m\u001b[43mnp\u001b[49m\u001b[38;5;241;43m.\u001b[39;49m\u001b[43mmatrix\u001b[49m\u001b[43m(\u001b[49m\u001b[43mdata\u001b[49m\u001b[43m[\u001b[49m\u001b[38;5;241;43m3\u001b[39;49m\u001b[43m]\u001b[49m\u001b[43m)\u001b[49m\u001b[38;5;241;43m.\u001b[39;49m\u001b[43mT\u001b[49m\u001b[43m)\u001b[49m\n",
      "File \u001b[0;32m~/repos/research/week1/RestrictedBoltzmannMachine.py:159\u001b[0m, in \u001b[0;36mRestrictedBoltzmannMachine.free_energy\u001b[0;34m(self, v)\u001b[0m\n\u001b[1;32m    157\u001b[0m \u001b[38;5;28;01mdef\u001b[39;00m \u001b[38;5;21mx_j\u001b[39m(j: \u001b[38;5;28mint\u001b[39m) \u001b[38;5;241m-\u001b[39m\u001b[38;5;241m>\u001b[39m \u001b[38;5;28mfloat\u001b[39m:\n\u001b[1;32m    158\u001b[0m     \u001b[38;5;28;01mreturn\u001b[39;00m \u001b[38;5;28mself\u001b[39m\u001b[38;5;241m.\u001b[39mhidden_biases[j] \u001b[38;5;241m+\u001b[39m np\u001b[38;5;241m.\u001b[39msum(v\u001b[38;5;241m.\u001b[39mT \u001b[38;5;241m@\u001b[39m \u001b[38;5;28mself\u001b[39m\u001b[38;5;241m.\u001b[39mweights)\n\u001b[0;32m--> 159\u001b[0m \u001b[38;5;28;01mreturn\u001b[39;00m \u001b[38;5;241m-\u001b[39m np\u001b[38;5;241m.\u001b[39msum(v\u001b[38;5;241m.\u001b[39mT \u001b[38;5;241m@\u001b[39m \u001b[38;5;28mself\u001b[39m\u001b[38;5;241m.\u001b[39mvisible_biases) \u001b[38;5;241m-\u001b[39m np\u001b[38;5;241m.\u001b[39msum(np\u001b[38;5;241m.\u001b[39mlog(\u001b[38;5;241m1\u001b[39m \u001b[38;5;241m+\u001b[39m np\u001b[38;5;241m.\u001b[39mexp(np\u001b[38;5;241m.\u001b[39mmatrix(\u001b[38;5;28;43mlist\u001b[39;49m\u001b[43m(\u001b[49m\u001b[38;5;28;43mmap\u001b[39;49m\u001b[43m(\u001b[49m\u001b[43mx_j\u001b[49m\u001b[43m,\u001b[49m\u001b[43m \u001b[49m\u001b[38;5;28;43mrange\u001b[39;49m\u001b[43m(\u001b[49m\u001b[38;5;241;43m0\u001b[39;49m\u001b[43m,\u001b[49m\u001b[43m \u001b[49m\u001b[38;5;28;43mself\u001b[39;49m\u001b[38;5;241;43m.\u001b[39;49m\u001b[43mhidden_biases\u001b[49m\u001b[38;5;241;43m.\u001b[39;49m\u001b[43mshape\u001b[49m\u001b[43m[\u001b[49m\u001b[38;5;241;43m0\u001b[39;49m\u001b[43m]\u001b[49m\u001b[43m)\u001b[49m\u001b[43m)\u001b[49m\u001b[43m)\u001b[49m))))\n",
      "File \u001b[0;32m~/repos/research/week1/RestrictedBoltzmannMachine.py:158\u001b[0m, in \u001b[0;36mRestrictedBoltzmannMachine.free_energy.<locals>.x_j\u001b[0;34m(j)\u001b[0m\n\u001b[1;32m    157\u001b[0m \u001b[38;5;28;01mdef\u001b[39;00m \u001b[38;5;21mx_j\u001b[39m(j: \u001b[38;5;28mint\u001b[39m) \u001b[38;5;241m-\u001b[39m\u001b[38;5;241m>\u001b[39m \u001b[38;5;28mfloat\u001b[39m:\n\u001b[0;32m--> 158\u001b[0m     \u001b[38;5;28;01mreturn\u001b[39;00m \u001b[38;5;28mself\u001b[39m\u001b[38;5;241m.\u001b[39mhidden_biases[j] \u001b[38;5;241m+\u001b[39m np\u001b[38;5;241m.\u001b[39msum(\u001b[43mv\u001b[49m\u001b[38;5;241;43m.\u001b[39;49m\u001b[43mT\u001b[49m\u001b[43m \u001b[49m\u001b[38;5;241;43m@\u001b[39;49m\u001b[43m \u001b[49m\u001b[38;5;28;43mself\u001b[39;49m\u001b[38;5;241;43m.\u001b[39;49m\u001b[43mweights\u001b[49m)\n",
      "File \u001b[0;32m/Library/Frameworks/Python.framework/Versions/3.10/lib/python3.10/site-packages/numpy/matrixlib/defmatrix.py:167\u001b[0m, in \u001b[0;36mmatrix.__array_finalize__\u001b[0;34m(self, obj)\u001b[0m\n\u001b[1;32m    162\u001b[0m     ret \u001b[38;5;241m=\u001b[39m N\u001b[38;5;241m.\u001b[39mndarray\u001b[38;5;241m.\u001b[39m\u001b[38;5;21m__new__\u001b[39m(subtype, shape, arr\u001b[38;5;241m.\u001b[39mdtype,\n\u001b[1;32m    163\u001b[0m                             buffer\u001b[38;5;241m=\u001b[39marr,\n\u001b[1;32m    164\u001b[0m                             order\u001b[38;5;241m=\u001b[39morder)\n\u001b[1;32m    165\u001b[0m     \u001b[38;5;28;01mreturn\u001b[39;00m ret\n\u001b[0;32m--> 167\u001b[0m \u001b[38;5;28;01mdef\u001b[39;00m \u001b[38;5;21m__array_finalize__\u001b[39m(\u001b[38;5;28mself\u001b[39m, obj):\n\u001b[1;32m    168\u001b[0m     \u001b[38;5;28mself\u001b[39m\u001b[38;5;241m.\u001b[39m_getitem \u001b[38;5;241m=\u001b[39m \u001b[38;5;28;01mFalse\u001b[39;00m\n\u001b[1;32m    169\u001b[0m     \u001b[38;5;28;01mif\u001b[39;00m (\u001b[38;5;28misinstance\u001b[39m(obj, matrix) \u001b[38;5;129;01mand\u001b[39;00m obj\u001b[38;5;241m.\u001b[39m_getitem): \u001b[38;5;28;01mreturn\u001b[39;00m\n",
      "\u001b[0;31mKeyboardInterrupt\u001b[0m: "
     ]
    }
   ],
   "source": [
    "for i in range(0,60000):\n",
    "    my_rbm.free_energy(np.matrix(data[3]).T)"
   ]
  },
  {
   "cell_type": "code",
   "execution_count": 7,
   "metadata": {},
   "outputs": [
    {
     "data": {
      "application/vnd.jupyter.widget-view+json": {
       "model_id": "c5563e5bc6ef4e60b0dce05ecb7064af",
       "version_major": 2,
       "version_minor": 0
      },
      "text/plain": [
       "VBox(children=(Label(value='0.001 MB of 0.001 MB uploaded\\r'), FloatProgress(value=1.0, max=1.0)))"
      ]
     },
     "metadata": {},
     "output_type": "display_data"
    },
    {
     "name": "stderr",
     "output_type": "stream",
     "text": [
      "\u001b[34m\u001b[1mwandb\u001b[0m: \u001b[32m\u001b[41mERROR\u001b[0m Problem finishing run\n",
      "Traceback (most recent call last):\n",
      "  File \"/Library/Frameworks/Python.framework/Versions/3.10/lib/python3.10/site-packages/wandb/sdk/wandb_run.py\", line 2313, in _atexit_cleanup\n",
      "    self._on_finish()\n",
      "  File \"/Library/Frameworks/Python.framework/Versions/3.10/lib/python3.10/site-packages/wandb/sdk/wandb_run.py\", line 2567, in _on_finish\n",
      "    self._footer_file_pusher_status_info(\n",
      "  File \"/Library/Frameworks/Python.framework/Versions/3.10/lib/python3.10/site-packages/wandb/sdk/wandb_run.py\", line 3749, in _footer_file_pusher_status_info\n",
      "    Run._footer_single_run_file_pusher_status_info(\n",
      "  File \"/Library/Frameworks/Python.framework/Versions/3.10/lib/python3.10/site-packages/wandb/sdk/wandb_run.py\", line 3802, in _footer_single_run_file_pusher_status_info\n",
      "    printer.progress_close()\n",
      "  File \"/Library/Frameworks/Python.framework/Versions/3.10/lib/python3.10/site-packages/wandb/sdk/lib/printer.py\", line 292, in progress_close\n",
      "    self._progress.close()\n",
      "  File \"/Library/Frameworks/Python.framework/Versions/3.10/lib/python3.10/site-packages/wandb/sdk/lib/ipython.py\", line 128, in close\n",
      "    self._widget.close()\n",
      "  File \"/Users/lucasericsson/Library/Python/3.10/lib/python/site-packages/ipywidgets/widgets/widget.py\", line 500, in close\n",
      "    self.comm.close()\n",
      "  File \"/Users/lucasericsson/Library/Python/3.10/lib/python/site-packages/comm/base_comm.py\", line 109, in close\n",
      "    comm.get_comm_manager().unregister_comm(self)\n",
      "  File \"/Users/lucasericsson/Library/Python/3.10/lib/python/site-packages/comm/base_comm.py\", line 199, in unregister_comm\n",
      "    comm = self.comms.pop(comm.comm_id)\n",
      "KeyError: 'c5563e5bc6ef4e60b0dce05ecb7064af'\n"
     ]
    }
   ],
   "source": [
    "wandb.finish()"
   ]
  }
 ],
 "metadata": {
  "kernelspec": {
   "display_name": "Python 3",
   "language": "python",
   "name": "python3"
  },
  "language_info": {
   "codemirror_mode": {
    "name": "ipython",
    "version": 3
   },
   "file_extension": ".py",
   "mimetype": "text/x-python",
   "name": "python",
   "nbconvert_exporter": "python",
   "pygments_lexer": "ipython3",
   "version": "3.10.6"
  }
 },
 "nbformat": 4,
 "nbformat_minor": 2
}
