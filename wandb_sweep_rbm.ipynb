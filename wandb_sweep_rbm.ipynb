{
 "cells": [
  {
   "cell_type": "code",
   "execution_count": 1,
   "metadata": {},
   "outputs": [
    {
     "name": "stderr",
     "output_type": "stream",
     "text": [
      "Failed to detect the name of this notebook, you can set it manually with the WANDB_NOTEBOOK_NAME environment variable to enable code saving.\n",
      "\u001b[34m\u001b[1mwandb\u001b[0m: Currently logged in as: \u001b[33mlucasericsson\u001b[0m (\u001b[33mlucasericsson222\u001b[0m). Use \u001b[1m`wandb login --relogin`\u001b[0m to force relogin\n"
     ]
    },
    {
     "data": {
      "text/plain": [
       "True"
      ]
     },
     "execution_count": 1,
     "metadata": {},
     "output_type": "execute_result"
    }
   ],
   "source": [
    "import wandb\n",
    "\n",
    "wandb.login()"
   ]
  },
  {
   "cell_type": "code",
   "execution_count": 2,
   "metadata": {},
   "outputs": [
    {
     "name": "stdout",
     "output_type": "stream",
     "text": [
      "Create sweep with ID: r1b5058x\n",
      "Sweep URL: https://wandb.ai/lucasericsson222/restricted_boltzmann_machine_sweep/sweeps/r1b5058x\n"
     ]
    },
    {
     "name": "stderr",
     "output_type": "stream",
     "text": [
      "\u001b[34m\u001b[1mwandb\u001b[0m: Agent Starting Run: nnz5svve with config:\n",
      "\u001b[34m\u001b[1mwandb\u001b[0m: \tepochs: 30\n",
      "\u001b[34m\u001b[1mwandb\u001b[0m: \thidden_units: 50\n",
      "\u001b[34m\u001b[1mwandb\u001b[0m: \tk: 5\n",
      "\u001b[34m\u001b[1mwandb\u001b[0m: \tminibatch: 100\n",
      "Failed to detect the name of this notebook, you can set it manually with the WANDB_NOTEBOOK_NAME environment variable to enable code saving.\n",
      "\u001b[34m\u001b[1mwandb\u001b[0m: \u001b[33mWARNING\u001b[0m Ignored wandb.init() arg project when running a sweep.\n"
     ]
    },
    {
     "data": {
      "text/html": [
       "Tracking run with wandb version 0.16.6"
      ],
      "text/plain": [
       "<IPython.core.display.HTML object>"
      ]
     },
     "metadata": {},
     "output_type": "display_data"
    },
    {
     "data": {
      "text/html": [
       "Run data is saved locally in <code>/Users/lucasericsson/repos/restricted-boltzmann-machine/wandb/run-20240408_232154-nnz5svve</code>"
      ],
      "text/plain": [
       "<IPython.core.display.HTML object>"
      ]
     },
     "metadata": {},
     "output_type": "display_data"
    },
    {
     "data": {
      "text/html": [
       "Syncing run <strong><a href='https://wandb.ai/lucasericsson222/restricted_boltzmann_machine_sweep/runs/nnz5svve' target=\"_blank\">twilight-sweep-1</a></strong> to <a href='https://wandb.ai/lucasericsson222/restricted_boltzmann_machine_sweep' target=\"_blank\">Weights & Biases</a> (<a href='https://wandb.me/run' target=\"_blank\">docs</a>)<br/>Sweep page: <a href='https://wandb.ai/lucasericsson222/restricted_boltzmann_machine_sweep/sweeps/r1b5058x' target=\"_blank\">https://wandb.ai/lucasericsson222/restricted_boltzmann_machine_sweep/sweeps/r1b5058x</a>"
      ],
      "text/plain": [
       "<IPython.core.display.HTML object>"
      ]
     },
     "metadata": {},
     "output_type": "display_data"
    },
    {
     "data": {
      "text/html": [
       " View project at <a href='https://wandb.ai/lucasericsson222/restricted_boltzmann_machine_sweep' target=\"_blank\">https://wandb.ai/lucasericsson222/restricted_boltzmann_machine_sweep</a>"
      ],
      "text/plain": [
       "<IPython.core.display.HTML object>"
      ]
     },
     "metadata": {},
     "output_type": "display_data"
    },
    {
     "data": {
      "text/html": [
       " View sweep at <a href='https://wandb.ai/lucasericsson222/restricted_boltzmann_machine_sweep/sweeps/r1b5058x' target=\"_blank\">https://wandb.ai/lucasericsson222/restricted_boltzmann_machine_sweep/sweeps/r1b5058x</a>"
      ],
      "text/plain": [
       "<IPython.core.display.HTML object>"
      ]
     },
     "metadata": {},
     "output_type": "display_data"
    },
    {
     "data": {
      "text/html": [
       " View run at <a href='https://wandb.ai/lucasericsson222/restricted_boltzmann_machine_sweep/runs/nnz5svve' target=\"_blank\">https://wandb.ai/lucasericsson222/restricted_boltzmann_machine_sweep/runs/nnz5svve</a>"
      ],
      "text/plain": [
       "<IPython.core.display.HTML object>"
      ]
     },
     "metadata": {},
     "output_type": "display_data"
    },
    {
     "name": "stdout",
     "output_type": "stream",
     "text": [
      "(60000, 784)\n",
      "Epoch: 0\n",
      "current_weight_diff: 42.982837852753605\n",
      "sqrd_recon_error: 3.4881760204081633\n",
      "Epoch: 1\n",
      "current_weight_diff: 0.4817946960271334\n",
      "sqrd_recon_error: 1.9534438775510206\n",
      "Epoch: 2\n",
      "current_weight_diff: 1.7196326802610176\n",
      "sqrd_recon_error: 1.1191326530612244\n",
      "Epoch: 3\n",
      "current_weight_diff: 1.551368552949363\n",
      "sqrd_recon_error: 0.895892857142857\n",
      "Epoch: 4\n",
      "current_weight_diff: 1.1873148342521216\n",
      "sqrd_recon_error: 0.7018239795918367\n",
      "Epoch: 5\n",
      "current_weight_diff: 0.7538305253405966\n",
      "sqrd_recon_error: 0.4830357142857143\n",
      "Epoch: 6\n",
      "current_weight_diff: 0.4415842017686102\n",
      "sqrd_recon_error: 0.2971173469387755\n",
      "Epoch: 7\n",
      "current_weight_diff: 0.47108432075479834\n",
      "sqrd_recon_error: 0.26723214285714286\n",
      "Epoch: 8\n",
      "current_weight_diff: 0.42581287458574024\n",
      "sqrd_recon_error: 0.3067984693877551\n",
      "Epoch: 9\n",
      "current_weight_diff: 0.3538976364383748\n",
      "sqrd_recon_error: 0.27931122448979595\n",
      "Epoch: 10\n",
      "current_weight_diff: 0.4113973569224018\n",
      "sqrd_recon_error: 0.21580357142857143\n",
      "Epoch: 11\n",
      "current_weight_diff: 0.22122650140832162\n",
      "sqrd_recon_error: 0.1892219387755102\n",
      "Epoch: 12\n",
      "current_weight_diff: 0.3413755142076987\n",
      "sqrd_recon_error: 0.24586734693877552\n",
      "Epoch: 13\n",
      "current_weight_diff: 0.22595789488277596\n",
      "sqrd_recon_error: 0.23295918367346938\n",
      "Epoch: 14\n",
      "current_weight_diff: 3.075656844106053\n",
      "sqrd_recon_error: 0.20681122448979594\n",
      "Epoch: 15\n",
      "current_weight_diff: 0.177301927770664\n",
      "sqrd_recon_error: 0.2001530612244898\n",
      "Epoch: 16\n",
      "current_weight_diff: 0.22650066009867864\n",
      "sqrd_recon_error: 0.20465561224489798\n",
      "Epoch: 17\n",
      "current_weight_diff: 0.16804646195792872\n",
      "sqrd_recon_error: 0.17877551020408164\n",
      "Epoch: 18\n",
      "current_weight_diff: 0.18129053805435327\n",
      "sqrd_recon_error: 0.21288265306122447\n",
      "Epoch: 19\n",
      "current_weight_diff: 0.12664159856309432\n",
      "sqrd_recon_error: 0.18558673469387757\n",
      "Epoch: 20\n",
      "current_weight_diff: 0.14490342616072172\n",
      "sqrd_recon_error: 0.15251275510204082\n",
      "Epoch: 21\n",
      "current_weight_diff: 0.15791862966549547\n",
      "sqrd_recon_error: 0.15956632653061223\n",
      "Epoch: 22\n",
      "current_weight_diff: 0.11109751782445695\n",
      "sqrd_recon_error: 0.16105867346938776\n",
      "Epoch: 23\n",
      "current_weight_diff: 0.10841690801361428\n",
      "sqrd_recon_error: 0.1765433673469388\n",
      "Epoch: 24\n",
      "current_weight_diff: 0.1703446231072357\n",
      "sqrd_recon_error: 0.18783163265306121\n",
      "Epoch: 25\n",
      "current_weight_diff: 0.10413479405056761\n",
      "sqrd_recon_error: 0.18225765306122446\n",
      "Epoch: 26\n",
      "current_weight_diff: 0.09292649934912667\n",
      "sqrd_recon_error: 0.1650127551020408\n",
      "Epoch: 27\n",
      "current_weight_diff: 0.10930780608553574\n",
      "sqrd_recon_error: 0.16862244897959183\n",
      "Epoch: 28\n",
      "current_weight_diff: 0.09437509003735778\n",
      "sqrd_recon_error: 0.1632908163265306\n",
      "Epoch: 29\n",
      "current_weight_diff: 0.08897113693551702\n",
      "sqrd_recon_error: 0.1517219387755102\n"
     ]
    },
    {
     "data": {
      "application/vnd.jupyter.widget-view+json": {
       "model_id": "101b81c119474b0b9455a110d60df688",
       "version_major": 2,
       "version_minor": 0
      },
      "text/plain": [
       "VBox(children=(Label(value='0.001 MB of 0.001 MB uploaded\\r'), FloatProgress(value=1.0, max=1.0)))"
      ]
     },
     "metadata": {},
     "output_type": "display_data"
    },
    {
     "name": "stderr",
     "output_type": "stream",
     "text": [
      "\u001b[34m\u001b[1mwandb\u001b[0m: \u001b[32m\u001b[41mERROR\u001b[0m Problem finishing run\n",
      "Traceback (most recent call last):\n",
      "  File \"/Library/Frameworks/Python.framework/Versions/3.10/lib/python3.10/site-packages/wandb/sdk/wandb_run.py\", line 2313, in _atexit_cleanup\n",
      "    self._on_finish()\n",
      "  File \"/Library/Frameworks/Python.framework/Versions/3.10/lib/python3.10/site-packages/wandb/sdk/wandb_run.py\", line 2567, in _on_finish\n",
      "    self._footer_file_pusher_status_info(\n",
      "  File \"/Library/Frameworks/Python.framework/Versions/3.10/lib/python3.10/site-packages/wandb/sdk/wandb_run.py\", line 3749, in _footer_file_pusher_status_info\n",
      "    Run._footer_single_run_file_pusher_status_info(\n",
      "  File \"/Library/Frameworks/Python.framework/Versions/3.10/lib/python3.10/site-packages/wandb/sdk/wandb_run.py\", line 3802, in _footer_single_run_file_pusher_status_info\n",
      "    printer.progress_close()\n",
      "  File \"/Library/Frameworks/Python.framework/Versions/3.10/lib/python3.10/site-packages/wandb/sdk/lib/printer.py\", line 292, in progress_close\n",
      "    self._progress.close()\n",
      "  File \"/Library/Frameworks/Python.framework/Versions/3.10/lib/python3.10/site-packages/wandb/sdk/lib/ipython.py\", line 128, in close\n",
      "    self._widget.close()\n",
      "  File \"/Users/lucasericsson/Library/Python/3.10/lib/python/site-packages/ipywidgets/widgets/widget.py\", line 500, in close\n",
      "    self.comm.close()\n",
      "  File \"/Users/lucasericsson/Library/Python/3.10/lib/python/site-packages/comm/base_comm.py\", line 109, in close\n",
      "    comm.get_comm_manager().unregister_comm(self)\n",
      "  File \"/Users/lucasericsson/Library/Python/3.10/lib/python/site-packages/comm/base_comm.py\", line 199, in unregister_comm\n",
      "    comm = self.comms.pop(comm.comm_id)\n",
      "KeyError: '101b81c119474b0b9455a110d60df688'\n",
      "\u001b[34m\u001b[1mwandb\u001b[0m: Agent Starting Run: wt120zmo with config:\n",
      "\u001b[34m\u001b[1mwandb\u001b[0m: \tepochs: 2\n",
      "\u001b[34m\u001b[1mwandb\u001b[0m: \thidden_units: 1000\n",
      "\u001b[34m\u001b[1mwandb\u001b[0m: \tk: 4\n",
      "\u001b[34m\u001b[1mwandb\u001b[0m: \tminibatch: 100\n",
      "Failed to detect the name of this notebook, you can set it manually with the WANDB_NOTEBOOK_NAME environment variable to enable code saving.\n",
      "\u001b[34m\u001b[1mwandb\u001b[0m: \u001b[33mWARNING\u001b[0m Ignored wandb.init() arg project when running a sweep.\n"
     ]
    },
    {
     "data": {
      "text/html": [
       "Tracking run with wandb version 0.16.6"
      ],
      "text/plain": [
       "<IPython.core.display.HTML object>"
      ]
     },
     "metadata": {},
     "output_type": "display_data"
    },
    {
     "data": {
      "text/html": [
       "Run data is saved locally in <code>/Users/lucasericsson/repos/restricted-boltzmann-machine/wandb/run-20240408_232321-wt120zmo</code>"
      ],
      "text/plain": [
       "<IPython.core.display.HTML object>"
      ]
     },
     "metadata": {},
     "output_type": "display_data"
    },
    {
     "data": {
      "text/html": [
       "Syncing run <strong><a href='https://wandb.ai/lucasericsson222/restricted_boltzmann_machine_sweep/runs/wt120zmo' target=\"_blank\">swift-sweep-2</a></strong> to <a href='https://wandb.ai/lucasericsson222/restricted_boltzmann_machine_sweep' target=\"_blank\">Weights & Biases</a> (<a href='https://wandb.me/run' target=\"_blank\">docs</a>)<br/>Sweep page: <a href='https://wandb.ai/lucasericsson222/restricted_boltzmann_machine_sweep/sweeps/r1b5058x' target=\"_blank\">https://wandb.ai/lucasericsson222/restricted_boltzmann_machine_sweep/sweeps/r1b5058x</a>"
      ],
      "text/plain": [
       "<IPython.core.display.HTML object>"
      ]
     },
     "metadata": {},
     "output_type": "display_data"
    },
    {
     "data": {
      "text/html": [
       " View project at <a href='https://wandb.ai/lucasericsson222/restricted_boltzmann_machine_sweep' target=\"_blank\">https://wandb.ai/lucasericsson222/restricted_boltzmann_machine_sweep</a>"
      ],
      "text/plain": [
       "<IPython.core.display.HTML object>"
      ]
     },
     "metadata": {},
     "output_type": "display_data"
    },
    {
     "data": {
      "text/html": [
       " View sweep at <a href='https://wandb.ai/lucasericsson222/restricted_boltzmann_machine_sweep/sweeps/r1b5058x' target=\"_blank\">https://wandb.ai/lucasericsson222/restricted_boltzmann_machine_sweep/sweeps/r1b5058x</a>"
      ],
      "text/plain": [
       "<IPython.core.display.HTML object>"
      ]
     },
     "metadata": {},
     "output_type": "display_data"
    },
    {
     "data": {
      "text/html": [
       " View run at <a href='https://wandb.ai/lucasericsson222/restricted_boltzmann_machine_sweep/runs/wt120zmo' target=\"_blank\">https://wandb.ai/lucasericsson222/restricted_boltzmann_machine_sweep/runs/wt120zmo</a>"
      ],
      "text/plain": [
       "<IPython.core.display.HTML object>"
      ]
     },
     "metadata": {},
     "output_type": "display_data"
    },
    {
     "name": "stdout",
     "output_type": "stream",
     "text": [
      "(60000, 784)\n",
      "Epoch: 0\n",
      "current_weight_diff: 10.93097049685308\n",
      "sqrd_recon_error: 0.2529336734693878\n",
      "Epoch: 1\n",
      "current_weight_diff: 2.6486047582146157\n",
      "sqrd_recon_error: 0.21071428571428574\n"
     ]
    },
    {
     "data": {
      "application/vnd.jupyter.widget-view+json": {
       "model_id": "83293c03893e4e98b1d8bc2df7537bb4",
       "version_major": 2,
       "version_minor": 0
      },
      "text/plain": [
       "VBox(children=(Label(value='0.004 MB of 0.004 MB uploaded\\r'), FloatProgress(value=1.0, max=1.0)))"
      ]
     },
     "metadata": {},
     "output_type": "display_data"
    },
    {
     "name": "stderr",
     "output_type": "stream",
     "text": [
      "\u001b[34m\u001b[1mwandb\u001b[0m: \u001b[32m\u001b[41mERROR\u001b[0m Problem finishing run\n",
      "Traceback (most recent call last):\n",
      "  File \"/Library/Frameworks/Python.framework/Versions/3.10/lib/python3.10/site-packages/wandb/sdk/wandb_run.py\", line 2313, in _atexit_cleanup\n",
      "    self._on_finish()\n",
      "  File \"/Library/Frameworks/Python.framework/Versions/3.10/lib/python3.10/site-packages/wandb/sdk/wandb_run.py\", line 2567, in _on_finish\n",
      "    self._footer_file_pusher_status_info(\n",
      "  File \"/Library/Frameworks/Python.framework/Versions/3.10/lib/python3.10/site-packages/wandb/sdk/wandb_run.py\", line 3749, in _footer_file_pusher_status_info\n",
      "    Run._footer_single_run_file_pusher_status_info(\n",
      "  File \"/Library/Frameworks/Python.framework/Versions/3.10/lib/python3.10/site-packages/wandb/sdk/wandb_run.py\", line 3802, in _footer_single_run_file_pusher_status_info\n",
      "    printer.progress_close()\n",
      "  File \"/Library/Frameworks/Python.framework/Versions/3.10/lib/python3.10/site-packages/wandb/sdk/lib/printer.py\", line 292, in progress_close\n",
      "    self._progress.close()\n",
      "  File \"/Library/Frameworks/Python.framework/Versions/3.10/lib/python3.10/site-packages/wandb/sdk/lib/ipython.py\", line 128, in close\n",
      "    self._widget.close()\n",
      "  File \"/Users/lucasericsson/Library/Python/3.10/lib/python/site-packages/ipywidgets/widgets/widget.py\", line 500, in close\n",
      "    self.comm.close()\n",
      "  File \"/Users/lucasericsson/Library/Python/3.10/lib/python/site-packages/comm/base_comm.py\", line 109, in close\n",
      "    comm.get_comm_manager().unregister_comm(self)\n",
      "  File \"/Users/lucasericsson/Library/Python/3.10/lib/python/site-packages/comm/base_comm.py\", line 199, in unregister_comm\n",
      "    comm = self.comms.pop(comm.comm_id)\n",
      "KeyError: '83293c03893e4e98b1d8bc2df7537bb4'\n",
      "\u001b[34m\u001b[1mwandb\u001b[0m: Agent Starting Run: xb0se062 with config:\n",
      "\u001b[34m\u001b[1mwandb\u001b[0m: \tepochs: 1\n",
      "\u001b[34m\u001b[1mwandb\u001b[0m: \thidden_units: 200\n",
      "\u001b[34m\u001b[1mwandb\u001b[0m: \tk: 30\n",
      "\u001b[34m\u001b[1mwandb\u001b[0m: \tminibatch: 200\n",
      "Failed to detect the name of this notebook, you can set it manually with the WANDB_NOTEBOOK_NAME environment variable to enable code saving.\n",
      "\u001b[34m\u001b[1mwandb\u001b[0m: \u001b[33mWARNING\u001b[0m Ignored wandb.init() arg project when running a sweep.\n"
     ]
    },
    {
     "data": {
      "text/html": [
       "Tracking run with wandb version 0.16.6"
      ],
      "text/plain": [
       "<IPython.core.display.HTML object>"
      ]
     },
     "metadata": {},
     "output_type": "display_data"
    },
    {
     "data": {
      "text/html": [
       "Run data is saved locally in <code>/Users/lucasericsson/repos/restricted-boltzmann-machine/wandb/run-20240408_232412-xb0se062</code>"
      ],
      "text/plain": [
       "<IPython.core.display.HTML object>"
      ]
     },
     "metadata": {},
     "output_type": "display_data"
    },
    {
     "data": {
      "text/html": [
       "Syncing run <strong><a href='https://wandb.ai/lucasericsson222/restricted_boltzmann_machine_sweep/runs/xb0se062' target=\"_blank\">fine-sweep-3</a></strong> to <a href='https://wandb.ai/lucasericsson222/restricted_boltzmann_machine_sweep' target=\"_blank\">Weights & Biases</a> (<a href='https://wandb.me/run' target=\"_blank\">docs</a>)<br/>Sweep page: <a href='https://wandb.ai/lucasericsson222/restricted_boltzmann_machine_sweep/sweeps/r1b5058x' target=\"_blank\">https://wandb.ai/lucasericsson222/restricted_boltzmann_machine_sweep/sweeps/r1b5058x</a>"
      ],
      "text/plain": [
       "<IPython.core.display.HTML object>"
      ]
     },
     "metadata": {},
     "output_type": "display_data"
    },
    {
     "data": {
      "text/html": [
       " View project at <a href='https://wandb.ai/lucasericsson222/restricted_boltzmann_machine_sweep' target=\"_blank\">https://wandb.ai/lucasericsson222/restricted_boltzmann_machine_sweep</a>"
      ],
      "text/plain": [
       "<IPython.core.display.HTML object>"
      ]
     },
     "metadata": {},
     "output_type": "display_data"
    },
    {
     "data": {
      "text/html": [
       " View sweep at <a href='https://wandb.ai/lucasericsson222/restricted_boltzmann_machine_sweep/sweeps/r1b5058x' target=\"_blank\">https://wandb.ai/lucasericsson222/restricted_boltzmann_machine_sweep/sweeps/r1b5058x</a>"
      ],
      "text/plain": [
       "<IPython.core.display.HTML object>"
      ]
     },
     "metadata": {},
     "output_type": "display_data"
    },
    {
     "data": {
      "text/html": [
       " View run at <a href='https://wandb.ai/lucasericsson222/restricted_boltzmann_machine_sweep/runs/xb0se062' target=\"_blank\">https://wandb.ai/lucasericsson222/restricted_boltzmann_machine_sweep/runs/xb0se062</a>"
      ],
      "text/plain": [
       "<IPython.core.display.HTML object>"
      ]
     },
     "metadata": {},
     "output_type": "display_data"
    },
    {
     "name": "stdout",
     "output_type": "stream",
     "text": [
      "(60000, 784)\n",
      "Epoch: 0\n",
      "current_weight_diff: 16.219658362452538\n",
      "sqrd_recon_error: 6.8485395408163265\n"
     ]
    },
    {
     "data": {
      "application/vnd.jupyter.widget-view+json": {
       "model_id": "541b79c66296412f9310f9d9a0062438",
       "version_major": 2,
       "version_minor": 0
      },
      "text/plain": [
       "VBox(children=(Label(value='0.001 MB of 0.003 MB uploaded\\r'), FloatProgress(value=0.2783109404990403, max=1.0…"
      ]
     },
     "metadata": {},
     "output_type": "display_data"
    },
    {
     "name": "stderr",
     "output_type": "stream",
     "text": [
      "\u001b[34m\u001b[1mwandb\u001b[0m: \u001b[32m\u001b[41mERROR\u001b[0m Problem finishing run\n",
      "Traceback (most recent call last):\n",
      "  File \"/Library/Frameworks/Python.framework/Versions/3.10/lib/python3.10/site-packages/wandb/sdk/wandb_run.py\", line 2313, in _atexit_cleanup\n",
      "    self._on_finish()\n",
      "  File \"/Library/Frameworks/Python.framework/Versions/3.10/lib/python3.10/site-packages/wandb/sdk/wandb_run.py\", line 2567, in _on_finish\n",
      "    self._footer_file_pusher_status_info(\n",
      "  File \"/Library/Frameworks/Python.framework/Versions/3.10/lib/python3.10/site-packages/wandb/sdk/wandb_run.py\", line 3749, in _footer_file_pusher_status_info\n",
      "    Run._footer_single_run_file_pusher_status_info(\n",
      "  File \"/Library/Frameworks/Python.framework/Versions/3.10/lib/python3.10/site-packages/wandb/sdk/wandb_run.py\", line 3802, in _footer_single_run_file_pusher_status_info\n",
      "    printer.progress_close()\n",
      "  File \"/Library/Frameworks/Python.framework/Versions/3.10/lib/python3.10/site-packages/wandb/sdk/lib/printer.py\", line 292, in progress_close\n",
      "    self._progress.close()\n",
      "  File \"/Library/Frameworks/Python.framework/Versions/3.10/lib/python3.10/site-packages/wandb/sdk/lib/ipython.py\", line 128, in close\n",
      "    self._widget.close()\n",
      "  File \"/Users/lucasericsson/Library/Python/3.10/lib/python/site-packages/ipywidgets/widgets/widget.py\", line 500, in close\n",
      "    self.comm.close()\n",
      "  File \"/Users/lucasericsson/Library/Python/3.10/lib/python/site-packages/comm/base_comm.py\", line 109, in close\n",
      "    comm.get_comm_manager().unregister_comm(self)\n",
      "  File \"/Users/lucasericsson/Library/Python/3.10/lib/python/site-packages/comm/base_comm.py\", line 199, in unregister_comm\n",
      "    comm = self.comms.pop(comm.comm_id)\n",
      "KeyError: '541b79c66296412f9310f9d9a0062438'\n",
      "\u001b[34m\u001b[1mwandb\u001b[0m: Agent Starting Run: kvund15l with config:\n",
      "\u001b[34m\u001b[1mwandb\u001b[0m: \tepochs: 5\n",
      "\u001b[34m\u001b[1mwandb\u001b[0m: \thidden_units: 50\n",
      "\u001b[34m\u001b[1mwandb\u001b[0m: \tk: 3\n",
      "\u001b[34m\u001b[1mwandb\u001b[0m: \tminibatch: 200\n",
      "Failed to detect the name of this notebook, you can set it manually with the WANDB_NOTEBOOK_NAME environment variable to enable code saving.\n",
      "\u001b[34m\u001b[1mwandb\u001b[0m: \u001b[33mWARNING\u001b[0m Ignored wandb.init() arg project when running a sweep.\n"
     ]
    },
    {
     "data": {
      "text/html": [
       "Tracking run with wandb version 0.16.6"
      ],
      "text/plain": [
       "<IPython.core.display.HTML object>"
      ]
     },
     "metadata": {},
     "output_type": "display_data"
    },
    {
     "data": {
      "text/html": [
       "Run data is saved locally in <code>/Users/lucasericsson/repos/restricted-boltzmann-machine/wandb/run-20240408_232453-kvund15l</code>"
      ],
      "text/plain": [
       "<IPython.core.display.HTML object>"
      ]
     },
     "metadata": {},
     "output_type": "display_data"
    },
    {
     "data": {
      "text/html": [
       "Syncing run <strong><a href='https://wandb.ai/lucasericsson222/restricted_boltzmann_machine_sweep/runs/kvund15l' target=\"_blank\">treasured-sweep-4</a></strong> to <a href='https://wandb.ai/lucasericsson222/restricted_boltzmann_machine_sweep' target=\"_blank\">Weights & Biases</a> (<a href='https://wandb.me/run' target=\"_blank\">docs</a>)<br/>Sweep page: <a href='https://wandb.ai/lucasericsson222/restricted_boltzmann_machine_sweep/sweeps/r1b5058x' target=\"_blank\">https://wandb.ai/lucasericsson222/restricted_boltzmann_machine_sweep/sweeps/r1b5058x</a>"
      ],
      "text/plain": [
       "<IPython.core.display.HTML object>"
      ]
     },
     "metadata": {},
     "output_type": "display_data"
    },
    {
     "data": {
      "text/html": [
       " View project at <a href='https://wandb.ai/lucasericsson222/restricted_boltzmann_machine_sweep' target=\"_blank\">https://wandb.ai/lucasericsson222/restricted_boltzmann_machine_sweep</a>"
      ],
      "text/plain": [
       "<IPython.core.display.HTML object>"
      ]
     },
     "metadata": {},
     "output_type": "display_data"
    },
    {
     "data": {
      "text/html": [
       " View sweep at <a href='https://wandb.ai/lucasericsson222/restricted_boltzmann_machine_sweep/sweeps/r1b5058x' target=\"_blank\">https://wandb.ai/lucasericsson222/restricted_boltzmann_machine_sweep/sweeps/r1b5058x</a>"
      ],
      "text/plain": [
       "<IPython.core.display.HTML object>"
      ]
     },
     "metadata": {},
     "output_type": "display_data"
    },
    {
     "data": {
      "text/html": [
       " View run at <a href='https://wandb.ai/lucasericsson222/restricted_boltzmann_machine_sweep/runs/kvund15l' target=\"_blank\">https://wandb.ai/lucasericsson222/restricted_boltzmann_machine_sweep/runs/kvund15l</a>"
      ],
      "text/plain": [
       "<IPython.core.display.HTML object>"
      ]
     },
     "metadata": {},
     "output_type": "display_data"
    },
    {
     "name": "stdout",
     "output_type": "stream",
     "text": [
      "(60000, 784)\n",
      "Epoch: 0\n",
      "current_weight_diff: 48.58179580684144\n",
      "sqrd_recon_error: 6.227098214285714\n",
      "Epoch: 1\n",
      "current_weight_diff: 0.3848033606164987\n",
      "sqrd_recon_error: 3.928667091836735\n",
      "Epoch: 2\n",
      "current_weight_diff: 0.4034643230259366\n",
      "sqrd_recon_error: 2.800191326530612\n",
      "Epoch: 3\n",
      "current_weight_diff: 0.7776060358114192\n",
      "sqrd_recon_error: 2.247219387755102\n",
      "Epoch: 4\n",
      "current_weight_diff: 0.9380430422104079\n",
      "sqrd_recon_error: 1.785765306122449\n"
     ]
    },
    {
     "data": {
      "application/vnd.jupyter.widget-view+json": {
       "model_id": "2338c514efa14ff0aef9e975afa068b3",
       "version_major": 2,
       "version_minor": 0
      },
      "text/plain": [
       "VBox(children=(Label(value='0.001 MB of 0.001 MB uploaded\\r'), FloatProgress(value=1.0, max=1.0)))"
      ]
     },
     "metadata": {},
     "output_type": "display_data"
    },
    {
     "name": "stderr",
     "output_type": "stream",
     "text": [
      "\u001b[34m\u001b[1mwandb\u001b[0m: \u001b[32m\u001b[41mERROR\u001b[0m Problem finishing run\n",
      "Traceback (most recent call last):\n",
      "  File \"/Library/Frameworks/Python.framework/Versions/3.10/lib/python3.10/site-packages/wandb/sdk/wandb_run.py\", line 2313, in _atexit_cleanup\n",
      "    self._on_finish()\n",
      "  File \"/Library/Frameworks/Python.framework/Versions/3.10/lib/python3.10/site-packages/wandb/sdk/wandb_run.py\", line 2567, in _on_finish\n",
      "    self._footer_file_pusher_status_info(\n",
      "  File \"/Library/Frameworks/Python.framework/Versions/3.10/lib/python3.10/site-packages/wandb/sdk/wandb_run.py\", line 3749, in _footer_file_pusher_status_info\n",
      "    Run._footer_single_run_file_pusher_status_info(\n",
      "  File \"/Library/Frameworks/Python.framework/Versions/3.10/lib/python3.10/site-packages/wandb/sdk/wandb_run.py\", line 3802, in _footer_single_run_file_pusher_status_info\n",
      "    printer.progress_close()\n",
      "  File \"/Library/Frameworks/Python.framework/Versions/3.10/lib/python3.10/site-packages/wandb/sdk/lib/printer.py\", line 292, in progress_close\n",
      "    self._progress.close()\n",
      "  File \"/Library/Frameworks/Python.framework/Versions/3.10/lib/python3.10/site-packages/wandb/sdk/lib/ipython.py\", line 128, in close\n",
      "    self._widget.close()\n",
      "  File \"/Users/lucasericsson/Library/Python/3.10/lib/python/site-packages/ipywidgets/widgets/widget.py\", line 500, in close\n",
      "    self.comm.close()\n",
      "  File \"/Users/lucasericsson/Library/Python/3.10/lib/python/site-packages/comm/base_comm.py\", line 109, in close\n",
      "    comm.get_comm_manager().unregister_comm(self)\n",
      "  File \"/Users/lucasericsson/Library/Python/3.10/lib/python/site-packages/comm/base_comm.py\", line 199, in unregister_comm\n",
      "    comm = self.comms.pop(comm.comm_id)\n",
      "KeyError: '2338c514efa14ff0aef9e975afa068b3'\n",
      "\u001b[34m\u001b[1mwandb\u001b[0m: Agent Starting Run: lhb8dto8 with config:\n",
      "\u001b[34m\u001b[1mwandb\u001b[0m: \tepochs: 20\n",
      "\u001b[34m\u001b[1mwandb\u001b[0m: \thidden_units: 784\n",
      "\u001b[34m\u001b[1mwandb\u001b[0m: \tk: 2\n",
      "\u001b[34m\u001b[1mwandb\u001b[0m: \tminibatch: 100\n",
      "Failed to detect the name of this notebook, you can set it manually with the WANDB_NOTEBOOK_NAME environment variable to enable code saving.\n",
      "\u001b[34m\u001b[1mwandb\u001b[0m: \u001b[33mWARNING\u001b[0m Ignored wandb.init() arg project when running a sweep.\n"
     ]
    },
    {
     "data": {
      "text/html": [
       "Tracking run with wandb version 0.16.6"
      ],
      "text/plain": [
       "<IPython.core.display.HTML object>"
      ]
     },
     "metadata": {},
     "output_type": "display_data"
    },
    {
     "data": {
      "text/html": [
       "Run data is saved locally in <code>/Users/lucasericsson/repos/restricted-boltzmann-machine/wandb/run-20240408_232518-lhb8dto8</code>"
      ],
      "text/plain": [
       "<IPython.core.display.HTML object>"
      ]
     },
     "metadata": {},
     "output_type": "display_data"
    },
    {
     "data": {
      "text/html": [
       "Syncing run <strong><a href='https://wandb.ai/lucasericsson222/restricted_boltzmann_machine_sweep/runs/lhb8dto8' target=\"_blank\">woven-sweep-5</a></strong> to <a href='https://wandb.ai/lucasericsson222/restricted_boltzmann_machine_sweep' target=\"_blank\">Weights & Biases</a> (<a href='https://wandb.me/run' target=\"_blank\">docs</a>)<br/>Sweep page: <a href='https://wandb.ai/lucasericsson222/restricted_boltzmann_machine_sweep/sweeps/r1b5058x' target=\"_blank\">https://wandb.ai/lucasericsson222/restricted_boltzmann_machine_sweep/sweeps/r1b5058x</a>"
      ],
      "text/plain": [
       "<IPython.core.display.HTML object>"
      ]
     },
     "metadata": {},
     "output_type": "display_data"
    },
    {
     "data": {
      "text/html": [
       " View project at <a href='https://wandb.ai/lucasericsson222/restricted_boltzmann_machine_sweep' target=\"_blank\">https://wandb.ai/lucasericsson222/restricted_boltzmann_machine_sweep</a>"
      ],
      "text/plain": [
       "<IPython.core.display.HTML object>"
      ]
     },
     "metadata": {},
     "output_type": "display_data"
    },
    {
     "data": {
      "text/html": [
       " View sweep at <a href='https://wandb.ai/lucasericsson222/restricted_boltzmann_machine_sweep/sweeps/r1b5058x' target=\"_blank\">https://wandb.ai/lucasericsson222/restricted_boltzmann_machine_sweep/sweeps/r1b5058x</a>"
      ],
      "text/plain": [
       "<IPython.core.display.HTML object>"
      ]
     },
     "metadata": {},
     "output_type": "display_data"
    },
    {
     "data": {
      "text/html": [
       " View run at <a href='https://wandb.ai/lucasericsson222/restricted_boltzmann_machine_sweep/runs/lhb8dto8' target=\"_blank\">https://wandb.ai/lucasericsson222/restricted_boltzmann_machine_sweep/runs/lhb8dto8</a>"
      ],
      "text/plain": [
       "<IPython.core.display.HTML object>"
      ]
     },
     "metadata": {},
     "output_type": "display_data"
    },
    {
     "name": "stdout",
     "output_type": "stream",
     "text": [
      "(60000, 784)\n",
      "Epoch: 0\n",
      "current_weight_diff: 9.979322614325403\n",
      "sqrd_recon_error: 0.2609183673469388\n",
      "Epoch: 1\n",
      "current_weight_diff: 3.3359880363146526\n",
      "sqrd_recon_error: 0.24301020408163265\n",
      "Epoch: 2\n",
      "current_weight_diff: 2.6283813955037707\n",
      "sqrd_recon_error: 0.20168367346938776\n",
      "Epoch: 3\n",
      "current_weight_diff: 1.1551817649745402\n",
      "sqrd_recon_error: 0.19548469387755102\n",
      "Epoch: 4\n",
      "current_weight_diff: 0.7936911969464382\n",
      "sqrd_recon_error: 0.14924744897959183\n",
      "Epoch: 5\n",
      "current_weight_diff: 0.9421250296953141\n",
      "sqrd_recon_error: 0.15512755102040818\n",
      "Epoch: 6\n",
      "current_weight_diff: 0.6478568052777735\n",
      "sqrd_recon_error: 0.13270408163265307\n",
      "Epoch: 7\n",
      "current_weight_diff: 0.5749383982186661\n",
      "sqrd_recon_error: 0.14137755102040817\n",
      "Epoch: 8\n",
      "current_weight_diff: 0.46061450270916526\n",
      "sqrd_recon_error: 0.1252423469387755\n",
      "Epoch: 9\n",
      "current_weight_diff: 0.4175453145666318\n",
      "sqrd_recon_error: 0.1288265306122449\n",
      "Epoch: 10\n",
      "current_weight_diff: 0.4152109897770805\n",
      "sqrd_recon_error: 0.11725765306122449\n",
      "Epoch: 11\n",
      "current_weight_diff: 0.6135161932941467\n",
      "sqrd_recon_error: 0.11974489795918368\n",
      "Epoch: 12\n",
      "current_weight_diff: 0.47934858111056355\n",
      "sqrd_recon_error: 0.1101530612244898\n",
      "Epoch: 13\n",
      "current_weight_diff: 0.44244939301932007\n",
      "sqrd_recon_error: 0.11646683673469388\n",
      "Epoch: 14\n",
      "current_weight_diff: 0.30667279891741067\n",
      "sqrd_recon_error: 0.10136479591836733\n",
      "Epoch: 15\n",
      "current_weight_diff: 0.39854917177193816\n",
      "sqrd_recon_error: 0.0989795918367347\n",
      "Epoch: 16\n",
      "current_weight_diff: 0.29127631739754517\n",
      "sqrd_recon_error: 0.10558673469387755\n",
      "Epoch: 17\n",
      "current_weight_diff: 0.4019898926859275\n",
      "sqrd_recon_error: 0.1098341836734694\n",
      "Epoch: 18\n",
      "current_weight_diff: 0.24544204728187335\n",
      "sqrd_recon_error: 0.10713010204081633\n",
      "Epoch: 19\n",
      "current_weight_diff: 0.2477579226722098\n",
      "sqrd_recon_error: 0.10459183673469388\n"
     ]
    },
    {
     "data": {
      "application/vnd.jupyter.widget-view+json": {
       "model_id": "29de3709e0d4493a9fc5ac93dc0d9dee",
       "version_major": 2,
       "version_minor": 0
      },
      "text/plain": [
       "VBox(children=(Label(value='0.001 MB of 0.001 MB uploaded\\r'), FloatProgress(value=1.0, max=1.0)))"
      ]
     },
     "metadata": {},
     "output_type": "display_data"
    },
    {
     "name": "stderr",
     "output_type": "stream",
     "text": [
      "\u001b[34m\u001b[1mwandb\u001b[0m: \u001b[32m\u001b[41mERROR\u001b[0m Problem finishing run\n",
      "Traceback (most recent call last):\n",
      "  File \"/Library/Frameworks/Python.framework/Versions/3.10/lib/python3.10/site-packages/wandb/sdk/wandb_run.py\", line 2313, in _atexit_cleanup\n",
      "    self._on_finish()\n",
      "  File \"/Library/Frameworks/Python.framework/Versions/3.10/lib/python3.10/site-packages/wandb/sdk/wandb_run.py\", line 2567, in _on_finish\n",
      "    self._footer_file_pusher_status_info(\n",
      "  File \"/Library/Frameworks/Python.framework/Versions/3.10/lib/python3.10/site-packages/wandb/sdk/wandb_run.py\", line 3749, in _footer_file_pusher_status_info\n",
      "    Run._footer_single_run_file_pusher_status_info(\n",
      "  File \"/Library/Frameworks/Python.framework/Versions/3.10/lib/python3.10/site-packages/wandb/sdk/wandb_run.py\", line 3802, in _footer_single_run_file_pusher_status_info\n",
      "    printer.progress_close()\n",
      "  File \"/Library/Frameworks/Python.framework/Versions/3.10/lib/python3.10/site-packages/wandb/sdk/lib/printer.py\", line 292, in progress_close\n",
      "    self._progress.close()\n",
      "  File \"/Library/Frameworks/Python.framework/Versions/3.10/lib/python3.10/site-packages/wandb/sdk/lib/ipython.py\", line 128, in close\n",
      "    self._widget.close()\n",
      "  File \"/Users/lucasericsson/Library/Python/3.10/lib/python/site-packages/ipywidgets/widgets/widget.py\", line 500, in close\n",
      "    self.comm.close()\n",
      "  File \"/Users/lucasericsson/Library/Python/3.10/lib/python/site-packages/comm/base_comm.py\", line 109, in close\n",
      "    comm.get_comm_manager().unregister_comm(self)\n",
      "  File \"/Users/lucasericsson/Library/Python/3.10/lib/python/site-packages/comm/base_comm.py\", line 199, in unregister_comm\n",
      "    comm = self.comms.pop(comm.comm_id)\n",
      "KeyError: '29de3709e0d4493a9fc5ac93dc0d9dee'\n",
      "\u001b[34m\u001b[1mwandb\u001b[0m: Agent Starting Run: c3i3n2o5 with config:\n",
      "\u001b[34m\u001b[1mwandb\u001b[0m: \tepochs: 2\n",
      "\u001b[34m\u001b[1mwandb\u001b[0m: \thidden_units: 200\n",
      "\u001b[34m\u001b[1mwandb\u001b[0m: \tk: 1\n",
      "\u001b[34m\u001b[1mwandb\u001b[0m: \tminibatch: 50\n",
      "Failed to detect the name of this notebook, you can set it manually with the WANDB_NOTEBOOK_NAME environment variable to enable code saving.\n",
      "\u001b[34m\u001b[1mwandb\u001b[0m: \u001b[33mWARNING\u001b[0m Ignored wandb.init() arg project when running a sweep.\n"
     ]
    },
    {
     "data": {
      "text/html": [
       "Tracking run with wandb version 0.16.6"
      ],
      "text/plain": [
       "<IPython.core.display.HTML object>"
      ]
     },
     "metadata": {},
     "output_type": "display_data"
    },
    {
     "data": {
      "text/html": [
       "Run data is saved locally in <code>/Users/lucasericsson/repos/restricted-boltzmann-machine/wandb/run-20240408_233031-c3i3n2o5</code>"
      ],
      "text/plain": [
       "<IPython.core.display.HTML object>"
      ]
     },
     "metadata": {},
     "output_type": "display_data"
    },
    {
     "data": {
      "text/html": [
       "Syncing run <strong><a href='https://wandb.ai/lucasericsson222/restricted_boltzmann_machine_sweep/runs/c3i3n2o5' target=\"_blank\">winter-sweep-6</a></strong> to <a href='https://wandb.ai/lucasericsson222/restricted_boltzmann_machine_sweep' target=\"_blank\">Weights & Biases</a> (<a href='https://wandb.me/run' target=\"_blank\">docs</a>)<br/>Sweep page: <a href='https://wandb.ai/lucasericsson222/restricted_boltzmann_machine_sweep/sweeps/r1b5058x' target=\"_blank\">https://wandb.ai/lucasericsson222/restricted_boltzmann_machine_sweep/sweeps/r1b5058x</a>"
      ],
      "text/plain": [
       "<IPython.core.display.HTML object>"
      ]
     },
     "metadata": {},
     "output_type": "display_data"
    },
    {
     "data": {
      "text/html": [
       " View project at <a href='https://wandb.ai/lucasericsson222/restricted_boltzmann_machine_sweep' target=\"_blank\">https://wandb.ai/lucasericsson222/restricted_boltzmann_machine_sweep</a>"
      ],
      "text/plain": [
       "<IPython.core.display.HTML object>"
      ]
     },
     "metadata": {},
     "output_type": "display_data"
    },
    {
     "data": {
      "text/html": [
       " View sweep at <a href='https://wandb.ai/lucasericsson222/restricted_boltzmann_machine_sweep/sweeps/r1b5058x' target=\"_blank\">https://wandb.ai/lucasericsson222/restricted_boltzmann_machine_sweep/sweeps/r1b5058x</a>"
      ],
      "text/plain": [
       "<IPython.core.display.HTML object>"
      ]
     },
     "metadata": {},
     "output_type": "display_data"
    },
    {
     "data": {
      "text/html": [
       " View run at <a href='https://wandb.ai/lucasericsson222/restricted_boltzmann_machine_sweep/runs/c3i3n2o5' target=\"_blank\">https://wandb.ai/lucasericsson222/restricted_boltzmann_machine_sweep/runs/c3i3n2o5</a>"
      ],
      "text/plain": [
       "<IPython.core.display.HTML object>"
      ]
     },
     "metadata": {},
     "output_type": "display_data"
    },
    {
     "name": "stdout",
     "output_type": "stream",
     "text": [
      "(60000, 784)\n",
      "Epoch: 0\n",
      "current_weight_diff: 20.821262565543933\n",
      "sqrd_recon_error: 0.5577040816326531\n",
      "Epoch: 1\n",
      "current_weight_diff: 1.731445397229946\n",
      "sqrd_recon_error: 0.33119897959183675\n"
     ]
    },
    {
     "data": {
      "application/vnd.jupyter.widget-view+json": {
       "model_id": "d9551d3738ed4eb894b4bbb16098e5ad",
       "version_major": 2,
       "version_minor": 0
      },
      "text/plain": [
       "VBox(children=(Label(value='0.001 MB of 0.001 MB uploaded\\r'), FloatProgress(value=1.0, max=1.0)))"
      ]
     },
     "metadata": {},
     "output_type": "display_data"
    },
    {
     "name": "stderr",
     "output_type": "stream",
     "text": [
      "\u001b[34m\u001b[1mwandb\u001b[0m: \u001b[32m\u001b[41mERROR\u001b[0m Problem finishing run\n",
      "Traceback (most recent call last):\n",
      "  File \"/Library/Frameworks/Python.framework/Versions/3.10/lib/python3.10/site-packages/wandb/sdk/wandb_run.py\", line 2313, in _atexit_cleanup\n",
      "    self._on_finish()\n",
      "  File \"/Library/Frameworks/Python.framework/Versions/3.10/lib/python3.10/site-packages/wandb/sdk/wandb_run.py\", line 2567, in _on_finish\n",
      "    self._footer_file_pusher_status_info(\n",
      "  File \"/Library/Frameworks/Python.framework/Versions/3.10/lib/python3.10/site-packages/wandb/sdk/wandb_run.py\", line 3749, in _footer_file_pusher_status_info\n",
      "    Run._footer_single_run_file_pusher_status_info(\n",
      "  File \"/Library/Frameworks/Python.framework/Versions/3.10/lib/python3.10/site-packages/wandb/sdk/wandb_run.py\", line 3802, in _footer_single_run_file_pusher_status_info\n",
      "    printer.progress_close()\n",
      "  File \"/Library/Frameworks/Python.framework/Versions/3.10/lib/python3.10/site-packages/wandb/sdk/lib/printer.py\", line 292, in progress_close\n",
      "    self._progress.close()\n",
      "  File \"/Library/Frameworks/Python.framework/Versions/3.10/lib/python3.10/site-packages/wandb/sdk/lib/ipython.py\", line 128, in close\n",
      "    self._widget.close()\n",
      "  File \"/Users/lucasericsson/Library/Python/3.10/lib/python/site-packages/ipywidgets/widgets/widget.py\", line 500, in close\n",
      "    self.comm.close()\n",
      "  File \"/Users/lucasericsson/Library/Python/3.10/lib/python/site-packages/comm/base_comm.py\", line 109, in close\n",
      "    comm.get_comm_manager().unregister_comm(self)\n",
      "  File \"/Users/lucasericsson/Library/Python/3.10/lib/python/site-packages/comm/base_comm.py\", line 199, in unregister_comm\n",
      "    comm = self.comms.pop(comm.comm_id)\n",
      "KeyError: 'd9551d3738ed4eb894b4bbb16098e5ad'\n",
      "\u001b[34m\u001b[1mwandb\u001b[0m: Agent Starting Run: wz3qlzq8 with config:\n",
      "\u001b[34m\u001b[1mwandb\u001b[0m: \tepochs: 10\n",
      "\u001b[34m\u001b[1mwandb\u001b[0m: \thidden_units: 10\n",
      "\u001b[34m\u001b[1mwandb\u001b[0m: \tk: 20\n",
      "\u001b[34m\u001b[1mwandb\u001b[0m: \tminibatch: 100\n",
      "Failed to detect the name of this notebook, you can set it manually with the WANDB_NOTEBOOK_NAME environment variable to enable code saving.\n",
      "\u001b[34m\u001b[1mwandb\u001b[0m: \u001b[33mWARNING\u001b[0m Ignored wandb.init() arg project when running a sweep.\n"
     ]
    },
    {
     "data": {
      "text/html": [
       "Tracking run with wandb version 0.16.6"
      ],
      "text/plain": [
       "<IPython.core.display.HTML object>"
      ]
     },
     "metadata": {},
     "output_type": "display_data"
    },
    {
     "data": {
      "text/html": [
       "Run data is saved locally in <code>/Users/lucasericsson/repos/restricted-boltzmann-machine/wandb/run-20240408_233108-wz3qlzq8</code>"
      ],
      "text/plain": [
       "<IPython.core.display.HTML object>"
      ]
     },
     "metadata": {},
     "output_type": "display_data"
    },
    {
     "data": {
      "text/html": [
       "Syncing run <strong><a href='https://wandb.ai/lucasericsson222/restricted_boltzmann_machine_sweep/runs/wz3qlzq8' target=\"_blank\">dulcet-sweep-7</a></strong> to <a href='https://wandb.ai/lucasericsson222/restricted_boltzmann_machine_sweep' target=\"_blank\">Weights & Biases</a> (<a href='https://wandb.me/run' target=\"_blank\">docs</a>)<br/>Sweep page: <a href='https://wandb.ai/lucasericsson222/restricted_boltzmann_machine_sweep/sweeps/r1b5058x' target=\"_blank\">https://wandb.ai/lucasericsson222/restricted_boltzmann_machine_sweep/sweeps/r1b5058x</a>"
      ],
      "text/plain": [
       "<IPython.core.display.HTML object>"
      ]
     },
     "metadata": {},
     "output_type": "display_data"
    },
    {
     "data": {
      "text/html": [
       " View project at <a href='https://wandb.ai/lucasericsson222/restricted_boltzmann_machine_sweep' target=\"_blank\">https://wandb.ai/lucasericsson222/restricted_boltzmann_machine_sweep</a>"
      ],
      "text/plain": [
       "<IPython.core.display.HTML object>"
      ]
     },
     "metadata": {},
     "output_type": "display_data"
    },
    {
     "data": {
      "text/html": [
       " View sweep at <a href='https://wandb.ai/lucasericsson222/restricted_boltzmann_machine_sweep/sweeps/r1b5058x' target=\"_blank\">https://wandb.ai/lucasericsson222/restricted_boltzmann_machine_sweep/sweeps/r1b5058x</a>"
      ],
      "text/plain": [
       "<IPython.core.display.HTML object>"
      ]
     },
     "metadata": {},
     "output_type": "display_data"
    },
    {
     "data": {
      "text/html": [
       " View run at <a href='https://wandb.ai/lucasericsson222/restricted_boltzmann_machine_sweep/runs/wz3qlzq8' target=\"_blank\">https://wandb.ai/lucasericsson222/restricted_boltzmann_machine_sweep/runs/wz3qlzq8</a>"
      ],
      "text/plain": [
       "<IPython.core.display.HTML object>"
      ]
     },
     "metadata": {},
     "output_type": "display_data"
    },
    {
     "name": "stdout",
     "output_type": "stream",
     "text": [
      "(60000, 784)\n",
      "Epoch: 0\n",
      "current_weight_diff: 100.70764209398841\n",
      "sqrd_recon_error: 6.467104591836735\n",
      "Epoch: 1\n",
      "current_weight_diff: 0.7148435528270801\n",
      "sqrd_recon_error: 2.9324107142857145\n",
      "Epoch: 2\n",
      "current_weight_diff: 0.22459150645540218\n",
      "sqrd_recon_error: 2.0640178571428573\n",
      "Epoch: 3\n",
      "current_weight_diff: 0.1482126465482628\n",
      "sqrd_recon_error: 1.3381505102040816\n",
      "Epoch: 4\n",
      "current_weight_diff: 0.11458362955314445\n",
      "sqrd_recon_error: 0.8787627551020408\n",
      "Epoch: 5\n",
      "current_weight_diff: 0.09265965399543516\n",
      "sqrd_recon_error: 0.7263392857142857\n",
      "Epoch: 6\n",
      "current_weight_diff: 0.10991596732856693\n",
      "sqrd_recon_error: 0.4792346938775511\n",
      "Epoch: 7\n",
      "current_weight_diff: 0.17120974687203408\n",
      "sqrd_recon_error: 0.4459821428571428\n",
      "Epoch: 8\n",
      "current_weight_diff: 0.586687344332827\n",
      "sqrd_recon_error: 0.41964285714285715\n",
      "Epoch: 9\n",
      "current_weight_diff: 0.4037773466546274\n",
      "sqrd_recon_error: 0.39144132653061225\n"
     ]
    },
    {
     "data": {
      "application/vnd.jupyter.widget-view+json": {
       "model_id": "2a5123fbfd2b4dd79f58a5289a0c19ea",
       "version_major": 2,
       "version_minor": 0
      },
      "text/plain": [
       "VBox(children=(Label(value='0.001 MB of 0.001 MB uploaded\\r'), FloatProgress(value=1.0, max=1.0)))"
      ]
     },
     "metadata": {},
     "output_type": "display_data"
    },
    {
     "name": "stderr",
     "output_type": "stream",
     "text": [
      "\u001b[34m\u001b[1mwandb\u001b[0m: \u001b[32m\u001b[41mERROR\u001b[0m Problem finishing run\n",
      "Traceback (most recent call last):\n",
      "  File \"/Library/Frameworks/Python.framework/Versions/3.10/lib/python3.10/site-packages/wandb/sdk/wandb_run.py\", line 2313, in _atexit_cleanup\n",
      "    self._on_finish()\n",
      "  File \"/Library/Frameworks/Python.framework/Versions/3.10/lib/python3.10/site-packages/wandb/sdk/wandb_run.py\", line 2567, in _on_finish\n",
      "    self._footer_file_pusher_status_info(\n",
      "  File \"/Library/Frameworks/Python.framework/Versions/3.10/lib/python3.10/site-packages/wandb/sdk/wandb_run.py\", line 3749, in _footer_file_pusher_status_info\n",
      "    Run._footer_single_run_file_pusher_status_info(\n",
      "  File \"/Library/Frameworks/Python.framework/Versions/3.10/lib/python3.10/site-packages/wandb/sdk/wandb_run.py\", line 3802, in _footer_single_run_file_pusher_status_info\n",
      "    printer.progress_close()\n",
      "  File \"/Library/Frameworks/Python.framework/Versions/3.10/lib/python3.10/site-packages/wandb/sdk/lib/printer.py\", line 292, in progress_close\n",
      "    self._progress.close()\n",
      "  File \"/Library/Frameworks/Python.framework/Versions/3.10/lib/python3.10/site-packages/wandb/sdk/lib/ipython.py\", line 128, in close\n",
      "    self._widget.close()\n",
      "  File \"/Users/lucasericsson/Library/Python/3.10/lib/python/site-packages/ipywidgets/widgets/widget.py\", line 500, in close\n",
      "    self.comm.close()\n",
      "  File \"/Users/lucasericsson/Library/Python/3.10/lib/python/site-packages/comm/base_comm.py\", line 109, in close\n",
      "    comm.get_comm_manager().unregister_comm(self)\n",
      "  File \"/Users/lucasericsson/Library/Python/3.10/lib/python/site-packages/comm/base_comm.py\", line 199, in unregister_comm\n",
      "    comm = self.comms.pop(comm.comm_id)\n",
      "KeyError: '2a5123fbfd2b4dd79f58a5289a0c19ea'\n",
      "\u001b[34m\u001b[1mwandb\u001b[0m: Sweep Agent: Waiting for job.\n",
      "\u001b[34m\u001b[1mwandb\u001b[0m: Job received.\n",
      "\u001b[34m\u001b[1mwandb\u001b[0m: Agent Starting Run: j7luqqs9 with config:\n",
      "\u001b[34m\u001b[1mwandb\u001b[0m: \tepochs: 30\n",
      "\u001b[34m\u001b[1mwandb\u001b[0m: \thidden_units: 10\n",
      "\u001b[34m\u001b[1mwandb\u001b[0m: \tk: 2\n",
      "\u001b[34m\u001b[1mwandb\u001b[0m: \tminibatch: 200\n",
      "Failed to detect the name of this notebook, you can set it manually with the WANDB_NOTEBOOK_NAME environment variable to enable code saving.\n",
      "\u001b[34m\u001b[1mwandb\u001b[0m: \u001b[33mWARNING\u001b[0m Ignored wandb.init() arg project when running a sweep.\n"
     ]
    },
    {
     "data": {
      "text/html": [
       "Tracking run with wandb version 0.16.6"
      ],
      "text/plain": [
       "<IPython.core.display.HTML object>"
      ]
     },
     "metadata": {},
     "output_type": "display_data"
    },
    {
     "data": {
      "text/html": [
       "Run data is saved locally in <code>/Users/lucasericsson/repos/restricted-boltzmann-machine/wandb/run-20240408_233652-j7luqqs9</code>"
      ],
      "text/plain": [
       "<IPython.core.display.HTML object>"
      ]
     },
     "metadata": {},
     "output_type": "display_data"
    },
    {
     "data": {
      "text/html": [
       "Syncing run <strong><a href='https://wandb.ai/lucasericsson222/restricted_boltzmann_machine_sweep/runs/j7luqqs9' target=\"_blank\">azure-sweep-8</a></strong> to <a href='https://wandb.ai/lucasericsson222/restricted_boltzmann_machine_sweep' target=\"_blank\">Weights & Biases</a> (<a href='https://wandb.me/run' target=\"_blank\">docs</a>)<br/>Sweep page: <a href='https://wandb.ai/lucasericsson222/restricted_boltzmann_machine_sweep/sweeps/r1b5058x' target=\"_blank\">https://wandb.ai/lucasericsson222/restricted_boltzmann_machine_sweep/sweeps/r1b5058x</a>"
      ],
      "text/plain": [
       "<IPython.core.display.HTML object>"
      ]
     },
     "metadata": {},
     "output_type": "display_data"
    },
    {
     "data": {
      "text/html": [
       " View project at <a href='https://wandb.ai/lucasericsson222/restricted_boltzmann_machine_sweep' target=\"_blank\">https://wandb.ai/lucasericsson222/restricted_boltzmann_machine_sweep</a>"
      ],
      "text/plain": [
       "<IPython.core.display.HTML object>"
      ]
     },
     "metadata": {},
     "output_type": "display_data"
    },
    {
     "data": {
      "text/html": [
       " View sweep at <a href='https://wandb.ai/lucasericsson222/restricted_boltzmann_machine_sweep/sweeps/r1b5058x' target=\"_blank\">https://wandb.ai/lucasericsson222/restricted_boltzmann_machine_sweep/sweeps/r1b5058x</a>"
      ],
      "text/plain": [
       "<IPython.core.display.HTML object>"
      ]
     },
     "metadata": {},
     "output_type": "display_data"
    },
    {
     "data": {
      "text/html": [
       " View run at <a href='https://wandb.ai/lucasericsson222/restricted_boltzmann_machine_sweep/runs/j7luqqs9' target=\"_blank\">https://wandb.ai/lucasericsson222/restricted_boltzmann_machine_sweep/runs/j7luqqs9</a>"
      ],
      "text/plain": [
       "<IPython.core.display.HTML object>"
      ]
     },
     "metadata": {},
     "output_type": "display_data"
    },
    {
     "name": "stdout",
     "output_type": "stream",
     "text": [
      "(60000, 784)\n",
      "Epoch: 0\n",
      "current_weight_diff: 456.7571331366516\n",
      "sqrd_recon_error: 8.499534438775509\n",
      "Epoch: 1\n",
      "current_weight_diff: 0.9844398236532925\n",
      "sqrd_recon_error: 4.068692602040816\n",
      "Epoch: 2\n",
      "current_weight_diff: 0.3056082227312655\n",
      "sqrd_recon_error: 2.71265943877551\n",
      "Epoch: 3\n",
      "current_weight_diff: 0.2148004342039499\n",
      "sqrd_recon_error: 2.358214285714286\n",
      "Epoch: 4\n",
      "current_weight_diff: 0.12207076920905233\n",
      "sqrd_recon_error: 2.1844579081632656\n",
      "Epoch: 5\n",
      "current_weight_diff: 0.13105779125167175\n",
      "sqrd_recon_error: 2.055580357142857\n",
      "Epoch: 6\n",
      "current_weight_diff: 0.3137660951802843\n",
      "sqrd_recon_error: 1.8167346938775508\n",
      "Epoch: 7\n",
      "current_weight_diff: 0.07725010739448629\n",
      "sqrd_recon_error: 1.7962436224489795\n",
      "Epoch: 8\n",
      "current_weight_diff: 0.1189051429150678\n",
      "sqrd_recon_error: 1.766951530612245\n",
      "Epoch: 9\n",
      "current_weight_diff: 0.26638785923548075\n",
      "sqrd_recon_error: 1.6228635204081632\n",
      "Epoch: 10\n",
      "current_weight_diff: 0.23930346812791795\n",
      "sqrd_recon_error: 1.404668367346939\n",
      "Epoch: 11\n",
      "current_weight_diff: 0.3100131003993889\n",
      "sqrd_recon_error: 1.0846173469387754\n",
      "Epoch: 12\n",
      "current_weight_diff: 0.21835813383324493\n",
      "sqrd_recon_error: 0.9017474489795919\n",
      "Epoch: 13\n",
      "current_weight_diff: 0.1167462354782541\n",
      "sqrd_recon_error: 0.8385969387755102\n",
      "Epoch: 14\n",
      "current_weight_diff: 0.09469480523147297\n",
      "sqrd_recon_error: 0.7304528061224489\n",
      "Epoch: 15\n",
      "current_weight_diff: 0.09223505358090417\n",
      "sqrd_recon_error: 0.7264668367346938\n",
      "Epoch: 16\n",
      "current_weight_diff: 0.06665102380225153\n",
      "sqrd_recon_error: 0.6866900510204081\n",
      "Epoch: 17\n",
      "current_weight_diff: 0.08303565091312778\n",
      "sqrd_recon_error: 0.6949107142857143\n",
      "Epoch: 18\n",
      "current_weight_diff: 0.07562220862327705\n",
      "sqrd_recon_error: 0.6568558673469387\n",
      "Epoch: 19\n",
      "current_weight_diff: 0.08851194389079219\n",
      "sqrd_recon_error: 0.6149170918367347\n",
      "Epoch: 20\n",
      "current_weight_diff: 0.08310454231968936\n",
      "sqrd_recon_error: 0.6204528061224489\n",
      "Epoch: 21\n",
      "current_weight_diff: 0.12449970822827588\n",
      "sqrd_recon_error: 0.6482334183673469\n",
      "Epoch: 22\n",
      "current_weight_diff: 0.05770066078579132\n",
      "sqrd_recon_error: 0.6285841836734694\n",
      "Epoch: 23\n",
      "current_weight_diff: 0.06637318727360761\n",
      "sqrd_recon_error: 0.6078890306122449\n",
      "Epoch: 24\n",
      "current_weight_diff: 0.051922840542760036\n",
      "sqrd_recon_error: 0.6251594387755103\n",
      "Epoch: 25\n",
      "current_weight_diff: 0.058505606394032954\n",
      "sqrd_recon_error: 0.6011734693877551\n",
      "Epoch: 26\n",
      "current_weight_diff: 0.2094689531009547\n",
      "sqrd_recon_error: 0.6295089285714286\n",
      "Epoch: 27\n",
      "current_weight_diff: 0.05633800820842798\n",
      "sqrd_recon_error: 0.6611670918367346\n",
      "Epoch: 28\n",
      "current_weight_diff: 0.05241731330645836\n",
      "sqrd_recon_error: 0.6013392857142857\n",
      "Epoch: 29\n",
      "current_weight_diff: 0.06653113414772387\n",
      "sqrd_recon_error: 0.5738392857142857\n"
     ]
    },
    {
     "data": {
      "application/vnd.jupyter.widget-view+json": {
       "model_id": "ad6f2f22a1594fd7b373fa67cd13f96f",
       "version_major": 2,
       "version_minor": 0
      },
      "text/plain": [
       "VBox(children=(Label(value='0.001 MB of 0.001 MB uploaded\\r'), FloatProgress(value=1.0, max=1.0)))"
      ]
     },
     "metadata": {},
     "output_type": "display_data"
    },
    {
     "name": "stderr",
     "output_type": "stream",
     "text": [
      "\u001b[34m\u001b[1mwandb\u001b[0m: \u001b[32m\u001b[41mERROR\u001b[0m Problem finishing run\n",
      "Traceback (most recent call last):\n",
      "  File \"/Library/Frameworks/Python.framework/Versions/3.10/lib/python3.10/site-packages/wandb/sdk/wandb_run.py\", line 2313, in _atexit_cleanup\n",
      "    self._on_finish()\n",
      "  File \"/Library/Frameworks/Python.framework/Versions/3.10/lib/python3.10/site-packages/wandb/sdk/wandb_run.py\", line 2567, in _on_finish\n",
      "    self._footer_file_pusher_status_info(\n",
      "  File \"/Library/Frameworks/Python.framework/Versions/3.10/lib/python3.10/site-packages/wandb/sdk/wandb_run.py\", line 3749, in _footer_file_pusher_status_info\n",
      "    Run._footer_single_run_file_pusher_status_info(\n",
      "  File \"/Library/Frameworks/Python.framework/Versions/3.10/lib/python3.10/site-packages/wandb/sdk/wandb_run.py\", line 3802, in _footer_single_run_file_pusher_status_info\n",
      "    printer.progress_close()\n",
      "  File \"/Library/Frameworks/Python.framework/Versions/3.10/lib/python3.10/site-packages/wandb/sdk/lib/printer.py\", line 292, in progress_close\n",
      "    self._progress.close()\n",
      "  File \"/Library/Frameworks/Python.framework/Versions/3.10/lib/python3.10/site-packages/wandb/sdk/lib/ipython.py\", line 128, in close\n",
      "    self._widget.close()\n",
      "  File \"/Users/lucasericsson/Library/Python/3.10/lib/python/site-packages/ipywidgets/widgets/widget.py\", line 500, in close\n",
      "    self.comm.close()\n",
      "  File \"/Users/lucasericsson/Library/Python/3.10/lib/python/site-packages/comm/base_comm.py\", line 109, in close\n",
      "    comm.get_comm_manager().unregister_comm(self)\n",
      "  File \"/Users/lucasericsson/Library/Python/3.10/lib/python/site-packages/comm/base_comm.py\", line 199, in unregister_comm\n",
      "    comm = self.comms.pop(comm.comm_id)\n",
      "KeyError: 'ad6f2f22a1594fd7b373fa67cd13f96f'\n",
      "\u001b[34m\u001b[1mwandb\u001b[0m: Agent Starting Run: 2qffi061 with config:\n",
      "\u001b[34m\u001b[1mwandb\u001b[0m: \tepochs: 5\n",
      "\u001b[34m\u001b[1mwandb\u001b[0m: \thidden_units: 20\n",
      "\u001b[34m\u001b[1mwandb\u001b[0m: \tk: 2\n",
      "\u001b[34m\u001b[1mwandb\u001b[0m: \tminibatch: 50\n",
      "Failed to detect the name of this notebook, you can set it manually with the WANDB_NOTEBOOK_NAME environment variable to enable code saving.\n",
      "\u001b[34m\u001b[1mwandb\u001b[0m: \u001b[33mWARNING\u001b[0m Ignored wandb.init() arg project when running a sweep.\n"
     ]
    },
    {
     "data": {
      "text/html": [
       "Tracking run with wandb version 0.16.6"
      ],
      "text/plain": [
       "<IPython.core.display.HTML object>"
      ]
     },
     "metadata": {},
     "output_type": "display_data"
    },
    {
     "data": {
      "text/html": [
       "Run data is saved locally in <code>/Users/lucasericsson/repos/restricted-boltzmann-machine/wandb/run-20240408_233916-2qffi061</code>"
      ],
      "text/plain": [
       "<IPython.core.display.HTML object>"
      ]
     },
     "metadata": {},
     "output_type": "display_data"
    },
    {
     "data": {
      "text/html": [
       "Syncing run <strong><a href='https://wandb.ai/lucasericsson222/restricted_boltzmann_machine_sweep/runs/2qffi061' target=\"_blank\">quiet-sweep-9</a></strong> to <a href='https://wandb.ai/lucasericsson222/restricted_boltzmann_machine_sweep' target=\"_blank\">Weights & Biases</a> (<a href='https://wandb.me/run' target=\"_blank\">docs</a>)<br/>Sweep page: <a href='https://wandb.ai/lucasericsson222/restricted_boltzmann_machine_sweep/sweeps/r1b5058x' target=\"_blank\">https://wandb.ai/lucasericsson222/restricted_boltzmann_machine_sweep/sweeps/r1b5058x</a>"
      ],
      "text/plain": [
       "<IPython.core.display.HTML object>"
      ]
     },
     "metadata": {},
     "output_type": "display_data"
    },
    {
     "data": {
      "text/html": [
       " View project at <a href='https://wandb.ai/lucasericsson222/restricted_boltzmann_machine_sweep' target=\"_blank\">https://wandb.ai/lucasericsson222/restricted_boltzmann_machine_sweep</a>"
      ],
      "text/plain": [
       "<IPython.core.display.HTML object>"
      ]
     },
     "metadata": {},
     "output_type": "display_data"
    },
    {
     "data": {
      "text/html": [
       " View sweep at <a href='https://wandb.ai/lucasericsson222/restricted_boltzmann_machine_sweep/sweeps/r1b5058x' target=\"_blank\">https://wandb.ai/lucasericsson222/restricted_boltzmann_machine_sweep/sweeps/r1b5058x</a>"
      ],
      "text/plain": [
       "<IPython.core.display.HTML object>"
      ]
     },
     "metadata": {},
     "output_type": "display_data"
    },
    {
     "data": {
      "text/html": [
       " View run at <a href='https://wandb.ai/lucasericsson222/restricted_boltzmann_machine_sweep/runs/2qffi061' target=\"_blank\">https://wandb.ai/lucasericsson222/restricted_boltzmann_machine_sweep/runs/2qffi061</a>"
      ],
      "text/plain": [
       "<IPython.core.display.HTML object>"
      ]
     },
     "metadata": {},
     "output_type": "display_data"
    },
    {
     "name": "stdout",
     "output_type": "stream",
     "text": [
      "(60000, 784)\n",
      "Epoch: 0\n",
      "current_weight_diff: 56.46230568627738\n",
      "sqrd_recon_error: 1.9608928571428572\n",
      "Epoch: 1\n",
      "current_weight_diff: 0.5838041867085926\n",
      "sqrd_recon_error: 1.0557142857142856\n",
      "Epoch: 2\n",
      "current_weight_diff: 0.4319630882891553\n",
      "sqrd_recon_error: 0.6827295918367347\n",
      "Epoch: 3\n",
      "current_weight_diff: 0.25780773482392655\n",
      "sqrd_recon_error: 0.5304591836734693\n",
      "Epoch: 4\n",
      "current_weight_diff: 0.2651900412721102\n",
      "sqrd_recon_error: 0.4183928571428572\n"
     ]
    },
    {
     "data": {
      "application/vnd.jupyter.widget-view+json": {
       "model_id": "0b1aac93c45b4e2cac37ea8c828359b2",
       "version_major": 2,
       "version_minor": 0
      },
      "text/plain": [
       "VBox(children=(Label(value='0.001 MB of 0.001 MB uploaded\\r'), FloatProgress(value=1.0, max=1.0)))"
      ]
     },
     "metadata": {},
     "output_type": "display_data"
    },
    {
     "name": "stderr",
     "output_type": "stream",
     "text": [
      "\u001b[34m\u001b[1mwandb\u001b[0m: \u001b[32m\u001b[41mERROR\u001b[0m Problem finishing run\n",
      "Traceback (most recent call last):\n",
      "  File \"/Library/Frameworks/Python.framework/Versions/3.10/lib/python3.10/site-packages/wandb/sdk/wandb_run.py\", line 2313, in _atexit_cleanup\n",
      "    self._on_finish()\n",
      "  File \"/Library/Frameworks/Python.framework/Versions/3.10/lib/python3.10/site-packages/wandb/sdk/wandb_run.py\", line 2567, in _on_finish\n",
      "    self._footer_file_pusher_status_info(\n",
      "  File \"/Library/Frameworks/Python.framework/Versions/3.10/lib/python3.10/site-packages/wandb/sdk/wandb_run.py\", line 3749, in _footer_file_pusher_status_info\n",
      "    Run._footer_single_run_file_pusher_status_info(\n",
      "  File \"/Library/Frameworks/Python.framework/Versions/3.10/lib/python3.10/site-packages/wandb/sdk/wandb_run.py\", line 3802, in _footer_single_run_file_pusher_status_info\n",
      "    printer.progress_close()\n",
      "  File \"/Library/Frameworks/Python.framework/Versions/3.10/lib/python3.10/site-packages/wandb/sdk/lib/printer.py\", line 292, in progress_close\n",
      "    self._progress.close()\n",
      "  File \"/Library/Frameworks/Python.framework/Versions/3.10/lib/python3.10/site-packages/wandb/sdk/lib/ipython.py\", line 128, in close\n",
      "    self._widget.close()\n",
      "  File \"/Users/lucasericsson/Library/Python/3.10/lib/python/site-packages/ipywidgets/widgets/widget.py\", line 500, in close\n",
      "    self.comm.close()\n",
      "  File \"/Users/lucasericsson/Library/Python/3.10/lib/python/site-packages/comm/base_comm.py\", line 109, in close\n",
      "    comm.get_comm_manager().unregister_comm(self)\n",
      "  File \"/Users/lucasericsson/Library/Python/3.10/lib/python/site-packages/comm/base_comm.py\", line 199, in unregister_comm\n",
      "    comm = self.comms.pop(comm.comm_id)\n",
      "KeyError: '0b1aac93c45b4e2cac37ea8c828359b2'\n",
      "\u001b[34m\u001b[1mwandb\u001b[0m: Agent Starting Run: py63206c with config:\n",
      "\u001b[34m\u001b[1mwandb\u001b[0m: \tepochs: 2\n",
      "\u001b[34m\u001b[1mwandb\u001b[0m: \thidden_units: 20\n",
      "\u001b[34m\u001b[1mwandb\u001b[0m: \tk: 2\n",
      "\u001b[34m\u001b[1mwandb\u001b[0m: \tminibatch: 100\n",
      "Failed to detect the name of this notebook, you can set it manually with the WANDB_NOTEBOOK_NAME environment variable to enable code saving.\n",
      "\u001b[34m\u001b[1mwandb\u001b[0m: \u001b[33mWARNING\u001b[0m Ignored wandb.init() arg project when running a sweep.\n"
     ]
    },
    {
     "data": {
      "text/html": [
       "Tracking run with wandb version 0.16.6"
      ],
      "text/plain": [
       "<IPython.core.display.HTML object>"
      ]
     },
     "metadata": {},
     "output_type": "display_data"
    },
    {
     "data": {
      "text/html": [
       "Run data is saved locally in <code>/Users/lucasericsson/repos/restricted-boltzmann-machine/wandb/run-20240408_233926-py63206c</code>"
      ],
      "text/plain": [
       "<IPython.core.display.HTML object>"
      ]
     },
     "metadata": {},
     "output_type": "display_data"
    },
    {
     "data": {
      "text/html": [
       "Syncing run <strong><a href='https://wandb.ai/lucasericsson222/restricted_boltzmann_machine_sweep/runs/py63206c' target=\"_blank\">wobbly-sweep-10</a></strong> to <a href='https://wandb.ai/lucasericsson222/restricted_boltzmann_machine_sweep' target=\"_blank\">Weights & Biases</a> (<a href='https://wandb.me/run' target=\"_blank\">docs</a>)<br/>Sweep page: <a href='https://wandb.ai/lucasericsson222/restricted_boltzmann_machine_sweep/sweeps/r1b5058x' target=\"_blank\">https://wandb.ai/lucasericsson222/restricted_boltzmann_machine_sweep/sweeps/r1b5058x</a>"
      ],
      "text/plain": [
       "<IPython.core.display.HTML object>"
      ]
     },
     "metadata": {},
     "output_type": "display_data"
    },
    {
     "data": {
      "text/html": [
       " View project at <a href='https://wandb.ai/lucasericsson222/restricted_boltzmann_machine_sweep' target=\"_blank\">https://wandb.ai/lucasericsson222/restricted_boltzmann_machine_sweep</a>"
      ],
      "text/plain": [
       "<IPython.core.display.HTML object>"
      ]
     },
     "metadata": {},
     "output_type": "display_data"
    },
    {
     "data": {
      "text/html": [
       " View sweep at <a href='https://wandb.ai/lucasericsson222/restricted_boltzmann_machine_sweep/sweeps/r1b5058x' target=\"_blank\">https://wandb.ai/lucasericsson222/restricted_boltzmann_machine_sweep/sweeps/r1b5058x</a>"
      ],
      "text/plain": [
       "<IPython.core.display.HTML object>"
      ]
     },
     "metadata": {},
     "output_type": "display_data"
    },
    {
     "data": {
      "text/html": [
       " View run at <a href='https://wandb.ai/lucasericsson222/restricted_boltzmann_machine_sweep/runs/py63206c' target=\"_blank\">https://wandb.ai/lucasericsson222/restricted_boltzmann_machine_sweep/runs/py63206c</a>"
      ],
      "text/plain": [
       "<IPython.core.display.HTML object>"
      ]
     },
     "metadata": {},
     "output_type": "display_data"
    },
    {
     "name": "stdout",
     "output_type": "stream",
     "text": [
      "(60000, 784)\n",
      "Epoch: 0\n",
      "current_weight_diff: 90.50351094350754\n",
      "sqrd_recon_error: 3.4957525510204084\n",
      "Epoch: 1\n",
      "current_weight_diff: 0.5352369575584531\n",
      "sqrd_recon_error: 1.7871811224489795\n"
     ]
    },
    {
     "data": {
      "application/vnd.jupyter.widget-view+json": {
       "model_id": "d9e272b16e1445c9ad1a3326abfd51ab",
       "version_major": 2,
       "version_minor": 0
      },
      "text/plain": [
       "VBox(children=(Label(value='0.001 MB of 0.001 MB uploaded\\r'), FloatProgress(value=1.0, max=1.0)))"
      ]
     },
     "metadata": {},
     "output_type": "display_data"
    },
    {
     "name": "stderr",
     "output_type": "stream",
     "text": [
      "\u001b[34m\u001b[1mwandb\u001b[0m: \u001b[32m\u001b[41mERROR\u001b[0m Problem finishing run\n",
      "Traceback (most recent call last):\n",
      "  File \"/Library/Frameworks/Python.framework/Versions/3.10/lib/python3.10/site-packages/wandb/sdk/wandb_run.py\", line 2313, in _atexit_cleanup\n",
      "    self._on_finish()\n",
      "  File \"/Library/Frameworks/Python.framework/Versions/3.10/lib/python3.10/site-packages/wandb/sdk/wandb_run.py\", line 2567, in _on_finish\n",
      "    self._footer_file_pusher_status_info(\n",
      "  File \"/Library/Frameworks/Python.framework/Versions/3.10/lib/python3.10/site-packages/wandb/sdk/wandb_run.py\", line 3749, in _footer_file_pusher_status_info\n",
      "    Run._footer_single_run_file_pusher_status_info(\n",
      "  File \"/Library/Frameworks/Python.framework/Versions/3.10/lib/python3.10/site-packages/wandb/sdk/wandb_run.py\", line 3802, in _footer_single_run_file_pusher_status_info\n",
      "    printer.progress_close()\n",
      "  File \"/Library/Frameworks/Python.framework/Versions/3.10/lib/python3.10/site-packages/wandb/sdk/lib/printer.py\", line 292, in progress_close\n",
      "    self._progress.close()\n",
      "  File \"/Library/Frameworks/Python.framework/Versions/3.10/lib/python3.10/site-packages/wandb/sdk/lib/ipython.py\", line 128, in close\n",
      "    self._widget.close()\n",
      "  File \"/Users/lucasericsson/Library/Python/3.10/lib/python/site-packages/ipywidgets/widgets/widget.py\", line 500, in close\n",
      "    self.comm.close()\n",
      "  File \"/Users/lucasericsson/Library/Python/3.10/lib/python/site-packages/comm/base_comm.py\", line 109, in close\n",
      "    comm.get_comm_manager().unregister_comm(self)\n",
      "  File \"/Users/lucasericsson/Library/Python/3.10/lib/python/site-packages/comm/base_comm.py\", line 199, in unregister_comm\n",
      "    comm = self.comms.pop(comm.comm_id)\n",
      "KeyError: 'd9e272b16e1445c9ad1a3326abfd51ab'\n",
      "\u001b[34m\u001b[1mwandb\u001b[0m: Agent Starting Run: cbge9hxi with config:\n",
      "\u001b[34m\u001b[1mwandb\u001b[0m: \tepochs: 1\n",
      "\u001b[34m\u001b[1mwandb\u001b[0m: \thidden_units: 50\n",
      "\u001b[34m\u001b[1mwandb\u001b[0m: \tk: 10\n",
      "\u001b[34m\u001b[1mwandb\u001b[0m: \tminibatch: 150\n",
      "Failed to detect the name of this notebook, you can set it manually with the WANDB_NOTEBOOK_NAME environment variable to enable code saving.\n",
      "\u001b[34m\u001b[1mwandb\u001b[0m: \u001b[33mWARNING\u001b[0m Ignored wandb.init() arg project when running a sweep.\n"
     ]
    },
    {
     "data": {
      "text/html": [
       "Tracking run with wandb version 0.16.6"
      ],
      "text/plain": [
       "<IPython.core.display.HTML object>"
      ]
     },
     "metadata": {},
     "output_type": "display_data"
    },
    {
     "data": {
      "text/html": [
       "Run data is saved locally in <code>/Users/lucasericsson/repos/restricted-boltzmann-machine/wandb/run-20240408_233937-cbge9hxi</code>"
      ],
      "text/plain": [
       "<IPython.core.display.HTML object>"
      ]
     },
     "metadata": {},
     "output_type": "display_data"
    },
    {
     "data": {
      "text/html": [
       "Syncing run <strong><a href='https://wandb.ai/lucasericsson222/restricted_boltzmann_machine_sweep/runs/cbge9hxi' target=\"_blank\">trim-sweep-11</a></strong> to <a href='https://wandb.ai/lucasericsson222/restricted_boltzmann_machine_sweep' target=\"_blank\">Weights & Biases</a> (<a href='https://wandb.me/run' target=\"_blank\">docs</a>)<br/>Sweep page: <a href='https://wandb.ai/lucasericsson222/restricted_boltzmann_machine_sweep/sweeps/r1b5058x' target=\"_blank\">https://wandb.ai/lucasericsson222/restricted_boltzmann_machine_sweep/sweeps/r1b5058x</a>"
      ],
      "text/plain": [
       "<IPython.core.display.HTML object>"
      ]
     },
     "metadata": {},
     "output_type": "display_data"
    },
    {
     "data": {
      "text/html": [
       " View project at <a href='https://wandb.ai/lucasericsson222/restricted_boltzmann_machine_sweep' target=\"_blank\">https://wandb.ai/lucasericsson222/restricted_boltzmann_machine_sweep</a>"
      ],
      "text/plain": [
       "<IPython.core.display.HTML object>"
      ]
     },
     "metadata": {},
     "output_type": "display_data"
    },
    {
     "data": {
      "text/html": [
       " View sweep at <a href='https://wandb.ai/lucasericsson222/restricted_boltzmann_machine_sweep/sweeps/r1b5058x' target=\"_blank\">https://wandb.ai/lucasericsson222/restricted_boltzmann_machine_sweep/sweeps/r1b5058x</a>"
      ],
      "text/plain": [
       "<IPython.core.display.HTML object>"
      ]
     },
     "metadata": {},
     "output_type": "display_data"
    },
    {
     "data": {
      "text/html": [
       " View run at <a href='https://wandb.ai/lucasericsson222/restricted_boltzmann_machine_sweep/runs/cbge9hxi' target=\"_blank\">https://wandb.ai/lucasericsson222/restricted_boltzmann_machine_sweep/runs/cbge9hxi</a>"
      ],
      "text/plain": [
       "<IPython.core.display.HTML object>"
      ]
     },
     "metadata": {},
     "output_type": "display_data"
    },
    {
     "name": "stdout",
     "output_type": "stream",
     "text": [
      "(60000, 784)\n",
      "Epoch: 0\n",
      "current_weight_diff: 39.783627937594346\n",
      "sqrd_recon_error: 4.763452380952381\n"
     ]
    },
    {
     "data": {
      "application/vnd.jupyter.widget-view+json": {
       "model_id": "b4eb24c23eb54fc397c2f4087f12f01d",
       "version_major": 2,
       "version_minor": 0
      },
      "text/plain": [
       "VBox(children=(Label(value='0.004 MB of 0.004 MB uploaded\\r'), FloatProgress(value=1.0, max=1.0)))"
      ]
     },
     "metadata": {},
     "output_type": "display_data"
    },
    {
     "name": "stderr",
     "output_type": "stream",
     "text": [
      "\u001b[34m\u001b[1mwandb\u001b[0m: \u001b[32m\u001b[41mERROR\u001b[0m Problem finishing run\n",
      "Traceback (most recent call last):\n",
      "  File \"/Library/Frameworks/Python.framework/Versions/3.10/lib/python3.10/site-packages/wandb/sdk/wandb_run.py\", line 2313, in _atexit_cleanup\n",
      "    self._on_finish()\n",
      "  File \"/Library/Frameworks/Python.framework/Versions/3.10/lib/python3.10/site-packages/wandb/sdk/wandb_run.py\", line 2567, in _on_finish\n",
      "    self._footer_file_pusher_status_info(\n",
      "  File \"/Library/Frameworks/Python.framework/Versions/3.10/lib/python3.10/site-packages/wandb/sdk/wandb_run.py\", line 3749, in _footer_file_pusher_status_info\n",
      "    Run._footer_single_run_file_pusher_status_info(\n",
      "  File \"/Library/Frameworks/Python.framework/Versions/3.10/lib/python3.10/site-packages/wandb/sdk/wandb_run.py\", line 3802, in _footer_single_run_file_pusher_status_info\n",
      "    printer.progress_close()\n",
      "  File \"/Library/Frameworks/Python.framework/Versions/3.10/lib/python3.10/site-packages/wandb/sdk/lib/printer.py\", line 292, in progress_close\n",
      "    self._progress.close()\n",
      "  File \"/Library/Frameworks/Python.framework/Versions/3.10/lib/python3.10/site-packages/wandb/sdk/lib/ipython.py\", line 128, in close\n",
      "    self._widget.close()\n",
      "  File \"/Users/lucasericsson/Library/Python/3.10/lib/python/site-packages/ipywidgets/widgets/widget.py\", line 500, in close\n",
      "    self.comm.close()\n",
      "  File \"/Users/lucasericsson/Library/Python/3.10/lib/python/site-packages/comm/base_comm.py\", line 109, in close\n",
      "    comm.get_comm_manager().unregister_comm(self)\n",
      "  File \"/Users/lucasericsson/Library/Python/3.10/lib/python/site-packages/comm/base_comm.py\", line 199, in unregister_comm\n",
      "    comm = self.comms.pop(comm.comm_id)\n",
      "KeyError: 'b4eb24c23eb54fc397c2f4087f12f01d'\n",
      "\u001b[34m\u001b[1mwandb\u001b[0m: Agent Starting Run: rbug5ube with config:\n",
      "\u001b[34m\u001b[1mwandb\u001b[0m: \tepochs: 30\n",
      "\u001b[34m\u001b[1mwandb\u001b[0m: \thidden_units: 784\n",
      "\u001b[34m\u001b[1mwandb\u001b[0m: \tk: 20\n",
      "\u001b[34m\u001b[1mwandb\u001b[0m: \tminibatch: 50\n",
      "Failed to detect the name of this notebook, you can set it manually with the WANDB_NOTEBOOK_NAME environment variable to enable code saving.\n",
      "\u001b[34m\u001b[1mwandb\u001b[0m: \u001b[33mWARNING\u001b[0m Ignored wandb.init() arg project when running a sweep.\n"
     ]
    },
    {
     "data": {
      "text/html": [
       "Tracking run with wandb version 0.16.6"
      ],
      "text/plain": [
       "<IPython.core.display.HTML object>"
      ]
     },
     "metadata": {},
     "output_type": "display_data"
    },
    {
     "data": {
      "text/html": [
       "Run data is saved locally in <code>/Users/lucasericsson/repos/restricted-boltzmann-machine/wandb/run-20240408_233951-rbug5ube</code>"
      ],
      "text/plain": [
       "<IPython.core.display.HTML object>"
      ]
     },
     "metadata": {},
     "output_type": "display_data"
    },
    {
     "data": {
      "text/html": [
       "Syncing run <strong><a href='https://wandb.ai/lucasericsson222/restricted_boltzmann_machine_sweep/runs/rbug5ube' target=\"_blank\">rural-sweep-12</a></strong> to <a href='https://wandb.ai/lucasericsson222/restricted_boltzmann_machine_sweep' target=\"_blank\">Weights & Biases</a> (<a href='https://wandb.me/run' target=\"_blank\">docs</a>)<br/>Sweep page: <a href='https://wandb.ai/lucasericsson222/restricted_boltzmann_machine_sweep/sweeps/r1b5058x' target=\"_blank\">https://wandb.ai/lucasericsson222/restricted_boltzmann_machine_sweep/sweeps/r1b5058x</a>"
      ],
      "text/plain": [
       "<IPython.core.display.HTML object>"
      ]
     },
     "metadata": {},
     "output_type": "display_data"
    },
    {
     "data": {
      "text/html": [
       " View project at <a href='https://wandb.ai/lucasericsson222/restricted_boltzmann_machine_sweep' target=\"_blank\">https://wandb.ai/lucasericsson222/restricted_boltzmann_machine_sweep</a>"
      ],
      "text/plain": [
       "<IPython.core.display.HTML object>"
      ]
     },
     "metadata": {},
     "output_type": "display_data"
    },
    {
     "data": {
      "text/html": [
       " View sweep at <a href='https://wandb.ai/lucasericsson222/restricted_boltzmann_machine_sweep/sweeps/r1b5058x' target=\"_blank\">https://wandb.ai/lucasericsson222/restricted_boltzmann_machine_sweep/sweeps/r1b5058x</a>"
      ],
      "text/plain": [
       "<IPython.core.display.HTML object>"
      ]
     },
     "metadata": {},
     "output_type": "display_data"
    },
    {
     "data": {
      "text/html": [
       " View run at <a href='https://wandb.ai/lucasericsson222/restricted_boltzmann_machine_sweep/runs/rbug5ube' target=\"_blank\">https://wandb.ai/lucasericsson222/restricted_boltzmann_machine_sweep/runs/rbug5ube</a>"
      ],
      "text/plain": [
       "<IPython.core.display.HTML object>"
      ]
     },
     "metadata": {},
     "output_type": "display_data"
    },
    {
     "name": "stdout",
     "output_type": "stream",
     "text": [
      "(60000, 784)\n",
      "Epoch: 0\n",
      "current_weight_diff: 11.361349338714907\n",
      "sqrd_recon_error: 0.31936224489795917\n",
      "Epoch: 1\n",
      "current_weight_diff: 3.291257793026026\n",
      "sqrd_recon_error: 0.3964795918367347\n",
      "Epoch: 2\n",
      "current_weight_diff: 2.721256381300186\n",
      "sqrd_recon_error: 0.5744642857142856\n",
      "Epoch: 3\n",
      "current_weight_diff: 1.4136427336432842\n",
      "sqrd_recon_error: 0.5276275510204081\n",
      "Epoch: 4\n"
     ]
    },
    {
     "name": "stderr",
     "output_type": "stream",
     "text": [
      "wandb: Network error (ConnectTimeout), entering retry loop.\n"
     ]
    },
    {
     "name": "stdout",
     "output_type": "stream",
     "text": [
      "current_weight_diff: 1.3761011129791214\n",
      "sqrd_recon_error: 0.45938775510204083\n",
      "Epoch: 5\n",
      "current_weight_diff: 0.8772770696034697\n",
      "sqrd_recon_error: 0.3370918367346939\n",
      "Epoch: 6\n",
      "current_weight_diff: 0.756831144851698\n",
      "sqrd_recon_error: 0.46150510204081635\n",
      "Epoch: 7\n",
      "current_weight_diff: 0.7987243465295636\n",
      "sqrd_recon_error: 0.25295918367346937\n",
      "Epoch: 8\n",
      "current_weight_diff: 0.6527985913093578\n",
      "sqrd_recon_error: 0.23191326530612244\n",
      "Epoch: 9\n",
      "current_weight_diff: 1.3967880100140457\n",
      "sqrd_recon_error: 0.3689540816326531\n"
     ]
    },
    {
     "name": "stderr",
     "output_type": "stream",
     "text": [
      "\u001b[34m\u001b[1mwandb\u001b[0m: Network error (ConnectTimeout), entering retry loop.\n"
     ]
    },
    {
     "name": "stdout",
     "output_type": "stream",
     "text": [
      "Epoch: 10\n",
      "current_weight_diff: 2.461147982778746\n",
      "sqrd_recon_error: 0.32247448979591836\n",
      "Epoch: 11\n",
      "current_weight_diff: 0.46597652145027624\n",
      "sqrd_recon_error: 0.17329081632653062\n",
      "Epoch: 12\n",
      "current_weight_diff: 2.6920362323483937\n",
      "sqrd_recon_error: 0.17698979591836736\n",
      "Epoch: 13\n",
      "current_weight_diff: 0.8506904937387323\n",
      "sqrd_recon_error: 0.25913265306122446\n",
      "Epoch: 14\n",
      "current_weight_diff: 0.3528439498471768\n",
      "sqrd_recon_error: 0.2025\n",
      "Epoch: 15\n",
      "current_weight_diff: 0.5552908711631539\n",
      "sqrd_recon_error: 0.17040816326530614\n",
      "Epoch: 16\n",
      "current_weight_diff: 0.48410008334089333\n",
      "sqrd_recon_error: 0.11165816326530612\n",
      "Epoch: 17\n",
      "current_weight_diff: 0.34404896005095437\n",
      "sqrd_recon_error: 0.18364795918367346\n",
      "Epoch: 18\n",
      "current_weight_diff: 0.4040548714316128\n",
      "sqrd_recon_error: 0.23033163265306122\n",
      "Epoch: 19\n",
      "current_weight_diff: 0.37342089387105515\n",
      "sqrd_recon_error: 0.14732142857142858\n",
      "Epoch: 20\n",
      "current_weight_diff: 0.31328524230790955\n",
      "sqrd_recon_error: 0.18538265306122448\n",
      "Epoch: 21\n",
      "current_weight_diff: 0.5179567914549905\n",
      "sqrd_recon_error: 0.11183673469387756\n",
      "Epoch: 22\n",
      "current_weight_diff: 0.3319214836748782\n",
      "sqrd_recon_error: 0.15415816326530613\n",
      "Epoch: 23\n",
      "current_weight_diff: 0.3123509312129636\n",
      "sqrd_recon_error: 0.16778061224489796\n",
      "Epoch: 24\n",
      "current_weight_diff: 0.387595680197\n",
      "sqrd_recon_error: 0.13551020408163267\n",
      "Epoch: 25\n",
      "current_weight_diff: 0.32431801627494417\n",
      "sqrd_recon_error: 0.18790816326530613\n",
      "Epoch: 26\n",
      "current_weight_diff: 0.3481338367816027\n",
      "sqrd_recon_error: 0.1484948979591837\n",
      "Epoch: 27\n",
      "current_weight_diff: 0.27086375681852304\n",
      "sqrd_recon_error: 0.18181122448979592\n",
      "Epoch: 28\n",
      "current_weight_diff: 0.31674079554811324\n",
      "sqrd_recon_error: 0.09801020408163266\n",
      "Epoch: 29\n",
      "current_weight_diff: 0.35149223109641137\n",
      "sqrd_recon_error: 0.13941326530612244\n"
     ]
    },
    {
     "data": {
      "application/vnd.jupyter.widget-view+json": {
       "model_id": "636a208b6ad84a6ca0b8e324fc462527",
       "version_major": 2,
       "version_minor": 0
      },
      "text/plain": [
       "VBox(children=(Label(value='0.001 MB of 0.001 MB uploaded\\r'), FloatProgress(value=1.0, max=1.0)))"
      ]
     },
     "metadata": {},
     "output_type": "display_data"
    },
    {
     "name": "stderr",
     "output_type": "stream",
     "text": [
      "\u001b[34m\u001b[1mwandb\u001b[0m: \u001b[32m\u001b[41mERROR\u001b[0m Problem finishing run\n",
      "Traceback (most recent call last):\n",
      "  File \"/Library/Frameworks/Python.framework/Versions/3.10/lib/python3.10/site-packages/wandb/sdk/wandb_run.py\", line 2313, in _atexit_cleanup\n",
      "    self._on_finish()\n",
      "  File \"/Library/Frameworks/Python.framework/Versions/3.10/lib/python3.10/site-packages/wandb/sdk/wandb_run.py\", line 2567, in _on_finish\n",
      "    self._footer_file_pusher_status_info(\n",
      "  File \"/Library/Frameworks/Python.framework/Versions/3.10/lib/python3.10/site-packages/wandb/sdk/wandb_run.py\", line 3749, in _footer_file_pusher_status_info\n",
      "    Run._footer_single_run_file_pusher_status_info(\n",
      "  File \"/Library/Frameworks/Python.framework/Versions/3.10/lib/python3.10/site-packages/wandb/sdk/wandb_run.py\", line 3802, in _footer_single_run_file_pusher_status_info\n",
      "    printer.progress_close()\n",
      "  File \"/Library/Frameworks/Python.framework/Versions/3.10/lib/python3.10/site-packages/wandb/sdk/lib/printer.py\", line 292, in progress_close\n",
      "    self._progress.close()\n",
      "  File \"/Library/Frameworks/Python.framework/Versions/3.10/lib/python3.10/site-packages/wandb/sdk/lib/ipython.py\", line 128, in close\n",
      "    self._widget.close()\n",
      "  File \"/Users/lucasericsson/Library/Python/3.10/lib/python/site-packages/ipywidgets/widgets/widget.py\", line 500, in close\n",
      "    self.comm.close()\n",
      "  File \"/Users/lucasericsson/Library/Python/3.10/lib/python/site-packages/comm/base_comm.py\", line 109, in close\n",
      "    comm.get_comm_manager().unregister_comm(self)\n",
      "  File \"/Users/lucasericsson/Library/Python/3.10/lib/python/site-packages/comm/base_comm.py\", line 199, in unregister_comm\n",
      "    comm = self.comms.pop(comm.comm_id)\n",
      "KeyError: '636a208b6ad84a6ca0b8e324fc462527'\n",
      "\u001b[34m\u001b[1mwandb\u001b[0m: Agent Starting Run: w097skh5 with config:\n",
      "\u001b[34m\u001b[1mwandb\u001b[0m: \tepochs: 30\n",
      "\u001b[34m\u001b[1mwandb\u001b[0m: \thidden_units: 300\n",
      "\u001b[34m\u001b[1mwandb\u001b[0m: \tk: 30\n",
      "\u001b[34m\u001b[1mwandb\u001b[0m: \tminibatch: 50\n",
      "Failed to detect the name of this notebook, you can set it manually with the WANDB_NOTEBOOK_NAME environment variable to enable code saving.\n",
      "\u001b[34m\u001b[1mwandb\u001b[0m: \u001b[33mWARNING\u001b[0m Ignored wandb.init() arg project when running a sweep.\n"
     ]
    },
    {
     "data": {
      "text/html": [
       "Tracking run with wandb version 0.16.6"
      ],
      "text/plain": [
       "<IPython.core.display.HTML object>"
      ]
     },
     "metadata": {},
     "output_type": "display_data"
    },
    {
     "data": {
      "text/html": [
       "Run data is saved locally in <code>/Users/lucasericsson/repos/restricted-boltzmann-machine/wandb/run-20240409_000400-w097skh5</code>"
      ],
      "text/plain": [
       "<IPython.core.display.HTML object>"
      ]
     },
     "metadata": {},
     "output_type": "display_data"
    },
    {
     "data": {
      "text/html": [
       "Syncing run <strong><a href='https://wandb.ai/lucasericsson222/restricted_boltzmann_machine_sweep/runs/w097skh5' target=\"_blank\">proud-sweep-13</a></strong> to <a href='https://wandb.ai/lucasericsson222/restricted_boltzmann_machine_sweep' target=\"_blank\">Weights & Biases</a> (<a href='https://wandb.me/run' target=\"_blank\">docs</a>)<br/>Sweep page: <a href='https://wandb.ai/lucasericsson222/restricted_boltzmann_machine_sweep/sweeps/r1b5058x' target=\"_blank\">https://wandb.ai/lucasericsson222/restricted_boltzmann_machine_sweep/sweeps/r1b5058x</a>"
      ],
      "text/plain": [
       "<IPython.core.display.HTML object>"
      ]
     },
     "metadata": {},
     "output_type": "display_data"
    },
    {
     "data": {
      "text/html": [
       " View project at <a href='https://wandb.ai/lucasericsson222/restricted_boltzmann_machine_sweep' target=\"_blank\">https://wandb.ai/lucasericsson222/restricted_boltzmann_machine_sweep</a>"
      ],
      "text/plain": [
       "<IPython.core.display.HTML object>"
      ]
     },
     "metadata": {},
     "output_type": "display_data"
    },
    {
     "data": {
      "text/html": [
       " View sweep at <a href='https://wandb.ai/lucasericsson222/restricted_boltzmann_machine_sweep/sweeps/r1b5058x' target=\"_blank\">https://wandb.ai/lucasericsson222/restricted_boltzmann_machine_sweep/sweeps/r1b5058x</a>"
      ],
      "text/plain": [
       "<IPython.core.display.HTML object>"
      ]
     },
     "metadata": {},
     "output_type": "display_data"
    },
    {
     "data": {
      "text/html": [
       " View run at <a href='https://wandb.ai/lucasericsson222/restricted_boltzmann_machine_sweep/runs/w097skh5' target=\"_blank\">https://wandb.ai/lucasericsson222/restricted_boltzmann_machine_sweep/runs/w097skh5</a>"
      ],
      "text/plain": [
       "<IPython.core.display.HTML object>"
      ]
     },
     "metadata": {},
     "output_type": "display_data"
    },
    {
     "name": "stdout",
     "output_type": "stream",
     "text": [
      "(60000, 784)\n",
      "Epoch: 0\n",
      "current_weight_diff: 16.504577904435823\n",
      "sqrd_recon_error: 0.6575255102040817\n",
      "Epoch: 1\n",
      "current_weight_diff: 8.145191077318747\n",
      "sqrd_recon_error: 0.35512755102040816\n",
      "Epoch: 2\n",
      "current_weight_diff: 2.333011162171\n",
      "sqrd_recon_error: 0.4590561224489796\n",
      "Epoch: 3\n",
      "current_weight_diff: 2.2821048953692267\n",
      "sqrd_recon_error: 0.4857397959183673\n",
      "Epoch: 4\n",
      "current_weight_diff: 1.009691336772784\n",
      "sqrd_recon_error: 0.45923469387755106\n",
      "Epoch: 5\n",
      "current_weight_diff: 0.7651907692523862\n",
      "sqrd_recon_error: 0.3970918367346939\n",
      "Epoch: 6\n",
      "current_weight_diff: 2.594790385568466\n",
      "sqrd_recon_error: 0.3551020408163265\n",
      "Epoch: 7\n",
      "current_weight_diff: 0.44159897679308346\n",
      "sqrd_recon_error: 0.19413265306122449\n",
      "Epoch: 8\n",
      "current_weight_diff: 0.6743703886226713\n",
      "sqrd_recon_error: 0.3257908163265306\n",
      "Epoch: 9\n",
      "current_weight_diff: 0.4107133243420794\n",
      "sqrd_recon_error: 0.2899234693877551\n",
      "Epoch: 10\n",
      "current_weight_diff: 0.4556452977305076\n",
      "sqrd_recon_error: 0.2589030612244898\n",
      "Epoch: 11\n",
      "current_weight_diff: 0.4297575979270911\n",
      "sqrd_recon_error: 0.32808673469387756\n",
      "Epoch: 12\n",
      "current_weight_diff: 0.5562397743247436\n",
      "sqrd_recon_error: 0.2473469387755102\n",
      "Epoch: 13\n",
      "current_weight_diff: 0.29787956129300663\n",
      "sqrd_recon_error: 0.18489795918367347\n",
      "Epoch: 14\n",
      "current_weight_diff: 0.39973022018474935\n",
      "sqrd_recon_error: 0.18278061224489797\n",
      "Epoch: 15\n",
      "current_weight_diff: 0.40827202792267203\n",
      "sqrd_recon_error: 0.12762755102040818\n",
      "Epoch: 16\n",
      "current_weight_diff: 0.2757760981481648\n",
      "sqrd_recon_error: 0.18663265306122448\n",
      "Epoch: 17\n",
      "current_weight_diff: 0.2425110089729202\n",
      "sqrd_recon_error: 0.16196428571428573\n",
      "Epoch: 18\n",
      "current_weight_diff: 0.21524340633542347\n",
      "sqrd_recon_error: 0.1506377551020408\n",
      "Epoch: 19\n",
      "current_weight_diff: 0.2853861770170752\n",
      "sqrd_recon_error: 0.17849489795918366\n",
      "Epoch: 20\n",
      "current_weight_diff: 0.23168006398379914\n",
      "sqrd_recon_error: 0.1367091836734694\n",
      "Epoch: 21\n",
      "current_weight_diff: 0.22557031566252475\n",
      "sqrd_recon_error: 0.19517857142857142\n",
      "Epoch: 22\n",
      "current_weight_diff: 0.21561918427958301\n",
      "sqrd_recon_error: 0.13357142857142856\n",
      "Epoch: 23\n",
      "current_weight_diff: 0.2036754027312185\n",
      "sqrd_recon_error: 0.14283163265306123\n",
      "Epoch: 24\n",
      "current_weight_diff: 0.17899764055530454\n",
      "sqrd_recon_error: 0.1464795918367347\n",
      "Epoch: 25\n",
      "current_weight_diff: 0.26999697067671835\n",
      "sqrd_recon_error: 0.12772959183673468\n",
      "Epoch: 26\n",
      "current_weight_diff: 0.19711730235518768\n",
      "sqrd_recon_error: 0.16043367346938775\n",
      "Epoch: 27\n",
      "current_weight_diff: 0.23761616144912526\n",
      "sqrd_recon_error: 0.12908163265306122\n",
      "Epoch: 28\n",
      "current_weight_diff: 0.18243165715698034\n",
      "sqrd_recon_error: 0.11135204081632652\n",
      "Epoch: 29\n",
      "current_weight_diff: 0.5991663019537711\n",
      "sqrd_recon_error: 0.17757653061224488\n"
     ]
    },
    {
     "data": {
      "application/vnd.jupyter.widget-view+json": {
       "model_id": "6ec7f9c852cd4886a85b016b0902752e",
       "version_major": 2,
       "version_minor": 0
      },
      "text/plain": [
       "VBox(children=(Label(value='0.006 MB of 0.006 MB uploaded\\r'), FloatProgress(value=1.0, max=1.0)))"
      ]
     },
     "metadata": {},
     "output_type": "display_data"
    },
    {
     "name": "stderr",
     "output_type": "stream",
     "text": [
      "\u001b[34m\u001b[1mwandb\u001b[0m: \u001b[32m\u001b[41mERROR\u001b[0m Problem finishing run\n",
      "Traceback (most recent call last):\n",
      "  File \"/Library/Frameworks/Python.framework/Versions/3.10/lib/python3.10/site-packages/wandb/sdk/wandb_run.py\", line 2313, in _atexit_cleanup\n",
      "    self._on_finish()\n",
      "  File \"/Library/Frameworks/Python.framework/Versions/3.10/lib/python3.10/site-packages/wandb/sdk/wandb_run.py\", line 2567, in _on_finish\n",
      "    self._footer_file_pusher_status_info(\n",
      "  File \"/Library/Frameworks/Python.framework/Versions/3.10/lib/python3.10/site-packages/wandb/sdk/wandb_run.py\", line 3749, in _footer_file_pusher_status_info\n",
      "    Run._footer_single_run_file_pusher_status_info(\n",
      "  File \"/Library/Frameworks/Python.framework/Versions/3.10/lib/python3.10/site-packages/wandb/sdk/wandb_run.py\", line 3802, in _footer_single_run_file_pusher_status_info\n",
      "    printer.progress_close()\n",
      "  File \"/Library/Frameworks/Python.framework/Versions/3.10/lib/python3.10/site-packages/wandb/sdk/lib/printer.py\", line 292, in progress_close\n",
      "    self._progress.close()\n",
      "  File \"/Library/Frameworks/Python.framework/Versions/3.10/lib/python3.10/site-packages/wandb/sdk/lib/ipython.py\", line 128, in close\n",
      "    self._widget.close()\n",
      "  File \"/Users/lucasericsson/Library/Python/3.10/lib/python/site-packages/ipywidgets/widgets/widget.py\", line 500, in close\n",
      "    self.comm.close()\n",
      "  File \"/Users/lucasericsson/Library/Python/3.10/lib/python/site-packages/comm/base_comm.py\", line 109, in close\n",
      "    comm.get_comm_manager().unregister_comm(self)\n",
      "  File \"/Users/lucasericsson/Library/Python/3.10/lib/python/site-packages/comm/base_comm.py\", line 199, in unregister_comm\n",
      "    comm = self.comms.pop(comm.comm_id)\n",
      "KeyError: '6ec7f9c852cd4886a85b016b0902752e'\n",
      "\u001b[34m\u001b[1mwandb\u001b[0m: Agent Starting Run: 8cjjhv53 with config:\n",
      "\u001b[34m\u001b[1mwandb\u001b[0m: \tepochs: 20\n",
      "\u001b[34m\u001b[1mwandb\u001b[0m: \thidden_units: 784\n",
      "\u001b[34m\u001b[1mwandb\u001b[0m: \tk: 3\n",
      "\u001b[34m\u001b[1mwandb\u001b[0m: \tminibatch: 150\n",
      "Failed to detect the name of this notebook, you can set it manually with the WANDB_NOTEBOOK_NAME environment variable to enable code saving.\n",
      "\u001b[34m\u001b[1mwandb\u001b[0m: \u001b[33mWARNING\u001b[0m Ignored wandb.init() arg project when running a sweep.\n"
     ]
    },
    {
     "data": {
      "text/html": [
       "Tracking run with wandb version 0.16.6"
      ],
      "text/plain": [
       "<IPython.core.display.HTML object>"
      ]
     },
     "metadata": {},
     "output_type": "display_data"
    },
    {
     "data": {
      "text/html": [
       "Run data is saved locally in <code>/Users/lucasericsson/repos/restricted-boltzmann-machine/wandb/run-20240409_001108-8cjjhv53</code>"
      ],
      "text/plain": [
       "<IPython.core.display.HTML object>"
      ]
     },
     "metadata": {},
     "output_type": "display_data"
    },
    {
     "data": {
      "text/html": [
       "Syncing run <strong><a href='https://wandb.ai/lucasericsson222/restricted_boltzmann_machine_sweep/runs/8cjjhv53' target=\"_blank\">serene-sweep-14</a></strong> to <a href='https://wandb.ai/lucasericsson222/restricted_boltzmann_machine_sweep' target=\"_blank\">Weights & Biases</a> (<a href='https://wandb.me/run' target=\"_blank\">docs</a>)<br/>Sweep page: <a href='https://wandb.ai/lucasericsson222/restricted_boltzmann_machine_sweep/sweeps/r1b5058x' target=\"_blank\">https://wandb.ai/lucasericsson222/restricted_boltzmann_machine_sweep/sweeps/r1b5058x</a>"
      ],
      "text/plain": [
       "<IPython.core.display.HTML object>"
      ]
     },
     "metadata": {},
     "output_type": "display_data"
    },
    {
     "data": {
      "text/html": [
       " View project at <a href='https://wandb.ai/lucasericsson222/restricted_boltzmann_machine_sweep' target=\"_blank\">https://wandb.ai/lucasericsson222/restricted_boltzmann_machine_sweep</a>"
      ],
      "text/plain": [
       "<IPython.core.display.HTML object>"
      ]
     },
     "metadata": {},
     "output_type": "display_data"
    },
    {
     "data": {
      "text/html": [
       " View sweep at <a href='https://wandb.ai/lucasericsson222/restricted_boltzmann_machine_sweep/sweeps/r1b5058x' target=\"_blank\">https://wandb.ai/lucasericsson222/restricted_boltzmann_machine_sweep/sweeps/r1b5058x</a>"
      ],
      "text/plain": [
       "<IPython.core.display.HTML object>"
      ]
     },
     "metadata": {},
     "output_type": "display_data"
    },
    {
     "data": {
      "text/html": [
       " View run at <a href='https://wandb.ai/lucasericsson222/restricted_boltzmann_machine_sweep/runs/8cjjhv53' target=\"_blank\">https://wandb.ai/lucasericsson222/restricted_boltzmann_machine_sweep/runs/8cjjhv53</a>"
      ],
      "text/plain": [
       "<IPython.core.display.HTML object>"
      ]
     },
     "metadata": {},
     "output_type": "display_data"
    },
    {
     "name": "stdout",
     "output_type": "stream",
     "text": [
      "(60000, 784)\n",
      "Epoch: 0\n",
      "current_weight_diff: 10.438323821284056\n",
      "sqrd_recon_error: 0.38676020408163264\n",
      "Epoch: 1\n",
      "current_weight_diff: 4.420445570846473\n",
      "sqrd_recon_error: 0.40465986394557824\n",
      "Epoch: 2\n",
      "current_weight_diff: 1.946020428027159\n",
      "sqrd_recon_error: 0.38950680272108845\n",
      "Epoch: 3\n",
      "current_weight_diff: 1.6467318924197685\n",
      "sqrd_recon_error: 0.288843537414966\n",
      "Epoch: 4\n",
      "current_weight_diff: 1.40524230292022\n",
      "sqrd_recon_error: 0.23621598639455782\n",
      "Epoch: 5\n",
      "current_weight_diff: 0.7646961392843847\n",
      "sqrd_recon_error: 0.19198979591836735\n",
      "Epoch: 6\n",
      "current_weight_diff: 0.5554517555669607\n",
      "sqrd_recon_error: 0.19099489795918367\n",
      "Epoch: 7\n",
      "current_weight_diff: 0.9414892142644019\n",
      "sqrd_recon_error: 0.18249149659863945\n",
      "Epoch: 8\n",
      "current_weight_diff: 0.4864808277666158\n",
      "sqrd_recon_error: 0.19314625850340136\n",
      "Epoch: 9\n",
      "current_weight_diff: 0.4664305646136574\n",
      "sqrd_recon_error: 0.16387755102040816\n",
      "Epoch: 10\n",
      "current_weight_diff: 0.4568477533601099\n",
      "sqrd_recon_error: 0.1558078231292517\n",
      "Epoch: 11\n",
      "current_weight_diff: 0.40063654460689185\n",
      "sqrd_recon_error: 0.1318452380952381\n",
      "Epoch: 12\n",
      "current_weight_diff: 0.39328952221687075\n",
      "sqrd_recon_error: 0.13287414965986397\n",
      "Epoch: 13\n",
      "current_weight_diff: 0.3957601805021825\n",
      "sqrd_recon_error: 0.13251700680272108\n",
      "Epoch: 14\n",
      "current_weight_diff: 0.3184497289267991\n",
      "sqrd_recon_error: 0.13022108843537414\n",
      "Epoch: 15\n",
      "current_weight_diff: 0.34916456375706195\n",
      "sqrd_recon_error: 0.12284013605442176\n",
      "Epoch: 16\n",
      "current_weight_diff: 0.24332663537496424\n",
      "sqrd_recon_error: 0.12084183673469387\n",
      "Epoch: 17\n",
      "current_weight_diff: 0.23731854159517482\n",
      "sqrd_recon_error: 0.11972789115646258\n",
      "Epoch: 18\n",
      "current_weight_diff: 0.2574416557108147\n",
      "sqrd_recon_error: 0.1153486394557823\n",
      "Epoch: 19\n",
      "current_weight_diff: 0.2897778840128613\n",
      "sqrd_recon_error: 0.11984693877551021\n"
     ]
    },
    {
     "data": {
      "application/vnd.jupyter.widget-view+json": {
       "model_id": "5abba1d5ab66475a9e2724e242d6abbd",
       "version_major": 2,
       "version_minor": 0
      },
      "text/plain": [
       "VBox(children=(Label(value='0.001 MB of 0.001 MB uploaded\\r'), FloatProgress(value=1.0, max=1.0)))"
      ]
     },
     "metadata": {},
     "output_type": "display_data"
    },
    {
     "name": "stderr",
     "output_type": "stream",
     "text": [
      "\u001b[34m\u001b[1mwandb\u001b[0m: \u001b[32m\u001b[41mERROR\u001b[0m Problem finishing run\n",
      "Traceback (most recent call last):\n",
      "  File \"/Library/Frameworks/Python.framework/Versions/3.10/lib/python3.10/site-packages/wandb/sdk/wandb_run.py\", line 2313, in _atexit_cleanup\n",
      "    self._on_finish()\n",
      "  File \"/Library/Frameworks/Python.framework/Versions/3.10/lib/python3.10/site-packages/wandb/sdk/wandb_run.py\", line 2567, in _on_finish\n",
      "    self._footer_file_pusher_status_info(\n",
      "  File \"/Library/Frameworks/Python.framework/Versions/3.10/lib/python3.10/site-packages/wandb/sdk/wandb_run.py\", line 3749, in _footer_file_pusher_status_info\n",
      "    Run._footer_single_run_file_pusher_status_info(\n",
      "  File \"/Library/Frameworks/Python.framework/Versions/3.10/lib/python3.10/site-packages/wandb/sdk/wandb_run.py\", line 3802, in _footer_single_run_file_pusher_status_info\n",
      "    printer.progress_close()\n",
      "  File \"/Library/Frameworks/Python.framework/Versions/3.10/lib/python3.10/site-packages/wandb/sdk/lib/printer.py\", line 292, in progress_close\n",
      "    self._progress.close()\n",
      "  File \"/Library/Frameworks/Python.framework/Versions/3.10/lib/python3.10/site-packages/wandb/sdk/lib/ipython.py\", line 128, in close\n",
      "    self._widget.close()\n",
      "  File \"/Users/lucasericsson/Library/Python/3.10/lib/python/site-packages/ipywidgets/widgets/widget.py\", line 500, in close\n",
      "    self.comm.close()\n",
      "  File \"/Users/lucasericsson/Library/Python/3.10/lib/python/site-packages/comm/base_comm.py\", line 109, in close\n",
      "    comm.get_comm_manager().unregister_comm(self)\n",
      "  File \"/Users/lucasericsson/Library/Python/3.10/lib/python/site-packages/comm/base_comm.py\", line 199, in unregister_comm\n",
      "    comm = self.comms.pop(comm.comm_id)\n",
      "KeyError: '5abba1d5ab66475a9e2724e242d6abbd'\n",
      "\u001b[34m\u001b[1mwandb\u001b[0m: Agent Starting Run: hqu4p76g with config:\n",
      "\u001b[34m\u001b[1mwandb\u001b[0m: \tepochs: 4\n",
      "\u001b[34m\u001b[1mwandb\u001b[0m: \thidden_units: 300\n",
      "\u001b[34m\u001b[1mwandb\u001b[0m: \tk: 4\n",
      "\u001b[34m\u001b[1mwandb\u001b[0m: \tminibatch: 100\n",
      "Failed to detect the name of this notebook, you can set it manually with the WANDB_NOTEBOOK_NAME environment variable to enable code saving.\n",
      "\u001b[34m\u001b[1mwandb\u001b[0m: \u001b[33mWARNING\u001b[0m Ignored wandb.init() arg project when running a sweep.\n"
     ]
    },
    {
     "data": {
      "text/html": [
       "Tracking run with wandb version 0.16.6"
      ],
      "text/plain": [
       "<IPython.core.display.HTML object>"
      ]
     },
     "metadata": {},
     "output_type": "display_data"
    },
    {
     "data": {
      "text/html": [
       "Run data is saved locally in <code>/Users/lucasericsson/repos/restricted-boltzmann-machine/wandb/run-20240409_001811-hqu4p76g</code>"
      ],
      "text/plain": [
       "<IPython.core.display.HTML object>"
      ]
     },
     "metadata": {},
     "output_type": "display_data"
    },
    {
     "data": {
      "text/html": [
       "Syncing run <strong><a href='https://wandb.ai/lucasericsson222/restricted_boltzmann_machine_sweep/runs/hqu4p76g' target=\"_blank\">gentle-sweep-15</a></strong> to <a href='https://wandb.ai/lucasericsson222/restricted_boltzmann_machine_sweep' target=\"_blank\">Weights & Biases</a> (<a href='https://wandb.me/run' target=\"_blank\">docs</a>)<br/>Sweep page: <a href='https://wandb.ai/lucasericsson222/restricted_boltzmann_machine_sweep/sweeps/r1b5058x' target=\"_blank\">https://wandb.ai/lucasericsson222/restricted_boltzmann_machine_sweep/sweeps/r1b5058x</a>"
      ],
      "text/plain": [
       "<IPython.core.display.HTML object>"
      ]
     },
     "metadata": {},
     "output_type": "display_data"
    },
    {
     "data": {
      "text/html": [
       " View project at <a href='https://wandb.ai/lucasericsson222/restricted_boltzmann_machine_sweep' target=\"_blank\">https://wandb.ai/lucasericsson222/restricted_boltzmann_machine_sweep</a>"
      ],
      "text/plain": [
       "<IPython.core.display.HTML object>"
      ]
     },
     "metadata": {},
     "output_type": "display_data"
    },
    {
     "data": {
      "text/html": [
       " View sweep at <a href='https://wandb.ai/lucasericsson222/restricted_boltzmann_machine_sweep/sweeps/r1b5058x' target=\"_blank\">https://wandb.ai/lucasericsson222/restricted_boltzmann_machine_sweep/sweeps/r1b5058x</a>"
      ],
      "text/plain": [
       "<IPython.core.display.HTML object>"
      ]
     },
     "metadata": {},
     "output_type": "display_data"
    },
    {
     "data": {
      "text/html": [
       " View run at <a href='https://wandb.ai/lucasericsson222/restricted_boltzmann_machine_sweep/runs/hqu4p76g' target=\"_blank\">https://wandb.ai/lucasericsson222/restricted_boltzmann_machine_sweep/runs/hqu4p76g</a>"
      ],
      "text/plain": [
       "<IPython.core.display.HTML object>"
      ]
     },
     "metadata": {},
     "output_type": "display_data"
    },
    {
     "name": "stdout",
     "output_type": "stream",
     "text": [
      "(60000, 784)\n",
      "Epoch: 0\n",
      "current_weight_diff: 17.84769519243901\n",
      "sqrd_recon_error: 0.5967729591836735\n",
      "Epoch: 1\n",
      "current_weight_diff: 1.7740544012602038\n",
      "sqrd_recon_error: 0.3963265306122449\n",
      "Epoch: 2\n",
      "current_weight_diff: 2.318475628831717\n",
      "sqrd_recon_error: 0.31364795918367344\n",
      "Epoch: 3\n",
      "current_weight_diff: 0.9343059093824784\n",
      "sqrd_recon_error: 0.2584948979591837\n"
     ]
    },
    {
     "data": {
      "application/vnd.jupyter.widget-view+json": {
       "model_id": "13233c1638174cb9b1e481a066b34745",
       "version_major": 2,
       "version_minor": 0
      },
      "text/plain": [
       "VBox(children=(Label(value='0.001 MB of 0.001 MB uploaded\\r'), FloatProgress(value=1.0, max=1.0)))"
      ]
     },
     "metadata": {},
     "output_type": "display_data"
    },
    {
     "name": "stderr",
     "output_type": "stream",
     "text": [
      "\u001b[34m\u001b[1mwandb\u001b[0m: \u001b[32m\u001b[41mERROR\u001b[0m Problem finishing run\n",
      "Traceback (most recent call last):\n",
      "  File \"/Library/Frameworks/Python.framework/Versions/3.10/lib/python3.10/site-packages/wandb/sdk/wandb_run.py\", line 2313, in _atexit_cleanup\n",
      "    self._on_finish()\n",
      "  File \"/Library/Frameworks/Python.framework/Versions/3.10/lib/python3.10/site-packages/wandb/sdk/wandb_run.py\", line 2567, in _on_finish\n",
      "    self._footer_file_pusher_status_info(\n",
      "  File \"/Library/Frameworks/Python.framework/Versions/3.10/lib/python3.10/site-packages/wandb/sdk/wandb_run.py\", line 3749, in _footer_file_pusher_status_info\n",
      "    Run._footer_single_run_file_pusher_status_info(\n",
      "  File \"/Library/Frameworks/Python.framework/Versions/3.10/lib/python3.10/site-packages/wandb/sdk/wandb_run.py\", line 3802, in _footer_single_run_file_pusher_status_info\n",
      "    printer.progress_close()\n",
      "  File \"/Library/Frameworks/Python.framework/Versions/3.10/lib/python3.10/site-packages/wandb/sdk/lib/printer.py\", line 292, in progress_close\n",
      "    self._progress.close()\n",
      "  File \"/Library/Frameworks/Python.framework/Versions/3.10/lib/python3.10/site-packages/wandb/sdk/lib/ipython.py\", line 128, in close\n",
      "    self._widget.close()\n",
      "  File \"/Users/lucasericsson/Library/Python/3.10/lib/python/site-packages/ipywidgets/widgets/widget.py\", line 500, in close\n",
      "    self.comm.close()\n",
      "  File \"/Users/lucasericsson/Library/Python/3.10/lib/python/site-packages/comm/base_comm.py\", line 109, in close\n",
      "    comm.get_comm_manager().unregister_comm(self)\n",
      "  File \"/Users/lucasericsson/Library/Python/3.10/lib/python/site-packages/comm/base_comm.py\", line 199, in unregister_comm\n",
      "    comm = self.comms.pop(comm.comm_id)\n",
      "KeyError: '13233c1638174cb9b1e481a066b34745'\n",
      "\u001b[34m\u001b[1mwandb\u001b[0m: Agent Starting Run: rhl143wp with config:\n",
      "\u001b[34m\u001b[1mwandb\u001b[0m: \tepochs: 4\n",
      "\u001b[34m\u001b[1mwandb\u001b[0m: \thidden_units: 784\n",
      "\u001b[34m\u001b[1mwandb\u001b[0m: \tk: 2\n",
      "\u001b[34m\u001b[1mwandb\u001b[0m: \tminibatch: 50\n",
      "Failed to detect the name of this notebook, you can set it manually with the WANDB_NOTEBOOK_NAME environment variable to enable code saving.\n",
      "\u001b[34m\u001b[1mwandb\u001b[0m: \u001b[33mWARNING\u001b[0m Ignored wandb.init() arg project when running a sweep.\n"
     ]
    },
    {
     "data": {
      "text/html": [
       "Tracking run with wandb version 0.16.6"
      ],
      "text/plain": [
       "<IPython.core.display.HTML object>"
      ]
     },
     "metadata": {},
     "output_type": "display_data"
    },
    {
     "data": {
      "text/html": [
       "Run data is saved locally in <code>/Users/lucasericsson/repos/restricted-boltzmann-machine/wandb/run-20240409_001847-rhl143wp</code>"
      ],
      "text/plain": [
       "<IPython.core.display.HTML object>"
      ]
     },
     "metadata": {},
     "output_type": "display_data"
    },
    {
     "data": {
      "text/html": [
       "Syncing run <strong><a href='https://wandb.ai/lucasericsson222/restricted_boltzmann_machine_sweep/runs/rhl143wp' target=\"_blank\">dainty-sweep-16</a></strong> to <a href='https://wandb.ai/lucasericsson222/restricted_boltzmann_machine_sweep' target=\"_blank\">Weights & Biases</a> (<a href='https://wandb.me/run' target=\"_blank\">docs</a>)<br/>Sweep page: <a href='https://wandb.ai/lucasericsson222/restricted_boltzmann_machine_sweep/sweeps/r1b5058x' target=\"_blank\">https://wandb.ai/lucasericsson222/restricted_boltzmann_machine_sweep/sweeps/r1b5058x</a>"
      ],
      "text/plain": [
       "<IPython.core.display.HTML object>"
      ]
     },
     "metadata": {},
     "output_type": "display_data"
    },
    {
     "data": {
      "text/html": [
       " View project at <a href='https://wandb.ai/lucasericsson222/restricted_boltzmann_machine_sweep' target=\"_blank\">https://wandb.ai/lucasericsson222/restricted_boltzmann_machine_sweep</a>"
      ],
      "text/plain": [
       "<IPython.core.display.HTML object>"
      ]
     },
     "metadata": {},
     "output_type": "display_data"
    },
    {
     "data": {
      "text/html": [
       " View sweep at <a href='https://wandb.ai/lucasericsson222/restricted_boltzmann_machine_sweep/sweeps/r1b5058x' target=\"_blank\">https://wandb.ai/lucasericsson222/restricted_boltzmann_machine_sweep/sweeps/r1b5058x</a>"
      ],
      "text/plain": [
       "<IPython.core.display.HTML object>"
      ]
     },
     "metadata": {},
     "output_type": "display_data"
    },
    {
     "data": {
      "text/html": [
       " View run at <a href='https://wandb.ai/lucasericsson222/restricted_boltzmann_machine_sweep/runs/rhl143wp' target=\"_blank\">https://wandb.ai/lucasericsson222/restricted_boltzmann_machine_sweep/runs/rhl143wp</a>"
      ],
      "text/plain": [
       "<IPython.core.display.HTML object>"
      ]
     },
     "metadata": {},
     "output_type": "display_data"
    },
    {
     "name": "stdout",
     "output_type": "stream",
     "text": [
      "(60000, 784)\n",
      "Epoch: 0\n",
      "current_weight_diff: 10.754164580217955\n",
      "sqrd_recon_error: 0.32012755102040813\n",
      "Epoch: 1\n",
      "current_weight_diff: 2.4610957917444747\n",
      "sqrd_recon_error: 0.23257653061224487\n",
      "Epoch: 2\n",
      "current_weight_diff: 2.405262649367461\n",
      "sqrd_recon_error: 0.19622448979591836\n",
      "Epoch: 3\n",
      "current_weight_diff: 1.672325890568899\n",
      "sqrd_recon_error: 0.20267857142857143\n"
     ]
    },
    {
     "data": {
      "application/vnd.jupyter.widget-view+json": {
       "model_id": "52be95a38d6c413eaef0f87bd10e00ab",
       "version_major": 2,
       "version_minor": 0
      },
      "text/plain": [
       "VBox(children=(Label(value='0.001 MB of 0.001 MB uploaded\\r'), FloatProgress(value=1.0, max=1.0)))"
      ]
     },
     "metadata": {},
     "output_type": "display_data"
    },
    {
     "name": "stderr",
     "output_type": "stream",
     "text": [
      "\u001b[34m\u001b[1mwandb\u001b[0m: \u001b[32m\u001b[41mERROR\u001b[0m Problem finishing run\n",
      "Traceback (most recent call last):\n",
      "  File \"/Library/Frameworks/Python.framework/Versions/3.10/lib/python3.10/site-packages/wandb/sdk/wandb_run.py\", line 2313, in _atexit_cleanup\n",
      "    self._on_finish()\n",
      "  File \"/Library/Frameworks/Python.framework/Versions/3.10/lib/python3.10/site-packages/wandb/sdk/wandb_run.py\", line 2567, in _on_finish\n",
      "    self._footer_file_pusher_status_info(\n",
      "  File \"/Library/Frameworks/Python.framework/Versions/3.10/lib/python3.10/site-packages/wandb/sdk/wandb_run.py\", line 3749, in _footer_file_pusher_status_info\n",
      "    Run._footer_single_run_file_pusher_status_info(\n",
      "  File \"/Library/Frameworks/Python.framework/Versions/3.10/lib/python3.10/site-packages/wandb/sdk/wandb_run.py\", line 3802, in _footer_single_run_file_pusher_status_info\n",
      "    printer.progress_close()\n",
      "  File \"/Library/Frameworks/Python.framework/Versions/3.10/lib/python3.10/site-packages/wandb/sdk/lib/printer.py\", line 292, in progress_close\n",
      "    self._progress.close()\n",
      "  File \"/Library/Frameworks/Python.framework/Versions/3.10/lib/python3.10/site-packages/wandb/sdk/lib/ipython.py\", line 128, in close\n",
      "    self._widget.close()\n",
      "  File \"/Users/lucasericsson/Library/Python/3.10/lib/python/site-packages/ipywidgets/widgets/widget.py\", line 500, in close\n",
      "    self.comm.close()\n",
      "  File \"/Users/lucasericsson/Library/Python/3.10/lib/python/site-packages/comm/base_comm.py\", line 109, in close\n",
      "    comm.get_comm_manager().unregister_comm(self)\n",
      "  File \"/Users/lucasericsson/Library/Python/3.10/lib/python/site-packages/comm/base_comm.py\", line 199, in unregister_comm\n",
      "    comm = self.comms.pop(comm.comm_id)\n",
      "KeyError: '52be95a38d6c413eaef0f87bd10e00ab'\n",
      "\u001b[34m\u001b[1mwandb\u001b[0m: Agent Starting Run: bmeac3up with config:\n",
      "\u001b[34m\u001b[1mwandb\u001b[0m: \tepochs: 5\n",
      "\u001b[34m\u001b[1mwandb\u001b[0m: \thidden_units: 100\n",
      "\u001b[34m\u001b[1mwandb\u001b[0m: \tk: 5\n",
      "\u001b[34m\u001b[1mwandb\u001b[0m: \tminibatch: 50\n",
      "Failed to detect the name of this notebook, you can set it manually with the WANDB_NOTEBOOK_NAME environment variable to enable code saving.\n",
      "\u001b[34m\u001b[1mwandb\u001b[0m: \u001b[33mWARNING\u001b[0m Ignored wandb.init() arg project when running a sweep.\n"
     ]
    },
    {
     "data": {
      "text/html": [
       "Tracking run with wandb version 0.16.6"
      ],
      "text/plain": [
       "<IPython.core.display.HTML object>"
      ]
     },
     "metadata": {},
     "output_type": "display_data"
    },
    {
     "data": {
      "text/html": [
       "Run data is saved locally in <code>/Users/lucasericsson/repos/restricted-boltzmann-machine/wandb/run-20240409_001938-bmeac3up</code>"
      ],
      "text/plain": [
       "<IPython.core.display.HTML object>"
      ]
     },
     "metadata": {},
     "output_type": "display_data"
    },
    {
     "data": {
      "text/html": [
       "Syncing run <strong><a href='https://wandb.ai/lucasericsson222/restricted_boltzmann_machine_sweep/runs/bmeac3up' target=\"_blank\">misty-sweep-17</a></strong> to <a href='https://wandb.ai/lucasericsson222/restricted_boltzmann_machine_sweep' target=\"_blank\">Weights & Biases</a> (<a href='https://wandb.me/run' target=\"_blank\">docs</a>)<br/>Sweep page: <a href='https://wandb.ai/lucasericsson222/restricted_boltzmann_machine_sweep/sweeps/r1b5058x' target=\"_blank\">https://wandb.ai/lucasericsson222/restricted_boltzmann_machine_sweep/sweeps/r1b5058x</a>"
      ],
      "text/plain": [
       "<IPython.core.display.HTML object>"
      ]
     },
     "metadata": {},
     "output_type": "display_data"
    },
    {
     "data": {
      "text/html": [
       " View project at <a href='https://wandb.ai/lucasericsson222/restricted_boltzmann_machine_sweep' target=\"_blank\">https://wandb.ai/lucasericsson222/restricted_boltzmann_machine_sweep</a>"
      ],
      "text/plain": [
       "<IPython.core.display.HTML object>"
      ]
     },
     "metadata": {},
     "output_type": "display_data"
    },
    {
     "data": {
      "text/html": [
       " View sweep at <a href='https://wandb.ai/lucasericsson222/restricted_boltzmann_machine_sweep/sweeps/r1b5058x' target=\"_blank\">https://wandb.ai/lucasericsson222/restricted_boltzmann_machine_sweep/sweeps/r1b5058x</a>"
      ],
      "text/plain": [
       "<IPython.core.display.HTML object>"
      ]
     },
     "metadata": {},
     "output_type": "display_data"
    },
    {
     "data": {
      "text/html": [
       " View run at <a href='https://wandb.ai/lucasericsson222/restricted_boltzmann_machine_sweep/runs/bmeac3up' target=\"_blank\">https://wandb.ai/lucasericsson222/restricted_boltzmann_machine_sweep/runs/bmeac3up</a>"
      ],
      "text/plain": [
       "<IPython.core.display.HTML object>"
      ]
     },
     "metadata": {},
     "output_type": "display_data"
    },
    {
     "name": "stdout",
     "output_type": "stream",
     "text": [
      "(60000, 784)\n",
      "Epoch: 0\n",
      "current_weight_diff: 31.63373417090985\n",
      "sqrd_recon_error: 1.4688520408163266\n",
      "Epoch: 1\n",
      "current_weight_diff: 1.4544577445998144\n",
      "sqrd_recon_error: 0.8069897959183673\n",
      "Epoch: 2\n",
      "current_weight_diff: 1.4250369767741309\n",
      "sqrd_recon_error: 0.5131632653061224\n",
      "Epoch: 3\n",
      "current_weight_diff: 1.8352089860069092\n",
      "sqrd_recon_error: 0.43441326530612245\n",
      "Epoch: 4\n",
      "current_weight_diff: 0.8728224047409493\n",
      "sqrd_recon_error: 0.30313775510204083\n"
     ]
    },
    {
     "data": {
      "application/vnd.jupyter.widget-view+json": {
       "model_id": "425677b26bd94a5ab3c649d3f152b2f3",
       "version_major": 2,
       "version_minor": 0
      },
      "text/plain": [
       "VBox(children=(Label(value='0.001 MB of 0.004 MB uploaded\\r'), FloatProgress(value=0.2543859649122807, max=1.0…"
      ]
     },
     "metadata": {},
     "output_type": "display_data"
    },
    {
     "name": "stderr",
     "output_type": "stream",
     "text": [
      "\u001b[34m\u001b[1mwandb\u001b[0m: \u001b[32m\u001b[41mERROR\u001b[0m Problem finishing run\n",
      "Traceback (most recent call last):\n",
      "  File \"/Library/Frameworks/Python.framework/Versions/3.10/lib/python3.10/site-packages/wandb/sdk/wandb_run.py\", line 2313, in _atexit_cleanup\n",
      "    self._on_finish()\n",
      "  File \"/Library/Frameworks/Python.framework/Versions/3.10/lib/python3.10/site-packages/wandb/sdk/wandb_run.py\", line 2567, in _on_finish\n",
      "    self._footer_file_pusher_status_info(\n",
      "  File \"/Library/Frameworks/Python.framework/Versions/3.10/lib/python3.10/site-packages/wandb/sdk/wandb_run.py\", line 3749, in _footer_file_pusher_status_info\n",
      "    Run._footer_single_run_file_pusher_status_info(\n",
      "  File \"/Library/Frameworks/Python.framework/Versions/3.10/lib/python3.10/site-packages/wandb/sdk/wandb_run.py\", line 3802, in _footer_single_run_file_pusher_status_info\n",
      "    printer.progress_close()\n",
      "  File \"/Library/Frameworks/Python.framework/Versions/3.10/lib/python3.10/site-packages/wandb/sdk/lib/printer.py\", line 292, in progress_close\n",
      "    self._progress.close()\n",
      "  File \"/Library/Frameworks/Python.framework/Versions/3.10/lib/python3.10/site-packages/wandb/sdk/lib/ipython.py\", line 128, in close\n",
      "    self._widget.close()\n",
      "  File \"/Users/lucasericsson/Library/Python/3.10/lib/python/site-packages/ipywidgets/widgets/widget.py\", line 500, in close\n",
      "    self.comm.close()\n",
      "  File \"/Users/lucasericsson/Library/Python/3.10/lib/python/site-packages/comm/base_comm.py\", line 109, in close\n",
      "    comm.get_comm_manager().unregister_comm(self)\n",
      "  File \"/Users/lucasericsson/Library/Python/3.10/lib/python/site-packages/comm/base_comm.py\", line 199, in unregister_comm\n",
      "    comm = self.comms.pop(comm.comm_id)\n",
      "KeyError: '425677b26bd94a5ab3c649d3f152b2f3'\n",
      "\u001b[34m\u001b[1mwandb\u001b[0m: Agent Starting Run: 6xurcenr with config:\n",
      "\u001b[34m\u001b[1mwandb\u001b[0m: \tepochs: 5\n",
      "\u001b[34m\u001b[1mwandb\u001b[0m: \thidden_units: 200\n",
      "\u001b[34m\u001b[1mwandb\u001b[0m: \tk: 30\n",
      "\u001b[34m\u001b[1mwandb\u001b[0m: \tminibatch: 100\n",
      "Failed to detect the name of this notebook, you can set it manually with the WANDB_NOTEBOOK_NAME environment variable to enable code saving.\n",
      "\u001b[34m\u001b[1mwandb\u001b[0m: \u001b[33mWARNING\u001b[0m Ignored wandb.init() arg project when running a sweep.\n"
     ]
    },
    {
     "data": {
      "text/html": [
       "Tracking run with wandb version 0.16.6"
      ],
      "text/plain": [
       "<IPython.core.display.HTML object>"
      ]
     },
     "metadata": {},
     "output_type": "display_data"
    },
    {
     "data": {
      "text/html": [
       "Run data is saved locally in <code>/Users/lucasericsson/repos/restricted-boltzmann-machine/wandb/run-20240409_001954-6xurcenr</code>"
      ],
      "text/plain": [
       "<IPython.core.display.HTML object>"
      ]
     },
     "metadata": {},
     "output_type": "display_data"
    },
    {
     "data": {
      "text/html": [
       "Syncing run <strong><a href='https://wandb.ai/lucasericsson222/restricted_boltzmann_machine_sweep/runs/6xurcenr' target=\"_blank\">lemon-sweep-18</a></strong> to <a href='https://wandb.ai/lucasericsson222/restricted_boltzmann_machine_sweep' target=\"_blank\">Weights & Biases</a> (<a href='https://wandb.me/run' target=\"_blank\">docs</a>)<br/>Sweep page: <a href='https://wandb.ai/lucasericsson222/restricted_boltzmann_machine_sweep/sweeps/r1b5058x' target=\"_blank\">https://wandb.ai/lucasericsson222/restricted_boltzmann_machine_sweep/sweeps/r1b5058x</a>"
      ],
      "text/plain": [
       "<IPython.core.display.HTML object>"
      ]
     },
     "metadata": {},
     "output_type": "display_data"
    },
    {
     "data": {
      "text/html": [
       " View project at <a href='https://wandb.ai/lucasericsson222/restricted_boltzmann_machine_sweep' target=\"_blank\">https://wandb.ai/lucasericsson222/restricted_boltzmann_machine_sweep</a>"
      ],
      "text/plain": [
       "<IPython.core.display.HTML object>"
      ]
     },
     "metadata": {},
     "output_type": "display_data"
    },
    {
     "data": {
      "text/html": [
       " View sweep at <a href='https://wandb.ai/lucasericsson222/restricted_boltzmann_machine_sweep/sweeps/r1b5058x' target=\"_blank\">https://wandb.ai/lucasericsson222/restricted_boltzmann_machine_sweep/sweeps/r1b5058x</a>"
      ],
      "text/plain": [
       "<IPython.core.display.HTML object>"
      ]
     },
     "metadata": {},
     "output_type": "display_data"
    },
    {
     "data": {
      "text/html": [
       " View run at <a href='https://wandb.ai/lucasericsson222/restricted_boltzmann_machine_sweep/runs/6xurcenr' target=\"_blank\">https://wandb.ai/lucasericsson222/restricted_boltzmann_machine_sweep/runs/6xurcenr</a>"
      ],
      "text/plain": [
       "<IPython.core.display.HTML object>"
      ]
     },
     "metadata": {},
     "output_type": "display_data"
    },
    {
     "name": "stdout",
     "output_type": "stream",
     "text": [
      "(60000, 784)\n",
      "Epoch: 0\n",
      "current_weight_diff: 16.241752897299765\n",
      "sqrd_recon_error: 2.025701530612245\n",
      "Epoch: 1\n",
      "current_weight_diff: 3.156754017018987\n",
      "sqrd_recon_error: 0.8548214285714286\n",
      "Epoch: 2\n",
      "current_weight_diff: 2.0341512963780217\n",
      "sqrd_recon_error: 0.8045535714285714\n",
      "Epoch: 3\n",
      "current_weight_diff: 1.4410244770563339\n",
      "sqrd_recon_error: 0.7188520408163265\n",
      "Epoch: 4\n",
      "current_weight_diff: 0.7290640045966266\n",
      "sqrd_recon_error: 0.7125637755102041\n"
     ]
    },
    {
     "data": {
      "application/vnd.jupyter.widget-view+json": {
       "model_id": "7cbc2fffd754480dbc92615380022945",
       "version_major": 2,
       "version_minor": 0
      },
      "text/plain": [
       "VBox(children=(Label(value='0.001 MB of 0.001 MB uploaded\\r'), FloatProgress(value=1.0, max=1.0)))"
      ]
     },
     "metadata": {},
     "output_type": "display_data"
    },
    {
     "name": "stderr",
     "output_type": "stream",
     "text": [
      "\u001b[34m\u001b[1mwandb\u001b[0m: \u001b[32m\u001b[41mERROR\u001b[0m Problem finishing run\n",
      "Traceback (most recent call last):\n",
      "  File \"/Library/Frameworks/Python.framework/Versions/3.10/lib/python3.10/site-packages/wandb/sdk/wandb_run.py\", line 2313, in _atexit_cleanup\n",
      "    self._on_finish()\n",
      "  File \"/Library/Frameworks/Python.framework/Versions/3.10/lib/python3.10/site-packages/wandb/sdk/wandb_run.py\", line 2567, in _on_finish\n",
      "    self._footer_file_pusher_status_info(\n",
      "  File \"/Library/Frameworks/Python.framework/Versions/3.10/lib/python3.10/site-packages/wandb/sdk/wandb_run.py\", line 3749, in _footer_file_pusher_status_info\n",
      "    Run._footer_single_run_file_pusher_status_info(\n",
      "  File \"/Library/Frameworks/Python.framework/Versions/3.10/lib/python3.10/site-packages/wandb/sdk/wandb_run.py\", line 3802, in _footer_single_run_file_pusher_status_info\n",
      "    printer.progress_close()\n",
      "  File \"/Library/Frameworks/Python.framework/Versions/3.10/lib/python3.10/site-packages/wandb/sdk/lib/printer.py\", line 292, in progress_close\n",
      "    self._progress.close()\n",
      "  File \"/Library/Frameworks/Python.framework/Versions/3.10/lib/python3.10/site-packages/wandb/sdk/lib/ipython.py\", line 128, in close\n",
      "    self._widget.close()\n",
      "  File \"/Users/lucasericsson/Library/Python/3.10/lib/python/site-packages/ipywidgets/widgets/widget.py\", line 500, in close\n",
      "    self.comm.close()\n",
      "  File \"/Users/lucasericsson/Library/Python/3.10/lib/python/site-packages/comm/base_comm.py\", line 109, in close\n",
      "    comm.get_comm_manager().unregister_comm(self)\n",
      "  File \"/Users/lucasericsson/Library/Python/3.10/lib/python/site-packages/comm/base_comm.py\", line 199, in unregister_comm\n",
      "    comm = self.comms.pop(comm.comm_id)\n",
      "KeyError: '7cbc2fffd754480dbc92615380022945'\n",
      "\u001b[34m\u001b[1mwandb\u001b[0m: Agent Starting Run: ofttwmdq with config:\n",
      "\u001b[34m\u001b[1mwandb\u001b[0m: \tepochs: 20\n",
      "\u001b[34m\u001b[1mwandb\u001b[0m: \thidden_units: 200\n",
      "\u001b[34m\u001b[1mwandb\u001b[0m: \tk: 20\n",
      "\u001b[34m\u001b[1mwandb\u001b[0m: \tminibatch: 200\n",
      "Failed to detect the name of this notebook, you can set it manually with the WANDB_NOTEBOOK_NAME environment variable to enable code saving.\n",
      "\u001b[34m\u001b[1mwandb\u001b[0m: \u001b[33mWARNING\u001b[0m Ignored wandb.init() arg project when running a sweep.\n"
     ]
    },
    {
     "data": {
      "text/html": [
       "Tracking run with wandb version 0.16.6"
      ],
      "text/plain": [
       "<IPython.core.display.HTML object>"
      ]
     },
     "metadata": {},
     "output_type": "display_data"
    },
    {
     "data": {
      "text/html": [
       "Run data is saved locally in <code>/Users/lucasericsson/repos/restricted-boltzmann-machine/wandb/run-20240409_002141-ofttwmdq</code>"
      ],
      "text/plain": [
       "<IPython.core.display.HTML object>"
      ]
     },
     "metadata": {},
     "output_type": "display_data"
    },
    {
     "data": {
      "text/html": [
       "Syncing run <strong><a href='https://wandb.ai/lucasericsson222/restricted_boltzmann_machine_sweep/runs/ofttwmdq' target=\"_blank\">woven-sweep-19</a></strong> to <a href='https://wandb.ai/lucasericsson222/restricted_boltzmann_machine_sweep' target=\"_blank\">Weights & Biases</a> (<a href='https://wandb.me/run' target=\"_blank\">docs</a>)<br/>Sweep page: <a href='https://wandb.ai/lucasericsson222/restricted_boltzmann_machine_sweep/sweeps/r1b5058x' target=\"_blank\">https://wandb.ai/lucasericsson222/restricted_boltzmann_machine_sweep/sweeps/r1b5058x</a>"
      ],
      "text/plain": [
       "<IPython.core.display.HTML object>"
      ]
     },
     "metadata": {},
     "output_type": "display_data"
    },
    {
     "data": {
      "text/html": [
       " View project at <a href='https://wandb.ai/lucasericsson222/restricted_boltzmann_machine_sweep' target=\"_blank\">https://wandb.ai/lucasericsson222/restricted_boltzmann_machine_sweep</a>"
      ],
      "text/plain": [
       "<IPython.core.display.HTML object>"
      ]
     },
     "metadata": {},
     "output_type": "display_data"
    },
    {
     "data": {
      "text/html": [
       " View sweep at <a href='https://wandb.ai/lucasericsson222/restricted_boltzmann_machine_sweep/sweeps/r1b5058x' target=\"_blank\">https://wandb.ai/lucasericsson222/restricted_boltzmann_machine_sweep/sweeps/r1b5058x</a>"
      ],
      "text/plain": [
       "<IPython.core.display.HTML object>"
      ]
     },
     "metadata": {},
     "output_type": "display_data"
    },
    {
     "data": {
      "text/html": [
       " View run at <a href='https://wandb.ai/lucasericsson222/restricted_boltzmann_machine_sweep/runs/ofttwmdq' target=\"_blank\">https://wandb.ai/lucasericsson222/restricted_boltzmann_machine_sweep/runs/ofttwmdq</a>"
      ],
      "text/plain": [
       "<IPython.core.display.HTML object>"
      ]
     },
     "metadata": {},
     "output_type": "display_data"
    },
    {
     "name": "stdout",
     "output_type": "stream",
     "text": [
      "(60000, 784)\n",
      "Epoch: 0\n",
      "current_weight_diff: 26.05286947450468\n",
      "sqrd_recon_error: 3.488488520408163\n",
      "Epoch: 1\n",
      "current_weight_diff: 2.95563318161337\n",
      "sqrd_recon_error: 1.5762691326530611\n",
      "Epoch: 2\n",
      "current_weight_diff: 2.6843242811170858\n",
      "sqrd_recon_error: 1.048265306122449\n",
      "Epoch: 3\n",
      "current_weight_diff: 1.0749716317452696\n",
      "sqrd_recon_error: 0.6650191326530613\n",
      "Epoch: 4\n",
      "current_weight_diff: 1.4868389003845353\n",
      "sqrd_recon_error: 0.5709311224489796\n",
      "Epoch: 5\n",
      "current_weight_diff: 0.6163881185012602\n",
      "sqrd_recon_error: 0.4239795918367347\n",
      "Epoch: 6\n",
      "current_weight_diff: 0.45881993162200113\n",
      "sqrd_recon_error: 0.3893877551020408\n",
      "Epoch: 7\n",
      "current_weight_diff: 0.47945720162625965\n",
      "sqrd_recon_error: 0.31323979591836737\n",
      "Epoch: 8\n",
      "current_weight_diff: 0.33247081731813166\n",
      "sqrd_recon_error: 0.3134630102040816\n",
      "Epoch: 9\n",
      "current_weight_diff: 0.2744924229718778\n",
      "sqrd_recon_error: 0.36287627551020407\n",
      "Epoch: 10\n",
      "current_weight_diff: 7.729476643282335\n",
      "sqrd_recon_error: 0.24974489795918367\n",
      "Epoch: 11\n",
      "current_weight_diff: 0.4233452667558269\n",
      "sqrd_recon_error: 0.2905994897959184\n",
      "Epoch: 12\n",
      "current_weight_diff: 0.2636567757754508\n",
      "sqrd_recon_error: 0.25663265306122446\n",
      "Epoch: 13\n",
      "current_weight_diff: 0.2773665750904302\n",
      "sqrd_recon_error: 0.282640306122449\n",
      "Epoch: 14\n",
      "current_weight_diff: 0.25174603463309536\n",
      "sqrd_recon_error: 0.2851530612244898\n",
      "Epoch: 15\n",
      "current_weight_diff: 0.16938022608339015\n",
      "sqrd_recon_error: 0.29696428571428574\n",
      "Epoch: 16\n",
      "current_weight_diff: 0.239642703710084\n",
      "sqrd_recon_error: 0.25540178571428573\n",
      "Epoch: 17\n",
      "current_weight_diff: 1.572144548298215\n",
      "sqrd_recon_error: 0.23137755102040816\n",
      "Epoch: 18\n",
      "current_weight_diff: 0.17459360167590812\n",
      "sqrd_recon_error: 0.21492984693877554\n",
      "Epoch: 19\n",
      "current_weight_diff: 0.16059824174252338\n",
      "sqrd_recon_error: 0.2418877551020408\n"
     ]
    },
    {
     "data": {
      "application/vnd.jupyter.widget-view+json": {
       "model_id": "83f38d10d294454da53b6c22cfaf3dac",
       "version_major": 2,
       "version_minor": 0
      },
      "text/plain": [
       "VBox(children=(Label(value='0.001 MB of 0.005 MB uploaded\\r'), FloatProgress(value=0.17670612813370473, max=1.…"
      ]
     },
     "metadata": {},
     "output_type": "display_data"
    },
    {
     "name": "stderr",
     "output_type": "stream",
     "text": [
      "\u001b[34m\u001b[1mwandb\u001b[0m: \u001b[32m\u001b[41mERROR\u001b[0m Problem finishing run\n",
      "Traceback (most recent call last):\n",
      "  File \"/Library/Frameworks/Python.framework/Versions/3.10/lib/python3.10/site-packages/wandb/sdk/wandb_run.py\", line 2313, in _atexit_cleanup\n",
      "    self._on_finish()\n",
      "  File \"/Library/Frameworks/Python.framework/Versions/3.10/lib/python3.10/site-packages/wandb/sdk/wandb_run.py\", line 2567, in _on_finish\n",
      "    self._footer_file_pusher_status_info(\n",
      "  File \"/Library/Frameworks/Python.framework/Versions/3.10/lib/python3.10/site-packages/wandb/sdk/wandb_run.py\", line 3749, in _footer_file_pusher_status_info\n",
      "    Run._footer_single_run_file_pusher_status_info(\n",
      "  File \"/Library/Frameworks/Python.framework/Versions/3.10/lib/python3.10/site-packages/wandb/sdk/wandb_run.py\", line 3802, in _footer_single_run_file_pusher_status_info\n",
      "    printer.progress_close()\n",
      "  File \"/Library/Frameworks/Python.framework/Versions/3.10/lib/python3.10/site-packages/wandb/sdk/lib/printer.py\", line 292, in progress_close\n",
      "    self._progress.close()\n",
      "  File \"/Library/Frameworks/Python.framework/Versions/3.10/lib/python3.10/site-packages/wandb/sdk/lib/ipython.py\", line 128, in close\n",
      "    self._widget.close()\n",
      "  File \"/Users/lucasericsson/Library/Python/3.10/lib/python/site-packages/ipywidgets/widgets/widget.py\", line 500, in close\n",
      "    self.comm.close()\n",
      "  File \"/Users/lucasericsson/Library/Python/3.10/lib/python/site-packages/comm/base_comm.py\", line 109, in close\n",
      "    comm.get_comm_manager().unregister_comm(self)\n",
      "  File \"/Users/lucasericsson/Library/Python/3.10/lib/python/site-packages/comm/base_comm.py\", line 199, in unregister_comm\n",
      "    comm = self.comms.pop(comm.comm_id)\n",
      "KeyError: '83f38d10d294454da53b6c22cfaf3dac'\n",
      "\u001b[34m\u001b[1mwandb\u001b[0m: Agent Starting Run: 3sanjluq with config:\n",
      "\u001b[34m\u001b[1mwandb\u001b[0m: \tepochs: 10\n",
      "\u001b[34m\u001b[1mwandb\u001b[0m: \thidden_units: 1000\n",
      "\u001b[34m\u001b[1mwandb\u001b[0m: \tk: 30\n",
      "\u001b[34m\u001b[1mwandb\u001b[0m: \tminibatch: 150\n",
      "Failed to detect the name of this notebook, you can set it manually with the WANDB_NOTEBOOK_NAME environment variable to enable code saving.\n",
      "\u001b[34m\u001b[1mwandb\u001b[0m: \u001b[33mWARNING\u001b[0m Ignored wandb.init() arg project when running a sweep.\n"
     ]
    },
    {
     "data": {
      "text/html": [
       "Tracking run with wandb version 0.16.6"
      ],
      "text/plain": [
       "<IPython.core.display.HTML object>"
      ]
     },
     "metadata": {},
     "output_type": "display_data"
    },
    {
     "data": {
      "text/html": [
       "Run data is saved locally in <code>/Users/lucasericsson/repos/restricted-boltzmann-machine/wandb/run-20240409_003036-3sanjluq</code>"
      ],
      "text/plain": [
       "<IPython.core.display.HTML object>"
      ]
     },
     "metadata": {},
     "output_type": "display_data"
    },
    {
     "data": {
      "text/html": [
       "Syncing run <strong><a href='https://wandb.ai/lucasericsson222/restricted_boltzmann_machine_sweep/runs/3sanjluq' target=\"_blank\">revived-sweep-20</a></strong> to <a href='https://wandb.ai/lucasericsson222/restricted_boltzmann_machine_sweep' target=\"_blank\">Weights & Biases</a> (<a href='https://wandb.me/run' target=\"_blank\">docs</a>)<br/>Sweep page: <a href='https://wandb.ai/lucasericsson222/restricted_boltzmann_machine_sweep/sweeps/r1b5058x' target=\"_blank\">https://wandb.ai/lucasericsson222/restricted_boltzmann_machine_sweep/sweeps/r1b5058x</a>"
      ],
      "text/plain": [
       "<IPython.core.display.HTML object>"
      ]
     },
     "metadata": {},
     "output_type": "display_data"
    },
    {
     "data": {
      "text/html": [
       " View project at <a href='https://wandb.ai/lucasericsson222/restricted_boltzmann_machine_sweep' target=\"_blank\">https://wandb.ai/lucasericsson222/restricted_boltzmann_machine_sweep</a>"
      ],
      "text/plain": [
       "<IPython.core.display.HTML object>"
      ]
     },
     "metadata": {},
     "output_type": "display_data"
    },
    {
     "data": {
      "text/html": [
       " View sweep at <a href='https://wandb.ai/lucasericsson222/restricted_boltzmann_machine_sweep/sweeps/r1b5058x' target=\"_blank\">https://wandb.ai/lucasericsson222/restricted_boltzmann_machine_sweep/sweeps/r1b5058x</a>"
      ],
      "text/plain": [
       "<IPython.core.display.HTML object>"
      ]
     },
     "metadata": {},
     "output_type": "display_data"
    },
    {
     "data": {
      "text/html": [
       " View run at <a href='https://wandb.ai/lucasericsson222/restricted_boltzmann_machine_sweep/runs/3sanjluq' target=\"_blank\">https://wandb.ai/lucasericsson222/restricted_boltzmann_machine_sweep/runs/3sanjluq</a>"
      ],
      "text/plain": [
       "<IPython.core.display.HTML object>"
      ]
     },
     "metadata": {},
     "output_type": "display_data"
    },
    {
     "name": "stdout",
     "output_type": "stream",
     "text": [
      "(60000, 784)\n",
      "Epoch: 0\n",
      "current_weight_diff: 8.738710005442135\n",
      "sqrd_recon_error: 0.4660884353741497\n",
      "Epoch: 1\n",
      "current_weight_diff: 2.734139170497038\n",
      "sqrd_recon_error: 0.49421768707482994\n",
      "Epoch: 2\n",
      "current_weight_diff: 1.6759716933550384\n",
      "sqrd_recon_error: 1.2422534013605442\n",
      "Epoch: 3\n",
      "current_weight_diff: 1.143605645032021\n",
      "sqrd_recon_error: 1.8408333333333333\n",
      "Epoch: 4\n",
      "current_weight_diff: 1.1859492767940987\n",
      "sqrd_recon_error: 1.4767261904761906\n",
      "Epoch: 5\n",
      "current_weight_diff: 0.801427549291977\n",
      "sqrd_recon_error: 2.8775255102040815\n",
      "Epoch: 6\n",
      "current_weight_diff: 0.723686276537117\n",
      "sqrd_recon_error: 2.7057397959183676\n",
      "Epoch: 7\n",
      "current_weight_diff: 1.2161109241835881\n",
      "sqrd_recon_error: 2.291692176870748\n",
      "Epoch: 8\n",
      "current_weight_diff: 0.49682679534185614\n",
      "sqrd_recon_error: 3.8443027210884355\n",
      "Epoch: 9\n",
      "current_weight_diff: 0.49569748071784464\n",
      "sqrd_recon_error: 3.127857142857143\n"
     ]
    },
    {
     "data": {
      "application/vnd.jupyter.widget-view+json": {
       "model_id": "163558edac4f472a9debf6fa19837b75",
       "version_major": 2,
       "version_minor": 0
      },
      "text/plain": [
       "VBox(children=(Label(value='0.001 MB of 0.001 MB uploaded\\r'), FloatProgress(value=1.0, max=1.0)))"
      ]
     },
     "metadata": {},
     "output_type": "display_data"
    },
    {
     "name": "stderr",
     "output_type": "stream",
     "text": [
      "\u001b[34m\u001b[1mwandb\u001b[0m: \u001b[32m\u001b[41mERROR\u001b[0m Problem finishing run\n",
      "Traceback (most recent call last):\n",
      "  File \"/Library/Frameworks/Python.framework/Versions/3.10/lib/python3.10/site-packages/wandb/sdk/wandb_run.py\", line 2313, in _atexit_cleanup\n",
      "    self._on_finish()\n",
      "  File \"/Library/Frameworks/Python.framework/Versions/3.10/lib/python3.10/site-packages/wandb/sdk/wandb_run.py\", line 2567, in _on_finish\n",
      "    self._footer_file_pusher_status_info(\n",
      "  File \"/Library/Frameworks/Python.framework/Versions/3.10/lib/python3.10/site-packages/wandb/sdk/wandb_run.py\", line 3749, in _footer_file_pusher_status_info\n",
      "    Run._footer_single_run_file_pusher_status_info(\n",
      "  File \"/Library/Frameworks/Python.framework/Versions/3.10/lib/python3.10/site-packages/wandb/sdk/wandb_run.py\", line 3802, in _footer_single_run_file_pusher_status_info\n",
      "    printer.progress_close()\n",
      "  File \"/Library/Frameworks/Python.framework/Versions/3.10/lib/python3.10/site-packages/wandb/sdk/lib/printer.py\", line 292, in progress_close\n",
      "    self._progress.close()\n",
      "  File \"/Library/Frameworks/Python.framework/Versions/3.10/lib/python3.10/site-packages/wandb/sdk/lib/ipython.py\", line 128, in close\n",
      "    self._widget.close()\n",
      "  File \"/Users/lucasericsson/Library/Python/3.10/lib/python/site-packages/ipywidgets/widgets/widget.py\", line 500, in close\n",
      "    self.comm.close()\n",
      "  File \"/Users/lucasericsson/Library/Python/3.10/lib/python/site-packages/comm/base_comm.py\", line 109, in close\n",
      "    comm.get_comm_manager().unregister_comm(self)\n",
      "  File \"/Users/lucasericsson/Library/Python/3.10/lib/python/site-packages/comm/base_comm.py\", line 199, in unregister_comm\n",
      "    comm = self.comms.pop(comm.comm_id)\n",
      "KeyError: '163558edac4f472a9debf6fa19837b75'\n",
      "\u001b[34m\u001b[1mwandb\u001b[0m: Agent Starting Run: td14x73o with config:\n",
      "\u001b[34m\u001b[1mwandb\u001b[0m: \tepochs: 5\n",
      "\u001b[34m\u001b[1mwandb\u001b[0m: \thidden_units: 200\n",
      "\u001b[34m\u001b[1mwandb\u001b[0m: \tk: 2\n",
      "\u001b[34m\u001b[1mwandb\u001b[0m: \tminibatch: 100\n",
      "Failed to detect the name of this notebook, you can set it manually with the WANDB_NOTEBOOK_NAME environment variable to enable code saving.\n",
      "\u001b[34m\u001b[1mwandb\u001b[0m: \u001b[33mWARNING\u001b[0m Ignored wandb.init() arg project when running a sweep.\n"
     ]
    },
    {
     "data": {
      "text/html": [
       "Tracking run with wandb version 0.16.6"
      ],
      "text/plain": [
       "<IPython.core.display.HTML object>"
      ]
     },
     "metadata": {},
     "output_type": "display_data"
    },
    {
     "data": {
      "text/html": [
       "Run data is saved locally in <code>/Users/lucasericsson/repos/restricted-boltzmann-machine/wandb/run-20240409_004439-td14x73o</code>"
      ],
      "text/plain": [
       "<IPython.core.display.HTML object>"
      ]
     },
     "metadata": {},
     "output_type": "display_data"
    },
    {
     "data": {
      "text/html": [
       "Syncing run <strong><a href='https://wandb.ai/lucasericsson222/restricted_boltzmann_machine_sweep/runs/td14x73o' target=\"_blank\">cosmic-sweep-21</a></strong> to <a href='https://wandb.ai/lucasericsson222/restricted_boltzmann_machine_sweep' target=\"_blank\">Weights & Biases</a> (<a href='https://wandb.me/run' target=\"_blank\">docs</a>)<br/>Sweep page: <a href='https://wandb.ai/lucasericsson222/restricted_boltzmann_machine_sweep/sweeps/r1b5058x' target=\"_blank\">https://wandb.ai/lucasericsson222/restricted_boltzmann_machine_sweep/sweeps/r1b5058x</a>"
      ],
      "text/plain": [
       "<IPython.core.display.HTML object>"
      ]
     },
     "metadata": {},
     "output_type": "display_data"
    },
    {
     "data": {
      "text/html": [
       " View project at <a href='https://wandb.ai/lucasericsson222/restricted_boltzmann_machine_sweep' target=\"_blank\">https://wandb.ai/lucasericsson222/restricted_boltzmann_machine_sweep</a>"
      ],
      "text/plain": [
       "<IPython.core.display.HTML object>"
      ]
     },
     "metadata": {},
     "output_type": "display_data"
    },
    {
     "data": {
      "text/html": [
       " View sweep at <a href='https://wandb.ai/lucasericsson222/restricted_boltzmann_machine_sweep/sweeps/r1b5058x' target=\"_blank\">https://wandb.ai/lucasericsson222/restricted_boltzmann_machine_sweep/sweeps/r1b5058x</a>"
      ],
      "text/plain": [
       "<IPython.core.display.HTML object>"
      ]
     },
     "metadata": {},
     "output_type": "display_data"
    },
    {
     "data": {
      "text/html": [
       " View run at <a href='https://wandb.ai/lucasericsson222/restricted_boltzmann_machine_sweep/runs/td14x73o' target=\"_blank\">https://wandb.ai/lucasericsson222/restricted_boltzmann_machine_sweep/runs/td14x73o</a>"
      ],
      "text/plain": [
       "<IPython.core.display.HTML object>"
      ]
     },
     "metadata": {},
     "output_type": "display_data"
    },
    {
     "name": "stdout",
     "output_type": "stream",
     "text": [
      "(60000, 784)\n",
      "Epoch: 0\n",
      "current_weight_diff: 29.40474327165501\n",
      "sqrd_recon_error: 0.9687117346938776\n",
      "Epoch: 1\n",
      "current_weight_diff: 1.5806336246628105\n",
      "sqrd_recon_error: 0.5206760204081633\n",
      "Epoch: 2\n",
      "current_weight_diff: 1.7926763384860147\n",
      "sqrd_recon_error: 0.39863520408163267\n",
      "Epoch: 3\n",
      "current_weight_diff: 0.9784171308914626\n",
      "sqrd_recon_error: 0.2996173469387755\n",
      "Epoch: 4\n",
      "current_weight_diff: 2.230440671188754\n",
      "sqrd_recon_error: 0.23561224489795918\n"
     ]
    },
    {
     "data": {
      "application/vnd.jupyter.widget-view+json": {
       "model_id": "b8f2992a521641eeaa597a0c9f475ce6",
       "version_major": 2,
       "version_minor": 0
      },
      "text/plain": [
       "VBox(children=(Label(value='0.004 MB of 0.004 MB uploaded\\r'), FloatProgress(value=1.0, max=1.0)))"
      ]
     },
     "metadata": {},
     "output_type": "display_data"
    },
    {
     "name": "stderr",
     "output_type": "stream",
     "text": [
      "\u001b[34m\u001b[1mwandb\u001b[0m: \u001b[32m\u001b[41mERROR\u001b[0m Problem finishing run\n",
      "Traceback (most recent call last):\n",
      "  File \"/Library/Frameworks/Python.framework/Versions/3.10/lib/python3.10/site-packages/wandb/sdk/wandb_run.py\", line 2313, in _atexit_cleanup\n",
      "    self._on_finish()\n",
      "  File \"/Library/Frameworks/Python.framework/Versions/3.10/lib/python3.10/site-packages/wandb/sdk/wandb_run.py\", line 2567, in _on_finish\n",
      "    self._footer_file_pusher_status_info(\n",
      "  File \"/Library/Frameworks/Python.framework/Versions/3.10/lib/python3.10/site-packages/wandb/sdk/wandb_run.py\", line 3749, in _footer_file_pusher_status_info\n",
      "    Run._footer_single_run_file_pusher_status_info(\n",
      "  File \"/Library/Frameworks/Python.framework/Versions/3.10/lib/python3.10/site-packages/wandb/sdk/wandb_run.py\", line 3802, in _footer_single_run_file_pusher_status_info\n",
      "    printer.progress_close()\n",
      "  File \"/Library/Frameworks/Python.framework/Versions/3.10/lib/python3.10/site-packages/wandb/sdk/lib/printer.py\", line 292, in progress_close\n",
      "    self._progress.close()\n",
      "  File \"/Library/Frameworks/Python.framework/Versions/3.10/lib/python3.10/site-packages/wandb/sdk/lib/ipython.py\", line 128, in close\n",
      "    self._widget.close()\n",
      "  File \"/Users/lucasericsson/Library/Python/3.10/lib/python/site-packages/ipywidgets/widgets/widget.py\", line 500, in close\n",
      "    self.comm.close()\n",
      "  File \"/Users/lucasericsson/Library/Python/3.10/lib/python/site-packages/comm/base_comm.py\", line 109, in close\n",
      "    comm.get_comm_manager().unregister_comm(self)\n",
      "  File \"/Users/lucasericsson/Library/Python/3.10/lib/python/site-packages/comm/base_comm.py\", line 199, in unregister_comm\n",
      "    comm = self.comms.pop(comm.comm_id)\n",
      "KeyError: 'b8f2992a521641eeaa597a0c9f475ce6'\n",
      "\u001b[34m\u001b[1mwandb\u001b[0m: Agent Starting Run: tq5syqfs with config:\n",
      "\u001b[34m\u001b[1mwandb\u001b[0m: \tepochs: 3\n",
      "\u001b[34m\u001b[1mwandb\u001b[0m: \thidden_units: 20\n",
      "\u001b[34m\u001b[1mwandb\u001b[0m: \tk: 10\n",
      "\u001b[34m\u001b[1mwandb\u001b[0m: \tminibatch: 150\n",
      "Failed to detect the name of this notebook, you can set it manually with the WANDB_NOTEBOOK_NAME environment variable to enable code saving.\n",
      "\u001b[34m\u001b[1mwandb\u001b[0m: \u001b[33mWARNING\u001b[0m Ignored wandb.init() arg project when running a sweep.\n"
     ]
    },
    {
     "data": {
      "text/html": [
       "Tracking run with wandb version 0.16.6"
      ],
      "text/plain": [
       "<IPython.core.display.HTML object>"
      ]
     },
     "metadata": {},
     "output_type": "display_data"
    },
    {
     "data": {
      "text/html": [
       "Run data is saved locally in <code>/Users/lucasericsson/repos/restricted-boltzmann-machine/wandb/run-20240409_004504-tq5syqfs</code>"
      ],
      "text/plain": [
       "<IPython.core.display.HTML object>"
      ]
     },
     "metadata": {},
     "output_type": "display_data"
    },
    {
     "data": {
      "text/html": [
       "Syncing run <strong><a href='https://wandb.ai/lucasericsson222/restricted_boltzmann_machine_sweep/runs/tq5syqfs' target=\"_blank\">glorious-sweep-22</a></strong> to <a href='https://wandb.ai/lucasericsson222/restricted_boltzmann_machine_sweep' target=\"_blank\">Weights & Biases</a> (<a href='https://wandb.me/run' target=\"_blank\">docs</a>)<br/>Sweep page: <a href='https://wandb.ai/lucasericsson222/restricted_boltzmann_machine_sweep/sweeps/r1b5058x' target=\"_blank\">https://wandb.ai/lucasericsson222/restricted_boltzmann_machine_sweep/sweeps/r1b5058x</a>"
      ],
      "text/plain": [
       "<IPython.core.display.HTML object>"
      ]
     },
     "metadata": {},
     "output_type": "display_data"
    },
    {
     "data": {
      "text/html": [
       " View project at <a href='https://wandb.ai/lucasericsson222/restricted_boltzmann_machine_sweep' target=\"_blank\">https://wandb.ai/lucasericsson222/restricted_boltzmann_machine_sweep</a>"
      ],
      "text/plain": [
       "<IPython.core.display.HTML object>"
      ]
     },
     "metadata": {},
     "output_type": "display_data"
    },
    {
     "data": {
      "text/html": [
       " View sweep at <a href='https://wandb.ai/lucasericsson222/restricted_boltzmann_machine_sweep/sweeps/r1b5058x' target=\"_blank\">https://wandb.ai/lucasericsson222/restricted_boltzmann_machine_sweep/sweeps/r1b5058x</a>"
      ],
      "text/plain": [
       "<IPython.core.display.HTML object>"
      ]
     },
     "metadata": {},
     "output_type": "display_data"
    },
    {
     "data": {
      "text/html": [
       " View run at <a href='https://wandb.ai/lucasericsson222/restricted_boltzmann_machine_sweep/runs/tq5syqfs' target=\"_blank\">https://wandb.ai/lucasericsson222/restricted_boltzmann_machine_sweep/runs/tq5syqfs</a>"
      ],
      "text/plain": [
       "<IPython.core.display.HTML object>"
      ]
     },
     "metadata": {},
     "output_type": "display_data"
    },
    {
     "name": "stdout",
     "output_type": "stream",
     "text": [
      "(60000, 784)\n",
      "Epoch: 0\n",
      "current_weight_diff: 138.67703822934826\n",
      "sqrd_recon_error: 6.721326530612245\n",
      "Epoch: 1\n",
      "current_weight_diff: 0.7483453382269143\n",
      "sqrd_recon_error: 3.978358843537415\n",
      "Epoch: 2\n",
      "current_weight_diff: 0.20156838098203606\n",
      "sqrd_recon_error: 2.4639625850340137\n"
     ]
    },
    {
     "data": {
      "application/vnd.jupyter.widget-view+json": {
       "model_id": "cd693ae62b324392a32e1852ff762548",
       "version_major": 2,
       "version_minor": 0
      },
      "text/plain": [
       "VBox(children=(Label(value='0.001 MB of 0.001 MB uploaded\\r'), FloatProgress(value=1.0, max=1.0)))"
      ]
     },
     "metadata": {},
     "output_type": "display_data"
    },
    {
     "name": "stderr",
     "output_type": "stream",
     "text": [
      "\u001b[34m\u001b[1mwandb\u001b[0m: \u001b[32m\u001b[41mERROR\u001b[0m Problem finishing run\n",
      "Traceback (most recent call last):\n",
      "  File \"/Library/Frameworks/Python.framework/Versions/3.10/lib/python3.10/site-packages/wandb/sdk/wandb_run.py\", line 2313, in _atexit_cleanup\n",
      "    self._on_finish()\n",
      "  File \"/Library/Frameworks/Python.framework/Versions/3.10/lib/python3.10/site-packages/wandb/sdk/wandb_run.py\", line 2567, in _on_finish\n",
      "    self._footer_file_pusher_status_info(\n",
      "  File \"/Library/Frameworks/Python.framework/Versions/3.10/lib/python3.10/site-packages/wandb/sdk/wandb_run.py\", line 3749, in _footer_file_pusher_status_info\n",
      "    Run._footer_single_run_file_pusher_status_info(\n",
      "  File \"/Library/Frameworks/Python.framework/Versions/3.10/lib/python3.10/site-packages/wandb/sdk/wandb_run.py\", line 3802, in _footer_single_run_file_pusher_status_info\n",
      "    printer.progress_close()\n",
      "  File \"/Library/Frameworks/Python.framework/Versions/3.10/lib/python3.10/site-packages/wandb/sdk/lib/printer.py\", line 292, in progress_close\n",
      "    self._progress.close()\n",
      "  File \"/Library/Frameworks/Python.framework/Versions/3.10/lib/python3.10/site-packages/wandb/sdk/lib/ipython.py\", line 128, in close\n",
      "    self._widget.close()\n",
      "  File \"/Users/lucasericsson/Library/Python/3.10/lib/python/site-packages/ipywidgets/widgets/widget.py\", line 500, in close\n",
      "    self.comm.close()\n",
      "  File \"/Users/lucasericsson/Library/Python/3.10/lib/python/site-packages/comm/base_comm.py\", line 109, in close\n",
      "    comm.get_comm_manager().unregister_comm(self)\n",
      "  File \"/Users/lucasericsson/Library/Python/3.10/lib/python/site-packages/comm/base_comm.py\", line 199, in unregister_comm\n",
      "    comm = self.comms.pop(comm.comm_id)\n",
      "KeyError: 'cd693ae62b324392a32e1852ff762548'\n",
      "\u001b[34m\u001b[1mwandb\u001b[0m: Agent Starting Run: jf6ttojo with config:\n",
      "\u001b[34m\u001b[1mwandb\u001b[0m: \tepochs: 2\n",
      "\u001b[34m\u001b[1mwandb\u001b[0m: \thidden_units: 20\n",
      "\u001b[34m\u001b[1mwandb\u001b[0m: \tk: 5\n",
      "\u001b[34m\u001b[1mwandb\u001b[0m: \tminibatch: 100\n",
      "Failed to detect the name of this notebook, you can set it manually with the WANDB_NOTEBOOK_NAME environment variable to enable code saving.\n",
      "\u001b[34m\u001b[1mwandb\u001b[0m: \u001b[33mWARNING\u001b[0m Ignored wandb.init() arg project when running a sweep.\n"
     ]
    },
    {
     "data": {
      "text/html": [
       "Tracking run with wandb version 0.16.6"
      ],
      "text/plain": [
       "<IPython.core.display.HTML object>"
      ]
     },
     "metadata": {},
     "output_type": "display_data"
    },
    {
     "data": {
      "text/html": [
       "Run data is saved locally in <code>/Users/lucasericsson/repos/restricted-boltzmann-machine/wandb/run-20240409_004530-jf6ttojo</code>"
      ],
      "text/plain": [
       "<IPython.core.display.HTML object>"
      ]
     },
     "metadata": {},
     "output_type": "display_data"
    },
    {
     "data": {
      "text/html": [
       "Syncing run <strong><a href='https://wandb.ai/lucasericsson222/restricted_boltzmann_machine_sweep/runs/jf6ttojo' target=\"_blank\">pretty-sweep-23</a></strong> to <a href='https://wandb.ai/lucasericsson222/restricted_boltzmann_machine_sweep' target=\"_blank\">Weights & Biases</a> (<a href='https://wandb.me/run' target=\"_blank\">docs</a>)<br/>Sweep page: <a href='https://wandb.ai/lucasericsson222/restricted_boltzmann_machine_sweep/sweeps/r1b5058x' target=\"_blank\">https://wandb.ai/lucasericsson222/restricted_boltzmann_machine_sweep/sweeps/r1b5058x</a>"
      ],
      "text/plain": [
       "<IPython.core.display.HTML object>"
      ]
     },
     "metadata": {},
     "output_type": "display_data"
    },
    {
     "data": {
      "text/html": [
       " View project at <a href='https://wandb.ai/lucasericsson222/restricted_boltzmann_machine_sweep' target=\"_blank\">https://wandb.ai/lucasericsson222/restricted_boltzmann_machine_sweep</a>"
      ],
      "text/plain": [
       "<IPython.core.display.HTML object>"
      ]
     },
     "metadata": {},
     "output_type": "display_data"
    },
    {
     "data": {
      "text/html": [
       " View sweep at <a href='https://wandb.ai/lucasericsson222/restricted_boltzmann_machine_sweep/sweeps/r1b5058x' target=\"_blank\">https://wandb.ai/lucasericsson222/restricted_boltzmann_machine_sweep/sweeps/r1b5058x</a>"
      ],
      "text/plain": [
       "<IPython.core.display.HTML object>"
      ]
     },
     "metadata": {},
     "output_type": "display_data"
    },
    {
     "data": {
      "text/html": [
       " View run at <a href='https://wandb.ai/lucasericsson222/restricted_boltzmann_machine_sweep/runs/jf6ttojo' target=\"_blank\">https://wandb.ai/lucasericsson222/restricted_boltzmann_machine_sweep/runs/jf6ttojo</a>"
      ],
      "text/plain": [
       "<IPython.core.display.HTML object>"
      ]
     },
     "metadata": {},
     "output_type": "display_data"
    },
    {
     "name": "stdout",
     "output_type": "stream",
     "text": [
      "(60000, 784)\n",
      "Epoch: 0\n",
      "current_weight_diff: 63.07276140130771\n",
      "sqrd_recon_error: 4.3420280612244895\n",
      "Epoch: 1\n",
      "current_weight_diff: 0.5781979767702312\n",
      "sqrd_recon_error: 2.379719387755102\n"
     ]
    },
    {
     "data": {
      "application/vnd.jupyter.widget-view+json": {
       "model_id": "4c35b216bbc44fa0b5253172417f3d9f",
       "version_major": 2,
       "version_minor": 0
      },
      "text/plain": [
       "VBox(children=(Label(value='0.004 MB of 0.004 MB uploaded\\r'), FloatProgress(value=1.0, max=1.0)))"
      ]
     },
     "metadata": {},
     "output_type": "display_data"
    },
    {
     "name": "stderr",
     "output_type": "stream",
     "text": [
      "\u001b[34m\u001b[1mwandb\u001b[0m: \u001b[32m\u001b[41mERROR\u001b[0m Problem finishing run\n",
      "Traceback (most recent call last):\n",
      "  File \"/Library/Frameworks/Python.framework/Versions/3.10/lib/python3.10/site-packages/wandb/sdk/wandb_run.py\", line 2313, in _atexit_cleanup\n",
      "    self._on_finish()\n",
      "  File \"/Library/Frameworks/Python.framework/Versions/3.10/lib/python3.10/site-packages/wandb/sdk/wandb_run.py\", line 2567, in _on_finish\n",
      "    self._footer_file_pusher_status_info(\n",
      "  File \"/Library/Frameworks/Python.framework/Versions/3.10/lib/python3.10/site-packages/wandb/sdk/wandb_run.py\", line 3749, in _footer_file_pusher_status_info\n",
      "    Run._footer_single_run_file_pusher_status_info(\n",
      "  File \"/Library/Frameworks/Python.framework/Versions/3.10/lib/python3.10/site-packages/wandb/sdk/wandb_run.py\", line 3802, in _footer_single_run_file_pusher_status_info\n",
      "    printer.progress_close()\n",
      "  File \"/Library/Frameworks/Python.framework/Versions/3.10/lib/python3.10/site-packages/wandb/sdk/lib/printer.py\", line 292, in progress_close\n",
      "    self._progress.close()\n",
      "  File \"/Library/Frameworks/Python.framework/Versions/3.10/lib/python3.10/site-packages/wandb/sdk/lib/ipython.py\", line 128, in close\n",
      "    self._widget.close()\n",
      "  File \"/Users/lucasericsson/Library/Python/3.10/lib/python/site-packages/ipywidgets/widgets/widget.py\", line 500, in close\n",
      "    self.comm.close()\n",
      "  File \"/Users/lucasericsson/Library/Python/3.10/lib/python/site-packages/comm/base_comm.py\", line 109, in close\n",
      "    comm.get_comm_manager().unregister_comm(self)\n",
      "  File \"/Users/lucasericsson/Library/Python/3.10/lib/python/site-packages/comm/base_comm.py\", line 199, in unregister_comm\n",
      "    comm = self.comms.pop(comm.comm_id)\n",
      "KeyError: '4c35b216bbc44fa0b5253172417f3d9f'\n",
      "\u001b[34m\u001b[1mwandb\u001b[0m: Agent Starting Run: mynh1tn2 with config:\n",
      "\u001b[34m\u001b[1mwandb\u001b[0m: \tepochs: 5\n",
      "\u001b[34m\u001b[1mwandb\u001b[0m: \thidden_units: 100\n",
      "\u001b[34m\u001b[1mwandb\u001b[0m: \tk: 3\n",
      "\u001b[34m\u001b[1mwandb\u001b[0m: \tminibatch: 100\n",
      "Failed to detect the name of this notebook, you can set it manually with the WANDB_NOTEBOOK_NAME environment variable to enable code saving.\n",
      "\u001b[34m\u001b[1mwandb\u001b[0m: \u001b[33mWARNING\u001b[0m Ignored wandb.init() arg project when running a sweep.\n"
     ]
    },
    {
     "data": {
      "text/html": [
       "Tracking run with wandb version 0.16.6"
      ],
      "text/plain": [
       "<IPython.core.display.HTML object>"
      ]
     },
     "metadata": {},
     "output_type": "display_data"
    },
    {
     "data": {
      "text/html": [
       "Run data is saved locally in <code>/Users/lucasericsson/repos/restricted-boltzmann-machine/wandb/run-20240409_004540-mynh1tn2</code>"
      ],
      "text/plain": [
       "<IPython.core.display.HTML object>"
      ]
     },
     "metadata": {},
     "output_type": "display_data"
    },
    {
     "data": {
      "text/html": [
       "Syncing run <strong><a href='https://wandb.ai/lucasericsson222/restricted_boltzmann_machine_sweep/runs/mynh1tn2' target=\"_blank\">pretty-sweep-24</a></strong> to <a href='https://wandb.ai/lucasericsson222/restricted_boltzmann_machine_sweep' target=\"_blank\">Weights & Biases</a> (<a href='https://wandb.me/run' target=\"_blank\">docs</a>)<br/>Sweep page: <a href='https://wandb.ai/lucasericsson222/restricted_boltzmann_machine_sweep/sweeps/r1b5058x' target=\"_blank\">https://wandb.ai/lucasericsson222/restricted_boltzmann_machine_sweep/sweeps/r1b5058x</a>"
      ],
      "text/plain": [
       "<IPython.core.display.HTML object>"
      ]
     },
     "metadata": {},
     "output_type": "display_data"
    },
    {
     "data": {
      "text/html": [
       " View project at <a href='https://wandb.ai/lucasericsson222/restricted_boltzmann_machine_sweep' target=\"_blank\">https://wandb.ai/lucasericsson222/restricted_boltzmann_machine_sweep</a>"
      ],
      "text/plain": [
       "<IPython.core.display.HTML object>"
      ]
     },
     "metadata": {},
     "output_type": "display_data"
    },
    {
     "data": {
      "text/html": [
       " View sweep at <a href='https://wandb.ai/lucasericsson222/restricted_boltzmann_machine_sweep/sweeps/r1b5058x' target=\"_blank\">https://wandb.ai/lucasericsson222/restricted_boltzmann_machine_sweep/sweeps/r1b5058x</a>"
      ],
      "text/plain": [
       "<IPython.core.display.HTML object>"
      ]
     },
     "metadata": {},
     "output_type": "display_data"
    },
    {
     "data": {
      "text/html": [
       " View run at <a href='https://wandb.ai/lucasericsson222/restricted_boltzmann_machine_sweep/runs/mynh1tn2' target=\"_blank\">https://wandb.ai/lucasericsson222/restricted_boltzmann_machine_sweep/runs/mynh1tn2</a>"
      ],
      "text/plain": [
       "<IPython.core.display.HTML object>"
      ]
     },
     "metadata": {},
     "output_type": "display_data"
    },
    {
     "name": "stdout",
     "output_type": "stream",
     "text": [
      "(60000, 784)\n",
      "Epoch: 0\n",
      "current_weight_diff: 34.34262317192913\n",
      "sqrd_recon_error: 2.0646938775510204\n",
      "Epoch: 1\n",
      "current_weight_diff: 1.3129825315944719\n",
      "sqrd_recon_error: 1.1765561224489796\n",
      "Epoch: 2\n",
      "current_weight_diff: 1.4165850914148852\n",
      "sqrd_recon_error: 0.7833673469387754\n",
      "Epoch: 3\n",
      "current_weight_diff: 1.5062113138202067\n",
      "sqrd_recon_error: 0.4918112244897959\n",
      "Epoch: 4\n",
      "current_weight_diff: 1.4342925934202977\n",
      "sqrd_recon_error: 0.34160714285714283\n"
     ]
    },
    {
     "data": {
      "application/vnd.jupyter.widget-view+json": {
       "model_id": "d7247fd7b0204fc09a98fefcb43a2f87",
       "version_major": 2,
       "version_minor": 0
      },
      "text/plain": [
       "VBox(children=(Label(value='0.001 MB of 0.001 MB uploaded\\r'), FloatProgress(value=1.0, max=1.0)))"
      ]
     },
     "metadata": {},
     "output_type": "display_data"
    },
    {
     "name": "stderr",
     "output_type": "stream",
     "text": [
      "\u001b[34m\u001b[1mwandb\u001b[0m: \u001b[32m\u001b[41mERROR\u001b[0m Problem finishing run\n",
      "Traceback (most recent call last):\n",
      "  File \"/Library/Frameworks/Python.framework/Versions/3.10/lib/python3.10/site-packages/wandb/sdk/wandb_run.py\", line 2313, in _atexit_cleanup\n",
      "    self._on_finish()\n",
      "  File \"/Library/Frameworks/Python.framework/Versions/3.10/lib/python3.10/site-packages/wandb/sdk/wandb_run.py\", line 2567, in _on_finish\n",
      "    self._footer_file_pusher_status_info(\n",
      "  File \"/Library/Frameworks/Python.framework/Versions/3.10/lib/python3.10/site-packages/wandb/sdk/wandb_run.py\", line 3749, in _footer_file_pusher_status_info\n",
      "    Run._footer_single_run_file_pusher_status_info(\n",
      "  File \"/Library/Frameworks/Python.framework/Versions/3.10/lib/python3.10/site-packages/wandb/sdk/wandb_run.py\", line 3802, in _footer_single_run_file_pusher_status_info\n",
      "    printer.progress_close()\n",
      "  File \"/Library/Frameworks/Python.framework/Versions/3.10/lib/python3.10/site-packages/wandb/sdk/lib/printer.py\", line 292, in progress_close\n",
      "    self._progress.close()\n",
      "  File \"/Library/Frameworks/Python.framework/Versions/3.10/lib/python3.10/site-packages/wandb/sdk/lib/ipython.py\", line 128, in close\n",
      "    self._widget.close()\n",
      "  File \"/Users/lucasericsson/Library/Python/3.10/lib/python/site-packages/ipywidgets/widgets/widget.py\", line 500, in close\n",
      "    self.comm.close()\n",
      "  File \"/Users/lucasericsson/Library/Python/3.10/lib/python/site-packages/comm/base_comm.py\", line 109, in close\n",
      "    comm.get_comm_manager().unregister_comm(self)\n",
      "  File \"/Users/lucasericsson/Library/Python/3.10/lib/python/site-packages/comm/base_comm.py\", line 199, in unregister_comm\n",
      "    comm = self.comms.pop(comm.comm_id)\n",
      "KeyError: 'd7247fd7b0204fc09a98fefcb43a2f87'\n",
      "\u001b[34m\u001b[1mwandb\u001b[0m: Agent Starting Run: yyem5ecy with config:\n",
      "\u001b[34m\u001b[1mwandb\u001b[0m: \tepochs: 4\n",
      "\u001b[34m\u001b[1mwandb\u001b[0m: \thidden_units: 200\n",
      "\u001b[34m\u001b[1mwandb\u001b[0m: \tk: 2\n",
      "\u001b[34m\u001b[1mwandb\u001b[0m: \tminibatch: 50\n",
      "Failed to detect the name of this notebook, you can set it manually with the WANDB_NOTEBOOK_NAME environment variable to enable code saving.\n",
      "\u001b[34m\u001b[1mwandb\u001b[0m: \u001b[33mWARNING\u001b[0m Ignored wandb.init() arg project when running a sweep.\n"
     ]
    },
    {
     "data": {
      "text/html": [
       "Tracking run with wandb version 0.16.6"
      ],
      "text/plain": [
       "<IPython.core.display.HTML object>"
      ]
     },
     "metadata": {},
     "output_type": "display_data"
    },
    {
     "data": {
      "text/html": [
       "Run data is saved locally in <code>/Users/lucasericsson/repos/restricted-boltzmann-machine/wandb/run-20240409_004601-yyem5ecy</code>"
      ],
      "text/plain": [
       "<IPython.core.display.HTML object>"
      ]
     },
     "metadata": {},
     "output_type": "display_data"
    },
    {
     "data": {
      "text/html": [
       "Syncing run <strong><a href='https://wandb.ai/lucasericsson222/restricted_boltzmann_machine_sweep/runs/yyem5ecy' target=\"_blank\">glorious-sweep-25</a></strong> to <a href='https://wandb.ai/lucasericsson222/restricted_boltzmann_machine_sweep' target=\"_blank\">Weights & Biases</a> (<a href='https://wandb.me/run' target=\"_blank\">docs</a>)<br/>Sweep page: <a href='https://wandb.ai/lucasericsson222/restricted_boltzmann_machine_sweep/sweeps/r1b5058x' target=\"_blank\">https://wandb.ai/lucasericsson222/restricted_boltzmann_machine_sweep/sweeps/r1b5058x</a>"
      ],
      "text/plain": [
       "<IPython.core.display.HTML object>"
      ]
     },
     "metadata": {},
     "output_type": "display_data"
    },
    {
     "data": {
      "text/html": [
       " View project at <a href='https://wandb.ai/lucasericsson222/restricted_boltzmann_machine_sweep' target=\"_blank\">https://wandb.ai/lucasericsson222/restricted_boltzmann_machine_sweep</a>"
      ],
      "text/plain": [
       "<IPython.core.display.HTML object>"
      ]
     },
     "metadata": {},
     "output_type": "display_data"
    },
    {
     "data": {
      "text/html": [
       " View sweep at <a href='https://wandb.ai/lucasericsson222/restricted_boltzmann_machine_sweep/sweeps/r1b5058x' target=\"_blank\">https://wandb.ai/lucasericsson222/restricted_boltzmann_machine_sweep/sweeps/r1b5058x</a>"
      ],
      "text/plain": [
       "<IPython.core.display.HTML object>"
      ]
     },
     "metadata": {},
     "output_type": "display_data"
    },
    {
     "data": {
      "text/html": [
       " View run at <a href='https://wandb.ai/lucasericsson222/restricted_boltzmann_machine_sweep/runs/yyem5ecy' target=\"_blank\">https://wandb.ai/lucasericsson222/restricted_boltzmann_machine_sweep/runs/yyem5ecy</a>"
      ],
      "text/plain": [
       "<IPython.core.display.HTML object>"
      ]
     },
     "metadata": {},
     "output_type": "display_data"
    },
    {
     "name": "stdout",
     "output_type": "stream",
     "text": [
      "(60000, 784)\n",
      "Epoch: 0\n",
      "current_weight_diff: 20.447189155470834\n",
      "sqrd_recon_error: 0.6721173469387755\n",
      "Epoch: 1\n",
      "current_weight_diff: 3.144869409327815\n",
      "sqrd_recon_error: 0.4088775510204081\n",
      "Epoch: 2\n",
      "current_weight_diff: 1.757718845682632\n",
      "sqrd_recon_error: 0.32607142857142857\n",
      "Epoch: 3\n",
      "current_weight_diff: 1.2782041834470292\n",
      "sqrd_recon_error: 0.2124234693877551\n"
     ]
    },
    {
     "data": {
      "application/vnd.jupyter.widget-view+json": {
       "model_id": "81086806ff174fbfb2ce1a993557d0cc",
       "version_major": 2,
       "version_minor": 0
      },
      "text/plain": [
       "VBox(children=(Label(value='0.004 MB of 0.004 MB uploaded\\r'), FloatProgress(value=1.0, max=1.0)))"
      ]
     },
     "metadata": {},
     "output_type": "display_data"
    },
    {
     "name": "stderr",
     "output_type": "stream",
     "text": [
      "\u001b[34m\u001b[1mwandb\u001b[0m: \u001b[32m\u001b[41mERROR\u001b[0m Problem finishing run\n",
      "Traceback (most recent call last):\n",
      "  File \"/Library/Frameworks/Python.framework/Versions/3.10/lib/python3.10/site-packages/wandb/sdk/wandb_run.py\", line 2313, in _atexit_cleanup\n",
      "    self._on_finish()\n",
      "  File \"/Library/Frameworks/Python.framework/Versions/3.10/lib/python3.10/site-packages/wandb/sdk/wandb_run.py\", line 2567, in _on_finish\n",
      "    self._footer_file_pusher_status_info(\n",
      "  File \"/Library/Frameworks/Python.framework/Versions/3.10/lib/python3.10/site-packages/wandb/sdk/wandb_run.py\", line 3749, in _footer_file_pusher_status_info\n",
      "    Run._footer_single_run_file_pusher_status_info(\n",
      "  File \"/Library/Frameworks/Python.framework/Versions/3.10/lib/python3.10/site-packages/wandb/sdk/wandb_run.py\", line 3802, in _footer_single_run_file_pusher_status_info\n",
      "    printer.progress_close()\n",
      "  File \"/Library/Frameworks/Python.framework/Versions/3.10/lib/python3.10/site-packages/wandb/sdk/lib/printer.py\", line 292, in progress_close\n",
      "    self._progress.close()\n",
      "  File \"/Library/Frameworks/Python.framework/Versions/3.10/lib/python3.10/site-packages/wandb/sdk/lib/ipython.py\", line 128, in close\n",
      "    self._widget.close()\n",
      "  File \"/Users/lucasericsson/Library/Python/3.10/lib/python/site-packages/ipywidgets/widgets/widget.py\", line 500, in close\n",
      "    self.comm.close()\n",
      "  File \"/Users/lucasericsson/Library/Python/3.10/lib/python/site-packages/comm/base_comm.py\", line 109, in close\n",
      "    comm.get_comm_manager().unregister_comm(self)\n",
      "  File \"/Users/lucasericsson/Library/Python/3.10/lib/python/site-packages/comm/base_comm.py\", line 199, in unregister_comm\n",
      "    comm = self.comms.pop(comm.comm_id)\n",
      "KeyError: '81086806ff174fbfb2ce1a993557d0cc'\n",
      "\u001b[34m\u001b[1mwandb\u001b[0m: Agent Starting Run: 8jpw05li with config:\n",
      "\u001b[34m\u001b[1mwandb\u001b[0m: \tepochs: 4\n",
      "\u001b[34m\u001b[1mwandb\u001b[0m: \thidden_units: 100\n",
      "\u001b[34m\u001b[1mwandb\u001b[0m: \tk: 3\n",
      "\u001b[34m\u001b[1mwandb\u001b[0m: \tminibatch: 50\n",
      "Failed to detect the name of this notebook, you can set it manually with the WANDB_NOTEBOOK_NAME environment variable to enable code saving.\n",
      "\u001b[34m\u001b[1mwandb\u001b[0m: \u001b[33mWARNING\u001b[0m Ignored wandb.init() arg project when running a sweep.\n"
     ]
    },
    {
     "data": {
      "text/html": [
       "Tracking run with wandb version 0.16.6"
      ],
      "text/plain": [
       "<IPython.core.display.HTML object>"
      ]
     },
     "metadata": {},
     "output_type": "display_data"
    },
    {
     "data": {
      "text/html": [
       "Run data is saved locally in <code>/Users/lucasericsson/repos/restricted-boltzmann-machine/wandb/run-20240409_004616-8jpw05li</code>"
      ],
      "text/plain": [
       "<IPython.core.display.HTML object>"
      ]
     },
     "metadata": {},
     "output_type": "display_data"
    },
    {
     "data": {
      "text/html": [
       "Syncing run <strong><a href='https://wandb.ai/lucasericsson222/restricted_boltzmann_machine_sweep/runs/8jpw05li' target=\"_blank\">distinctive-sweep-26</a></strong> to <a href='https://wandb.ai/lucasericsson222/restricted_boltzmann_machine_sweep' target=\"_blank\">Weights & Biases</a> (<a href='https://wandb.me/run' target=\"_blank\">docs</a>)<br/>Sweep page: <a href='https://wandb.ai/lucasericsson222/restricted_boltzmann_machine_sweep/sweeps/r1b5058x' target=\"_blank\">https://wandb.ai/lucasericsson222/restricted_boltzmann_machine_sweep/sweeps/r1b5058x</a>"
      ],
      "text/plain": [
       "<IPython.core.display.HTML object>"
      ]
     },
     "metadata": {},
     "output_type": "display_data"
    },
    {
     "data": {
      "text/html": [
       " View project at <a href='https://wandb.ai/lucasericsson222/restricted_boltzmann_machine_sweep' target=\"_blank\">https://wandb.ai/lucasericsson222/restricted_boltzmann_machine_sweep</a>"
      ],
      "text/plain": [
       "<IPython.core.display.HTML object>"
      ]
     },
     "metadata": {},
     "output_type": "display_data"
    },
    {
     "data": {
      "text/html": [
       " View sweep at <a href='https://wandb.ai/lucasericsson222/restricted_boltzmann_machine_sweep/sweeps/r1b5058x' target=\"_blank\">https://wandb.ai/lucasericsson222/restricted_boltzmann_machine_sweep/sweeps/r1b5058x</a>"
      ],
      "text/plain": [
       "<IPython.core.display.HTML object>"
      ]
     },
     "metadata": {},
     "output_type": "display_data"
    },
    {
     "data": {
      "text/html": [
       " View run at <a href='https://wandb.ai/lucasericsson222/restricted_boltzmann_machine_sweep/runs/8jpw05li' target=\"_blank\">https://wandb.ai/lucasericsson222/restricted_boltzmann_machine_sweep/runs/8jpw05li</a>"
      ],
      "text/plain": [
       "<IPython.core.display.HTML object>"
      ]
     },
     "metadata": {},
     "output_type": "display_data"
    },
    {
     "name": "stdout",
     "output_type": "stream",
     "text": [
      "(60000, 784)\n",
      "Epoch: 0\n",
      "current_weight_diff: 28.054533232374844\n",
      "sqrd_recon_error: 1.1199744897959183\n",
      "Epoch: 1\n",
      "current_weight_diff: 1.357038884195549\n",
      "sqrd_recon_error: 0.647704081632653\n",
      "Epoch: 2\n",
      "current_weight_diff: 3.1155409181416784\n",
      "sqrd_recon_error: 0.49301020408163265\n",
      "Epoch: 3\n",
      "current_weight_diff: 1.0019860800358635\n",
      "sqrd_recon_error: 0.36130102040816325\n"
     ]
    },
    {
     "data": {
      "application/vnd.jupyter.widget-view+json": {
       "model_id": "8566dd4421bd420c9f62baa21e90e9b0",
       "version_major": 2,
       "version_minor": 0
      },
      "text/plain": [
       "VBox(children=(Label(value='0.001 MB of 0.001 MB uploaded\\r'), FloatProgress(value=1.0, max=1.0)))"
      ]
     },
     "metadata": {},
     "output_type": "display_data"
    },
    {
     "name": "stderr",
     "output_type": "stream",
     "text": [
      "\u001b[34m\u001b[1mwandb\u001b[0m: \u001b[32m\u001b[41mERROR\u001b[0m Problem finishing run\n",
      "Traceback (most recent call last):\n",
      "  File \"/Library/Frameworks/Python.framework/Versions/3.10/lib/python3.10/site-packages/wandb/sdk/wandb_run.py\", line 2313, in _atexit_cleanup\n",
      "    self._on_finish()\n",
      "  File \"/Library/Frameworks/Python.framework/Versions/3.10/lib/python3.10/site-packages/wandb/sdk/wandb_run.py\", line 2567, in _on_finish\n",
      "    self._footer_file_pusher_status_info(\n",
      "  File \"/Library/Frameworks/Python.framework/Versions/3.10/lib/python3.10/site-packages/wandb/sdk/wandb_run.py\", line 3749, in _footer_file_pusher_status_info\n",
      "    Run._footer_single_run_file_pusher_status_info(\n",
      "  File \"/Library/Frameworks/Python.framework/Versions/3.10/lib/python3.10/site-packages/wandb/sdk/wandb_run.py\", line 3802, in _footer_single_run_file_pusher_status_info\n",
      "    printer.progress_close()\n",
      "  File \"/Library/Frameworks/Python.framework/Versions/3.10/lib/python3.10/site-packages/wandb/sdk/lib/printer.py\", line 292, in progress_close\n",
      "    self._progress.close()\n",
      "  File \"/Library/Frameworks/Python.framework/Versions/3.10/lib/python3.10/site-packages/wandb/sdk/lib/ipython.py\", line 128, in close\n",
      "    self._widget.close()\n",
      "  File \"/Users/lucasericsson/Library/Python/3.10/lib/python/site-packages/ipywidgets/widgets/widget.py\", line 500, in close\n",
      "    self.comm.close()\n",
      "  File \"/Users/lucasericsson/Library/Python/3.10/lib/python/site-packages/comm/base_comm.py\", line 109, in close\n",
      "    comm.get_comm_manager().unregister_comm(self)\n",
      "  File \"/Users/lucasericsson/Library/Python/3.10/lib/python/site-packages/comm/base_comm.py\", line 199, in unregister_comm\n",
      "    comm = self.comms.pop(comm.comm_id)\n",
      "KeyError: '8566dd4421bd420c9f62baa21e90e9b0'\n",
      "\u001b[34m\u001b[1mwandb\u001b[0m: Sweep Agent: Waiting for job.\n",
      "\u001b[34m\u001b[1mwandb\u001b[0m: Job received.\n",
      "\u001b[34m\u001b[1mwandb\u001b[0m: Agent Starting Run: vp5gpc6y with config:\n",
      "\u001b[34m\u001b[1mwandb\u001b[0m: \tepochs: 1\n",
      "\u001b[34m\u001b[1mwandb\u001b[0m: \thidden_units: 300\n",
      "\u001b[34m\u001b[1mwandb\u001b[0m: \tk: 10\n",
      "\u001b[34m\u001b[1mwandb\u001b[0m: \tminibatch: 200\n",
      "Failed to detect the name of this notebook, you can set it manually with the WANDB_NOTEBOOK_NAME environment variable to enable code saving.\n",
      "\u001b[34m\u001b[1mwandb\u001b[0m: \u001b[33mWARNING\u001b[0m Ignored wandb.init() arg project when running a sweep.\n"
     ]
    },
    {
     "data": {
      "text/html": [
       "Tracking run with wandb version 0.16.6"
      ],
      "text/plain": [
       "<IPython.core.display.HTML object>"
      ]
     },
     "metadata": {},
     "output_type": "display_data"
    },
    {
     "data": {
      "text/html": [
       "Run data is saved locally in <code>/Users/lucasericsson/repos/restricted-boltzmann-machine/wandb/run-20240409_004637-vp5gpc6y</code>"
      ],
      "text/plain": [
       "<IPython.core.display.HTML object>"
      ]
     },
     "metadata": {},
     "output_type": "display_data"
    },
    {
     "data": {
      "text/html": [
       "Syncing run <strong><a href='https://wandb.ai/lucasericsson222/restricted_boltzmann_machine_sweep/runs/vp5gpc6y' target=\"_blank\">prime-sweep-27</a></strong> to <a href='https://wandb.ai/lucasericsson222/restricted_boltzmann_machine_sweep' target=\"_blank\">Weights & Biases</a> (<a href='https://wandb.me/run' target=\"_blank\">docs</a>)<br/>Sweep page: <a href='https://wandb.ai/lucasericsson222/restricted_boltzmann_machine_sweep/sweeps/r1b5058x' target=\"_blank\">https://wandb.ai/lucasericsson222/restricted_boltzmann_machine_sweep/sweeps/r1b5058x</a>"
      ],
      "text/plain": [
       "<IPython.core.display.HTML object>"
      ]
     },
     "metadata": {},
     "output_type": "display_data"
    },
    {
     "data": {
      "text/html": [
       " View project at <a href='https://wandb.ai/lucasericsson222/restricted_boltzmann_machine_sweep' target=\"_blank\">https://wandb.ai/lucasericsson222/restricted_boltzmann_machine_sweep</a>"
      ],
      "text/plain": [
       "<IPython.core.display.HTML object>"
      ]
     },
     "metadata": {},
     "output_type": "display_data"
    },
    {
     "data": {
      "text/html": [
       " View sweep at <a href='https://wandb.ai/lucasericsson222/restricted_boltzmann_machine_sweep/sweeps/r1b5058x' target=\"_blank\">https://wandb.ai/lucasericsson222/restricted_boltzmann_machine_sweep/sweeps/r1b5058x</a>"
      ],
      "text/plain": [
       "<IPython.core.display.HTML object>"
      ]
     },
     "metadata": {},
     "output_type": "display_data"
    },
    {
     "data": {
      "text/html": [
       " View run at <a href='https://wandb.ai/lucasericsson222/restricted_boltzmann_machine_sweep/runs/vp5gpc6y' target=\"_blank\">https://wandb.ai/lucasericsson222/restricted_boltzmann_machine_sweep/runs/vp5gpc6y</a>"
      ],
      "text/plain": [
       "<IPython.core.display.HTML object>"
      ]
     },
     "metadata": {},
     "output_type": "display_data"
    },
    {
     "name": "stdout",
     "output_type": "stream",
     "text": [
      "(60000, 784)\n",
      "Epoch: 0\n",
      "current_weight_diff: 17.442806265780998\n",
      "sqrd_recon_error: 1.6242984693877551\n"
     ]
    },
    {
     "data": {
      "application/vnd.jupyter.widget-view+json": {
       "model_id": "bdc91f1fc0ce4dc1a5f417a02841b56c",
       "version_major": 2,
       "version_minor": 0
      },
      "text/plain": [
       "VBox(children=(Label(value='0.001 MB of 0.001 MB uploaded\\r'), FloatProgress(value=1.0, max=1.0)))"
      ]
     },
     "metadata": {},
     "output_type": "display_data"
    },
    {
     "name": "stderr",
     "output_type": "stream",
     "text": [
      "\u001b[34m\u001b[1mwandb\u001b[0m: \u001b[32m\u001b[41mERROR\u001b[0m Problem finishing run\n",
      "Traceback (most recent call last):\n",
      "  File \"/Library/Frameworks/Python.framework/Versions/3.10/lib/python3.10/site-packages/wandb/sdk/wandb_run.py\", line 2313, in _atexit_cleanup\n",
      "    self._on_finish()\n",
      "  File \"/Library/Frameworks/Python.framework/Versions/3.10/lib/python3.10/site-packages/wandb/sdk/wandb_run.py\", line 2567, in _on_finish\n",
      "    self._footer_file_pusher_status_info(\n",
      "  File \"/Library/Frameworks/Python.framework/Versions/3.10/lib/python3.10/site-packages/wandb/sdk/wandb_run.py\", line 3749, in _footer_file_pusher_status_info\n",
      "    Run._footer_single_run_file_pusher_status_info(\n",
      "  File \"/Library/Frameworks/Python.framework/Versions/3.10/lib/python3.10/site-packages/wandb/sdk/wandb_run.py\", line 3802, in _footer_single_run_file_pusher_status_info\n",
      "    printer.progress_close()\n",
      "  File \"/Library/Frameworks/Python.framework/Versions/3.10/lib/python3.10/site-packages/wandb/sdk/lib/printer.py\", line 292, in progress_close\n",
      "    self._progress.close()\n",
      "  File \"/Library/Frameworks/Python.framework/Versions/3.10/lib/python3.10/site-packages/wandb/sdk/lib/ipython.py\", line 128, in close\n",
      "    self._widget.close()\n",
      "  File \"/Users/lucasericsson/Library/Python/3.10/lib/python/site-packages/ipywidgets/widgets/widget.py\", line 500, in close\n",
      "    self.comm.close()\n",
      "  File \"/Users/lucasericsson/Library/Python/3.10/lib/python/site-packages/comm/base_comm.py\", line 109, in close\n",
      "    comm.get_comm_manager().unregister_comm(self)\n",
      "  File \"/Users/lucasericsson/Library/Python/3.10/lib/python/site-packages/comm/base_comm.py\", line 199, in unregister_comm\n",
      "    comm = self.comms.pop(comm.comm_id)\n",
      "KeyError: 'bdc91f1fc0ce4dc1a5f417a02841b56c'\n",
      "\u001b[34m\u001b[1mwandb\u001b[0m: Agent Starting Run: 1nra6rat with config:\n",
      "\u001b[34m\u001b[1mwandb\u001b[0m: \tepochs: 3\n",
      "\u001b[34m\u001b[1mwandb\u001b[0m: \thidden_units: 100\n",
      "\u001b[34m\u001b[1mwandb\u001b[0m: \tk: 10\n",
      "\u001b[34m\u001b[1mwandb\u001b[0m: \tminibatch: 100\n",
      "Failed to detect the name of this notebook, you can set it manually with the WANDB_NOTEBOOK_NAME environment variable to enable code saving.\n",
      "\u001b[34m\u001b[1mwandb\u001b[0m: \u001b[33mWARNING\u001b[0m Ignored wandb.init() arg project when running a sweep.\n"
     ]
    },
    {
     "data": {
      "text/html": [
       "Tracking run with wandb version 0.16.6"
      ],
      "text/plain": [
       "<IPython.core.display.HTML object>"
      ]
     },
     "metadata": {},
     "output_type": "display_data"
    },
    {
     "data": {
      "text/html": [
       "Run data is saved locally in <code>/Users/lucasericsson/repos/restricted-boltzmann-machine/wandb/run-20240409_004703-1nra6rat</code>"
      ],
      "text/plain": [
       "<IPython.core.display.HTML object>"
      ]
     },
     "metadata": {},
     "output_type": "display_data"
    },
    {
     "data": {
      "text/html": [
       "Syncing run <strong><a href='https://wandb.ai/lucasericsson222/restricted_boltzmann_machine_sweep/runs/1nra6rat' target=\"_blank\">wandering-sweep-28</a></strong> to <a href='https://wandb.ai/lucasericsson222/restricted_boltzmann_machine_sweep' target=\"_blank\">Weights & Biases</a> (<a href='https://wandb.me/run' target=\"_blank\">docs</a>)<br/>Sweep page: <a href='https://wandb.ai/lucasericsson222/restricted_boltzmann_machine_sweep/sweeps/r1b5058x' target=\"_blank\">https://wandb.ai/lucasericsson222/restricted_boltzmann_machine_sweep/sweeps/r1b5058x</a>"
      ],
      "text/plain": [
       "<IPython.core.display.HTML object>"
      ]
     },
     "metadata": {},
     "output_type": "display_data"
    },
    {
     "data": {
      "text/html": [
       " View project at <a href='https://wandb.ai/lucasericsson222/restricted_boltzmann_machine_sweep' target=\"_blank\">https://wandb.ai/lucasericsson222/restricted_boltzmann_machine_sweep</a>"
      ],
      "text/plain": [
       "<IPython.core.display.HTML object>"
      ]
     },
     "metadata": {},
     "output_type": "display_data"
    },
    {
     "data": {
      "text/html": [
       " View sweep at <a href='https://wandb.ai/lucasericsson222/restricted_boltzmann_machine_sweep/sweeps/r1b5058x' target=\"_blank\">https://wandb.ai/lucasericsson222/restricted_boltzmann_machine_sweep/sweeps/r1b5058x</a>"
      ],
      "text/plain": [
       "<IPython.core.display.HTML object>"
      ]
     },
     "metadata": {},
     "output_type": "display_data"
    },
    {
     "data": {
      "text/html": [
       " View run at <a href='https://wandb.ai/lucasericsson222/restricted_boltzmann_machine_sweep/runs/1nra6rat' target=\"_blank\">https://wandb.ai/lucasericsson222/restricted_boltzmann_machine_sweep/runs/1nra6rat</a>"
      ],
      "text/plain": [
       "<IPython.core.display.HTML object>"
      ]
     },
     "metadata": {},
     "output_type": "display_data"
    },
    {
     "name": "stdout",
     "output_type": "stream",
     "text": [
      "(60000, 784)\n",
      "Epoch: 0\n",
      "current_weight_diff: 25.17517632585791\n",
      "sqrd_recon_error: 6.646964285714286\n",
      "Epoch: 1\n",
      "current_weight_diff: 1.1001571009348683\n",
      "sqrd_recon_error: 1.6661479591836734\n",
      "Epoch: 2\n",
      "current_weight_diff: 1.6689104185468868\n",
      "sqrd_recon_error: 0.9723086734693878\n"
     ]
    },
    {
     "data": {
      "application/vnd.jupyter.widget-view+json": {
       "model_id": "d9ffa2cb56d5492ca488780b2ac06093",
       "version_major": 2,
       "version_minor": 0
      },
      "text/plain": [
       "VBox(children=(Label(value='0.001 MB of 0.004 MB uploaded\\r'), FloatProgress(value=0.23798358733880423, max=1.…"
      ]
     },
     "metadata": {},
     "output_type": "display_data"
    },
    {
     "name": "stderr",
     "output_type": "stream",
     "text": [
      "\u001b[34m\u001b[1mwandb\u001b[0m: \u001b[32m\u001b[41mERROR\u001b[0m Problem finishing run\n",
      "Traceback (most recent call last):\n",
      "  File \"/Library/Frameworks/Python.framework/Versions/3.10/lib/python3.10/site-packages/wandb/sdk/wandb_run.py\", line 2313, in _atexit_cleanup\n",
      "    self._on_finish()\n",
      "  File \"/Library/Frameworks/Python.framework/Versions/3.10/lib/python3.10/site-packages/wandb/sdk/wandb_run.py\", line 2567, in _on_finish\n",
      "    self._footer_file_pusher_status_info(\n",
      "  File \"/Library/Frameworks/Python.framework/Versions/3.10/lib/python3.10/site-packages/wandb/sdk/wandb_run.py\", line 3749, in _footer_file_pusher_status_info\n",
      "    Run._footer_single_run_file_pusher_status_info(\n",
      "  File \"/Library/Frameworks/Python.framework/Versions/3.10/lib/python3.10/site-packages/wandb/sdk/wandb_run.py\", line 3802, in _footer_single_run_file_pusher_status_info\n",
      "    printer.progress_close()\n",
      "  File \"/Library/Frameworks/Python.framework/Versions/3.10/lib/python3.10/site-packages/wandb/sdk/lib/printer.py\", line 292, in progress_close\n",
      "    self._progress.close()\n",
      "  File \"/Library/Frameworks/Python.framework/Versions/3.10/lib/python3.10/site-packages/wandb/sdk/lib/ipython.py\", line 128, in close\n",
      "    self._widget.close()\n",
      "  File \"/Users/lucasericsson/Library/Python/3.10/lib/python/site-packages/ipywidgets/widgets/widget.py\", line 500, in close\n",
      "    self.comm.close()\n",
      "  File \"/Users/lucasericsson/Library/Python/3.10/lib/python/site-packages/comm/base_comm.py\", line 109, in close\n",
      "    comm.get_comm_manager().unregister_comm(self)\n",
      "  File \"/Users/lucasericsson/Library/Python/3.10/lib/python/site-packages/comm/base_comm.py\", line 199, in unregister_comm\n",
      "    comm = self.comms.pop(comm.comm_id)\n",
      "KeyError: 'd9ffa2cb56d5492ca488780b2ac06093'\n",
      "\u001b[34m\u001b[1mwandb\u001b[0m: Agent Starting Run: frs25vdz with config:\n",
      "\u001b[34m\u001b[1mwandb\u001b[0m: \tepochs: 5\n",
      "\u001b[34m\u001b[1mwandb\u001b[0m: \thidden_units: 1000\n",
      "\u001b[34m\u001b[1mwandb\u001b[0m: \tk: 2\n",
      "\u001b[34m\u001b[1mwandb\u001b[0m: \tminibatch: 150\n",
      "Failed to detect the name of this notebook, you can set it manually with the WANDB_NOTEBOOK_NAME environment variable to enable code saving.\n",
      "\u001b[34m\u001b[1mwandb\u001b[0m: \u001b[33mWARNING\u001b[0m Ignored wandb.init() arg project when running a sweep.\n"
     ]
    },
    {
     "data": {
      "text/html": [
       "Tracking run with wandb version 0.16.6"
      ],
      "text/plain": [
       "<IPython.core.display.HTML object>"
      ]
     },
     "metadata": {},
     "output_type": "display_data"
    },
    {
     "data": {
      "text/html": [
       "Run data is saved locally in <code>/Users/lucasericsson/repos/restricted-boltzmann-machine/wandb/run-20240409_004727-frs25vdz</code>"
      ],
      "text/plain": [
       "<IPython.core.display.HTML object>"
      ]
     },
     "metadata": {},
     "output_type": "display_data"
    },
    {
     "data": {
      "text/html": [
       "Syncing run <strong><a href='https://wandb.ai/lucasericsson222/restricted_boltzmann_machine_sweep/runs/frs25vdz' target=\"_blank\">hopeful-sweep-29</a></strong> to <a href='https://wandb.ai/lucasericsson222/restricted_boltzmann_machine_sweep' target=\"_blank\">Weights & Biases</a> (<a href='https://wandb.me/run' target=\"_blank\">docs</a>)<br/>Sweep page: <a href='https://wandb.ai/lucasericsson222/restricted_boltzmann_machine_sweep/sweeps/r1b5058x' target=\"_blank\">https://wandb.ai/lucasericsson222/restricted_boltzmann_machine_sweep/sweeps/r1b5058x</a>"
      ],
      "text/plain": [
       "<IPython.core.display.HTML object>"
      ]
     },
     "metadata": {},
     "output_type": "display_data"
    },
    {
     "data": {
      "text/html": [
       " View project at <a href='https://wandb.ai/lucasericsson222/restricted_boltzmann_machine_sweep' target=\"_blank\">https://wandb.ai/lucasericsson222/restricted_boltzmann_machine_sweep</a>"
      ],
      "text/plain": [
       "<IPython.core.display.HTML object>"
      ]
     },
     "metadata": {},
     "output_type": "display_data"
    },
    {
     "data": {
      "text/html": [
       " View sweep at <a href='https://wandb.ai/lucasericsson222/restricted_boltzmann_machine_sweep/sweeps/r1b5058x' target=\"_blank\">https://wandb.ai/lucasericsson222/restricted_boltzmann_machine_sweep/sweeps/r1b5058x</a>"
      ],
      "text/plain": [
       "<IPython.core.display.HTML object>"
      ]
     },
     "metadata": {},
     "output_type": "display_data"
    },
    {
     "data": {
      "text/html": [
       " View run at <a href='https://wandb.ai/lucasericsson222/restricted_boltzmann_machine_sweep/runs/frs25vdz' target=\"_blank\">https://wandb.ai/lucasericsson222/restricted_boltzmann_machine_sweep/runs/frs25vdz</a>"
      ],
      "text/plain": [
       "<IPython.core.display.HTML object>"
      ]
     },
     "metadata": {},
     "output_type": "display_data"
    },
    {
     "name": "stdout",
     "output_type": "stream",
     "text": [
      "(60000, 784)\n",
      "Epoch: 0\n",
      "current_weight_diff: 8.93136987250332\n",
      "sqrd_recon_error: 0.42823979591836736\n",
      "Epoch: 1\n",
      "current_weight_diff: 2.05292122194476\n",
      "sqrd_recon_error: 0.4890986394557823\n",
      "Epoch: 2\n",
      "current_weight_diff: 1.6325015780276886\n",
      "sqrd_recon_error: 0.42797619047619045\n",
      "Epoch: 3\n",
      "current_weight_diff: 2.885753721798787\n",
      "sqrd_recon_error: 0.24067176870748297\n",
      "Epoch: 4\n",
      "current_weight_diff: 0.8466625724346215\n",
      "sqrd_recon_error: 0.21045068027210884\n"
     ]
    },
    {
     "data": {
      "application/vnd.jupyter.widget-view+json": {
       "model_id": "8ca5f19c618646f28cc9f2793e32205d",
       "version_major": 2,
       "version_minor": 0
      },
      "text/plain": [
       "VBox(children=(Label(value='0.001 MB of 0.001 MB uploaded\\r'), FloatProgress(value=1.0, max=1.0)))"
      ]
     },
     "metadata": {},
     "output_type": "display_data"
    },
    {
     "name": "stderr",
     "output_type": "stream",
     "text": [
      "\u001b[34m\u001b[1mwandb\u001b[0m: \u001b[32m\u001b[41mERROR\u001b[0m Problem finishing run\n",
      "Traceback (most recent call last):\n",
      "  File \"/Library/Frameworks/Python.framework/Versions/3.10/lib/python3.10/site-packages/wandb/sdk/wandb_run.py\", line 2313, in _atexit_cleanup\n",
      "    self._on_finish()\n",
      "  File \"/Library/Frameworks/Python.framework/Versions/3.10/lib/python3.10/site-packages/wandb/sdk/wandb_run.py\", line 2567, in _on_finish\n",
      "    self._footer_file_pusher_status_info(\n",
      "  File \"/Library/Frameworks/Python.framework/Versions/3.10/lib/python3.10/site-packages/wandb/sdk/wandb_run.py\", line 3749, in _footer_file_pusher_status_info\n",
      "    Run._footer_single_run_file_pusher_status_info(\n",
      "  File \"/Library/Frameworks/Python.framework/Versions/3.10/lib/python3.10/site-packages/wandb/sdk/wandb_run.py\", line 3802, in _footer_single_run_file_pusher_status_info\n",
      "    printer.progress_close()\n",
      "  File \"/Library/Frameworks/Python.framework/Versions/3.10/lib/python3.10/site-packages/wandb/sdk/lib/printer.py\", line 292, in progress_close\n",
      "    self._progress.close()\n",
      "  File \"/Library/Frameworks/Python.framework/Versions/3.10/lib/python3.10/site-packages/wandb/sdk/lib/ipython.py\", line 128, in close\n",
      "    self._widget.close()\n",
      "  File \"/Users/lucasericsson/Library/Python/3.10/lib/python/site-packages/ipywidgets/widgets/widget.py\", line 500, in close\n",
      "    self.comm.close()\n",
      "  File \"/Users/lucasericsson/Library/Python/3.10/lib/python/site-packages/comm/base_comm.py\", line 109, in close\n",
      "    comm.get_comm_manager().unregister_comm(self)\n",
      "  File \"/Users/lucasericsson/Library/Python/3.10/lib/python/site-packages/comm/base_comm.py\", line 199, in unregister_comm\n",
      "    comm = self.comms.pop(comm.comm_id)\n",
      "KeyError: '8ca5f19c618646f28cc9f2793e32205d'\n",
      "\u001b[34m\u001b[1mwandb\u001b[0m: Agent Starting Run: dxy9e9dx with config:\n",
      "\u001b[34m\u001b[1mwandb\u001b[0m: \tepochs: 30\n",
      "\u001b[34m\u001b[1mwandb\u001b[0m: \thidden_units: 300\n",
      "\u001b[34m\u001b[1mwandb\u001b[0m: \tk: 5\n",
      "\u001b[34m\u001b[1mwandb\u001b[0m: \tminibatch: 150\n",
      "Failed to detect the name of this notebook, you can set it manually with the WANDB_NOTEBOOK_NAME environment variable to enable code saving.\n",
      "\u001b[34m\u001b[1mwandb\u001b[0m: \u001b[33mWARNING\u001b[0m Ignored wandb.init() arg project when running a sweep.\n"
     ]
    },
    {
     "data": {
      "text/html": [
       "Tracking run with wandb version 0.16.6"
      ],
      "text/plain": [
       "<IPython.core.display.HTML object>"
      ]
     },
     "metadata": {},
     "output_type": "display_data"
    },
    {
     "data": {
      "text/html": [
       "Run data is saved locally in <code>/Users/lucasericsson/repos/restricted-boltzmann-machine/wandb/run-20240409_004930-dxy9e9dx</code>"
      ],
      "text/plain": [
       "<IPython.core.display.HTML object>"
      ]
     },
     "metadata": {},
     "output_type": "display_data"
    },
    {
     "data": {
      "text/html": [
       "Syncing run <strong><a href='https://wandb.ai/lucasericsson222/restricted_boltzmann_machine_sweep/runs/dxy9e9dx' target=\"_blank\">breezy-sweep-30</a></strong> to <a href='https://wandb.ai/lucasericsson222/restricted_boltzmann_machine_sweep' target=\"_blank\">Weights & Biases</a> (<a href='https://wandb.me/run' target=\"_blank\">docs</a>)<br/>Sweep page: <a href='https://wandb.ai/lucasericsson222/restricted_boltzmann_machine_sweep/sweeps/r1b5058x' target=\"_blank\">https://wandb.ai/lucasericsson222/restricted_boltzmann_machine_sweep/sweeps/r1b5058x</a>"
      ],
      "text/plain": [
       "<IPython.core.display.HTML object>"
      ]
     },
     "metadata": {},
     "output_type": "display_data"
    },
    {
     "data": {
      "text/html": [
       " View project at <a href='https://wandb.ai/lucasericsson222/restricted_boltzmann_machine_sweep' target=\"_blank\">https://wandb.ai/lucasericsson222/restricted_boltzmann_machine_sweep</a>"
      ],
      "text/plain": [
       "<IPython.core.display.HTML object>"
      ]
     },
     "metadata": {},
     "output_type": "display_data"
    },
    {
     "data": {
      "text/html": [
       " View sweep at <a href='https://wandb.ai/lucasericsson222/restricted_boltzmann_machine_sweep/sweeps/r1b5058x' target=\"_blank\">https://wandb.ai/lucasericsson222/restricted_boltzmann_machine_sweep/sweeps/r1b5058x</a>"
      ],
      "text/plain": [
       "<IPython.core.display.HTML object>"
      ]
     },
     "metadata": {},
     "output_type": "display_data"
    },
    {
     "data": {
      "text/html": [
       " View run at <a href='https://wandb.ai/lucasericsson222/restricted_boltzmann_machine_sweep/runs/dxy9e9dx' target=\"_blank\">https://wandb.ai/lucasericsson222/restricted_boltzmann_machine_sweep/runs/dxy9e9dx</a>"
      ],
      "text/plain": [
       "<IPython.core.display.HTML object>"
      ]
     },
     "metadata": {},
     "output_type": "display_data"
    },
    {
     "name": "stdout",
     "output_type": "stream",
     "text": [
      "(60000, 784)\n",
      "Epoch: 0\n",
      "current_weight_diff: 16.200864318318274\n",
      "sqrd_recon_error: 0.8966411564625849\n",
      "Epoch: 1\n",
      "current_weight_diff: 1.9717336175997002\n",
      "sqrd_recon_error: 0.3753571428571429\n",
      "Epoch: 2\n",
      "current_weight_diff: 1.7342759681295428\n",
      "sqrd_recon_error: 0.33909863945578234\n",
      "Epoch: 3\n",
      "current_weight_diff: 1.1844221898962206\n",
      "sqrd_recon_error: 0.31286564625850344\n",
      "Epoch: 4\n",
      "current_weight_diff: 0.7154358631931939\n",
      "sqrd_recon_error: 0.2959438775510204\n",
      "Epoch: 5\n",
      "current_weight_diff: 8.231883105102801\n",
      "sqrd_recon_error: 0.20463435374149658\n",
      "Epoch: 6\n",
      "current_weight_diff: 0.7510271832718791\n",
      "sqrd_recon_error: 0.18964285714285714\n",
      "Epoch: 7\n",
      "current_weight_diff: 0.3913222332605474\n",
      "sqrd_recon_error: 0.1928061224489796\n",
      "Epoch: 8\n",
      "current_weight_diff: 0.5627526844516613\n",
      "sqrd_recon_error: 0.18852040816326532\n",
      "Epoch: 9\n",
      "current_weight_diff: 0.3435487679930096\n",
      "sqrd_recon_error: 0.17437074829931973\n",
      "Epoch: 10\n",
      "current_weight_diff: 0.42491549231548537\n",
      "sqrd_recon_error: 0.15615646258503402\n",
      "Epoch: 11\n",
      "current_weight_diff: 0.5429007036205794\n",
      "sqrd_recon_error: 0.1759438775510204\n",
      "Epoch: 12\n",
      "current_weight_diff: 0.32984241968368566\n",
      "sqrd_recon_error: 0.1850595238095238\n",
      "Epoch: 13\n",
      "current_weight_diff: 1.1052293310381989\n",
      "sqrd_recon_error: 0.15506802721088436\n",
      "Epoch: 14\n",
      "current_weight_diff: 0.2640776009835182\n",
      "sqrd_recon_error: 0.15774659863945578\n",
      "Epoch: 15\n",
      "current_weight_diff: 0.19475970028292217\n",
      "sqrd_recon_error: 0.13904761904761906\n",
      "Epoch: 16\n",
      "current_weight_diff: 0.1815061309617637\n",
      "sqrd_recon_error: 0.14406462585034013\n",
      "Epoch: 17\n",
      "current_weight_diff: 0.1907915163783198\n",
      "sqrd_recon_error: 0.14527210884353742\n",
      "Epoch: 18\n",
      "current_weight_diff: 0.18721727262213433\n",
      "sqrd_recon_error: 0.16079931972789116\n",
      "Epoch: 19\n",
      "current_weight_diff: 0.2037540932795869\n",
      "sqrd_recon_error: 0.1719047619047619\n",
      "Epoch: 20\n",
      "current_weight_diff: 0.16759535217555813\n",
      "sqrd_recon_error: 0.13614795918367348\n",
      "Epoch: 21\n",
      "current_weight_diff: 0.15998273176274594\n",
      "sqrd_recon_error: 0.15274659863945578\n",
      "Epoch: 22\n",
      "current_weight_diff: 0.3757549614152063\n",
      "sqrd_recon_error: 0.12812074829931974\n",
      "Epoch: 23\n",
      "current_weight_diff: 0.15279255934207425\n",
      "sqrd_recon_error: 0.1290561224489796\n",
      "Epoch: 24\n",
      "current_weight_diff: 0.13331615760247675\n",
      "sqrd_recon_error: 0.13585884353741495\n",
      "Epoch: 25\n",
      "current_weight_diff: 0.18079899839525135\n",
      "sqrd_recon_error: 0.13829931972789117\n",
      "Epoch: 26\n",
      "current_weight_diff: 0.12900905380493816\n",
      "sqrd_recon_error: 0.14993197278911563\n",
      "Epoch: 27\n",
      "current_weight_diff: 0.1309065495934361\n",
      "sqrd_recon_error: 0.11556972789115645\n",
      "Epoch: 28\n",
      "current_weight_diff: 0.1193872276135417\n",
      "sqrd_recon_error: 0.13556972789115646\n",
      "Epoch: 29\n",
      "current_weight_diff: 0.13259783416669374\n",
      "sqrd_recon_error: 0.11626700680272109\n"
     ]
    },
    {
     "data": {
      "application/vnd.jupyter.widget-view+json": {
       "model_id": "a5f6507f2dea4ea48a270a701e8b5506",
       "version_major": 2,
       "version_minor": 0
      },
      "text/plain": [
       "VBox(children=(Label(value='0.001 MB of 0.006 MB uploaded\\r'), FloatProgress(value=0.15286144578313254, max=1.…"
      ]
     },
     "metadata": {},
     "output_type": "display_data"
    },
    {
     "name": "stderr",
     "output_type": "stream",
     "text": [
      "\u001b[34m\u001b[1mwandb\u001b[0m: \u001b[32m\u001b[41mERROR\u001b[0m Problem finishing run\n",
      "Traceback (most recent call last):\n",
      "  File \"/Library/Frameworks/Python.framework/Versions/3.10/lib/python3.10/site-packages/wandb/sdk/wandb_run.py\", line 2313, in _atexit_cleanup\n",
      "    self._on_finish()\n",
      "  File \"/Library/Frameworks/Python.framework/Versions/3.10/lib/python3.10/site-packages/wandb/sdk/wandb_run.py\", line 2567, in _on_finish\n",
      "    self._footer_file_pusher_status_info(\n",
      "  File \"/Library/Frameworks/Python.framework/Versions/3.10/lib/python3.10/site-packages/wandb/sdk/wandb_run.py\", line 3749, in _footer_file_pusher_status_info\n",
      "    Run._footer_single_run_file_pusher_status_info(\n",
      "  File \"/Library/Frameworks/Python.framework/Versions/3.10/lib/python3.10/site-packages/wandb/sdk/wandb_run.py\", line 3802, in _footer_single_run_file_pusher_status_info\n",
      "    printer.progress_close()\n",
      "  File \"/Library/Frameworks/Python.framework/Versions/3.10/lib/python3.10/site-packages/wandb/sdk/lib/printer.py\", line 292, in progress_close\n",
      "    self._progress.close()\n",
      "  File \"/Library/Frameworks/Python.framework/Versions/3.10/lib/python3.10/site-packages/wandb/sdk/lib/ipython.py\", line 128, in close\n",
      "    self._widget.close()\n",
      "  File \"/Users/lucasericsson/Library/Python/3.10/lib/python/site-packages/ipywidgets/widgets/widget.py\", line 500, in close\n",
      "    self.comm.close()\n",
      "  File \"/Users/lucasericsson/Library/Python/3.10/lib/python/site-packages/comm/base_comm.py\", line 109, in close\n",
      "    comm.get_comm_manager().unregister_comm(self)\n",
      "  File \"/Users/lucasericsson/Library/Python/3.10/lib/python/site-packages/comm/base_comm.py\", line 199, in unregister_comm\n",
      "    comm = self.comms.pop(comm.comm_id)\n",
      "KeyError: 'a5f6507f2dea4ea48a270a701e8b5506'\n",
      "\u001b[34m\u001b[1mwandb\u001b[0m: Agent Starting Run: uz1foafx with config:\n",
      "\u001b[34m\u001b[1mwandb\u001b[0m: \tepochs: 30\n",
      "\u001b[34m\u001b[1mwandb\u001b[0m: \thidden_units: 20\n",
      "\u001b[34m\u001b[1mwandb\u001b[0m: \tk: 2\n",
      "\u001b[34m\u001b[1mwandb\u001b[0m: \tminibatch: 50\n",
      "Failed to detect the name of this notebook, you can set it manually with the WANDB_NOTEBOOK_NAME environment variable to enable code saving.\n",
      "\u001b[34m\u001b[1mwandb\u001b[0m: \u001b[33mWARNING\u001b[0m Ignored wandb.init() arg project when running a sweep.\n"
     ]
    },
    {
     "data": {
      "text/html": [
       "Tracking run with wandb version 0.16.6"
      ],
      "text/plain": [
       "<IPython.core.display.HTML object>"
      ]
     },
     "metadata": {},
     "output_type": "display_data"
    },
    {
     "data": {
      "text/html": [
       "Run data is saved locally in <code>/Users/lucasericsson/repos/restricted-boltzmann-machine/wandb/run-20240409_010335-uz1foafx</code>"
      ],
      "text/plain": [
       "<IPython.core.display.HTML object>"
      ]
     },
     "metadata": {},
     "output_type": "display_data"
    },
    {
     "data": {
      "text/html": [
       "Syncing run <strong><a href='https://wandb.ai/lucasericsson222/restricted_boltzmann_machine_sweep/runs/uz1foafx' target=\"_blank\">still-sweep-31</a></strong> to <a href='https://wandb.ai/lucasericsson222/restricted_boltzmann_machine_sweep' target=\"_blank\">Weights & Biases</a> (<a href='https://wandb.me/run' target=\"_blank\">docs</a>)<br/>Sweep page: <a href='https://wandb.ai/lucasericsson222/restricted_boltzmann_machine_sweep/sweeps/r1b5058x' target=\"_blank\">https://wandb.ai/lucasericsson222/restricted_boltzmann_machine_sweep/sweeps/r1b5058x</a>"
      ],
      "text/plain": [
       "<IPython.core.display.HTML object>"
      ]
     },
     "metadata": {},
     "output_type": "display_data"
    },
    {
     "data": {
      "text/html": [
       " View project at <a href='https://wandb.ai/lucasericsson222/restricted_boltzmann_machine_sweep' target=\"_blank\">https://wandb.ai/lucasericsson222/restricted_boltzmann_machine_sweep</a>"
      ],
      "text/plain": [
       "<IPython.core.display.HTML object>"
      ]
     },
     "metadata": {},
     "output_type": "display_data"
    },
    {
     "data": {
      "text/html": [
       " View sweep at <a href='https://wandb.ai/lucasericsson222/restricted_boltzmann_machine_sweep/sweeps/r1b5058x' target=\"_blank\">https://wandb.ai/lucasericsson222/restricted_boltzmann_machine_sweep/sweeps/r1b5058x</a>"
      ],
      "text/plain": [
       "<IPython.core.display.HTML object>"
      ]
     },
     "metadata": {},
     "output_type": "display_data"
    },
    {
     "data": {
      "text/html": [
       " View run at <a href='https://wandb.ai/lucasericsson222/restricted_boltzmann_machine_sweep/runs/uz1foafx' target=\"_blank\">https://wandb.ai/lucasericsson222/restricted_boltzmann_machine_sweep/runs/uz1foafx</a>"
      ],
      "text/plain": [
       "<IPython.core.display.HTML object>"
      ]
     },
     "metadata": {},
     "output_type": "display_data"
    },
    {
     "name": "stdout",
     "output_type": "stream",
     "text": [
      "(60000, 784)\n",
      "Epoch: 0\n",
      "current_weight_diff: 67.01237127741962\n",
      "sqrd_recon_error: 1.9911989795918368\n",
      "Epoch: 1\n",
      "current_weight_diff: 0.7308109130772877\n",
      "sqrd_recon_error: 0.9965051020408162\n",
      "Epoch: 2\n",
      "current_weight_diff: 0.35804526862915714\n",
      "sqrd_recon_error: 0.7072704081632654\n",
      "Epoch: 3\n",
      "current_weight_diff: 0.24922852847707935\n",
      "sqrd_recon_error: 0.534311224489796\n",
      "Epoch: 4\n",
      "current_weight_diff: 0.3168108083581308\n",
      "sqrd_recon_error: 0.4195918367346939\n",
      "Epoch: 5\n",
      "current_weight_diff: 0.45014224295453964\n",
      "sqrd_recon_error: 0.36380102040816326\n",
      "Epoch: 6\n",
      "current_weight_diff: 1.4813811937888741\n",
      "sqrd_recon_error: 0.34920918367346937\n",
      "Epoch: 7\n",
      "current_weight_diff: 0.6688925926236446\n",
      "sqrd_recon_error: 0.3438265306122449\n",
      "Epoch: 8\n",
      "current_weight_diff: 0.2914085763667234\n",
      "sqrd_recon_error: 0.2718622448979592\n",
      "Epoch: 9\n",
      "current_weight_diff: 0.24298578497777698\n",
      "sqrd_recon_error: 0.2635969387755102\n",
      "Epoch: 10\n",
      "current_weight_diff: 0.3096416843274253\n",
      "sqrd_recon_error: 0.23920918367346938\n",
      "Epoch: 11\n",
      "current_weight_diff: 0.17125923540297144\n",
      "sqrd_recon_error: 0.2551785714285714\n",
      "Epoch: 12\n",
      "current_weight_diff: 0.21299419011217005\n",
      "sqrd_recon_error: 0.21502551020408162\n",
      "Epoch: 13\n",
      "current_weight_diff: 1.8876785610881268\n",
      "sqrd_recon_error: 0.20581632653061224\n",
      "Epoch: 14\n",
      "current_weight_diff: 0.15117597731384003\n",
      "sqrd_recon_error: 0.20841836734693878\n",
      "Epoch: 15\n",
      "current_weight_diff: 0.15905840012549455\n",
      "sqrd_recon_error: 0.1946683673469388\n",
      "Epoch: 16\n",
      "current_weight_diff: 0.145421587321911\n",
      "sqrd_recon_error: 0.17010204081632654\n",
      "Epoch: 17\n",
      "current_weight_diff: 0.2149593128785896\n",
      "sqrd_recon_error: 0.19642857142857142\n",
      "Epoch: 18\n",
      "current_weight_diff: 0.21139828330783578\n",
      "sqrd_recon_error: 0.20270408163265305\n",
      "Epoch: 19\n",
      "current_weight_diff: 0.23044476494293636\n",
      "sqrd_recon_error: 0.21275510204081635\n",
      "Epoch: 20\n",
      "current_weight_diff: 0.9046331840879006\n",
      "sqrd_recon_error: 0.20696428571428574\n",
      "Epoch: 21\n",
      "current_weight_diff: 0.1959409668538148\n",
      "sqrd_recon_error: 0.19443877551020405\n",
      "Epoch: 22\n",
      "current_weight_diff: 0.18220745918878586\n",
      "sqrd_recon_error: 0.16732142857142857\n",
      "Epoch: 23\n",
      "current_weight_diff: 0.1992971837753615\n",
      "sqrd_recon_error: 0.15114795918367346\n",
      "Epoch: 24\n",
      "current_weight_diff: 0.10133864108707766\n",
      "sqrd_recon_error: 0.16239795918367345\n",
      "Epoch: 25\n",
      "current_weight_diff: 0.1377059293588489\n",
      "sqrd_recon_error: 0.16834183673469386\n",
      "Epoch: 26\n",
      "current_weight_diff: 0.5634466342942896\n",
      "sqrd_recon_error: 0.15528061224489798\n",
      "Epoch: 27\n",
      "current_weight_diff: 0.11833505359982104\n",
      "sqrd_recon_error: 0.1525\n",
      "Epoch: 28\n",
      "current_weight_diff: 0.1330545490274647\n",
      "sqrd_recon_error: 0.16068877551020408\n",
      "Epoch: 29\n",
      "current_weight_diff: 0.11300490136928525\n",
      "sqrd_recon_error: 0.17071428571428574\n"
     ]
    },
    {
     "data": {
      "application/vnd.jupyter.widget-view+json": {
       "model_id": "3690d7a8630a4428b1f22ca64a531fbf",
       "version_major": 2,
       "version_minor": 0
      },
      "text/plain": [
       "VBox(children=(Label(value='0.001 MB of 0.006 MB uploaded\\r'), FloatProgress(value=0.15316130979326995, max=1.…"
      ]
     },
     "metadata": {},
     "output_type": "display_data"
    },
    {
     "name": "stderr",
     "output_type": "stream",
     "text": [
      "\u001b[34m\u001b[1mwandb\u001b[0m: \u001b[32m\u001b[41mERROR\u001b[0m Problem finishing run\n",
      "Traceback (most recent call last):\n",
      "  File \"/Library/Frameworks/Python.framework/Versions/3.10/lib/python3.10/site-packages/wandb/sdk/wandb_run.py\", line 2313, in _atexit_cleanup\n",
      "    self._on_finish()\n",
      "  File \"/Library/Frameworks/Python.framework/Versions/3.10/lib/python3.10/site-packages/wandb/sdk/wandb_run.py\", line 2567, in _on_finish\n",
      "    self._footer_file_pusher_status_info(\n",
      "  File \"/Library/Frameworks/Python.framework/Versions/3.10/lib/python3.10/site-packages/wandb/sdk/wandb_run.py\", line 3749, in _footer_file_pusher_status_info\n",
      "    Run._footer_single_run_file_pusher_status_info(\n",
      "  File \"/Library/Frameworks/Python.framework/Versions/3.10/lib/python3.10/site-packages/wandb/sdk/wandb_run.py\", line 3802, in _footer_single_run_file_pusher_status_info\n",
      "    printer.progress_close()\n",
      "  File \"/Library/Frameworks/Python.framework/Versions/3.10/lib/python3.10/site-packages/wandb/sdk/lib/printer.py\", line 292, in progress_close\n",
      "    self._progress.close()\n",
      "  File \"/Library/Frameworks/Python.framework/Versions/3.10/lib/python3.10/site-packages/wandb/sdk/lib/ipython.py\", line 128, in close\n",
      "    self._widget.close()\n",
      "  File \"/Users/lucasericsson/Library/Python/3.10/lib/python/site-packages/ipywidgets/widgets/widget.py\", line 500, in close\n",
      "    self.comm.close()\n",
      "  File \"/Users/lucasericsson/Library/Python/3.10/lib/python/site-packages/comm/base_comm.py\", line 109, in close\n",
      "    comm.get_comm_manager().unregister_comm(self)\n",
      "  File \"/Users/lucasericsson/Library/Python/3.10/lib/python/site-packages/comm/base_comm.py\", line 199, in unregister_comm\n",
      "    comm = self.comms.pop(comm.comm_id)\n",
      "KeyError: '3690d7a8630a4428b1f22ca64a531fbf'\n",
      "\u001b[34m\u001b[1mwandb\u001b[0m: Sweep Agent: Waiting for job.\n",
      "\u001b[34m\u001b[1mwandb\u001b[0m: Job received.\n",
      "\u001b[34m\u001b[1mwandb\u001b[0m: Agent Starting Run: gq8qucap with config:\n",
      "\u001b[34m\u001b[1mwandb\u001b[0m: \tepochs: 2\n",
      "\u001b[34m\u001b[1mwandb\u001b[0m: \thidden_units: 1000\n",
      "\u001b[34m\u001b[1mwandb\u001b[0m: \tk: 20\n",
      "\u001b[34m\u001b[1mwandb\u001b[0m: \tminibatch: 200\n",
      "Failed to detect the name of this notebook, you can set it manually with the WANDB_NOTEBOOK_NAME environment variable to enable code saving.\n",
      "\u001b[34m\u001b[1mwandb\u001b[0m: \u001b[33mWARNING\u001b[0m Ignored wandb.init() arg project when running a sweep.\n"
     ]
    },
    {
     "data": {
      "text/html": [
       "Tracking run with wandb version 0.16.6"
      ],
      "text/plain": [
       "<IPython.core.display.HTML object>"
      ]
     },
     "metadata": {},
     "output_type": "display_data"
    },
    {
     "data": {
      "text/html": [
       "Run data is saved locally in <code>/Users/lucasericsson/repos/restricted-boltzmann-machine/wandb/run-20240409_011654-gq8qucap</code>"
      ],
      "text/plain": [
       "<IPython.core.display.HTML object>"
      ]
     },
     "metadata": {},
     "output_type": "display_data"
    },
    {
     "data": {
      "text/html": [
       "Syncing run <strong><a href='https://wandb.ai/lucasericsson222/restricted_boltzmann_machine_sweep/runs/gq8qucap' target=\"_blank\">sandy-sweep-32</a></strong> to <a href='https://wandb.ai/lucasericsson222/restricted_boltzmann_machine_sweep' target=\"_blank\">Weights & Biases</a> (<a href='https://wandb.me/run' target=\"_blank\">docs</a>)<br/>Sweep page: <a href='https://wandb.ai/lucasericsson222/restricted_boltzmann_machine_sweep/sweeps/r1b5058x' target=\"_blank\">https://wandb.ai/lucasericsson222/restricted_boltzmann_machine_sweep/sweeps/r1b5058x</a>"
      ],
      "text/plain": [
       "<IPython.core.display.HTML object>"
      ]
     },
     "metadata": {},
     "output_type": "display_data"
    },
    {
     "data": {
      "text/html": [
       " View project at <a href='https://wandb.ai/lucasericsson222/restricted_boltzmann_machine_sweep' target=\"_blank\">https://wandb.ai/lucasericsson222/restricted_boltzmann_machine_sweep</a>"
      ],
      "text/plain": [
       "<IPython.core.display.HTML object>"
      ]
     },
     "metadata": {},
     "output_type": "display_data"
    },
    {
     "data": {
      "text/html": [
       " View sweep at <a href='https://wandb.ai/lucasericsson222/restricted_boltzmann_machine_sweep/sweeps/r1b5058x' target=\"_blank\">https://wandb.ai/lucasericsson222/restricted_boltzmann_machine_sweep/sweeps/r1b5058x</a>"
      ],
      "text/plain": [
       "<IPython.core.display.HTML object>"
      ]
     },
     "metadata": {},
     "output_type": "display_data"
    },
    {
     "data": {
      "text/html": [
       " View run at <a href='https://wandb.ai/lucasericsson222/restricted_boltzmann_machine_sweep/runs/gq8qucap' target=\"_blank\">https://wandb.ai/lucasericsson222/restricted_boltzmann_machine_sweep/runs/gq8qucap</a>"
      ],
      "text/plain": [
       "<IPython.core.display.HTML object>"
      ]
     },
     "metadata": {},
     "output_type": "display_data"
    },
    {
     "name": "stdout",
     "output_type": "stream",
     "text": [
      "(60000, 784)\n",
      "Epoch: 0\n",
      "current_weight_diff: 9.357651392817784\n",
      "sqrd_recon_error: 0.6856568877551021\n",
      "Epoch: 1\n",
      "current_weight_diff: 2.298371863854548\n",
      "sqrd_recon_error: 3.224094387755102\n"
     ]
    },
    {
     "data": {
      "application/vnd.jupyter.widget-view+json": {
       "model_id": "e015b0f4890842debedd5ad91a1d20b3",
       "version_major": 2,
       "version_minor": 0
      },
      "text/plain": [
       "VBox(children=(Label(value='0.004 MB of 0.004 MB uploaded\\r'), FloatProgress(value=1.0, max=1.0)))"
      ]
     },
     "metadata": {},
     "output_type": "display_data"
    },
    {
     "name": "stderr",
     "output_type": "stream",
     "text": [
      "\u001b[34m\u001b[1mwandb\u001b[0m: \u001b[32m\u001b[41mERROR\u001b[0m Problem finishing run\n",
      "Traceback (most recent call last):\n",
      "  File \"/Library/Frameworks/Python.framework/Versions/3.10/lib/python3.10/site-packages/wandb/sdk/wandb_run.py\", line 2313, in _atexit_cleanup\n",
      "    self._on_finish()\n",
      "  File \"/Library/Frameworks/Python.framework/Versions/3.10/lib/python3.10/site-packages/wandb/sdk/wandb_run.py\", line 2567, in _on_finish\n",
      "    self._footer_file_pusher_status_info(\n",
      "  File \"/Library/Frameworks/Python.framework/Versions/3.10/lib/python3.10/site-packages/wandb/sdk/wandb_run.py\", line 3749, in _footer_file_pusher_status_info\n",
      "    Run._footer_single_run_file_pusher_status_info(\n",
      "  File \"/Library/Frameworks/Python.framework/Versions/3.10/lib/python3.10/site-packages/wandb/sdk/wandb_run.py\", line 3802, in _footer_single_run_file_pusher_status_info\n",
      "    printer.progress_close()\n",
      "  File \"/Library/Frameworks/Python.framework/Versions/3.10/lib/python3.10/site-packages/wandb/sdk/lib/printer.py\", line 292, in progress_close\n",
      "    self._progress.close()\n",
      "  File \"/Library/Frameworks/Python.framework/Versions/3.10/lib/python3.10/site-packages/wandb/sdk/lib/ipython.py\", line 128, in close\n",
      "    self._widget.close()\n",
      "  File \"/Users/lucasericsson/Library/Python/3.10/lib/python/site-packages/ipywidgets/widgets/widget.py\", line 500, in close\n",
      "    self.comm.close()\n",
      "  File \"/Users/lucasericsson/Library/Python/3.10/lib/python/site-packages/comm/base_comm.py\", line 109, in close\n",
      "    comm.get_comm_manager().unregister_comm(self)\n",
      "  File \"/Users/lucasericsson/Library/Python/3.10/lib/python/site-packages/comm/base_comm.py\", line 199, in unregister_comm\n",
      "    comm = self.comms.pop(comm.comm_id)\n",
      "KeyError: 'e015b0f4890842debedd5ad91a1d20b3'\n",
      "\u001b[34m\u001b[1mwandb\u001b[0m: Sweep Agent: Waiting for job.\n",
      "\u001b[34m\u001b[1mwandb\u001b[0m: Job received.\n",
      "\u001b[34m\u001b[1mwandb\u001b[0m: Agent Starting Run: e0k8k6pf with config:\n",
      "\u001b[34m\u001b[1mwandb\u001b[0m: \tepochs: 3\n",
      "\u001b[34m\u001b[1mwandb\u001b[0m: \thidden_units: 300\n",
      "\u001b[34m\u001b[1mwandb\u001b[0m: \tk: 5\n",
      "\u001b[34m\u001b[1mwandb\u001b[0m: \tminibatch: 100\n",
      "Failed to detect the name of this notebook, you can set it manually with the WANDB_NOTEBOOK_NAME environment variable to enable code saving.\n",
      "\u001b[34m\u001b[1mwandb\u001b[0m: \u001b[33mWARNING\u001b[0m Ignored wandb.init() arg project when running a sweep.\n"
     ]
    },
    {
     "data": {
      "text/html": [
       "Tracking run with wandb version 0.16.6"
      ],
      "text/plain": [
       "<IPython.core.display.HTML object>"
      ]
     },
     "metadata": {},
     "output_type": "display_data"
    },
    {
     "data": {
      "text/html": [
       "Run data is saved locally in <code>/Users/lucasericsson/repos/restricted-boltzmann-machine/wandb/run-20240409_013040-e0k8k6pf</code>"
      ],
      "text/plain": [
       "<IPython.core.display.HTML object>"
      ]
     },
     "metadata": {},
     "output_type": "display_data"
    },
    {
     "data": {
      "text/html": [
       "Syncing run <strong><a href='https://wandb.ai/lucasericsson222/restricted_boltzmann_machine_sweep/runs/e0k8k6pf' target=\"_blank\">northern-sweep-33</a></strong> to <a href='https://wandb.ai/lucasericsson222/restricted_boltzmann_machine_sweep' target=\"_blank\">Weights & Biases</a> (<a href='https://wandb.me/run' target=\"_blank\">docs</a>)<br/>Sweep page: <a href='https://wandb.ai/lucasericsson222/restricted_boltzmann_machine_sweep/sweeps/r1b5058x' target=\"_blank\">https://wandb.ai/lucasericsson222/restricted_boltzmann_machine_sweep/sweeps/r1b5058x</a>"
      ],
      "text/plain": [
       "<IPython.core.display.HTML object>"
      ]
     },
     "metadata": {},
     "output_type": "display_data"
    },
    {
     "data": {
      "text/html": [
       " View project at <a href='https://wandb.ai/lucasericsson222/restricted_boltzmann_machine_sweep' target=\"_blank\">https://wandb.ai/lucasericsson222/restricted_boltzmann_machine_sweep</a>"
      ],
      "text/plain": [
       "<IPython.core.display.HTML object>"
      ]
     },
     "metadata": {},
     "output_type": "display_data"
    },
    {
     "data": {
      "text/html": [
       " View sweep at <a href='https://wandb.ai/lucasericsson222/restricted_boltzmann_machine_sweep/sweeps/r1b5058x' target=\"_blank\">https://wandb.ai/lucasericsson222/restricted_boltzmann_machine_sweep/sweeps/r1b5058x</a>"
      ],
      "text/plain": [
       "<IPython.core.display.HTML object>"
      ]
     },
     "metadata": {},
     "output_type": "display_data"
    },
    {
     "data": {
      "text/html": [
       " View run at <a href='https://wandb.ai/lucasericsson222/restricted_boltzmann_machine_sweep/runs/e0k8k6pf' target=\"_blank\">https://wandb.ai/lucasericsson222/restricted_boltzmann_machine_sweep/runs/e0k8k6pf</a>"
      ],
      "text/plain": [
       "<IPython.core.display.HTML object>"
      ]
     },
     "metadata": {},
     "output_type": "display_data"
    },
    {
     "name": "stdout",
     "output_type": "stream",
     "text": [
      "(60000, 784)\n",
      "Epoch: 0\n",
      "current_weight_diff: 19.874584445662954\n",
      "sqrd_recon_error: 0.6627295918367346\n",
      "Epoch: 1\n",
      "current_weight_diff: 1.8778797427878375\n",
      "sqrd_recon_error: 0.3625765306122449\n",
      "Epoch: 2\n",
      "current_weight_diff: 1.4803534953482511\n",
      "sqrd_recon_error: 0.27229591836734696\n"
     ]
    },
    {
     "data": {
      "application/vnd.jupyter.widget-view+json": {
       "model_id": "e23e95d345204c259c83861a879d7068",
       "version_major": 2,
       "version_minor": 0
      },
      "text/plain": [
       "VBox(children=(Label(value='0.001 MB of 0.001 MB uploaded\\r'), FloatProgress(value=1.0, max=1.0)))"
      ]
     },
     "metadata": {},
     "output_type": "display_data"
    },
    {
     "name": "stderr",
     "output_type": "stream",
     "text": [
      "\u001b[34m\u001b[1mwandb\u001b[0m: \u001b[32m\u001b[41mERROR\u001b[0m Problem finishing run\n",
      "Traceback (most recent call last):\n",
      "  File \"/Library/Frameworks/Python.framework/Versions/3.10/lib/python3.10/site-packages/wandb/sdk/wandb_run.py\", line 2313, in _atexit_cleanup\n",
      "    self._on_finish()\n",
      "  File \"/Library/Frameworks/Python.framework/Versions/3.10/lib/python3.10/site-packages/wandb/sdk/wandb_run.py\", line 2567, in _on_finish\n",
      "    self._footer_file_pusher_status_info(\n",
      "  File \"/Library/Frameworks/Python.framework/Versions/3.10/lib/python3.10/site-packages/wandb/sdk/wandb_run.py\", line 3749, in _footer_file_pusher_status_info\n",
      "    Run._footer_single_run_file_pusher_status_info(\n",
      "  File \"/Library/Frameworks/Python.framework/Versions/3.10/lib/python3.10/site-packages/wandb/sdk/wandb_run.py\", line 3802, in _footer_single_run_file_pusher_status_info\n",
      "    printer.progress_close()\n",
      "  File \"/Library/Frameworks/Python.framework/Versions/3.10/lib/python3.10/site-packages/wandb/sdk/lib/printer.py\", line 292, in progress_close\n",
      "    self._progress.close()\n",
      "  File \"/Library/Frameworks/Python.framework/Versions/3.10/lib/python3.10/site-packages/wandb/sdk/lib/ipython.py\", line 128, in close\n",
      "    self._widget.close()\n",
      "  File \"/Users/lucasericsson/Library/Python/3.10/lib/python/site-packages/ipywidgets/widgets/widget.py\", line 500, in close\n",
      "    self.comm.close()\n",
      "  File \"/Users/lucasericsson/Library/Python/3.10/lib/python/site-packages/comm/base_comm.py\", line 109, in close\n",
      "    comm.get_comm_manager().unregister_comm(self)\n",
      "  File \"/Users/lucasericsson/Library/Python/3.10/lib/python/site-packages/comm/base_comm.py\", line 199, in unregister_comm\n",
      "    comm = self.comms.pop(comm.comm_id)\n",
      "KeyError: 'e23e95d345204c259c83861a879d7068'\n",
      "\u001b[34m\u001b[1mwandb\u001b[0m: Agent Starting Run: mdp81cir with config:\n",
      "\u001b[34m\u001b[1mwandb\u001b[0m: \tepochs: 4\n",
      "\u001b[34m\u001b[1mwandb\u001b[0m: \thidden_units: 100\n",
      "\u001b[34m\u001b[1mwandb\u001b[0m: \tk: 5\n",
      "\u001b[34m\u001b[1mwandb\u001b[0m: \tminibatch: 50\n",
      "Failed to detect the name of this notebook, you can set it manually with the WANDB_NOTEBOOK_NAME environment variable to enable code saving.\n",
      "\u001b[34m\u001b[1mwandb\u001b[0m: \u001b[33mWARNING\u001b[0m Ignored wandb.init() arg project when running a sweep.\n"
     ]
    },
    {
     "data": {
      "text/html": [
       "Tracking run with wandb version 0.16.6"
      ],
      "text/plain": [
       "<IPython.core.display.HTML object>"
      ]
     },
     "metadata": {},
     "output_type": "display_data"
    },
    {
     "data": {
      "text/html": [
       "Run data is saved locally in <code>/Users/lucasericsson/repos/restricted-boltzmann-machine/wandb/run-20240409_013110-mdp81cir</code>"
      ],
      "text/plain": [
       "<IPython.core.display.HTML object>"
      ]
     },
     "metadata": {},
     "output_type": "display_data"
    },
    {
     "data": {
      "text/html": [
       "Syncing run <strong><a href='https://wandb.ai/lucasericsson222/restricted_boltzmann_machine_sweep/runs/mdp81cir' target=\"_blank\">decent-sweep-34</a></strong> to <a href='https://wandb.ai/lucasericsson222/restricted_boltzmann_machine_sweep' target=\"_blank\">Weights & Biases</a> (<a href='https://wandb.me/run' target=\"_blank\">docs</a>)<br/>Sweep page: <a href='https://wandb.ai/lucasericsson222/restricted_boltzmann_machine_sweep/sweeps/r1b5058x' target=\"_blank\">https://wandb.ai/lucasericsson222/restricted_boltzmann_machine_sweep/sweeps/r1b5058x</a>"
      ],
      "text/plain": [
       "<IPython.core.display.HTML object>"
      ]
     },
     "metadata": {},
     "output_type": "display_data"
    },
    {
     "data": {
      "text/html": [
       " View project at <a href='https://wandb.ai/lucasericsson222/restricted_boltzmann_machine_sweep' target=\"_blank\">https://wandb.ai/lucasericsson222/restricted_boltzmann_machine_sweep</a>"
      ],
      "text/plain": [
       "<IPython.core.display.HTML object>"
      ]
     },
     "metadata": {},
     "output_type": "display_data"
    },
    {
     "data": {
      "text/html": [
       " View sweep at <a href='https://wandb.ai/lucasericsson222/restricted_boltzmann_machine_sweep/sweeps/r1b5058x' target=\"_blank\">https://wandb.ai/lucasericsson222/restricted_boltzmann_machine_sweep/sweeps/r1b5058x</a>"
      ],
      "text/plain": [
       "<IPython.core.display.HTML object>"
      ]
     },
     "metadata": {},
     "output_type": "display_data"
    },
    {
     "data": {
      "text/html": [
       " View run at <a href='https://wandb.ai/lucasericsson222/restricted_boltzmann_machine_sweep/runs/mdp81cir' target=\"_blank\">https://wandb.ai/lucasericsson222/restricted_boltzmann_machine_sweep/runs/mdp81cir</a>"
      ],
      "text/plain": [
       "<IPython.core.display.HTML object>"
      ]
     },
     "metadata": {},
     "output_type": "display_data"
    },
    {
     "name": "stdout",
     "output_type": "stream",
     "text": [
      "(60000, 784)\n",
      "Epoch: 0\n",
      "current_weight_diff: 33.00900988328899\n",
      "sqrd_recon_error: 1.4322193877551022\n",
      "Epoch: 1\n",
      "current_weight_diff: 1.0969871896128602\n",
      "sqrd_recon_error: 0.7855867346938775\n",
      "Epoch: 2\n",
      "current_weight_diff: 1.4708303013188189\n",
      "sqrd_recon_error: 0.5466836734693877\n",
      "Epoch: 3\n",
      "current_weight_diff: 1.0886689480621419\n",
      "sqrd_recon_error: 0.37494897959183676\n"
     ]
    },
    {
     "data": {
      "application/vnd.jupyter.widget-view+json": {
       "model_id": "b3a8918456a34f518614ec6985c30fbf",
       "version_major": 2,
       "version_minor": 0
      },
      "text/plain": [
       "VBox(children=(Label(value='0.001 MB of 0.004 MB uploaded\\r'), FloatProgress(value=0.23338698551391124, max=1.…"
      ]
     },
     "metadata": {},
     "output_type": "display_data"
    },
    {
     "name": "stderr",
     "output_type": "stream",
     "text": [
      "\u001b[34m\u001b[1mwandb\u001b[0m: \u001b[32m\u001b[41mERROR\u001b[0m Problem finishing run\n",
      "Traceback (most recent call last):\n",
      "  File \"/Library/Frameworks/Python.framework/Versions/3.10/lib/python3.10/site-packages/wandb/sdk/wandb_run.py\", line 2313, in _atexit_cleanup\n",
      "    self._on_finish()\n",
      "  File \"/Library/Frameworks/Python.framework/Versions/3.10/lib/python3.10/site-packages/wandb/sdk/wandb_run.py\", line 2567, in _on_finish\n",
      "    self._footer_file_pusher_status_info(\n",
      "  File \"/Library/Frameworks/Python.framework/Versions/3.10/lib/python3.10/site-packages/wandb/sdk/wandb_run.py\", line 3749, in _footer_file_pusher_status_info\n",
      "    Run._footer_single_run_file_pusher_status_info(\n",
      "  File \"/Library/Frameworks/Python.framework/Versions/3.10/lib/python3.10/site-packages/wandb/sdk/wandb_run.py\", line 3802, in _footer_single_run_file_pusher_status_info\n",
      "    printer.progress_close()\n",
      "  File \"/Library/Frameworks/Python.framework/Versions/3.10/lib/python3.10/site-packages/wandb/sdk/lib/printer.py\", line 292, in progress_close\n",
      "    self._progress.close()\n",
      "  File \"/Library/Frameworks/Python.framework/Versions/3.10/lib/python3.10/site-packages/wandb/sdk/lib/ipython.py\", line 128, in close\n",
      "    self._widget.close()\n",
      "  File \"/Users/lucasericsson/Library/Python/3.10/lib/python/site-packages/ipywidgets/widgets/widget.py\", line 500, in close\n",
      "    self.comm.close()\n",
      "  File \"/Users/lucasericsson/Library/Python/3.10/lib/python/site-packages/comm/base_comm.py\", line 109, in close\n",
      "    comm.get_comm_manager().unregister_comm(self)\n",
      "  File \"/Users/lucasericsson/Library/Python/3.10/lib/python/site-packages/comm/base_comm.py\", line 199, in unregister_comm\n",
      "    comm = self.comms.pop(comm.comm_id)\n",
      "KeyError: 'b3a8918456a34f518614ec6985c30fbf'\n",
      "\u001b[34m\u001b[1mwandb\u001b[0m: Agent Starting Run: fujiwqi5 with config:\n",
      "\u001b[34m\u001b[1mwandb\u001b[0m: \tepochs: 2\n",
      "\u001b[34m\u001b[1mwandb\u001b[0m: \thidden_units: 20\n",
      "\u001b[34m\u001b[1mwandb\u001b[0m: \tk: 4\n",
      "\u001b[34m\u001b[1mwandb\u001b[0m: \tminibatch: 150\n",
      "Failed to detect the name of this notebook, you can set it manually with the WANDB_NOTEBOOK_NAME environment variable to enable code saving.\n",
      "\u001b[34m\u001b[1mwandb\u001b[0m: \u001b[33mWARNING\u001b[0m Ignored wandb.init() arg project when running a sweep.\n"
     ]
    },
    {
     "data": {
      "text/html": [
       "Tracking run with wandb version 0.16.6"
      ],
      "text/plain": [
       "<IPython.core.display.HTML object>"
      ]
     },
     "metadata": {},
     "output_type": "display_data"
    },
    {
     "data": {
      "text/html": [
       "Run data is saved locally in <code>/Users/lucasericsson/repos/restricted-boltzmann-machine/wandb/run-20240409_013126-fujiwqi5</code>"
      ],
      "text/plain": [
       "<IPython.core.display.HTML object>"
      ]
     },
     "metadata": {},
     "output_type": "display_data"
    },
    {
     "data": {
      "text/html": [
       "Syncing run <strong><a href='https://wandb.ai/lucasericsson222/restricted_boltzmann_machine_sweep/runs/fujiwqi5' target=\"_blank\">kind-sweep-35</a></strong> to <a href='https://wandb.ai/lucasericsson222/restricted_boltzmann_machine_sweep' target=\"_blank\">Weights & Biases</a> (<a href='https://wandb.me/run' target=\"_blank\">docs</a>)<br/>Sweep page: <a href='https://wandb.ai/lucasericsson222/restricted_boltzmann_machine_sweep/sweeps/r1b5058x' target=\"_blank\">https://wandb.ai/lucasericsson222/restricted_boltzmann_machine_sweep/sweeps/r1b5058x</a>"
      ],
      "text/plain": [
       "<IPython.core.display.HTML object>"
      ]
     },
     "metadata": {},
     "output_type": "display_data"
    },
    {
     "data": {
      "text/html": [
       " View project at <a href='https://wandb.ai/lucasericsson222/restricted_boltzmann_machine_sweep' target=\"_blank\">https://wandb.ai/lucasericsson222/restricted_boltzmann_machine_sweep</a>"
      ],
      "text/plain": [
       "<IPython.core.display.HTML object>"
      ]
     },
     "metadata": {},
     "output_type": "display_data"
    },
    {
     "data": {
      "text/html": [
       " View sweep at <a href='https://wandb.ai/lucasericsson222/restricted_boltzmann_machine_sweep/sweeps/r1b5058x' target=\"_blank\">https://wandb.ai/lucasericsson222/restricted_boltzmann_machine_sweep/sweeps/r1b5058x</a>"
      ],
      "text/plain": [
       "<IPython.core.display.HTML object>"
      ]
     },
     "metadata": {},
     "output_type": "display_data"
    },
    {
     "data": {
      "text/html": [
       " View run at <a href='https://wandb.ai/lucasericsson222/restricted_boltzmann_machine_sweep/runs/fujiwqi5' target=\"_blank\">https://wandb.ai/lucasericsson222/restricted_boltzmann_machine_sweep/runs/fujiwqi5</a>"
      ],
      "text/plain": [
       "<IPython.core.display.HTML object>"
      ]
     },
     "metadata": {},
     "output_type": "display_data"
    },
    {
     "name": "stdout",
     "output_type": "stream",
     "text": [
      "(60000, 784)\n",
      "Epoch: 0\n",
      "current_weight_diff: 70.59358105720555\n",
      "sqrd_recon_error: 5.731122448979592\n",
      "Epoch: 1\n",
      "current_weight_diff: 0.474487748173788\n",
      "sqrd_recon_error: 2.923792517006803\n"
     ]
    },
    {
     "data": {
      "application/vnd.jupyter.widget-view+json": {
       "model_id": "0c753ff2bcab47e8807bd647db1fc62e",
       "version_major": 2,
       "version_minor": 0
      },
      "text/plain": [
       "VBox(children=(Label(value='0.001 MB of 0.001 MB uploaded\\r'), FloatProgress(value=1.0, max=1.0)))"
      ]
     },
     "metadata": {},
     "output_type": "display_data"
    },
    {
     "name": "stderr",
     "output_type": "stream",
     "text": [
      "\u001b[34m\u001b[1mwandb\u001b[0m: \u001b[32m\u001b[41mERROR\u001b[0m Problem finishing run\n",
      "Traceback (most recent call last):\n",
      "  File \"/Library/Frameworks/Python.framework/Versions/3.10/lib/python3.10/site-packages/wandb/sdk/wandb_run.py\", line 2313, in _atexit_cleanup\n",
      "    self._on_finish()\n",
      "  File \"/Library/Frameworks/Python.framework/Versions/3.10/lib/python3.10/site-packages/wandb/sdk/wandb_run.py\", line 2567, in _on_finish\n",
      "    self._footer_file_pusher_status_info(\n",
      "  File \"/Library/Frameworks/Python.framework/Versions/3.10/lib/python3.10/site-packages/wandb/sdk/wandb_run.py\", line 3749, in _footer_file_pusher_status_info\n",
      "    Run._footer_single_run_file_pusher_status_info(\n",
      "  File \"/Library/Frameworks/Python.framework/Versions/3.10/lib/python3.10/site-packages/wandb/sdk/wandb_run.py\", line 3802, in _footer_single_run_file_pusher_status_info\n",
      "    printer.progress_close()\n",
      "  File \"/Library/Frameworks/Python.framework/Versions/3.10/lib/python3.10/site-packages/wandb/sdk/lib/printer.py\", line 292, in progress_close\n",
      "    self._progress.close()\n",
      "  File \"/Library/Frameworks/Python.framework/Versions/3.10/lib/python3.10/site-packages/wandb/sdk/lib/ipython.py\", line 128, in close\n",
      "    self._widget.close()\n",
      "  File \"/Users/lucasericsson/Library/Python/3.10/lib/python/site-packages/ipywidgets/widgets/widget.py\", line 500, in close\n",
      "    self.comm.close()\n",
      "  File \"/Users/lucasericsson/Library/Python/3.10/lib/python/site-packages/comm/base_comm.py\", line 109, in close\n",
      "    comm.get_comm_manager().unregister_comm(self)\n",
      "  File \"/Users/lucasericsson/Library/Python/3.10/lib/python/site-packages/comm/base_comm.py\", line 199, in unregister_comm\n",
      "    comm = self.comms.pop(comm.comm_id)\n",
      "KeyError: '0c753ff2bcab47e8807bd647db1fc62e'\n",
      "\u001b[34m\u001b[1mwandb\u001b[0m: Sweep Agent: Waiting for job.\n",
      "\u001b[34m\u001b[1mwandb\u001b[0m: Job received.\n",
      "\u001b[34m\u001b[1mwandb\u001b[0m: Agent Starting Run: 31g6yf4z with config:\n",
      "\u001b[34m\u001b[1mwandb\u001b[0m: \tepochs: 30\n",
      "\u001b[34m\u001b[1mwandb\u001b[0m: \thidden_units: 50\n",
      "\u001b[34m\u001b[1mwandb\u001b[0m: \tk: 30\n",
      "\u001b[34m\u001b[1mwandb\u001b[0m: \tminibatch: 50\n",
      "Failed to detect the name of this notebook, you can set it manually with the WANDB_NOTEBOOK_NAME environment variable to enable code saving.\n",
      "\u001b[34m\u001b[1mwandb\u001b[0m: \u001b[33mWARNING\u001b[0m Ignored wandb.init() arg project when running a sweep.\n"
     ]
    },
    {
     "data": {
      "text/html": [
       "Tracking run with wandb version 0.16.6"
      ],
      "text/plain": [
       "<IPython.core.display.HTML object>"
      ]
     },
     "metadata": {},
     "output_type": "display_data"
    },
    {
     "data": {
      "text/html": [
       "Run data is saved locally in <code>/Users/lucasericsson/repos/restricted-boltzmann-machine/wandb/run-20240409_013147-31g6yf4z</code>"
      ],
      "text/plain": [
       "<IPython.core.display.HTML object>"
      ]
     },
     "metadata": {},
     "output_type": "display_data"
    },
    {
     "data": {
      "text/html": [
       "Syncing run <strong><a href='https://wandb.ai/lucasericsson222/restricted_boltzmann_machine_sweep/runs/31g6yf4z' target=\"_blank\">cosmic-sweep-36</a></strong> to <a href='https://wandb.ai/lucasericsson222/restricted_boltzmann_machine_sweep' target=\"_blank\">Weights & Biases</a> (<a href='https://wandb.me/run' target=\"_blank\">docs</a>)<br/>Sweep page: <a href='https://wandb.ai/lucasericsson222/restricted_boltzmann_machine_sweep/sweeps/r1b5058x' target=\"_blank\">https://wandb.ai/lucasericsson222/restricted_boltzmann_machine_sweep/sweeps/r1b5058x</a>"
      ],
      "text/plain": [
       "<IPython.core.display.HTML object>"
      ]
     },
     "metadata": {},
     "output_type": "display_data"
    },
    {
     "data": {
      "text/html": [
       " View project at <a href='https://wandb.ai/lucasericsson222/restricted_boltzmann_machine_sweep' target=\"_blank\">https://wandb.ai/lucasericsson222/restricted_boltzmann_machine_sweep</a>"
      ],
      "text/plain": [
       "<IPython.core.display.HTML object>"
      ]
     },
     "metadata": {},
     "output_type": "display_data"
    },
    {
     "data": {
      "text/html": [
       " View sweep at <a href='https://wandb.ai/lucasericsson222/restricted_boltzmann_machine_sweep/sweeps/r1b5058x' target=\"_blank\">https://wandb.ai/lucasericsson222/restricted_boltzmann_machine_sweep/sweeps/r1b5058x</a>"
      ],
      "text/plain": [
       "<IPython.core.display.HTML object>"
      ]
     },
     "metadata": {},
     "output_type": "display_data"
    },
    {
     "data": {
      "text/html": [
       " View run at <a href='https://wandb.ai/lucasericsson222/restricted_boltzmann_machine_sweep/runs/31g6yf4z' target=\"_blank\">https://wandb.ai/lucasericsson222/restricted_boltzmann_machine_sweep/runs/31g6yf4z</a>"
      ],
      "text/plain": [
       "<IPython.core.display.HTML object>"
      ]
     },
     "metadata": {},
     "output_type": "display_data"
    },
    {
     "name": "stdout",
     "output_type": "stream",
     "text": [
      "(60000, 784)\n",
      "Epoch: 0\n",
      "current_weight_diff: 643.3336183395835\n",
      "sqrd_recon_error: 2.003469387755102\n",
      "Epoch: 1\n",
      "current_weight_diff: 0.6383681496937739\n",
      "sqrd_recon_error: 2.9207142857142854\n",
      "Epoch: 2\n",
      "current_weight_diff: 1.0691474329391857\n",
      "sqrd_recon_error: 0.9706377551020409\n",
      "Epoch: 3\n",
      "current_weight_diff: 0.9954935422076651\n",
      "sqrd_recon_error: 0.77375\n",
      "Epoch: 4\n",
      "current_weight_diff: 1.0282569815201072\n",
      "sqrd_recon_error: 0.5915051020408163\n",
      "Epoch: 5\n",
      "current_weight_diff: 0.7459347554632285\n",
      "sqrd_recon_error: 0.38816326530612244\n",
      "Epoch: 6\n",
      "current_weight_diff: 0.5407493046964794\n",
      "sqrd_recon_error: 0.30948979591836734\n",
      "Epoch: 7\n",
      "current_weight_diff: 0.8316348168919269\n",
      "sqrd_recon_error: 0.24979591836734694\n",
      "Epoch: 8\n",
      "current_weight_diff: 0.5364288634527847\n",
      "sqrd_recon_error: 0.24895408163265306\n",
      "Epoch: 9\n",
      "current_weight_diff: 1.504874694045816\n",
      "sqrd_recon_error: 0.24193877551020407\n",
      "Epoch: 10\n",
      "current_weight_diff: 0.3703198732718813\n",
      "sqrd_recon_error: 0.22214285714285714\n",
      "Epoch: 11\n",
      "current_weight_diff: 0.5350972945069908\n",
      "sqrd_recon_error: 0.21415816326530612\n",
      "Epoch: 12\n",
      "current_weight_diff: 0.4154509488448838\n",
      "sqrd_recon_error: 0.22760204081632654\n",
      "Epoch: 13\n",
      "current_weight_diff: 0.28845947724794424\n",
      "sqrd_recon_error: 0.24479591836734696\n",
      "Epoch: 14\n",
      "current_weight_diff: 0.26041704279730754\n",
      "sqrd_recon_error: 0.19528061224489796\n",
      "Epoch: 15\n",
      "current_weight_diff: 0.19102667453085412\n",
      "sqrd_recon_error: 0.22525510204081634\n",
      "Epoch: 16\n",
      "current_weight_diff: 0.27202478503033284\n",
      "sqrd_recon_error: 0.17181122448979594\n",
      "Epoch: 17\n",
      "current_weight_diff: 0.4992272611344879\n",
      "sqrd_recon_error: 0.19415816326530613\n",
      "Epoch: 18\n",
      "current_weight_diff: 0.18970086669972896\n",
      "sqrd_recon_error: 0.17987244897959184\n",
      "Epoch: 19\n",
      "current_weight_diff: 0.13451903928583195\n",
      "sqrd_recon_error: 0.18803571428571428\n",
      "Epoch: 20\n",
      "current_weight_diff: 0.16256842211627448\n",
      "sqrd_recon_error: 0.15482142857142858\n",
      "Epoch: 21\n",
      "current_weight_diff: 0.17255899448480153\n",
      "sqrd_recon_error: 0.17438775510204083\n",
      "Epoch: 22\n",
      "current_weight_diff: 0.11832260464285464\n",
      "sqrd_recon_error: 0.15025510204081632\n",
      "Epoch: 23\n",
      "current_weight_diff: 0.2821784008548016\n",
      "sqrd_recon_error: 0.22260204081632654\n",
      "Epoch: 24\n",
      "current_weight_diff: 0.15553927488985353\n",
      "sqrd_recon_error: 0.18897959183673468\n",
      "Epoch: 25\n",
      "current_weight_diff: 0.11538551582644466\n",
      "sqrd_recon_error: 0.17959183673469387\n",
      "Epoch: 26\n",
      "current_weight_diff: 0.14576968502714444\n",
      "sqrd_recon_error: 0.2157908163265306\n",
      "Epoch: 27\n",
      "current_weight_diff: 0.1964387586168918\n",
      "sqrd_recon_error: 0.1442857142857143\n",
      "Epoch: 28\n",
      "current_weight_diff: 0.14261611108149652\n",
      "sqrd_recon_error: 0.14729591836734693\n",
      "Epoch: 29\n",
      "current_weight_diff: 0.11733744113022662\n",
      "sqrd_recon_error: 0.17081632653061224\n"
     ]
    },
    {
     "data": {
      "application/vnd.jupyter.widget-view+json": {
       "model_id": "f71b9ad1f8f74d5c9a9acd35d98b6caf",
       "version_major": 2,
       "version_minor": 0
      },
      "text/plain": [
       "VBox(children=(Label(value='0.001 MB of 0.001 MB uploaded\\r'), FloatProgress(value=1.0, max=1.0)))"
      ]
     },
     "metadata": {},
     "output_type": "display_data"
    },
    {
     "name": "stderr",
     "output_type": "stream",
     "text": [
      "\u001b[34m\u001b[1mwandb\u001b[0m: \u001b[32m\u001b[41mERROR\u001b[0m Problem finishing run\n",
      "Traceback (most recent call last):\n",
      "  File \"/Library/Frameworks/Python.framework/Versions/3.10/lib/python3.10/site-packages/wandb/sdk/wandb_run.py\", line 2313, in _atexit_cleanup\n",
      "    self._on_finish()\n",
      "  File \"/Library/Frameworks/Python.framework/Versions/3.10/lib/python3.10/site-packages/wandb/sdk/wandb_run.py\", line 2567, in _on_finish\n",
      "    self._footer_file_pusher_status_info(\n",
      "  File \"/Library/Frameworks/Python.framework/Versions/3.10/lib/python3.10/site-packages/wandb/sdk/wandb_run.py\", line 3749, in _footer_file_pusher_status_info\n",
      "    Run._footer_single_run_file_pusher_status_info(\n",
      "  File \"/Library/Frameworks/Python.framework/Versions/3.10/lib/python3.10/site-packages/wandb/sdk/wandb_run.py\", line 3802, in _footer_single_run_file_pusher_status_info\n",
      "    printer.progress_close()\n",
      "  File \"/Library/Frameworks/Python.framework/Versions/3.10/lib/python3.10/site-packages/wandb/sdk/lib/printer.py\", line 292, in progress_close\n",
      "    self._progress.close()\n",
      "  File \"/Library/Frameworks/Python.framework/Versions/3.10/lib/python3.10/site-packages/wandb/sdk/lib/ipython.py\", line 128, in close\n",
      "    self._widget.close()\n",
      "  File \"/Users/lucasericsson/Library/Python/3.10/lib/python/site-packages/ipywidgets/widgets/widget.py\", line 500, in close\n",
      "    self.comm.close()\n",
      "  File \"/Users/lucasericsson/Library/Python/3.10/lib/python/site-packages/comm/base_comm.py\", line 109, in close\n",
      "    comm.get_comm_manager().unregister_comm(self)\n",
      "  File \"/Users/lucasericsson/Library/Python/3.10/lib/python/site-packages/comm/base_comm.py\", line 199, in unregister_comm\n",
      "    comm = self.comms.pop(comm.comm_id)\n",
      "KeyError: 'f71b9ad1f8f74d5c9a9acd35d98b6caf'\n",
      "\u001b[34m\u001b[1mwandb\u001b[0m: Agent Starting Run: 5rrh32qq with config:\n",
      "\u001b[34m\u001b[1mwandb\u001b[0m: \tepochs: 1\n",
      "\u001b[34m\u001b[1mwandb\u001b[0m: \thidden_units: 20\n",
      "\u001b[34m\u001b[1mwandb\u001b[0m: \tk: 10\n",
      "\u001b[34m\u001b[1mwandb\u001b[0m: \tminibatch: 100\n",
      "Failed to detect the name of this notebook, you can set it manually with the WANDB_NOTEBOOK_NAME environment variable to enable code saving.\n",
      "\u001b[34m\u001b[1mwandb\u001b[0m: \u001b[33mWARNING\u001b[0m Ignored wandb.init() arg project when running a sweep.\n"
     ]
    },
    {
     "data": {
      "text/html": [
       "Tracking run with wandb version 0.16.6"
      ],
      "text/plain": [
       "<IPython.core.display.HTML object>"
      ]
     },
     "metadata": {},
     "output_type": "display_data"
    },
    {
     "data": {
      "text/html": [
       "Run data is saved locally in <code>/Users/lucasericsson/repos/restricted-boltzmann-machine/wandb/run-20240409_013450-5rrh32qq</code>"
      ],
      "text/plain": [
       "<IPython.core.display.HTML object>"
      ]
     },
     "metadata": {},
     "output_type": "display_data"
    },
    {
     "data": {
      "text/html": [
       "Syncing run <strong><a href='https://wandb.ai/lucasericsson222/restricted_boltzmann_machine_sweep/runs/5rrh32qq' target=\"_blank\">fluent-sweep-37</a></strong> to <a href='https://wandb.ai/lucasericsson222/restricted_boltzmann_machine_sweep' target=\"_blank\">Weights & Biases</a> (<a href='https://wandb.me/run' target=\"_blank\">docs</a>)<br/>Sweep page: <a href='https://wandb.ai/lucasericsson222/restricted_boltzmann_machine_sweep/sweeps/r1b5058x' target=\"_blank\">https://wandb.ai/lucasericsson222/restricted_boltzmann_machine_sweep/sweeps/r1b5058x</a>"
      ],
      "text/plain": [
       "<IPython.core.display.HTML object>"
      ]
     },
     "metadata": {},
     "output_type": "display_data"
    },
    {
     "data": {
      "text/html": [
       " View project at <a href='https://wandb.ai/lucasericsson222/restricted_boltzmann_machine_sweep' target=\"_blank\">https://wandb.ai/lucasericsson222/restricted_boltzmann_machine_sweep</a>"
      ],
      "text/plain": [
       "<IPython.core.display.HTML object>"
      ]
     },
     "metadata": {},
     "output_type": "display_data"
    },
    {
     "data": {
      "text/html": [
       " View sweep at <a href='https://wandb.ai/lucasericsson222/restricted_boltzmann_machine_sweep/sweeps/r1b5058x' target=\"_blank\">https://wandb.ai/lucasericsson222/restricted_boltzmann_machine_sweep/sweeps/r1b5058x</a>"
      ],
      "text/plain": [
       "<IPython.core.display.HTML object>"
      ]
     },
     "metadata": {},
     "output_type": "display_data"
    },
    {
     "data": {
      "text/html": [
       " View run at <a href='https://wandb.ai/lucasericsson222/restricted_boltzmann_machine_sweep/runs/5rrh32qq' target=\"_blank\">https://wandb.ai/lucasericsson222/restricted_boltzmann_machine_sweep/runs/5rrh32qq</a>"
      ],
      "text/plain": [
       "<IPython.core.display.HTML object>"
      ]
     },
     "metadata": {},
     "output_type": "display_data"
    },
    {
     "name": "stdout",
     "output_type": "stream",
     "text": [
      "(60000, 784)\n",
      "Epoch: 0\n",
      "current_weight_diff: 48.48624088222083\n",
      "sqrd_recon_error: 4.595663265306122\n"
     ]
    },
    {
     "data": {
      "application/vnd.jupyter.widget-view+json": {
       "model_id": "86289e06bb8d4d648bf059f3195403e4",
       "version_major": 2,
       "version_minor": 0
      },
      "text/plain": [
       "VBox(children=(Label(value='0.001 MB of 0.004 MB uploaded\\r'), FloatProgress(value=0.2482876712328767, max=1.0…"
      ]
     },
     "metadata": {},
     "output_type": "display_data"
    },
    {
     "name": "stderr",
     "output_type": "stream",
     "text": [
      "\u001b[34m\u001b[1mwandb\u001b[0m: \u001b[32m\u001b[41mERROR\u001b[0m Problem finishing run\n",
      "Traceback (most recent call last):\n",
      "  File \"/Library/Frameworks/Python.framework/Versions/3.10/lib/python3.10/site-packages/wandb/sdk/wandb_run.py\", line 2313, in _atexit_cleanup\n",
      "    self._on_finish()\n",
      "  File \"/Library/Frameworks/Python.framework/Versions/3.10/lib/python3.10/site-packages/wandb/sdk/wandb_run.py\", line 2567, in _on_finish\n",
      "    self._footer_file_pusher_status_info(\n",
      "  File \"/Library/Frameworks/Python.framework/Versions/3.10/lib/python3.10/site-packages/wandb/sdk/wandb_run.py\", line 3749, in _footer_file_pusher_status_info\n",
      "    Run._footer_single_run_file_pusher_status_info(\n",
      "  File \"/Library/Frameworks/Python.framework/Versions/3.10/lib/python3.10/site-packages/wandb/sdk/wandb_run.py\", line 3802, in _footer_single_run_file_pusher_status_info\n",
      "    printer.progress_close()\n",
      "  File \"/Library/Frameworks/Python.framework/Versions/3.10/lib/python3.10/site-packages/wandb/sdk/lib/printer.py\", line 292, in progress_close\n",
      "    self._progress.close()\n",
      "  File \"/Library/Frameworks/Python.framework/Versions/3.10/lib/python3.10/site-packages/wandb/sdk/lib/ipython.py\", line 128, in close\n",
      "    self._widget.close()\n",
      "  File \"/Users/lucasericsson/Library/Python/3.10/lib/python/site-packages/ipywidgets/widgets/widget.py\", line 500, in close\n",
      "    self.comm.close()\n",
      "  File \"/Users/lucasericsson/Library/Python/3.10/lib/python/site-packages/comm/base_comm.py\", line 109, in close\n",
      "    comm.get_comm_manager().unregister_comm(self)\n",
      "  File \"/Users/lucasericsson/Library/Python/3.10/lib/python/site-packages/comm/base_comm.py\", line 199, in unregister_comm\n",
      "    comm = self.comms.pop(comm.comm_id)\n",
      "KeyError: '86289e06bb8d4d648bf059f3195403e4'\n",
      "\u001b[34m\u001b[1mwandb\u001b[0m: Agent Starting Run: 24hdctxy with config:\n",
      "\u001b[34m\u001b[1mwandb\u001b[0m: \tepochs: 3\n",
      "\u001b[34m\u001b[1mwandb\u001b[0m: \thidden_units: 200\n",
      "\u001b[34m\u001b[1mwandb\u001b[0m: \tk: 2\n",
      "\u001b[34m\u001b[1mwandb\u001b[0m: \tminibatch: 100\n",
      "Failed to detect the name of this notebook, you can set it manually with the WANDB_NOTEBOOK_NAME environment variable to enable code saving.\n",
      "\u001b[34m\u001b[1mwandb\u001b[0m: \u001b[33mWARNING\u001b[0m Ignored wandb.init() arg project when running a sweep.\n"
     ]
    },
    {
     "data": {
      "text/html": [
       "Tracking run with wandb version 0.16.6"
      ],
      "text/plain": [
       "<IPython.core.display.HTML object>"
      ]
     },
     "metadata": {},
     "output_type": "display_data"
    },
    {
     "data": {
      "text/html": [
       "Run data is saved locally in <code>/Users/lucasericsson/repos/restricted-boltzmann-machine/wandb/run-20240409_013501-24hdctxy</code>"
      ],
      "text/plain": [
       "<IPython.core.display.HTML object>"
      ]
     },
     "metadata": {},
     "output_type": "display_data"
    },
    {
     "data": {
      "text/html": [
       "Syncing run <strong><a href='https://wandb.ai/lucasericsson222/restricted_boltzmann_machine_sweep/runs/24hdctxy' target=\"_blank\">true-sweep-38</a></strong> to <a href='https://wandb.ai/lucasericsson222/restricted_boltzmann_machine_sweep' target=\"_blank\">Weights & Biases</a> (<a href='https://wandb.me/run' target=\"_blank\">docs</a>)<br/>Sweep page: <a href='https://wandb.ai/lucasericsson222/restricted_boltzmann_machine_sweep/sweeps/r1b5058x' target=\"_blank\">https://wandb.ai/lucasericsson222/restricted_boltzmann_machine_sweep/sweeps/r1b5058x</a>"
      ],
      "text/plain": [
       "<IPython.core.display.HTML object>"
      ]
     },
     "metadata": {},
     "output_type": "display_data"
    },
    {
     "data": {
      "text/html": [
       " View project at <a href='https://wandb.ai/lucasericsson222/restricted_boltzmann_machine_sweep' target=\"_blank\">https://wandb.ai/lucasericsson222/restricted_boltzmann_machine_sweep</a>"
      ],
      "text/plain": [
       "<IPython.core.display.HTML object>"
      ]
     },
     "metadata": {},
     "output_type": "display_data"
    },
    {
     "data": {
      "text/html": [
       " View sweep at <a href='https://wandb.ai/lucasericsson222/restricted_boltzmann_machine_sweep/sweeps/r1b5058x' target=\"_blank\">https://wandb.ai/lucasericsson222/restricted_boltzmann_machine_sweep/sweeps/r1b5058x</a>"
      ],
      "text/plain": [
       "<IPython.core.display.HTML object>"
      ]
     },
     "metadata": {},
     "output_type": "display_data"
    },
    {
     "data": {
      "text/html": [
       " View run at <a href='https://wandb.ai/lucasericsson222/restricted_boltzmann_machine_sweep/runs/24hdctxy' target=\"_blank\">https://wandb.ai/lucasericsson222/restricted_boltzmann_machine_sweep/runs/24hdctxy</a>"
      ],
      "text/plain": [
       "<IPython.core.display.HTML object>"
      ]
     },
     "metadata": {},
     "output_type": "display_data"
    },
    {
     "name": "stdout",
     "output_type": "stream",
     "text": [
      "(60000, 784)\n",
      "Epoch: 0\n",
      "current_weight_diff: 36.51109252711841\n",
      "sqrd_recon_error: 1.0884438775510206\n",
      "Epoch: 1\n",
      "current_weight_diff: 1.8860378431916451\n",
      "sqrd_recon_error: 0.48622448979591837\n",
      "Epoch: 2\n",
      "current_weight_diff: 2.062771648361779\n",
      "sqrd_recon_error: 0.3868494897959184\n"
     ]
    },
    {
     "data": {
      "application/vnd.jupyter.widget-view+json": {
       "model_id": "d058056a3d104a00a09a5b3337c8c71c",
       "version_major": 2,
       "version_minor": 0
      },
      "text/plain": [
       "VBox(children=(Label(value='0.001 MB of 0.001 MB uploaded\\r'), FloatProgress(value=1.0, max=1.0)))"
      ]
     },
     "metadata": {},
     "output_type": "display_data"
    },
    {
     "name": "stderr",
     "output_type": "stream",
     "text": [
      "\u001b[34m\u001b[1mwandb\u001b[0m: \u001b[32m\u001b[41mERROR\u001b[0m Problem finishing run\n",
      "Traceback (most recent call last):\n",
      "  File \"/Library/Frameworks/Python.framework/Versions/3.10/lib/python3.10/site-packages/wandb/sdk/wandb_run.py\", line 2313, in _atexit_cleanup\n",
      "    self._on_finish()\n",
      "  File \"/Library/Frameworks/Python.framework/Versions/3.10/lib/python3.10/site-packages/wandb/sdk/wandb_run.py\", line 2567, in _on_finish\n",
      "    self._footer_file_pusher_status_info(\n",
      "  File \"/Library/Frameworks/Python.framework/Versions/3.10/lib/python3.10/site-packages/wandb/sdk/wandb_run.py\", line 3749, in _footer_file_pusher_status_info\n",
      "    Run._footer_single_run_file_pusher_status_info(\n",
      "  File \"/Library/Frameworks/Python.framework/Versions/3.10/lib/python3.10/site-packages/wandb/sdk/wandb_run.py\", line 3802, in _footer_single_run_file_pusher_status_info\n",
      "    printer.progress_close()\n",
      "  File \"/Library/Frameworks/Python.framework/Versions/3.10/lib/python3.10/site-packages/wandb/sdk/lib/printer.py\", line 292, in progress_close\n",
      "    self._progress.close()\n",
      "  File \"/Library/Frameworks/Python.framework/Versions/3.10/lib/python3.10/site-packages/wandb/sdk/lib/ipython.py\", line 128, in close\n",
      "    self._widget.close()\n",
      "  File \"/Users/lucasericsson/Library/Python/3.10/lib/python/site-packages/ipywidgets/widgets/widget.py\", line 500, in close\n",
      "    self.comm.close()\n",
      "  File \"/Users/lucasericsson/Library/Python/3.10/lib/python/site-packages/comm/base_comm.py\", line 109, in close\n",
      "    comm.get_comm_manager().unregister_comm(self)\n",
      "  File \"/Users/lucasericsson/Library/Python/3.10/lib/python/site-packages/comm/base_comm.py\", line 199, in unregister_comm\n",
      "    comm = self.comms.pop(comm.comm_id)\n",
      "KeyError: 'd058056a3d104a00a09a5b3337c8c71c'\n",
      "\u001b[34m\u001b[1mwandb\u001b[0m: Agent Starting Run: slsxykzl with config:\n",
      "\u001b[34m\u001b[1mwandb\u001b[0m: \tepochs: 2\n",
      "\u001b[34m\u001b[1mwandb\u001b[0m: \thidden_units: 784\n",
      "\u001b[34m\u001b[1mwandb\u001b[0m: \tk: 10\n",
      "\u001b[34m\u001b[1mwandb\u001b[0m: \tminibatch: 100\n",
      "Failed to detect the name of this notebook, you can set it manually with the WANDB_NOTEBOOK_NAME environment variable to enable code saving.\n",
      "\u001b[34m\u001b[1mwandb\u001b[0m: \u001b[33mWARNING\u001b[0m Ignored wandb.init() arg project when running a sweep.\n"
     ]
    },
    {
     "data": {
      "text/html": [
       "Tracking run with wandb version 0.16.6"
      ],
      "text/plain": [
       "<IPython.core.display.HTML object>"
      ]
     },
     "metadata": {},
     "output_type": "display_data"
    },
    {
     "data": {
      "text/html": [
       "Run data is saved locally in <code>/Users/lucasericsson/repos/restricted-boltzmann-machine/wandb/run-20240409_013522-slsxykzl</code>"
      ],
      "text/plain": [
       "<IPython.core.display.HTML object>"
      ]
     },
     "metadata": {},
     "output_type": "display_data"
    },
    {
     "data": {
      "text/html": [
       "Syncing run <strong><a href='https://wandb.ai/lucasericsson222/restricted_boltzmann_machine_sweep/runs/slsxykzl' target=\"_blank\">apricot-sweep-39</a></strong> to <a href='https://wandb.ai/lucasericsson222/restricted_boltzmann_machine_sweep' target=\"_blank\">Weights & Biases</a> (<a href='https://wandb.me/run' target=\"_blank\">docs</a>)<br/>Sweep page: <a href='https://wandb.ai/lucasericsson222/restricted_boltzmann_machine_sweep/sweeps/r1b5058x' target=\"_blank\">https://wandb.ai/lucasericsson222/restricted_boltzmann_machine_sweep/sweeps/r1b5058x</a>"
      ],
      "text/plain": [
       "<IPython.core.display.HTML object>"
      ]
     },
     "metadata": {},
     "output_type": "display_data"
    },
    {
     "data": {
      "text/html": [
       " View project at <a href='https://wandb.ai/lucasericsson222/restricted_boltzmann_machine_sweep' target=\"_blank\">https://wandb.ai/lucasericsson222/restricted_boltzmann_machine_sweep</a>"
      ],
      "text/plain": [
       "<IPython.core.display.HTML object>"
      ]
     },
     "metadata": {},
     "output_type": "display_data"
    },
    {
     "data": {
      "text/html": [
       " View sweep at <a href='https://wandb.ai/lucasericsson222/restricted_boltzmann_machine_sweep/sweeps/r1b5058x' target=\"_blank\">https://wandb.ai/lucasericsson222/restricted_boltzmann_machine_sweep/sweeps/r1b5058x</a>"
      ],
      "text/plain": [
       "<IPython.core.display.HTML object>"
      ]
     },
     "metadata": {},
     "output_type": "display_data"
    },
    {
     "data": {
      "text/html": [
       " View run at <a href='https://wandb.ai/lucasericsson222/restricted_boltzmann_machine_sweep/runs/slsxykzl' target=\"_blank\">https://wandb.ai/lucasericsson222/restricted_boltzmann_machine_sweep/runs/slsxykzl</a>"
      ],
      "text/plain": [
       "<IPython.core.display.HTML object>"
      ]
     },
     "metadata": {},
     "output_type": "display_data"
    },
    {
     "name": "stdout",
     "output_type": "stream",
     "text": [
      "(60000, 784)\n",
      "Epoch: 0\n",
      "current_weight_diff: 9.61760799261447\n",
      "sqrd_recon_error: 0.29052295918367343\n",
      "Epoch: 1\n",
      "current_weight_diff: 3.064624151395417\n",
      "sqrd_recon_error: 0.2362627551020408\n"
     ]
    },
    {
     "data": {
      "application/vnd.jupyter.widget-view+json": {
       "model_id": "a2eccdf688a9480f979a0355bc1e3f39",
       "version_major": 2,
       "version_minor": 0
      },
      "text/plain": [
       "VBox(children=(Label(value='0.001 MB of 0.001 MB uploaded\\r'), FloatProgress(value=1.0, max=1.0)))"
      ]
     },
     "metadata": {},
     "output_type": "display_data"
    },
    {
     "name": "stderr",
     "output_type": "stream",
     "text": [
      "\u001b[34m\u001b[1mwandb\u001b[0m: \u001b[32m\u001b[41mERROR\u001b[0m Problem finishing run\n",
      "Traceback (most recent call last):\n",
      "  File \"/Library/Frameworks/Python.framework/Versions/3.10/lib/python3.10/site-packages/wandb/sdk/wandb_run.py\", line 2313, in _atexit_cleanup\n",
      "    self._on_finish()\n",
      "  File \"/Library/Frameworks/Python.framework/Versions/3.10/lib/python3.10/site-packages/wandb/sdk/wandb_run.py\", line 2567, in _on_finish\n",
      "    self._footer_file_pusher_status_info(\n",
      "  File \"/Library/Frameworks/Python.framework/Versions/3.10/lib/python3.10/site-packages/wandb/sdk/wandb_run.py\", line 3749, in _footer_file_pusher_status_info\n",
      "    Run._footer_single_run_file_pusher_status_info(\n",
      "  File \"/Library/Frameworks/Python.framework/Versions/3.10/lib/python3.10/site-packages/wandb/sdk/wandb_run.py\", line 3802, in _footer_single_run_file_pusher_status_info\n",
      "    printer.progress_close()\n",
      "  File \"/Library/Frameworks/Python.framework/Versions/3.10/lib/python3.10/site-packages/wandb/sdk/lib/printer.py\", line 292, in progress_close\n",
      "    self._progress.close()\n",
      "  File \"/Library/Frameworks/Python.framework/Versions/3.10/lib/python3.10/site-packages/wandb/sdk/lib/ipython.py\", line 128, in close\n",
      "    self._widget.close()\n",
      "  File \"/Users/lucasericsson/Library/Python/3.10/lib/python/site-packages/ipywidgets/widgets/widget.py\", line 500, in close\n",
      "    self.comm.close()\n",
      "  File \"/Users/lucasericsson/Library/Python/3.10/lib/python/site-packages/comm/base_comm.py\", line 109, in close\n",
      "    comm.get_comm_manager().unregister_comm(self)\n",
      "  File \"/Users/lucasericsson/Library/Python/3.10/lib/python/site-packages/comm/base_comm.py\", line 199, in unregister_comm\n",
      "    comm = self.comms.pop(comm.comm_id)\n",
      "KeyError: 'a2eccdf688a9480f979a0355bc1e3f39'\n",
      "\u001b[34m\u001b[1mwandb\u001b[0m: Agent Starting Run: bswronhi with config:\n",
      "\u001b[34m\u001b[1mwandb\u001b[0m: \tepochs: 3\n",
      "\u001b[34m\u001b[1mwandb\u001b[0m: \thidden_units: 20\n",
      "\u001b[34m\u001b[1mwandb\u001b[0m: \tk: 3\n",
      "\u001b[34m\u001b[1mwandb\u001b[0m: \tminibatch: 200\n",
      "Failed to detect the name of this notebook, you can set it manually with the WANDB_NOTEBOOK_NAME environment variable to enable code saving.\n",
      "\u001b[34m\u001b[1mwandb\u001b[0m: \u001b[33mWARNING\u001b[0m Ignored wandb.init() arg project when running a sweep.\n"
     ]
    },
    {
     "data": {
      "text/html": [
       "Tracking run with wandb version 0.16.6"
      ],
      "text/plain": [
       "<IPython.core.display.HTML object>"
      ]
     },
     "metadata": {},
     "output_type": "display_data"
    },
    {
     "data": {
      "text/html": [
       "Run data is saved locally in <code>/Users/lucasericsson/repos/restricted-boltzmann-machine/wandb/run-20240409_013612-bswronhi</code>"
      ],
      "text/plain": [
       "<IPython.core.display.HTML object>"
      ]
     },
     "metadata": {},
     "output_type": "display_data"
    },
    {
     "data": {
      "text/html": [
       "Syncing run <strong><a href='https://wandb.ai/lucasericsson222/restricted_boltzmann_machine_sweep/runs/bswronhi' target=\"_blank\">atomic-sweep-40</a></strong> to <a href='https://wandb.ai/lucasericsson222/restricted_boltzmann_machine_sweep' target=\"_blank\">Weights & Biases</a> (<a href='https://wandb.me/run' target=\"_blank\">docs</a>)<br/>Sweep page: <a href='https://wandb.ai/lucasericsson222/restricted_boltzmann_machine_sweep/sweeps/r1b5058x' target=\"_blank\">https://wandb.ai/lucasericsson222/restricted_boltzmann_machine_sweep/sweeps/r1b5058x</a>"
      ],
      "text/plain": [
       "<IPython.core.display.HTML object>"
      ]
     },
     "metadata": {},
     "output_type": "display_data"
    },
    {
     "data": {
      "text/html": [
       " View project at <a href='https://wandb.ai/lucasericsson222/restricted_boltzmann_machine_sweep' target=\"_blank\">https://wandb.ai/lucasericsson222/restricted_boltzmann_machine_sweep</a>"
      ],
      "text/plain": [
       "<IPython.core.display.HTML object>"
      ]
     },
     "metadata": {},
     "output_type": "display_data"
    },
    {
     "data": {
      "text/html": [
       " View sweep at <a href='https://wandb.ai/lucasericsson222/restricted_boltzmann_machine_sweep/sweeps/r1b5058x' target=\"_blank\">https://wandb.ai/lucasericsson222/restricted_boltzmann_machine_sweep/sweeps/r1b5058x</a>"
      ],
      "text/plain": [
       "<IPython.core.display.HTML object>"
      ]
     },
     "metadata": {},
     "output_type": "display_data"
    },
    {
     "data": {
      "text/html": [
       " View run at <a href='https://wandb.ai/lucasericsson222/restricted_boltzmann_machine_sweep/runs/bswronhi' target=\"_blank\">https://wandb.ai/lucasericsson222/restricted_boltzmann_machine_sweep/runs/bswronhi</a>"
      ],
      "text/plain": [
       "<IPython.core.display.HTML object>"
      ]
     },
     "metadata": {},
     "output_type": "display_data"
    },
    {
     "name": "stdout",
     "output_type": "stream",
     "text": [
      "(60000, 784)\n",
      "Epoch: 0\n",
      "current_weight_diff: 53.75088234334857\n",
      "sqrd_recon_error: 6.8633354591836735\n",
      "Epoch: 1\n",
      "current_weight_diff: 0.6349473315604475\n",
      "sqrd_recon_error: 4.694719387755102\n",
      "Epoch: 2\n",
      "current_weight_diff: 0.1869030292693937\n",
      "sqrd_recon_error: 3.2862882653061223\n"
     ]
    },
    {
     "data": {
      "application/vnd.jupyter.widget-view+json": {
       "model_id": "cf6b566b61f94808bae7e31fcef95566",
       "version_major": 2,
       "version_minor": 0
      },
      "text/plain": [
       "VBox(children=(Label(value='0.001 MB of 0.001 MB uploaded\\r'), FloatProgress(value=1.0, max=1.0)))"
      ]
     },
     "metadata": {},
     "output_type": "display_data"
    },
    {
     "name": "stderr",
     "output_type": "stream",
     "text": [
      "\u001b[34m\u001b[1mwandb\u001b[0m: \u001b[32m\u001b[41mERROR\u001b[0m Problem finishing run\n",
      "Traceback (most recent call last):\n",
      "  File \"/Library/Frameworks/Python.framework/Versions/3.10/lib/python3.10/site-packages/wandb/sdk/wandb_run.py\", line 2313, in _atexit_cleanup\n",
      "    self._on_finish()\n",
      "  File \"/Library/Frameworks/Python.framework/Versions/3.10/lib/python3.10/site-packages/wandb/sdk/wandb_run.py\", line 2567, in _on_finish\n",
      "    self._footer_file_pusher_status_info(\n",
      "  File \"/Library/Frameworks/Python.framework/Versions/3.10/lib/python3.10/site-packages/wandb/sdk/wandb_run.py\", line 3749, in _footer_file_pusher_status_info\n",
      "    Run._footer_single_run_file_pusher_status_info(\n",
      "  File \"/Library/Frameworks/Python.framework/Versions/3.10/lib/python3.10/site-packages/wandb/sdk/wandb_run.py\", line 3802, in _footer_single_run_file_pusher_status_info\n",
      "    printer.progress_close()\n",
      "  File \"/Library/Frameworks/Python.framework/Versions/3.10/lib/python3.10/site-packages/wandb/sdk/lib/printer.py\", line 292, in progress_close\n",
      "    self._progress.close()\n",
      "  File \"/Library/Frameworks/Python.framework/Versions/3.10/lib/python3.10/site-packages/wandb/sdk/lib/ipython.py\", line 128, in close\n",
      "    self._widget.close()\n",
      "  File \"/Users/lucasericsson/Library/Python/3.10/lib/python/site-packages/ipywidgets/widgets/widget.py\", line 500, in close\n",
      "    self.comm.close()\n",
      "  File \"/Users/lucasericsson/Library/Python/3.10/lib/python/site-packages/comm/base_comm.py\", line 109, in close\n",
      "    comm.get_comm_manager().unregister_comm(self)\n",
      "  File \"/Users/lucasericsson/Library/Python/3.10/lib/python/site-packages/comm/base_comm.py\", line 199, in unregister_comm\n",
      "    comm = self.comms.pop(comm.comm_id)\n",
      "KeyError: 'cf6b566b61f94808bae7e31fcef95566'\n",
      "\u001b[34m\u001b[1mwandb\u001b[0m: Agent Starting Run: m01cwqog with config:\n",
      "\u001b[34m\u001b[1mwandb\u001b[0m: \tepochs: 20\n",
      "\u001b[34m\u001b[1mwandb\u001b[0m: \thidden_units: 784\n",
      "\u001b[34m\u001b[1mwandb\u001b[0m: \tk: 2\n",
      "\u001b[34m\u001b[1mwandb\u001b[0m: \tminibatch: 50\n",
      "Failed to detect the name of this notebook, you can set it manually with the WANDB_NOTEBOOK_NAME environment variable to enable code saving.\n",
      "\u001b[34m\u001b[1mwandb\u001b[0m: \u001b[33mWARNING\u001b[0m Ignored wandb.init() arg project when running a sweep.\n"
     ]
    },
    {
     "data": {
      "text/html": [
       "Tracking run with wandb version 0.16.6"
      ],
      "text/plain": [
       "<IPython.core.display.HTML object>"
      ]
     },
     "metadata": {},
     "output_type": "display_data"
    },
    {
     "data": {
      "text/html": [
       "Run data is saved locally in <code>/Users/lucasericsson/repos/restricted-boltzmann-machine/wandb/run-20240409_014103-m01cwqog</code>"
      ],
      "text/plain": [
       "<IPython.core.display.HTML object>"
      ]
     },
     "metadata": {},
     "output_type": "display_data"
    },
    {
     "data": {
      "text/html": [
       "Syncing run <strong><a href='https://wandb.ai/lucasericsson222/restricted_boltzmann_machine_sweep/runs/m01cwqog' target=\"_blank\">olive-sweep-41</a></strong> to <a href='https://wandb.ai/lucasericsson222/restricted_boltzmann_machine_sweep' target=\"_blank\">Weights & Biases</a> (<a href='https://wandb.me/run' target=\"_blank\">docs</a>)<br/>Sweep page: <a href='https://wandb.ai/lucasericsson222/restricted_boltzmann_machine_sweep/sweeps/r1b5058x' target=\"_blank\">https://wandb.ai/lucasericsson222/restricted_boltzmann_machine_sweep/sweeps/r1b5058x</a>"
      ],
      "text/plain": [
       "<IPython.core.display.HTML object>"
      ]
     },
     "metadata": {},
     "output_type": "display_data"
    },
    {
     "data": {
      "text/html": [
       " View project at <a href='https://wandb.ai/lucasericsson222/restricted_boltzmann_machine_sweep' target=\"_blank\">https://wandb.ai/lucasericsson222/restricted_boltzmann_machine_sweep</a>"
      ],
      "text/plain": [
       "<IPython.core.display.HTML object>"
      ]
     },
     "metadata": {},
     "output_type": "display_data"
    },
    {
     "data": {
      "text/html": [
       " View sweep at <a href='https://wandb.ai/lucasericsson222/restricted_boltzmann_machine_sweep/sweeps/r1b5058x' target=\"_blank\">https://wandb.ai/lucasericsson222/restricted_boltzmann_machine_sweep/sweeps/r1b5058x</a>"
      ],
      "text/plain": [
       "<IPython.core.display.HTML object>"
      ]
     },
     "metadata": {},
     "output_type": "display_data"
    },
    {
     "data": {
      "text/html": [
       " View run at <a href='https://wandb.ai/lucasericsson222/restricted_boltzmann_machine_sweep/runs/m01cwqog' target=\"_blank\">https://wandb.ai/lucasericsson222/restricted_boltzmann_machine_sweep/runs/m01cwqog</a>"
      ],
      "text/plain": [
       "<IPython.core.display.HTML object>"
      ]
     },
     "metadata": {},
     "output_type": "display_data"
    },
    {
     "name": "stdout",
     "output_type": "stream",
     "text": [
      "(60000, 784)\n",
      "Epoch: 0\n",
      "current_weight_diff: 42.77105290294928\n",
      "sqrd_recon_error: 0.3014795918367347\n",
      "Epoch: 1\n",
      "current_weight_diff: 3.4228186991667777\n",
      "sqrd_recon_error: 0.23900510204081635\n",
      "Epoch: 2\n",
      "current_weight_diff: 82.99439924265806\n",
      "sqrd_recon_error: 0.20323979591836736\n",
      "Epoch: 3\n",
      "current_weight_diff: 1.3582643967991113\n",
      "sqrd_recon_error: 0.16142857142857142\n",
      "Epoch: 4\n",
      "current_weight_diff: 1.0956149325039142\n",
      "sqrd_recon_error: 0.14247448979591837\n",
      "Epoch: 5\n",
      "current_weight_diff: 0.8978771376677142\n",
      "sqrd_recon_error: 0.13168367346938775\n",
      "Epoch: 6\n",
      "current_weight_diff: 0.8240363674246127\n",
      "sqrd_recon_error: 0.15400510204081633\n",
      "Epoch: 7\n",
      "current_weight_diff: 0.7651435916221706\n",
      "sqrd_recon_error: 0.1313265306122449\n",
      "Epoch: 8\n",
      "current_weight_diff: 10.456901663653587\n",
      "sqrd_recon_error: 0.125765306122449\n",
      "Epoch: 9\n",
      "current_weight_diff: 0.8419853051403066\n",
      "sqrd_recon_error: 0.11053571428571429\n",
      "Epoch: 10\n",
      "current_weight_diff: 0.5431173423490032\n",
      "sqrd_recon_error: 0.09698979591836734\n",
      "Epoch: 11\n",
      "current_weight_diff: 0.6729108758497749\n",
      "sqrd_recon_error: 0.10043367346938777\n",
      "Epoch: 12\n",
      "current_weight_diff: 13.447660465380626\n",
      "sqrd_recon_error: 0.11278061224489797\n",
      "Epoch: 13\n",
      "current_weight_diff: 0.7697572984005008\n",
      "sqrd_recon_error: 0.1084438775510204\n",
      "Epoch: 14\n",
      "current_weight_diff: 0.5709010723304181\n",
      "sqrd_recon_error: 0.11375\n",
      "Epoch: 15\n",
      "current_weight_diff: 0.5227375005657919\n",
      "sqrd_recon_error: 0.0935204081632653\n",
      "Epoch: 16\n",
      "current_weight_diff: 263.245365213801\n",
      "sqrd_recon_error: 0.0874234693877551\n",
      "Epoch: 17\n",
      "current_weight_diff: 0.42933052503711583\n",
      "sqrd_recon_error: 0.09068877551020409\n",
      "Epoch: 18\n",
      "current_weight_diff: 0.4687073015984305\n",
      "sqrd_recon_error: 0.09645408163265307\n",
      "Epoch: 19\n",
      "current_weight_diff: 0.3719292842138801\n",
      "sqrd_recon_error: 0.08956632653061224\n"
     ]
    },
    {
     "data": {
      "application/vnd.jupyter.widget-view+json": {
       "model_id": "26b6d3bdafa64685bb94ebb7d6b837c3",
       "version_major": 2,
       "version_minor": 0
      },
      "text/plain": [
       "VBox(children=(Label(value='0.001 MB of 0.005 MB uploaded\\r'), FloatProgress(value=0.17698343504795117, max=1.…"
      ]
     },
     "metadata": {},
     "output_type": "display_data"
    },
    {
     "name": "stderr",
     "output_type": "stream",
     "text": [
      "\u001b[34m\u001b[1mwandb\u001b[0m: \u001b[32m\u001b[41mERROR\u001b[0m Problem finishing run\n",
      "Traceback (most recent call last):\n",
      "  File \"/Library/Frameworks/Python.framework/Versions/3.10/lib/python3.10/site-packages/wandb/sdk/wandb_run.py\", line 2313, in _atexit_cleanup\n",
      "    self._on_finish()\n",
      "  File \"/Library/Frameworks/Python.framework/Versions/3.10/lib/python3.10/site-packages/wandb/sdk/wandb_run.py\", line 2567, in _on_finish\n",
      "    self._footer_file_pusher_status_info(\n",
      "  File \"/Library/Frameworks/Python.framework/Versions/3.10/lib/python3.10/site-packages/wandb/sdk/wandb_run.py\", line 3749, in _footer_file_pusher_status_info\n",
      "    Run._footer_single_run_file_pusher_status_info(\n",
      "  File \"/Library/Frameworks/Python.framework/Versions/3.10/lib/python3.10/site-packages/wandb/sdk/wandb_run.py\", line 3802, in _footer_single_run_file_pusher_status_info\n",
      "    printer.progress_close()\n",
      "  File \"/Library/Frameworks/Python.framework/Versions/3.10/lib/python3.10/site-packages/wandb/sdk/lib/printer.py\", line 292, in progress_close\n",
      "    self._progress.close()\n",
      "  File \"/Library/Frameworks/Python.framework/Versions/3.10/lib/python3.10/site-packages/wandb/sdk/lib/ipython.py\", line 128, in close\n",
      "    self._widget.close()\n",
      "  File \"/Users/lucasericsson/Library/Python/3.10/lib/python/site-packages/ipywidgets/widgets/widget.py\", line 500, in close\n",
      "    self.comm.close()\n",
      "  File \"/Users/lucasericsson/Library/Python/3.10/lib/python/site-packages/comm/base_comm.py\", line 109, in close\n",
      "    comm.get_comm_manager().unregister_comm(self)\n",
      "  File \"/Users/lucasericsson/Library/Python/3.10/lib/python/site-packages/comm/base_comm.py\", line 199, in unregister_comm\n",
      "    comm = self.comms.pop(comm.comm_id)\n",
      "KeyError: '26b6d3bdafa64685bb94ebb7d6b837c3'\n",
      "\u001b[34m\u001b[1mwandb\u001b[0m: Agent Starting Run: djiba8wc with config:\n",
      "\u001b[34m\u001b[1mwandb\u001b[0m: \tepochs: 30\n",
      "\u001b[34m\u001b[1mwandb\u001b[0m: \thidden_units: 300\n",
      "\u001b[34m\u001b[1mwandb\u001b[0m: \tk: 1\n",
      "\u001b[34m\u001b[1mwandb\u001b[0m: \tminibatch: 100\n",
      "Failed to detect the name of this notebook, you can set it manually with the WANDB_NOTEBOOK_NAME environment variable to enable code saving.\n",
      "\u001b[34m\u001b[1mwandb\u001b[0m: \u001b[33mWARNING\u001b[0m Ignored wandb.init() arg project when running a sweep.\n"
     ]
    },
    {
     "data": {
      "text/html": [
       "Tracking run with wandb version 0.16.6"
      ],
      "text/plain": [
       "<IPython.core.display.HTML object>"
      ]
     },
     "metadata": {},
     "output_type": "display_data"
    },
    {
     "data": {
      "text/html": [
       "Run data is saved locally in <code>/Users/lucasericsson/repos/restricted-boltzmann-machine/wandb/run-20240409_015124-djiba8wc</code>"
      ],
      "text/plain": [
       "<IPython.core.display.HTML object>"
      ]
     },
     "metadata": {},
     "output_type": "display_data"
    },
    {
     "data": {
      "text/html": [
       "Syncing run <strong><a href='https://wandb.ai/lucasericsson222/restricted_boltzmann_machine_sweep/runs/djiba8wc' target=\"_blank\">astral-sweep-42</a></strong> to <a href='https://wandb.ai/lucasericsson222/restricted_boltzmann_machine_sweep' target=\"_blank\">Weights & Biases</a> (<a href='https://wandb.me/run' target=\"_blank\">docs</a>)<br/>Sweep page: <a href='https://wandb.ai/lucasericsson222/restricted_boltzmann_machine_sweep/sweeps/r1b5058x' target=\"_blank\">https://wandb.ai/lucasericsson222/restricted_boltzmann_machine_sweep/sweeps/r1b5058x</a>"
      ],
      "text/plain": [
       "<IPython.core.display.HTML object>"
      ]
     },
     "metadata": {},
     "output_type": "display_data"
    },
    {
     "data": {
      "text/html": [
       " View project at <a href='https://wandb.ai/lucasericsson222/restricted_boltzmann_machine_sweep' target=\"_blank\">https://wandb.ai/lucasericsson222/restricted_boltzmann_machine_sweep</a>"
      ],
      "text/plain": [
       "<IPython.core.display.HTML object>"
      ]
     },
     "metadata": {},
     "output_type": "display_data"
    },
    {
     "data": {
      "text/html": [
       " View sweep at <a href='https://wandb.ai/lucasericsson222/restricted_boltzmann_machine_sweep/sweeps/r1b5058x' target=\"_blank\">https://wandb.ai/lucasericsson222/restricted_boltzmann_machine_sweep/sweeps/r1b5058x</a>"
      ],
      "text/plain": [
       "<IPython.core.display.HTML object>"
      ]
     },
     "metadata": {},
     "output_type": "display_data"
    },
    {
     "data": {
      "text/html": [
       " View run at <a href='https://wandb.ai/lucasericsson222/restricted_boltzmann_machine_sweep/runs/djiba8wc' target=\"_blank\">https://wandb.ai/lucasericsson222/restricted_boltzmann_machine_sweep/runs/djiba8wc</a>"
      ],
      "text/plain": [
       "<IPython.core.display.HTML object>"
      ]
     },
     "metadata": {},
     "output_type": "display_data"
    },
    {
     "name": "stdout",
     "output_type": "stream",
     "text": [
      "(60000, 784)\n",
      "Epoch: 0\n",
      "current_weight_diff: 27.185971690093794\n",
      "sqrd_recon_error: 0.5088010204081632\n",
      "Epoch: 1\n",
      "current_weight_diff: 1.5877103370014172\n",
      "sqrd_recon_error: 0.3211607142857143\n",
      "Epoch: 2\n",
      "current_weight_diff: 3.0141005623645785\n",
      "sqrd_recon_error: 0.2426530612244898\n",
      "Epoch: 3\n",
      "current_weight_diff: 0.9923680670188981\n",
      "sqrd_recon_error: 0.20377551020408163\n",
      "Epoch: 4\n",
      "current_weight_diff: 1.2034552527673814\n",
      "sqrd_recon_error: 0.1767219387755102\n",
      "Epoch: 5\n",
      "current_weight_diff: 0.5325063067218937\n",
      "sqrd_recon_error: 0.15978316326530612\n",
      "Epoch: 6\n",
      "current_weight_diff: 0.7019044305253674\n",
      "sqrd_recon_error: 0.1507908163265306\n",
      "Epoch: 7\n",
      "current_weight_diff: 0.356764240220222\n",
      "sqrd_recon_error: 0.1480357142857143\n",
      "Epoch: 8\n",
      "current_weight_diff: 0.42942400375944023\n",
      "sqrd_recon_error: 0.1447704081632653\n",
      "Epoch: 9\n",
      "current_weight_diff: 0.30094053972696144\n",
      "sqrd_recon_error: 0.14846938775510204\n",
      "Epoch: 10\n",
      "current_weight_diff: 0.30672338710021535\n",
      "sqrd_recon_error: 0.12622448979591838\n",
      "Epoch: 11\n",
      "current_weight_diff: 0.25409933471200896\n",
      "sqrd_recon_error: 0.14400510204081632\n",
      "Epoch: 12\n",
      "current_weight_diff: 0.21554412015390573\n",
      "sqrd_recon_error: 0.11561224489795918\n",
      "Epoch: 13\n",
      "current_weight_diff: 0.22940918009846603\n",
      "sqrd_recon_error: 0.1088265306122449\n",
      "Epoch: 14\n",
      "current_weight_diff: 0.26469021583545554\n",
      "sqrd_recon_error: 0.12792091836734693\n",
      "Epoch: 15\n",
      "current_weight_diff: 0.20022035430836452\n",
      "sqrd_recon_error: 0.12045918367346939\n",
      "Epoch: 16\n",
      "current_weight_diff: 0.16892220146426887\n",
      "sqrd_recon_error: 0.11811224489795918\n",
      "Epoch: 17\n",
      "current_weight_diff: 0.1989292281508272\n",
      "sqrd_recon_error: 0.12785714285714286\n",
      "Epoch: 18\n",
      "current_weight_diff: 0.16527928143148063\n",
      "sqrd_recon_error: 0.10701530612244899\n",
      "Epoch: 19\n",
      "current_weight_diff: 0.21028645888362918\n",
      "sqrd_recon_error: 0.10252551020408163\n",
      "Epoch: 20\n",
      "current_weight_diff: 0.15950172276627955\n",
      "sqrd_recon_error: 0.104375\n",
      "Epoch: 21\n",
      "current_weight_diff: 0.235402244636008\n",
      "sqrd_recon_error: 0.1053954081632653\n",
      "Epoch: 22\n",
      "current_weight_diff: 0.152402673666595\n",
      "sqrd_recon_error: 0.09709183673469388\n",
      "Epoch: 23\n",
      "current_weight_diff: 0.16665369577688405\n",
      "sqrd_recon_error: 0.09496173469387756\n",
      "Epoch: 24\n",
      "current_weight_diff: 0.19331167493009385\n",
      "sqrd_recon_error: 0.09770408163265307\n",
      "Epoch: 25\n",
      "current_weight_diff: 0.21847262595049047\n",
      "sqrd_recon_error: 0.11838010204081632\n",
      "Epoch: 26\n",
      "current_weight_diff: 0.14760753670937238\n",
      "sqrd_recon_error: 0.10289540816326531\n",
      "Epoch: 27\n",
      "current_weight_diff: 5.110832902305433\n",
      "sqrd_recon_error: 0.10994897959183673\n",
      "Epoch: 28\n",
      "current_weight_diff: 0.13197370812202178\n",
      "sqrd_recon_error: 0.09215561224489796\n",
      "Epoch: 29\n",
      "current_weight_diff: 0.1764220052324194\n",
      "sqrd_recon_error: 0.10026785714285713\n"
     ]
    },
    {
     "data": {
      "application/vnd.jupyter.widget-view+json": {
       "model_id": "40fb347413f7483c80b1c7d8aa1872f3",
       "version_major": 2,
       "version_minor": 0
      },
      "text/plain": [
       "VBox(children=(Label(value='0.001 MB of 0.006 MB uploaded\\r'), FloatProgress(value=0.1641332470892626, max=1.0…"
      ]
     },
     "metadata": {},
     "output_type": "display_data"
    },
    {
     "name": "stderr",
     "output_type": "stream",
     "text": [
      "\u001b[34m\u001b[1mwandb\u001b[0m: \u001b[32m\u001b[41mERROR\u001b[0m Problem finishing run\n",
      "Traceback (most recent call last):\n",
      "  File \"/Library/Frameworks/Python.framework/Versions/3.10/lib/python3.10/site-packages/wandb/sdk/wandb_run.py\", line 2313, in _atexit_cleanup\n",
      "    self._on_finish()\n",
      "  File \"/Library/Frameworks/Python.framework/Versions/3.10/lib/python3.10/site-packages/wandb/sdk/wandb_run.py\", line 2567, in _on_finish\n",
      "    self._footer_file_pusher_status_info(\n",
      "  File \"/Library/Frameworks/Python.framework/Versions/3.10/lib/python3.10/site-packages/wandb/sdk/wandb_run.py\", line 3749, in _footer_file_pusher_status_info\n",
      "    Run._footer_single_run_file_pusher_status_info(\n",
      "  File \"/Library/Frameworks/Python.framework/Versions/3.10/lib/python3.10/site-packages/wandb/sdk/wandb_run.py\", line 3802, in _footer_single_run_file_pusher_status_info\n",
      "    printer.progress_close()\n",
      "  File \"/Library/Frameworks/Python.framework/Versions/3.10/lib/python3.10/site-packages/wandb/sdk/lib/printer.py\", line 292, in progress_close\n",
      "    self._progress.close()\n",
      "  File \"/Library/Frameworks/Python.framework/Versions/3.10/lib/python3.10/site-packages/wandb/sdk/lib/ipython.py\", line 128, in close\n",
      "    self._widget.close()\n",
      "  File \"/Users/lucasericsson/Library/Python/3.10/lib/python/site-packages/ipywidgets/widgets/widget.py\", line 500, in close\n",
      "    self.comm.close()\n",
      "  File \"/Users/lucasericsson/Library/Python/3.10/lib/python/site-packages/comm/base_comm.py\", line 109, in close\n",
      "    comm.get_comm_manager().unregister_comm(self)\n",
      "  File \"/Users/lucasericsson/Library/Python/3.10/lib/python/site-packages/comm/base_comm.py\", line 199, in unregister_comm\n",
      "    comm = self.comms.pop(comm.comm_id)\n",
      "KeyError: '40fb347413f7483c80b1c7d8aa1872f3'\n",
      "\u001b[34m\u001b[1mwandb\u001b[0m: Agent Starting Run: 16is4vch with config:\n",
      "\u001b[34m\u001b[1mwandb\u001b[0m: \tepochs: 1\n",
      "\u001b[34m\u001b[1mwandb\u001b[0m: \thidden_units: 1000\n",
      "\u001b[34m\u001b[1mwandb\u001b[0m: \tk: 1\n",
      "\u001b[34m\u001b[1mwandb\u001b[0m: \tminibatch: 50\n",
      "Failed to detect the name of this notebook, you can set it manually with the WANDB_NOTEBOOK_NAME environment variable to enable code saving.\n",
      "\u001b[34m\u001b[1mwandb\u001b[0m: \u001b[33mWARNING\u001b[0m Ignored wandb.init() arg project when running a sweep.\n"
     ]
    },
    {
     "data": {
      "text/html": [
       "Tracking run with wandb version 0.16.6"
      ],
      "text/plain": [
       "<IPython.core.display.HTML object>"
      ]
     },
     "metadata": {},
     "output_type": "display_data"
    },
    {
     "data": {
      "text/html": [
       "Run data is saved locally in <code>/Users/lucasericsson/repos/restricted-boltzmann-machine/wandb/run-20240409_015821-16is4vch</code>"
      ],
      "text/plain": [
       "<IPython.core.display.HTML object>"
      ]
     },
     "metadata": {},
     "output_type": "display_data"
    },
    {
     "data": {
      "text/html": [
       "Syncing run <strong><a href='https://wandb.ai/lucasericsson222/restricted_boltzmann_machine_sweep/runs/16is4vch' target=\"_blank\">different-sweep-43</a></strong> to <a href='https://wandb.ai/lucasericsson222/restricted_boltzmann_machine_sweep' target=\"_blank\">Weights & Biases</a> (<a href='https://wandb.me/run' target=\"_blank\">docs</a>)<br/>Sweep page: <a href='https://wandb.ai/lucasericsson222/restricted_boltzmann_machine_sweep/sweeps/r1b5058x' target=\"_blank\">https://wandb.ai/lucasericsson222/restricted_boltzmann_machine_sweep/sweeps/r1b5058x</a>"
      ],
      "text/plain": [
       "<IPython.core.display.HTML object>"
      ]
     },
     "metadata": {},
     "output_type": "display_data"
    },
    {
     "data": {
      "text/html": [
       " View project at <a href='https://wandb.ai/lucasericsson222/restricted_boltzmann_machine_sweep' target=\"_blank\">https://wandb.ai/lucasericsson222/restricted_boltzmann_machine_sweep</a>"
      ],
      "text/plain": [
       "<IPython.core.display.HTML object>"
      ]
     },
     "metadata": {},
     "output_type": "display_data"
    },
    {
     "data": {
      "text/html": [
       " View sweep at <a href='https://wandb.ai/lucasericsson222/restricted_boltzmann_machine_sweep/sweeps/r1b5058x' target=\"_blank\">https://wandb.ai/lucasericsson222/restricted_boltzmann_machine_sweep/sweeps/r1b5058x</a>"
      ],
      "text/plain": [
       "<IPython.core.display.HTML object>"
      ]
     },
     "metadata": {},
     "output_type": "display_data"
    },
    {
     "data": {
      "text/html": [
       " View run at <a href='https://wandb.ai/lucasericsson222/restricted_boltzmann_machine_sweep/runs/16is4vch' target=\"_blank\">https://wandb.ai/lucasericsson222/restricted_boltzmann_machine_sweep/runs/16is4vch</a>"
      ],
      "text/plain": [
       "<IPython.core.display.HTML object>"
      ]
     },
     "metadata": {},
     "output_type": "display_data"
    },
    {
     "name": "stdout",
     "output_type": "stream",
     "text": [
      "(60000, 784)\n",
      "Epoch: 0\n",
      "current_weight_diff: 13.332257081506814\n",
      "sqrd_recon_error: 0.28622448979591836\n"
     ]
    },
    {
     "data": {
      "application/vnd.jupyter.widget-view+json": {
       "model_id": "7f0cb8a4ce0d41fe888c30bfc67e1cac",
       "version_major": 2,
       "version_minor": 0
      },
      "text/plain": [
       "VBox(children=(Label(value='0.001 MB of 0.001 MB uploaded\\r'), FloatProgress(value=1.0, max=1.0)))"
      ]
     },
     "metadata": {},
     "output_type": "display_data"
    },
    {
     "name": "stderr",
     "output_type": "stream",
     "text": [
      "\u001b[34m\u001b[1mwandb\u001b[0m: \u001b[32m\u001b[41mERROR\u001b[0m Problem finishing run\n",
      "Traceback (most recent call last):\n",
      "  File \"/Library/Frameworks/Python.framework/Versions/3.10/lib/python3.10/site-packages/wandb/sdk/wandb_run.py\", line 2313, in _atexit_cleanup\n",
      "    self._on_finish()\n",
      "  File \"/Library/Frameworks/Python.framework/Versions/3.10/lib/python3.10/site-packages/wandb/sdk/wandb_run.py\", line 2567, in _on_finish\n",
      "    self._footer_file_pusher_status_info(\n",
      "  File \"/Library/Frameworks/Python.framework/Versions/3.10/lib/python3.10/site-packages/wandb/sdk/wandb_run.py\", line 3749, in _footer_file_pusher_status_info\n",
      "    Run._footer_single_run_file_pusher_status_info(\n",
      "  File \"/Library/Frameworks/Python.framework/Versions/3.10/lib/python3.10/site-packages/wandb/sdk/wandb_run.py\", line 3802, in _footer_single_run_file_pusher_status_info\n",
      "    printer.progress_close()\n",
      "  File \"/Library/Frameworks/Python.framework/Versions/3.10/lib/python3.10/site-packages/wandb/sdk/lib/printer.py\", line 292, in progress_close\n",
      "    self._progress.close()\n",
      "  File \"/Library/Frameworks/Python.framework/Versions/3.10/lib/python3.10/site-packages/wandb/sdk/lib/ipython.py\", line 128, in close\n",
      "    self._widget.close()\n",
      "  File \"/Users/lucasericsson/Library/Python/3.10/lib/python/site-packages/ipywidgets/widgets/widget.py\", line 500, in close\n",
      "    self.comm.close()\n",
      "  File \"/Users/lucasericsson/Library/Python/3.10/lib/python/site-packages/comm/base_comm.py\", line 109, in close\n",
      "    comm.get_comm_manager().unregister_comm(self)\n",
      "  File \"/Users/lucasericsson/Library/Python/3.10/lib/python/site-packages/comm/base_comm.py\", line 199, in unregister_comm\n",
      "    comm = self.comms.pop(comm.comm_id)\n",
      "KeyError: '7f0cb8a4ce0d41fe888c30bfc67e1cac'\n",
      "\u001b[34m\u001b[1mwandb\u001b[0m: Agent Starting Run: n6zhvfbi with config:\n",
      "\u001b[34m\u001b[1mwandb\u001b[0m: \tepochs: 10\n",
      "\u001b[34m\u001b[1mwandb\u001b[0m: \thidden_units: 300\n",
      "\u001b[34m\u001b[1mwandb\u001b[0m: \tk: 4\n",
      "\u001b[34m\u001b[1mwandb\u001b[0m: \tminibatch: 50\n",
      "Failed to detect the name of this notebook, you can set it manually with the WANDB_NOTEBOOK_NAME environment variable to enable code saving.\n",
      "\u001b[34m\u001b[1mwandb\u001b[0m: \u001b[33mWARNING\u001b[0m Ignored wandb.init() arg project when running a sweep.\n"
     ]
    },
    {
     "data": {
      "text/html": [
       "Tracking run with wandb version 0.16.6"
      ],
      "text/plain": [
       "<IPython.core.display.HTML object>"
      ]
     },
     "metadata": {},
     "output_type": "display_data"
    },
    {
     "data": {
      "text/html": [
       "Run data is saved locally in <code>/Users/lucasericsson/repos/restricted-boltzmann-machine/wandb/run-20240409_015840-n6zhvfbi</code>"
      ],
      "text/plain": [
       "<IPython.core.display.HTML object>"
      ]
     },
     "metadata": {},
     "output_type": "display_data"
    },
    {
     "data": {
      "text/html": [
       "Syncing run <strong><a href='https://wandb.ai/lucasericsson222/restricted_boltzmann_machine_sweep/runs/n6zhvfbi' target=\"_blank\">morning-sweep-44</a></strong> to <a href='https://wandb.ai/lucasericsson222/restricted_boltzmann_machine_sweep' target=\"_blank\">Weights & Biases</a> (<a href='https://wandb.me/run' target=\"_blank\">docs</a>)<br/>Sweep page: <a href='https://wandb.ai/lucasericsson222/restricted_boltzmann_machine_sweep/sweeps/r1b5058x' target=\"_blank\">https://wandb.ai/lucasericsson222/restricted_boltzmann_machine_sweep/sweeps/r1b5058x</a>"
      ],
      "text/plain": [
       "<IPython.core.display.HTML object>"
      ]
     },
     "metadata": {},
     "output_type": "display_data"
    },
    {
     "data": {
      "text/html": [
       " View project at <a href='https://wandb.ai/lucasericsson222/restricted_boltzmann_machine_sweep' target=\"_blank\">https://wandb.ai/lucasericsson222/restricted_boltzmann_machine_sweep</a>"
      ],
      "text/plain": [
       "<IPython.core.display.HTML object>"
      ]
     },
     "metadata": {},
     "output_type": "display_data"
    },
    {
     "data": {
      "text/html": [
       " View sweep at <a href='https://wandb.ai/lucasericsson222/restricted_boltzmann_machine_sweep/sweeps/r1b5058x' target=\"_blank\">https://wandb.ai/lucasericsson222/restricted_boltzmann_machine_sweep/sweeps/r1b5058x</a>"
      ],
      "text/plain": [
       "<IPython.core.display.HTML object>"
      ]
     },
     "metadata": {},
     "output_type": "display_data"
    },
    {
     "data": {
      "text/html": [
       " View run at <a href='https://wandb.ai/lucasericsson222/restricted_boltzmann_machine_sweep/runs/n6zhvfbi' target=\"_blank\">https://wandb.ai/lucasericsson222/restricted_boltzmann_machine_sweep/runs/n6zhvfbi</a>"
      ],
      "text/plain": [
       "<IPython.core.display.HTML object>"
      ]
     },
     "metadata": {},
     "output_type": "display_data"
    },
    {
     "name": "stdout",
     "output_type": "stream",
     "text": [
      "(60000, 784)\n",
      "Epoch: 0\n",
      "current_weight_diff: 28.201855421933836\n",
      "sqrd_recon_error: 0.4813520408163265\n",
      "Epoch: 1\n",
      "current_weight_diff: 1.75861848529379\n",
      "sqrd_recon_error: 0.25510204081632654\n",
      "Epoch: 2\n",
      "current_weight_diff: 1.7246077389723682\n",
      "sqrd_recon_error: 0.23604591836734695\n",
      "Epoch: 3\n",
      "current_weight_diff: 1.0193991347325158\n",
      "sqrd_recon_error: 0.19084183673469388\n",
      "Epoch: 4\n",
      "current_weight_diff: 0.7095601999042687\n",
      "sqrd_recon_error: 0.18339285714285716\n",
      "Epoch: 5\n",
      "current_weight_diff: 0.6396004698779518\n",
      "sqrd_recon_error: 0.14551020408163265\n",
      "Epoch: 6\n",
      "current_weight_diff: 0.481024215219657\n",
      "sqrd_recon_error: 0.13739795918367348\n",
      "Epoch: 7\n",
      "current_weight_diff: 0.5137409531398396\n",
      "sqrd_recon_error: 0.13214285714285715\n",
      "Epoch: 8\n",
      "current_weight_diff: 0.593233704811764\n",
      "sqrd_recon_error: 0.15012755102040817\n",
      "Epoch: 9\n",
      "current_weight_diff: 0.43686368261509634\n",
      "sqrd_recon_error: 0.13846938775510204\n"
     ]
    },
    {
     "data": {
      "application/vnd.jupyter.widget-view+json": {
       "model_id": "0e73d013693c49bab12a02f5ffc50124",
       "version_major": 2,
       "version_minor": 0
      },
      "text/plain": [
       "VBox(children=(Label(value='0.001 MB of 0.001 MB uploaded\\r'), FloatProgress(value=1.0, max=1.0)))"
      ]
     },
     "metadata": {},
     "output_type": "display_data"
    },
    {
     "name": "stderr",
     "output_type": "stream",
     "text": [
      "\u001b[34m\u001b[1mwandb\u001b[0m: \u001b[32m\u001b[41mERROR\u001b[0m Problem finishing run\n",
      "Traceback (most recent call last):\n",
      "  File \"/Library/Frameworks/Python.framework/Versions/3.10/lib/python3.10/site-packages/wandb/sdk/wandb_run.py\", line 2313, in _atexit_cleanup\n",
      "    self._on_finish()\n",
      "  File \"/Library/Frameworks/Python.framework/Versions/3.10/lib/python3.10/site-packages/wandb/sdk/wandb_run.py\", line 2567, in _on_finish\n",
      "    self._footer_file_pusher_status_info(\n",
      "  File \"/Library/Frameworks/Python.framework/Versions/3.10/lib/python3.10/site-packages/wandb/sdk/wandb_run.py\", line 3749, in _footer_file_pusher_status_info\n",
      "    Run._footer_single_run_file_pusher_status_info(\n",
      "  File \"/Library/Frameworks/Python.framework/Versions/3.10/lib/python3.10/site-packages/wandb/sdk/wandb_run.py\", line 3802, in _footer_single_run_file_pusher_status_info\n",
      "    printer.progress_close()\n",
      "  File \"/Library/Frameworks/Python.framework/Versions/3.10/lib/python3.10/site-packages/wandb/sdk/lib/printer.py\", line 292, in progress_close\n",
      "    self._progress.close()\n",
      "  File \"/Library/Frameworks/Python.framework/Versions/3.10/lib/python3.10/site-packages/wandb/sdk/lib/ipython.py\", line 128, in close\n",
      "    self._widget.close()\n",
      "  File \"/Users/lucasericsson/Library/Python/3.10/lib/python/site-packages/ipywidgets/widgets/widget.py\", line 500, in close\n",
      "    self.comm.close()\n",
      "  File \"/Users/lucasericsson/Library/Python/3.10/lib/python/site-packages/comm/base_comm.py\", line 109, in close\n",
      "    comm.get_comm_manager().unregister_comm(self)\n",
      "  File \"/Users/lucasericsson/Library/Python/3.10/lib/python/site-packages/comm/base_comm.py\", line 199, in unregister_comm\n",
      "    comm = self.comms.pop(comm.comm_id)\n",
      "KeyError: '0e73d013693c49bab12a02f5ffc50124'\n",
      "\u001b[34m\u001b[1mwandb\u001b[0m: Agent Starting Run: ihv446yr with config:\n",
      "\u001b[34m\u001b[1mwandb\u001b[0m: \tepochs: 1\n",
      "\u001b[34m\u001b[1mwandb\u001b[0m: \thidden_units: 100\n",
      "\u001b[34m\u001b[1mwandb\u001b[0m: \tk: 5\n",
      "\u001b[34m\u001b[1mwandb\u001b[0m: \tminibatch: 100\n",
      "Failed to detect the name of this notebook, you can set it manually with the WANDB_NOTEBOOK_NAME environment variable to enable code saving.\n",
      "\u001b[34m\u001b[1mwandb\u001b[0m: \u001b[33mWARNING\u001b[0m Ignored wandb.init() arg project when running a sweep.\n"
     ]
    },
    {
     "data": {
      "text/html": [
       "Tracking run with wandb version 0.16.6"
      ],
      "text/plain": [
       "<IPython.core.display.HTML object>"
      ]
     },
     "metadata": {},
     "output_type": "display_data"
    },
    {
     "data": {
      "text/html": [
       "Run data is saved locally in <code>/Users/lucasericsson/repos/restricted-boltzmann-machine/wandb/run-20240409_015926-ihv446yr</code>"
      ],
      "text/plain": [
       "<IPython.core.display.HTML object>"
      ]
     },
     "metadata": {},
     "output_type": "display_data"
    },
    {
     "data": {
      "text/html": [
       "Syncing run <strong><a href='https://wandb.ai/lucasericsson222/restricted_boltzmann_machine_sweep/runs/ihv446yr' target=\"_blank\">northern-sweep-45</a></strong> to <a href='https://wandb.ai/lucasericsson222/restricted_boltzmann_machine_sweep' target=\"_blank\">Weights & Biases</a> (<a href='https://wandb.me/run' target=\"_blank\">docs</a>)<br/>Sweep page: <a href='https://wandb.ai/lucasericsson222/restricted_boltzmann_machine_sweep/sweeps/r1b5058x' target=\"_blank\">https://wandb.ai/lucasericsson222/restricted_boltzmann_machine_sweep/sweeps/r1b5058x</a>"
      ],
      "text/plain": [
       "<IPython.core.display.HTML object>"
      ]
     },
     "metadata": {},
     "output_type": "display_data"
    },
    {
     "data": {
      "text/html": [
       " View project at <a href='https://wandb.ai/lucasericsson222/restricted_boltzmann_machine_sweep' target=\"_blank\">https://wandb.ai/lucasericsson222/restricted_boltzmann_machine_sweep</a>"
      ],
      "text/plain": [
       "<IPython.core.display.HTML object>"
      ]
     },
     "metadata": {},
     "output_type": "display_data"
    },
    {
     "data": {
      "text/html": [
       " View sweep at <a href='https://wandb.ai/lucasericsson222/restricted_boltzmann_machine_sweep/sweeps/r1b5058x' target=\"_blank\">https://wandb.ai/lucasericsson222/restricted_boltzmann_machine_sweep/sweeps/r1b5058x</a>"
      ],
      "text/plain": [
       "<IPython.core.display.HTML object>"
      ]
     },
     "metadata": {},
     "output_type": "display_data"
    },
    {
     "data": {
      "text/html": [
       " View run at <a href='https://wandb.ai/lucasericsson222/restricted_boltzmann_machine_sweep/runs/ihv446yr' target=\"_blank\">https://wandb.ai/lucasericsson222/restricted_boltzmann_machine_sweep/runs/ihv446yr</a>"
      ],
      "text/plain": [
       "<IPython.core.display.HTML object>"
      ]
     },
     "metadata": {},
     "output_type": "display_data"
    },
    {
     "name": "stdout",
     "output_type": "stream",
     "text": [
      "(60000, 784)\n",
      "Epoch: 0\n",
      "current_weight_diff: 32.223485638530036\n",
      "sqrd_recon_error: 2.514081632653061\n"
     ]
    },
    {
     "data": {
      "application/vnd.jupyter.widget-view+json": {
       "model_id": "8fabbc6755d247f1b0c50290cdb12442",
       "version_major": 2,
       "version_minor": 0
      },
      "text/plain": [
       "VBox(children=(Label(value='0.001 MB of 0.004 MB uploaded\\r'), FloatProgress(value=0.24810559765338547, max=1.…"
      ]
     },
     "metadata": {},
     "output_type": "display_data"
    },
    {
     "name": "stderr",
     "output_type": "stream",
     "text": [
      "\u001b[34m\u001b[1mwandb\u001b[0m: \u001b[32m\u001b[41mERROR\u001b[0m Problem finishing run\n",
      "Traceback (most recent call last):\n",
      "  File \"/Library/Frameworks/Python.framework/Versions/3.10/lib/python3.10/site-packages/wandb/sdk/wandb_run.py\", line 2313, in _atexit_cleanup\n",
      "    self._on_finish()\n",
      "  File \"/Library/Frameworks/Python.framework/Versions/3.10/lib/python3.10/site-packages/wandb/sdk/wandb_run.py\", line 2567, in _on_finish\n",
      "    self._footer_file_pusher_status_info(\n",
      "  File \"/Library/Frameworks/Python.framework/Versions/3.10/lib/python3.10/site-packages/wandb/sdk/wandb_run.py\", line 3749, in _footer_file_pusher_status_info\n",
      "    Run._footer_single_run_file_pusher_status_info(\n",
      "  File \"/Library/Frameworks/Python.framework/Versions/3.10/lib/python3.10/site-packages/wandb/sdk/wandb_run.py\", line 3802, in _footer_single_run_file_pusher_status_info\n",
      "    printer.progress_close()\n",
      "  File \"/Library/Frameworks/Python.framework/Versions/3.10/lib/python3.10/site-packages/wandb/sdk/lib/printer.py\", line 292, in progress_close\n",
      "    self._progress.close()\n",
      "  File \"/Library/Frameworks/Python.framework/Versions/3.10/lib/python3.10/site-packages/wandb/sdk/lib/ipython.py\", line 128, in close\n",
      "    self._widget.close()\n",
      "  File \"/Users/lucasericsson/Library/Python/3.10/lib/python/site-packages/ipywidgets/widgets/widget.py\", line 500, in close\n",
      "    self.comm.close()\n",
      "  File \"/Users/lucasericsson/Library/Python/3.10/lib/python/site-packages/comm/base_comm.py\", line 109, in close\n",
      "    comm.get_comm_manager().unregister_comm(self)\n",
      "  File \"/Users/lucasericsson/Library/Python/3.10/lib/python/site-packages/comm/base_comm.py\", line 199, in unregister_comm\n",
      "    comm = self.comms.pop(comm.comm_id)\n",
      "KeyError: '8fabbc6755d247f1b0c50290cdb12442'\n",
      "\u001b[34m\u001b[1mwandb\u001b[0m: Agent Starting Run: jt5yp8fj with config:\n",
      "\u001b[34m\u001b[1mwandb\u001b[0m: \tepochs: 10\n",
      "\u001b[34m\u001b[1mwandb\u001b[0m: \thidden_units: 100\n",
      "\u001b[34m\u001b[1mwandb\u001b[0m: \tk: 2\n",
      "\u001b[34m\u001b[1mwandb\u001b[0m: \tminibatch: 150\n",
      "Failed to detect the name of this notebook, you can set it manually with the WANDB_NOTEBOOK_NAME environment variable to enable code saving.\n",
      "\u001b[34m\u001b[1mwandb\u001b[0m: \u001b[33mWARNING\u001b[0m Ignored wandb.init() arg project when running a sweep.\n"
     ]
    },
    {
     "data": {
      "text/html": [
       "Tracking run with wandb version 0.16.6"
      ],
      "text/plain": [
       "<IPython.core.display.HTML object>"
      ]
     },
     "metadata": {},
     "output_type": "display_data"
    },
    {
     "data": {
      "text/html": [
       "Run data is saved locally in <code>/Users/lucasericsson/repos/restricted-boltzmann-machine/wandb/run-20240409_015937-jt5yp8fj</code>"
      ],
      "text/plain": [
       "<IPython.core.display.HTML object>"
      ]
     },
     "metadata": {},
     "output_type": "display_data"
    },
    {
     "data": {
      "text/html": [
       "Syncing run <strong><a href='https://wandb.ai/lucasericsson222/restricted_boltzmann_machine_sweep/runs/jt5yp8fj' target=\"_blank\">deft-sweep-46</a></strong> to <a href='https://wandb.ai/lucasericsson222/restricted_boltzmann_machine_sweep' target=\"_blank\">Weights & Biases</a> (<a href='https://wandb.me/run' target=\"_blank\">docs</a>)<br/>Sweep page: <a href='https://wandb.ai/lucasericsson222/restricted_boltzmann_machine_sweep/sweeps/r1b5058x' target=\"_blank\">https://wandb.ai/lucasericsson222/restricted_boltzmann_machine_sweep/sweeps/r1b5058x</a>"
      ],
      "text/plain": [
       "<IPython.core.display.HTML object>"
      ]
     },
     "metadata": {},
     "output_type": "display_data"
    },
    {
     "data": {
      "text/html": [
       " View project at <a href='https://wandb.ai/lucasericsson222/restricted_boltzmann_machine_sweep' target=\"_blank\">https://wandb.ai/lucasericsson222/restricted_boltzmann_machine_sweep</a>"
      ],
      "text/plain": [
       "<IPython.core.display.HTML object>"
      ]
     },
     "metadata": {},
     "output_type": "display_data"
    },
    {
     "data": {
      "text/html": [
       " View sweep at <a href='https://wandb.ai/lucasericsson222/restricted_boltzmann_machine_sweep/sweeps/r1b5058x' target=\"_blank\">https://wandb.ai/lucasericsson222/restricted_boltzmann_machine_sweep/sweeps/r1b5058x</a>"
      ],
      "text/plain": [
       "<IPython.core.display.HTML object>"
      ]
     },
     "metadata": {},
     "output_type": "display_data"
    },
    {
     "data": {
      "text/html": [
       " View run at <a href='https://wandb.ai/lucasericsson222/restricted_boltzmann_machine_sweep/runs/jt5yp8fj' target=\"_blank\">https://wandb.ai/lucasericsson222/restricted_boltzmann_machine_sweep/runs/jt5yp8fj</a>"
      ],
      "text/plain": [
       "<IPython.core.display.HTML object>"
      ]
     },
     "metadata": {},
     "output_type": "display_data"
    },
    {
     "name": "stdout",
     "output_type": "stream",
     "text": [
      "(60000, 784)\n",
      "Epoch: 0\n",
      "current_weight_diff: 27.42276602312053\n",
      "sqrd_recon_error: 2.5124914965986394\n",
      "Epoch: 1\n",
      "current_weight_diff: 0.8107719911618468\n",
      "sqrd_recon_error: 1.2508673469387754\n",
      "Epoch: 2\n",
      "current_weight_diff: 2.0380206194543167\n",
      "sqrd_recon_error: 0.8025510204081633\n",
      "Epoch: 3\n",
      "current_weight_diff: 1.1348810232754893\n",
      "sqrd_recon_error: 0.5885204081632652\n",
      "Epoch: 4\n",
      "current_weight_diff: 0.9841795104778532\n",
      "sqrd_recon_error: 0.3857227891156462\n",
      "Epoch: 5\n",
      "current_weight_diff: 0.958848250372036\n",
      "sqrd_recon_error: 0.33374149659863944\n",
      "Epoch: 6\n",
      "current_weight_diff: 0.7596474993617979\n",
      "sqrd_recon_error: 0.253078231292517\n",
      "Epoch: 7\n",
      "current_weight_diff: 0.37594427266944375\n",
      "sqrd_recon_error: 0.22892857142857143\n",
      "Epoch: 8\n",
      "current_weight_diff: 0.3023512381513367\n",
      "sqrd_recon_error: 0.1958843537414966\n",
      "Epoch: 9\n",
      "current_weight_diff: 0.2727703897472897\n",
      "sqrd_recon_error: 0.1953486394557823\n"
     ]
    },
    {
     "data": {
      "application/vnd.jupyter.widget-view+json": {
       "model_id": "3991f9ce4f7b4585adb4ca03a039544d",
       "version_major": 2,
       "version_minor": 0
      },
      "text/plain": [
       "VBox(children=(Label(value='0.001 MB of 0.001 MB uploaded\\r'), FloatProgress(value=1.0, max=1.0)))"
      ]
     },
     "metadata": {},
     "output_type": "display_data"
    },
    {
     "name": "stderr",
     "output_type": "stream",
     "text": [
      "\u001b[34m\u001b[1mwandb\u001b[0m: \u001b[32m\u001b[41mERROR\u001b[0m Problem finishing run\n",
      "Traceback (most recent call last):\n",
      "  File \"/Library/Frameworks/Python.framework/Versions/3.10/lib/python3.10/site-packages/wandb/sdk/wandb_run.py\", line 2313, in _atexit_cleanup\n",
      "    self._on_finish()\n",
      "  File \"/Library/Frameworks/Python.framework/Versions/3.10/lib/python3.10/site-packages/wandb/sdk/wandb_run.py\", line 2567, in _on_finish\n",
      "    self._footer_file_pusher_status_info(\n",
      "  File \"/Library/Frameworks/Python.framework/Versions/3.10/lib/python3.10/site-packages/wandb/sdk/wandb_run.py\", line 3749, in _footer_file_pusher_status_info\n",
      "    Run._footer_single_run_file_pusher_status_info(\n",
      "  File \"/Library/Frameworks/Python.framework/Versions/3.10/lib/python3.10/site-packages/wandb/sdk/wandb_run.py\", line 3802, in _footer_single_run_file_pusher_status_info\n",
      "    printer.progress_close()\n",
      "  File \"/Library/Frameworks/Python.framework/Versions/3.10/lib/python3.10/site-packages/wandb/sdk/lib/printer.py\", line 292, in progress_close\n",
      "    self._progress.close()\n",
      "  File \"/Library/Frameworks/Python.framework/Versions/3.10/lib/python3.10/site-packages/wandb/sdk/lib/ipython.py\", line 128, in close\n",
      "    self._widget.close()\n",
      "  File \"/Users/lucasericsson/Library/Python/3.10/lib/python/site-packages/ipywidgets/widgets/widget.py\", line 500, in close\n",
      "    self.comm.close()\n",
      "  File \"/Users/lucasericsson/Library/Python/3.10/lib/python/site-packages/comm/base_comm.py\", line 109, in close\n",
      "    comm.get_comm_manager().unregister_comm(self)\n",
      "  File \"/Users/lucasericsson/Library/Python/3.10/lib/python/site-packages/comm/base_comm.py\", line 199, in unregister_comm\n",
      "    comm = self.comms.pop(comm.comm_id)\n",
      "KeyError: '3991f9ce4f7b4585adb4ca03a039544d'\n",
      "\u001b[34m\u001b[1mwandb\u001b[0m: Agent Starting Run: 8dphd2xu with config:\n",
      "\u001b[34m\u001b[1mwandb\u001b[0m: \tepochs: 5\n",
      "\u001b[34m\u001b[1mwandb\u001b[0m: \thidden_units: 1000\n",
      "\u001b[34m\u001b[1mwandb\u001b[0m: \tk: 4\n",
      "\u001b[34m\u001b[1mwandb\u001b[0m: \tminibatch: 100\n",
      "Failed to detect the name of this notebook, you can set it manually with the WANDB_NOTEBOOK_NAME environment variable to enable code saving.\n",
      "\u001b[34m\u001b[1mwandb\u001b[0m: \u001b[33mWARNING\u001b[0m Ignored wandb.init() arg project when running a sweep.\n"
     ]
    },
    {
     "data": {
      "text/html": [
       "Tracking run with wandb version 0.16.6"
      ],
      "text/plain": [
       "<IPython.core.display.HTML object>"
      ]
     },
     "metadata": {},
     "output_type": "display_data"
    },
    {
     "data": {
      "text/html": [
       "Run data is saved locally in <code>/Users/lucasericsson/repos/restricted-boltzmann-machine/wandb/run-20240409_020013-8dphd2xu</code>"
      ],
      "text/plain": [
       "<IPython.core.display.HTML object>"
      ]
     },
     "metadata": {},
     "output_type": "display_data"
    },
    {
     "data": {
      "text/html": [
       "Syncing run <strong><a href='https://wandb.ai/lucasericsson222/restricted_boltzmann_machine_sweep/runs/8dphd2xu' target=\"_blank\">fine-sweep-47</a></strong> to <a href='https://wandb.ai/lucasericsson222/restricted_boltzmann_machine_sweep' target=\"_blank\">Weights & Biases</a> (<a href='https://wandb.me/run' target=\"_blank\">docs</a>)<br/>Sweep page: <a href='https://wandb.ai/lucasericsson222/restricted_boltzmann_machine_sweep/sweeps/r1b5058x' target=\"_blank\">https://wandb.ai/lucasericsson222/restricted_boltzmann_machine_sweep/sweeps/r1b5058x</a>"
      ],
      "text/plain": [
       "<IPython.core.display.HTML object>"
      ]
     },
     "metadata": {},
     "output_type": "display_data"
    },
    {
     "data": {
      "text/html": [
       " View project at <a href='https://wandb.ai/lucasericsson222/restricted_boltzmann_machine_sweep' target=\"_blank\">https://wandb.ai/lucasericsson222/restricted_boltzmann_machine_sweep</a>"
      ],
      "text/plain": [
       "<IPython.core.display.HTML object>"
      ]
     },
     "metadata": {},
     "output_type": "display_data"
    },
    {
     "data": {
      "text/html": [
       " View sweep at <a href='https://wandb.ai/lucasericsson222/restricted_boltzmann_machine_sweep/sweeps/r1b5058x' target=\"_blank\">https://wandb.ai/lucasericsson222/restricted_boltzmann_machine_sweep/sweeps/r1b5058x</a>"
      ],
      "text/plain": [
       "<IPython.core.display.HTML object>"
      ]
     },
     "metadata": {},
     "output_type": "display_data"
    },
    {
     "data": {
      "text/html": [
       " View run at <a href='https://wandb.ai/lucasericsson222/restricted_boltzmann_machine_sweep/runs/8dphd2xu' target=\"_blank\">https://wandb.ai/lucasericsson222/restricted_boltzmann_machine_sweep/runs/8dphd2xu</a>"
      ],
      "text/plain": [
       "<IPython.core.display.HTML object>"
      ]
     },
     "metadata": {},
     "output_type": "display_data"
    },
    {
     "name": "stdout",
     "output_type": "stream",
     "text": [
      "(60000, 784)\n",
      "Epoch: 0\n",
      "current_weight_diff: 9.137290067130602\n",
      "sqrd_recon_error: 0.24834183673469387\n",
      "Epoch: 1\n",
      "current_weight_diff: 3.213983160758869\n",
      "sqrd_recon_error: 0.22330357142857143\n",
      "Epoch: 2\n",
      "current_weight_diff: 2.0870797533166137\n",
      "sqrd_recon_error: 0.20771683673469388\n",
      "Epoch: 3\n",
      "current_weight_diff: 1.3280703986979625\n",
      "sqrd_recon_error: 0.18121173469387755\n",
      "Epoch: 4\n",
      "current_weight_diff: 1.0151321499011514\n",
      "sqrd_recon_error: 0.14246173469387757\n"
     ]
    },
    {
     "data": {
      "application/vnd.jupyter.widget-view+json": {
       "model_id": "8c3630942b67494a8282ac879d34c0e6",
       "version_major": 2,
       "version_minor": 0
      },
      "text/plain": [
       "VBox(children=(Label(value='0.001 MB of 0.001 MB uploaded\\r'), FloatProgress(value=1.0, max=1.0)))"
      ]
     },
     "metadata": {},
     "output_type": "display_data"
    },
    {
     "name": "stderr",
     "output_type": "stream",
     "text": [
      "\u001b[34m\u001b[1mwandb\u001b[0m: \u001b[32m\u001b[41mERROR\u001b[0m Problem finishing run\n",
      "Traceback (most recent call last):\n",
      "  File \"/Library/Frameworks/Python.framework/Versions/3.10/lib/python3.10/site-packages/wandb/sdk/wandb_run.py\", line 2313, in _atexit_cleanup\n",
      "    self._on_finish()\n",
      "  File \"/Library/Frameworks/Python.framework/Versions/3.10/lib/python3.10/site-packages/wandb/sdk/wandb_run.py\", line 2567, in _on_finish\n",
      "    self._footer_file_pusher_status_info(\n",
      "  File \"/Library/Frameworks/Python.framework/Versions/3.10/lib/python3.10/site-packages/wandb/sdk/wandb_run.py\", line 3749, in _footer_file_pusher_status_info\n",
      "    Run._footer_single_run_file_pusher_status_info(\n",
      "  File \"/Library/Frameworks/Python.framework/Versions/3.10/lib/python3.10/site-packages/wandb/sdk/wandb_run.py\", line 3802, in _footer_single_run_file_pusher_status_info\n",
      "    printer.progress_close()\n",
      "  File \"/Library/Frameworks/Python.framework/Versions/3.10/lib/python3.10/site-packages/wandb/sdk/lib/printer.py\", line 292, in progress_close\n",
      "    self._progress.close()\n",
      "  File \"/Library/Frameworks/Python.framework/Versions/3.10/lib/python3.10/site-packages/wandb/sdk/lib/ipython.py\", line 128, in close\n",
      "    self._widget.close()\n",
      "  File \"/Users/lucasericsson/Library/Python/3.10/lib/python/site-packages/ipywidgets/widgets/widget.py\", line 500, in close\n",
      "    self.comm.close()\n",
      "  File \"/Users/lucasericsson/Library/Python/3.10/lib/python/site-packages/comm/base_comm.py\", line 109, in close\n",
      "    comm.get_comm_manager().unregister_comm(self)\n",
      "  File \"/Users/lucasericsson/Library/Python/3.10/lib/python/site-packages/comm/base_comm.py\", line 199, in unregister_comm\n",
      "    comm = self.comms.pop(comm.comm_id)\n",
      "KeyError: '8c3630942b67494a8282ac879d34c0e6'\n",
      "\u001b[34m\u001b[1mwandb\u001b[0m: Sweep Agent: Waiting for job.\n",
      "\u001b[34m\u001b[1mwandb\u001b[0m: Job received.\n",
      "\u001b[34m\u001b[1mwandb\u001b[0m: Agent Starting Run: fsrui5kd with config:\n",
      "\u001b[34m\u001b[1mwandb\u001b[0m: \tepochs: 10\n",
      "\u001b[34m\u001b[1mwandb\u001b[0m: \thidden_units: 10\n",
      "\u001b[34m\u001b[1mwandb\u001b[0m: \tk: 1\n",
      "\u001b[34m\u001b[1mwandb\u001b[0m: \tminibatch: 200\n",
      "Failed to detect the name of this notebook, you can set it manually with the WANDB_NOTEBOOK_NAME environment variable to enable code saving.\n",
      "\u001b[34m\u001b[1mwandb\u001b[0m: \u001b[33mWARNING\u001b[0m Ignored wandb.init() arg project when running a sweep.\n"
     ]
    },
    {
     "data": {
      "text/html": [
       "Tracking run with wandb version 0.16.6"
      ],
      "text/plain": [
       "<IPython.core.display.HTML object>"
      ]
     },
     "metadata": {},
     "output_type": "display_data"
    },
    {
     "data": {
      "text/html": [
       "Run data is saved locally in <code>/Users/lucasericsson/repos/restricted-boltzmann-machine/wandb/run-20240409_020204-fsrui5kd</code>"
      ],
      "text/plain": [
       "<IPython.core.display.HTML object>"
      ]
     },
     "metadata": {},
     "output_type": "display_data"
    },
    {
     "data": {
      "text/html": [
       "Syncing run <strong><a href='https://wandb.ai/lucasericsson222/restricted_boltzmann_machine_sweep/runs/fsrui5kd' target=\"_blank\">rare-sweep-48</a></strong> to <a href='https://wandb.ai/lucasericsson222/restricted_boltzmann_machine_sweep' target=\"_blank\">Weights & Biases</a> (<a href='https://wandb.me/run' target=\"_blank\">docs</a>)<br/>Sweep page: <a href='https://wandb.ai/lucasericsson222/restricted_boltzmann_machine_sweep/sweeps/r1b5058x' target=\"_blank\">https://wandb.ai/lucasericsson222/restricted_boltzmann_machine_sweep/sweeps/r1b5058x</a>"
      ],
      "text/plain": [
       "<IPython.core.display.HTML object>"
      ]
     },
     "metadata": {},
     "output_type": "display_data"
    },
    {
     "data": {
      "text/html": [
       " View project at <a href='https://wandb.ai/lucasericsson222/restricted_boltzmann_machine_sweep' target=\"_blank\">https://wandb.ai/lucasericsson222/restricted_boltzmann_machine_sweep</a>"
      ],
      "text/plain": [
       "<IPython.core.display.HTML object>"
      ]
     },
     "metadata": {},
     "output_type": "display_data"
    },
    {
     "data": {
      "text/html": [
       " View sweep at <a href='https://wandb.ai/lucasericsson222/restricted_boltzmann_machine_sweep/sweeps/r1b5058x' target=\"_blank\">https://wandb.ai/lucasericsson222/restricted_boltzmann_machine_sweep/sweeps/r1b5058x</a>"
      ],
      "text/plain": [
       "<IPython.core.display.HTML object>"
      ]
     },
     "metadata": {},
     "output_type": "display_data"
    },
    {
     "data": {
      "text/html": [
       " View run at <a href='https://wandb.ai/lucasericsson222/restricted_boltzmann_machine_sweep/runs/fsrui5kd' target=\"_blank\">https://wandb.ai/lucasericsson222/restricted_boltzmann_machine_sweep/runs/fsrui5kd</a>"
      ],
      "text/plain": [
       "<IPython.core.display.HTML object>"
      ]
     },
     "metadata": {},
     "output_type": "display_data"
    },
    {
     "name": "stdout",
     "output_type": "stream",
     "text": [
      "(60000, 784)\n",
      "Epoch: 0\n",
      "current_weight_diff: 112.97433649830673\n",
      "sqrd_recon_error: 7.981116071428571\n",
      "Epoch: 1\n",
      "current_weight_diff: 0.8752620161416541\n",
      "sqrd_recon_error: 3.5096492346938777\n",
      "Epoch: 2\n",
      "current_weight_diff: 0.4202343165579551\n",
      "sqrd_recon_error: 2.4574744897959184\n",
      "Epoch: 3\n",
      "current_weight_diff: 0.3087518761888465\n",
      "sqrd_recon_error: 1.8673086734693876\n",
      "Epoch: 4\n",
      "current_weight_diff: 0.14970266524184186\n",
      "sqrd_recon_error: 1.606434948979592\n",
      "Epoch: 5\n",
      "current_weight_diff: 0.0895258857271336\n",
      "sqrd_recon_error: 1.520612244897959\n",
      "Epoch: 6\n",
      "current_weight_diff: 0.09365973269219158\n",
      "sqrd_recon_error: 1.4691645408163265\n",
      "Epoch: 7\n",
      "current_weight_diff: 0.10575920182919715\n",
      "sqrd_recon_error: 1.3971811224489796\n",
      "Epoch: 8\n",
      "current_weight_diff: 0.19160220938170777\n",
      "sqrd_recon_error: 1.4224298469387755\n",
      "Epoch: 9\n",
      "current_weight_diff: 0.205598204710543\n",
      "sqrd_recon_error: 1.1146938775510205\n"
     ]
    },
    {
     "data": {
      "application/vnd.jupyter.widget-view+json": {
       "model_id": "25f835c630584336bf4a136ff443ba28",
       "version_major": 2,
       "version_minor": 0
      },
      "text/plain": [
       "VBox(children=(Label(value='0.001 MB of 0.001 MB uploaded\\r'), FloatProgress(value=1.0, max=1.0)))"
      ]
     },
     "metadata": {},
     "output_type": "display_data"
    },
    {
     "name": "stderr",
     "output_type": "stream",
     "text": [
      "\u001b[34m\u001b[1mwandb\u001b[0m: \u001b[32m\u001b[41mERROR\u001b[0m Problem finishing run\n",
      "Traceback (most recent call last):\n",
      "  File \"/Library/Frameworks/Python.framework/Versions/3.10/lib/python3.10/site-packages/wandb/sdk/wandb_run.py\", line 2313, in _atexit_cleanup\n",
      "    self._on_finish()\n",
      "  File \"/Library/Frameworks/Python.framework/Versions/3.10/lib/python3.10/site-packages/wandb/sdk/wandb_run.py\", line 2567, in _on_finish\n",
      "    self._footer_file_pusher_status_info(\n",
      "  File \"/Library/Frameworks/Python.framework/Versions/3.10/lib/python3.10/site-packages/wandb/sdk/wandb_run.py\", line 3749, in _footer_file_pusher_status_info\n",
      "    Run._footer_single_run_file_pusher_status_info(\n",
      "  File \"/Library/Frameworks/Python.framework/Versions/3.10/lib/python3.10/site-packages/wandb/sdk/wandb_run.py\", line 3802, in _footer_single_run_file_pusher_status_info\n",
      "    printer.progress_close()\n",
      "  File \"/Library/Frameworks/Python.framework/Versions/3.10/lib/python3.10/site-packages/wandb/sdk/lib/printer.py\", line 292, in progress_close\n",
      "    self._progress.close()\n",
      "  File \"/Library/Frameworks/Python.framework/Versions/3.10/lib/python3.10/site-packages/wandb/sdk/lib/ipython.py\", line 128, in close\n",
      "    self._widget.close()\n",
      "  File \"/Users/lucasericsson/Library/Python/3.10/lib/python/site-packages/ipywidgets/widgets/widget.py\", line 500, in close\n",
      "    self.comm.close()\n",
      "  File \"/Users/lucasericsson/Library/Python/3.10/lib/python/site-packages/comm/base_comm.py\", line 109, in close\n",
      "    comm.get_comm_manager().unregister_comm(self)\n",
      "  File \"/Users/lucasericsson/Library/Python/3.10/lib/python/site-packages/comm/base_comm.py\", line 199, in unregister_comm\n",
      "    comm = self.comms.pop(comm.comm_id)\n",
      "KeyError: '25f835c630584336bf4a136ff443ba28'\n",
      "\u001b[34m\u001b[1mwandb\u001b[0m: Agent Starting Run: 8l4wdhf3 with config:\n",
      "\u001b[34m\u001b[1mwandb\u001b[0m: \tepochs: 4\n",
      "\u001b[34m\u001b[1mwandb\u001b[0m: \thidden_units: 200\n",
      "\u001b[34m\u001b[1mwandb\u001b[0m: \tk: 10\n",
      "\u001b[34m\u001b[1mwandb\u001b[0m: \tminibatch: 50\n",
      "Failed to detect the name of this notebook, you can set it manually with the WANDB_NOTEBOOK_NAME environment variable to enable code saving.\n",
      "\u001b[34m\u001b[1mwandb\u001b[0m: \u001b[33mWARNING\u001b[0m Ignored wandb.init() arg project when running a sweep.\n"
     ]
    },
    {
     "data": {
      "text/html": [
       "Tracking run with wandb version 0.16.6"
      ],
      "text/plain": [
       "<IPython.core.display.HTML object>"
      ]
     },
     "metadata": {},
     "output_type": "display_data"
    },
    {
     "data": {
      "text/html": [
       "Run data is saved locally in <code>/Users/lucasericsson/repos/restricted-boltzmann-machine/wandb/run-20240409_020220-8l4wdhf3</code>"
      ],
      "text/plain": [
       "<IPython.core.display.HTML object>"
      ]
     },
     "metadata": {},
     "output_type": "display_data"
    },
    {
     "data": {
      "text/html": [
       "Syncing run <strong><a href='https://wandb.ai/lucasericsson222/restricted_boltzmann_machine_sweep/runs/8l4wdhf3' target=\"_blank\">fancy-sweep-49</a></strong> to <a href='https://wandb.ai/lucasericsson222/restricted_boltzmann_machine_sweep' target=\"_blank\">Weights & Biases</a> (<a href='https://wandb.me/run' target=\"_blank\">docs</a>)<br/>Sweep page: <a href='https://wandb.ai/lucasericsson222/restricted_boltzmann_machine_sweep/sweeps/r1b5058x' target=\"_blank\">https://wandb.ai/lucasericsson222/restricted_boltzmann_machine_sweep/sweeps/r1b5058x</a>"
      ],
      "text/plain": [
       "<IPython.core.display.HTML object>"
      ]
     },
     "metadata": {},
     "output_type": "display_data"
    },
    {
     "data": {
      "text/html": [
       " View project at <a href='https://wandb.ai/lucasericsson222/restricted_boltzmann_machine_sweep' target=\"_blank\">https://wandb.ai/lucasericsson222/restricted_boltzmann_machine_sweep</a>"
      ],
      "text/plain": [
       "<IPython.core.display.HTML object>"
      ]
     },
     "metadata": {},
     "output_type": "display_data"
    },
    {
     "data": {
      "text/html": [
       " View sweep at <a href='https://wandb.ai/lucasericsson222/restricted_boltzmann_machine_sweep/sweeps/r1b5058x' target=\"_blank\">https://wandb.ai/lucasericsson222/restricted_boltzmann_machine_sweep/sweeps/r1b5058x</a>"
      ],
      "text/plain": [
       "<IPython.core.display.HTML object>"
      ]
     },
     "metadata": {},
     "output_type": "display_data"
    },
    {
     "data": {
      "text/html": [
       " View run at <a href='https://wandb.ai/lucasericsson222/restricted_boltzmann_machine_sweep/runs/8l4wdhf3' target=\"_blank\">https://wandb.ai/lucasericsson222/restricted_boltzmann_machine_sweep/runs/8l4wdhf3</a>"
      ],
      "text/plain": [
       "<IPython.core.display.HTML object>"
      ]
     },
     "metadata": {},
     "output_type": "display_data"
    },
    {
     "name": "stdout",
     "output_type": "stream",
     "text": [
      "(60000, 784)\n",
      "Epoch: 0\n",
      "current_weight_diff: 24.98689905240833\n",
      "sqrd_recon_error: 1.8049489795918368\n",
      "Epoch: 1\n",
      "current_weight_diff: 3.7229853950962912\n",
      "sqrd_recon_error: 0.40903061224489795\n",
      "Epoch: 2\n",
      "current_weight_diff: 2.2346146811849006\n",
      "sqrd_recon_error: 0.3608163265306123\n",
      "Epoch: 3\n",
      "current_weight_diff: 1.4961794356556448\n",
      "sqrd_recon_error: 0.31244897959183676\n"
     ]
    },
    {
     "data": {
      "application/vnd.jupyter.widget-view+json": {
       "model_id": "4ab97a51d8b241aa8fdb830b82b683d7",
       "version_major": 2,
       "version_minor": 0
      },
      "text/plain": [
       "VBox(children=(Label(value='0.001 MB of 0.001 MB uploaded\\r'), FloatProgress(value=1.0, max=1.0)))"
      ]
     },
     "metadata": {},
     "output_type": "display_data"
    },
    {
     "name": "stderr",
     "output_type": "stream",
     "text": [
      "\u001b[34m\u001b[1mwandb\u001b[0m: \u001b[32m\u001b[41mERROR\u001b[0m Problem finishing run\n",
      "Traceback (most recent call last):\n",
      "  File \"/Library/Frameworks/Python.framework/Versions/3.10/lib/python3.10/site-packages/wandb/sdk/wandb_run.py\", line 2313, in _atexit_cleanup\n",
      "    self._on_finish()\n",
      "  File \"/Library/Frameworks/Python.framework/Versions/3.10/lib/python3.10/site-packages/wandb/sdk/wandb_run.py\", line 2567, in _on_finish\n",
      "    self._footer_file_pusher_status_info(\n",
      "  File \"/Library/Frameworks/Python.framework/Versions/3.10/lib/python3.10/site-packages/wandb/sdk/wandb_run.py\", line 3749, in _footer_file_pusher_status_info\n",
      "    Run._footer_single_run_file_pusher_status_info(\n",
      "  File \"/Library/Frameworks/Python.framework/Versions/3.10/lib/python3.10/site-packages/wandb/sdk/wandb_run.py\", line 3802, in _footer_single_run_file_pusher_status_info\n",
      "    printer.progress_close()\n",
      "  File \"/Library/Frameworks/Python.framework/Versions/3.10/lib/python3.10/site-packages/wandb/sdk/lib/printer.py\", line 292, in progress_close\n",
      "    self._progress.close()\n",
      "  File \"/Library/Frameworks/Python.framework/Versions/3.10/lib/python3.10/site-packages/wandb/sdk/lib/ipython.py\", line 128, in close\n",
      "    self._widget.close()\n",
      "  File \"/Users/lucasericsson/Library/Python/3.10/lib/python/site-packages/ipywidgets/widgets/widget.py\", line 500, in close\n",
      "    self.comm.close()\n",
      "  File \"/Users/lucasericsson/Library/Python/3.10/lib/python/site-packages/comm/base_comm.py\", line 109, in close\n",
      "    comm.get_comm_manager().unregister_comm(self)\n",
      "  File \"/Users/lucasericsson/Library/Python/3.10/lib/python/site-packages/comm/base_comm.py\", line 199, in unregister_comm\n",
      "    comm = self.comms.pop(comm.comm_id)\n",
      "KeyError: '4ab97a51d8b241aa8fdb830b82b683d7'\n",
      "\u001b[34m\u001b[1mwandb\u001b[0m: Agent Starting Run: vdc8vnhm with config:\n",
      "\u001b[34m\u001b[1mwandb\u001b[0m: \tepochs: 1\n",
      "\u001b[34m\u001b[1mwandb\u001b[0m: \thidden_units: 300\n",
      "\u001b[34m\u001b[1mwandb\u001b[0m: \tk: 30\n",
      "\u001b[34m\u001b[1mwandb\u001b[0m: \tminibatch: 50\n",
      "Failed to detect the name of this notebook, you can set it manually with the WANDB_NOTEBOOK_NAME environment variable to enable code saving.\n",
      "\u001b[34m\u001b[1mwandb\u001b[0m: \u001b[33mWARNING\u001b[0m Ignored wandb.init() arg project when running a sweep.\n"
     ]
    },
    {
     "data": {
      "text/html": [
       "Tracking run with wandb version 0.16.6"
      ],
      "text/plain": [
       "<IPython.core.display.HTML object>"
      ]
     },
     "metadata": {},
     "output_type": "display_data"
    },
    {
     "data": {
      "text/html": [
       "Run data is saved locally in <code>/Users/lucasericsson/repos/restricted-boltzmann-machine/wandb/run-20240409_020246-vdc8vnhm</code>"
      ],
      "text/plain": [
       "<IPython.core.display.HTML object>"
      ]
     },
     "metadata": {},
     "output_type": "display_data"
    },
    {
     "data": {
      "text/html": [
       "Syncing run <strong><a href='https://wandb.ai/lucasericsson222/restricted_boltzmann_machine_sweep/runs/vdc8vnhm' target=\"_blank\">noble-sweep-50</a></strong> to <a href='https://wandb.ai/lucasericsson222/restricted_boltzmann_machine_sweep' target=\"_blank\">Weights & Biases</a> (<a href='https://wandb.me/run' target=\"_blank\">docs</a>)<br/>Sweep page: <a href='https://wandb.ai/lucasericsson222/restricted_boltzmann_machine_sweep/sweeps/r1b5058x' target=\"_blank\">https://wandb.ai/lucasericsson222/restricted_boltzmann_machine_sweep/sweeps/r1b5058x</a>"
      ],
      "text/plain": [
       "<IPython.core.display.HTML object>"
      ]
     },
     "metadata": {},
     "output_type": "display_data"
    },
    {
     "data": {
      "text/html": [
       " View project at <a href='https://wandb.ai/lucasericsson222/restricted_boltzmann_machine_sweep' target=\"_blank\">https://wandb.ai/lucasericsson222/restricted_boltzmann_machine_sweep</a>"
      ],
      "text/plain": [
       "<IPython.core.display.HTML object>"
      ]
     },
     "metadata": {},
     "output_type": "display_data"
    },
    {
     "data": {
      "text/html": [
       " View sweep at <a href='https://wandb.ai/lucasericsson222/restricted_boltzmann_machine_sweep/sweeps/r1b5058x' target=\"_blank\">https://wandb.ai/lucasericsson222/restricted_boltzmann_machine_sweep/sweeps/r1b5058x</a>"
      ],
      "text/plain": [
       "<IPython.core.display.HTML object>"
      ]
     },
     "metadata": {},
     "output_type": "display_data"
    },
    {
     "data": {
      "text/html": [
       " View run at <a href='https://wandb.ai/lucasericsson222/restricted_boltzmann_machine_sweep/runs/vdc8vnhm' target=\"_blank\">https://wandb.ai/lucasericsson222/restricted_boltzmann_machine_sweep/runs/vdc8vnhm</a>"
      ],
      "text/plain": [
       "<IPython.core.display.HTML object>"
      ]
     },
     "metadata": {},
     "output_type": "display_data"
    },
    {
     "name": "stdout",
     "output_type": "stream",
     "text": [
      "(60000, 784)\n",
      "Epoch: 0\n",
      "current_weight_diff: 20.819711028407372\n",
      "sqrd_recon_error: 0.6418877551020408\n"
     ]
    },
    {
     "data": {
      "application/vnd.jupyter.widget-view+json": {
       "model_id": "10d9ab84e7394013a96cccd3e9430d13",
       "version_major": 2,
       "version_minor": 0
      },
      "text/plain": [
       "VBox(children=(Label(value='0.001 MB of 0.001 MB uploaded\\r'), FloatProgress(value=1.0, max=1.0)))"
      ]
     },
     "metadata": {},
     "output_type": "display_data"
    },
    {
     "name": "stderr",
     "output_type": "stream",
     "text": [
      "\u001b[34m\u001b[1mwandb\u001b[0m: \u001b[32m\u001b[41mERROR\u001b[0m Problem finishing run\n",
      "Traceback (most recent call last):\n",
      "  File \"/Library/Frameworks/Python.framework/Versions/3.10/lib/python3.10/site-packages/wandb/sdk/wandb_run.py\", line 2313, in _atexit_cleanup\n",
      "    self._on_finish()\n",
      "  File \"/Library/Frameworks/Python.framework/Versions/3.10/lib/python3.10/site-packages/wandb/sdk/wandb_run.py\", line 2567, in _on_finish\n",
      "    self._footer_file_pusher_status_info(\n",
      "  File \"/Library/Frameworks/Python.framework/Versions/3.10/lib/python3.10/site-packages/wandb/sdk/wandb_run.py\", line 3749, in _footer_file_pusher_status_info\n",
      "    Run._footer_single_run_file_pusher_status_info(\n",
      "  File \"/Library/Frameworks/Python.framework/Versions/3.10/lib/python3.10/site-packages/wandb/sdk/wandb_run.py\", line 3802, in _footer_single_run_file_pusher_status_info\n",
      "    printer.progress_close()\n",
      "  File \"/Library/Frameworks/Python.framework/Versions/3.10/lib/python3.10/site-packages/wandb/sdk/lib/printer.py\", line 292, in progress_close\n",
      "    self._progress.close()\n",
      "  File \"/Library/Frameworks/Python.framework/Versions/3.10/lib/python3.10/site-packages/wandb/sdk/lib/ipython.py\", line 128, in close\n",
      "    self._widget.close()\n",
      "  File \"/Users/lucasericsson/Library/Python/3.10/lib/python/site-packages/ipywidgets/widgets/widget.py\", line 500, in close\n",
      "    self.comm.close()\n",
      "  File \"/Users/lucasericsson/Library/Python/3.10/lib/python/site-packages/comm/base_comm.py\", line 109, in close\n",
      "    comm.get_comm_manager().unregister_comm(self)\n",
      "  File \"/Users/lucasericsson/Library/Python/3.10/lib/python/site-packages/comm/base_comm.py\", line 199, in unregister_comm\n",
      "    comm = self.comms.pop(comm.comm_id)\n",
      "KeyError: '10d9ab84e7394013a96cccd3e9430d13'\n",
      "\u001b[34m\u001b[1mwandb\u001b[0m: Agent Starting Run: otffqbn5 with config:\n",
      "\u001b[34m\u001b[1mwandb\u001b[0m: \tepochs: 1\n",
      "\u001b[34m\u001b[1mwandb\u001b[0m: \thidden_units: 200\n",
      "\u001b[34m\u001b[1mwandb\u001b[0m: \tk: 30\n",
      "\u001b[34m\u001b[1mwandb\u001b[0m: \tminibatch: 150\n",
      "Failed to detect the name of this notebook, you can set it manually with the WANDB_NOTEBOOK_NAME environment variable to enable code saving.\n",
      "\u001b[34m\u001b[1mwandb\u001b[0m: \u001b[33mWARNING\u001b[0m Ignored wandb.init() arg project when running a sweep.\n"
     ]
    },
    {
     "data": {
      "text/html": [
       "Tracking run with wandb version 0.16.6"
      ],
      "text/plain": [
       "<IPython.core.display.HTML object>"
      ]
     },
     "metadata": {},
     "output_type": "display_data"
    },
    {
     "data": {
      "text/html": [
       "Run data is saved locally in <code>/Users/lucasericsson/repos/restricted-boltzmann-machine/wandb/run-20240409_020307-otffqbn5</code>"
      ],
      "text/plain": [
       "<IPython.core.display.HTML object>"
      ]
     },
     "metadata": {},
     "output_type": "display_data"
    },
    {
     "data": {
      "text/html": [
       "Syncing run <strong><a href='https://wandb.ai/lucasericsson222/restricted_boltzmann_machine_sweep/runs/otffqbn5' target=\"_blank\">rich-sweep-51</a></strong> to <a href='https://wandb.ai/lucasericsson222/restricted_boltzmann_machine_sweep' target=\"_blank\">Weights & Biases</a> (<a href='https://wandb.me/run' target=\"_blank\">docs</a>)<br/>Sweep page: <a href='https://wandb.ai/lucasericsson222/restricted_boltzmann_machine_sweep/sweeps/r1b5058x' target=\"_blank\">https://wandb.ai/lucasericsson222/restricted_boltzmann_machine_sweep/sweeps/r1b5058x</a>"
      ],
      "text/plain": [
       "<IPython.core.display.HTML object>"
      ]
     },
     "metadata": {},
     "output_type": "display_data"
    },
    {
     "data": {
      "text/html": [
       " View project at <a href='https://wandb.ai/lucasericsson222/restricted_boltzmann_machine_sweep' target=\"_blank\">https://wandb.ai/lucasericsson222/restricted_boltzmann_machine_sweep</a>"
      ],
      "text/plain": [
       "<IPython.core.display.HTML object>"
      ]
     },
     "metadata": {},
     "output_type": "display_data"
    },
    {
     "data": {
      "text/html": [
       " View sweep at <a href='https://wandb.ai/lucasericsson222/restricted_boltzmann_machine_sweep/sweeps/r1b5058x' target=\"_blank\">https://wandb.ai/lucasericsson222/restricted_boltzmann_machine_sweep/sweeps/r1b5058x</a>"
      ],
      "text/plain": [
       "<IPython.core.display.HTML object>"
      ]
     },
     "metadata": {},
     "output_type": "display_data"
    },
    {
     "data": {
      "text/html": [
       " View run at <a href='https://wandb.ai/lucasericsson222/restricted_boltzmann_machine_sweep/runs/otffqbn5' target=\"_blank\">https://wandb.ai/lucasericsson222/restricted_boltzmann_machine_sweep/runs/otffqbn5</a>"
      ],
      "text/plain": [
       "<IPython.core.display.HTML object>"
      ]
     },
     "metadata": {},
     "output_type": "display_data"
    },
    {
     "name": "stdout",
     "output_type": "stream",
     "text": [
      "(60000, 784)\n",
      "Epoch: 0\n",
      "current_weight_diff: 16.711107358418083\n",
      "sqrd_recon_error: 17.793307823129254\n"
     ]
    },
    {
     "data": {
      "application/vnd.jupyter.widget-view+json": {
       "model_id": "190de8272ad74dc498c1f7d7c6ffbd87",
       "version_major": 2,
       "version_minor": 0
      },
      "text/plain": [
       "VBox(children=(Label(value='0.001 MB of 0.001 MB uploaded\\r'), FloatProgress(value=1.0, max=1.0)))"
      ]
     },
     "metadata": {},
     "output_type": "display_data"
    },
    {
     "name": "stderr",
     "output_type": "stream",
     "text": [
      "\u001b[34m\u001b[1mwandb\u001b[0m: \u001b[32m\u001b[41mERROR\u001b[0m Problem finishing run\n",
      "Traceback (most recent call last):\n",
      "  File \"/Library/Frameworks/Python.framework/Versions/3.10/lib/python3.10/site-packages/wandb/sdk/wandb_run.py\", line 2313, in _atexit_cleanup\n",
      "    self._on_finish()\n",
      "  File \"/Library/Frameworks/Python.framework/Versions/3.10/lib/python3.10/site-packages/wandb/sdk/wandb_run.py\", line 2567, in _on_finish\n",
      "    self._footer_file_pusher_status_info(\n",
      "  File \"/Library/Frameworks/Python.framework/Versions/3.10/lib/python3.10/site-packages/wandb/sdk/wandb_run.py\", line 3749, in _footer_file_pusher_status_info\n",
      "    Run._footer_single_run_file_pusher_status_info(\n",
      "  File \"/Library/Frameworks/Python.framework/Versions/3.10/lib/python3.10/site-packages/wandb/sdk/wandb_run.py\", line 3802, in _footer_single_run_file_pusher_status_info\n",
      "    printer.progress_close()\n",
      "  File \"/Library/Frameworks/Python.framework/Versions/3.10/lib/python3.10/site-packages/wandb/sdk/lib/printer.py\", line 292, in progress_close\n",
      "    self._progress.close()\n",
      "  File \"/Library/Frameworks/Python.framework/Versions/3.10/lib/python3.10/site-packages/wandb/sdk/lib/ipython.py\", line 128, in close\n",
      "    self._widget.close()\n",
      "  File \"/Users/lucasericsson/Library/Python/3.10/lib/python/site-packages/ipywidgets/widgets/widget.py\", line 500, in close\n",
      "    self.comm.close()\n",
      "  File \"/Users/lucasericsson/Library/Python/3.10/lib/python/site-packages/comm/base_comm.py\", line 109, in close\n",
      "    comm.get_comm_manager().unregister_comm(self)\n",
      "  File \"/Users/lucasericsson/Library/Python/3.10/lib/python/site-packages/comm/base_comm.py\", line 199, in unregister_comm\n",
      "    comm = self.comms.pop(comm.comm_id)\n",
      "KeyError: '190de8272ad74dc498c1f7d7c6ffbd87'\n",
      "\u001b[34m\u001b[1mwandb\u001b[0m: Agent Starting Run: bbe3123i with config:\n",
      "\u001b[34m\u001b[1mwandb\u001b[0m: \tepochs: 30\n",
      "\u001b[34m\u001b[1mwandb\u001b[0m: \thidden_units: 20\n",
      "\u001b[34m\u001b[1mwandb\u001b[0m: \tk: 4\n",
      "\u001b[34m\u001b[1mwandb\u001b[0m: \tminibatch: 150\n",
      "Failed to detect the name of this notebook, you can set it manually with the WANDB_NOTEBOOK_NAME environment variable to enable code saving.\n",
      "\u001b[34m\u001b[1mwandb\u001b[0m: \u001b[33mWARNING\u001b[0m Ignored wandb.init() arg project when running a sweep.\n"
     ]
    },
    {
     "data": {
      "text/html": [
       "Tracking run with wandb version 0.16.6"
      ],
      "text/plain": [
       "<IPython.core.display.HTML object>"
      ]
     },
     "metadata": {},
     "output_type": "display_data"
    },
    {
     "data": {
      "text/html": [
       "Run data is saved locally in <code>/Users/lucasericsson/repos/restricted-boltzmann-machine/wandb/run-20240409_020337-bbe3123i</code>"
      ],
      "text/plain": [
       "<IPython.core.display.HTML object>"
      ]
     },
     "metadata": {},
     "output_type": "display_data"
    },
    {
     "data": {
      "text/html": [
       "Syncing run <strong><a href='https://wandb.ai/lucasericsson222/restricted_boltzmann_machine_sweep/runs/bbe3123i' target=\"_blank\">scarlet-sweep-52</a></strong> to <a href='https://wandb.ai/lucasericsson222/restricted_boltzmann_machine_sweep' target=\"_blank\">Weights & Biases</a> (<a href='https://wandb.me/run' target=\"_blank\">docs</a>)<br/>Sweep page: <a href='https://wandb.ai/lucasericsson222/restricted_boltzmann_machine_sweep/sweeps/r1b5058x' target=\"_blank\">https://wandb.ai/lucasericsson222/restricted_boltzmann_machine_sweep/sweeps/r1b5058x</a>"
      ],
      "text/plain": [
       "<IPython.core.display.HTML object>"
      ]
     },
     "metadata": {},
     "output_type": "display_data"
    },
    {
     "data": {
      "text/html": [
       " View project at <a href='https://wandb.ai/lucasericsson222/restricted_boltzmann_machine_sweep' target=\"_blank\">https://wandb.ai/lucasericsson222/restricted_boltzmann_machine_sweep</a>"
      ],
      "text/plain": [
       "<IPython.core.display.HTML object>"
      ]
     },
     "metadata": {},
     "output_type": "display_data"
    },
    {
     "data": {
      "text/html": [
       " View sweep at <a href='https://wandb.ai/lucasericsson222/restricted_boltzmann_machine_sweep/sweeps/r1b5058x' target=\"_blank\">https://wandb.ai/lucasericsson222/restricted_boltzmann_machine_sweep/sweeps/r1b5058x</a>"
      ],
      "text/plain": [
       "<IPython.core.display.HTML object>"
      ]
     },
     "metadata": {},
     "output_type": "display_data"
    },
    {
     "data": {
      "text/html": [
       " View run at <a href='https://wandb.ai/lucasericsson222/restricted_boltzmann_machine_sweep/runs/bbe3123i' target=\"_blank\">https://wandb.ai/lucasericsson222/restricted_boltzmann_machine_sweep/runs/bbe3123i</a>"
      ],
      "text/plain": [
       "<IPython.core.display.HTML object>"
      ]
     },
     "metadata": {},
     "output_type": "display_data"
    },
    {
     "name": "stdout",
     "output_type": "stream",
     "text": [
      "(60000, 784)\n",
      "Epoch: 0\n",
      "current_weight_diff: 126.52617075197881\n",
      "sqrd_recon_error: 5.732695578231293\n",
      "Epoch: 1\n",
      "current_weight_diff: 0.5519797890416976\n",
      "sqrd_recon_error: 3.028375850340136\n",
      "Epoch: 2\n",
      "current_weight_diff: 0.4073629854042378\n",
      "sqrd_recon_error: 1.8584778911564626\n",
      "Epoch: 3\n",
      "current_weight_diff: 0.17696953488228262\n",
      "sqrd_recon_error: 1.2567006802721088\n",
      "Epoch: 4\n",
      "current_weight_diff: 0.2370681573708421\n",
      "sqrd_recon_error: 0.9539965986394559\n",
      "Epoch: 5\n",
      "current_weight_diff: 1.4441211186213154\n",
      "sqrd_recon_error: 0.7894472789115646\n",
      "Epoch: 6\n",
      "current_weight_diff: 0.5970914202595896\n",
      "sqrd_recon_error: 0.8301275510204081\n",
      "Epoch: 7\n",
      "current_weight_diff: 0.37324399312357204\n",
      "sqrd_recon_error: 0.7230442176870748\n",
      "Epoch: 8\n",
      "current_weight_diff: 0.3760894611680102\n",
      "sqrd_recon_error: 0.4770578231292517\n",
      "Epoch: 9\n",
      "current_weight_diff: 0.2920251768409362\n",
      "sqrd_recon_error: 0.411828231292517\n",
      "Epoch: 10\n",
      "current_weight_diff: 0.18207048679946283\n",
      "sqrd_recon_error: 0.36367346938775513\n",
      "Epoch: 11\n",
      "current_weight_diff: 0.19729038261266835\n",
      "sqrd_recon_error: 0.3171768707482993\n",
      "Epoch: 12\n",
      "current_weight_diff: 0.14840656984817568\n",
      "sqrd_recon_error: 0.3069472789115646\n",
      "Epoch: 13\n",
      "current_weight_diff: 0.1785437898283469\n",
      "sqrd_recon_error: 0.28687074829931974\n",
      "Epoch: 14\n",
      "current_weight_diff: 0.11305832620685057\n",
      "sqrd_recon_error: 0.27827380952380953\n",
      "Epoch: 15\n",
      "current_weight_diff: 0.270486822633701\n",
      "sqrd_recon_error: 0.254625850340136\n",
      "Epoch: 16\n",
      "current_weight_diff: 0.17564523457730374\n",
      "sqrd_recon_error: 0.2465391156462585\n",
      "Epoch: 17\n",
      "current_weight_diff: 0.1623840984661266\n",
      "sqrd_recon_error: 0.27329081632653063\n",
      "Epoch: 18\n",
      "current_weight_diff: 0.22455270837354674\n",
      "sqrd_recon_error: 0.23973639455782314\n",
      "Epoch: 19\n",
      "current_weight_diff: 0.2763719173090274\n",
      "sqrd_recon_error: 0.23854591836734693\n",
      "Epoch: 20\n",
      "current_weight_diff: 0.19114767652968062\n",
      "sqrd_recon_error: 0.23448979591836736\n",
      "Epoch: 21\n",
      "current_weight_diff: 0.15466082360177882\n",
      "sqrd_recon_error: 0.2638010204081633\n",
      "Epoch: 22\n",
      "current_weight_diff: 0.24819130972976633\n",
      "sqrd_recon_error: 0.2411394557823129\n",
      "Epoch: 23\n",
      "current_weight_diff: 0.6721078186968187\n",
      "sqrd_recon_error: 0.2309268707482993\n",
      "Epoch: 24\n",
      "current_weight_diff: 0.10933756860008366\n",
      "sqrd_recon_error: 0.23250850340136053\n",
      "Epoch: 25\n",
      "current_weight_diff: 0.13435026167137187\n",
      "sqrd_recon_error: 0.2098809523809524\n",
      "Epoch: 26\n",
      "current_weight_diff: 0.15005978241647253\n",
      "sqrd_recon_error: 0.2093452380952381\n",
      "Epoch: 27\n",
      "current_weight_diff: 0.401535001361177\n",
      "sqrd_recon_error: 0.18668367346938775\n",
      "Epoch: 28\n",
      "current_weight_diff: 0.12302248286011896\n",
      "sqrd_recon_error: 0.19179421768707483\n",
      "Epoch: 29\n",
      "current_weight_diff: 0.09363194304130928\n",
      "sqrd_recon_error: 0.20467687074829932\n"
     ]
    },
    {
     "data": {
      "application/vnd.jupyter.widget-view+json": {
       "model_id": "8dce9314f1194bebb814d61d1bc6ebcd",
       "version_major": 2,
       "version_minor": 0
      },
      "text/plain": [
       "VBox(children=(Label(value='0.001 MB of 0.001 MB uploaded\\r'), FloatProgress(value=1.0, max=1.0)))"
      ]
     },
     "metadata": {},
     "output_type": "display_data"
    },
    {
     "name": "stderr",
     "output_type": "stream",
     "text": [
      "\u001b[34m\u001b[1mwandb\u001b[0m: \u001b[32m\u001b[41mERROR\u001b[0m Problem finishing run\n",
      "Traceback (most recent call last):\n",
      "  File \"/Library/Frameworks/Python.framework/Versions/3.10/lib/python3.10/site-packages/wandb/sdk/wandb_run.py\", line 2313, in _atexit_cleanup\n",
      "    self._on_finish()\n",
      "  File \"/Library/Frameworks/Python.framework/Versions/3.10/lib/python3.10/site-packages/wandb/sdk/wandb_run.py\", line 2567, in _on_finish\n",
      "    self._footer_file_pusher_status_info(\n",
      "  File \"/Library/Frameworks/Python.framework/Versions/3.10/lib/python3.10/site-packages/wandb/sdk/wandb_run.py\", line 3749, in _footer_file_pusher_status_info\n",
      "    Run._footer_single_run_file_pusher_status_info(\n",
      "  File \"/Library/Frameworks/Python.framework/Versions/3.10/lib/python3.10/site-packages/wandb/sdk/wandb_run.py\", line 3802, in _footer_single_run_file_pusher_status_info\n",
      "    printer.progress_close()\n",
      "  File \"/Library/Frameworks/Python.framework/Versions/3.10/lib/python3.10/site-packages/wandb/sdk/lib/printer.py\", line 292, in progress_close\n",
      "    self._progress.close()\n",
      "  File \"/Library/Frameworks/Python.framework/Versions/3.10/lib/python3.10/site-packages/wandb/sdk/lib/ipython.py\", line 128, in close\n",
      "    self._widget.close()\n",
      "  File \"/Users/lucasericsson/Library/Python/3.10/lib/python/site-packages/ipywidgets/widgets/widget.py\", line 500, in close\n",
      "    self.comm.close()\n",
      "  File \"/Users/lucasericsson/Library/Python/3.10/lib/python/site-packages/comm/base_comm.py\", line 109, in close\n",
      "    comm.get_comm_manager().unregister_comm(self)\n",
      "  File \"/Users/lucasericsson/Library/Python/3.10/lib/python/site-packages/comm/base_comm.py\", line 199, in unregister_comm\n",
      "    comm = self.comms.pop(comm.comm_id)\n",
      "KeyError: '8dce9314f1194bebb814d61d1bc6ebcd'\n",
      "\u001b[34m\u001b[1mwandb\u001b[0m: Agent Starting Run: r7mz2oqr with config:\n",
      "\u001b[34m\u001b[1mwandb\u001b[0m: \tepochs: 20\n",
      "\u001b[34m\u001b[1mwandb\u001b[0m: \thidden_units: 10\n",
      "\u001b[34m\u001b[1mwandb\u001b[0m: \tk: 1\n",
      "\u001b[34m\u001b[1mwandb\u001b[0m: \tminibatch: 200\n",
      "Failed to detect the name of this notebook, you can set it manually with the WANDB_NOTEBOOK_NAME environment variable to enable code saving.\n",
      "\u001b[34m\u001b[1mwandb\u001b[0m: \u001b[33mWARNING\u001b[0m Ignored wandb.init() arg project when running a sweep.\n"
     ]
    },
    {
     "data": {
      "text/html": [
       "Tracking run with wandb version 0.16.6"
      ],
      "text/plain": [
       "<IPython.core.display.HTML object>"
      ]
     },
     "metadata": {},
     "output_type": "display_data"
    },
    {
     "data": {
      "text/html": [
       "Run data is saved locally in <code>/Users/lucasericsson/repos/restricted-boltzmann-machine/wandb/run-20240409_020449-r7mz2oqr</code>"
      ],
      "text/plain": [
       "<IPython.core.display.HTML object>"
      ]
     },
     "metadata": {},
     "output_type": "display_data"
    },
    {
     "data": {
      "text/html": [
       "Syncing run <strong><a href='https://wandb.ai/lucasericsson222/restricted_boltzmann_machine_sweep/runs/r7mz2oqr' target=\"_blank\">deft-sweep-53</a></strong> to <a href='https://wandb.ai/lucasericsson222/restricted_boltzmann_machine_sweep' target=\"_blank\">Weights & Biases</a> (<a href='https://wandb.me/run' target=\"_blank\">docs</a>)<br/>Sweep page: <a href='https://wandb.ai/lucasericsson222/restricted_boltzmann_machine_sweep/sweeps/r1b5058x' target=\"_blank\">https://wandb.ai/lucasericsson222/restricted_boltzmann_machine_sweep/sweeps/r1b5058x</a>"
      ],
      "text/plain": [
       "<IPython.core.display.HTML object>"
      ]
     },
     "metadata": {},
     "output_type": "display_data"
    },
    {
     "data": {
      "text/html": [
       " View project at <a href='https://wandb.ai/lucasericsson222/restricted_boltzmann_machine_sweep' target=\"_blank\">https://wandb.ai/lucasericsson222/restricted_boltzmann_machine_sweep</a>"
      ],
      "text/plain": [
       "<IPython.core.display.HTML object>"
      ]
     },
     "metadata": {},
     "output_type": "display_data"
    },
    {
     "data": {
      "text/html": [
       " View sweep at <a href='https://wandb.ai/lucasericsson222/restricted_boltzmann_machine_sweep/sweeps/r1b5058x' target=\"_blank\">https://wandb.ai/lucasericsson222/restricted_boltzmann_machine_sweep/sweeps/r1b5058x</a>"
      ],
      "text/plain": [
       "<IPython.core.display.HTML object>"
      ]
     },
     "metadata": {},
     "output_type": "display_data"
    },
    {
     "data": {
      "text/html": [
       " View run at <a href='https://wandb.ai/lucasericsson222/restricted_boltzmann_machine_sweep/runs/r7mz2oqr' target=\"_blank\">https://wandb.ai/lucasericsson222/restricted_boltzmann_machine_sweep/runs/r7mz2oqr</a>"
      ],
      "text/plain": [
       "<IPython.core.display.HTML object>"
      ]
     },
     "metadata": {},
     "output_type": "display_data"
    },
    {
     "name": "stdout",
     "output_type": "stream",
     "text": [
      "(60000, 784)\n",
      "Epoch: 0\n",
      "current_weight_diff: 71.60163398202293\n",
      "sqrd_recon_error: 7.7838392857142855\n",
      "Epoch: 1\n",
      "current_weight_diff: 1.0360719397714864\n",
      "sqrd_recon_error: 3.616862244897959\n",
      "Epoch: 2\n",
      "current_weight_diff: 0.4165469676600376\n",
      "sqrd_recon_error: 2.3565242346938775\n",
      "Epoch: 3\n",
      "current_weight_diff: 0.16806225191722646\n",
      "sqrd_recon_error: 1.8254719387755103\n",
      "Epoch: 4\n",
      "current_weight_diff: 0.1366142160906788\n",
      "sqrd_recon_error: 1.7609183673469389\n",
      "Epoch: 5\n",
      "current_weight_diff: 0.09127021492717793\n",
      "sqrd_recon_error: 1.5548852040816326\n",
      "Epoch: 6\n",
      "current_weight_diff: 0.08509028363457337\n",
      "sqrd_recon_error: 1.5731313775510205\n",
      "Epoch: 7\n",
      "current_weight_diff: 0.10356252300825325\n",
      "sqrd_recon_error: 1.4919132653061227\n",
      "Epoch: 8\n",
      "current_weight_diff: 0.1251138681509769\n",
      "sqrd_recon_error: 1.2596045918367347\n",
      "Epoch: 9\n",
      "current_weight_diff: 0.16552039738162433\n",
      "sqrd_recon_error: 1.1012882653061224\n",
      "Epoch: 10\n",
      "current_weight_diff: 0.2644821028928127\n",
      "sqrd_recon_error: 0.974266581632653\n",
      "Epoch: 11\n",
      "current_weight_diff: 0.35332390663889696\n",
      "sqrd_recon_error: 0.8624808673469387\n",
      "Epoch: 12\n",
      "current_weight_diff: 0.20893445867076257\n",
      "sqrd_recon_error: 0.8133482142857144\n",
      "Epoch: 13\n",
      "current_weight_diff: 0.16547974946682303\n",
      "sqrd_recon_error: 0.7285586734693879\n",
      "Epoch: 14\n",
      "current_weight_diff: 0.17168896324879263\n",
      "sqrd_recon_error: 0.7041390306122449\n",
      "Epoch: 15\n",
      "current_weight_diff: 0.11014598964843392\n",
      "sqrd_recon_error: 0.6911160714285713\n",
      "Epoch: 16\n",
      "current_weight_diff: 0.08499801868088941\n",
      "sqrd_recon_error: 0.671454081632653\n",
      "Epoch: 17\n",
      "current_weight_diff: 0.07422083301864216\n",
      "sqrd_recon_error: 0.7014795918367347\n",
      "Epoch: 18\n",
      "current_weight_diff: 0.10493109008231843\n",
      "sqrd_recon_error: 0.6596556122448979\n",
      "Epoch: 19\n",
      "current_weight_diff: 0.07865868796309254\n",
      "sqrd_recon_error: 0.6568048469387755\n"
     ]
    },
    {
     "data": {
      "application/vnd.jupyter.widget-view+json": {
       "model_id": "8cccbfaed0654e04ab4f08d62337aa47",
       "version_major": 2,
       "version_minor": 0
      },
      "text/plain": [
       "VBox(children=(Label(value='0.001 MB of 0.001 MB uploaded\\r'), FloatProgress(value=1.0, max=1.0)))"
      ]
     },
     "metadata": {},
     "output_type": "display_data"
    },
    {
     "name": "stderr",
     "output_type": "stream",
     "text": [
      "\u001b[34m\u001b[1mwandb\u001b[0m: \u001b[32m\u001b[41mERROR\u001b[0m Problem finishing run\n",
      "Traceback (most recent call last):\n",
      "  File \"/Library/Frameworks/Python.framework/Versions/3.10/lib/python3.10/site-packages/wandb/sdk/wandb_run.py\", line 2313, in _atexit_cleanup\n",
      "    self._on_finish()\n",
      "  File \"/Library/Frameworks/Python.framework/Versions/3.10/lib/python3.10/site-packages/wandb/sdk/wandb_run.py\", line 2567, in _on_finish\n",
      "    self._footer_file_pusher_status_info(\n",
      "  File \"/Library/Frameworks/Python.framework/Versions/3.10/lib/python3.10/site-packages/wandb/sdk/wandb_run.py\", line 3749, in _footer_file_pusher_status_info\n",
      "    Run._footer_single_run_file_pusher_status_info(\n",
      "  File \"/Library/Frameworks/Python.framework/Versions/3.10/lib/python3.10/site-packages/wandb/sdk/wandb_run.py\", line 3802, in _footer_single_run_file_pusher_status_info\n",
      "    printer.progress_close()\n",
      "  File \"/Library/Frameworks/Python.framework/Versions/3.10/lib/python3.10/site-packages/wandb/sdk/lib/printer.py\", line 292, in progress_close\n",
      "    self._progress.close()\n",
      "  File \"/Library/Frameworks/Python.framework/Versions/3.10/lib/python3.10/site-packages/wandb/sdk/lib/ipython.py\", line 128, in close\n",
      "    self._widget.close()\n",
      "  File \"/Users/lucasericsson/Library/Python/3.10/lib/python/site-packages/ipywidgets/widgets/widget.py\", line 500, in close\n",
      "    self.comm.close()\n",
      "  File \"/Users/lucasericsson/Library/Python/3.10/lib/python/site-packages/comm/base_comm.py\", line 109, in close\n",
      "    comm.get_comm_manager().unregister_comm(self)\n",
      "  File \"/Users/lucasericsson/Library/Python/3.10/lib/python/site-packages/comm/base_comm.py\", line 199, in unregister_comm\n",
      "    comm = self.comms.pop(comm.comm_id)\n",
      "KeyError: '8cccbfaed0654e04ab4f08d62337aa47'\n",
      "\u001b[34m\u001b[1mwandb\u001b[0m: Agent Starting Run: i6y2eu8g with config:\n",
      "\u001b[34m\u001b[1mwandb\u001b[0m: \tepochs: 10\n",
      "\u001b[34m\u001b[1mwandb\u001b[0m: \thidden_units: 784\n",
      "\u001b[34m\u001b[1mwandb\u001b[0m: \tk: 10\n",
      "\u001b[34m\u001b[1mwandb\u001b[0m: \tminibatch: 100\n",
      "Failed to detect the name of this notebook, you can set it manually with the WANDB_NOTEBOOK_NAME environment variable to enable code saving.\n",
      "\u001b[34m\u001b[1mwandb\u001b[0m: \u001b[33mWARNING\u001b[0m Ignored wandb.init() arg project when running a sweep.\n"
     ]
    },
    {
     "data": {
      "text/html": [
       "Tracking run with wandb version 0.16.6"
      ],
      "text/plain": [
       "<IPython.core.display.HTML object>"
      ]
     },
     "metadata": {},
     "output_type": "display_data"
    },
    {
     "data": {
      "text/html": [
       "Run data is saved locally in <code>/Users/lucasericsson/repos/restricted-boltzmann-machine/wandb/run-20240409_020515-i6y2eu8g</code>"
      ],
      "text/plain": [
       "<IPython.core.display.HTML object>"
      ]
     },
     "metadata": {},
     "output_type": "display_data"
    },
    {
     "data": {
      "text/html": [
       "Syncing run <strong><a href='https://wandb.ai/lucasericsson222/restricted_boltzmann_machine_sweep/runs/i6y2eu8g' target=\"_blank\">celestial-sweep-54</a></strong> to <a href='https://wandb.ai/lucasericsson222/restricted_boltzmann_machine_sweep' target=\"_blank\">Weights & Biases</a> (<a href='https://wandb.me/run' target=\"_blank\">docs</a>)<br/>Sweep page: <a href='https://wandb.ai/lucasericsson222/restricted_boltzmann_machine_sweep/sweeps/r1b5058x' target=\"_blank\">https://wandb.ai/lucasericsson222/restricted_boltzmann_machine_sweep/sweeps/r1b5058x</a>"
      ],
      "text/plain": [
       "<IPython.core.display.HTML object>"
      ]
     },
     "metadata": {},
     "output_type": "display_data"
    },
    {
     "data": {
      "text/html": [
       " View project at <a href='https://wandb.ai/lucasericsson222/restricted_boltzmann_machine_sweep' target=\"_blank\">https://wandb.ai/lucasericsson222/restricted_boltzmann_machine_sweep</a>"
      ],
      "text/plain": [
       "<IPython.core.display.HTML object>"
      ]
     },
     "metadata": {},
     "output_type": "display_data"
    },
    {
     "data": {
      "text/html": [
       " View sweep at <a href='https://wandb.ai/lucasericsson222/restricted_boltzmann_machine_sweep/sweeps/r1b5058x' target=\"_blank\">https://wandb.ai/lucasericsson222/restricted_boltzmann_machine_sweep/sweeps/r1b5058x</a>"
      ],
      "text/plain": [
       "<IPython.core.display.HTML object>"
      ]
     },
     "metadata": {},
     "output_type": "display_data"
    },
    {
     "data": {
      "text/html": [
       " View run at <a href='https://wandb.ai/lucasericsson222/restricted_boltzmann_machine_sweep/runs/i6y2eu8g' target=\"_blank\">https://wandb.ai/lucasericsson222/restricted_boltzmann_machine_sweep/runs/i6y2eu8g</a>"
      ],
      "text/plain": [
       "<IPython.core.display.HTML object>"
      ]
     },
     "metadata": {},
     "output_type": "display_data"
    },
    {
     "name": "stdout",
     "output_type": "stream",
     "text": [
      "(60000, 784)\n",
      "Epoch: 0\n",
      "current_weight_diff: 12.97113239317473\n",
      "sqrd_recon_error: 0.2903061224489796\n",
      "Epoch: 1\n",
      "current_weight_diff: 3.98534921085139\n",
      "sqrd_recon_error: 0.27116071428571425\n",
      "Epoch: 2\n",
      "current_weight_diff: 2.062856373142756\n",
      "sqrd_recon_error: 0.4461607142857143\n",
      "Epoch: 3\n",
      "current_weight_diff: 2.0698599639754667\n",
      "sqrd_recon_error: 0.18215561224489796\n",
      "Epoch: 4\n",
      "current_weight_diff: 0.8359191141439234\n",
      "sqrd_recon_error: 0.270765306122449\n",
      "Epoch: 5\n",
      "current_weight_diff: 0.9461504903502581\n",
      "sqrd_recon_error: 0.16475765306122447\n",
      "Epoch: 6\n",
      "current_weight_diff: 0.5891074131548087\n",
      "sqrd_recon_error: 0.2898469387755102\n",
      "Epoch: 7\n",
      "current_weight_diff: 0.5862462165011518\n",
      "sqrd_recon_error: 0.23280612244897958\n",
      "Epoch: 8\n",
      "current_weight_diff: 0.5282671539664673\n",
      "sqrd_recon_error: 0.16059948979591837\n",
      "Epoch: 9\n",
      "current_weight_diff: 0.48615796415404416\n",
      "sqrd_recon_error: 0.13801020408163267\n"
     ]
    },
    {
     "data": {
      "application/vnd.jupyter.widget-view+json": {
       "model_id": "7710709be9e44ac7aaa2623262906605",
       "version_major": 2,
       "version_minor": 0
      },
      "text/plain": [
       "VBox(children=(Label(value='0.001 MB of 0.005 MB uploaded\\r'), FloatProgress(value=0.20910589204779564, max=1.…"
      ]
     },
     "metadata": {},
     "output_type": "display_data"
    },
    {
     "name": "stderr",
     "output_type": "stream",
     "text": [
      "\u001b[34m\u001b[1mwandb\u001b[0m: \u001b[32m\u001b[41mERROR\u001b[0m Problem finishing run\n",
      "Traceback (most recent call last):\n",
      "  File \"/Library/Frameworks/Python.framework/Versions/3.10/lib/python3.10/site-packages/wandb/sdk/wandb_run.py\", line 2313, in _atexit_cleanup\n",
      "    self._on_finish()\n",
      "  File \"/Library/Frameworks/Python.framework/Versions/3.10/lib/python3.10/site-packages/wandb/sdk/wandb_run.py\", line 2567, in _on_finish\n",
      "    self._footer_file_pusher_status_info(\n",
      "  File \"/Library/Frameworks/Python.framework/Versions/3.10/lib/python3.10/site-packages/wandb/sdk/wandb_run.py\", line 3749, in _footer_file_pusher_status_info\n",
      "    Run._footer_single_run_file_pusher_status_info(\n",
      "  File \"/Library/Frameworks/Python.framework/Versions/3.10/lib/python3.10/site-packages/wandb/sdk/wandb_run.py\", line 3802, in _footer_single_run_file_pusher_status_info\n",
      "    printer.progress_close()\n",
      "  File \"/Library/Frameworks/Python.framework/Versions/3.10/lib/python3.10/site-packages/wandb/sdk/lib/printer.py\", line 292, in progress_close\n",
      "    self._progress.close()\n",
      "  File \"/Library/Frameworks/Python.framework/Versions/3.10/lib/python3.10/site-packages/wandb/sdk/lib/ipython.py\", line 128, in close\n",
      "    self._widget.close()\n",
      "  File \"/Users/lucasericsson/Library/Python/3.10/lib/python/site-packages/ipywidgets/widgets/widget.py\", line 500, in close\n",
      "    self.comm.close()\n",
      "  File \"/Users/lucasericsson/Library/Python/3.10/lib/python/site-packages/comm/base_comm.py\", line 109, in close\n",
      "    comm.get_comm_manager().unregister_comm(self)\n",
      "  File \"/Users/lucasericsson/Library/Python/3.10/lib/python/site-packages/comm/base_comm.py\", line 199, in unregister_comm\n",
      "    comm = self.comms.pop(comm.comm_id)\n",
      "KeyError: '7710709be9e44ac7aaa2623262906605'\n",
      "\u001b[34m\u001b[1mwandb\u001b[0m: Agent Starting Run: 6u7ypfgw with config:\n",
      "\u001b[34m\u001b[1mwandb\u001b[0m: \tepochs: 5\n",
      "\u001b[34m\u001b[1mwandb\u001b[0m: \thidden_units: 300\n",
      "\u001b[34m\u001b[1mwandb\u001b[0m: \tk: 4\n",
      "\u001b[34m\u001b[1mwandb\u001b[0m: \tminibatch: 200\n",
      "Failed to detect the name of this notebook, you can set it manually with the WANDB_NOTEBOOK_NAME environment variable to enable code saving.\n",
      "\u001b[34m\u001b[1mwandb\u001b[0m: \u001b[33mWARNING\u001b[0m Ignored wandb.init() arg project when running a sweep.\n"
     ]
    },
    {
     "data": {
      "text/html": [
       "Tracking run with wandb version 0.16.6"
      ],
      "text/plain": [
       "<IPython.core.display.HTML object>"
      ]
     },
     "metadata": {},
     "output_type": "display_data"
    },
    {
     "data": {
      "text/html": [
       "Run data is saved locally in <code>/Users/lucasericsson/repos/restricted-boltzmann-machine/wandb/run-20240409_020909-6u7ypfgw</code>"
      ],
      "text/plain": [
       "<IPython.core.display.HTML object>"
      ]
     },
     "metadata": {},
     "output_type": "display_data"
    },
    {
     "data": {
      "text/html": [
       "Syncing run <strong><a href='https://wandb.ai/lucasericsson222/restricted_boltzmann_machine_sweep/runs/6u7ypfgw' target=\"_blank\">clean-sweep-55</a></strong> to <a href='https://wandb.ai/lucasericsson222/restricted_boltzmann_machine_sweep' target=\"_blank\">Weights & Biases</a> (<a href='https://wandb.me/run' target=\"_blank\">docs</a>)<br/>Sweep page: <a href='https://wandb.ai/lucasericsson222/restricted_boltzmann_machine_sweep/sweeps/r1b5058x' target=\"_blank\">https://wandb.ai/lucasericsson222/restricted_boltzmann_machine_sweep/sweeps/r1b5058x</a>"
      ],
      "text/plain": [
       "<IPython.core.display.HTML object>"
      ]
     },
     "metadata": {},
     "output_type": "display_data"
    },
    {
     "data": {
      "text/html": [
       " View project at <a href='https://wandb.ai/lucasericsson222/restricted_boltzmann_machine_sweep' target=\"_blank\">https://wandb.ai/lucasericsson222/restricted_boltzmann_machine_sweep</a>"
      ],
      "text/plain": [
       "<IPython.core.display.HTML object>"
      ]
     },
     "metadata": {},
     "output_type": "display_data"
    },
    {
     "data": {
      "text/html": [
       " View sweep at <a href='https://wandb.ai/lucasericsson222/restricted_boltzmann_machine_sweep/sweeps/r1b5058x' target=\"_blank\">https://wandb.ai/lucasericsson222/restricted_boltzmann_machine_sweep/sweeps/r1b5058x</a>"
      ],
      "text/plain": [
       "<IPython.core.display.HTML object>"
      ]
     },
     "metadata": {},
     "output_type": "display_data"
    },
    {
     "data": {
      "text/html": [
       " View run at <a href='https://wandb.ai/lucasericsson222/restricted_boltzmann_machine_sweep/runs/6u7ypfgw' target=\"_blank\">https://wandb.ai/lucasericsson222/restricted_boltzmann_machine_sweep/runs/6u7ypfgw</a>"
      ],
      "text/plain": [
       "<IPython.core.display.HTML object>"
      ]
     },
     "metadata": {},
     "output_type": "display_data"
    },
    {
     "name": "stdout",
     "output_type": "stream",
     "text": [
      "(60000, 784)\n",
      "Epoch: 0\n",
      "current_weight_diff: 26.57849728432274\n",
      "sqrd_recon_error: 1.3772066326530612\n",
      "Epoch: 1\n",
      "current_weight_diff: 1.744812151366777\n",
      "sqrd_recon_error: 0.8840178571428571\n",
      "Epoch: 2\n",
      "current_weight_diff: 2.3006535899478577\n",
      "sqrd_recon_error: 0.7119323979591837\n",
      "Epoch: 3\n",
      "current_weight_diff: 1.0579317980862128\n",
      "sqrd_recon_error: 0.6297066326530613\n",
      "Epoch: 4\n",
      "current_weight_diff: 0.8858008182325815\n",
      "sqrd_recon_error: 0.3879783163265306\n"
     ]
    },
    {
     "data": {
      "application/vnd.jupyter.widget-view+json": {
       "model_id": "79e5d718c670460981c02597cb419cce",
       "version_major": 2,
       "version_minor": 0
      },
      "text/plain": [
       "VBox(children=(Label(value='0.001 MB of 0.001 MB uploaded\\r'), FloatProgress(value=1.0, max=1.0)))"
      ]
     },
     "metadata": {},
     "output_type": "display_data"
    },
    {
     "name": "stderr",
     "output_type": "stream",
     "text": [
      "\u001b[34m\u001b[1mwandb\u001b[0m: \u001b[32m\u001b[41mERROR\u001b[0m Problem finishing run\n",
      "Traceback (most recent call last):\n",
      "  File \"/Library/Frameworks/Python.framework/Versions/3.10/lib/python3.10/site-packages/wandb/sdk/wandb_run.py\", line 2313, in _atexit_cleanup\n",
      "    self._on_finish()\n",
      "  File \"/Library/Frameworks/Python.framework/Versions/3.10/lib/python3.10/site-packages/wandb/sdk/wandb_run.py\", line 2567, in _on_finish\n",
      "    self._footer_file_pusher_status_info(\n",
      "  File \"/Library/Frameworks/Python.framework/Versions/3.10/lib/python3.10/site-packages/wandb/sdk/wandb_run.py\", line 3749, in _footer_file_pusher_status_info\n",
      "    Run._footer_single_run_file_pusher_status_info(\n",
      "  File \"/Library/Frameworks/Python.framework/Versions/3.10/lib/python3.10/site-packages/wandb/sdk/wandb_run.py\", line 3802, in _footer_single_run_file_pusher_status_info\n",
      "    printer.progress_close()\n",
      "  File \"/Library/Frameworks/Python.framework/Versions/3.10/lib/python3.10/site-packages/wandb/sdk/lib/printer.py\", line 292, in progress_close\n",
      "    self._progress.close()\n",
      "  File \"/Library/Frameworks/Python.framework/Versions/3.10/lib/python3.10/site-packages/wandb/sdk/lib/ipython.py\", line 128, in close\n",
      "    self._widget.close()\n",
      "  File \"/Users/lucasericsson/Library/Python/3.10/lib/python/site-packages/ipywidgets/widgets/widget.py\", line 500, in close\n",
      "    self.comm.close()\n",
      "  File \"/Users/lucasericsson/Library/Python/3.10/lib/python/site-packages/comm/base_comm.py\", line 109, in close\n",
      "    comm.get_comm_manager().unregister_comm(self)\n",
      "  File \"/Users/lucasericsson/Library/Python/3.10/lib/python/site-packages/comm/base_comm.py\", line 199, in unregister_comm\n",
      "    comm = self.comms.pop(comm.comm_id)\n",
      "KeyError: '79e5d718c670460981c02597cb419cce'\n",
      "\u001b[34m\u001b[1mwandb\u001b[0m: Agent Starting Run: 1rc7df87 with config:\n",
      "\u001b[34m\u001b[1mwandb\u001b[0m: \tepochs: 2\n",
      "\u001b[34m\u001b[1mwandb\u001b[0m: \thidden_units: 20\n",
      "\u001b[34m\u001b[1mwandb\u001b[0m: \tk: 5\n",
      "\u001b[34m\u001b[1mwandb\u001b[0m: \tminibatch: 50\n",
      "Failed to detect the name of this notebook, you can set it manually with the WANDB_NOTEBOOK_NAME environment variable to enable code saving.\n",
      "\u001b[34m\u001b[1mwandb\u001b[0m: \u001b[33mWARNING\u001b[0m Ignored wandb.init() arg project when running a sweep.\n"
     ]
    },
    {
     "data": {
      "text/html": [
       "Tracking run with wandb version 0.16.6"
      ],
      "text/plain": [
       "<IPython.core.display.HTML object>"
      ]
     },
     "metadata": {},
     "output_type": "display_data"
    },
    {
     "data": {
      "text/html": [
       "Run data is saved locally in <code>/Users/lucasericsson/repos/restricted-boltzmann-machine/wandb/run-20240409_021012-1rc7df87</code>"
      ],
      "text/plain": [
       "<IPython.core.display.HTML object>"
      ]
     },
     "metadata": {},
     "output_type": "display_data"
    },
    {
     "data": {
      "text/html": [
       "Syncing run <strong><a href='https://wandb.ai/lucasericsson222/restricted_boltzmann_machine_sweep/runs/1rc7df87' target=\"_blank\">winter-sweep-56</a></strong> to <a href='https://wandb.ai/lucasericsson222/restricted_boltzmann_machine_sweep' target=\"_blank\">Weights & Biases</a> (<a href='https://wandb.me/run' target=\"_blank\">docs</a>)<br/>Sweep page: <a href='https://wandb.ai/lucasericsson222/restricted_boltzmann_machine_sweep/sweeps/r1b5058x' target=\"_blank\">https://wandb.ai/lucasericsson222/restricted_boltzmann_machine_sweep/sweeps/r1b5058x</a>"
      ],
      "text/plain": [
       "<IPython.core.display.HTML object>"
      ]
     },
     "metadata": {},
     "output_type": "display_data"
    },
    {
     "data": {
      "text/html": [
       " View project at <a href='https://wandb.ai/lucasericsson222/restricted_boltzmann_machine_sweep' target=\"_blank\">https://wandb.ai/lucasericsson222/restricted_boltzmann_machine_sweep</a>"
      ],
      "text/plain": [
       "<IPython.core.display.HTML object>"
      ]
     },
     "metadata": {},
     "output_type": "display_data"
    },
    {
     "data": {
      "text/html": [
       " View sweep at <a href='https://wandb.ai/lucasericsson222/restricted_boltzmann_machine_sweep/sweeps/r1b5058x' target=\"_blank\">https://wandb.ai/lucasericsson222/restricted_boltzmann_machine_sweep/sweeps/r1b5058x</a>"
      ],
      "text/plain": [
       "<IPython.core.display.HTML object>"
      ]
     },
     "metadata": {},
     "output_type": "display_data"
    },
    {
     "data": {
      "text/html": [
       " View run at <a href='https://wandb.ai/lucasericsson222/restricted_boltzmann_machine_sweep/runs/1rc7df87' target=\"_blank\">https://wandb.ai/lucasericsson222/restricted_boltzmann_machine_sweep/runs/1rc7df87</a>"
      ],
      "text/plain": [
       "<IPython.core.display.HTML object>"
      ]
     },
     "metadata": {},
     "output_type": "display_data"
    },
    {
     "name": "stdout",
     "output_type": "stream",
     "text": [
      "(60000, 784)\n",
      "Epoch: 0\n",
      "current_weight_diff: 54.17633966452415\n",
      "sqrd_recon_error: 2.4118367346938774\n",
      "Epoch: 1\n",
      "current_weight_diff: 0.5781772676591719\n",
      "sqrd_recon_error: 1.3740816326530612\n"
     ]
    },
    {
     "data": {
      "application/vnd.jupyter.widget-view+json": {
       "model_id": "d33b953f5c8e40b799d855fdbc608b2b",
       "version_major": 2,
       "version_minor": 0
      },
      "text/plain": [
       "VBox(children=(Label(value='0.001 MB of 0.001 MB uploaded\\r'), FloatProgress(value=1.0, max=1.0)))"
      ]
     },
     "metadata": {},
     "output_type": "display_data"
    },
    {
     "name": "stderr",
     "output_type": "stream",
     "text": [
      "\u001b[34m\u001b[1mwandb\u001b[0m: \u001b[32m\u001b[41mERROR\u001b[0m Problem finishing run\n",
      "Traceback (most recent call last):\n",
      "  File \"/Library/Frameworks/Python.framework/Versions/3.10/lib/python3.10/site-packages/wandb/sdk/wandb_run.py\", line 2313, in _atexit_cleanup\n",
      "    self._on_finish()\n",
      "  File \"/Library/Frameworks/Python.framework/Versions/3.10/lib/python3.10/site-packages/wandb/sdk/wandb_run.py\", line 2567, in _on_finish\n",
      "    self._footer_file_pusher_status_info(\n",
      "  File \"/Library/Frameworks/Python.framework/Versions/3.10/lib/python3.10/site-packages/wandb/sdk/wandb_run.py\", line 3749, in _footer_file_pusher_status_info\n",
      "    Run._footer_single_run_file_pusher_status_info(\n",
      "  File \"/Library/Frameworks/Python.framework/Versions/3.10/lib/python3.10/site-packages/wandb/sdk/wandb_run.py\", line 3802, in _footer_single_run_file_pusher_status_info\n",
      "    printer.progress_close()\n",
      "  File \"/Library/Frameworks/Python.framework/Versions/3.10/lib/python3.10/site-packages/wandb/sdk/lib/printer.py\", line 292, in progress_close\n",
      "    self._progress.close()\n",
      "  File \"/Library/Frameworks/Python.framework/Versions/3.10/lib/python3.10/site-packages/wandb/sdk/lib/ipython.py\", line 128, in close\n",
      "    self._widget.close()\n",
      "  File \"/Users/lucasericsson/Library/Python/3.10/lib/python/site-packages/ipywidgets/widgets/widget.py\", line 500, in close\n",
      "    self.comm.close()\n",
      "  File \"/Users/lucasericsson/Library/Python/3.10/lib/python/site-packages/comm/base_comm.py\", line 109, in close\n",
      "    comm.get_comm_manager().unregister_comm(self)\n",
      "  File \"/Users/lucasericsson/Library/Python/3.10/lib/python/site-packages/comm/base_comm.py\", line 199, in unregister_comm\n",
      "    comm = self.comms.pop(comm.comm_id)\n",
      "KeyError: 'd33b953f5c8e40b799d855fdbc608b2b'\n",
      "\u001b[34m\u001b[1mwandb\u001b[0m: Sweep Agent: Waiting for job.\n",
      "\u001b[34m\u001b[1mwandb\u001b[0m: Job received.\n",
      "\u001b[34m\u001b[1mwandb\u001b[0m: Agent Starting Run: ex221wds with config:\n",
      "\u001b[34m\u001b[1mwandb\u001b[0m: \tepochs: 5\n",
      "\u001b[34m\u001b[1mwandb\u001b[0m: \thidden_units: 784\n",
      "\u001b[34m\u001b[1mwandb\u001b[0m: \tk: 1\n",
      "\u001b[34m\u001b[1mwandb\u001b[0m: \tminibatch: 50\n",
      "Failed to detect the name of this notebook, you can set it manually with the WANDB_NOTEBOOK_NAME environment variable to enable code saving.\n",
      "\u001b[34m\u001b[1mwandb\u001b[0m: \u001b[33mWARNING\u001b[0m Ignored wandb.init() arg project when running a sweep.\n"
     ]
    },
    {
     "data": {
      "application/vnd.jupyter.widget-view+json": {
       "model_id": "d2b2a8b8702f41c2be6b8c4e4bab4f6d",
       "version_major": 2,
       "version_minor": 0
      },
      "text/plain": [
       "VBox(children=(Label(value='Waiting for wandb.init()...\\r'), FloatProgress(value=0.011225240277902533, max=1.0…"
      ]
     },
     "metadata": {},
     "output_type": "display_data"
    },
    {
     "data": {
      "text/html": [
       "Tracking run with wandb version 0.16.6"
      ],
      "text/plain": [
       "<IPython.core.display.HTML object>"
      ]
     },
     "metadata": {},
     "output_type": "display_data"
    },
    {
     "data": {
      "text/html": [
       "Run data is saved locally in <code>/Users/lucasericsson/repos/restricted-boltzmann-machine/wandb/run-20240409_021031-ex221wds</code>"
      ],
      "text/plain": [
       "<IPython.core.display.HTML object>"
      ]
     },
     "metadata": {},
     "output_type": "display_data"
    },
    {
     "data": {
      "text/html": [
       "Syncing run <strong><a href='https://wandb.ai/lucasericsson222/restricted_boltzmann_machine_sweep/runs/ex221wds' target=\"_blank\">peach-sweep-57</a></strong> to <a href='https://wandb.ai/lucasericsson222/restricted_boltzmann_machine_sweep' target=\"_blank\">Weights & Biases</a> (<a href='https://wandb.me/run' target=\"_blank\">docs</a>)<br/>Sweep page: <a href='https://wandb.ai/lucasericsson222/restricted_boltzmann_machine_sweep/sweeps/r1b5058x' target=\"_blank\">https://wandb.ai/lucasericsson222/restricted_boltzmann_machine_sweep/sweeps/r1b5058x</a>"
      ],
      "text/plain": [
       "<IPython.core.display.HTML object>"
      ]
     },
     "metadata": {},
     "output_type": "display_data"
    },
    {
     "data": {
      "text/html": [
       " View project at <a href='https://wandb.ai/lucasericsson222/restricted_boltzmann_machine_sweep' target=\"_blank\">https://wandb.ai/lucasericsson222/restricted_boltzmann_machine_sweep</a>"
      ],
      "text/plain": [
       "<IPython.core.display.HTML object>"
      ]
     },
     "metadata": {},
     "output_type": "display_data"
    },
    {
     "data": {
      "text/html": [
       " View sweep at <a href='https://wandb.ai/lucasericsson222/restricted_boltzmann_machine_sweep/sweeps/r1b5058x' target=\"_blank\">https://wandb.ai/lucasericsson222/restricted_boltzmann_machine_sweep/sweeps/r1b5058x</a>"
      ],
      "text/plain": [
       "<IPython.core.display.HTML object>"
      ]
     },
     "metadata": {},
     "output_type": "display_data"
    },
    {
     "data": {
      "text/html": [
       " View run at <a href='https://wandb.ai/lucasericsson222/restricted_boltzmann_machine_sweep/runs/ex221wds' target=\"_blank\">https://wandb.ai/lucasericsson222/restricted_boltzmann_machine_sweep/runs/ex221wds</a>"
      ],
      "text/plain": [
       "<IPython.core.display.HTML object>"
      ]
     },
     "metadata": {},
     "output_type": "display_data"
    },
    {
     "name": "stdout",
     "output_type": "stream",
     "text": [
      "(60000, 784)\n",
      "Epoch: 0\n",
      "current_weight_diff: 10.409066352454772\n",
      "sqrd_recon_error: 0.3070663265306122\n",
      "Epoch: 1\n",
      "current_weight_diff: 2.6136870357489803\n",
      "sqrd_recon_error: 0.21849489795918367\n",
      "Epoch: 2\n",
      "current_weight_diff: 1.9793924621614425\n",
      "sqrd_recon_error: 0.17492346938775513\n",
      "Epoch: 3\n",
      "current_weight_diff: 2.0178884435726685\n",
      "sqrd_recon_error: 0.16211734693877553\n",
      "Epoch: 4\n",
      "current_weight_diff: 1.0578568444076093\n",
      "sqrd_recon_error: 0.12943877551020408\n"
     ]
    },
    {
     "data": {
      "application/vnd.jupyter.widget-view+json": {
       "model_id": "21f74f39c2b74dcebc30c9137bb03710",
       "version_major": 2,
       "version_minor": 0
      },
      "text/plain": [
       "VBox(children=(Label(value='0.001 MB of 0.001 MB uploaded\\r'), FloatProgress(value=1.0, max=1.0)))"
      ]
     },
     "metadata": {},
     "output_type": "display_data"
    },
    {
     "name": "stderr",
     "output_type": "stream",
     "text": [
      "\u001b[34m\u001b[1mwandb\u001b[0m: \u001b[32m\u001b[41mERROR\u001b[0m Problem finishing run\n",
      "Traceback (most recent call last):\n",
      "  File \"/Library/Frameworks/Python.framework/Versions/3.10/lib/python3.10/site-packages/wandb/sdk/wandb_run.py\", line 2313, in _atexit_cleanup\n",
      "    self._on_finish()\n",
      "  File \"/Library/Frameworks/Python.framework/Versions/3.10/lib/python3.10/site-packages/wandb/sdk/wandb_run.py\", line 2567, in _on_finish\n",
      "    self._footer_file_pusher_status_info(\n",
      "  File \"/Library/Frameworks/Python.framework/Versions/3.10/lib/python3.10/site-packages/wandb/sdk/wandb_run.py\", line 3749, in _footer_file_pusher_status_info\n",
      "    Run._footer_single_run_file_pusher_status_info(\n",
      "  File \"/Library/Frameworks/Python.framework/Versions/3.10/lib/python3.10/site-packages/wandb/sdk/wandb_run.py\", line 3802, in _footer_single_run_file_pusher_status_info\n",
      "    printer.progress_close()\n",
      "  File \"/Library/Frameworks/Python.framework/Versions/3.10/lib/python3.10/site-packages/wandb/sdk/lib/printer.py\", line 292, in progress_close\n",
      "    self._progress.close()\n",
      "  File \"/Library/Frameworks/Python.framework/Versions/3.10/lib/python3.10/site-packages/wandb/sdk/lib/ipython.py\", line 128, in close\n",
      "    self._widget.close()\n",
      "  File \"/Users/lucasericsson/Library/Python/3.10/lib/python/site-packages/ipywidgets/widgets/widget.py\", line 500, in close\n",
      "    self.comm.close()\n",
      "  File \"/Users/lucasericsson/Library/Python/3.10/lib/python/site-packages/comm/base_comm.py\", line 109, in close\n",
      "    comm.get_comm_manager().unregister_comm(self)\n",
      "  File \"/Users/lucasericsson/Library/Python/3.10/lib/python/site-packages/comm/base_comm.py\", line 199, in unregister_comm\n",
      "    comm = self.comms.pop(comm.comm_id)\n",
      "KeyError: '21f74f39c2b74dcebc30c9137bb03710'\n",
      "\u001b[34m\u001b[1mwandb\u001b[0m: Agent Starting Run: arrhtp6s with config:\n",
      "\u001b[34m\u001b[1mwandb\u001b[0m: \tepochs: 5\n",
      "\u001b[34m\u001b[1mwandb\u001b[0m: \thidden_units: 10\n",
      "\u001b[34m\u001b[1mwandb\u001b[0m: \tk: 3\n",
      "\u001b[34m\u001b[1mwandb\u001b[0m: \tminibatch: 200\n",
      "Failed to detect the name of this notebook, you can set it manually with the WANDB_NOTEBOOK_NAME environment variable to enable code saving.\n",
      "\u001b[34m\u001b[1mwandb\u001b[0m: \u001b[33mWARNING\u001b[0m Ignored wandb.init() arg project when running a sweep.\n"
     ]
    },
    {
     "data": {
      "text/html": [
       "Tracking run with wandb version 0.16.6"
      ],
      "text/plain": [
       "<IPython.core.display.HTML object>"
      ]
     },
     "metadata": {},
     "output_type": "display_data"
    },
    {
     "data": {
      "text/html": [
       "Run data is saved locally in <code>/Users/lucasericsson/repos/restricted-boltzmann-machine/wandb/run-20240409_021122-arrhtp6s</code>"
      ],
      "text/plain": [
       "<IPython.core.display.HTML object>"
      ]
     },
     "metadata": {},
     "output_type": "display_data"
    },
    {
     "data": {
      "text/html": [
       "Syncing run <strong><a href='https://wandb.ai/lucasericsson222/restricted_boltzmann_machine_sweep/runs/arrhtp6s' target=\"_blank\">eternal-sweep-58</a></strong> to <a href='https://wandb.ai/lucasericsson222/restricted_boltzmann_machine_sweep' target=\"_blank\">Weights & Biases</a> (<a href='https://wandb.me/run' target=\"_blank\">docs</a>)<br/>Sweep page: <a href='https://wandb.ai/lucasericsson222/restricted_boltzmann_machine_sweep/sweeps/r1b5058x' target=\"_blank\">https://wandb.ai/lucasericsson222/restricted_boltzmann_machine_sweep/sweeps/r1b5058x</a>"
      ],
      "text/plain": [
       "<IPython.core.display.HTML object>"
      ]
     },
     "metadata": {},
     "output_type": "display_data"
    },
    {
     "data": {
      "text/html": [
       " View project at <a href='https://wandb.ai/lucasericsson222/restricted_boltzmann_machine_sweep' target=\"_blank\">https://wandb.ai/lucasericsson222/restricted_boltzmann_machine_sweep</a>"
      ],
      "text/plain": [
       "<IPython.core.display.HTML object>"
      ]
     },
     "metadata": {},
     "output_type": "display_data"
    },
    {
     "data": {
      "text/html": [
       " View sweep at <a href='https://wandb.ai/lucasericsson222/restricted_boltzmann_machine_sweep/sweeps/r1b5058x' target=\"_blank\">https://wandb.ai/lucasericsson222/restricted_boltzmann_machine_sweep/sweeps/r1b5058x</a>"
      ],
      "text/plain": [
       "<IPython.core.display.HTML object>"
      ]
     },
     "metadata": {},
     "output_type": "display_data"
    },
    {
     "data": {
      "text/html": [
       " View run at <a href='https://wandb.ai/lucasericsson222/restricted_boltzmann_machine_sweep/runs/arrhtp6s' target=\"_blank\">https://wandb.ai/lucasericsson222/restricted_boltzmann_machine_sweep/runs/arrhtp6s</a>"
      ],
      "text/plain": [
       "<IPython.core.display.HTML object>"
      ]
     },
     "metadata": {},
     "output_type": "display_data"
    },
    {
     "name": "stdout",
     "output_type": "stream",
     "text": [
      "(60000, 784)\n",
      "Epoch: 0\n",
      "current_weight_diff: 67.19671717267549\n",
      "sqrd_recon_error: 9.187614795918368\n",
      "Epoch: 1\n",
      "current_weight_diff: 0.7633256348864418\n",
      "sqrd_recon_error: 4.421543367346938\n",
      "Epoch: 2\n",
      "current_weight_diff: 0.2679927156426497\n",
      "sqrd_recon_error: 3.0748660714285716\n",
      "Epoch: 3\n",
      "current_weight_diff: 0.16775231285287215\n",
      "sqrd_recon_error: 2.394081632653061\n",
      "Epoch: 4\n",
      "current_weight_diff: 0.1464522261209717\n",
      "sqrd_recon_error: 2.087391581632653\n"
     ]
    },
    {
     "data": {
      "application/vnd.jupyter.widget-view+json": {
       "model_id": "44ef443b0b6c43af8554ae745ec000fb",
       "version_major": 2,
       "version_minor": 0
      },
      "text/plain": [
       "VBox(children=(Label(value='0.001 MB of 0.003 MB uploaded\\r'), FloatProgress(value=0.29108115858904504, max=1.…"
      ]
     },
     "metadata": {},
     "output_type": "display_data"
    },
    {
     "name": "stderr",
     "output_type": "stream",
     "text": [
      "\u001b[34m\u001b[1mwandb\u001b[0m: \u001b[32m\u001b[41mERROR\u001b[0m Problem finishing run\n",
      "Traceback (most recent call last):\n",
      "  File \"/Library/Frameworks/Python.framework/Versions/3.10/lib/python3.10/site-packages/wandb/sdk/wandb_run.py\", line 2313, in _atexit_cleanup\n",
      "    self._on_finish()\n",
      "  File \"/Library/Frameworks/Python.framework/Versions/3.10/lib/python3.10/site-packages/wandb/sdk/wandb_run.py\", line 2567, in _on_finish\n",
      "    self._footer_file_pusher_status_info(\n",
      "  File \"/Library/Frameworks/Python.framework/Versions/3.10/lib/python3.10/site-packages/wandb/sdk/wandb_run.py\", line 3749, in _footer_file_pusher_status_info\n",
      "    Run._footer_single_run_file_pusher_status_info(\n",
      "  File \"/Library/Frameworks/Python.framework/Versions/3.10/lib/python3.10/site-packages/wandb/sdk/wandb_run.py\", line 3802, in _footer_single_run_file_pusher_status_info\n",
      "    printer.progress_close()\n",
      "  File \"/Library/Frameworks/Python.framework/Versions/3.10/lib/python3.10/site-packages/wandb/sdk/lib/printer.py\", line 292, in progress_close\n",
      "    self._progress.close()\n",
      "  File \"/Library/Frameworks/Python.framework/Versions/3.10/lib/python3.10/site-packages/wandb/sdk/lib/ipython.py\", line 128, in close\n",
      "    self._widget.close()\n",
      "  File \"/Users/lucasericsson/Library/Python/3.10/lib/python/site-packages/ipywidgets/widgets/widget.py\", line 500, in close\n",
      "    self.comm.close()\n",
      "  File \"/Users/lucasericsson/Library/Python/3.10/lib/python/site-packages/comm/base_comm.py\", line 109, in close\n",
      "    comm.get_comm_manager().unregister_comm(self)\n",
      "  File \"/Users/lucasericsson/Library/Python/3.10/lib/python/site-packages/comm/base_comm.py\", line 199, in unregister_comm\n",
      "    comm = self.comms.pop(comm.comm_id)\n",
      "KeyError: '44ef443b0b6c43af8554ae745ec000fb'\n",
      "\u001b[34m\u001b[1mwandb\u001b[0m: Agent Starting Run: k18mwr82 with config:\n",
      "\u001b[34m\u001b[1mwandb\u001b[0m: \tepochs: 4\n",
      "\u001b[34m\u001b[1mwandb\u001b[0m: \thidden_units: 10\n",
      "\u001b[34m\u001b[1mwandb\u001b[0m: \tk: 10\n",
      "\u001b[34m\u001b[1mwandb\u001b[0m: \tminibatch: 50\n",
      "Failed to detect the name of this notebook, you can set it manually with the WANDB_NOTEBOOK_NAME environment variable to enable code saving.\n",
      "\u001b[34m\u001b[1mwandb\u001b[0m: \u001b[33mWARNING\u001b[0m Ignored wandb.init() arg project when running a sweep.\n"
     ]
    },
    {
     "data": {
      "text/html": [
       "Tracking run with wandb version 0.16.6"
      ],
      "text/plain": [
       "<IPython.core.display.HTML object>"
      ]
     },
     "metadata": {},
     "output_type": "display_data"
    },
    {
     "data": {
      "text/html": [
       "Run data is saved locally in <code>/Users/lucasericsson/repos/restricted-boltzmann-machine/wandb/run-20240409_021138-k18mwr82</code>"
      ],
      "text/plain": [
       "<IPython.core.display.HTML object>"
      ]
     },
     "metadata": {},
     "output_type": "display_data"
    },
    {
     "data": {
      "text/html": [
       "Syncing run <strong><a href='https://wandb.ai/lucasericsson222/restricted_boltzmann_machine_sweep/runs/k18mwr82' target=\"_blank\">electric-sweep-59</a></strong> to <a href='https://wandb.ai/lucasericsson222/restricted_boltzmann_machine_sweep' target=\"_blank\">Weights & Biases</a> (<a href='https://wandb.me/run' target=\"_blank\">docs</a>)<br/>Sweep page: <a href='https://wandb.ai/lucasericsson222/restricted_boltzmann_machine_sweep/sweeps/r1b5058x' target=\"_blank\">https://wandb.ai/lucasericsson222/restricted_boltzmann_machine_sweep/sweeps/r1b5058x</a>"
      ],
      "text/plain": [
       "<IPython.core.display.HTML object>"
      ]
     },
     "metadata": {},
     "output_type": "display_data"
    },
    {
     "data": {
      "text/html": [
       " View project at <a href='https://wandb.ai/lucasericsson222/restricted_boltzmann_machine_sweep' target=\"_blank\">https://wandb.ai/lucasericsson222/restricted_boltzmann_machine_sweep</a>"
      ],
      "text/plain": [
       "<IPython.core.display.HTML object>"
      ]
     },
     "metadata": {},
     "output_type": "display_data"
    },
    {
     "data": {
      "text/html": [
       " View sweep at <a href='https://wandb.ai/lucasericsson222/restricted_boltzmann_machine_sweep/sweeps/r1b5058x' target=\"_blank\">https://wandb.ai/lucasericsson222/restricted_boltzmann_machine_sweep/sweeps/r1b5058x</a>"
      ],
      "text/plain": [
       "<IPython.core.display.HTML object>"
      ]
     },
     "metadata": {},
     "output_type": "display_data"
    },
    {
     "data": {
      "text/html": [
       " View run at <a href='https://wandb.ai/lucasericsson222/restricted_boltzmann_machine_sweep/runs/k18mwr82' target=\"_blank\">https://wandb.ai/lucasericsson222/restricted_boltzmann_machine_sweep/runs/k18mwr82</a>"
      ],
      "text/plain": [
       "<IPython.core.display.HTML object>"
      ]
     },
     "metadata": {},
     "output_type": "display_data"
    },
    {
     "name": "stdout",
     "output_type": "stream",
     "text": [
      "(60000, 784)\n",
      "Epoch: 0\n",
      "current_weight_diff: 63.56600411710317\n",
      "sqrd_recon_error: 3.727959183673469\n",
      "Epoch: 1\n",
      "current_weight_diff: 0.8597358876917585\n",
      "sqrd_recon_error: 1.8843622448979591\n",
      "Epoch: 2\n",
      "current_weight_diff: 0.5638064650419958\n",
      "sqrd_recon_error: 0.9778061224489796\n",
      "Epoch: 3\n",
      "current_weight_diff: 0.14705573047200288\n",
      "sqrd_recon_error: 1.0067091836734694\n"
     ]
    },
    {
     "data": {
      "application/vnd.jupyter.widget-view+json": {
       "model_id": "a138ab4b76c94c68869b5e38949b8ab5",
       "version_major": 2,
       "version_minor": 0
      },
      "text/plain": [
       "VBox(children=(Label(value='0.001 MB of 0.001 MB uploaded\\r'), FloatProgress(value=1.0, max=1.0)))"
      ]
     },
     "metadata": {},
     "output_type": "display_data"
    },
    {
     "name": "stderr",
     "output_type": "stream",
     "text": [
      "\u001b[34m\u001b[1mwandb\u001b[0m: \u001b[32m\u001b[41mERROR\u001b[0m Problem finishing run\n",
      "Traceback (most recent call last):\n",
      "  File \"/Library/Frameworks/Python.framework/Versions/3.10/lib/python3.10/site-packages/wandb/sdk/wandb_run.py\", line 2313, in _atexit_cleanup\n",
      "    self._on_finish()\n",
      "  File \"/Library/Frameworks/Python.framework/Versions/3.10/lib/python3.10/site-packages/wandb/sdk/wandb_run.py\", line 2567, in _on_finish\n",
      "    self._footer_file_pusher_status_info(\n",
      "  File \"/Library/Frameworks/Python.framework/Versions/3.10/lib/python3.10/site-packages/wandb/sdk/wandb_run.py\", line 3749, in _footer_file_pusher_status_info\n",
      "    Run._footer_single_run_file_pusher_status_info(\n",
      "  File \"/Library/Frameworks/Python.framework/Versions/3.10/lib/python3.10/site-packages/wandb/sdk/wandb_run.py\", line 3802, in _footer_single_run_file_pusher_status_info\n",
      "    printer.progress_close()\n",
      "  File \"/Library/Frameworks/Python.framework/Versions/3.10/lib/python3.10/site-packages/wandb/sdk/lib/printer.py\", line 292, in progress_close\n",
      "    self._progress.close()\n",
      "  File \"/Library/Frameworks/Python.framework/Versions/3.10/lib/python3.10/site-packages/wandb/sdk/lib/ipython.py\", line 128, in close\n",
      "    self._widget.close()\n",
      "  File \"/Users/lucasericsson/Library/Python/3.10/lib/python/site-packages/ipywidgets/widgets/widget.py\", line 500, in close\n",
      "    self.comm.close()\n",
      "  File \"/Users/lucasericsson/Library/Python/3.10/lib/python/site-packages/comm/base_comm.py\", line 109, in close\n",
      "    comm.get_comm_manager().unregister_comm(self)\n",
      "  File \"/Users/lucasericsson/Library/Python/3.10/lib/python/site-packages/comm/base_comm.py\", line 199, in unregister_comm\n",
      "    comm = self.comms.pop(comm.comm_id)\n",
      "KeyError: 'a138ab4b76c94c68869b5e38949b8ab5'\n",
      "\u001b[34m\u001b[1mwandb\u001b[0m: Agent Starting Run: mznc9oz0 with config:\n",
      "\u001b[34m\u001b[1mwandb\u001b[0m: \tepochs: 30\n",
      "\u001b[34m\u001b[1mwandb\u001b[0m: \thidden_units: 200\n",
      "\u001b[34m\u001b[1mwandb\u001b[0m: \tk: 30\n",
      "\u001b[34m\u001b[1mwandb\u001b[0m: \tminibatch: 100\n",
      "Failed to detect the name of this notebook, you can set it manually with the WANDB_NOTEBOOK_NAME environment variable to enable code saving.\n",
      "\u001b[34m\u001b[1mwandb\u001b[0m: \u001b[33mWARNING\u001b[0m Ignored wandb.init() arg project when running a sweep.\n"
     ]
    },
    {
     "data": {
      "text/html": [
       "Tracking run with wandb version 0.16.6"
      ],
      "text/plain": [
       "<IPython.core.display.HTML object>"
      ]
     },
     "metadata": {},
     "output_type": "display_data"
    },
    {
     "data": {
      "text/html": [
       "Run data is saved locally in <code>/Users/lucasericsson/repos/restricted-boltzmann-machine/wandb/run-20240409_021153-mznc9oz0</code>"
      ],
      "text/plain": [
       "<IPython.core.display.HTML object>"
      ]
     },
     "metadata": {},
     "output_type": "display_data"
    },
    {
     "data": {
      "text/html": [
       "Syncing run <strong><a href='https://wandb.ai/lucasericsson222/restricted_boltzmann_machine_sweep/runs/mznc9oz0' target=\"_blank\">classic-sweep-60</a></strong> to <a href='https://wandb.ai/lucasericsson222/restricted_boltzmann_machine_sweep' target=\"_blank\">Weights & Biases</a> (<a href='https://wandb.me/run' target=\"_blank\">docs</a>)<br/>Sweep page: <a href='https://wandb.ai/lucasericsson222/restricted_boltzmann_machine_sweep/sweeps/r1b5058x' target=\"_blank\">https://wandb.ai/lucasericsson222/restricted_boltzmann_machine_sweep/sweeps/r1b5058x</a>"
      ],
      "text/plain": [
       "<IPython.core.display.HTML object>"
      ]
     },
     "metadata": {},
     "output_type": "display_data"
    },
    {
     "data": {
      "text/html": [
       " View project at <a href='https://wandb.ai/lucasericsson222/restricted_boltzmann_machine_sweep' target=\"_blank\">https://wandb.ai/lucasericsson222/restricted_boltzmann_machine_sweep</a>"
      ],
      "text/plain": [
       "<IPython.core.display.HTML object>"
      ]
     },
     "metadata": {},
     "output_type": "display_data"
    },
    {
     "data": {
      "text/html": [
       " View sweep at <a href='https://wandb.ai/lucasericsson222/restricted_boltzmann_machine_sweep/sweeps/r1b5058x' target=\"_blank\">https://wandb.ai/lucasericsson222/restricted_boltzmann_machine_sweep/sweeps/r1b5058x</a>"
      ],
      "text/plain": [
       "<IPython.core.display.HTML object>"
      ]
     },
     "metadata": {},
     "output_type": "display_data"
    },
    {
     "data": {
      "text/html": [
       " View run at <a href='https://wandb.ai/lucasericsson222/restricted_boltzmann_machine_sweep/runs/mznc9oz0' target=\"_blank\">https://wandb.ai/lucasericsson222/restricted_boltzmann_machine_sweep/runs/mznc9oz0</a>"
      ],
      "text/plain": [
       "<IPython.core.display.HTML object>"
      ]
     },
     "metadata": {},
     "output_type": "display_data"
    },
    {
     "name": "stdout",
     "output_type": "stream",
     "text": [
      "(60000, 784)\n",
      "Epoch: 0\n",
      "current_weight_diff: 14.216065875390955\n",
      "sqrd_recon_error: 2.197244897959184\n",
      "Epoch: 1\n",
      "current_weight_diff: 2.1026066909995107\n",
      "sqrd_recon_error: 1.2272704081632653\n",
      "Epoch: 2\n",
      "current_weight_diff: 1.8268248485200134\n",
      "sqrd_recon_error: 0.9153316326530613\n",
      "Epoch: 3\n",
      "current_weight_diff: 3.8311364671589843\n",
      "sqrd_recon_error: 0.4124234693877551\n",
      "Epoch: 4\n",
      "current_weight_diff: 1.1661532394158676\n",
      "sqrd_recon_error: 0.29252551020408163\n",
      "Epoch: 5\n",
      "current_weight_diff: 0.7615824433432277\n",
      "sqrd_recon_error: 0.35105867346938774\n",
      "Epoch: 6\n",
      "current_weight_diff: 0.5965644445410782\n",
      "sqrd_recon_error: 0.30698979591836734\n",
      "Epoch: 7\n",
      "current_weight_diff: 0.581999980597857\n",
      "sqrd_recon_error: 0.1641454081632653\n",
      "Epoch: 8\n",
      "current_weight_diff: 0.5539483228138457\n",
      "sqrd_recon_error: 0.19817602040816326\n",
      "Epoch: 9\n",
      "current_weight_diff: 4.238962057176274\n",
      "sqrd_recon_error: 0.15786989795918369\n",
      "Epoch: 10\n",
      "current_weight_diff: 0.7632245970054127\n",
      "sqrd_recon_error: 0.16598214285714286\n",
      "Epoch: 11\n",
      "current_weight_diff: 0.40362515822126427\n",
      "sqrd_recon_error: 0.15455357142857143\n",
      "Epoch: 12\n",
      "current_weight_diff: 0.3609902980056386\n",
      "sqrd_recon_error: 0.18362244897959182\n",
      "Epoch: 13\n",
      "current_weight_diff: 0.2375592741667843\n",
      "sqrd_recon_error: 0.15654336734693877\n",
      "Epoch: 14\n",
      "current_weight_diff: 0.24507657755274634\n",
      "sqrd_recon_error: 0.17512755102040817\n",
      "Epoch: 15\n",
      "current_weight_diff: 0.1966903949016012\n",
      "sqrd_recon_error: 0.15\n",
      "Epoch: 16\n",
      "current_weight_diff: 0.31167390851416654\n",
      "sqrd_recon_error: 0.16334183673469385\n",
      "Epoch: 17\n",
      "current_weight_diff: 0.20774032477179163\n",
      "sqrd_recon_error: 0.14686224489795918\n",
      "Epoch: 18\n",
      "current_weight_diff: 0.25520233758992045\n",
      "sqrd_recon_error: 0.1987372448979592\n",
      "Epoch: 19\n",
      "current_weight_diff: 0.3939052886590686\n",
      "sqrd_recon_error: 0.1500255102040816\n",
      "Epoch: 20\n",
      "current_weight_diff: 0.1408694585817359\n",
      "sqrd_recon_error: 0.21807397959183675\n",
      "Epoch: 21\n",
      "current_weight_diff: 0.234009560969828\n",
      "sqrd_recon_error: 0.15674744897959184\n",
      "Epoch: 22\n",
      "current_weight_diff: 0.41992975275585076\n",
      "sqrd_recon_error: 0.18663265306122448\n",
      "Epoch: 23\n",
      "current_weight_diff: 0.1744299785723614\n",
      "sqrd_recon_error: 0.19883928571428572\n",
      "Epoch: 24\n",
      "current_weight_diff: 0.14777124159882893\n",
      "sqrd_recon_error: 0.14927295918367348\n",
      "Epoch: 25\n",
      "current_weight_diff: 0.1391270679244548\n",
      "sqrd_recon_error: 0.18251275510204082\n",
      "Epoch: 26\n",
      "current_weight_diff: 0.1270618066211997\n",
      "sqrd_recon_error: 0.14911989795918368\n",
      "Epoch: 27\n",
      "current_weight_diff: 0.10990531618696599\n",
      "sqrd_recon_error: 0.1926658163265306\n",
      "Epoch: 28\n",
      "current_weight_diff: 0.18876220579159386\n",
      "sqrd_recon_error: 0.1333673469387755\n",
      "Epoch: 29\n",
      "current_weight_diff: 0.15129037702418383\n",
      "sqrd_recon_error: 0.15760204081632653\n"
     ]
    },
    {
     "data": {
      "application/vnd.jupyter.widget-view+json": {
       "model_id": "465eda0cecd041e187cda3fdb12df52a",
       "version_major": 2,
       "version_minor": 0
      },
      "text/plain": [
       "VBox(children=(Label(value='0.006 MB of 0.006 MB uploaded\\r'), FloatProgress(value=1.0, max=1.0)))"
      ]
     },
     "metadata": {},
     "output_type": "display_data"
    },
    {
     "name": "stderr",
     "output_type": "stream",
     "text": [
      "\u001b[34m\u001b[1mwandb\u001b[0m: \u001b[32m\u001b[41mERROR\u001b[0m Problem finishing run\n",
      "Traceback (most recent call last):\n",
      "  File \"/Library/Frameworks/Python.framework/Versions/3.10/lib/python3.10/site-packages/wandb/sdk/wandb_run.py\", line 2313, in _atexit_cleanup\n",
      "    self._on_finish()\n",
      "  File \"/Library/Frameworks/Python.framework/Versions/3.10/lib/python3.10/site-packages/wandb/sdk/wandb_run.py\", line 2567, in _on_finish\n",
      "    self._footer_file_pusher_status_info(\n",
      "  File \"/Library/Frameworks/Python.framework/Versions/3.10/lib/python3.10/site-packages/wandb/sdk/wandb_run.py\", line 3749, in _footer_file_pusher_status_info\n",
      "    Run._footer_single_run_file_pusher_status_info(\n",
      "  File \"/Library/Frameworks/Python.framework/Versions/3.10/lib/python3.10/site-packages/wandb/sdk/wandb_run.py\", line 3802, in _footer_single_run_file_pusher_status_info\n",
      "    printer.progress_close()\n",
      "  File \"/Library/Frameworks/Python.framework/Versions/3.10/lib/python3.10/site-packages/wandb/sdk/lib/printer.py\", line 292, in progress_close\n",
      "    self._progress.close()\n",
      "  File \"/Library/Frameworks/Python.framework/Versions/3.10/lib/python3.10/site-packages/wandb/sdk/lib/ipython.py\", line 128, in close\n",
      "    self._widget.close()\n",
      "  File \"/Users/lucasericsson/Library/Python/3.10/lib/python/site-packages/ipywidgets/widgets/widget.py\", line 500, in close\n",
      "    self.comm.close()\n",
      "  File \"/Users/lucasericsson/Library/Python/3.10/lib/python/site-packages/comm/base_comm.py\", line 109, in close\n",
      "    comm.get_comm_manager().unregister_comm(self)\n",
      "  File \"/Users/lucasericsson/Library/Python/3.10/lib/python/site-packages/comm/base_comm.py\", line 199, in unregister_comm\n",
      "    comm = self.comms.pop(comm.comm_id)\n",
      "KeyError: '465eda0cecd041e187cda3fdb12df52a'\n",
      "\u001b[34m\u001b[1mwandb\u001b[0m: Agent Starting Run: 9oth9d65 with config:\n",
      "\u001b[34m\u001b[1mwandb\u001b[0m: \tepochs: 5\n",
      "\u001b[34m\u001b[1mwandb\u001b[0m: \thidden_units: 1000\n",
      "\u001b[34m\u001b[1mwandb\u001b[0m: \tk: 3\n",
      "\u001b[34m\u001b[1mwandb\u001b[0m: \tminibatch: 100\n",
      "Failed to detect the name of this notebook, you can set it manually with the WANDB_NOTEBOOK_NAME environment variable to enable code saving.\n",
      "\u001b[34m\u001b[1mwandb\u001b[0m: \u001b[33mWARNING\u001b[0m Ignored wandb.init() arg project when running a sweep.\n"
     ]
    },
    {
     "data": {
      "text/html": [
       "Tracking run with wandb version 0.16.6"
      ],
      "text/plain": [
       "<IPython.core.display.HTML object>"
      ]
     },
     "metadata": {},
     "output_type": "display_data"
    },
    {
     "data": {
      "text/html": [
       "Run data is saved locally in <code>/Users/lucasericsson/repos/restricted-boltzmann-machine/wandb/run-20240409_022200-9oth9d65</code>"
      ],
      "text/plain": [
       "<IPython.core.display.HTML object>"
      ]
     },
     "metadata": {},
     "output_type": "display_data"
    },
    {
     "data": {
      "text/html": [
       "Syncing run <strong><a href='https://wandb.ai/lucasericsson222/restricted_boltzmann_machine_sweep/runs/9oth9d65' target=\"_blank\">kind-sweep-61</a></strong> to <a href='https://wandb.ai/lucasericsson222/restricted_boltzmann_machine_sweep' target=\"_blank\">Weights & Biases</a> (<a href='https://wandb.me/run' target=\"_blank\">docs</a>)<br/>Sweep page: <a href='https://wandb.ai/lucasericsson222/restricted_boltzmann_machine_sweep/sweeps/r1b5058x' target=\"_blank\">https://wandb.ai/lucasericsson222/restricted_boltzmann_machine_sweep/sweeps/r1b5058x</a>"
      ],
      "text/plain": [
       "<IPython.core.display.HTML object>"
      ]
     },
     "metadata": {},
     "output_type": "display_data"
    },
    {
     "data": {
      "text/html": [
       " View project at <a href='https://wandb.ai/lucasericsson222/restricted_boltzmann_machine_sweep' target=\"_blank\">https://wandb.ai/lucasericsson222/restricted_boltzmann_machine_sweep</a>"
      ],
      "text/plain": [
       "<IPython.core.display.HTML object>"
      ]
     },
     "metadata": {},
     "output_type": "display_data"
    },
    {
     "data": {
      "text/html": [
       " View sweep at <a href='https://wandb.ai/lucasericsson222/restricted_boltzmann_machine_sweep/sweeps/r1b5058x' target=\"_blank\">https://wandb.ai/lucasericsson222/restricted_boltzmann_machine_sweep/sweeps/r1b5058x</a>"
      ],
      "text/plain": [
       "<IPython.core.display.HTML object>"
      ]
     },
     "metadata": {},
     "output_type": "display_data"
    },
    {
     "data": {
      "text/html": [
       " View run at <a href='https://wandb.ai/lucasericsson222/restricted_boltzmann_machine_sweep/runs/9oth9d65' target=\"_blank\">https://wandb.ai/lucasericsson222/restricted_boltzmann_machine_sweep/runs/9oth9d65</a>"
      ],
      "text/plain": [
       "<IPython.core.display.HTML object>"
      ]
     },
     "metadata": {},
     "output_type": "display_data"
    },
    {
     "name": "stdout",
     "output_type": "stream",
     "text": [
      "(60000, 784)\n",
      "Epoch: 0\n",
      "current_weight_diff: 9.54105468118695\n",
      "sqrd_recon_error: 0.2325127551020408\n",
      "Epoch: 1\n",
      "current_weight_diff: 3.529066922168823\n",
      "sqrd_recon_error: 0.22693877551020405\n",
      "Epoch: 2\n",
      "current_weight_diff: 4.587959674206457\n",
      "sqrd_recon_error: 0.21396683673469385\n",
      "Epoch: 3\n",
      "current_weight_diff: 1.237619150261775\n",
      "sqrd_recon_error: 0.19544642857142858\n",
      "Epoch: 4\n",
      "current_weight_diff: 1.047999437563486\n",
      "sqrd_recon_error: 0.16136479591836736\n"
     ]
    },
    {
     "data": {
      "application/vnd.jupyter.widget-view+json": {
       "model_id": "bc96e61a8f0c4aaeac38de3e523bcbdc",
       "version_major": 2,
       "version_minor": 0
      },
      "text/plain": [
       "VBox(children=(Label(value='0.001 MB of 0.001 MB uploaded\\r'), FloatProgress(value=1.0, max=1.0)))"
      ]
     },
     "metadata": {},
     "output_type": "display_data"
    },
    {
     "name": "stderr",
     "output_type": "stream",
     "text": [
      "\u001b[34m\u001b[1mwandb\u001b[0m: \u001b[32m\u001b[41mERROR\u001b[0m Problem finishing run\n",
      "Traceback (most recent call last):\n",
      "  File \"/Library/Frameworks/Python.framework/Versions/3.10/lib/python3.10/site-packages/wandb/sdk/wandb_run.py\", line 2313, in _atexit_cleanup\n",
      "    self._on_finish()\n",
      "  File \"/Library/Frameworks/Python.framework/Versions/3.10/lib/python3.10/site-packages/wandb/sdk/wandb_run.py\", line 2567, in _on_finish\n",
      "    self._footer_file_pusher_status_info(\n",
      "  File \"/Library/Frameworks/Python.framework/Versions/3.10/lib/python3.10/site-packages/wandb/sdk/wandb_run.py\", line 3749, in _footer_file_pusher_status_info\n",
      "    Run._footer_single_run_file_pusher_status_info(\n",
      "  File \"/Library/Frameworks/Python.framework/Versions/3.10/lib/python3.10/site-packages/wandb/sdk/wandb_run.py\", line 3802, in _footer_single_run_file_pusher_status_info\n",
      "    printer.progress_close()\n",
      "  File \"/Library/Frameworks/Python.framework/Versions/3.10/lib/python3.10/site-packages/wandb/sdk/lib/printer.py\", line 292, in progress_close\n",
      "    self._progress.close()\n",
      "  File \"/Library/Frameworks/Python.framework/Versions/3.10/lib/python3.10/site-packages/wandb/sdk/lib/ipython.py\", line 128, in close\n",
      "    self._widget.close()\n",
      "  File \"/Users/lucasericsson/Library/Python/3.10/lib/python/site-packages/ipywidgets/widgets/widget.py\", line 500, in close\n",
      "    self.comm.close()\n",
      "  File \"/Users/lucasericsson/Library/Python/3.10/lib/python/site-packages/comm/base_comm.py\", line 109, in close\n",
      "    comm.get_comm_manager().unregister_comm(self)\n",
      "  File \"/Users/lucasericsson/Library/Python/3.10/lib/python/site-packages/comm/base_comm.py\", line 199, in unregister_comm\n",
      "    comm = self.comms.pop(comm.comm_id)\n",
      "KeyError: 'bc96e61a8f0c4aaeac38de3e523bcbdc'\n",
      "\u001b[34m\u001b[1mwandb\u001b[0m: Agent Starting Run: u6ebrls6 with config:\n",
      "\u001b[34m\u001b[1mwandb\u001b[0m: \tepochs: 5\n",
      "\u001b[34m\u001b[1mwandb\u001b[0m: \thidden_units: 50\n",
      "\u001b[34m\u001b[1mwandb\u001b[0m: \tk: 4\n",
      "\u001b[34m\u001b[1mwandb\u001b[0m: \tminibatch: 200\n",
      "Failed to detect the name of this notebook, you can set it manually with the WANDB_NOTEBOOK_NAME environment variable to enable code saving.\n",
      "\u001b[34m\u001b[1mwandb\u001b[0m: \u001b[33mWARNING\u001b[0m Ignored wandb.init() arg project when running a sweep.\n"
     ]
    },
    {
     "data": {
      "text/html": [
       "Tracking run with wandb version 0.16.6"
      ],
      "text/plain": [
       "<IPython.core.display.HTML object>"
      ]
     },
     "metadata": {},
     "output_type": "display_data"
    },
    {
     "data": {
      "text/html": [
       "Run data is saved locally in <code>/Users/lucasericsson/repos/restricted-boltzmann-machine/wandb/run-20240409_022348-u6ebrls6</code>"
      ],
      "text/plain": [
       "<IPython.core.display.HTML object>"
      ]
     },
     "metadata": {},
     "output_type": "display_data"
    },
    {
     "data": {
      "text/html": [
       "Syncing run <strong><a href='https://wandb.ai/lucasericsson222/restricted_boltzmann_machine_sweep/runs/u6ebrls6' target=\"_blank\">glamorous-sweep-62</a></strong> to <a href='https://wandb.ai/lucasericsson222/restricted_boltzmann_machine_sweep' target=\"_blank\">Weights & Biases</a> (<a href='https://wandb.me/run' target=\"_blank\">docs</a>)<br/>Sweep page: <a href='https://wandb.ai/lucasericsson222/restricted_boltzmann_machine_sweep/sweeps/r1b5058x' target=\"_blank\">https://wandb.ai/lucasericsson222/restricted_boltzmann_machine_sweep/sweeps/r1b5058x</a>"
      ],
      "text/plain": [
       "<IPython.core.display.HTML object>"
      ]
     },
     "metadata": {},
     "output_type": "display_data"
    },
    {
     "data": {
      "text/html": [
       " View project at <a href='https://wandb.ai/lucasericsson222/restricted_boltzmann_machine_sweep' target=\"_blank\">https://wandb.ai/lucasericsson222/restricted_boltzmann_machine_sweep</a>"
      ],
      "text/plain": [
       "<IPython.core.display.HTML object>"
      ]
     },
     "metadata": {},
     "output_type": "display_data"
    },
    {
     "data": {
      "text/html": [
       " View sweep at <a href='https://wandb.ai/lucasericsson222/restricted_boltzmann_machine_sweep/sweeps/r1b5058x' target=\"_blank\">https://wandb.ai/lucasericsson222/restricted_boltzmann_machine_sweep/sweeps/r1b5058x</a>"
      ],
      "text/plain": [
       "<IPython.core.display.HTML object>"
      ]
     },
     "metadata": {},
     "output_type": "display_data"
    },
    {
     "data": {
      "text/html": [
       " View run at <a href='https://wandb.ai/lucasericsson222/restricted_boltzmann_machine_sweep/runs/u6ebrls6' target=\"_blank\">https://wandb.ai/lucasericsson222/restricted_boltzmann_machine_sweep/runs/u6ebrls6</a>"
      ],
      "text/plain": [
       "<IPython.core.display.HTML object>"
      ]
     },
     "metadata": {},
     "output_type": "display_data"
    },
    {
     "name": "stdout",
     "output_type": "stream",
     "text": [
      "(60000, 784)\n",
      "Epoch: 0\n",
      "current_weight_diff: 35.022341338476245\n",
      "sqrd_recon_error: 7.348360969387755\n",
      "Epoch: 1\n",
      "current_weight_diff: 0.8284413728106772\n",
      "sqrd_recon_error: 4.387691326530612\n",
      "Epoch: 2\n",
      "current_weight_diff: 0.41504850138749255\n",
      "sqrd_recon_error: 3.1973979591836734\n",
      "Epoch: 3\n",
      "current_weight_diff: 0.9975379258338261\n",
      "sqrd_recon_error: 2.2346237244897957\n",
      "Epoch: 4\n",
      "current_weight_diff: 1.108718557210232\n",
      "sqrd_recon_error: 1.7935905612244898\n"
     ]
    },
    {
     "data": {
      "application/vnd.jupyter.widget-view+json": {
       "model_id": "a88492c383604821b3c7f40c8356525b",
       "version_major": 2,
       "version_minor": 0
      },
      "text/plain": [
       "VBox(children=(Label(value='0.001 MB of 0.001 MB uploaded\\r'), FloatProgress(value=1.0, max=1.0)))"
      ]
     },
     "metadata": {},
     "output_type": "display_data"
    },
    {
     "name": "stderr",
     "output_type": "stream",
     "text": [
      "\u001b[34m\u001b[1mwandb\u001b[0m: \u001b[32m\u001b[41mERROR\u001b[0m Problem finishing run\n",
      "Traceback (most recent call last):\n",
      "  File \"/Library/Frameworks/Python.framework/Versions/3.10/lib/python3.10/site-packages/wandb/sdk/wandb_run.py\", line 2313, in _atexit_cleanup\n",
      "    self._on_finish()\n",
      "  File \"/Library/Frameworks/Python.framework/Versions/3.10/lib/python3.10/site-packages/wandb/sdk/wandb_run.py\", line 2567, in _on_finish\n",
      "    self._footer_file_pusher_status_info(\n",
      "  File \"/Library/Frameworks/Python.framework/Versions/3.10/lib/python3.10/site-packages/wandb/sdk/wandb_run.py\", line 3749, in _footer_file_pusher_status_info\n",
      "    Run._footer_single_run_file_pusher_status_info(\n",
      "  File \"/Library/Frameworks/Python.framework/Versions/3.10/lib/python3.10/site-packages/wandb/sdk/wandb_run.py\", line 3802, in _footer_single_run_file_pusher_status_info\n",
      "    printer.progress_close()\n",
      "  File \"/Library/Frameworks/Python.framework/Versions/3.10/lib/python3.10/site-packages/wandb/sdk/lib/printer.py\", line 292, in progress_close\n",
      "    self._progress.close()\n",
      "  File \"/Library/Frameworks/Python.framework/Versions/3.10/lib/python3.10/site-packages/wandb/sdk/lib/ipython.py\", line 128, in close\n",
      "    self._widget.close()\n",
      "  File \"/Users/lucasericsson/Library/Python/3.10/lib/python/site-packages/ipywidgets/widgets/widget.py\", line 500, in close\n",
      "    self.comm.close()\n",
      "  File \"/Users/lucasericsson/Library/Python/3.10/lib/python/site-packages/comm/base_comm.py\", line 109, in close\n",
      "    comm.get_comm_manager().unregister_comm(self)\n",
      "  File \"/Users/lucasericsson/Library/Python/3.10/lib/python/site-packages/comm/base_comm.py\", line 199, in unregister_comm\n",
      "    comm = self.comms.pop(comm.comm_id)\n",
      "KeyError: 'a88492c383604821b3c7f40c8356525b'\n",
      "\u001b[34m\u001b[1mwandb\u001b[0m: Agent Starting Run: fd9vbfx6 with config:\n",
      "\u001b[34m\u001b[1mwandb\u001b[0m: \tepochs: 3\n",
      "\u001b[34m\u001b[1mwandb\u001b[0m: \thidden_units: 20\n",
      "\u001b[34m\u001b[1mwandb\u001b[0m: \tk: 1\n",
      "\u001b[34m\u001b[1mwandb\u001b[0m: \tminibatch: 200\n",
      "Failed to detect the name of this notebook, you can set it manually with the WANDB_NOTEBOOK_NAME environment variable to enable code saving.\n",
      "\u001b[34m\u001b[1mwandb\u001b[0m: \u001b[33mWARNING\u001b[0m Ignored wandb.init() arg project when running a sweep.\n"
     ]
    },
    {
     "data": {
      "text/html": [
       "Tracking run with wandb version 0.16.6"
      ],
      "text/plain": [
       "<IPython.core.display.HTML object>"
      ]
     },
     "metadata": {},
     "output_type": "display_data"
    },
    {
     "data": {
      "text/html": [
       "Run data is saved locally in <code>/Users/lucasericsson/repos/restricted-boltzmann-machine/wandb/run-20240409_022418-fd9vbfx6</code>"
      ],
      "text/plain": [
       "<IPython.core.display.HTML object>"
      ]
     },
     "metadata": {},
     "output_type": "display_data"
    },
    {
     "data": {
      "text/html": [
       "Syncing run <strong><a href='https://wandb.ai/lucasericsson222/restricted_boltzmann_machine_sweep/runs/fd9vbfx6' target=\"_blank\">upbeat-sweep-63</a></strong> to <a href='https://wandb.ai/lucasericsson222/restricted_boltzmann_machine_sweep' target=\"_blank\">Weights & Biases</a> (<a href='https://wandb.me/run' target=\"_blank\">docs</a>)<br/>Sweep page: <a href='https://wandb.ai/lucasericsson222/restricted_boltzmann_machine_sweep/sweeps/r1b5058x' target=\"_blank\">https://wandb.ai/lucasericsson222/restricted_boltzmann_machine_sweep/sweeps/r1b5058x</a>"
      ],
      "text/plain": [
       "<IPython.core.display.HTML object>"
      ]
     },
     "metadata": {},
     "output_type": "display_data"
    },
    {
     "data": {
      "text/html": [
       " View project at <a href='https://wandb.ai/lucasericsson222/restricted_boltzmann_machine_sweep' target=\"_blank\">https://wandb.ai/lucasericsson222/restricted_boltzmann_machine_sweep</a>"
      ],
      "text/plain": [
       "<IPython.core.display.HTML object>"
      ]
     },
     "metadata": {},
     "output_type": "display_data"
    },
    {
     "data": {
      "text/html": [
       " View sweep at <a href='https://wandb.ai/lucasericsson222/restricted_boltzmann_machine_sweep/sweeps/r1b5058x' target=\"_blank\">https://wandb.ai/lucasericsson222/restricted_boltzmann_machine_sweep/sweeps/r1b5058x</a>"
      ],
      "text/plain": [
       "<IPython.core.display.HTML object>"
      ]
     },
     "metadata": {},
     "output_type": "display_data"
    },
    {
     "data": {
      "text/html": [
       " View run at <a href='https://wandb.ai/lucasericsson222/restricted_boltzmann_machine_sweep/runs/fd9vbfx6' target=\"_blank\">https://wandb.ai/lucasericsson222/restricted_boltzmann_machine_sweep/runs/fd9vbfx6</a>"
      ],
      "text/plain": [
       "<IPython.core.display.HTML object>"
      ]
     },
     "metadata": {},
     "output_type": "display_data"
    },
    {
     "name": "stdout",
     "output_type": "stream",
     "text": [
      "(60000, 784)\n",
      "Epoch: 0\n",
      "current_weight_diff: 58.24642068005747\n",
      "sqrd_recon_error: 5.45829081632653\n",
      "Epoch: 1\n",
      "current_weight_diff: 0.5324341961556825\n",
      "sqrd_recon_error: 2.857327806122449\n",
      "Epoch: 2\n",
      "current_weight_diff: 0.7629113162572204\n",
      "sqrd_recon_error: 2.105701530612245\n"
     ]
    },
    {
     "data": {
      "application/vnd.jupyter.widget-view+json": {
       "model_id": "f48883029da649deacb2f6457d208fb8",
       "version_major": 2,
       "version_minor": 0
      },
      "text/plain": [
       "VBox(children=(Label(value='0.001 MB of 0.001 MB uploaded\\r'), FloatProgress(value=1.0, max=1.0)))"
      ]
     },
     "metadata": {},
     "output_type": "display_data"
    },
    {
     "name": "stderr",
     "output_type": "stream",
     "text": [
      "\u001b[34m\u001b[1mwandb\u001b[0m: \u001b[32m\u001b[41mERROR\u001b[0m Problem finishing run\n",
      "Traceback (most recent call last):\n",
      "  File \"/Library/Frameworks/Python.framework/Versions/3.10/lib/python3.10/site-packages/wandb/sdk/wandb_run.py\", line 2313, in _atexit_cleanup\n",
      "    self._on_finish()\n",
      "  File \"/Library/Frameworks/Python.framework/Versions/3.10/lib/python3.10/site-packages/wandb/sdk/wandb_run.py\", line 2567, in _on_finish\n",
      "    self._footer_file_pusher_status_info(\n",
      "  File \"/Library/Frameworks/Python.framework/Versions/3.10/lib/python3.10/site-packages/wandb/sdk/wandb_run.py\", line 3749, in _footer_file_pusher_status_info\n",
      "    Run._footer_single_run_file_pusher_status_info(\n",
      "  File \"/Library/Frameworks/Python.framework/Versions/3.10/lib/python3.10/site-packages/wandb/sdk/wandb_run.py\", line 3802, in _footer_single_run_file_pusher_status_info\n",
      "    printer.progress_close()\n",
      "  File \"/Library/Frameworks/Python.framework/Versions/3.10/lib/python3.10/site-packages/wandb/sdk/lib/printer.py\", line 292, in progress_close\n",
      "    self._progress.close()\n",
      "  File \"/Library/Frameworks/Python.framework/Versions/3.10/lib/python3.10/site-packages/wandb/sdk/lib/ipython.py\", line 128, in close\n",
      "    self._widget.close()\n",
      "  File \"/Users/lucasericsson/Library/Python/3.10/lib/python/site-packages/ipywidgets/widgets/widget.py\", line 500, in close\n",
      "    self.comm.close()\n",
      "  File \"/Users/lucasericsson/Library/Python/3.10/lib/python/site-packages/comm/base_comm.py\", line 109, in close\n",
      "    comm.get_comm_manager().unregister_comm(self)\n",
      "  File \"/Users/lucasericsson/Library/Python/3.10/lib/python/site-packages/comm/base_comm.py\", line 199, in unregister_comm\n",
      "    comm = self.comms.pop(comm.comm_id)\n",
      "KeyError: 'f48883029da649deacb2f6457d208fb8'\n",
      "\u001b[34m\u001b[1mwandb\u001b[0m: Agent Starting Run: lyiwxsiw with config:\n",
      "\u001b[34m\u001b[1mwandb\u001b[0m: \tepochs: 5\n",
      "\u001b[34m\u001b[1mwandb\u001b[0m: \thidden_units: 300\n",
      "\u001b[34m\u001b[1mwandb\u001b[0m: \tk: 30\n",
      "\u001b[34m\u001b[1mwandb\u001b[0m: \tminibatch: 150\n",
      "Failed to detect the name of this notebook, you can set it manually with the WANDB_NOTEBOOK_NAME environment variable to enable code saving.\n",
      "\u001b[34m\u001b[1mwandb\u001b[0m: \u001b[33mWARNING\u001b[0m Ignored wandb.init() arg project when running a sweep.\n"
     ]
    },
    {
     "data": {
      "text/html": [
       "Tracking run with wandb version 0.16.6"
      ],
      "text/plain": [
       "<IPython.core.display.HTML object>"
      ]
     },
     "metadata": {},
     "output_type": "display_data"
    },
    {
     "data": {
      "text/html": [
       "Run data is saved locally in <code>/Users/lucasericsson/repos/restricted-boltzmann-machine/wandb/run-20240409_022428-lyiwxsiw</code>"
      ],
      "text/plain": [
       "<IPython.core.display.HTML object>"
      ]
     },
     "metadata": {},
     "output_type": "display_data"
    },
    {
     "data": {
      "text/html": [
       "Syncing run <strong><a href='https://wandb.ai/lucasericsson222/restricted_boltzmann_machine_sweep/runs/lyiwxsiw' target=\"_blank\">generous-sweep-64</a></strong> to <a href='https://wandb.ai/lucasericsson222/restricted_boltzmann_machine_sweep' target=\"_blank\">Weights & Biases</a> (<a href='https://wandb.me/run' target=\"_blank\">docs</a>)<br/>Sweep page: <a href='https://wandb.ai/lucasericsson222/restricted_boltzmann_machine_sweep/sweeps/r1b5058x' target=\"_blank\">https://wandb.ai/lucasericsson222/restricted_boltzmann_machine_sweep/sweeps/r1b5058x</a>"
      ],
      "text/plain": [
       "<IPython.core.display.HTML object>"
      ]
     },
     "metadata": {},
     "output_type": "display_data"
    },
    {
     "data": {
      "text/html": [
       " View project at <a href='https://wandb.ai/lucasericsson222/restricted_boltzmann_machine_sweep' target=\"_blank\">https://wandb.ai/lucasericsson222/restricted_boltzmann_machine_sweep</a>"
      ],
      "text/plain": [
       "<IPython.core.display.HTML object>"
      ]
     },
     "metadata": {},
     "output_type": "display_data"
    },
    {
     "data": {
      "text/html": [
       " View sweep at <a href='https://wandb.ai/lucasericsson222/restricted_boltzmann_machine_sweep/sweeps/r1b5058x' target=\"_blank\">https://wandb.ai/lucasericsson222/restricted_boltzmann_machine_sweep/sweeps/r1b5058x</a>"
      ],
      "text/plain": [
       "<IPython.core.display.HTML object>"
      ]
     },
     "metadata": {},
     "output_type": "display_data"
    },
    {
     "data": {
      "text/html": [
       " View run at <a href='https://wandb.ai/lucasericsson222/restricted_boltzmann_machine_sweep/runs/lyiwxsiw' target=\"_blank\">https://wandb.ai/lucasericsson222/restricted_boltzmann_machine_sweep/runs/lyiwxsiw</a>"
      ],
      "text/plain": [
       "<IPython.core.display.HTML object>"
      ]
     },
     "metadata": {},
     "output_type": "display_data"
    },
    {
     "name": "stdout",
     "output_type": "stream",
     "text": [
      "(60000, 784)\n",
      "Epoch: 0\n",
      "current_weight_diff: 23.6748660064116\n",
      "sqrd_recon_error: 1.2708673469387755\n",
      "Epoch: 1\n",
      "current_weight_diff: 1.802042277133639\n",
      "sqrd_recon_error: 0.6695748299319728\n",
      "Epoch: 2\n",
      "current_weight_diff: 1.5990076264341688\n",
      "sqrd_recon_error: 0.37304421768707485\n",
      "Epoch: 3\n",
      "current_weight_diff: 1.4852424901993888\n",
      "sqrd_recon_error: 0.6131972789115646\n",
      "Epoch: 4\n",
      "current_weight_diff: 0.8156885701072147\n",
      "sqrd_recon_error: 2.4827721088435375\n"
     ]
    },
    {
     "data": {
      "application/vnd.jupyter.widget-view+json": {
       "model_id": "34883804e34543118965de47dfc36e2c",
       "version_major": 2,
       "version_minor": 0
      },
      "text/plain": [
       "VBox(children=(Label(value='0.001 MB of 0.004 MB uploaded\\r'), FloatProgress(value=0.25444973677613436, max=1.…"
      ]
     },
     "metadata": {},
     "output_type": "display_data"
    },
    {
     "name": "stderr",
     "output_type": "stream",
     "text": [
      "\u001b[34m\u001b[1mwandb\u001b[0m: \u001b[32m\u001b[41mERROR\u001b[0m Problem finishing run\n",
      "Traceback (most recent call last):\n",
      "  File \"/Library/Frameworks/Python.framework/Versions/3.10/lib/python3.10/site-packages/wandb/sdk/wandb_run.py\", line 2313, in _atexit_cleanup\n",
      "    self._on_finish()\n",
      "  File \"/Library/Frameworks/Python.framework/Versions/3.10/lib/python3.10/site-packages/wandb/sdk/wandb_run.py\", line 2567, in _on_finish\n",
      "    self._footer_file_pusher_status_info(\n",
      "  File \"/Library/Frameworks/Python.framework/Versions/3.10/lib/python3.10/site-packages/wandb/sdk/wandb_run.py\", line 3749, in _footer_file_pusher_status_info\n",
      "    Run._footer_single_run_file_pusher_status_info(\n",
      "  File \"/Library/Frameworks/Python.framework/Versions/3.10/lib/python3.10/site-packages/wandb/sdk/wandb_run.py\", line 3802, in _footer_single_run_file_pusher_status_info\n",
      "    printer.progress_close()\n",
      "  File \"/Library/Frameworks/Python.framework/Versions/3.10/lib/python3.10/site-packages/wandb/sdk/lib/printer.py\", line 292, in progress_close\n",
      "    self._progress.close()\n",
      "  File \"/Library/Frameworks/Python.framework/Versions/3.10/lib/python3.10/site-packages/wandb/sdk/lib/ipython.py\", line 128, in close\n",
      "    self._widget.close()\n",
      "  File \"/Users/lucasericsson/Library/Python/3.10/lib/python/site-packages/ipywidgets/widgets/widget.py\", line 500, in close\n",
      "    self.comm.close()\n",
      "  File \"/Users/lucasericsson/Library/Python/3.10/lib/python/site-packages/comm/base_comm.py\", line 109, in close\n",
      "    comm.get_comm_manager().unregister_comm(self)\n",
      "  File \"/Users/lucasericsson/Library/Python/3.10/lib/python/site-packages/comm/base_comm.py\", line 199, in unregister_comm\n",
      "    comm = self.comms.pop(comm.comm_id)\n",
      "KeyError: '34883804e34543118965de47dfc36e2c'\n",
      "\u001b[34m\u001b[1mwandb\u001b[0m: Agent Starting Run: ejuyz26c with config:\n",
      "\u001b[34m\u001b[1mwandb\u001b[0m: \tepochs: 4\n",
      "\u001b[34m\u001b[1mwandb\u001b[0m: \thidden_units: 784\n",
      "\u001b[34m\u001b[1mwandb\u001b[0m: \tk: 5\n",
      "\u001b[34m\u001b[1mwandb\u001b[0m: \tminibatch: 100\n",
      "Failed to detect the name of this notebook, you can set it manually with the WANDB_NOTEBOOK_NAME environment variable to enable code saving.\n",
      "\u001b[34m\u001b[1mwandb\u001b[0m: \u001b[33mWARNING\u001b[0m Ignored wandb.init() arg project when running a sweep.\n"
     ]
    },
    {
     "data": {
      "text/html": [
       "Tracking run with wandb version 0.16.6"
      ],
      "text/plain": [
       "<IPython.core.display.HTML object>"
      ]
     },
     "metadata": {},
     "output_type": "display_data"
    },
    {
     "data": {
      "text/html": [
       "Run data is saved locally in <code>/Users/lucasericsson/repos/restricted-boltzmann-machine/wandb/run-20240409_022721-ejuyz26c</code>"
      ],
      "text/plain": [
       "<IPython.core.display.HTML object>"
      ]
     },
     "metadata": {},
     "output_type": "display_data"
    },
    {
     "data": {
      "text/html": [
       "Syncing run <strong><a href='https://wandb.ai/lucasericsson222/restricted_boltzmann_machine_sweep/runs/ejuyz26c' target=\"_blank\">curious-sweep-65</a></strong> to <a href='https://wandb.ai/lucasericsson222/restricted_boltzmann_machine_sweep' target=\"_blank\">Weights & Biases</a> (<a href='https://wandb.me/run' target=\"_blank\">docs</a>)<br/>Sweep page: <a href='https://wandb.ai/lucasericsson222/restricted_boltzmann_machine_sweep/sweeps/r1b5058x' target=\"_blank\">https://wandb.ai/lucasericsson222/restricted_boltzmann_machine_sweep/sweeps/r1b5058x</a>"
      ],
      "text/plain": [
       "<IPython.core.display.HTML object>"
      ]
     },
     "metadata": {},
     "output_type": "display_data"
    },
    {
     "data": {
      "text/html": [
       " View project at <a href='https://wandb.ai/lucasericsson222/restricted_boltzmann_machine_sweep' target=\"_blank\">https://wandb.ai/lucasericsson222/restricted_boltzmann_machine_sweep</a>"
      ],
      "text/plain": [
       "<IPython.core.display.HTML object>"
      ]
     },
     "metadata": {},
     "output_type": "display_data"
    },
    {
     "data": {
      "text/html": [
       " View sweep at <a href='https://wandb.ai/lucasericsson222/restricted_boltzmann_machine_sweep/sweeps/r1b5058x' target=\"_blank\">https://wandb.ai/lucasericsson222/restricted_boltzmann_machine_sweep/sweeps/r1b5058x</a>"
      ],
      "text/plain": [
       "<IPython.core.display.HTML object>"
      ]
     },
     "metadata": {},
     "output_type": "display_data"
    },
    {
     "data": {
      "text/html": [
       " View run at <a href='https://wandb.ai/lucasericsson222/restricted_boltzmann_machine_sweep/runs/ejuyz26c' target=\"_blank\">https://wandb.ai/lucasericsson222/restricted_boltzmann_machine_sweep/runs/ejuyz26c</a>"
      ],
      "text/plain": [
       "<IPython.core.display.HTML object>"
      ]
     },
     "metadata": {},
     "output_type": "display_data"
    },
    {
     "name": "stdout",
     "output_type": "stream",
     "text": [
      "(60000, 784)\n",
      "Epoch: 0\n",
      "current_weight_diff: 12.230706148039147\n",
      "sqrd_recon_error: 0.26160714285714287\n",
      "Epoch: 1\n",
      "current_weight_diff: 2.3169702087023785\n",
      "sqrd_recon_error: 0.2522576530612245\n",
      "Epoch: 2\n",
      "current_weight_diff: 1.6157279590042066\n",
      "sqrd_recon_error: 0.23713010204081633\n",
      "Epoch: 3\n",
      "current_weight_diff: 1.355141902120115\n",
      "sqrd_recon_error: 0.22358418367346938\n"
     ]
    },
    {
     "data": {
      "application/vnd.jupyter.widget-view+json": {
       "model_id": "f7a4c1b5ff144d6b8845925edf636a85",
       "version_major": 2,
       "version_minor": 0
      },
      "text/plain": [
       "VBox(children=(Label(value='0.001 MB of 0.004 MB uploaded\\r'), FloatProgress(value=0.25985663082437277, max=1.…"
      ]
     },
     "metadata": {},
     "output_type": "display_data"
    },
    {
     "name": "stderr",
     "output_type": "stream",
     "text": [
      "\u001b[34m\u001b[1mwandb\u001b[0m: \u001b[32m\u001b[41mERROR\u001b[0m Problem finishing run\n",
      "Traceback (most recent call last):\n",
      "  File \"/Library/Frameworks/Python.framework/Versions/3.10/lib/python3.10/site-packages/wandb/sdk/wandb_run.py\", line 2313, in _atexit_cleanup\n",
      "    self._on_finish()\n",
      "  File \"/Library/Frameworks/Python.framework/Versions/3.10/lib/python3.10/site-packages/wandb/sdk/wandb_run.py\", line 2567, in _on_finish\n",
      "    self._footer_file_pusher_status_info(\n",
      "  File \"/Library/Frameworks/Python.framework/Versions/3.10/lib/python3.10/site-packages/wandb/sdk/wandb_run.py\", line 3749, in _footer_file_pusher_status_info\n",
      "    Run._footer_single_run_file_pusher_status_info(\n",
      "  File \"/Library/Frameworks/Python.framework/Versions/3.10/lib/python3.10/site-packages/wandb/sdk/wandb_run.py\", line 3802, in _footer_single_run_file_pusher_status_info\n",
      "    printer.progress_close()\n",
      "  File \"/Library/Frameworks/Python.framework/Versions/3.10/lib/python3.10/site-packages/wandb/sdk/lib/printer.py\", line 292, in progress_close\n",
      "    self._progress.close()\n",
      "  File \"/Library/Frameworks/Python.framework/Versions/3.10/lib/python3.10/site-packages/wandb/sdk/lib/ipython.py\", line 128, in close\n",
      "    self._widget.close()\n",
      "  File \"/Users/lucasericsson/Library/Python/3.10/lib/python/site-packages/ipywidgets/widgets/widget.py\", line 500, in close\n",
      "    self.comm.close()\n",
      "  File \"/Users/lucasericsson/Library/Python/3.10/lib/python/site-packages/comm/base_comm.py\", line 109, in close\n",
      "    comm.get_comm_manager().unregister_comm(self)\n",
      "  File \"/Users/lucasericsson/Library/Python/3.10/lib/python/site-packages/comm/base_comm.py\", line 199, in unregister_comm\n",
      "    comm = self.comms.pop(comm.comm_id)\n",
      "KeyError: 'f7a4c1b5ff144d6b8845925edf636a85'\n",
      "\u001b[34m\u001b[1mwandb\u001b[0m: Agent Starting Run: s75fvgzy with config:\n",
      "\u001b[34m\u001b[1mwandb\u001b[0m: \tepochs: 5\n",
      "\u001b[34m\u001b[1mwandb\u001b[0m: \thidden_units: 20\n",
      "\u001b[34m\u001b[1mwandb\u001b[0m: \tk: 30\n",
      "\u001b[34m\u001b[1mwandb\u001b[0m: \tminibatch: 100\n",
      "Failed to detect the name of this notebook, you can set it manually with the WANDB_NOTEBOOK_NAME environment variable to enable code saving.\n",
      "\u001b[34m\u001b[1mwandb\u001b[0m: \u001b[33mWARNING\u001b[0m Ignored wandb.init() arg project when running a sweep.\n"
     ]
    },
    {
     "data": {
      "text/html": [
       "Tracking run with wandb version 0.16.6"
      ],
      "text/plain": [
       "<IPython.core.display.HTML object>"
      ]
     },
     "metadata": {},
     "output_type": "display_data"
    },
    {
     "data": {
      "text/html": [
       "Run data is saved locally in <code>/Users/lucasericsson/repos/restricted-boltzmann-machine/wandb/run-20240409_022842-s75fvgzy</code>"
      ],
      "text/plain": [
       "<IPython.core.display.HTML object>"
      ]
     },
     "metadata": {},
     "output_type": "display_data"
    },
    {
     "data": {
      "text/html": [
       "Syncing run <strong><a href='https://wandb.ai/lucasericsson222/restricted_boltzmann_machine_sweep/runs/s75fvgzy' target=\"_blank\">efficient-sweep-66</a></strong> to <a href='https://wandb.ai/lucasericsson222/restricted_boltzmann_machine_sweep' target=\"_blank\">Weights & Biases</a> (<a href='https://wandb.me/run' target=\"_blank\">docs</a>)<br/>Sweep page: <a href='https://wandb.ai/lucasericsson222/restricted_boltzmann_machine_sweep/sweeps/r1b5058x' target=\"_blank\">https://wandb.ai/lucasericsson222/restricted_boltzmann_machine_sweep/sweeps/r1b5058x</a>"
      ],
      "text/plain": [
       "<IPython.core.display.HTML object>"
      ]
     },
     "metadata": {},
     "output_type": "display_data"
    },
    {
     "data": {
      "text/html": [
       " View project at <a href='https://wandb.ai/lucasericsson222/restricted_boltzmann_machine_sweep' target=\"_blank\">https://wandb.ai/lucasericsson222/restricted_boltzmann_machine_sweep</a>"
      ],
      "text/plain": [
       "<IPython.core.display.HTML object>"
      ]
     },
     "metadata": {},
     "output_type": "display_data"
    },
    {
     "data": {
      "text/html": [
       " View sweep at <a href='https://wandb.ai/lucasericsson222/restricted_boltzmann_machine_sweep/sweeps/r1b5058x' target=\"_blank\">https://wandb.ai/lucasericsson222/restricted_boltzmann_machine_sweep/sweeps/r1b5058x</a>"
      ],
      "text/plain": [
       "<IPython.core.display.HTML object>"
      ]
     },
     "metadata": {},
     "output_type": "display_data"
    },
    {
     "data": {
      "text/html": [
       " View run at <a href='https://wandb.ai/lucasericsson222/restricted_boltzmann_machine_sweep/runs/s75fvgzy' target=\"_blank\">https://wandb.ai/lucasericsson222/restricted_boltzmann_machine_sweep/runs/s75fvgzy</a>"
      ],
      "text/plain": [
       "<IPython.core.display.HTML object>"
      ]
     },
     "metadata": {},
     "output_type": "display_data"
    },
    {
     "name": "stdout",
     "output_type": "stream",
     "text": [
      "(60000, 784)\n",
      "Epoch: 0\n",
      "current_weight_diff: 161.49969298466166\n",
      "sqrd_recon_error: 5.034030612244898\n",
      "Epoch: 1\n",
      "current_weight_diff: 0.5342826537314671\n",
      "sqrd_recon_error: 3.313941326530612\n",
      "Epoch: 2\n",
      "current_weight_diff: 0.28901533398207907\n",
      "sqrd_recon_error: 1.9162244897959184\n",
      "Epoch: 3\n",
      "current_weight_diff: 0.3013456604884846\n",
      "sqrd_recon_error: 1.1478954081632653\n",
      "Epoch: 4\n",
      "current_weight_diff: 0.2761482638323959\n",
      "sqrd_recon_error: 0.8454464285714286\n"
     ]
    },
    {
     "data": {
      "application/vnd.jupyter.widget-view+json": {
       "model_id": "3ba1fce5b12541a781f21eabd60a53cf",
       "version_major": 2,
       "version_minor": 0
      },
      "text/plain": [
       "VBox(children=(Label(value='0.001 MB of 0.001 MB uploaded\\r'), FloatProgress(value=1.0, max=1.0)))"
      ]
     },
     "metadata": {},
     "output_type": "display_data"
    },
    {
     "name": "stderr",
     "output_type": "stream",
     "text": [
      "\u001b[34m\u001b[1mwandb\u001b[0m: \u001b[32m\u001b[41mERROR\u001b[0m Problem finishing run\n",
      "Traceback (most recent call last):\n",
      "  File \"/Library/Frameworks/Python.framework/Versions/3.10/lib/python3.10/site-packages/wandb/sdk/wandb_run.py\", line 2313, in _atexit_cleanup\n",
      "    self._on_finish()\n",
      "  File \"/Library/Frameworks/Python.framework/Versions/3.10/lib/python3.10/site-packages/wandb/sdk/wandb_run.py\", line 2567, in _on_finish\n",
      "    self._footer_file_pusher_status_info(\n",
      "  File \"/Library/Frameworks/Python.framework/Versions/3.10/lib/python3.10/site-packages/wandb/sdk/wandb_run.py\", line 3749, in _footer_file_pusher_status_info\n",
      "    Run._footer_single_run_file_pusher_status_info(\n",
      "  File \"/Library/Frameworks/Python.framework/Versions/3.10/lib/python3.10/site-packages/wandb/sdk/wandb_run.py\", line 3802, in _footer_single_run_file_pusher_status_info\n",
      "    printer.progress_close()\n",
      "  File \"/Library/Frameworks/Python.framework/Versions/3.10/lib/python3.10/site-packages/wandb/sdk/lib/printer.py\", line 292, in progress_close\n",
      "    self._progress.close()\n",
      "  File \"/Library/Frameworks/Python.framework/Versions/3.10/lib/python3.10/site-packages/wandb/sdk/lib/ipython.py\", line 128, in close\n",
      "    self._widget.close()\n",
      "  File \"/Users/lucasericsson/Library/Python/3.10/lib/python/site-packages/ipywidgets/widgets/widget.py\", line 500, in close\n",
      "    self.comm.close()\n",
      "  File \"/Users/lucasericsson/Library/Python/3.10/lib/python/site-packages/comm/base_comm.py\", line 109, in close\n",
      "    comm.get_comm_manager().unregister_comm(self)\n",
      "  File \"/Users/lucasericsson/Library/Python/3.10/lib/python/site-packages/comm/base_comm.py\", line 199, in unregister_comm\n",
      "    comm = self.comms.pop(comm.comm_id)\n",
      "KeyError: '3ba1fce5b12541a781f21eabd60a53cf'\n",
      "\u001b[34m\u001b[1mwandb\u001b[0m: Agent Starting Run: hujycims with config:\n",
      "\u001b[34m\u001b[1mwandb\u001b[0m: \tepochs: 1\n",
      "\u001b[34m\u001b[1mwandb\u001b[0m: \thidden_units: 50\n",
      "\u001b[34m\u001b[1mwandb\u001b[0m: \tk: 5\n",
      "\u001b[34m\u001b[1mwandb\u001b[0m: \tminibatch: 150\n",
      "Failed to detect the name of this notebook, you can set it manually with the WANDB_NOTEBOOK_NAME environment variable to enable code saving.\n",
      "\u001b[34m\u001b[1mwandb\u001b[0m: \u001b[33mWARNING\u001b[0m Ignored wandb.init() arg project when running a sweep.\n"
     ]
    },
    {
     "data": {
      "text/html": [
       "Tracking run with wandb version 0.16.6"
      ],
      "text/plain": [
       "<IPython.core.display.HTML object>"
      ]
     },
     "metadata": {},
     "output_type": "display_data"
    },
    {
     "data": {
      "text/html": [
       "Run data is saved locally in <code>/Users/lucasericsson/repos/restricted-boltzmann-machine/wandb/run-20240409_022949-hujycims</code>"
      ],
      "text/plain": [
       "<IPython.core.display.HTML object>"
      ]
     },
     "metadata": {},
     "output_type": "display_data"
    },
    {
     "data": {
      "text/html": [
       "Syncing run <strong><a href='https://wandb.ai/lucasericsson222/restricted_boltzmann_machine_sweep/runs/hujycims' target=\"_blank\">pretty-sweep-67</a></strong> to <a href='https://wandb.ai/lucasericsson222/restricted_boltzmann_machine_sweep' target=\"_blank\">Weights & Biases</a> (<a href='https://wandb.me/run' target=\"_blank\">docs</a>)<br/>Sweep page: <a href='https://wandb.ai/lucasericsson222/restricted_boltzmann_machine_sweep/sweeps/r1b5058x' target=\"_blank\">https://wandb.ai/lucasericsson222/restricted_boltzmann_machine_sweep/sweeps/r1b5058x</a>"
      ],
      "text/plain": [
       "<IPython.core.display.HTML object>"
      ]
     },
     "metadata": {},
     "output_type": "display_data"
    },
    {
     "data": {
      "text/html": [
       " View project at <a href='https://wandb.ai/lucasericsson222/restricted_boltzmann_machine_sweep' target=\"_blank\">https://wandb.ai/lucasericsson222/restricted_boltzmann_machine_sweep</a>"
      ],
      "text/plain": [
       "<IPython.core.display.HTML object>"
      ]
     },
     "metadata": {},
     "output_type": "display_data"
    },
    {
     "data": {
      "text/html": [
       " View sweep at <a href='https://wandb.ai/lucasericsson222/restricted_boltzmann_machine_sweep/sweeps/r1b5058x' target=\"_blank\">https://wandb.ai/lucasericsson222/restricted_boltzmann_machine_sweep/sweeps/r1b5058x</a>"
      ],
      "text/plain": [
       "<IPython.core.display.HTML object>"
      ]
     },
     "metadata": {},
     "output_type": "display_data"
    },
    {
     "data": {
      "text/html": [
       " View run at <a href='https://wandb.ai/lucasericsson222/restricted_boltzmann_machine_sweep/runs/hujycims' target=\"_blank\">https://wandb.ai/lucasericsson222/restricted_boltzmann_machine_sweep/runs/hujycims</a>"
      ],
      "text/plain": [
       "<IPython.core.display.HTML object>"
      ]
     },
     "metadata": {},
     "output_type": "display_data"
    },
    {
     "name": "stdout",
     "output_type": "stream",
     "text": [
      "(60000, 784)\n",
      "Epoch: 0\n",
      "current_weight_diff: 141.69291556298177\n",
      "sqrd_recon_error: 4.18015306122449\n"
     ]
    },
    {
     "data": {
      "application/vnd.jupyter.widget-view+json": {
       "model_id": "a56d56a1b8bb4953993f98fde6365c8f",
       "version_major": 2,
       "version_minor": 0
      },
      "text/plain": [
       "VBox(children=(Label(value='0.001 MB of 0.003 MB uploaded\\r'), FloatProgress(value=0.27861652484216304, max=1.…"
      ]
     },
     "metadata": {},
     "output_type": "display_data"
    },
    {
     "name": "stderr",
     "output_type": "stream",
     "text": [
      "\u001b[34m\u001b[1mwandb\u001b[0m: \u001b[32m\u001b[41mERROR\u001b[0m Problem finishing run\n",
      "Traceback (most recent call last):\n",
      "  File \"/Library/Frameworks/Python.framework/Versions/3.10/lib/python3.10/site-packages/wandb/sdk/wandb_run.py\", line 2313, in _atexit_cleanup\n",
      "    self._on_finish()\n",
      "  File \"/Library/Frameworks/Python.framework/Versions/3.10/lib/python3.10/site-packages/wandb/sdk/wandb_run.py\", line 2567, in _on_finish\n",
      "    self._footer_file_pusher_status_info(\n",
      "  File \"/Library/Frameworks/Python.framework/Versions/3.10/lib/python3.10/site-packages/wandb/sdk/wandb_run.py\", line 3749, in _footer_file_pusher_status_info\n",
      "    Run._footer_single_run_file_pusher_status_info(\n",
      "  File \"/Library/Frameworks/Python.framework/Versions/3.10/lib/python3.10/site-packages/wandb/sdk/wandb_run.py\", line 3802, in _footer_single_run_file_pusher_status_info\n",
      "    printer.progress_close()\n",
      "  File \"/Library/Frameworks/Python.framework/Versions/3.10/lib/python3.10/site-packages/wandb/sdk/lib/printer.py\", line 292, in progress_close\n",
      "    self._progress.close()\n",
      "  File \"/Library/Frameworks/Python.framework/Versions/3.10/lib/python3.10/site-packages/wandb/sdk/lib/ipython.py\", line 128, in close\n",
      "    self._widget.close()\n",
      "  File \"/Users/lucasericsson/Library/Python/3.10/lib/python/site-packages/ipywidgets/widgets/widget.py\", line 500, in close\n",
      "    self.comm.close()\n",
      "  File \"/Users/lucasericsson/Library/Python/3.10/lib/python/site-packages/comm/base_comm.py\", line 109, in close\n",
      "    comm.get_comm_manager().unregister_comm(self)\n",
      "  File \"/Users/lucasericsson/Library/Python/3.10/lib/python/site-packages/comm/base_comm.py\", line 199, in unregister_comm\n",
      "    comm = self.comms.pop(comm.comm_id)\n",
      "KeyError: 'a56d56a1b8bb4953993f98fde6365c8f'\n",
      "\u001b[34m\u001b[1mwandb\u001b[0m: Agent Starting Run: lg26nfkj with config:\n",
      "\u001b[34m\u001b[1mwandb\u001b[0m: \tepochs: 3\n",
      "\u001b[34m\u001b[1mwandb\u001b[0m: \thidden_units: 200\n",
      "\u001b[34m\u001b[1mwandb\u001b[0m: \tk: 10\n",
      "\u001b[34m\u001b[1mwandb\u001b[0m: \tminibatch: 150\n",
      "Failed to detect the name of this notebook, you can set it manually with the WANDB_NOTEBOOK_NAME environment variable to enable code saving.\n",
      "\u001b[34m\u001b[1mwandb\u001b[0m: \u001b[33mWARNING\u001b[0m Ignored wandb.init() arg project when running a sweep.\n"
     ]
    },
    {
     "data": {
      "text/html": [
       "Tracking run with wandb version 0.16.6"
      ],
      "text/plain": [
       "<IPython.core.display.HTML object>"
      ]
     },
     "metadata": {},
     "output_type": "display_data"
    },
    {
     "data": {
      "text/html": [
       "Run data is saved locally in <code>/Users/lucasericsson/repos/restricted-boltzmann-machine/wandb/run-20240409_022959-lg26nfkj</code>"
      ],
      "text/plain": [
       "<IPython.core.display.HTML object>"
      ]
     },
     "metadata": {},
     "output_type": "display_data"
    },
    {
     "data": {
      "text/html": [
       "Syncing run <strong><a href='https://wandb.ai/lucasericsson222/restricted_boltzmann_machine_sweep/runs/lg26nfkj' target=\"_blank\">effortless-sweep-68</a></strong> to <a href='https://wandb.ai/lucasericsson222/restricted_boltzmann_machine_sweep' target=\"_blank\">Weights & Biases</a> (<a href='https://wandb.me/run' target=\"_blank\">docs</a>)<br/>Sweep page: <a href='https://wandb.ai/lucasericsson222/restricted_boltzmann_machine_sweep/sweeps/r1b5058x' target=\"_blank\">https://wandb.ai/lucasericsson222/restricted_boltzmann_machine_sweep/sweeps/r1b5058x</a>"
      ],
      "text/plain": [
       "<IPython.core.display.HTML object>"
      ]
     },
     "metadata": {},
     "output_type": "display_data"
    },
    {
     "data": {
      "text/html": [
       " View project at <a href='https://wandb.ai/lucasericsson222/restricted_boltzmann_machine_sweep' target=\"_blank\">https://wandb.ai/lucasericsson222/restricted_boltzmann_machine_sweep</a>"
      ],
      "text/plain": [
       "<IPython.core.display.HTML object>"
      ]
     },
     "metadata": {},
     "output_type": "display_data"
    },
    {
     "data": {
      "text/html": [
       " View sweep at <a href='https://wandb.ai/lucasericsson222/restricted_boltzmann_machine_sweep/sweeps/r1b5058x' target=\"_blank\">https://wandb.ai/lucasericsson222/restricted_boltzmann_machine_sweep/sweeps/r1b5058x</a>"
      ],
      "text/plain": [
       "<IPython.core.display.HTML object>"
      ]
     },
     "metadata": {},
     "output_type": "display_data"
    },
    {
     "data": {
      "text/html": [
       " View run at <a href='https://wandb.ai/lucasericsson222/restricted_boltzmann_machine_sweep/runs/lg26nfkj' target=\"_blank\">https://wandb.ai/lucasericsson222/restricted_boltzmann_machine_sweep/runs/lg26nfkj</a>"
      ],
      "text/plain": [
       "<IPython.core.display.HTML object>"
      ]
     },
     "metadata": {},
     "output_type": "display_data"
    },
    {
     "name": "stdout",
     "output_type": "stream",
     "text": [
      "(60000, 784)\n",
      "Epoch: 0\n",
      "current_weight_diff: 18.999094941578743\n",
      "sqrd_recon_error: 2.2076020408163264\n",
      "Epoch: 1\n",
      "current_weight_diff: 1.3805780589763503\n",
      "sqrd_recon_error: 1.037295918367347\n",
      "Epoch: 2\n",
      "current_weight_diff: 1.827075049311967\n",
      "sqrd_recon_error: 0.6590731292517007\n"
     ]
    },
    {
     "data": {
      "application/vnd.jupyter.widget-view+json": {
       "model_id": "02d0157e28c64c2da7dafb9e1b649f4b",
       "version_major": 2,
       "version_minor": 0
      },
      "text/plain": [
       "VBox(children=(Label(value='0.001 MB of 0.001 MB uploaded\\r'), FloatProgress(value=1.0, max=1.0)))"
      ]
     },
     "metadata": {},
     "output_type": "display_data"
    },
    {
     "name": "stderr",
     "output_type": "stream",
     "text": [
      "\u001b[34m\u001b[1mwandb\u001b[0m: \u001b[32m\u001b[41mERROR\u001b[0m Problem finishing run\n",
      "Traceback (most recent call last):\n",
      "  File \"/Library/Frameworks/Python.framework/Versions/3.10/lib/python3.10/site-packages/wandb/sdk/wandb_run.py\", line 2313, in _atexit_cleanup\n",
      "    self._on_finish()\n",
      "  File \"/Library/Frameworks/Python.framework/Versions/3.10/lib/python3.10/site-packages/wandb/sdk/wandb_run.py\", line 2567, in _on_finish\n",
      "    self._footer_file_pusher_status_info(\n",
      "  File \"/Library/Frameworks/Python.framework/Versions/3.10/lib/python3.10/site-packages/wandb/sdk/wandb_run.py\", line 3749, in _footer_file_pusher_status_info\n",
      "    Run._footer_single_run_file_pusher_status_info(\n",
      "  File \"/Library/Frameworks/Python.framework/Versions/3.10/lib/python3.10/site-packages/wandb/sdk/wandb_run.py\", line 3802, in _footer_single_run_file_pusher_status_info\n",
      "    printer.progress_close()\n",
      "  File \"/Library/Frameworks/Python.framework/Versions/3.10/lib/python3.10/site-packages/wandb/sdk/lib/printer.py\", line 292, in progress_close\n",
      "    self._progress.close()\n",
      "  File \"/Library/Frameworks/Python.framework/Versions/3.10/lib/python3.10/site-packages/wandb/sdk/lib/ipython.py\", line 128, in close\n",
      "    self._widget.close()\n",
      "  File \"/Users/lucasericsson/Library/Python/3.10/lib/python/site-packages/ipywidgets/widgets/widget.py\", line 500, in close\n",
      "    self.comm.close()\n",
      "  File \"/Users/lucasericsson/Library/Python/3.10/lib/python/site-packages/comm/base_comm.py\", line 109, in close\n",
      "    comm.get_comm_manager().unregister_comm(self)\n",
      "  File \"/Users/lucasericsson/Library/Python/3.10/lib/python/site-packages/comm/base_comm.py\", line 199, in unregister_comm\n",
      "    comm = self.comms.pop(comm.comm_id)\n",
      "KeyError: '02d0157e28c64c2da7dafb9e1b649f4b'\n",
      "\u001b[34m\u001b[1mwandb\u001b[0m: Agent Starting Run: toywgggg with config:\n",
      "\u001b[34m\u001b[1mwandb\u001b[0m: \tepochs: 3\n",
      "\u001b[34m\u001b[1mwandb\u001b[0m: \thidden_units: 10\n",
      "\u001b[34m\u001b[1mwandb\u001b[0m: \tk: 3\n",
      "\u001b[34m\u001b[1mwandb\u001b[0m: \tminibatch: 150\n",
      "Failed to detect the name of this notebook, you can set it manually with the WANDB_NOTEBOOK_NAME environment variable to enable code saving.\n",
      "\u001b[34m\u001b[1mwandb\u001b[0m: \u001b[33mWARNING\u001b[0m Ignored wandb.init() arg project when running a sweep.\n"
     ]
    },
    {
     "data": {
      "text/html": [
       "Tracking run with wandb version 0.16.6"
      ],
      "text/plain": [
       "<IPython.core.display.HTML object>"
      ]
     },
     "metadata": {},
     "output_type": "display_data"
    },
    {
     "data": {
      "text/html": [
       "Run data is saved locally in <code>/Users/lucasericsson/repos/restricted-boltzmann-machine/wandb/run-20240409_023042-toywgggg</code>"
      ],
      "text/plain": [
       "<IPython.core.display.HTML object>"
      ]
     },
     "metadata": {},
     "output_type": "display_data"
    },
    {
     "data": {
      "text/html": [
       "Syncing run <strong><a href='https://wandb.ai/lucasericsson222/restricted_boltzmann_machine_sweep/runs/toywgggg' target=\"_blank\">gallant-sweep-69</a></strong> to <a href='https://wandb.ai/lucasericsson222/restricted_boltzmann_machine_sweep' target=\"_blank\">Weights & Biases</a> (<a href='https://wandb.me/run' target=\"_blank\">docs</a>)<br/>Sweep page: <a href='https://wandb.ai/lucasericsson222/restricted_boltzmann_machine_sweep/sweeps/r1b5058x' target=\"_blank\">https://wandb.ai/lucasericsson222/restricted_boltzmann_machine_sweep/sweeps/r1b5058x</a>"
      ],
      "text/plain": [
       "<IPython.core.display.HTML object>"
      ]
     },
     "metadata": {},
     "output_type": "display_data"
    },
    {
     "data": {
      "text/html": [
       " View project at <a href='https://wandb.ai/lucasericsson222/restricted_boltzmann_machine_sweep' target=\"_blank\">https://wandb.ai/lucasericsson222/restricted_boltzmann_machine_sweep</a>"
      ],
      "text/plain": [
       "<IPython.core.display.HTML object>"
      ]
     },
     "metadata": {},
     "output_type": "display_data"
    },
    {
     "data": {
      "text/html": [
       " View sweep at <a href='https://wandb.ai/lucasericsson222/restricted_boltzmann_machine_sweep/sweeps/r1b5058x' target=\"_blank\">https://wandb.ai/lucasericsson222/restricted_boltzmann_machine_sweep/sweeps/r1b5058x</a>"
      ],
      "text/plain": [
       "<IPython.core.display.HTML object>"
      ]
     },
     "metadata": {},
     "output_type": "display_data"
    },
    {
     "data": {
      "text/html": [
       " View run at <a href='https://wandb.ai/lucasericsson222/restricted_boltzmann_machine_sweep/runs/toywgggg' target=\"_blank\">https://wandb.ai/lucasericsson222/restricted_boltzmann_machine_sweep/runs/toywgggg</a>"
      ],
      "text/plain": [
       "<IPython.core.display.HTML object>"
      ]
     },
     "metadata": {},
     "output_type": "display_data"
    },
    {
     "name": "stdout",
     "output_type": "stream",
     "text": [
      "(60000, 784)\n",
      "Epoch: 0\n",
      "current_weight_diff: 203.83227244768844\n",
      "sqrd_recon_error: 8.226989795918367\n",
      "Epoch: 1\n",
      "current_weight_diff: 0.7646884210130681\n",
      "sqrd_recon_error: 3.4193792517006805\n",
      "Epoch: 2\n",
      "current_weight_diff: 0.24971275651369995\n",
      "sqrd_recon_error: 2.122312925170068\n"
     ]
    },
    {
     "data": {
      "application/vnd.jupyter.widget-view+json": {
       "model_id": "ac24be03811b4a21a991c486c047301e",
       "version_major": 2,
       "version_minor": 0
      },
      "text/plain": [
       "VBox(children=(Label(value='0.001 MB of 0.001 MB uploaded\\r'), FloatProgress(value=1.0, max=1.0)))"
      ]
     },
     "metadata": {},
     "output_type": "display_data"
    },
    {
     "name": "stderr",
     "output_type": "stream",
     "text": [
      "\u001b[34m\u001b[1mwandb\u001b[0m: \u001b[32m\u001b[41mERROR\u001b[0m Problem finishing run\n",
      "Traceback (most recent call last):\n",
      "  File \"/Library/Frameworks/Python.framework/Versions/3.10/lib/python3.10/site-packages/wandb/sdk/wandb_run.py\", line 2313, in _atexit_cleanup\n",
      "    self._on_finish()\n",
      "  File \"/Library/Frameworks/Python.framework/Versions/3.10/lib/python3.10/site-packages/wandb/sdk/wandb_run.py\", line 2567, in _on_finish\n",
      "    self._footer_file_pusher_status_info(\n",
      "  File \"/Library/Frameworks/Python.framework/Versions/3.10/lib/python3.10/site-packages/wandb/sdk/wandb_run.py\", line 3749, in _footer_file_pusher_status_info\n",
      "    Run._footer_single_run_file_pusher_status_info(\n",
      "  File \"/Library/Frameworks/Python.framework/Versions/3.10/lib/python3.10/site-packages/wandb/sdk/wandb_run.py\", line 3802, in _footer_single_run_file_pusher_status_info\n",
      "    printer.progress_close()\n",
      "  File \"/Library/Frameworks/Python.framework/Versions/3.10/lib/python3.10/site-packages/wandb/sdk/lib/printer.py\", line 292, in progress_close\n",
      "    self._progress.close()\n",
      "  File \"/Library/Frameworks/Python.framework/Versions/3.10/lib/python3.10/site-packages/wandb/sdk/lib/ipython.py\", line 128, in close\n",
      "    self._widget.close()\n",
      "  File \"/Users/lucasericsson/Library/Python/3.10/lib/python/site-packages/ipywidgets/widgets/widget.py\", line 500, in close\n",
      "    self.comm.close()\n",
      "  File \"/Users/lucasericsson/Library/Python/3.10/lib/python/site-packages/comm/base_comm.py\", line 109, in close\n",
      "    comm.get_comm_manager().unregister_comm(self)\n",
      "  File \"/Users/lucasericsson/Library/Python/3.10/lib/python/site-packages/comm/base_comm.py\", line 199, in unregister_comm\n",
      "    comm = self.comms.pop(comm.comm_id)\n",
      "KeyError: 'ac24be03811b4a21a991c486c047301e'\n",
      "\u001b[34m\u001b[1mwandb\u001b[0m: Agent Starting Run: t67lkl2x with config:\n",
      "\u001b[34m\u001b[1mwandb\u001b[0m: \tepochs: 4\n",
      "\u001b[34m\u001b[1mwandb\u001b[0m: \thidden_units: 10\n",
      "\u001b[34m\u001b[1mwandb\u001b[0m: \tk: 1\n",
      "\u001b[34m\u001b[1mwandb\u001b[0m: \tminibatch: 50\n",
      "Failed to detect the name of this notebook, you can set it manually with the WANDB_NOTEBOOK_NAME environment variable to enable code saving.\n",
      "\u001b[34m\u001b[1mwandb\u001b[0m: \u001b[33mWARNING\u001b[0m Ignored wandb.init() arg project when running a sweep.\n"
     ]
    },
    {
     "data": {
      "text/html": [
       "Tracking run with wandb version 0.16.6"
      ],
      "text/plain": [
       "<IPython.core.display.HTML object>"
      ]
     },
     "metadata": {},
     "output_type": "display_data"
    },
    {
     "data": {
      "text/html": [
       "Run data is saved locally in <code>/Users/lucasericsson/repos/restricted-boltzmann-machine/wandb/run-20240409_023053-t67lkl2x</code>"
      ],
      "text/plain": [
       "<IPython.core.display.HTML object>"
      ]
     },
     "metadata": {},
     "output_type": "display_data"
    },
    {
     "data": {
      "text/html": [
       "Syncing run <strong><a href='https://wandb.ai/lucasericsson222/restricted_boltzmann_machine_sweep/runs/t67lkl2x' target=\"_blank\">colorful-sweep-70</a></strong> to <a href='https://wandb.ai/lucasericsson222/restricted_boltzmann_machine_sweep' target=\"_blank\">Weights & Biases</a> (<a href='https://wandb.me/run' target=\"_blank\">docs</a>)<br/>Sweep page: <a href='https://wandb.ai/lucasericsson222/restricted_boltzmann_machine_sweep/sweeps/r1b5058x' target=\"_blank\">https://wandb.ai/lucasericsson222/restricted_boltzmann_machine_sweep/sweeps/r1b5058x</a>"
      ],
      "text/plain": [
       "<IPython.core.display.HTML object>"
      ]
     },
     "metadata": {},
     "output_type": "display_data"
    },
    {
     "data": {
      "text/html": [
       " View project at <a href='https://wandb.ai/lucasericsson222/restricted_boltzmann_machine_sweep' target=\"_blank\">https://wandb.ai/lucasericsson222/restricted_boltzmann_machine_sweep</a>"
      ],
      "text/plain": [
       "<IPython.core.display.HTML object>"
      ]
     },
     "metadata": {},
     "output_type": "display_data"
    },
    {
     "data": {
      "text/html": [
       " View sweep at <a href='https://wandb.ai/lucasericsson222/restricted_boltzmann_machine_sweep/sweeps/r1b5058x' target=\"_blank\">https://wandb.ai/lucasericsson222/restricted_boltzmann_machine_sweep/sweeps/r1b5058x</a>"
      ],
      "text/plain": [
       "<IPython.core.display.HTML object>"
      ]
     },
     "metadata": {},
     "output_type": "display_data"
    },
    {
     "data": {
      "text/html": [
       " View run at <a href='https://wandb.ai/lucasericsson222/restricted_boltzmann_machine_sweep/runs/t67lkl2x' target=\"_blank\">https://wandb.ai/lucasericsson222/restricted_boltzmann_machine_sweep/runs/t67lkl2x</a>"
      ],
      "text/plain": [
       "<IPython.core.display.HTML object>"
      ]
     },
     "metadata": {},
     "output_type": "display_data"
    },
    {
     "name": "stdout",
     "output_type": "stream",
     "text": [
      "(60000, 784)\n",
      "Epoch: 0\n",
      "current_weight_diff: 77.40527988459297\n",
      "sqrd_recon_error: 2.6080357142857142\n",
      "Epoch: 1\n",
      "current_weight_diff: 0.7728519984488343\n",
      "sqrd_recon_error: 1.2184183673469386\n",
      "Epoch: 2\n",
      "current_weight_diff: 0.5774699406436136\n",
      "sqrd_recon_error: 0.7588775510204081\n",
      "Epoch: 3\n",
      "current_weight_diff: 0.22370542848317984\n",
      "sqrd_recon_error: 0.5089795918367347\n"
     ]
    },
    {
     "data": {
      "application/vnd.jupyter.widget-view+json": {
       "model_id": "8244d535209e42c0bda7f55574e39c47",
       "version_major": 2,
       "version_minor": 0
      },
      "text/plain": [
       "VBox(children=(Label(value='0.001 MB of 0.004 MB uploaded\\r'), FloatProgress(value=0.2601230138390569, max=1.0…"
      ]
     },
     "metadata": {},
     "output_type": "display_data"
    },
    {
     "name": "stderr",
     "output_type": "stream",
     "text": [
      "\u001b[34m\u001b[1mwandb\u001b[0m: \u001b[32m\u001b[41mERROR\u001b[0m Problem finishing run\n",
      "Traceback (most recent call last):\n",
      "  File \"/Library/Frameworks/Python.framework/Versions/3.10/lib/python3.10/site-packages/wandb/sdk/wandb_run.py\", line 2313, in _atexit_cleanup\n",
      "    self._on_finish()\n",
      "  File \"/Library/Frameworks/Python.framework/Versions/3.10/lib/python3.10/site-packages/wandb/sdk/wandb_run.py\", line 2567, in _on_finish\n",
      "    self._footer_file_pusher_status_info(\n",
      "  File \"/Library/Frameworks/Python.framework/Versions/3.10/lib/python3.10/site-packages/wandb/sdk/wandb_run.py\", line 3749, in _footer_file_pusher_status_info\n",
      "    Run._footer_single_run_file_pusher_status_info(\n",
      "  File \"/Library/Frameworks/Python.framework/Versions/3.10/lib/python3.10/site-packages/wandb/sdk/wandb_run.py\", line 3802, in _footer_single_run_file_pusher_status_info\n",
      "    printer.progress_close()\n",
      "  File \"/Library/Frameworks/Python.framework/Versions/3.10/lib/python3.10/site-packages/wandb/sdk/lib/printer.py\", line 292, in progress_close\n",
      "    self._progress.close()\n",
      "  File \"/Library/Frameworks/Python.framework/Versions/3.10/lib/python3.10/site-packages/wandb/sdk/lib/ipython.py\", line 128, in close\n",
      "    self._widget.close()\n",
      "  File \"/Users/lucasericsson/Library/Python/3.10/lib/python/site-packages/ipywidgets/widgets/widget.py\", line 500, in close\n",
      "    self.comm.close()\n",
      "  File \"/Users/lucasericsson/Library/Python/3.10/lib/python/site-packages/comm/base_comm.py\", line 109, in close\n",
      "    comm.get_comm_manager().unregister_comm(self)\n",
      "  File \"/Users/lucasericsson/Library/Python/3.10/lib/python/site-packages/comm/base_comm.py\", line 199, in unregister_comm\n",
      "    comm = self.comms.pop(comm.comm_id)\n",
      "KeyError: '8244d535209e42c0bda7f55574e39c47'\n",
      "\u001b[34m\u001b[1mwandb\u001b[0m: Agent Starting Run: s5ndp5tn with config:\n",
      "\u001b[34m\u001b[1mwandb\u001b[0m: \tepochs: 3\n",
      "\u001b[34m\u001b[1mwandb\u001b[0m: \thidden_units: 10\n",
      "\u001b[34m\u001b[1mwandb\u001b[0m: \tk: 30\n",
      "\u001b[34m\u001b[1mwandb\u001b[0m: \tminibatch: 150\n",
      "Failed to detect the name of this notebook, you can set it manually with the WANDB_NOTEBOOK_NAME environment variable to enable code saving.\n",
      "\u001b[34m\u001b[1mwandb\u001b[0m: \u001b[33mWARNING\u001b[0m Ignored wandb.init() arg project when running a sweep.\n"
     ]
    },
    {
     "data": {
      "text/html": [
       "Tracking run with wandb version 0.16.6"
      ],
      "text/plain": [
       "<IPython.core.display.HTML object>"
      ]
     },
     "metadata": {},
     "output_type": "display_data"
    },
    {
     "data": {
      "text/html": [
       "Run data is saved locally in <code>/Users/lucasericsson/repos/restricted-boltzmann-machine/wandb/run-20240409_023103-s5ndp5tn</code>"
      ],
      "text/plain": [
       "<IPython.core.display.HTML object>"
      ]
     },
     "metadata": {},
     "output_type": "display_data"
    },
    {
     "data": {
      "text/html": [
       "Syncing run <strong><a href='https://wandb.ai/lucasericsson222/restricted_boltzmann_machine_sweep/runs/s5ndp5tn' target=\"_blank\">comfy-sweep-71</a></strong> to <a href='https://wandb.ai/lucasericsson222/restricted_boltzmann_machine_sweep' target=\"_blank\">Weights & Biases</a> (<a href='https://wandb.me/run' target=\"_blank\">docs</a>)<br/>Sweep page: <a href='https://wandb.ai/lucasericsson222/restricted_boltzmann_machine_sweep/sweeps/r1b5058x' target=\"_blank\">https://wandb.ai/lucasericsson222/restricted_boltzmann_machine_sweep/sweeps/r1b5058x</a>"
      ],
      "text/plain": [
       "<IPython.core.display.HTML object>"
      ]
     },
     "metadata": {},
     "output_type": "display_data"
    },
    {
     "data": {
      "text/html": [
       " View project at <a href='https://wandb.ai/lucasericsson222/restricted_boltzmann_machine_sweep' target=\"_blank\">https://wandb.ai/lucasericsson222/restricted_boltzmann_machine_sweep</a>"
      ],
      "text/plain": [
       "<IPython.core.display.HTML object>"
      ]
     },
     "metadata": {},
     "output_type": "display_data"
    },
    {
     "data": {
      "text/html": [
       " View sweep at <a href='https://wandb.ai/lucasericsson222/restricted_boltzmann_machine_sweep/sweeps/r1b5058x' target=\"_blank\">https://wandb.ai/lucasericsson222/restricted_boltzmann_machine_sweep/sweeps/r1b5058x</a>"
      ],
      "text/plain": [
       "<IPython.core.display.HTML object>"
      ]
     },
     "metadata": {},
     "output_type": "display_data"
    },
    {
     "data": {
      "text/html": [
       " View run at <a href='https://wandb.ai/lucasericsson222/restricted_boltzmann_machine_sweep/runs/s5ndp5tn' target=\"_blank\">https://wandb.ai/lucasericsson222/restricted_boltzmann_machine_sweep/runs/s5ndp5tn</a>"
      ],
      "text/plain": [
       "<IPython.core.display.HTML object>"
      ]
     },
     "metadata": {},
     "output_type": "display_data"
    },
    {
     "name": "stdout",
     "output_type": "stream",
     "text": [
      "(60000, 784)\n",
      "Epoch: 0\n",
      "current_weight_diff: 70.52328274897165\n",
      "sqrd_recon_error: 9.502253401360544\n",
      "Epoch: 1\n",
      "current_weight_diff: 1.6263032578468208\n",
      "sqrd_recon_error: 5.384489795918367\n",
      "Epoch: 2\n",
      "current_weight_diff: 0.22571835516810643\n",
      "sqrd_recon_error: 2.729047619047619\n"
     ]
    },
    {
     "data": {
      "application/vnd.jupyter.widget-view+json": {
       "model_id": "f6db6c76ee894bf885d26395d0ab3a1d",
       "version_major": 2,
       "version_minor": 0
      },
      "text/plain": [
       "VBox(children=(Label(value='0.001 MB of 0.001 MB uploaded\\r'), FloatProgress(value=1.0, max=1.0)))"
      ]
     },
     "metadata": {},
     "output_type": "display_data"
    },
    {
     "name": "stderr",
     "output_type": "stream",
     "text": [
      "\u001b[34m\u001b[1mwandb\u001b[0m: \u001b[32m\u001b[41mERROR\u001b[0m Problem finishing run\n",
      "Traceback (most recent call last):\n",
      "  File \"/Library/Frameworks/Python.framework/Versions/3.10/lib/python3.10/site-packages/wandb/sdk/wandb_run.py\", line 2313, in _atexit_cleanup\n",
      "    self._on_finish()\n",
      "  File \"/Library/Frameworks/Python.framework/Versions/3.10/lib/python3.10/site-packages/wandb/sdk/wandb_run.py\", line 2567, in _on_finish\n",
      "    self._footer_file_pusher_status_info(\n",
      "  File \"/Library/Frameworks/Python.framework/Versions/3.10/lib/python3.10/site-packages/wandb/sdk/wandb_run.py\", line 3749, in _footer_file_pusher_status_info\n",
      "    Run._footer_single_run_file_pusher_status_info(\n",
      "  File \"/Library/Frameworks/Python.framework/Versions/3.10/lib/python3.10/site-packages/wandb/sdk/wandb_run.py\", line 3802, in _footer_single_run_file_pusher_status_info\n",
      "    printer.progress_close()\n",
      "  File \"/Library/Frameworks/Python.framework/Versions/3.10/lib/python3.10/site-packages/wandb/sdk/lib/printer.py\", line 292, in progress_close\n",
      "    self._progress.close()\n",
      "  File \"/Library/Frameworks/Python.framework/Versions/3.10/lib/python3.10/site-packages/wandb/sdk/lib/ipython.py\", line 128, in close\n",
      "    self._widget.close()\n",
      "  File \"/Users/lucasericsson/Library/Python/3.10/lib/python/site-packages/ipywidgets/widgets/widget.py\", line 500, in close\n",
      "    self.comm.close()\n",
      "  File \"/Users/lucasericsson/Library/Python/3.10/lib/python/site-packages/comm/base_comm.py\", line 109, in close\n",
      "    comm.get_comm_manager().unregister_comm(self)\n",
      "  File \"/Users/lucasericsson/Library/Python/3.10/lib/python/site-packages/comm/base_comm.py\", line 199, in unregister_comm\n",
      "    comm = self.comms.pop(comm.comm_id)\n",
      "KeyError: 'f6db6c76ee894bf885d26395d0ab3a1d'\n",
      "\u001b[34m\u001b[1mwandb\u001b[0m: Agent Starting Run: el74vx8r with config:\n",
      "\u001b[34m\u001b[1mwandb\u001b[0m: \tepochs: 3\n",
      "\u001b[34m\u001b[1mwandb\u001b[0m: \thidden_units: 200\n",
      "\u001b[34m\u001b[1mwandb\u001b[0m: \tk: 30\n",
      "\u001b[34m\u001b[1mwandb\u001b[0m: \tminibatch: 100\n",
      "Failed to detect the name of this notebook, you can set it manually with the WANDB_NOTEBOOK_NAME environment variable to enable code saving.\n",
      "\u001b[34m\u001b[1mwandb\u001b[0m: \u001b[33mWARNING\u001b[0m Ignored wandb.init() arg project when running a sweep.\n"
     ]
    },
    {
     "data": {
      "text/html": [
       "Tracking run with wandb version 0.16.6"
      ],
      "text/plain": [
       "<IPython.core.display.HTML object>"
      ]
     },
     "metadata": {},
     "output_type": "display_data"
    },
    {
     "data": {
      "text/html": [
       "Run data is saved locally in <code>/Users/lucasericsson/repos/restricted-boltzmann-machine/wandb/run-20240409_023149-el74vx8r</code>"
      ],
      "text/plain": [
       "<IPython.core.display.HTML object>"
      ]
     },
     "metadata": {},
     "output_type": "display_data"
    },
    {
     "data": {
      "text/html": [
       "Syncing run <strong><a href='https://wandb.ai/lucasericsson222/restricted_boltzmann_machine_sweep/runs/el74vx8r' target=\"_blank\">efficient-sweep-72</a></strong> to <a href='https://wandb.ai/lucasericsson222/restricted_boltzmann_machine_sweep' target=\"_blank\">Weights & Biases</a> (<a href='https://wandb.me/run' target=\"_blank\">docs</a>)<br/>Sweep page: <a href='https://wandb.ai/lucasericsson222/restricted_boltzmann_machine_sweep/sweeps/r1b5058x' target=\"_blank\">https://wandb.ai/lucasericsson222/restricted_boltzmann_machine_sweep/sweeps/r1b5058x</a>"
      ],
      "text/plain": [
       "<IPython.core.display.HTML object>"
      ]
     },
     "metadata": {},
     "output_type": "display_data"
    },
    {
     "data": {
      "text/html": [
       " View project at <a href='https://wandb.ai/lucasericsson222/restricted_boltzmann_machine_sweep' target=\"_blank\">https://wandb.ai/lucasericsson222/restricted_boltzmann_machine_sweep</a>"
      ],
      "text/plain": [
       "<IPython.core.display.HTML object>"
      ]
     },
     "metadata": {},
     "output_type": "display_data"
    },
    {
     "data": {
      "text/html": [
       " View sweep at <a href='https://wandb.ai/lucasericsson222/restricted_boltzmann_machine_sweep/sweeps/r1b5058x' target=\"_blank\">https://wandb.ai/lucasericsson222/restricted_boltzmann_machine_sweep/sweeps/r1b5058x</a>"
      ],
      "text/plain": [
       "<IPython.core.display.HTML object>"
      ]
     },
     "metadata": {},
     "output_type": "display_data"
    },
    {
     "data": {
      "text/html": [
       " View run at <a href='https://wandb.ai/lucasericsson222/restricted_boltzmann_machine_sweep/runs/el74vx8r' target=\"_blank\">https://wandb.ai/lucasericsson222/restricted_boltzmann_machine_sweep/runs/el74vx8r</a>"
      ],
      "text/plain": [
       "<IPython.core.display.HTML object>"
      ]
     },
     "metadata": {},
     "output_type": "display_data"
    },
    {
     "name": "stdout",
     "output_type": "stream",
     "text": [
      "(60000, 784)\n",
      "Epoch: 0\n",
      "current_weight_diff: 18.889610786383113\n",
      "sqrd_recon_error: 2.2136479591836733\n",
      "Epoch: 1\n",
      "current_weight_diff: 2.317231784651328\n",
      "sqrd_recon_error: 0.8390688775510204\n",
      "Epoch: 2\n",
      "current_weight_diff: 3.557666383884611\n",
      "sqrd_recon_error: 1.067844387755102\n"
     ]
    },
    {
     "data": {
      "application/vnd.jupyter.widget-view+json": {
       "model_id": "1c8cc6c3f7d340788fcdf19bf69e1652",
       "version_major": 2,
       "version_minor": 0
      },
      "text/plain": [
       "VBox(children=(Label(value='0.001 MB of 0.001 MB uploaded\\r'), FloatProgress(value=1.0, max=1.0)))"
      ]
     },
     "metadata": {},
     "output_type": "display_data"
    },
    {
     "name": "stderr",
     "output_type": "stream",
     "text": [
      "\u001b[34m\u001b[1mwandb\u001b[0m: \u001b[32m\u001b[41mERROR\u001b[0m Problem finishing run\n",
      "Traceback (most recent call last):\n",
      "  File \"/Library/Frameworks/Python.framework/Versions/3.10/lib/python3.10/site-packages/wandb/sdk/wandb_run.py\", line 2313, in _atexit_cleanup\n",
      "    self._on_finish()\n",
      "  File \"/Library/Frameworks/Python.framework/Versions/3.10/lib/python3.10/site-packages/wandb/sdk/wandb_run.py\", line 2567, in _on_finish\n",
      "    self._footer_file_pusher_status_info(\n",
      "  File \"/Library/Frameworks/Python.framework/Versions/3.10/lib/python3.10/site-packages/wandb/sdk/wandb_run.py\", line 3749, in _footer_file_pusher_status_info\n",
      "    Run._footer_single_run_file_pusher_status_info(\n",
      "  File \"/Library/Frameworks/Python.framework/Versions/3.10/lib/python3.10/site-packages/wandb/sdk/wandb_run.py\", line 3802, in _footer_single_run_file_pusher_status_info\n",
      "    printer.progress_close()\n",
      "  File \"/Library/Frameworks/Python.framework/Versions/3.10/lib/python3.10/site-packages/wandb/sdk/lib/printer.py\", line 292, in progress_close\n",
      "    self._progress.close()\n",
      "  File \"/Library/Frameworks/Python.framework/Versions/3.10/lib/python3.10/site-packages/wandb/sdk/lib/ipython.py\", line 128, in close\n",
      "    self._widget.close()\n",
      "  File \"/Users/lucasericsson/Library/Python/3.10/lib/python/site-packages/ipywidgets/widgets/widget.py\", line 500, in close\n",
      "    self.comm.close()\n",
      "  File \"/Users/lucasericsson/Library/Python/3.10/lib/python/site-packages/comm/base_comm.py\", line 109, in close\n",
      "    comm.get_comm_manager().unregister_comm(self)\n",
      "  File \"/Users/lucasericsson/Library/Python/3.10/lib/python/site-packages/comm/base_comm.py\", line 199, in unregister_comm\n",
      "    comm = self.comms.pop(comm.comm_id)\n",
      "KeyError: '1c8cc6c3f7d340788fcdf19bf69e1652'\n",
      "\u001b[34m\u001b[1mwandb\u001b[0m: Agent Starting Run: lt1t3k8q with config:\n",
      "\u001b[34m\u001b[1mwandb\u001b[0m: \tepochs: 30\n",
      "\u001b[34m\u001b[1mwandb\u001b[0m: \thidden_units: 20\n",
      "\u001b[34m\u001b[1mwandb\u001b[0m: \tk: 1\n",
      "\u001b[34m\u001b[1mwandb\u001b[0m: \tminibatch: 50\n",
      "Failed to detect the name of this notebook, you can set it manually with the WANDB_NOTEBOOK_NAME environment variable to enable code saving.\n",
      "\u001b[34m\u001b[1mwandb\u001b[0m: \u001b[33mWARNING\u001b[0m Ignored wandb.init() arg project when running a sweep.\n"
     ]
    },
    {
     "data": {
      "text/html": [
       "Tracking run with wandb version 0.16.6"
      ],
      "text/plain": [
       "<IPython.core.display.HTML object>"
      ]
     },
     "metadata": {},
     "output_type": "display_data"
    },
    {
     "data": {
      "text/html": [
       "Run data is saved locally in <code>/Users/lucasericsson/repos/restricted-boltzmann-machine/wandb/run-20240409_023250-lt1t3k8q</code>"
      ],
      "text/plain": [
       "<IPython.core.display.HTML object>"
      ]
     },
     "metadata": {},
     "output_type": "display_data"
    },
    {
     "data": {
      "text/html": [
       "Syncing run <strong><a href='https://wandb.ai/lucasericsson222/restricted_boltzmann_machine_sweep/runs/lt1t3k8q' target=\"_blank\">happy-sweep-73</a></strong> to <a href='https://wandb.ai/lucasericsson222/restricted_boltzmann_machine_sweep' target=\"_blank\">Weights & Biases</a> (<a href='https://wandb.me/run' target=\"_blank\">docs</a>)<br/>Sweep page: <a href='https://wandb.ai/lucasericsson222/restricted_boltzmann_machine_sweep/sweeps/r1b5058x' target=\"_blank\">https://wandb.ai/lucasericsson222/restricted_boltzmann_machine_sweep/sweeps/r1b5058x</a>"
      ],
      "text/plain": [
       "<IPython.core.display.HTML object>"
      ]
     },
     "metadata": {},
     "output_type": "display_data"
    },
    {
     "data": {
      "text/html": [
       " View project at <a href='https://wandb.ai/lucasericsson222/restricted_boltzmann_machine_sweep' target=\"_blank\">https://wandb.ai/lucasericsson222/restricted_boltzmann_machine_sweep</a>"
      ],
      "text/plain": [
       "<IPython.core.display.HTML object>"
      ]
     },
     "metadata": {},
     "output_type": "display_data"
    },
    {
     "data": {
      "text/html": [
       " View sweep at <a href='https://wandb.ai/lucasericsson222/restricted_boltzmann_machine_sweep/sweeps/r1b5058x' target=\"_blank\">https://wandb.ai/lucasericsson222/restricted_boltzmann_machine_sweep/sweeps/r1b5058x</a>"
      ],
      "text/plain": [
       "<IPython.core.display.HTML object>"
      ]
     },
     "metadata": {},
     "output_type": "display_data"
    },
    {
     "data": {
      "text/html": [
       " View run at <a href='https://wandb.ai/lucasericsson222/restricted_boltzmann_machine_sweep/runs/lt1t3k8q' target=\"_blank\">https://wandb.ai/lucasericsson222/restricted_boltzmann_machine_sweep/runs/lt1t3k8q</a>"
      ],
      "text/plain": [
       "<IPython.core.display.HTML object>"
      ]
     },
     "metadata": {},
     "output_type": "display_data"
    },
    {
     "name": "stdout",
     "output_type": "stream",
     "text": [
      "(60000, 784)\n",
      "Epoch: 0\n",
      "current_weight_diff: 46.35837994466009\n",
      "sqrd_recon_error: 1.757091836734694\n",
      "Epoch: 1\n",
      "current_weight_diff: 0.7390408211330426\n",
      "sqrd_recon_error: 0.899311224489796\n",
      "Epoch: 2\n",
      "current_weight_diff: 0.24347202661829928\n",
      "sqrd_recon_error: 0.586530612244898\n",
      "Epoch: 3\n",
      "current_weight_diff: 0.2936765784430204\n",
      "sqrd_recon_error: 0.500765306122449\n",
      "Epoch: 4\n",
      "current_weight_diff: 0.2987995319947069\n",
      "sqrd_recon_error: 0.3984183673469388\n",
      "Epoch: 5\n",
      "current_weight_diff: 0.40699182465290257\n",
      "sqrd_recon_error: 0.34091836734693876\n",
      "Epoch: 6\n",
      "current_weight_diff: 0.5406780006501414\n",
      "sqrd_recon_error: 0.29691326530612244\n",
      "Epoch: 7\n",
      "current_weight_diff: 0.36099361709695127\n",
      "sqrd_recon_error: 0.2875\n",
      "Epoch: 8\n",
      "current_weight_diff: 0.48486390611558877\n",
      "sqrd_recon_error: 0.27099489795918363\n",
      "Epoch: 9\n",
      "current_weight_diff: 0.2624080178124899\n",
      "sqrd_recon_error: 0.2403061224489796\n",
      "Epoch: 10\n",
      "current_weight_diff: 0.4997504328725535\n",
      "sqrd_recon_error: 0.21915816326530613\n",
      "Epoch: 11\n",
      "current_weight_diff: 0.7831675629946765\n",
      "sqrd_recon_error: 0.21691326530612243\n",
      "Epoch: 12\n",
      "current_weight_diff: 0.18972181163152183\n",
      "sqrd_recon_error: 0.20698979591836736\n",
      "Epoch: 13\n",
      "current_weight_diff: 0.17058137262772863\n",
      "sqrd_recon_error: 0.17137755102040816\n",
      "Epoch: 14\n",
      "current_weight_diff: 0.23402471058933982\n",
      "sqrd_recon_error: 0.20392857142857143\n",
      "Epoch: 15\n",
      "current_weight_diff: 0.509980756821261\n",
      "sqrd_recon_error: 0.18706632653061223\n",
      "Epoch: 16\n",
      "current_weight_diff: 0.28074485069870736\n",
      "sqrd_recon_error: 0.17665816326530615\n",
      "Epoch: 17\n",
      "current_weight_diff: 0.16444530351467526\n",
      "sqrd_recon_error: 0.17061224489795918\n",
      "Epoch: 18\n",
      "current_weight_diff: 0.13706036039231187\n",
      "sqrd_recon_error: 0.1771938775510204\n",
      "Epoch: 19\n",
      "current_weight_diff: 0.3023328087556061\n",
      "sqrd_recon_error: 0.16831632653061224\n",
      "Epoch: 20\n",
      "current_weight_diff: 0.2909259282915072\n",
      "sqrd_recon_error: 0.1472448979591837\n",
      "Epoch: 21\n",
      "current_weight_diff: 0.1693765587675593\n",
      "sqrd_recon_error: 0.1511734693877551\n",
      "Epoch: 22\n",
      "current_weight_diff: 0.15655791942785535\n",
      "sqrd_recon_error: 0.13959183673469389\n",
      "Epoch: 23\n",
      "current_weight_diff: 0.23029295580851833\n",
      "sqrd_recon_error: 0.17811224489795918\n",
      "Epoch: 24\n",
      "current_weight_diff: 0.10069831557298589\n",
      "sqrd_recon_error: 0.15214285714285714\n",
      "Epoch: 25\n",
      "current_weight_diff: 0.11752255603501692\n",
      "sqrd_recon_error: 0.17931122448979595\n",
      "Epoch: 26\n",
      "current_weight_diff: 0.10911701465138685\n",
      "sqrd_recon_error: 0.14094387755102042\n",
      "Epoch: 27\n",
      "current_weight_diff: 0.11501968434990045\n",
      "sqrd_recon_error: 0.13737244897959183\n",
      "Epoch: 28\n",
      "current_weight_diff: 0.1434136138410054\n",
      "sqrd_recon_error: 0.14104591836734692\n",
      "Epoch: 29\n",
      "current_weight_diff: 0.08730035882341727\n",
      "sqrd_recon_error: 0.17012755102040816\n"
     ]
    },
    {
     "data": {
      "application/vnd.jupyter.widget-view+json": {
       "model_id": "c0a8dbaffa52481cb37e69fd1e51c094",
       "version_major": 2,
       "version_minor": 0
      },
      "text/plain": [
       "VBox(children=(Label(value='0.001 MB of 0.001 MB uploaded\\r'), FloatProgress(value=1.0, max=1.0)))"
      ]
     },
     "metadata": {},
     "output_type": "display_data"
    },
    {
     "name": "stderr",
     "output_type": "stream",
     "text": [
      "\u001b[34m\u001b[1mwandb\u001b[0m: \u001b[32m\u001b[41mERROR\u001b[0m Problem finishing run\n",
      "Traceback (most recent call last):\n",
      "  File \"/Library/Frameworks/Python.framework/Versions/3.10/lib/python3.10/site-packages/wandb/sdk/wandb_run.py\", line 2313, in _atexit_cleanup\n",
      "    self._on_finish()\n",
      "  File \"/Library/Frameworks/Python.framework/Versions/3.10/lib/python3.10/site-packages/wandb/sdk/wandb_run.py\", line 2567, in _on_finish\n",
      "    self._footer_file_pusher_status_info(\n",
      "  File \"/Library/Frameworks/Python.framework/Versions/3.10/lib/python3.10/site-packages/wandb/sdk/wandb_run.py\", line 3749, in _footer_file_pusher_status_info\n",
      "    Run._footer_single_run_file_pusher_status_info(\n",
      "  File \"/Library/Frameworks/Python.framework/Versions/3.10/lib/python3.10/site-packages/wandb/sdk/wandb_run.py\", line 3802, in _footer_single_run_file_pusher_status_info\n",
      "    printer.progress_close()\n",
      "  File \"/Library/Frameworks/Python.framework/Versions/3.10/lib/python3.10/site-packages/wandb/sdk/lib/printer.py\", line 292, in progress_close\n",
      "    self._progress.close()\n",
      "  File \"/Library/Frameworks/Python.framework/Versions/3.10/lib/python3.10/site-packages/wandb/sdk/lib/ipython.py\", line 128, in close\n",
      "    self._widget.close()\n",
      "  File \"/Users/lucasericsson/Library/Python/3.10/lib/python/site-packages/ipywidgets/widgets/widget.py\", line 500, in close\n",
      "    self.comm.close()\n",
      "  File \"/Users/lucasericsson/Library/Python/3.10/lib/python/site-packages/comm/base_comm.py\", line 109, in close\n",
      "    comm.get_comm_manager().unregister_comm(self)\n",
      "  File \"/Users/lucasericsson/Library/Python/3.10/lib/python/site-packages/comm/base_comm.py\", line 199, in unregister_comm\n",
      "    comm = self.comms.pop(comm.comm_id)\n",
      "KeyError: 'c0a8dbaffa52481cb37e69fd1e51c094'\n",
      "\u001b[34m\u001b[1mwandb\u001b[0m: Agent Starting Run: vjpgphtp with config:\n",
      "\u001b[34m\u001b[1mwandb\u001b[0m: \tepochs: 3\n",
      "\u001b[34m\u001b[1mwandb\u001b[0m: \thidden_units: 300\n",
      "\u001b[34m\u001b[1mwandb\u001b[0m: \tk: 5\n",
      "\u001b[34m\u001b[1mwandb\u001b[0m: \tminibatch: 100\n",
      "Failed to detect the name of this notebook, you can set it manually with the WANDB_NOTEBOOK_NAME environment variable to enable code saving.\n",
      "\u001b[34m\u001b[1mwandb\u001b[0m: \u001b[33mWARNING\u001b[0m Ignored wandb.init() arg project when running a sweep.\n"
     ]
    },
    {
     "data": {
      "text/html": [
       "Tracking run with wandb version 0.16.6"
      ],
      "text/plain": [
       "<IPython.core.display.HTML object>"
      ]
     },
     "metadata": {},
     "output_type": "display_data"
    },
    {
     "data": {
      "text/html": [
       "Run data is saved locally in <code>/Users/lucasericsson/repos/restricted-boltzmann-machine/wandb/run-20240409_023311-vjpgphtp</code>"
      ],
      "text/plain": [
       "<IPython.core.display.HTML object>"
      ]
     },
     "metadata": {},
     "output_type": "display_data"
    },
    {
     "data": {
      "text/html": [
       "Syncing run <strong><a href='https://wandb.ai/lucasericsson222/restricted_boltzmann_machine_sweep/runs/vjpgphtp' target=\"_blank\">comfy-sweep-74</a></strong> to <a href='https://wandb.ai/lucasericsson222/restricted_boltzmann_machine_sweep' target=\"_blank\">Weights & Biases</a> (<a href='https://wandb.me/run' target=\"_blank\">docs</a>)<br/>Sweep page: <a href='https://wandb.ai/lucasericsson222/restricted_boltzmann_machine_sweep/sweeps/r1b5058x' target=\"_blank\">https://wandb.ai/lucasericsson222/restricted_boltzmann_machine_sweep/sweeps/r1b5058x</a>"
      ],
      "text/plain": [
       "<IPython.core.display.HTML object>"
      ]
     },
     "metadata": {},
     "output_type": "display_data"
    },
    {
     "data": {
      "text/html": [
       " View project at <a href='https://wandb.ai/lucasericsson222/restricted_boltzmann_machine_sweep' target=\"_blank\">https://wandb.ai/lucasericsson222/restricted_boltzmann_machine_sweep</a>"
      ],
      "text/plain": [
       "<IPython.core.display.HTML object>"
      ]
     },
     "metadata": {},
     "output_type": "display_data"
    },
    {
     "data": {
      "text/html": [
       " View sweep at <a href='https://wandb.ai/lucasericsson222/restricted_boltzmann_machine_sweep/sweeps/r1b5058x' target=\"_blank\">https://wandb.ai/lucasericsson222/restricted_boltzmann_machine_sweep/sweeps/r1b5058x</a>"
      ],
      "text/plain": [
       "<IPython.core.display.HTML object>"
      ]
     },
     "metadata": {},
     "output_type": "display_data"
    },
    {
     "data": {
      "text/html": [
       " View run at <a href='https://wandb.ai/lucasericsson222/restricted_boltzmann_machine_sweep/runs/vjpgphtp' target=\"_blank\">https://wandb.ai/lucasericsson222/restricted_boltzmann_machine_sweep/runs/vjpgphtp</a>"
      ],
      "text/plain": [
       "<IPython.core.display.HTML object>"
      ]
     },
     "metadata": {},
     "output_type": "display_data"
    },
    {
     "name": "stdout",
     "output_type": "stream",
     "text": [
      "(60000, 784)\n",
      "Epoch: 0\n",
      "current_weight_diff: 24.10148702417382\n",
      "sqrd_recon_error: 0.7143622448979592\n",
      "Epoch: 1\n",
      "current_weight_diff: 4.510602873281965\n",
      "sqrd_recon_error: 0.3680994897959184\n",
      "Epoch: 2\n",
      "current_weight_diff: 3.296793447987328\n",
      "sqrd_recon_error: 0.29012755102040816\n"
     ]
    },
    {
     "data": {
      "application/vnd.jupyter.widget-view+json": {
       "model_id": "ce14f190d5c3401eb1f15bfae27d7763",
       "version_major": 2,
       "version_minor": 0
      },
      "text/plain": [
       "VBox(children=(Label(value='0.001 MB of 0.004 MB uploaded\\r'), FloatProgress(value=0.2659853249475891, max=1.0…"
      ]
     },
     "metadata": {},
     "output_type": "display_data"
    },
    {
     "name": "stderr",
     "output_type": "stream",
     "text": [
      "\u001b[34m\u001b[1mwandb\u001b[0m: \u001b[32m\u001b[41mERROR\u001b[0m Problem finishing run\n",
      "Traceback (most recent call last):\n",
      "  File \"/Library/Frameworks/Python.framework/Versions/3.10/lib/python3.10/site-packages/wandb/sdk/wandb_run.py\", line 2313, in _atexit_cleanup\n",
      "    self._on_finish()\n",
      "  File \"/Library/Frameworks/Python.framework/Versions/3.10/lib/python3.10/site-packages/wandb/sdk/wandb_run.py\", line 2567, in _on_finish\n",
      "    self._footer_file_pusher_status_info(\n",
      "  File \"/Library/Frameworks/Python.framework/Versions/3.10/lib/python3.10/site-packages/wandb/sdk/wandb_run.py\", line 3749, in _footer_file_pusher_status_info\n",
      "    Run._footer_single_run_file_pusher_status_info(\n",
      "  File \"/Library/Frameworks/Python.framework/Versions/3.10/lib/python3.10/site-packages/wandb/sdk/wandb_run.py\", line 3802, in _footer_single_run_file_pusher_status_info\n",
      "    printer.progress_close()\n",
      "  File \"/Library/Frameworks/Python.framework/Versions/3.10/lib/python3.10/site-packages/wandb/sdk/lib/printer.py\", line 292, in progress_close\n",
      "    self._progress.close()\n",
      "  File \"/Library/Frameworks/Python.framework/Versions/3.10/lib/python3.10/site-packages/wandb/sdk/lib/ipython.py\", line 128, in close\n",
      "    self._widget.close()\n",
      "  File \"/Users/lucasericsson/Library/Python/3.10/lib/python/site-packages/ipywidgets/widgets/widget.py\", line 500, in close\n",
      "    self.comm.close()\n",
      "  File \"/Users/lucasericsson/Library/Python/3.10/lib/python/site-packages/comm/base_comm.py\", line 109, in close\n",
      "    comm.get_comm_manager().unregister_comm(self)\n",
      "  File \"/Users/lucasericsson/Library/Python/3.10/lib/python/site-packages/comm/base_comm.py\", line 199, in unregister_comm\n",
      "    comm = self.comms.pop(comm.comm_id)\n",
      "KeyError: 'ce14f190d5c3401eb1f15bfae27d7763'\n",
      "\u001b[34m\u001b[1mwandb\u001b[0m: Agent Starting Run: rguwlq5a with config:\n",
      "\u001b[34m\u001b[1mwandb\u001b[0m: \tepochs: 1\n",
      "\u001b[34m\u001b[1mwandb\u001b[0m: \thidden_units: 100\n",
      "\u001b[34m\u001b[1mwandb\u001b[0m: \tk: 30\n",
      "\u001b[34m\u001b[1mwandb\u001b[0m: \tminibatch: 200\n",
      "Failed to detect the name of this notebook, you can set it manually with the WANDB_NOTEBOOK_NAME environment variable to enable code saving.\n",
      "\u001b[34m\u001b[1mwandb\u001b[0m: \u001b[33mWARNING\u001b[0m Ignored wandb.init() arg project when running a sweep.\n"
     ]
    },
    {
     "data": {
      "text/html": [
       "Tracking run with wandb version 0.16.6"
      ],
      "text/plain": [
       "<IPython.core.display.HTML object>"
      ]
     },
     "metadata": {},
     "output_type": "display_data"
    },
    {
     "data": {
      "text/html": [
       "Run data is saved locally in <code>/Users/lucasericsson/repos/restricted-boltzmann-machine/wandb/run-20240409_023337-rguwlq5a</code>"
      ],
      "text/plain": [
       "<IPython.core.display.HTML object>"
      ]
     },
     "metadata": {},
     "output_type": "display_data"
    },
    {
     "data": {
      "text/html": [
       "Syncing run <strong><a href='https://wandb.ai/lucasericsson222/restricted_boltzmann_machine_sweep/runs/rguwlq5a' target=\"_blank\">serene-sweep-75</a></strong> to <a href='https://wandb.ai/lucasericsson222/restricted_boltzmann_machine_sweep' target=\"_blank\">Weights & Biases</a> (<a href='https://wandb.me/run' target=\"_blank\">docs</a>)<br/>Sweep page: <a href='https://wandb.ai/lucasericsson222/restricted_boltzmann_machine_sweep/sweeps/r1b5058x' target=\"_blank\">https://wandb.ai/lucasericsson222/restricted_boltzmann_machine_sweep/sweeps/r1b5058x</a>"
      ],
      "text/plain": [
       "<IPython.core.display.HTML object>"
      ]
     },
     "metadata": {},
     "output_type": "display_data"
    },
    {
     "data": {
      "text/html": [
       " View project at <a href='https://wandb.ai/lucasericsson222/restricted_boltzmann_machine_sweep' target=\"_blank\">https://wandb.ai/lucasericsson222/restricted_boltzmann_machine_sweep</a>"
      ],
      "text/plain": [
       "<IPython.core.display.HTML object>"
      ]
     },
     "metadata": {},
     "output_type": "display_data"
    },
    {
     "data": {
      "text/html": [
       " View sweep at <a href='https://wandb.ai/lucasericsson222/restricted_boltzmann_machine_sweep/sweeps/r1b5058x' target=\"_blank\">https://wandb.ai/lucasericsson222/restricted_boltzmann_machine_sweep/sweeps/r1b5058x</a>"
      ],
      "text/plain": [
       "<IPython.core.display.HTML object>"
      ]
     },
     "metadata": {},
     "output_type": "display_data"
    },
    {
     "data": {
      "text/html": [
       " View run at <a href='https://wandb.ai/lucasericsson222/restricted_boltzmann_machine_sweep/runs/rguwlq5a' target=\"_blank\">https://wandb.ai/lucasericsson222/restricted_boltzmann_machine_sweep/runs/rguwlq5a</a>"
      ],
      "text/plain": [
       "<IPython.core.display.HTML object>"
      ]
     },
     "metadata": {},
     "output_type": "display_data"
    },
    {
     "name": "stdout",
     "output_type": "stream",
     "text": [
      "(60000, 784)\n",
      "Epoch: 0\n",
      "current_weight_diff: 52.945952007613286\n",
      "sqrd_recon_error: 4.637863520408163\n"
     ]
    },
    {
     "data": {
      "application/vnd.jupyter.widget-view+json": {
       "model_id": "82c45916b4e84bf4bf067d09022eedf1",
       "version_major": 2,
       "version_minor": 0
      },
      "text/plain": [
       "VBox(children=(Label(value='0.001 MB of 0.001 MB uploaded\\r'), FloatProgress(value=1.0, max=1.0)))"
      ]
     },
     "metadata": {},
     "output_type": "display_data"
    },
    {
     "name": "stderr",
     "output_type": "stream",
     "text": [
      "\u001b[34m\u001b[1mwandb\u001b[0m: \u001b[32m\u001b[41mERROR\u001b[0m Problem finishing run\n",
      "Traceback (most recent call last):\n",
      "  File \"/Library/Frameworks/Python.framework/Versions/3.10/lib/python3.10/site-packages/wandb/sdk/wandb_run.py\", line 2313, in _atexit_cleanup\n",
      "    self._on_finish()\n",
      "  File \"/Library/Frameworks/Python.framework/Versions/3.10/lib/python3.10/site-packages/wandb/sdk/wandb_run.py\", line 2567, in _on_finish\n",
      "    self._footer_file_pusher_status_info(\n",
      "  File \"/Library/Frameworks/Python.framework/Versions/3.10/lib/python3.10/site-packages/wandb/sdk/wandb_run.py\", line 3749, in _footer_file_pusher_status_info\n",
      "    Run._footer_single_run_file_pusher_status_info(\n",
      "  File \"/Library/Frameworks/Python.framework/Versions/3.10/lib/python3.10/site-packages/wandb/sdk/wandb_run.py\", line 3802, in _footer_single_run_file_pusher_status_info\n",
      "    printer.progress_close()\n",
      "  File \"/Library/Frameworks/Python.framework/Versions/3.10/lib/python3.10/site-packages/wandb/sdk/lib/printer.py\", line 292, in progress_close\n",
      "    self._progress.close()\n",
      "  File \"/Library/Frameworks/Python.framework/Versions/3.10/lib/python3.10/site-packages/wandb/sdk/lib/ipython.py\", line 128, in close\n",
      "    self._widget.close()\n",
      "  File \"/Users/lucasericsson/Library/Python/3.10/lib/python/site-packages/ipywidgets/widgets/widget.py\", line 500, in close\n",
      "    self.comm.close()\n",
      "  File \"/Users/lucasericsson/Library/Python/3.10/lib/python/site-packages/comm/base_comm.py\", line 109, in close\n",
      "    comm.get_comm_manager().unregister_comm(self)\n",
      "  File \"/Users/lucasericsson/Library/Python/3.10/lib/python/site-packages/comm/base_comm.py\", line 199, in unregister_comm\n",
      "    comm = self.comms.pop(comm.comm_id)\n",
      "KeyError: '82c45916b4e84bf4bf067d09022eedf1'\n",
      "\u001b[34m\u001b[1mwandb\u001b[0m: Agent Starting Run: krc56bdq with config:\n",
      "\u001b[34m\u001b[1mwandb\u001b[0m: \tepochs: 4\n",
      "\u001b[34m\u001b[1mwandb\u001b[0m: \thidden_units: 1000\n",
      "\u001b[34m\u001b[1mwandb\u001b[0m: \tk: 5\n",
      "\u001b[34m\u001b[1mwandb\u001b[0m: \tminibatch: 150\n",
      "Failed to detect the name of this notebook, you can set it manually with the WANDB_NOTEBOOK_NAME environment variable to enable code saving.\n",
      "\u001b[34m\u001b[1mwandb\u001b[0m: \u001b[33mWARNING\u001b[0m Ignored wandb.init() arg project when running a sweep.\n"
     ]
    },
    {
     "data": {
      "text/html": [
       "Tracking run with wandb version 0.16.6"
      ],
      "text/plain": [
       "<IPython.core.display.HTML object>"
      ]
     },
     "metadata": {},
     "output_type": "display_data"
    },
    {
     "data": {
      "text/html": [
       "Run data is saved locally in <code>/Users/lucasericsson/repos/restricted-boltzmann-machine/wandb/run-20240409_023412-krc56bdq</code>"
      ],
      "text/plain": [
       "<IPython.core.display.HTML object>"
      ]
     },
     "metadata": {},
     "output_type": "display_data"
    },
    {
     "data": {
      "text/html": [
       "Syncing run <strong><a href='https://wandb.ai/lucasericsson222/restricted_boltzmann_machine_sweep/runs/krc56bdq' target=\"_blank\">northern-sweep-76</a></strong> to <a href='https://wandb.ai/lucasericsson222/restricted_boltzmann_machine_sweep' target=\"_blank\">Weights & Biases</a> (<a href='https://wandb.me/run' target=\"_blank\">docs</a>)<br/>Sweep page: <a href='https://wandb.ai/lucasericsson222/restricted_boltzmann_machine_sweep/sweeps/r1b5058x' target=\"_blank\">https://wandb.ai/lucasericsson222/restricted_boltzmann_machine_sweep/sweeps/r1b5058x</a>"
      ],
      "text/plain": [
       "<IPython.core.display.HTML object>"
      ]
     },
     "metadata": {},
     "output_type": "display_data"
    },
    {
     "data": {
      "text/html": [
       " View project at <a href='https://wandb.ai/lucasericsson222/restricted_boltzmann_machine_sweep' target=\"_blank\">https://wandb.ai/lucasericsson222/restricted_boltzmann_machine_sweep</a>"
      ],
      "text/plain": [
       "<IPython.core.display.HTML object>"
      ]
     },
     "metadata": {},
     "output_type": "display_data"
    },
    {
     "data": {
      "text/html": [
       " View sweep at <a href='https://wandb.ai/lucasericsson222/restricted_boltzmann_machine_sweep/sweeps/r1b5058x' target=\"_blank\">https://wandb.ai/lucasericsson222/restricted_boltzmann_machine_sweep/sweeps/r1b5058x</a>"
      ],
      "text/plain": [
       "<IPython.core.display.HTML object>"
      ]
     },
     "metadata": {},
     "output_type": "display_data"
    },
    {
     "data": {
      "text/html": [
       " View run at <a href='https://wandb.ai/lucasericsson222/restricted_boltzmann_machine_sweep/runs/krc56bdq' target=\"_blank\">https://wandb.ai/lucasericsson222/restricted_boltzmann_machine_sweep/runs/krc56bdq</a>"
      ],
      "text/plain": [
       "<IPython.core.display.HTML object>"
      ]
     },
     "metadata": {},
     "output_type": "display_data"
    },
    {
     "name": "stdout",
     "output_type": "stream",
     "text": [
      "(60000, 784)\n",
      "Epoch: 0\n",
      "current_weight_diff: 11.332113409489363\n",
      "sqrd_recon_error: 0.5076020408163265\n",
      "Epoch: 1\n",
      "current_weight_diff: 2.4067277282812225\n",
      "sqrd_recon_error: 0.44055272108843535\n",
      "Epoch: 2\n",
      "current_weight_diff: 1.5161826447568465\n",
      "sqrd_recon_error: 0.5364115646258503\n",
      "Epoch: 3\n",
      "current_weight_diff: 1.5569381676496554\n",
      "sqrd_recon_error: 0.39198979591836736\n"
     ]
    },
    {
     "data": {
      "application/vnd.jupyter.widget-view+json": {
       "model_id": "b6214f08902d4df8a3664abcd3e62096",
       "version_major": 2,
       "version_minor": 0
      },
      "text/plain": [
       "VBox(children=(Label(value='0.001 MB of 0.001 MB uploaded\\r'), FloatProgress(value=1.0, max=1.0)))"
      ]
     },
     "metadata": {},
     "output_type": "display_data"
    },
    {
     "name": "stderr",
     "output_type": "stream",
     "text": [
      "\u001b[34m\u001b[1mwandb\u001b[0m: \u001b[32m\u001b[41mERROR\u001b[0m Problem finishing run\n",
      "Traceback (most recent call last):\n",
      "  File \"/Library/Frameworks/Python.framework/Versions/3.10/lib/python3.10/site-packages/wandb/sdk/wandb_run.py\", line 2313, in _atexit_cleanup\n",
      "    self._on_finish()\n",
      "  File \"/Library/Frameworks/Python.framework/Versions/3.10/lib/python3.10/site-packages/wandb/sdk/wandb_run.py\", line 2567, in _on_finish\n",
      "    self._footer_file_pusher_status_info(\n",
      "  File \"/Library/Frameworks/Python.framework/Versions/3.10/lib/python3.10/site-packages/wandb/sdk/wandb_run.py\", line 3749, in _footer_file_pusher_status_info\n",
      "    Run._footer_single_run_file_pusher_status_info(\n",
      "  File \"/Library/Frameworks/Python.framework/Versions/3.10/lib/python3.10/site-packages/wandb/sdk/wandb_run.py\", line 3802, in _footer_single_run_file_pusher_status_info\n",
      "    printer.progress_close()\n",
      "  File \"/Library/Frameworks/Python.framework/Versions/3.10/lib/python3.10/site-packages/wandb/sdk/lib/printer.py\", line 292, in progress_close\n",
      "    self._progress.close()\n",
      "  File \"/Library/Frameworks/Python.framework/Versions/3.10/lib/python3.10/site-packages/wandb/sdk/lib/ipython.py\", line 128, in close\n",
      "    self._widget.close()\n",
      "  File \"/Users/lucasericsson/Library/Python/3.10/lib/python/site-packages/ipywidgets/widgets/widget.py\", line 500, in close\n",
      "    self.comm.close()\n",
      "  File \"/Users/lucasericsson/Library/Python/3.10/lib/python/site-packages/comm/base_comm.py\", line 109, in close\n",
      "    comm.get_comm_manager().unregister_comm(self)\n",
      "  File \"/Users/lucasericsson/Library/Python/3.10/lib/python/site-packages/comm/base_comm.py\", line 199, in unregister_comm\n",
      "    comm = self.comms.pop(comm.comm_id)\n",
      "KeyError: 'b6214f08902d4df8a3664abcd3e62096'\n",
      "\u001b[34m\u001b[1mwandb\u001b[0m: Agent Starting Run: 0hot2snx with config:\n",
      "\u001b[34m\u001b[1mwandb\u001b[0m: \tepochs: 10\n",
      "\u001b[34m\u001b[1mwandb\u001b[0m: \thidden_units: 200\n",
      "\u001b[34m\u001b[1mwandb\u001b[0m: \tk: 1\n",
      "\u001b[34m\u001b[1mwandb\u001b[0m: \tminibatch: 200\n",
      "Failed to detect the name of this notebook, you can set it manually with the WANDB_NOTEBOOK_NAME environment variable to enable code saving.\n",
      "\u001b[34m\u001b[1mwandb\u001b[0m: \u001b[33mWARNING\u001b[0m Ignored wandb.init() arg project when running a sweep.\n"
     ]
    },
    {
     "data": {
      "text/html": [
       "Tracking run with wandb version 0.16.6"
      ],
      "text/plain": [
       "<IPython.core.display.HTML object>"
      ]
     },
     "metadata": {},
     "output_type": "display_data"
    },
    {
     "data": {
      "text/html": [
       "Run data is saved locally in <code>/Users/lucasericsson/repos/restricted-boltzmann-machine/wandb/run-20240409_023619-0hot2snx</code>"
      ],
      "text/plain": [
       "<IPython.core.display.HTML object>"
      ]
     },
     "metadata": {},
     "output_type": "display_data"
    },
    {
     "data": {
      "text/html": [
       "Syncing run <strong><a href='https://wandb.ai/lucasericsson222/restricted_boltzmann_machine_sweep/runs/0hot2snx' target=\"_blank\">misty-sweep-77</a></strong> to <a href='https://wandb.ai/lucasericsson222/restricted_boltzmann_machine_sweep' target=\"_blank\">Weights & Biases</a> (<a href='https://wandb.me/run' target=\"_blank\">docs</a>)<br/>Sweep page: <a href='https://wandb.ai/lucasericsson222/restricted_boltzmann_machine_sweep/sweeps/r1b5058x' target=\"_blank\">https://wandb.ai/lucasericsson222/restricted_boltzmann_machine_sweep/sweeps/r1b5058x</a>"
      ],
      "text/plain": [
       "<IPython.core.display.HTML object>"
      ]
     },
     "metadata": {},
     "output_type": "display_data"
    },
    {
     "data": {
      "text/html": [
       " View project at <a href='https://wandb.ai/lucasericsson222/restricted_boltzmann_machine_sweep' target=\"_blank\">https://wandb.ai/lucasericsson222/restricted_boltzmann_machine_sweep</a>"
      ],
      "text/plain": [
       "<IPython.core.display.HTML object>"
      ]
     },
     "metadata": {},
     "output_type": "display_data"
    },
    {
     "data": {
      "text/html": [
       " View sweep at <a href='https://wandb.ai/lucasericsson222/restricted_boltzmann_machine_sweep/sweeps/r1b5058x' target=\"_blank\">https://wandb.ai/lucasericsson222/restricted_boltzmann_machine_sweep/sweeps/r1b5058x</a>"
      ],
      "text/plain": [
       "<IPython.core.display.HTML object>"
      ]
     },
     "metadata": {},
     "output_type": "display_data"
    },
    {
     "data": {
      "text/html": [
       " View run at <a href='https://wandb.ai/lucasericsson222/restricted_boltzmann_machine_sweep/runs/0hot2snx' target=\"_blank\">https://wandb.ai/lucasericsson222/restricted_boltzmann_machine_sweep/runs/0hot2snx</a>"
      ],
      "text/plain": [
       "<IPython.core.display.HTML object>"
      ]
     },
     "metadata": {},
     "output_type": "display_data"
    },
    {
     "name": "stdout",
     "output_type": "stream",
     "text": [
      "(60000, 784)\n",
      "Epoch: 0\n",
      "current_weight_diff: 26.88172601281242\n",
      "sqrd_recon_error: 1.6923341836734693\n",
      "Epoch: 1\n",
      "current_weight_diff: 1.1058690481582958\n",
      "sqrd_recon_error: 1.029891581632653\n",
      "Epoch: 2\n",
      "current_weight_diff: 1.3017584092931673\n",
      "sqrd_recon_error: 0.7548724489795918\n",
      "Epoch: 3\n",
      "current_weight_diff: 1.0502831884796886\n",
      "sqrd_recon_error: 0.5593686224489796\n",
      "Epoch: 4\n",
      "current_weight_diff: 0.8973016054013568\n",
      "sqrd_recon_error: 0.4246683673469388\n",
      "Epoch: 5\n",
      "current_weight_diff: 0.5106589921164176\n",
      "sqrd_recon_error: 0.3075573979591837\n",
      "Epoch: 6\n",
      "current_weight_diff: 0.6866463059304609\n",
      "sqrd_recon_error: 0.25638392857142855\n",
      "Epoch: 7\n",
      "current_weight_diff: 0.3885963128467267\n",
      "sqrd_recon_error: 0.2792984693877551\n",
      "Epoch: 8\n",
      "current_weight_diff: 0.25898117783652697\n",
      "sqrd_recon_error: 0.22183035714285715\n",
      "Epoch: 9\n",
      "current_weight_diff: 0.34717199479890387\n",
      "sqrd_recon_error: 0.2024936224489796\n"
     ]
    },
    {
     "data": {
      "application/vnd.jupyter.widget-view+json": {
       "model_id": "319fe84b056a45cc90c69225dadb5fb3",
       "version_major": 2,
       "version_minor": 0
      },
      "text/plain": [
       "VBox(children=(Label(value='0.001 MB of 0.001 MB uploaded\\r'), FloatProgress(value=1.0, max=1.0)))"
      ]
     },
     "metadata": {},
     "output_type": "display_data"
    },
    {
     "name": "stderr",
     "output_type": "stream",
     "text": [
      "\u001b[34m\u001b[1mwandb\u001b[0m: \u001b[32m\u001b[41mERROR\u001b[0m Problem finishing run\n",
      "Traceback (most recent call last):\n",
      "  File \"/Library/Frameworks/Python.framework/Versions/3.10/lib/python3.10/site-packages/wandb/sdk/wandb_run.py\", line 2313, in _atexit_cleanup\n",
      "    self._on_finish()\n",
      "  File \"/Library/Frameworks/Python.framework/Versions/3.10/lib/python3.10/site-packages/wandb/sdk/wandb_run.py\", line 2567, in _on_finish\n",
      "    self._footer_file_pusher_status_info(\n",
      "  File \"/Library/Frameworks/Python.framework/Versions/3.10/lib/python3.10/site-packages/wandb/sdk/wandb_run.py\", line 3749, in _footer_file_pusher_status_info\n",
      "    Run._footer_single_run_file_pusher_status_info(\n",
      "  File \"/Library/Frameworks/Python.framework/Versions/3.10/lib/python3.10/site-packages/wandb/sdk/wandb_run.py\", line 3802, in _footer_single_run_file_pusher_status_info\n",
      "    printer.progress_close()\n",
      "  File \"/Library/Frameworks/Python.framework/Versions/3.10/lib/python3.10/site-packages/wandb/sdk/lib/printer.py\", line 292, in progress_close\n",
      "    self._progress.close()\n",
      "  File \"/Library/Frameworks/Python.framework/Versions/3.10/lib/python3.10/site-packages/wandb/sdk/lib/ipython.py\", line 128, in close\n",
      "    self._widget.close()\n",
      "  File \"/Users/lucasericsson/Library/Python/3.10/lib/python/site-packages/ipywidgets/widgets/widget.py\", line 500, in close\n",
      "    self.comm.close()\n",
      "  File \"/Users/lucasericsson/Library/Python/3.10/lib/python/site-packages/comm/base_comm.py\", line 109, in close\n",
      "    comm.get_comm_manager().unregister_comm(self)\n",
      "  File \"/Users/lucasericsson/Library/Python/3.10/lib/python/site-packages/comm/base_comm.py\", line 199, in unregister_comm\n",
      "    comm = self.comms.pop(comm.comm_id)\n",
      "KeyError: '319fe84b056a45cc90c69225dadb5fb3'\n",
      "\u001b[34m\u001b[1mwandb\u001b[0m: Agent Starting Run: djbyz2qa with config:\n",
      "\u001b[34m\u001b[1mwandb\u001b[0m: \tepochs: 1\n",
      "\u001b[34m\u001b[1mwandb\u001b[0m: \thidden_units: 10\n",
      "\u001b[34m\u001b[1mwandb\u001b[0m: \tk: 3\n",
      "\u001b[34m\u001b[1mwandb\u001b[0m: \tminibatch: 50\n",
      "Failed to detect the name of this notebook, you can set it manually with the WANDB_NOTEBOOK_NAME environment variable to enable code saving.\n",
      "\u001b[34m\u001b[1mwandb\u001b[0m: \u001b[33mWARNING\u001b[0m Ignored wandb.init() arg project when running a sweep.\n"
     ]
    },
    {
     "data": {
      "text/html": [
       "Tracking run with wandb version 0.16.6"
      ],
      "text/plain": [
       "<IPython.core.display.HTML object>"
      ]
     },
     "metadata": {},
     "output_type": "display_data"
    },
    {
     "data": {
      "text/html": [
       "Run data is saved locally in <code>/Users/lucasericsson/repos/restricted-boltzmann-machine/wandb/run-20240409_023720-djbyz2qa</code>"
      ],
      "text/plain": [
       "<IPython.core.display.HTML object>"
      ]
     },
     "metadata": {},
     "output_type": "display_data"
    },
    {
     "data": {
      "text/html": [
       "Syncing run <strong><a href='https://wandb.ai/lucasericsson222/restricted_boltzmann_machine_sweep/runs/djbyz2qa' target=\"_blank\">graceful-sweep-78</a></strong> to <a href='https://wandb.ai/lucasericsson222/restricted_boltzmann_machine_sweep' target=\"_blank\">Weights & Biases</a> (<a href='https://wandb.me/run' target=\"_blank\">docs</a>)<br/>Sweep page: <a href='https://wandb.ai/lucasericsson222/restricted_boltzmann_machine_sweep/sweeps/r1b5058x' target=\"_blank\">https://wandb.ai/lucasericsson222/restricted_boltzmann_machine_sweep/sweeps/r1b5058x</a>"
      ],
      "text/plain": [
       "<IPython.core.display.HTML object>"
      ]
     },
     "metadata": {},
     "output_type": "display_data"
    },
    {
     "data": {
      "text/html": [
       " View project at <a href='https://wandb.ai/lucasericsson222/restricted_boltzmann_machine_sweep' target=\"_blank\">https://wandb.ai/lucasericsson222/restricted_boltzmann_machine_sweep</a>"
      ],
      "text/plain": [
       "<IPython.core.display.HTML object>"
      ]
     },
     "metadata": {},
     "output_type": "display_data"
    },
    {
     "data": {
      "text/html": [
       " View sweep at <a href='https://wandb.ai/lucasericsson222/restricted_boltzmann_machine_sweep/sweeps/r1b5058x' target=\"_blank\">https://wandb.ai/lucasericsson222/restricted_boltzmann_machine_sweep/sweeps/r1b5058x</a>"
      ],
      "text/plain": [
       "<IPython.core.display.HTML object>"
      ]
     },
     "metadata": {},
     "output_type": "display_data"
    },
    {
     "data": {
      "text/html": [
       " View run at <a href='https://wandb.ai/lucasericsson222/restricted_boltzmann_machine_sweep/runs/djbyz2qa' target=\"_blank\">https://wandb.ai/lucasericsson222/restricted_boltzmann_machine_sweep/runs/djbyz2qa</a>"
      ],
      "text/plain": [
       "<IPython.core.display.HTML object>"
      ]
     },
     "metadata": {},
     "output_type": "display_data"
    },
    {
     "name": "stdout",
     "output_type": "stream",
     "text": [
      "(60000, 784)\n",
      "Epoch: 0\n",
      "current_weight_diff: 75.93873389245826\n",
      "sqrd_recon_error: 2.895969387755102\n"
     ]
    },
    {
     "data": {
      "application/vnd.jupyter.widget-view+json": {
       "model_id": "ddaaec22909e43b1b3da8fb3540d7294",
       "version_major": 2,
       "version_minor": 0
      },
      "text/plain": [
       "VBox(children=(Label(value='0.001 MB of 0.001 MB uploaded\\r'), FloatProgress(value=1.0, max=1.0)))"
      ]
     },
     "metadata": {},
     "output_type": "display_data"
    },
    {
     "name": "stderr",
     "output_type": "stream",
     "text": [
      "\u001b[34m\u001b[1mwandb\u001b[0m: \u001b[32m\u001b[41mERROR\u001b[0m Problem finishing run\n",
      "Traceback (most recent call last):\n",
      "  File \"/Library/Frameworks/Python.framework/Versions/3.10/lib/python3.10/site-packages/wandb/sdk/wandb_run.py\", line 2313, in _atexit_cleanup\n",
      "    self._on_finish()\n",
      "  File \"/Library/Frameworks/Python.framework/Versions/3.10/lib/python3.10/site-packages/wandb/sdk/wandb_run.py\", line 2567, in _on_finish\n",
      "    self._footer_file_pusher_status_info(\n",
      "  File \"/Library/Frameworks/Python.framework/Versions/3.10/lib/python3.10/site-packages/wandb/sdk/wandb_run.py\", line 3749, in _footer_file_pusher_status_info\n",
      "    Run._footer_single_run_file_pusher_status_info(\n",
      "  File \"/Library/Frameworks/Python.framework/Versions/3.10/lib/python3.10/site-packages/wandb/sdk/wandb_run.py\", line 3802, in _footer_single_run_file_pusher_status_info\n",
      "    printer.progress_close()\n",
      "  File \"/Library/Frameworks/Python.framework/Versions/3.10/lib/python3.10/site-packages/wandb/sdk/lib/printer.py\", line 292, in progress_close\n",
      "    self._progress.close()\n",
      "  File \"/Library/Frameworks/Python.framework/Versions/3.10/lib/python3.10/site-packages/wandb/sdk/lib/ipython.py\", line 128, in close\n",
      "    self._widget.close()\n",
      "  File \"/Users/lucasericsson/Library/Python/3.10/lib/python/site-packages/ipywidgets/widgets/widget.py\", line 500, in close\n",
      "    self.comm.close()\n",
      "  File \"/Users/lucasericsson/Library/Python/3.10/lib/python/site-packages/comm/base_comm.py\", line 109, in close\n",
      "    comm.get_comm_manager().unregister_comm(self)\n",
      "  File \"/Users/lucasericsson/Library/Python/3.10/lib/python/site-packages/comm/base_comm.py\", line 199, in unregister_comm\n",
      "    comm = self.comms.pop(comm.comm_id)\n",
      "KeyError: 'ddaaec22909e43b1b3da8fb3540d7294'\n",
      "\u001b[34m\u001b[1mwandb\u001b[0m: Agent Starting Run: 7958vrc0 with config:\n",
      "\u001b[34m\u001b[1mwandb\u001b[0m: \tepochs: 4\n",
      "\u001b[34m\u001b[1mwandb\u001b[0m: \thidden_units: 20\n",
      "\u001b[34m\u001b[1mwandb\u001b[0m: \tk: 3\n",
      "\u001b[34m\u001b[1mwandb\u001b[0m: \tminibatch: 50\n",
      "Failed to detect the name of this notebook, you can set it manually with the WANDB_NOTEBOOK_NAME environment variable to enable code saving.\n",
      "\u001b[34m\u001b[1mwandb\u001b[0m: \u001b[33mWARNING\u001b[0m Ignored wandb.init() arg project when running a sweep.\n"
     ]
    },
    {
     "data": {
      "text/html": [
       "Tracking run with wandb version 0.16.6"
      ],
      "text/plain": [
       "<IPython.core.display.HTML object>"
      ]
     },
     "metadata": {},
     "output_type": "display_data"
    },
    {
     "data": {
      "text/html": [
       "Run data is saved locally in <code>/Users/lucasericsson/repos/restricted-boltzmann-machine/wandb/run-20240409_023731-7958vrc0</code>"
      ],
      "text/plain": [
       "<IPython.core.display.HTML object>"
      ]
     },
     "metadata": {},
     "output_type": "display_data"
    },
    {
     "data": {
      "text/html": [
       "Syncing run <strong><a href='https://wandb.ai/lucasericsson222/restricted_boltzmann_machine_sweep/runs/7958vrc0' target=\"_blank\">super-sweep-79</a></strong> to <a href='https://wandb.ai/lucasericsson222/restricted_boltzmann_machine_sweep' target=\"_blank\">Weights & Biases</a> (<a href='https://wandb.me/run' target=\"_blank\">docs</a>)<br/>Sweep page: <a href='https://wandb.ai/lucasericsson222/restricted_boltzmann_machine_sweep/sweeps/r1b5058x' target=\"_blank\">https://wandb.ai/lucasericsson222/restricted_boltzmann_machine_sweep/sweeps/r1b5058x</a>"
      ],
      "text/plain": [
       "<IPython.core.display.HTML object>"
      ]
     },
     "metadata": {},
     "output_type": "display_data"
    },
    {
     "data": {
      "text/html": [
       " View project at <a href='https://wandb.ai/lucasericsson222/restricted_boltzmann_machine_sweep' target=\"_blank\">https://wandb.ai/lucasericsson222/restricted_boltzmann_machine_sweep</a>"
      ],
      "text/plain": [
       "<IPython.core.display.HTML object>"
      ]
     },
     "metadata": {},
     "output_type": "display_data"
    },
    {
     "data": {
      "text/html": [
       " View sweep at <a href='https://wandb.ai/lucasericsson222/restricted_boltzmann_machine_sweep/sweeps/r1b5058x' target=\"_blank\">https://wandb.ai/lucasericsson222/restricted_boltzmann_machine_sweep/sweeps/r1b5058x</a>"
      ],
      "text/plain": [
       "<IPython.core.display.HTML object>"
      ]
     },
     "metadata": {},
     "output_type": "display_data"
    },
    {
     "data": {
      "text/html": [
       " View run at <a href='https://wandb.ai/lucasericsson222/restricted_boltzmann_machine_sweep/runs/7958vrc0' target=\"_blank\">https://wandb.ai/lucasericsson222/restricted_boltzmann_machine_sweep/runs/7958vrc0</a>"
      ],
      "text/plain": [
       "<IPython.core.display.HTML object>"
      ]
     },
     "metadata": {},
     "output_type": "display_data"
    },
    {
     "name": "stdout",
     "output_type": "stream",
     "text": [
      "(60000, 784)\n",
      "Epoch: 0\n",
      "current_weight_diff: 47.586758707245345\n",
      "sqrd_recon_error: 2.1783673469387757\n",
      "Epoch: 1\n",
      "current_weight_diff: 0.6602863393405416\n",
      "sqrd_recon_error: 1.1102295918367346\n",
      "Epoch: 2\n",
      "current_weight_diff: 1.6913385801959655\n",
      "sqrd_recon_error: 0.7703316326530613\n",
      "Epoch: 3\n",
      "current_weight_diff: 0.19002345172715263\n",
      "sqrd_recon_error: 0.5570663265306123\n"
     ]
    },
    {
     "data": {
      "application/vnd.jupyter.widget-view+json": {
       "model_id": "c7458b35c48a415c915cf82499661b02",
       "version_major": 2,
       "version_minor": 0
      },
      "text/plain": [
       "VBox(children=(Label(value='0.001 MB of 0.001 MB uploaded\\r'), FloatProgress(value=1.0, max=1.0)))"
      ]
     },
     "metadata": {},
     "output_type": "display_data"
    },
    {
     "name": "stderr",
     "output_type": "stream",
     "text": [
      "\u001b[34m\u001b[1mwandb\u001b[0m: \u001b[32m\u001b[41mERROR\u001b[0m Problem finishing run\n",
      "Traceback (most recent call last):\n",
      "  File \"/Library/Frameworks/Python.framework/Versions/3.10/lib/python3.10/site-packages/wandb/sdk/wandb_run.py\", line 2313, in _atexit_cleanup\n",
      "    self._on_finish()\n",
      "  File \"/Library/Frameworks/Python.framework/Versions/3.10/lib/python3.10/site-packages/wandb/sdk/wandb_run.py\", line 2567, in _on_finish\n",
      "    self._footer_file_pusher_status_info(\n",
      "  File \"/Library/Frameworks/Python.framework/Versions/3.10/lib/python3.10/site-packages/wandb/sdk/wandb_run.py\", line 3749, in _footer_file_pusher_status_info\n",
      "    Run._footer_single_run_file_pusher_status_info(\n",
      "  File \"/Library/Frameworks/Python.framework/Versions/3.10/lib/python3.10/site-packages/wandb/sdk/wandb_run.py\", line 3802, in _footer_single_run_file_pusher_status_info\n",
      "    printer.progress_close()\n",
      "  File \"/Library/Frameworks/Python.framework/Versions/3.10/lib/python3.10/site-packages/wandb/sdk/lib/printer.py\", line 292, in progress_close\n",
      "    self._progress.close()\n",
      "  File \"/Library/Frameworks/Python.framework/Versions/3.10/lib/python3.10/site-packages/wandb/sdk/lib/ipython.py\", line 128, in close\n",
      "    self._widget.close()\n",
      "  File \"/Users/lucasericsson/Library/Python/3.10/lib/python/site-packages/ipywidgets/widgets/widget.py\", line 500, in close\n",
      "    self.comm.close()\n",
      "  File \"/Users/lucasericsson/Library/Python/3.10/lib/python/site-packages/comm/base_comm.py\", line 109, in close\n",
      "    comm.get_comm_manager().unregister_comm(self)\n",
      "  File \"/Users/lucasericsson/Library/Python/3.10/lib/python/site-packages/comm/base_comm.py\", line 199, in unregister_comm\n",
      "    comm = self.comms.pop(comm.comm_id)\n",
      "KeyError: 'c7458b35c48a415c915cf82499661b02'\n",
      "\u001b[34m\u001b[1mwandb\u001b[0m: Agent Starting Run: 54nu48hd with config:\n",
      "\u001b[34m\u001b[1mwandb\u001b[0m: \tepochs: 30\n",
      "\u001b[34m\u001b[1mwandb\u001b[0m: \thidden_units: 100\n",
      "\u001b[34m\u001b[1mwandb\u001b[0m: \tk: 1\n",
      "\u001b[34m\u001b[1mwandb\u001b[0m: \tminibatch: 150\n",
      "Failed to detect the name of this notebook, you can set it manually with the WANDB_NOTEBOOK_NAME environment variable to enable code saving.\n",
      "\u001b[34m\u001b[1mwandb\u001b[0m: \u001b[33mWARNING\u001b[0m Ignored wandb.init() arg project when running a sweep.\n"
     ]
    },
    {
     "data": {
      "text/html": [
       "Tracking run with wandb version 0.16.6"
      ],
      "text/plain": [
       "<IPython.core.display.HTML object>"
      ]
     },
     "metadata": {},
     "output_type": "display_data"
    },
    {
     "data": {
      "text/html": [
       "Run data is saved locally in <code>/Users/lucasericsson/repos/restricted-boltzmann-machine/wandb/run-20240409_023742-54nu48hd</code>"
      ],
      "text/plain": [
       "<IPython.core.display.HTML object>"
      ]
     },
     "metadata": {},
     "output_type": "display_data"
    },
    {
     "data": {
      "text/html": [
       "Syncing run <strong><a href='https://wandb.ai/lucasericsson222/restricted_boltzmann_machine_sweep/runs/54nu48hd' target=\"_blank\">spring-sweep-80</a></strong> to <a href='https://wandb.ai/lucasericsson222/restricted_boltzmann_machine_sweep' target=\"_blank\">Weights & Biases</a> (<a href='https://wandb.me/run' target=\"_blank\">docs</a>)<br/>Sweep page: <a href='https://wandb.ai/lucasericsson222/restricted_boltzmann_machine_sweep/sweeps/r1b5058x' target=\"_blank\">https://wandb.ai/lucasericsson222/restricted_boltzmann_machine_sweep/sweeps/r1b5058x</a>"
      ],
      "text/plain": [
       "<IPython.core.display.HTML object>"
      ]
     },
     "metadata": {},
     "output_type": "display_data"
    },
    {
     "data": {
      "text/html": [
       " View project at <a href='https://wandb.ai/lucasericsson222/restricted_boltzmann_machine_sweep' target=\"_blank\">https://wandb.ai/lucasericsson222/restricted_boltzmann_machine_sweep</a>"
      ],
      "text/plain": [
       "<IPython.core.display.HTML object>"
      ]
     },
     "metadata": {},
     "output_type": "display_data"
    },
    {
     "data": {
      "text/html": [
       " View sweep at <a href='https://wandb.ai/lucasericsson222/restricted_boltzmann_machine_sweep/sweeps/r1b5058x' target=\"_blank\">https://wandb.ai/lucasericsson222/restricted_boltzmann_machine_sweep/sweeps/r1b5058x</a>"
      ],
      "text/plain": [
       "<IPython.core.display.HTML object>"
      ]
     },
     "metadata": {},
     "output_type": "display_data"
    },
    {
     "data": {
      "text/html": [
       " View run at <a href='https://wandb.ai/lucasericsson222/restricted_boltzmann_machine_sweep/runs/54nu48hd' target=\"_blank\">https://wandb.ai/lucasericsson222/restricted_boltzmann_machine_sweep/runs/54nu48hd</a>"
      ],
      "text/plain": [
       "<IPython.core.display.HTML object>"
      ]
     },
     "metadata": {},
     "output_type": "display_data"
    },
    {
     "name": "stdout",
     "output_type": "stream",
     "text": [
      "(60000, 784)\n",
      "Epoch: 0\n",
      "current_weight_diff: 30.26040463798626\n",
      "sqrd_recon_error: 2.082738095238095\n",
      "Epoch: 1\n",
      "current_weight_diff: 1.3254851616590348\n",
      "sqrd_recon_error: 1.0187414965986394\n",
      "Epoch: 2\n",
      "current_weight_diff: 2.095362911587589\n",
      "sqrd_recon_error: 0.6902721088435374\n",
      "Epoch: 3\n",
      "current_weight_diff: 1.0821179635908955\n",
      "sqrd_recon_error: 0.482984693877551\n",
      "Epoch: 4\n",
      "current_weight_diff: 1.2081876943484944\n",
      "sqrd_recon_error: 0.3568027210884354\n",
      "Epoch: 5\n",
      "current_weight_diff: 0.5203598594591906\n",
      "sqrd_recon_error: 0.3182227891156462\n",
      "Epoch: 6\n",
      "current_weight_diff: 0.4921192128526624\n",
      "sqrd_recon_error: 0.2502380952380952\n",
      "Epoch: 7\n",
      "current_weight_diff: 0.39198277300331524\n",
      "sqrd_recon_error: 0.19688775510204082\n",
      "Epoch: 8\n",
      "current_weight_diff: 0.36853603860071377\n",
      "sqrd_recon_error: 0.21133503401360546\n",
      "Epoch: 9\n",
      "current_weight_diff: 0.3138129854583444\n",
      "sqrd_recon_error: 0.20019557823129253\n",
      "Epoch: 10\n",
      "current_weight_diff: 0.27749976644685415\n",
      "sqrd_recon_error: 0.1801360544217687\n",
      "Epoch: 11\n",
      "current_weight_diff: 0.2004229160649798\n",
      "sqrd_recon_error: 0.1678996598639456\n",
      "Epoch: 12\n",
      "current_weight_diff: 0.4112736116620697\n",
      "sqrd_recon_error: 0.14426020408163265\n",
      "Epoch: 13\n",
      "current_weight_diff: 0.18456067801630305\n",
      "sqrd_recon_error: 0.1720918367346939\n",
      "Epoch: 14\n",
      "current_weight_diff: 0.23937844205169484\n",
      "sqrd_recon_error: 0.17362244897959184\n",
      "Epoch: 15\n",
      "current_weight_diff: 0.1740423291456195\n",
      "sqrd_recon_error: 0.17112244897959183\n",
      "Epoch: 16\n",
      "current_weight_diff: 0.20504312886288686\n",
      "sqrd_recon_error: 0.14551020408163265\n",
      "Epoch: 17\n",
      "current_weight_diff: 0.16909792371584823\n",
      "sqrd_recon_error: 0.16626700680272108\n",
      "Epoch: 18\n",
      "current_weight_diff: 0.1399796760181487\n",
      "sqrd_recon_error: 0.14244047619047617\n",
      "Epoch: 19\n",
      "current_weight_diff: 0.125507631131442\n",
      "sqrd_recon_error: 0.14161564625850342\n",
      "Epoch: 20\n",
      "current_weight_diff: 0.13183291718710918\n",
      "sqrd_recon_error: 0.14295918367346938\n",
      "Epoch: 21\n",
      "current_weight_diff: 0.15708055339333227\n",
      "sqrd_recon_error: 0.1266921768707483\n",
      "Epoch: 22\n",
      "current_weight_diff: 0.12725711055567318\n",
      "sqrd_recon_error: 0.13462585034013605\n",
      "Epoch: 23\n",
      "current_weight_diff: 0.1500903346918752\n",
      "sqrd_recon_error: 0.14261054421768707\n",
      "Epoch: 24\n",
      "current_weight_diff: 0.1986026829478127\n",
      "sqrd_recon_error: 0.1453826530612245\n",
      "Epoch: 25\n",
      "current_weight_diff: 0.09595689966666596\n",
      "sqrd_recon_error: 0.1223639455782313\n",
      "Epoch: 26\n",
      "current_weight_diff: 0.09076861391788518\n",
      "sqrd_recon_error: 0.12914965986394558\n",
      "Epoch: 27\n",
      "current_weight_diff: 0.17012788936481885\n",
      "sqrd_recon_error: 0.13048469387755102\n",
      "Epoch: 28\n",
      "current_weight_diff: 0.08035281745060531\n",
      "sqrd_recon_error: 0.13176020408163266\n",
      "Epoch: 29\n",
      "current_weight_diff: 0.10951575566308731\n",
      "sqrd_recon_error: 0.12127551020408163\n"
     ]
    },
    {
     "data": {
      "application/vnd.jupyter.widget-view+json": {
       "model_id": "a83adea3d54d497e8c7d99a8f643ee0c",
       "version_major": 2,
       "version_minor": 0
      },
      "text/plain": [
       "VBox(children=(Label(value='0.001 MB of 0.006 MB uploaded\\r'), FloatProgress(value=0.1529305409070363, max=1.0…"
      ]
     },
     "metadata": {},
     "output_type": "display_data"
    },
    {
     "name": "stderr",
     "output_type": "stream",
     "text": [
      "\u001b[34m\u001b[1mwandb\u001b[0m: \u001b[32m\u001b[41mERROR\u001b[0m Problem finishing run\n",
      "Traceback (most recent call last):\n",
      "  File \"/Library/Frameworks/Python.framework/Versions/3.10/lib/python3.10/site-packages/wandb/sdk/wandb_run.py\", line 2313, in _atexit_cleanup\n",
      "    self._on_finish()\n",
      "  File \"/Library/Frameworks/Python.framework/Versions/3.10/lib/python3.10/site-packages/wandb/sdk/wandb_run.py\", line 2567, in _on_finish\n",
      "    self._footer_file_pusher_status_info(\n",
      "  File \"/Library/Frameworks/Python.framework/Versions/3.10/lib/python3.10/site-packages/wandb/sdk/wandb_run.py\", line 3749, in _footer_file_pusher_status_info\n",
      "    Run._footer_single_run_file_pusher_status_info(\n",
      "  File \"/Library/Frameworks/Python.framework/Versions/3.10/lib/python3.10/site-packages/wandb/sdk/wandb_run.py\", line 3802, in _footer_single_run_file_pusher_status_info\n",
      "    printer.progress_close()\n",
      "  File \"/Library/Frameworks/Python.framework/Versions/3.10/lib/python3.10/site-packages/wandb/sdk/lib/printer.py\", line 292, in progress_close\n",
      "    self._progress.close()\n",
      "  File \"/Library/Frameworks/Python.framework/Versions/3.10/lib/python3.10/site-packages/wandb/sdk/lib/ipython.py\", line 128, in close\n",
      "    self._widget.close()\n",
      "  File \"/Users/lucasericsson/Library/Python/3.10/lib/python/site-packages/ipywidgets/widgets/widget.py\", line 500, in close\n",
      "    self.comm.close()\n",
      "  File \"/Users/lucasericsson/Library/Python/3.10/lib/python/site-packages/comm/base_comm.py\", line 109, in close\n",
      "    comm.get_comm_manager().unregister_comm(self)\n",
      "  File \"/Users/lucasericsson/Library/Python/3.10/lib/python/site-packages/comm/base_comm.py\", line 199, in unregister_comm\n",
      "    comm = self.comms.pop(comm.comm_id)\n",
      "KeyError: 'a83adea3d54d497e8c7d99a8f643ee0c'\n",
      "\u001b[34m\u001b[1mwandb\u001b[0m: Agent Starting Run: v2oqgt68 with config:\n",
      "\u001b[34m\u001b[1mwandb\u001b[0m: \tepochs: 3\n",
      "\u001b[34m\u001b[1mwandb\u001b[0m: \thidden_units: 1000\n",
      "\u001b[34m\u001b[1mwandb\u001b[0m: \tk: 10\n",
      "\u001b[34m\u001b[1mwandb\u001b[0m: \tminibatch: 150\n",
      "Failed to detect the name of this notebook, you can set it manually with the WANDB_NOTEBOOK_NAME environment variable to enable code saving.\n",
      "\u001b[34m\u001b[1mwandb\u001b[0m: \u001b[33mWARNING\u001b[0m Ignored wandb.init() arg project when running a sweep.\n"
     ]
    },
    {
     "data": {
      "text/html": [
       "Tracking run with wandb version 0.16.6"
      ],
      "text/plain": [
       "<IPython.core.display.HTML object>"
      ]
     },
     "metadata": {},
     "output_type": "display_data"
    },
    {
     "data": {
      "text/html": [
       "Run data is saved locally in <code>/Users/lucasericsson/repos/restricted-boltzmann-machine/wandb/run-20240409_023903-v2oqgt68</code>"
      ],
      "text/plain": [
       "<IPython.core.display.HTML object>"
      ]
     },
     "metadata": {},
     "output_type": "display_data"
    },
    {
     "data": {
      "text/html": [
       "Syncing run <strong><a href='https://wandb.ai/lucasericsson222/restricted_boltzmann_machine_sweep/runs/v2oqgt68' target=\"_blank\">ancient-sweep-81</a></strong> to <a href='https://wandb.ai/lucasericsson222/restricted_boltzmann_machine_sweep' target=\"_blank\">Weights & Biases</a> (<a href='https://wandb.me/run' target=\"_blank\">docs</a>)<br/>Sweep page: <a href='https://wandb.ai/lucasericsson222/restricted_boltzmann_machine_sweep/sweeps/r1b5058x' target=\"_blank\">https://wandb.ai/lucasericsson222/restricted_boltzmann_machine_sweep/sweeps/r1b5058x</a>"
      ],
      "text/plain": [
       "<IPython.core.display.HTML object>"
      ]
     },
     "metadata": {},
     "output_type": "display_data"
    },
    {
     "data": {
      "text/html": [
       " View project at <a href='https://wandb.ai/lucasericsson222/restricted_boltzmann_machine_sweep' target=\"_blank\">https://wandb.ai/lucasericsson222/restricted_boltzmann_machine_sweep</a>"
      ],
      "text/plain": [
       "<IPython.core.display.HTML object>"
      ]
     },
     "metadata": {},
     "output_type": "display_data"
    },
    {
     "data": {
      "text/html": [
       " View sweep at <a href='https://wandb.ai/lucasericsson222/restricted_boltzmann_machine_sweep/sweeps/r1b5058x' target=\"_blank\">https://wandb.ai/lucasericsson222/restricted_boltzmann_machine_sweep/sweeps/r1b5058x</a>"
      ],
      "text/plain": [
       "<IPython.core.display.HTML object>"
      ]
     },
     "metadata": {},
     "output_type": "display_data"
    },
    {
     "data": {
      "text/html": [
       " View run at <a href='https://wandb.ai/lucasericsson222/restricted_boltzmann_machine_sweep/runs/v2oqgt68' target=\"_blank\">https://wandb.ai/lucasericsson222/restricted_boltzmann_machine_sweep/runs/v2oqgt68</a>"
      ],
      "text/plain": [
       "<IPython.core.display.HTML object>"
      ]
     },
     "metadata": {},
     "output_type": "display_data"
    },
    {
     "name": "stdout",
     "output_type": "stream",
     "text": [
      "(60000, 784)\n",
      "Epoch: 0\n",
      "current_weight_diff: 9.493055077844552\n",
      "sqrd_recon_error: 0.5500595238095238\n",
      "Epoch: 1\n",
      "current_weight_diff: 2.2822520300665414\n",
      "sqrd_recon_error: 0.5419982993197279\n",
      "Epoch: 2\n",
      "current_weight_diff: 2.7308889001350707\n",
      "sqrd_recon_error: 1.1914795918367347\n"
     ]
    },
    {
     "data": {
      "application/vnd.jupyter.widget-view+json": {
       "model_id": "579bc4c4f57f48599e6670b29e979951",
       "version_major": 2,
       "version_minor": 0
      },
      "text/plain": [
       "VBox(children=(Label(value='0.001 MB of 0.001 MB uploaded\\r'), FloatProgress(value=1.0, max=1.0)))"
      ]
     },
     "metadata": {},
     "output_type": "display_data"
    },
    {
     "name": "stderr",
     "output_type": "stream",
     "text": [
      "\u001b[34m\u001b[1mwandb\u001b[0m: \u001b[32m\u001b[41mERROR\u001b[0m Problem finishing run\n",
      "Traceback (most recent call last):\n",
      "  File \"/Library/Frameworks/Python.framework/Versions/3.10/lib/python3.10/site-packages/wandb/sdk/wandb_run.py\", line 2313, in _atexit_cleanup\n",
      "    self._on_finish()\n",
      "  File \"/Library/Frameworks/Python.framework/Versions/3.10/lib/python3.10/site-packages/wandb/sdk/wandb_run.py\", line 2567, in _on_finish\n",
      "    self._footer_file_pusher_status_info(\n",
      "  File \"/Library/Frameworks/Python.framework/Versions/3.10/lib/python3.10/site-packages/wandb/sdk/wandb_run.py\", line 3749, in _footer_file_pusher_status_info\n",
      "    Run._footer_single_run_file_pusher_status_info(\n",
      "  File \"/Library/Frameworks/Python.framework/Versions/3.10/lib/python3.10/site-packages/wandb/sdk/wandb_run.py\", line 3802, in _footer_single_run_file_pusher_status_info\n",
      "    printer.progress_close()\n",
      "  File \"/Library/Frameworks/Python.framework/Versions/3.10/lib/python3.10/site-packages/wandb/sdk/lib/printer.py\", line 292, in progress_close\n",
      "    self._progress.close()\n",
      "  File \"/Library/Frameworks/Python.framework/Versions/3.10/lib/python3.10/site-packages/wandb/sdk/lib/ipython.py\", line 128, in close\n",
      "    self._widget.close()\n",
      "  File \"/Users/lucasericsson/Library/Python/3.10/lib/python/site-packages/ipywidgets/widgets/widget.py\", line 500, in close\n",
      "    self.comm.close()\n",
      "  File \"/Users/lucasericsson/Library/Python/3.10/lib/python/site-packages/comm/base_comm.py\", line 109, in close\n",
      "    comm.get_comm_manager().unregister_comm(self)\n",
      "  File \"/Users/lucasericsson/Library/Python/3.10/lib/python/site-packages/comm/base_comm.py\", line 199, in unregister_comm\n",
      "    comm = self.comms.pop(comm.comm_id)\n",
      "KeyError: '579bc4c4f57f48599e6670b29e979951'\n",
      "\u001b[34m\u001b[1mwandb\u001b[0m: Agent Starting Run: 6ngtmb1q with config:\n",
      "\u001b[34m\u001b[1mwandb\u001b[0m: \tepochs: 10\n",
      "\u001b[34m\u001b[1mwandb\u001b[0m: \thidden_units: 10\n",
      "\u001b[34m\u001b[1mwandb\u001b[0m: \tk: 5\n",
      "\u001b[34m\u001b[1mwandb\u001b[0m: \tminibatch: 200\n",
      "Failed to detect the name of this notebook, you can set it manually with the WANDB_NOTEBOOK_NAME environment variable to enable code saving.\n",
      "\u001b[34m\u001b[1mwandb\u001b[0m: \u001b[33mWARNING\u001b[0m Ignored wandb.init() arg project when running a sweep.\n"
     ]
    },
    {
     "data": {
      "text/html": [
       "Tracking run with wandb version 0.16.6"
      ],
      "text/plain": [
       "<IPython.core.display.HTML object>"
      ]
     },
     "metadata": {},
     "output_type": "display_data"
    },
    {
     "data": {
      "text/html": [
       "Run data is saved locally in <code>/Users/lucasericsson/repos/restricted-boltzmann-machine/wandb/run-20240409_024110-6ngtmb1q</code>"
      ],
      "text/plain": [
       "<IPython.core.display.HTML object>"
      ]
     },
     "metadata": {},
     "output_type": "display_data"
    },
    {
     "data": {
      "text/html": [
       "Syncing run <strong><a href='https://wandb.ai/lucasericsson222/restricted_boltzmann_machine_sweep/runs/6ngtmb1q' target=\"_blank\">still-sweep-82</a></strong> to <a href='https://wandb.ai/lucasericsson222/restricted_boltzmann_machine_sweep' target=\"_blank\">Weights & Biases</a> (<a href='https://wandb.me/run' target=\"_blank\">docs</a>)<br/>Sweep page: <a href='https://wandb.ai/lucasericsson222/restricted_boltzmann_machine_sweep/sweeps/r1b5058x' target=\"_blank\">https://wandb.ai/lucasericsson222/restricted_boltzmann_machine_sweep/sweeps/r1b5058x</a>"
      ],
      "text/plain": [
       "<IPython.core.display.HTML object>"
      ]
     },
     "metadata": {},
     "output_type": "display_data"
    },
    {
     "data": {
      "text/html": [
       " View project at <a href='https://wandb.ai/lucasericsson222/restricted_boltzmann_machine_sweep' target=\"_blank\">https://wandb.ai/lucasericsson222/restricted_boltzmann_machine_sweep</a>"
      ],
      "text/plain": [
       "<IPython.core.display.HTML object>"
      ]
     },
     "metadata": {},
     "output_type": "display_data"
    },
    {
     "data": {
      "text/html": [
       " View sweep at <a href='https://wandb.ai/lucasericsson222/restricted_boltzmann_machine_sweep/sweeps/r1b5058x' target=\"_blank\">https://wandb.ai/lucasericsson222/restricted_boltzmann_machine_sweep/sweeps/r1b5058x</a>"
      ],
      "text/plain": [
       "<IPython.core.display.HTML object>"
      ]
     },
     "metadata": {},
     "output_type": "display_data"
    },
    {
     "data": {
      "text/html": [
       " View run at <a href='https://wandb.ai/lucasericsson222/restricted_boltzmann_machine_sweep/runs/6ngtmb1q' target=\"_blank\">https://wandb.ai/lucasericsson222/restricted_boltzmann_machine_sweep/runs/6ngtmb1q</a>"
      ],
      "text/plain": [
       "<IPython.core.display.HTML object>"
      ]
     },
     "metadata": {},
     "output_type": "display_data"
    },
    {
     "name": "stdout",
     "output_type": "stream",
     "text": [
      "(60000, 784)\n",
      "Epoch: 0\n",
      "current_weight_diff: 79.3471026260726\n",
      "sqrd_recon_error: 10.067927295918368\n",
      "Epoch: 1\n",
      "current_weight_diff: 0.727404412863301\n",
      "sqrd_recon_error: 5.012391581632653\n",
      "Epoch: 2\n",
      "current_weight_diff: 2.122684063029036\n",
      "sqrd_recon_error: 3.174579081632653\n",
      "Epoch: 3\n",
      "current_weight_diff: 0.11853453758623751\n",
      "sqrd_recon_error: 2.4244897959183676\n",
      "Epoch: 4\n",
      "current_weight_diff: 0.12787696293345818\n",
      "sqrd_recon_error: 2.1588137755102044\n",
      "Epoch: 5\n",
      "current_weight_diff: 0.08645826147497136\n",
      "sqrd_recon_error: 1.8176594387755103\n",
      "Epoch: 6\n",
      "current_weight_diff: 0.09278409453973155\n",
      "sqrd_recon_error: 1.6722385204081633\n",
      "Epoch: 7\n",
      "current_weight_diff: 0.17428449767545154\n",
      "sqrd_recon_error: 1.6104910714285714\n",
      "Epoch: 8\n",
      "current_weight_diff: 0.2184795793497952\n",
      "sqrd_recon_error: 1.3279910714285714\n",
      "Epoch: 9\n",
      "current_weight_diff: 0.36194205467272766\n",
      "sqrd_recon_error: 1.202544642857143\n"
     ]
    },
    {
     "data": {
      "application/vnd.jupyter.widget-view+json": {
       "model_id": "1efc1c4fdc084c3f8fa26d3841c20359",
       "version_major": 2,
       "version_minor": 0
      },
      "text/plain": [
       "VBox(children=(Label(value='0.001 MB of 0.001 MB uploaded\\r'), FloatProgress(value=1.0, max=1.0)))"
      ]
     },
     "metadata": {},
     "output_type": "display_data"
    },
    {
     "name": "stderr",
     "output_type": "stream",
     "text": [
      "\u001b[34m\u001b[1mwandb\u001b[0m: \u001b[32m\u001b[41mERROR\u001b[0m Problem finishing run\n",
      "Traceback (most recent call last):\n",
      "  File \"/Library/Frameworks/Python.framework/Versions/3.10/lib/python3.10/site-packages/wandb/sdk/wandb_run.py\", line 2313, in _atexit_cleanup\n",
      "    self._on_finish()\n",
      "  File \"/Library/Frameworks/Python.framework/Versions/3.10/lib/python3.10/site-packages/wandb/sdk/wandb_run.py\", line 2567, in _on_finish\n",
      "    self._footer_file_pusher_status_info(\n",
      "  File \"/Library/Frameworks/Python.framework/Versions/3.10/lib/python3.10/site-packages/wandb/sdk/wandb_run.py\", line 3749, in _footer_file_pusher_status_info\n",
      "    Run._footer_single_run_file_pusher_status_info(\n",
      "  File \"/Library/Frameworks/Python.framework/Versions/3.10/lib/python3.10/site-packages/wandb/sdk/wandb_run.py\", line 3802, in _footer_single_run_file_pusher_status_info\n",
      "    printer.progress_close()\n",
      "  File \"/Library/Frameworks/Python.framework/Versions/3.10/lib/python3.10/site-packages/wandb/sdk/lib/printer.py\", line 292, in progress_close\n",
      "    self._progress.close()\n",
      "  File \"/Library/Frameworks/Python.framework/Versions/3.10/lib/python3.10/site-packages/wandb/sdk/lib/ipython.py\", line 128, in close\n",
      "    self._widget.close()\n",
      "  File \"/Users/lucasericsson/Library/Python/3.10/lib/python/site-packages/ipywidgets/widgets/widget.py\", line 500, in close\n",
      "    self.comm.close()\n",
      "  File \"/Users/lucasericsson/Library/Python/3.10/lib/python/site-packages/comm/base_comm.py\", line 109, in close\n",
      "    comm.get_comm_manager().unregister_comm(self)\n",
      "  File \"/Users/lucasericsson/Library/Python/3.10/lib/python/site-packages/comm/base_comm.py\", line 199, in unregister_comm\n",
      "    comm = self.comms.pop(comm.comm_id)\n",
      "KeyError: '1efc1c4fdc084c3f8fa26d3841c20359'\n",
      "\u001b[34m\u001b[1mwandb\u001b[0m: Agent Starting Run: stv7mixn with config:\n",
      "\u001b[34m\u001b[1mwandb\u001b[0m: \tepochs: 20\n",
      "\u001b[34m\u001b[1mwandb\u001b[0m: \thidden_units: 200\n",
      "\u001b[34m\u001b[1mwandb\u001b[0m: \tk: 4\n",
      "\u001b[34m\u001b[1mwandb\u001b[0m: \tminibatch: 150\n",
      "Failed to detect the name of this notebook, you can set it manually with the WANDB_NOTEBOOK_NAME environment variable to enable code saving.\n",
      "\u001b[34m\u001b[1mwandb\u001b[0m: \u001b[33mWARNING\u001b[0m Ignored wandb.init() arg project when running a sweep.\n"
     ]
    },
    {
     "data": {
      "text/html": [
       "Tracking run with wandb version 0.16.6"
      ],
      "text/plain": [
       "<IPython.core.display.HTML object>"
      ]
     },
     "metadata": {},
     "output_type": "display_data"
    },
    {
     "data": {
      "text/html": [
       "Run data is saved locally in <code>/Users/lucasericsson/repos/restricted-boltzmann-machine/wandb/run-20240409_024152-stv7mixn</code>"
      ],
      "text/plain": [
       "<IPython.core.display.HTML object>"
      ]
     },
     "metadata": {},
     "output_type": "display_data"
    },
    {
     "data": {
      "text/html": [
       "Syncing run <strong><a href='https://wandb.ai/lucasericsson222/restricted_boltzmann_machine_sweep/runs/stv7mixn' target=\"_blank\">rosy-sweep-83</a></strong> to <a href='https://wandb.ai/lucasericsson222/restricted_boltzmann_machine_sweep' target=\"_blank\">Weights & Biases</a> (<a href='https://wandb.me/run' target=\"_blank\">docs</a>)<br/>Sweep page: <a href='https://wandb.ai/lucasericsson222/restricted_boltzmann_machine_sweep/sweeps/r1b5058x' target=\"_blank\">https://wandb.ai/lucasericsson222/restricted_boltzmann_machine_sweep/sweeps/r1b5058x</a>"
      ],
      "text/plain": [
       "<IPython.core.display.HTML object>"
      ]
     },
     "metadata": {},
     "output_type": "display_data"
    },
    {
     "data": {
      "text/html": [
       " View project at <a href='https://wandb.ai/lucasericsson222/restricted_boltzmann_machine_sweep' target=\"_blank\">https://wandb.ai/lucasericsson222/restricted_boltzmann_machine_sweep</a>"
      ],
      "text/plain": [
       "<IPython.core.display.HTML object>"
      ]
     },
     "metadata": {},
     "output_type": "display_data"
    },
    {
     "data": {
      "text/html": [
       " View sweep at <a href='https://wandb.ai/lucasericsson222/restricted_boltzmann_machine_sweep/sweeps/r1b5058x' target=\"_blank\">https://wandb.ai/lucasericsson222/restricted_boltzmann_machine_sweep/sweeps/r1b5058x</a>"
      ],
      "text/plain": [
       "<IPython.core.display.HTML object>"
      ]
     },
     "metadata": {},
     "output_type": "display_data"
    },
    {
     "data": {
      "text/html": [
       " View run at <a href='https://wandb.ai/lucasericsson222/restricted_boltzmann_machine_sweep/runs/stv7mixn' target=\"_blank\">https://wandb.ai/lucasericsson222/restricted_boltzmann_machine_sweep/runs/stv7mixn</a>"
      ],
      "text/plain": [
       "<IPython.core.display.HTML object>"
      ]
     },
     "metadata": {},
     "output_type": "display_data"
    },
    {
     "name": "stdout",
     "output_type": "stream",
     "text": [
      "(60000, 784)\n",
      "Epoch: 0\n",
      "current_weight_diff: 44.031422599829455\n",
      "sqrd_recon_error: 1.7206207482993197\n",
      "Epoch: 1\n",
      "current_weight_diff: 1.4532743670350463\n",
      "sqrd_recon_error: 0.7929931972789116\n",
      "Epoch: 2\n",
      "current_weight_diff: 1.6516729515886202\n",
      "sqrd_recon_error: 0.49634353741496595\n",
      "Epoch: 3\n",
      "current_weight_diff: 1.4918058939959606\n",
      "sqrd_recon_error: 0.3647959183673469\n",
      "Epoch: 4\n",
      "current_weight_diff: 0.7812994524798474\n",
      "sqrd_recon_error: 0.2891496598639456\n",
      "Epoch: 5\n",
      "current_weight_diff: 0.5582207730121829\n",
      "sqrd_recon_error: 0.2496173469387755\n",
      "Epoch: 6\n",
      "current_weight_diff: 0.4699922650112357\n",
      "sqrd_recon_error: 0.1819047619047619\n",
      "Epoch: 7\n",
      "current_weight_diff: 0.3380348475380738\n",
      "sqrd_recon_error: 0.18735544217687075\n",
      "Epoch: 8\n",
      "current_weight_diff: 0.30468285398203976\n",
      "sqrd_recon_error: 0.16312925170068027\n",
      "Epoch: 9\n",
      "current_weight_diff: 0.3487475607466165\n",
      "sqrd_recon_error: 0.17953231292517008\n",
      "Epoch: 10\n",
      "current_weight_diff: 0.3331276997594097\n",
      "sqrd_recon_error: 0.18634353741496598\n",
      "Epoch: 11\n",
      "current_weight_diff: 0.24820779582237326\n",
      "sqrd_recon_error: 0.1702721088435374\n",
      "Epoch: 12\n",
      "current_weight_diff: 0.3306907994404067\n",
      "sqrd_recon_error: 0.14795918367346939\n",
      "Epoch: 13\n",
      "current_weight_diff: 0.5316176153841939\n",
      "sqrd_recon_error: 0.1528486394557823\n",
      "Epoch: 14\n",
      "current_weight_diff: 0.3192679553150019\n",
      "sqrd_recon_error: 0.17062925170068027\n",
      "Epoch: 15\n",
      "current_weight_diff: 0.24343150059975963\n",
      "sqrd_recon_error: 0.16081632653061226\n",
      "Epoch: 16\n",
      "current_weight_diff: 0.2889589810900037\n",
      "sqrd_recon_error: 0.14258503401360545\n",
      "Epoch: 17\n",
      "current_weight_diff: 2.5515787931951333\n",
      "sqrd_recon_error: 0.1532482993197279\n",
      "Epoch: 18\n",
      "current_weight_diff: 0.18756650172319597\n",
      "sqrd_recon_error: 0.14056972789115646\n",
      "Epoch: 19\n",
      "current_weight_diff: 0.1773893723156897\n",
      "sqrd_recon_error: 0.13969387755102042\n"
     ]
    },
    {
     "data": {
      "application/vnd.jupyter.widget-view+json": {
       "model_id": "e8f5a727e3af42389f4a79282b4a0002",
       "version_major": 2,
       "version_minor": 0
      },
      "text/plain": [
       "VBox(children=(Label(value='0.001 MB of 0.001 MB uploaded\\r'), FloatProgress(value=1.0, max=1.0)))"
      ]
     },
     "metadata": {},
     "output_type": "display_data"
    },
    {
     "name": "stderr",
     "output_type": "stream",
     "text": [
      "\u001b[34m\u001b[1mwandb\u001b[0m: \u001b[32m\u001b[41mERROR\u001b[0m Problem finishing run\n",
      "Traceback (most recent call last):\n",
      "  File \"/Library/Frameworks/Python.framework/Versions/3.10/lib/python3.10/site-packages/wandb/sdk/wandb_run.py\", line 2313, in _atexit_cleanup\n",
      "    self._on_finish()\n",
      "  File \"/Library/Frameworks/Python.framework/Versions/3.10/lib/python3.10/site-packages/wandb/sdk/wandb_run.py\", line 2567, in _on_finish\n",
      "    self._footer_file_pusher_status_info(\n",
      "  File \"/Library/Frameworks/Python.framework/Versions/3.10/lib/python3.10/site-packages/wandb/sdk/wandb_run.py\", line 3749, in _footer_file_pusher_status_info\n",
      "    Run._footer_single_run_file_pusher_status_info(\n",
      "  File \"/Library/Frameworks/Python.framework/Versions/3.10/lib/python3.10/site-packages/wandb/sdk/wandb_run.py\", line 3802, in _footer_single_run_file_pusher_status_info\n",
      "    printer.progress_close()\n",
      "  File \"/Library/Frameworks/Python.framework/Versions/3.10/lib/python3.10/site-packages/wandb/sdk/lib/printer.py\", line 292, in progress_close\n",
      "    self._progress.close()\n",
      "  File \"/Library/Frameworks/Python.framework/Versions/3.10/lib/python3.10/site-packages/wandb/sdk/lib/ipython.py\", line 128, in close\n",
      "    self._widget.close()\n",
      "  File \"/Users/lucasericsson/Library/Python/3.10/lib/python/site-packages/ipywidgets/widgets/widget.py\", line 500, in close\n",
      "    self.comm.close()\n",
      "  File \"/Users/lucasericsson/Library/Python/3.10/lib/python/site-packages/comm/base_comm.py\", line 109, in close\n",
      "    comm.get_comm_manager().unregister_comm(self)\n",
      "  File \"/Users/lucasericsson/Library/Python/3.10/lib/python/site-packages/comm/base_comm.py\", line 199, in unregister_comm\n",
      "    comm = self.comms.pop(comm.comm_id)\n",
      "KeyError: 'e8f5a727e3af42389f4a79282b4a0002'\n",
      "\u001b[34m\u001b[1mwandb\u001b[0m: Agent Starting Run: vdh8spnu with config:\n",
      "\u001b[34m\u001b[1mwandb\u001b[0m: \tepochs: 1\n",
      "\u001b[34m\u001b[1mwandb\u001b[0m: \thidden_units: 100\n",
      "\u001b[34m\u001b[1mwandb\u001b[0m: \tk: 3\n",
      "\u001b[34m\u001b[1mwandb\u001b[0m: \tminibatch: 200\n",
      "Failed to detect the name of this notebook, you can set it manually with the WANDB_NOTEBOOK_NAME environment variable to enable code saving.\n",
      "\u001b[34m\u001b[1mwandb\u001b[0m: \u001b[33mWARNING\u001b[0m Ignored wandb.init() arg project when running a sweep.\n"
     ]
    },
    {
     "data": {
      "text/html": [
       "Tracking run with wandb version 0.16.6"
      ],
      "text/plain": [
       "<IPython.core.display.HTML object>"
      ]
     },
     "metadata": {},
     "output_type": "display_data"
    },
    {
     "data": {
      "text/html": [
       "Run data is saved locally in <code>/Users/lucasericsson/repos/restricted-boltzmann-machine/wandb/run-20240409_024419-vdh8spnu</code>"
      ],
      "text/plain": [
       "<IPython.core.display.HTML object>"
      ]
     },
     "metadata": {},
     "output_type": "display_data"
    },
    {
     "data": {
      "text/html": [
       "Syncing run <strong><a href='https://wandb.ai/lucasericsson222/restricted_boltzmann_machine_sweep/runs/vdh8spnu' target=\"_blank\">toasty-sweep-84</a></strong> to <a href='https://wandb.ai/lucasericsson222/restricted_boltzmann_machine_sweep' target=\"_blank\">Weights & Biases</a> (<a href='https://wandb.me/run' target=\"_blank\">docs</a>)<br/>Sweep page: <a href='https://wandb.ai/lucasericsson222/restricted_boltzmann_machine_sweep/sweeps/r1b5058x' target=\"_blank\">https://wandb.ai/lucasericsson222/restricted_boltzmann_machine_sweep/sweeps/r1b5058x</a>"
      ],
      "text/plain": [
       "<IPython.core.display.HTML object>"
      ]
     },
     "metadata": {},
     "output_type": "display_data"
    },
    {
     "data": {
      "text/html": [
       " View project at <a href='https://wandb.ai/lucasericsson222/restricted_boltzmann_machine_sweep' target=\"_blank\">https://wandb.ai/lucasericsson222/restricted_boltzmann_machine_sweep</a>"
      ],
      "text/plain": [
       "<IPython.core.display.HTML object>"
      ]
     },
     "metadata": {},
     "output_type": "display_data"
    },
    {
     "data": {
      "text/html": [
       " View sweep at <a href='https://wandb.ai/lucasericsson222/restricted_boltzmann_machine_sweep/sweeps/r1b5058x' target=\"_blank\">https://wandb.ai/lucasericsson222/restricted_boltzmann_machine_sweep/sweeps/r1b5058x</a>"
      ],
      "text/plain": [
       "<IPython.core.display.HTML object>"
      ]
     },
     "metadata": {},
     "output_type": "display_data"
    },
    {
     "data": {
      "text/html": [
       " View run at <a href='https://wandb.ai/lucasericsson222/restricted_boltzmann_machine_sweep/runs/vdh8spnu' target=\"_blank\">https://wandb.ai/lucasericsson222/restricted_boltzmann_machine_sweep/runs/vdh8spnu</a>"
      ],
      "text/plain": [
       "<IPython.core.display.HTML object>"
      ]
     },
     "metadata": {},
     "output_type": "display_data"
    },
    {
     "name": "stdout",
     "output_type": "stream",
     "text": [
      "(60000, 784)\n",
      "Epoch: 0\n",
      "current_weight_diff: 27.377037178533453\n",
      "sqrd_recon_error: 4.670522959183674\n"
     ]
    },
    {
     "data": {
      "application/vnd.jupyter.widget-view+json": {
       "model_id": "e1cc4f0f356e486a98ccdeefd86c0019",
       "version_major": 2,
       "version_minor": 0
      },
      "text/plain": [
       "VBox(children=(Label(value='0.001 MB of 0.001 MB uploaded\\r'), FloatProgress(value=1.0, max=1.0)))"
      ]
     },
     "metadata": {},
     "output_type": "display_data"
    },
    {
     "name": "stderr",
     "output_type": "stream",
     "text": [
      "\u001b[34m\u001b[1mwandb\u001b[0m: \u001b[32m\u001b[41mERROR\u001b[0m Problem finishing run\n",
      "Traceback (most recent call last):\n",
      "  File \"/Library/Frameworks/Python.framework/Versions/3.10/lib/python3.10/site-packages/wandb/sdk/wandb_run.py\", line 2313, in _atexit_cleanup\n",
      "    self._on_finish()\n",
      "  File \"/Library/Frameworks/Python.framework/Versions/3.10/lib/python3.10/site-packages/wandb/sdk/wandb_run.py\", line 2567, in _on_finish\n",
      "    self._footer_file_pusher_status_info(\n",
      "  File \"/Library/Frameworks/Python.framework/Versions/3.10/lib/python3.10/site-packages/wandb/sdk/wandb_run.py\", line 3749, in _footer_file_pusher_status_info\n",
      "    Run._footer_single_run_file_pusher_status_info(\n",
      "  File \"/Library/Frameworks/Python.framework/Versions/3.10/lib/python3.10/site-packages/wandb/sdk/wandb_run.py\", line 3802, in _footer_single_run_file_pusher_status_info\n",
      "    printer.progress_close()\n",
      "  File \"/Library/Frameworks/Python.framework/Versions/3.10/lib/python3.10/site-packages/wandb/sdk/lib/printer.py\", line 292, in progress_close\n",
      "    self._progress.close()\n",
      "  File \"/Library/Frameworks/Python.framework/Versions/3.10/lib/python3.10/site-packages/wandb/sdk/lib/ipython.py\", line 128, in close\n",
      "    self._widget.close()\n",
      "  File \"/Users/lucasericsson/Library/Python/3.10/lib/python/site-packages/ipywidgets/widgets/widget.py\", line 500, in close\n",
      "    self.comm.close()\n",
      "  File \"/Users/lucasericsson/Library/Python/3.10/lib/python/site-packages/comm/base_comm.py\", line 109, in close\n",
      "    comm.get_comm_manager().unregister_comm(self)\n",
      "  File \"/Users/lucasericsson/Library/Python/3.10/lib/python/site-packages/comm/base_comm.py\", line 199, in unregister_comm\n",
      "    comm = self.comms.pop(comm.comm_id)\n",
      "KeyError: 'e1cc4f0f356e486a98ccdeefd86c0019'\n",
      "\u001b[34m\u001b[1mwandb\u001b[0m: Sweep Agent: Waiting for job.\n",
      "\u001b[34m\u001b[1mwandb\u001b[0m: Job received.\n",
      "\u001b[34m\u001b[1mwandb\u001b[0m: Agent Starting Run: hvo7lyc0 with config:\n",
      "\u001b[34m\u001b[1mwandb\u001b[0m: \tepochs: 5\n",
      "\u001b[34m\u001b[1mwandb\u001b[0m: \thidden_units: 1000\n",
      "\u001b[34m\u001b[1mwandb\u001b[0m: \tk: 20\n",
      "\u001b[34m\u001b[1mwandb\u001b[0m: \tminibatch: 150\n",
      "Failed to detect the name of this notebook, you can set it manually with the WANDB_NOTEBOOK_NAME environment variable to enable code saving.\n",
      "\u001b[34m\u001b[1mwandb\u001b[0m: \u001b[33mWARNING\u001b[0m Ignored wandb.init() arg project when running a sweep.\n"
     ]
    },
    {
     "data": {
      "text/html": [
       "Tracking run with wandb version 0.16.6"
      ],
      "text/plain": [
       "<IPython.core.display.HTML object>"
      ]
     },
     "metadata": {},
     "output_type": "display_data"
    },
    {
     "data": {
      "text/html": [
       "Run data is saved locally in <code>/Users/lucasericsson/repos/restricted-boltzmann-machine/wandb/run-20240409_024440-hvo7lyc0</code>"
      ],
      "text/plain": [
       "<IPython.core.display.HTML object>"
      ]
     },
     "metadata": {},
     "output_type": "display_data"
    },
    {
     "data": {
      "text/html": [
       "Syncing run <strong><a href='https://wandb.ai/lucasericsson222/restricted_boltzmann_machine_sweep/runs/hvo7lyc0' target=\"_blank\">visionary-sweep-85</a></strong> to <a href='https://wandb.ai/lucasericsson222/restricted_boltzmann_machine_sweep' target=\"_blank\">Weights & Biases</a> (<a href='https://wandb.me/run' target=\"_blank\">docs</a>)<br/>Sweep page: <a href='https://wandb.ai/lucasericsson222/restricted_boltzmann_machine_sweep/sweeps/r1b5058x' target=\"_blank\">https://wandb.ai/lucasericsson222/restricted_boltzmann_machine_sweep/sweeps/r1b5058x</a>"
      ],
      "text/plain": [
       "<IPython.core.display.HTML object>"
      ]
     },
     "metadata": {},
     "output_type": "display_data"
    },
    {
     "data": {
      "text/html": [
       " View project at <a href='https://wandb.ai/lucasericsson222/restricted_boltzmann_machine_sweep' target=\"_blank\">https://wandb.ai/lucasericsson222/restricted_boltzmann_machine_sweep</a>"
      ],
      "text/plain": [
       "<IPython.core.display.HTML object>"
      ]
     },
     "metadata": {},
     "output_type": "display_data"
    },
    {
     "data": {
      "text/html": [
       " View sweep at <a href='https://wandb.ai/lucasericsson222/restricted_boltzmann_machine_sweep/sweeps/r1b5058x' target=\"_blank\">https://wandb.ai/lucasericsson222/restricted_boltzmann_machine_sweep/sweeps/r1b5058x</a>"
      ],
      "text/plain": [
       "<IPython.core.display.HTML object>"
      ]
     },
     "metadata": {},
     "output_type": "display_data"
    },
    {
     "data": {
      "text/html": [
       " View run at <a href='https://wandb.ai/lucasericsson222/restricted_boltzmann_machine_sweep/runs/hvo7lyc0' target=\"_blank\">https://wandb.ai/lucasericsson222/restricted_boltzmann_machine_sweep/runs/hvo7lyc0</a>"
      ],
      "text/plain": [
       "<IPython.core.display.HTML object>"
      ]
     },
     "metadata": {},
     "output_type": "display_data"
    },
    {
     "name": "stdout",
     "output_type": "stream",
     "text": [
      "(60000, 784)\n",
      "Epoch: 0\n",
      "current_weight_diff: 12.881549212406105\n",
      "sqrd_recon_error: 0.4871768707482993\n",
      "Epoch: 1\n",
      "current_weight_diff: 3.1280742238119768\n",
      "sqrd_recon_error: 0.5350595238095238\n",
      "Epoch: 2\n",
      "current_weight_diff: 2.9165744433585727\n",
      "sqrd_recon_error: 2.614115646258503\n",
      "Epoch: 3\n",
      "current_weight_diff: 1.4554363266440196\n",
      "sqrd_recon_error: 4.4862244897959185\n",
      "Epoch: 4\n",
      "current_weight_diff: 0.843524673334005\n",
      "sqrd_recon_error: 4.528520408163265\n"
     ]
    },
    {
     "data": {
      "application/vnd.jupyter.widget-view+json": {
       "model_id": "3a2c394171fd49dfba6226aa3b6c35be",
       "version_major": 2,
       "version_minor": 0
      },
      "text/plain": [
       "VBox(children=(Label(value='0.001 MB of 0.001 MB uploaded\\r'), FloatProgress(value=1.0, max=1.0)))"
      ]
     },
     "metadata": {},
     "output_type": "display_data"
    },
    {
     "name": "stderr",
     "output_type": "stream",
     "text": [
      "\u001b[34m\u001b[1mwandb\u001b[0m: \u001b[32m\u001b[41mERROR\u001b[0m Problem finishing run\n",
      "Traceback (most recent call last):\n",
      "  File \"/Library/Frameworks/Python.framework/Versions/3.10/lib/python3.10/site-packages/wandb/sdk/wandb_run.py\", line 2313, in _atexit_cleanup\n",
      "    self._on_finish()\n",
      "  File \"/Library/Frameworks/Python.framework/Versions/3.10/lib/python3.10/site-packages/wandb/sdk/wandb_run.py\", line 2567, in _on_finish\n",
      "    self._footer_file_pusher_status_info(\n",
      "  File \"/Library/Frameworks/Python.framework/Versions/3.10/lib/python3.10/site-packages/wandb/sdk/wandb_run.py\", line 3749, in _footer_file_pusher_status_info\n",
      "    Run._footer_single_run_file_pusher_status_info(\n",
      "  File \"/Library/Frameworks/Python.framework/Versions/3.10/lib/python3.10/site-packages/wandb/sdk/wandb_run.py\", line 3802, in _footer_single_run_file_pusher_status_info\n",
      "    printer.progress_close()\n",
      "  File \"/Library/Frameworks/Python.framework/Versions/3.10/lib/python3.10/site-packages/wandb/sdk/lib/printer.py\", line 292, in progress_close\n",
      "    self._progress.close()\n",
      "  File \"/Library/Frameworks/Python.framework/Versions/3.10/lib/python3.10/site-packages/wandb/sdk/lib/ipython.py\", line 128, in close\n",
      "    self._widget.close()\n",
      "  File \"/Users/lucasericsson/Library/Python/3.10/lib/python/site-packages/ipywidgets/widgets/widget.py\", line 500, in close\n",
      "    self.comm.close()\n",
      "  File \"/Users/lucasericsson/Library/Python/3.10/lib/python/site-packages/comm/base_comm.py\", line 109, in close\n",
      "    comm.get_comm_manager().unregister_comm(self)\n",
      "  File \"/Users/lucasericsson/Library/Python/3.10/lib/python/site-packages/comm/base_comm.py\", line 199, in unregister_comm\n",
      "    comm = self.comms.pop(comm.comm_id)\n",
      "KeyError: '3a2c394171fd49dfba6226aa3b6c35be'\n",
      "\u001b[34m\u001b[1mwandb\u001b[0m: Agent Starting Run: 4h22agjk with config:\n",
      "\u001b[34m\u001b[1mwandb\u001b[0m: \tepochs: 20\n",
      "\u001b[34m\u001b[1mwandb\u001b[0m: \thidden_units: 20\n",
      "\u001b[34m\u001b[1mwandb\u001b[0m: \tk: 20\n",
      "\u001b[34m\u001b[1mwandb\u001b[0m: \tminibatch: 150\n",
      "Failed to detect the name of this notebook, you can set it manually with the WANDB_NOTEBOOK_NAME environment variable to enable code saving.\n",
      "\u001b[34m\u001b[1mwandb\u001b[0m: \u001b[33mWARNING\u001b[0m Ignored wandb.init() arg project when running a sweep.\n"
     ]
    },
    {
     "data": {
      "text/html": [
       "Tracking run with wandb version 0.16.6"
      ],
      "text/plain": [
       "<IPython.core.display.HTML object>"
      ]
     },
     "metadata": {},
     "output_type": "display_data"
    },
    {
     "data": {
      "text/html": [
       "Run data is saved locally in <code>/Users/lucasericsson/repos/restricted-boltzmann-machine/wandb/run-20240409_024946-4h22agjk</code>"
      ],
      "text/plain": [
       "<IPython.core.display.HTML object>"
      ]
     },
     "metadata": {},
     "output_type": "display_data"
    },
    {
     "data": {
      "text/html": [
       "Syncing run <strong><a href='https://wandb.ai/lucasericsson222/restricted_boltzmann_machine_sweep/runs/4h22agjk' target=\"_blank\">sleek-sweep-86</a></strong> to <a href='https://wandb.ai/lucasericsson222/restricted_boltzmann_machine_sweep' target=\"_blank\">Weights & Biases</a> (<a href='https://wandb.me/run' target=\"_blank\">docs</a>)<br/>Sweep page: <a href='https://wandb.ai/lucasericsson222/restricted_boltzmann_machine_sweep/sweeps/r1b5058x' target=\"_blank\">https://wandb.ai/lucasericsson222/restricted_boltzmann_machine_sweep/sweeps/r1b5058x</a>"
      ],
      "text/plain": [
       "<IPython.core.display.HTML object>"
      ]
     },
     "metadata": {},
     "output_type": "display_data"
    },
    {
     "data": {
      "text/html": [
       " View project at <a href='https://wandb.ai/lucasericsson222/restricted_boltzmann_machine_sweep' target=\"_blank\">https://wandb.ai/lucasericsson222/restricted_boltzmann_machine_sweep</a>"
      ],
      "text/plain": [
       "<IPython.core.display.HTML object>"
      ]
     },
     "metadata": {},
     "output_type": "display_data"
    },
    {
     "data": {
      "text/html": [
       " View sweep at <a href='https://wandb.ai/lucasericsson222/restricted_boltzmann_machine_sweep/sweeps/r1b5058x' target=\"_blank\">https://wandb.ai/lucasericsson222/restricted_boltzmann_machine_sweep/sweeps/r1b5058x</a>"
      ],
      "text/plain": [
       "<IPython.core.display.HTML object>"
      ]
     },
     "metadata": {},
     "output_type": "display_data"
    },
    {
     "data": {
      "text/html": [
       " View run at <a href='https://wandb.ai/lucasericsson222/restricted_boltzmann_machine_sweep/runs/4h22agjk' target=\"_blank\">https://wandb.ai/lucasericsson222/restricted_boltzmann_machine_sweep/runs/4h22agjk</a>"
      ],
      "text/plain": [
       "<IPython.core.display.HTML object>"
      ]
     },
     "metadata": {},
     "output_type": "display_data"
    },
    {
     "name": "stdout",
     "output_type": "stream",
     "text": [
      "(60000, 784)\n",
      "Epoch: 0\n",
      "current_weight_diff: 58.96438581925319\n",
      "sqrd_recon_error: 6.870017006802721\n",
      "Epoch: 1\n",
      "current_weight_diff: 0.543213875385375\n",
      "sqrd_recon_error: 3.642015306122449\n",
      "Epoch: 2\n",
      "current_weight_diff: 0.25536614111006106\n",
      "sqrd_recon_error: 2.424438775510204\n",
      "Epoch: 3\n",
      "current_weight_diff: 0.18596553782943354\n",
      "sqrd_recon_error: 1.8780272108843539\n",
      "Epoch: 4\n",
      "current_weight_diff: 0.4234108666876803\n",
      "sqrd_recon_error: 1.1125850340136054\n",
      "Epoch: 5\n",
      "current_weight_diff: 0.4944255005072062\n",
      "sqrd_recon_error: 1.0125935374149662\n",
      "Epoch: 6\n",
      "current_weight_diff: 0.5049330005725358\n",
      "sqrd_recon_error: 0.9044302721088435\n",
      "Epoch: 7\n",
      "current_weight_diff: 0.2159188069779568\n",
      "sqrd_recon_error: 0.6187755102040816\n",
      "Epoch: 8\n",
      "current_weight_diff: 0.23331458789221995\n",
      "sqrd_recon_error: 0.5972363945578231\n",
      "Epoch: 9\n",
      "current_weight_diff: 0.1839290858259288\n",
      "sqrd_recon_error: 0.4613265306122449\n",
      "Epoch: 10\n",
      "current_weight_diff: 0.4055304406855926\n",
      "sqrd_recon_error: 0.3561734693877551\n",
      "Epoch: 11\n",
      "current_weight_diff: 0.28001340315710804\n",
      "sqrd_recon_error: 0.360484693877551\n",
      "Epoch: 12\n",
      "current_weight_diff: 0.1778384141205993\n",
      "sqrd_recon_error: 0.3405017006802721\n",
      "Epoch: 13\n",
      "current_weight_diff: 0.1389023244164579\n",
      "sqrd_recon_error: 0.3434268707482993\n",
      "Epoch: 14\n",
      "current_weight_diff: 0.17348545835699036\n",
      "sqrd_recon_error: 0.30749149659863945\n",
      "Epoch: 15\n",
      "current_weight_diff: 0.13973864783149897\n",
      "sqrd_recon_error: 0.29738095238095236\n",
      "Epoch: 16\n",
      "current_weight_diff: 0.12804254102511617\n",
      "sqrd_recon_error: 0.30405612244897956\n",
      "Epoch: 17\n",
      "current_weight_diff: 0.19265979397968377\n",
      "sqrd_recon_error: 0.24515306122448982\n",
      "Epoch: 18\n",
      "current_weight_diff: 0.1425835700797099\n",
      "sqrd_recon_error: 0.27\n",
      "Epoch: 19\n",
      "current_weight_diff: 0.4197618409362794\n",
      "sqrd_recon_error: 0.24445578231292514\n"
     ]
    },
    {
     "data": {
      "application/vnd.jupyter.widget-view+json": {
       "model_id": "ce7cb8d058e340d283c11214c70c17aa",
       "version_major": 2,
       "version_minor": 0
      },
      "text/plain": [
       "VBox(children=(Label(value='0.001 MB of 0.001 MB uploaded\\r'), FloatProgress(value=1.0, max=1.0)))"
      ]
     },
     "metadata": {},
     "output_type": "display_data"
    },
    {
     "name": "stderr",
     "output_type": "stream",
     "text": [
      "\u001b[34m\u001b[1mwandb\u001b[0m: \u001b[32m\u001b[41mERROR\u001b[0m Problem finishing run\n",
      "Traceback (most recent call last):\n",
      "  File \"/Library/Frameworks/Python.framework/Versions/3.10/lib/python3.10/site-packages/wandb/sdk/wandb_run.py\", line 2313, in _atexit_cleanup\n",
      "    self._on_finish()\n",
      "  File \"/Library/Frameworks/Python.framework/Versions/3.10/lib/python3.10/site-packages/wandb/sdk/wandb_run.py\", line 2567, in _on_finish\n",
      "    self._footer_file_pusher_status_info(\n",
      "  File \"/Library/Frameworks/Python.framework/Versions/3.10/lib/python3.10/site-packages/wandb/sdk/wandb_run.py\", line 3749, in _footer_file_pusher_status_info\n",
      "    Run._footer_single_run_file_pusher_status_info(\n",
      "  File \"/Library/Frameworks/Python.framework/Versions/3.10/lib/python3.10/site-packages/wandb/sdk/wandb_run.py\", line 3802, in _footer_single_run_file_pusher_status_info\n",
      "    printer.progress_close()\n",
      "  File \"/Library/Frameworks/Python.framework/Versions/3.10/lib/python3.10/site-packages/wandb/sdk/lib/printer.py\", line 292, in progress_close\n",
      "    self._progress.close()\n",
      "  File \"/Library/Frameworks/Python.framework/Versions/3.10/lib/python3.10/site-packages/wandb/sdk/lib/ipython.py\", line 128, in close\n",
      "    self._widget.close()\n",
      "  File \"/Users/lucasericsson/Library/Python/3.10/lib/python/site-packages/ipywidgets/widgets/widget.py\", line 500, in close\n",
      "    self.comm.close()\n",
      "  File \"/Users/lucasericsson/Library/Python/3.10/lib/python/site-packages/comm/base_comm.py\", line 109, in close\n",
      "    comm.get_comm_manager().unregister_comm(self)\n",
      "  File \"/Users/lucasericsson/Library/Python/3.10/lib/python/site-packages/comm/base_comm.py\", line 199, in unregister_comm\n",
      "    comm = self.comms.pop(comm.comm_id)\n",
      "KeyError: 'ce7cb8d058e340d283c11214c70c17aa'\n",
      "\u001b[34m\u001b[1mwandb\u001b[0m: Agent Starting Run: ju6wgbyt with config:\n",
      "\u001b[34m\u001b[1mwandb\u001b[0m: \tepochs: 5\n",
      "\u001b[34m\u001b[1mwandb\u001b[0m: \thidden_units: 20\n",
      "\u001b[34m\u001b[1mwandb\u001b[0m: \tk: 2\n",
      "\u001b[34m\u001b[1mwandb\u001b[0m: \tminibatch: 100\n",
      "Failed to detect the name of this notebook, you can set it manually with the WANDB_NOTEBOOK_NAME environment variable to enable code saving.\n",
      "\u001b[34m\u001b[1mwandb\u001b[0m: \u001b[33mWARNING\u001b[0m Ignored wandb.init() arg project when running a sweep.\n"
     ]
    },
    {
     "data": {
      "text/html": [
       "Tracking run with wandb version 0.16.6"
      ],
      "text/plain": [
       "<IPython.core.display.HTML object>"
      ]
     },
     "metadata": {},
     "output_type": "display_data"
    },
    {
     "data": {
      "text/html": [
       "Run data is saved locally in <code>/Users/lucasericsson/repos/restricted-boltzmann-machine/wandb/run-20240409_025325-ju6wgbyt</code>"
      ],
      "text/plain": [
       "<IPython.core.display.HTML object>"
      ]
     },
     "metadata": {},
     "output_type": "display_data"
    },
    {
     "data": {
      "text/html": [
       "Syncing run <strong><a href='https://wandb.ai/lucasericsson222/restricted_boltzmann_machine_sweep/runs/ju6wgbyt' target=\"_blank\">skilled-sweep-87</a></strong> to <a href='https://wandb.ai/lucasericsson222/restricted_boltzmann_machine_sweep' target=\"_blank\">Weights & Biases</a> (<a href='https://wandb.me/run' target=\"_blank\">docs</a>)<br/>Sweep page: <a href='https://wandb.ai/lucasericsson222/restricted_boltzmann_machine_sweep/sweeps/r1b5058x' target=\"_blank\">https://wandb.ai/lucasericsson222/restricted_boltzmann_machine_sweep/sweeps/r1b5058x</a>"
      ],
      "text/plain": [
       "<IPython.core.display.HTML object>"
      ]
     },
     "metadata": {},
     "output_type": "display_data"
    },
    {
     "data": {
      "text/html": [
       " View project at <a href='https://wandb.ai/lucasericsson222/restricted_boltzmann_machine_sweep' target=\"_blank\">https://wandb.ai/lucasericsson222/restricted_boltzmann_machine_sweep</a>"
      ],
      "text/plain": [
       "<IPython.core.display.HTML object>"
      ]
     },
     "metadata": {},
     "output_type": "display_data"
    },
    {
     "data": {
      "text/html": [
       " View sweep at <a href='https://wandb.ai/lucasericsson222/restricted_boltzmann_machine_sweep/sweeps/r1b5058x' target=\"_blank\">https://wandb.ai/lucasericsson222/restricted_boltzmann_machine_sweep/sweeps/r1b5058x</a>"
      ],
      "text/plain": [
       "<IPython.core.display.HTML object>"
      ]
     },
     "metadata": {},
     "output_type": "display_data"
    },
    {
     "data": {
      "text/html": [
       " View run at <a href='https://wandb.ai/lucasericsson222/restricted_boltzmann_machine_sweep/runs/ju6wgbyt' target=\"_blank\">https://wandb.ai/lucasericsson222/restricted_boltzmann_machine_sweep/runs/ju6wgbyt</a>"
      ],
      "text/plain": [
       "<IPython.core.display.HTML object>"
      ]
     },
     "metadata": {},
     "output_type": "display_data"
    },
    {
     "name": "stdout",
     "output_type": "stream",
     "text": [
      "(60000, 784)\n",
      "Epoch: 0\n",
      "current_weight_diff: 50.654638632674235\n",
      "sqrd_recon_error: 3.263469387755102\n",
      "Epoch: 1\n",
      "current_weight_diff: 1.0641158575120897\n",
      "sqrd_recon_error: 1.7090943877551021\n",
      "Epoch: 2\n",
      "current_weight_diff: 0.23167087784807383\n",
      "sqrd_recon_error: 1.1215816326530612\n",
      "Epoch: 3\n",
      "current_weight_diff: 0.21482803819433038\n",
      "sqrd_recon_error: 0.8317984693877551\n",
      "Epoch: 4\n",
      "current_weight_diff: 0.2597000570090216\n",
      "sqrd_recon_error: 0.6915688775510205\n"
     ]
    },
    {
     "data": {
      "application/vnd.jupyter.widget-view+json": {
       "model_id": "d28b29133e0b44e5aaa88e83b9423f51",
       "version_major": 2,
       "version_minor": 0
      },
      "text/plain": [
       "VBox(children=(Label(value='0.001 MB of 0.001 MB uploaded\\r'), FloatProgress(value=1.0, max=1.0)))"
      ]
     },
     "metadata": {},
     "output_type": "display_data"
    },
    {
     "name": "stderr",
     "output_type": "stream",
     "text": [
      "\u001b[34m\u001b[1mwandb\u001b[0m: \u001b[32m\u001b[41mERROR\u001b[0m Problem finishing run\n",
      "Traceback (most recent call last):\n",
      "  File \"/Library/Frameworks/Python.framework/Versions/3.10/lib/python3.10/site-packages/wandb/sdk/wandb_run.py\", line 2313, in _atexit_cleanup\n",
      "    self._on_finish()\n",
      "  File \"/Library/Frameworks/Python.framework/Versions/3.10/lib/python3.10/site-packages/wandb/sdk/wandb_run.py\", line 2567, in _on_finish\n",
      "    self._footer_file_pusher_status_info(\n",
      "  File \"/Library/Frameworks/Python.framework/Versions/3.10/lib/python3.10/site-packages/wandb/sdk/wandb_run.py\", line 3749, in _footer_file_pusher_status_info\n",
      "    Run._footer_single_run_file_pusher_status_info(\n",
      "  File \"/Library/Frameworks/Python.framework/Versions/3.10/lib/python3.10/site-packages/wandb/sdk/wandb_run.py\", line 3802, in _footer_single_run_file_pusher_status_info\n",
      "    printer.progress_close()\n",
      "  File \"/Library/Frameworks/Python.framework/Versions/3.10/lib/python3.10/site-packages/wandb/sdk/lib/printer.py\", line 292, in progress_close\n",
      "    self._progress.close()\n",
      "  File \"/Library/Frameworks/Python.framework/Versions/3.10/lib/python3.10/site-packages/wandb/sdk/lib/ipython.py\", line 128, in close\n",
      "    self._widget.close()\n",
      "  File \"/Users/lucasericsson/Library/Python/3.10/lib/python/site-packages/ipywidgets/widgets/widget.py\", line 500, in close\n",
      "    self.comm.close()\n",
      "  File \"/Users/lucasericsson/Library/Python/3.10/lib/python/site-packages/comm/base_comm.py\", line 109, in close\n",
      "    comm.get_comm_manager().unregister_comm(self)\n",
      "  File \"/Users/lucasericsson/Library/Python/3.10/lib/python/site-packages/comm/base_comm.py\", line 199, in unregister_comm\n",
      "    comm = self.comms.pop(comm.comm_id)\n",
      "KeyError: 'd28b29133e0b44e5aaa88e83b9423f51'\n",
      "\u001b[34m\u001b[1mwandb\u001b[0m: Sweep Agent: Waiting for job.\n",
      "\u001b[34m\u001b[1mwandb\u001b[0m: Job received.\n",
      "\u001b[34m\u001b[1mwandb\u001b[0m: Agent Starting Run: 3sqy9eex with config:\n",
      "\u001b[34m\u001b[1mwandb\u001b[0m: \tepochs: 5\n",
      "\u001b[34m\u001b[1mwandb\u001b[0m: \thidden_units: 10\n",
      "\u001b[34m\u001b[1mwandb\u001b[0m: \tk: 20\n",
      "\u001b[34m\u001b[1mwandb\u001b[0m: \tminibatch: 100\n",
      "Failed to detect the name of this notebook, you can set it manually with the WANDB_NOTEBOOK_NAME environment variable to enable code saving.\n",
      "\u001b[34m\u001b[1mwandb\u001b[0m: \u001b[33mWARNING\u001b[0m Ignored wandb.init() arg project when running a sweep.\n"
     ]
    },
    {
     "data": {
      "text/html": [
       "Tracking run with wandb version 0.16.6"
      ],
      "text/plain": [
       "<IPython.core.display.HTML object>"
      ]
     },
     "metadata": {},
     "output_type": "display_data"
    },
    {
     "data": {
      "text/html": [
       "Run data is saved locally in <code>/Users/lucasericsson/repos/restricted-boltzmann-machine/wandb/run-20240409_025346-3sqy9eex</code>"
      ],
      "text/plain": [
       "<IPython.core.display.HTML object>"
      ]
     },
     "metadata": {},
     "output_type": "display_data"
    },
    {
     "data": {
      "text/html": [
       "Syncing run <strong><a href='https://wandb.ai/lucasericsson222/restricted_boltzmann_machine_sweep/runs/3sqy9eex' target=\"_blank\">peachy-sweep-88</a></strong> to <a href='https://wandb.ai/lucasericsson222/restricted_boltzmann_machine_sweep' target=\"_blank\">Weights & Biases</a> (<a href='https://wandb.me/run' target=\"_blank\">docs</a>)<br/>Sweep page: <a href='https://wandb.ai/lucasericsson222/restricted_boltzmann_machine_sweep/sweeps/r1b5058x' target=\"_blank\">https://wandb.ai/lucasericsson222/restricted_boltzmann_machine_sweep/sweeps/r1b5058x</a>"
      ],
      "text/plain": [
       "<IPython.core.display.HTML object>"
      ]
     },
     "metadata": {},
     "output_type": "display_data"
    },
    {
     "data": {
      "text/html": [
       " View project at <a href='https://wandb.ai/lucasericsson222/restricted_boltzmann_machine_sweep' target=\"_blank\">https://wandb.ai/lucasericsson222/restricted_boltzmann_machine_sweep</a>"
      ],
      "text/plain": [
       "<IPython.core.display.HTML object>"
      ]
     },
     "metadata": {},
     "output_type": "display_data"
    },
    {
     "data": {
      "text/html": [
       " View sweep at <a href='https://wandb.ai/lucasericsson222/restricted_boltzmann_machine_sweep/sweeps/r1b5058x' target=\"_blank\">https://wandb.ai/lucasericsson222/restricted_boltzmann_machine_sweep/sweeps/r1b5058x</a>"
      ],
      "text/plain": [
       "<IPython.core.display.HTML object>"
      ]
     },
     "metadata": {},
     "output_type": "display_data"
    },
    {
     "data": {
      "text/html": [
       " View run at <a href='https://wandb.ai/lucasericsson222/restricted_boltzmann_machine_sweep/runs/3sqy9eex' target=\"_blank\">https://wandb.ai/lucasericsson222/restricted_boltzmann_machine_sweep/runs/3sqy9eex</a>"
      ],
      "text/plain": [
       "<IPython.core.display.HTML object>"
      ]
     },
     "metadata": {},
     "output_type": "display_data"
    },
    {
     "name": "stdout",
     "output_type": "stream",
     "text": [
      "(60000, 784)\n",
      "Epoch: 0\n",
      "current_weight_diff: 100.55665320124216\n",
      "sqrd_recon_error: 6.515803571428571\n",
      "Epoch: 1\n",
      "current_weight_diff: 1.0692746767343053\n",
      "sqrd_recon_error: 3.323992346938775\n",
      "Epoch: 2\n",
      "current_weight_diff: 0.3275905958878123\n",
      "sqrd_recon_error: 1.901887755102041\n",
      "Epoch: 3\n",
      "current_weight_diff: 0.12173488441657626\n",
      "sqrd_recon_error: 1.478673469387755\n",
      "Epoch: 4\n",
      "current_weight_diff: 0.1587536651567277\n",
      "sqrd_recon_error: 0.8477551020408163\n"
     ]
    },
    {
     "data": {
      "application/vnd.jupyter.widget-view+json": {
       "model_id": "c5af2729b04e4c09929c134ff7587d17",
       "version_major": 2,
       "version_minor": 0
      },
      "text/plain": [
       "VBox(children=(Label(value='0.001 MB of 0.001 MB uploaded\\r'), FloatProgress(value=1.0, max=1.0)))"
      ]
     },
     "metadata": {},
     "output_type": "display_data"
    },
    {
     "name": "stderr",
     "output_type": "stream",
     "text": [
      "\u001b[34m\u001b[1mwandb\u001b[0m: \u001b[32m\u001b[41mERROR\u001b[0m Problem finishing run\n",
      "Traceback (most recent call last):\n",
      "  File \"/Library/Frameworks/Python.framework/Versions/3.10/lib/python3.10/site-packages/wandb/sdk/wandb_run.py\", line 2313, in _atexit_cleanup\n",
      "    self._on_finish()\n",
      "  File \"/Library/Frameworks/Python.framework/Versions/3.10/lib/python3.10/site-packages/wandb/sdk/wandb_run.py\", line 2567, in _on_finish\n",
      "    self._footer_file_pusher_status_info(\n",
      "  File \"/Library/Frameworks/Python.framework/Versions/3.10/lib/python3.10/site-packages/wandb/sdk/wandb_run.py\", line 3749, in _footer_file_pusher_status_info\n",
      "    Run._footer_single_run_file_pusher_status_info(\n",
      "  File \"/Library/Frameworks/Python.framework/Versions/3.10/lib/python3.10/site-packages/wandb/sdk/wandb_run.py\", line 3802, in _footer_single_run_file_pusher_status_info\n",
      "    printer.progress_close()\n",
      "  File \"/Library/Frameworks/Python.framework/Versions/3.10/lib/python3.10/site-packages/wandb/sdk/lib/printer.py\", line 292, in progress_close\n",
      "    self._progress.close()\n",
      "  File \"/Library/Frameworks/Python.framework/Versions/3.10/lib/python3.10/site-packages/wandb/sdk/lib/ipython.py\", line 128, in close\n",
      "    self._widget.close()\n",
      "  File \"/Users/lucasericsson/Library/Python/3.10/lib/python/site-packages/ipywidgets/widgets/widget.py\", line 500, in close\n",
      "    self.comm.close()\n",
      "  File \"/Users/lucasericsson/Library/Python/3.10/lib/python/site-packages/comm/base_comm.py\", line 109, in close\n",
      "    comm.get_comm_manager().unregister_comm(self)\n",
      "  File \"/Users/lucasericsson/Library/Python/3.10/lib/python/site-packages/comm/base_comm.py\", line 199, in unregister_comm\n",
      "    comm = self.comms.pop(comm.comm_id)\n",
      "KeyError: 'c5af2729b04e4c09929c134ff7587d17'\n",
      "\u001b[34m\u001b[1mwandb\u001b[0m: Agent Starting Run: cokrdhlj with config:\n",
      "\u001b[34m\u001b[1mwandb\u001b[0m: \tepochs: 2\n",
      "\u001b[34m\u001b[1mwandb\u001b[0m: \thidden_units: 50\n",
      "\u001b[34m\u001b[1mwandb\u001b[0m: \tk: 20\n",
      "\u001b[34m\u001b[1mwandb\u001b[0m: \tminibatch: 200\n",
      "Failed to detect the name of this notebook, you can set it manually with the WANDB_NOTEBOOK_NAME environment variable to enable code saving.\n",
      "\u001b[34m\u001b[1mwandb\u001b[0m: \u001b[33mWARNING\u001b[0m Ignored wandb.init() arg project when running a sweep.\n"
     ]
    },
    {
     "data": {
      "text/html": [
       "Tracking run with wandb version 0.16.6"
      ],
      "text/plain": [
       "<IPython.core.display.HTML object>"
      ]
     },
     "metadata": {},
     "output_type": "display_data"
    },
    {
     "data": {
      "text/html": [
       "Run data is saved locally in <code>/Users/lucasericsson/repos/restricted-boltzmann-machine/wandb/run-20240409_025427-cokrdhlj</code>"
      ],
      "text/plain": [
       "<IPython.core.display.HTML object>"
      ]
     },
     "metadata": {},
     "output_type": "display_data"
    },
    {
     "data": {
      "text/html": [
       "Syncing run <strong><a href='https://wandb.ai/lucasericsson222/restricted_boltzmann_machine_sweep/runs/cokrdhlj' target=\"_blank\">fanciful-sweep-89</a></strong> to <a href='https://wandb.ai/lucasericsson222/restricted_boltzmann_machine_sweep' target=\"_blank\">Weights & Biases</a> (<a href='https://wandb.me/run' target=\"_blank\">docs</a>)<br/>Sweep page: <a href='https://wandb.ai/lucasericsson222/restricted_boltzmann_machine_sweep/sweeps/r1b5058x' target=\"_blank\">https://wandb.ai/lucasericsson222/restricted_boltzmann_machine_sweep/sweeps/r1b5058x</a>"
      ],
      "text/plain": [
       "<IPython.core.display.HTML object>"
      ]
     },
     "metadata": {},
     "output_type": "display_data"
    },
    {
     "data": {
      "text/html": [
       " View project at <a href='https://wandb.ai/lucasericsson222/restricted_boltzmann_machine_sweep' target=\"_blank\">https://wandb.ai/lucasericsson222/restricted_boltzmann_machine_sweep</a>"
      ],
      "text/plain": [
       "<IPython.core.display.HTML object>"
      ]
     },
     "metadata": {},
     "output_type": "display_data"
    },
    {
     "data": {
      "text/html": [
       " View sweep at <a href='https://wandb.ai/lucasericsson222/restricted_boltzmann_machine_sweep/sweeps/r1b5058x' target=\"_blank\">https://wandb.ai/lucasericsson222/restricted_boltzmann_machine_sweep/sweeps/r1b5058x</a>"
      ],
      "text/plain": [
       "<IPython.core.display.HTML object>"
      ]
     },
     "metadata": {},
     "output_type": "display_data"
    },
    {
     "data": {
      "text/html": [
       " View run at <a href='https://wandb.ai/lucasericsson222/restricted_boltzmann_machine_sweep/runs/cokrdhlj' target=\"_blank\">https://wandb.ai/lucasericsson222/restricted_boltzmann_machine_sweep/runs/cokrdhlj</a>"
      ],
      "text/plain": [
       "<IPython.core.display.HTML object>"
      ]
     },
     "metadata": {},
     "output_type": "display_data"
    },
    {
     "name": "stdout",
     "output_type": "stream",
     "text": [
      "(60000, 784)\n",
      "Epoch: 0\n",
      "current_weight_diff: 60.0222365265812\n",
      "sqrd_recon_error: 6.08140943877551\n",
      "Epoch: 1\n",
      "current_weight_diff: 0.4528003187581405\n",
      "sqrd_recon_error: 3.537155612244898\n"
     ]
    },
    {
     "data": {
      "application/vnd.jupyter.widget-view+json": {
       "model_id": "fbb3cac7cf52496fa54351b672c024a5",
       "version_major": 2,
       "version_minor": 0
      },
      "text/plain": [
       "VBox(children=(Label(value='0.001 MB of 0.004 MB uploaded\\r'), FloatProgress(value=0.2723370002683123, max=1.0…"
      ]
     },
     "metadata": {},
     "output_type": "display_data"
    },
    {
     "name": "stderr",
     "output_type": "stream",
     "text": [
      "\u001b[34m\u001b[1mwandb\u001b[0m: \u001b[32m\u001b[41mERROR\u001b[0m Problem finishing run\n",
      "Traceback (most recent call last):\n",
      "  File \"/Library/Frameworks/Python.framework/Versions/3.10/lib/python3.10/site-packages/wandb/sdk/wandb_run.py\", line 2313, in _atexit_cleanup\n",
      "    self._on_finish()\n",
      "  File \"/Library/Frameworks/Python.framework/Versions/3.10/lib/python3.10/site-packages/wandb/sdk/wandb_run.py\", line 2567, in _on_finish\n",
      "    self._footer_file_pusher_status_info(\n",
      "  File \"/Library/Frameworks/Python.framework/Versions/3.10/lib/python3.10/site-packages/wandb/sdk/wandb_run.py\", line 3749, in _footer_file_pusher_status_info\n",
      "    Run._footer_single_run_file_pusher_status_info(\n",
      "  File \"/Library/Frameworks/Python.framework/Versions/3.10/lib/python3.10/site-packages/wandb/sdk/wandb_run.py\", line 3802, in _footer_single_run_file_pusher_status_info\n",
      "    printer.progress_close()\n",
      "  File \"/Library/Frameworks/Python.framework/Versions/3.10/lib/python3.10/site-packages/wandb/sdk/lib/printer.py\", line 292, in progress_close\n",
      "    self._progress.close()\n",
      "  File \"/Library/Frameworks/Python.framework/Versions/3.10/lib/python3.10/site-packages/wandb/sdk/lib/ipython.py\", line 128, in close\n",
      "    self._widget.close()\n",
      "  File \"/Users/lucasericsson/Library/Python/3.10/lib/python/site-packages/ipywidgets/widgets/widget.py\", line 500, in close\n",
      "    self.comm.close()\n",
      "  File \"/Users/lucasericsson/Library/Python/3.10/lib/python/site-packages/comm/base_comm.py\", line 109, in close\n",
      "    comm.get_comm_manager().unregister_comm(self)\n",
      "  File \"/Users/lucasericsson/Library/Python/3.10/lib/python/site-packages/comm/base_comm.py\", line 199, in unregister_comm\n",
      "    comm = self.comms.pop(comm.comm_id)\n",
      "KeyError: 'fbb3cac7cf52496fa54351b672c024a5'\n",
      "\u001b[34m\u001b[1mwandb\u001b[0m: Agent Starting Run: glz5iehp with config:\n",
      "\u001b[34m\u001b[1mwandb\u001b[0m: \tepochs: 2\n",
      "\u001b[34m\u001b[1mwandb\u001b[0m: \thidden_units: 784\n",
      "\u001b[34m\u001b[1mwandb\u001b[0m: \tk: 3\n",
      "\u001b[34m\u001b[1mwandb\u001b[0m: \tminibatch: 150\n",
      "Failed to detect the name of this notebook, you can set it manually with the WANDB_NOTEBOOK_NAME environment variable to enable code saving.\n",
      "\u001b[34m\u001b[1mwandb\u001b[0m: \u001b[33mWARNING\u001b[0m Ignored wandb.init() arg project when running a sweep.\n"
     ]
    },
    {
     "data": {
      "text/html": [
       "Tracking run with wandb version 0.16.6"
      ],
      "text/plain": [
       "<IPython.core.display.HTML object>"
      ]
     },
     "metadata": {},
     "output_type": "display_data"
    },
    {
     "data": {
      "text/html": [
       "Run data is saved locally in <code>/Users/lucasericsson/repos/restricted-boltzmann-machine/wandb/run-20240409_025503-glz5iehp</code>"
      ],
      "text/plain": [
       "<IPython.core.display.HTML object>"
      ]
     },
     "metadata": {},
     "output_type": "display_data"
    },
    {
     "data": {
      "text/html": [
       "Syncing run <strong><a href='https://wandb.ai/lucasericsson222/restricted_boltzmann_machine_sweep/runs/glz5iehp' target=\"_blank\">devout-sweep-90</a></strong> to <a href='https://wandb.ai/lucasericsson222/restricted_boltzmann_machine_sweep' target=\"_blank\">Weights & Biases</a> (<a href='https://wandb.me/run' target=\"_blank\">docs</a>)<br/>Sweep page: <a href='https://wandb.ai/lucasericsson222/restricted_boltzmann_machine_sweep/sweeps/r1b5058x' target=\"_blank\">https://wandb.ai/lucasericsson222/restricted_boltzmann_machine_sweep/sweeps/r1b5058x</a>"
      ],
      "text/plain": [
       "<IPython.core.display.HTML object>"
      ]
     },
     "metadata": {},
     "output_type": "display_data"
    },
    {
     "data": {
      "text/html": [
       " View project at <a href='https://wandb.ai/lucasericsson222/restricted_boltzmann_machine_sweep' target=\"_blank\">https://wandb.ai/lucasericsson222/restricted_boltzmann_machine_sweep</a>"
      ],
      "text/plain": [
       "<IPython.core.display.HTML object>"
      ]
     },
     "metadata": {},
     "output_type": "display_data"
    },
    {
     "data": {
      "text/html": [
       " View sweep at <a href='https://wandb.ai/lucasericsson222/restricted_boltzmann_machine_sweep/sweeps/r1b5058x' target=\"_blank\">https://wandb.ai/lucasericsson222/restricted_boltzmann_machine_sweep/sweeps/r1b5058x</a>"
      ],
      "text/plain": [
       "<IPython.core.display.HTML object>"
      ]
     },
     "metadata": {},
     "output_type": "display_data"
    },
    {
     "data": {
      "text/html": [
       " View run at <a href='https://wandb.ai/lucasericsson222/restricted_boltzmann_machine_sweep/runs/glz5iehp' target=\"_blank\">https://wandb.ai/lucasericsson222/restricted_boltzmann_machine_sweep/runs/glz5iehp</a>"
      ],
      "text/plain": [
       "<IPython.core.display.HTML object>"
      ]
     },
     "metadata": {},
     "output_type": "display_data"
    },
    {
     "name": "stdout",
     "output_type": "stream",
     "text": [
      "(60000, 784)\n",
      "Epoch: 0\n",
      "current_weight_diff: 23.706046887629977\n",
      "sqrd_recon_error: 0.4013520408163265\n",
      "Epoch: 1\n",
      "current_weight_diff: 2.2292723192378654\n",
      "sqrd_recon_error: 0.3784863945578231\n"
     ]
    },
    {
     "data": {
      "application/vnd.jupyter.widget-view+json": {
       "model_id": "ed8dc73e11ab4aca90b1f9cae888a13f",
       "version_major": 2,
       "version_minor": 0
      },
      "text/plain": [
       "VBox(children=(Label(value='0.001 MB of 0.001 MB uploaded\\r'), FloatProgress(value=1.0, max=1.0)))"
      ]
     },
     "metadata": {},
     "output_type": "display_data"
    },
    {
     "name": "stderr",
     "output_type": "stream",
     "text": [
      "\u001b[34m\u001b[1mwandb\u001b[0m: \u001b[32m\u001b[41mERROR\u001b[0m Problem finishing run\n",
      "Traceback (most recent call last):\n",
      "  File \"/Library/Frameworks/Python.framework/Versions/3.10/lib/python3.10/site-packages/wandb/sdk/wandb_run.py\", line 2313, in _atexit_cleanup\n",
      "    self._on_finish()\n",
      "  File \"/Library/Frameworks/Python.framework/Versions/3.10/lib/python3.10/site-packages/wandb/sdk/wandb_run.py\", line 2567, in _on_finish\n",
      "    self._footer_file_pusher_status_info(\n",
      "  File \"/Library/Frameworks/Python.framework/Versions/3.10/lib/python3.10/site-packages/wandb/sdk/wandb_run.py\", line 3749, in _footer_file_pusher_status_info\n",
      "    Run._footer_single_run_file_pusher_status_info(\n",
      "  File \"/Library/Frameworks/Python.framework/Versions/3.10/lib/python3.10/site-packages/wandb/sdk/wandb_run.py\", line 3802, in _footer_single_run_file_pusher_status_info\n",
      "    printer.progress_close()\n",
      "  File \"/Library/Frameworks/Python.framework/Versions/3.10/lib/python3.10/site-packages/wandb/sdk/lib/printer.py\", line 292, in progress_close\n",
      "    self._progress.close()\n",
      "  File \"/Library/Frameworks/Python.framework/Versions/3.10/lib/python3.10/site-packages/wandb/sdk/lib/ipython.py\", line 128, in close\n",
      "    self._widget.close()\n",
      "  File \"/Users/lucasericsson/Library/Python/3.10/lib/python/site-packages/ipywidgets/widgets/widget.py\", line 500, in close\n",
      "    self.comm.close()\n",
      "  File \"/Users/lucasericsson/Library/Python/3.10/lib/python/site-packages/comm/base_comm.py\", line 109, in close\n",
      "    comm.get_comm_manager().unregister_comm(self)\n",
      "  File \"/Users/lucasericsson/Library/Python/3.10/lib/python/site-packages/comm/base_comm.py\", line 199, in unregister_comm\n",
      "    comm = self.comms.pop(comm.comm_id)\n",
      "KeyError: 'ed8dc73e11ab4aca90b1f9cae888a13f'\n",
      "\u001b[34m\u001b[1mwandb\u001b[0m: Agent Starting Run: 7cyjnuq8 with config:\n",
      "\u001b[34m\u001b[1mwandb\u001b[0m: \tepochs: 1\n",
      "\u001b[34m\u001b[1mwandb\u001b[0m: \thidden_units: 50\n",
      "\u001b[34m\u001b[1mwandb\u001b[0m: \tk: 5\n",
      "\u001b[34m\u001b[1mwandb\u001b[0m: \tminibatch: 150\n",
      "Failed to detect the name of this notebook, you can set it manually with the WANDB_NOTEBOOK_NAME environment variable to enable code saving.\n",
      "\u001b[34m\u001b[1mwandb\u001b[0m: \u001b[33mWARNING\u001b[0m Ignored wandb.init() arg project when running a sweep.\n"
     ]
    },
    {
     "data": {
      "text/html": [
       "Tracking run with wandb version 0.16.6"
      ],
      "text/plain": [
       "<IPython.core.display.HTML object>"
      ]
     },
     "metadata": {},
     "output_type": "display_data"
    },
    {
     "data": {
      "text/html": [
       "Run data is saved locally in <code>/Users/lucasericsson/repos/restricted-boltzmann-machine/wandb/run-20240409_025548-7cyjnuq8</code>"
      ],
      "text/plain": [
       "<IPython.core.display.HTML object>"
      ]
     },
     "metadata": {},
     "output_type": "display_data"
    },
    {
     "data": {
      "text/html": [
       "Syncing run <strong><a href='https://wandb.ai/lucasericsson222/restricted_boltzmann_machine_sweep/runs/7cyjnuq8' target=\"_blank\">valiant-sweep-91</a></strong> to <a href='https://wandb.ai/lucasericsson222/restricted_boltzmann_machine_sweep' target=\"_blank\">Weights & Biases</a> (<a href='https://wandb.me/run' target=\"_blank\">docs</a>)<br/>Sweep page: <a href='https://wandb.ai/lucasericsson222/restricted_boltzmann_machine_sweep/sweeps/r1b5058x' target=\"_blank\">https://wandb.ai/lucasericsson222/restricted_boltzmann_machine_sweep/sweeps/r1b5058x</a>"
      ],
      "text/plain": [
       "<IPython.core.display.HTML object>"
      ]
     },
     "metadata": {},
     "output_type": "display_data"
    },
    {
     "data": {
      "text/html": [
       " View project at <a href='https://wandb.ai/lucasericsson222/restricted_boltzmann_machine_sweep' target=\"_blank\">https://wandb.ai/lucasericsson222/restricted_boltzmann_machine_sweep</a>"
      ],
      "text/plain": [
       "<IPython.core.display.HTML object>"
      ]
     },
     "metadata": {},
     "output_type": "display_data"
    },
    {
     "data": {
      "text/html": [
       " View sweep at <a href='https://wandb.ai/lucasericsson222/restricted_boltzmann_machine_sweep/sweeps/r1b5058x' target=\"_blank\">https://wandb.ai/lucasericsson222/restricted_boltzmann_machine_sweep/sweeps/r1b5058x</a>"
      ],
      "text/plain": [
       "<IPython.core.display.HTML object>"
      ]
     },
     "metadata": {},
     "output_type": "display_data"
    },
    {
     "data": {
      "text/html": [
       " View run at <a href='https://wandb.ai/lucasericsson222/restricted_boltzmann_machine_sweep/runs/7cyjnuq8' target=\"_blank\">https://wandb.ai/lucasericsson222/restricted_boltzmann_machine_sweep/runs/7cyjnuq8</a>"
      ],
      "text/plain": [
       "<IPython.core.display.HTML object>"
      ]
     },
     "metadata": {},
     "output_type": "display_data"
    },
    {
     "name": "stdout",
     "output_type": "stream",
     "text": [
      "(60000, 784)\n",
      "Epoch: 0\n",
      "current_weight_diff: 161.9251764391304\n",
      "sqrd_recon_error: 4.55812925170068\n"
     ]
    },
    {
     "data": {
      "application/vnd.jupyter.widget-view+json": {
       "model_id": "70cd8f7c1181468fb23f8edb86f95f31",
       "version_major": 2,
       "version_minor": 0
      },
      "text/plain": [
       "VBox(children=(Label(value='0.004 MB of 0.004 MB uploaded\\r'), FloatProgress(value=1.0, max=1.0)))"
      ]
     },
     "metadata": {},
     "output_type": "display_data"
    },
    {
     "name": "stderr",
     "output_type": "stream",
     "text": [
      "\u001b[34m\u001b[1mwandb\u001b[0m: \u001b[32m\u001b[41mERROR\u001b[0m Problem finishing run\n",
      "Traceback (most recent call last):\n",
      "  File \"/Library/Frameworks/Python.framework/Versions/3.10/lib/python3.10/site-packages/wandb/sdk/wandb_run.py\", line 2313, in _atexit_cleanup\n",
      "    self._on_finish()\n",
      "  File \"/Library/Frameworks/Python.framework/Versions/3.10/lib/python3.10/site-packages/wandb/sdk/wandb_run.py\", line 2567, in _on_finish\n",
      "    self._footer_file_pusher_status_info(\n",
      "  File \"/Library/Frameworks/Python.framework/Versions/3.10/lib/python3.10/site-packages/wandb/sdk/wandb_run.py\", line 3749, in _footer_file_pusher_status_info\n",
      "    Run._footer_single_run_file_pusher_status_info(\n",
      "  File \"/Library/Frameworks/Python.framework/Versions/3.10/lib/python3.10/site-packages/wandb/sdk/wandb_run.py\", line 3802, in _footer_single_run_file_pusher_status_info\n",
      "    printer.progress_close()\n",
      "  File \"/Library/Frameworks/Python.framework/Versions/3.10/lib/python3.10/site-packages/wandb/sdk/lib/printer.py\", line 292, in progress_close\n",
      "    self._progress.close()\n",
      "  File \"/Library/Frameworks/Python.framework/Versions/3.10/lib/python3.10/site-packages/wandb/sdk/lib/ipython.py\", line 128, in close\n",
      "    self._widget.close()\n",
      "  File \"/Users/lucasericsson/Library/Python/3.10/lib/python/site-packages/ipywidgets/widgets/widget.py\", line 500, in close\n",
      "    self.comm.close()\n",
      "  File \"/Users/lucasericsson/Library/Python/3.10/lib/python/site-packages/comm/base_comm.py\", line 109, in close\n",
      "    comm.get_comm_manager().unregister_comm(self)\n",
      "  File \"/Users/lucasericsson/Library/Python/3.10/lib/python/site-packages/comm/base_comm.py\", line 199, in unregister_comm\n",
      "    comm = self.comms.pop(comm.comm_id)\n",
      "KeyError: '70cd8f7c1181468fb23f8edb86f95f31'\n",
      "\u001b[34m\u001b[1mwandb\u001b[0m: Agent Starting Run: p5k0hvlp with config:\n",
      "\u001b[34m\u001b[1mwandb\u001b[0m: \tepochs: 3\n",
      "\u001b[34m\u001b[1mwandb\u001b[0m: \thidden_units: 50\n",
      "\u001b[34m\u001b[1mwandb\u001b[0m: \tk: 3\n",
      "\u001b[34m\u001b[1mwandb\u001b[0m: \tminibatch: 200\n",
      "Failed to detect the name of this notebook, you can set it manually with the WANDB_NOTEBOOK_NAME environment variable to enable code saving.\n",
      "\u001b[34m\u001b[1mwandb\u001b[0m: \u001b[33mWARNING\u001b[0m Ignored wandb.init() arg project when running a sweep.\n"
     ]
    },
    {
     "data": {
      "text/html": [
       "Tracking run with wandb version 0.16.6"
      ],
      "text/plain": [
       "<IPython.core.display.HTML object>"
      ]
     },
     "metadata": {},
     "output_type": "display_data"
    },
    {
     "data": {
      "text/html": [
       "Run data is saved locally in <code>/Users/lucasericsson/repos/restricted-boltzmann-machine/wandb/run-20240409_025559-p5k0hvlp</code>"
      ],
      "text/plain": [
       "<IPython.core.display.HTML object>"
      ]
     },
     "metadata": {},
     "output_type": "display_data"
    },
    {
     "data": {
      "text/html": [
       "Syncing run <strong><a href='https://wandb.ai/lucasericsson222/restricted_boltzmann_machine_sweep/runs/p5k0hvlp' target=\"_blank\">expert-sweep-92</a></strong> to <a href='https://wandb.ai/lucasericsson222/restricted_boltzmann_machine_sweep' target=\"_blank\">Weights & Biases</a> (<a href='https://wandb.me/run' target=\"_blank\">docs</a>)<br/>Sweep page: <a href='https://wandb.ai/lucasericsson222/restricted_boltzmann_machine_sweep/sweeps/r1b5058x' target=\"_blank\">https://wandb.ai/lucasericsson222/restricted_boltzmann_machine_sweep/sweeps/r1b5058x</a>"
      ],
      "text/plain": [
       "<IPython.core.display.HTML object>"
      ]
     },
     "metadata": {},
     "output_type": "display_data"
    },
    {
     "data": {
      "text/html": [
       " View project at <a href='https://wandb.ai/lucasericsson222/restricted_boltzmann_machine_sweep' target=\"_blank\">https://wandb.ai/lucasericsson222/restricted_boltzmann_machine_sweep</a>"
      ],
      "text/plain": [
       "<IPython.core.display.HTML object>"
      ]
     },
     "metadata": {},
     "output_type": "display_data"
    },
    {
     "data": {
      "text/html": [
       " View sweep at <a href='https://wandb.ai/lucasericsson222/restricted_boltzmann_machine_sweep/sweeps/r1b5058x' target=\"_blank\">https://wandb.ai/lucasericsson222/restricted_boltzmann_machine_sweep/sweeps/r1b5058x</a>"
      ],
      "text/plain": [
       "<IPython.core.display.HTML object>"
      ]
     },
     "metadata": {},
     "output_type": "display_data"
    },
    {
     "data": {
      "text/html": [
       " View run at <a href='https://wandb.ai/lucasericsson222/restricted_boltzmann_machine_sweep/runs/p5k0hvlp' target=\"_blank\">https://wandb.ai/lucasericsson222/restricted_boltzmann_machine_sweep/runs/p5k0hvlp</a>"
      ],
      "text/plain": [
       "<IPython.core.display.HTML object>"
      ]
     },
     "metadata": {},
     "output_type": "display_data"
    },
    {
     "name": "stdout",
     "output_type": "stream",
     "text": [
      "(60000, 784)\n",
      "Epoch: 0\n",
      "current_weight_diff: 51.1477476257786\n",
      "sqrd_recon_error: 6.176147959183673\n",
      "Epoch: 1\n",
      "current_weight_diff: 0.4005458787645851\n",
      "sqrd_recon_error: 4.206702806122449\n",
      "Epoch: 2\n",
      "current_weight_diff: 1.1114824889563635\n",
      "sqrd_recon_error: 3.089859693877551\n"
     ]
    },
    {
     "data": {
      "application/vnd.jupyter.widget-view+json": {
       "model_id": "08822781425a40929b25b7c0426f2eee",
       "version_major": 2,
       "version_minor": 0
      },
      "text/plain": [
       "VBox(children=(Label(value='0.001 MB of 0.001 MB uploaded\\r'), FloatProgress(value=1.0, max=1.0)))"
      ]
     },
     "metadata": {},
     "output_type": "display_data"
    },
    {
     "name": "stderr",
     "output_type": "stream",
     "text": [
      "\u001b[34m\u001b[1mwandb\u001b[0m: \u001b[32m\u001b[41mERROR\u001b[0m Problem finishing run\n",
      "Traceback (most recent call last):\n",
      "  File \"/Library/Frameworks/Python.framework/Versions/3.10/lib/python3.10/site-packages/wandb/sdk/wandb_run.py\", line 2313, in _atexit_cleanup\n",
      "    self._on_finish()\n",
      "  File \"/Library/Frameworks/Python.framework/Versions/3.10/lib/python3.10/site-packages/wandb/sdk/wandb_run.py\", line 2567, in _on_finish\n",
      "    self._footer_file_pusher_status_info(\n",
      "  File \"/Library/Frameworks/Python.framework/Versions/3.10/lib/python3.10/site-packages/wandb/sdk/wandb_run.py\", line 3749, in _footer_file_pusher_status_info\n",
      "    Run._footer_single_run_file_pusher_status_info(\n",
      "  File \"/Library/Frameworks/Python.framework/Versions/3.10/lib/python3.10/site-packages/wandb/sdk/wandb_run.py\", line 3802, in _footer_single_run_file_pusher_status_info\n",
      "    printer.progress_close()\n",
      "  File \"/Library/Frameworks/Python.framework/Versions/3.10/lib/python3.10/site-packages/wandb/sdk/lib/printer.py\", line 292, in progress_close\n",
      "    self._progress.close()\n",
      "  File \"/Library/Frameworks/Python.framework/Versions/3.10/lib/python3.10/site-packages/wandb/sdk/lib/ipython.py\", line 128, in close\n",
      "    self._widget.close()\n",
      "  File \"/Users/lucasericsson/Library/Python/3.10/lib/python/site-packages/ipywidgets/widgets/widget.py\", line 500, in close\n",
      "    self.comm.close()\n",
      "  File \"/Users/lucasericsson/Library/Python/3.10/lib/python/site-packages/comm/base_comm.py\", line 109, in close\n",
      "    comm.get_comm_manager().unregister_comm(self)\n",
      "  File \"/Users/lucasericsson/Library/Python/3.10/lib/python/site-packages/comm/base_comm.py\", line 199, in unregister_comm\n",
      "    comm = self.comms.pop(comm.comm_id)\n",
      "KeyError: '08822781425a40929b25b7c0426f2eee'\n",
      "\u001b[34m\u001b[1mwandb\u001b[0m: Agent Starting Run: xgw2xbnm with config:\n",
      "\u001b[34m\u001b[1mwandb\u001b[0m: \tepochs: 30\n",
      "\u001b[34m\u001b[1mwandb\u001b[0m: \thidden_units: 784\n",
      "\u001b[34m\u001b[1mwandb\u001b[0m: \tk: 20\n",
      "\u001b[34m\u001b[1mwandb\u001b[0m: \tminibatch: 100\n",
      "Failed to detect the name of this notebook, you can set it manually with the WANDB_NOTEBOOK_NAME environment variable to enable code saving.\n",
      "\u001b[34m\u001b[1mwandb\u001b[0m: \u001b[33mWARNING\u001b[0m Ignored wandb.init() arg project when running a sweep.\n"
     ]
    },
    {
     "data": {
      "text/html": [
       "Tracking run with wandb version 0.16.6"
      ],
      "text/plain": [
       "<IPython.core.display.HTML object>"
      ]
     },
     "metadata": {},
     "output_type": "display_data"
    },
    {
     "data": {
      "text/html": [
       "Run data is saved locally in <code>/Users/lucasericsson/repos/restricted-boltzmann-machine/wandb/run-20240409_025614-xgw2xbnm</code>"
      ],
      "text/plain": [
       "<IPython.core.display.HTML object>"
      ]
     },
     "metadata": {},
     "output_type": "display_data"
    },
    {
     "data": {
      "text/html": [
       "Syncing run <strong><a href='https://wandb.ai/lucasericsson222/restricted_boltzmann_machine_sweep/runs/xgw2xbnm' target=\"_blank\">balmy-sweep-93</a></strong> to <a href='https://wandb.ai/lucasericsson222/restricted_boltzmann_machine_sweep' target=\"_blank\">Weights & Biases</a> (<a href='https://wandb.me/run' target=\"_blank\">docs</a>)<br/>Sweep page: <a href='https://wandb.ai/lucasericsson222/restricted_boltzmann_machine_sweep/sweeps/r1b5058x' target=\"_blank\">https://wandb.ai/lucasericsson222/restricted_boltzmann_machine_sweep/sweeps/r1b5058x</a>"
      ],
      "text/plain": [
       "<IPython.core.display.HTML object>"
      ]
     },
     "metadata": {},
     "output_type": "display_data"
    },
    {
     "data": {
      "text/html": [
       " View project at <a href='https://wandb.ai/lucasericsson222/restricted_boltzmann_machine_sweep' target=\"_blank\">https://wandb.ai/lucasericsson222/restricted_boltzmann_machine_sweep</a>"
      ],
      "text/plain": [
       "<IPython.core.display.HTML object>"
      ]
     },
     "metadata": {},
     "output_type": "display_data"
    },
    {
     "data": {
      "text/html": [
       " View sweep at <a href='https://wandb.ai/lucasericsson222/restricted_boltzmann_machine_sweep/sweeps/r1b5058x' target=\"_blank\">https://wandb.ai/lucasericsson222/restricted_boltzmann_machine_sweep/sweeps/r1b5058x</a>"
      ],
      "text/plain": [
       "<IPython.core.display.HTML object>"
      ]
     },
     "metadata": {},
     "output_type": "display_data"
    },
    {
     "data": {
      "text/html": [
       " View run at <a href='https://wandb.ai/lucasericsson222/restricted_boltzmann_machine_sweep/runs/xgw2xbnm' target=\"_blank\">https://wandb.ai/lucasericsson222/restricted_boltzmann_machine_sweep/runs/xgw2xbnm</a>"
      ],
      "text/plain": [
       "<IPython.core.display.HTML object>"
      ]
     },
     "metadata": {},
     "output_type": "display_data"
    },
    {
     "name": "stdout",
     "output_type": "stream",
     "text": [
      "(60000, 784)\n",
      "Epoch: 0\n",
      "current_weight_diff: 11.428985856852988\n",
      "sqrd_recon_error: 0.2618367346938776\n",
      "Epoch: 1\n",
      "current_weight_diff: 2.807041717256618\n",
      "sqrd_recon_error: 0.9396811224489795\n",
      "Epoch: 2\n",
      "current_weight_diff: 2.6317995388327073\n",
      "sqrd_recon_error: 0.5661224489795919\n",
      "Epoch: 3\n",
      "current_weight_diff: 2.0086242854844913\n",
      "sqrd_recon_error: 0.6850510204081632\n",
      "Epoch: 4\n",
      "current_weight_diff: 0.9465611339452625\n",
      "sqrd_recon_error: 0.8267091836734695\n",
      "Epoch: 5\n",
      "current_weight_diff: 0.8888165449909694\n",
      "sqrd_recon_error: 0.34517857142857145\n",
      "Epoch: 6\n",
      "current_weight_diff: 0.6862564804471036\n",
      "sqrd_recon_error: 0.8518367346938776\n",
      "Epoch: 7\n",
      "current_weight_diff: 0.6205394800851369\n",
      "sqrd_recon_error: 0.7773852040816327\n",
      "Epoch: 8\n",
      "current_weight_diff: 0.6522996919817355\n",
      "sqrd_recon_error: 0.46977040816326526\n",
      "Epoch: 9\n",
      "current_weight_diff: 0.5475082253757916\n",
      "sqrd_recon_error: 0.4400637755102041\n",
      "Epoch: 10\n",
      "current_weight_diff: 0.4588722866747604\n",
      "sqrd_recon_error: 0.25831632653061226\n",
      "Epoch: 11\n",
      "current_weight_diff: 0.39930994733942576\n",
      "sqrd_recon_error: 0.2622704081632653\n",
      "Epoch: 12\n",
      "current_weight_diff: 0.42763700855828835\n",
      "sqrd_recon_error: 0.28770408163265304\n",
      "Epoch: 13\n",
      "current_weight_diff: 0.876297907089094\n",
      "sqrd_recon_error: 0.1999872448979592\n",
      "Epoch: 14\n",
      "current_weight_diff: 0.32130720657019757\n",
      "sqrd_recon_error: 0.17485969387755101\n",
      "Epoch: 15\n",
      "current_weight_diff: 0.28527555584411096\n",
      "sqrd_recon_error: 0.22510204081632654\n",
      "Epoch: 16\n",
      "current_weight_diff: 0.3017085358952377\n",
      "sqrd_recon_error: 0.17880102040816326\n",
      "Epoch: 17\n",
      "current_weight_diff: 0.2848947502208365\n",
      "sqrd_recon_error: 0.19979591836734695\n",
      "Epoch: 18\n",
      "current_weight_diff: 0.2757653892972777\n",
      "sqrd_recon_error: 0.17533163265306123\n",
      "Epoch: 19\n",
      "current_weight_diff: 0.2700712724174667\n",
      "sqrd_recon_error: 0.16424744897959184\n",
      "Epoch: 20\n",
      "current_weight_diff: 0.35255951235420774\n",
      "sqrd_recon_error: 0.21838010204081634\n",
      "Epoch: 21\n",
      "current_weight_diff: 0.29558271668705194\n",
      "sqrd_recon_error: 0.13298469387755102\n",
      "Epoch: 22\n",
      "current_weight_diff: 0.31433785723724333\n",
      "sqrd_recon_error: 0.18214285714285716\n",
      "Epoch: 23\n",
      "current_weight_diff: 0.3113816125069894\n",
      "sqrd_recon_error: 0.12853316326530612\n",
      "Epoch: 24\n",
      "current_weight_diff: 0.3840569104494126\n",
      "sqrd_recon_error: 0.1510331632653061\n",
      "Epoch: 25\n",
      "current_weight_diff: 0.2703380583089778\n",
      "sqrd_recon_error: 0.15672193877551022\n",
      "Epoch: 26\n",
      "current_weight_diff: 0.2127379988407629\n",
      "sqrd_recon_error: 0.16369897959183674\n",
      "Epoch: 27\n",
      "current_weight_diff: 0.2831189365527259\n",
      "sqrd_recon_error: 0.14989795918367346\n",
      "Epoch: 28\n",
      "current_weight_diff: 0.22421151318786892\n",
      "sqrd_recon_error: 0.15073979591836734\n",
      "Epoch: 29\n",
      "current_weight_diff: 0.4796944447660732\n",
      "sqrd_recon_error: 0.19048469387755101\n"
     ]
    },
    {
     "data": {
      "application/vnd.jupyter.widget-view+json": {
       "model_id": "c7da85064ca74a1ea51206356ef0f3f6",
       "version_major": 2,
       "version_minor": 0
      },
      "text/plain": [
       "VBox(children=(Label(value='0.004 MB of 0.006 MB uploaded\\r'), FloatProgress(value=0.6019021739130435, max=1.0…"
      ]
     },
     "metadata": {},
     "output_type": "display_data"
    },
    {
     "name": "stderr",
     "output_type": "stream",
     "text": [
      "\u001b[34m\u001b[1mwandb\u001b[0m: \u001b[32m\u001b[41mERROR\u001b[0m Problem finishing run\n",
      "Traceback (most recent call last):\n",
      "  File \"/Library/Frameworks/Python.framework/Versions/3.10/lib/python3.10/site-packages/wandb/sdk/wandb_run.py\", line 2313, in _atexit_cleanup\n",
      "    self._on_finish()\n",
      "  File \"/Library/Frameworks/Python.framework/Versions/3.10/lib/python3.10/site-packages/wandb/sdk/wandb_run.py\", line 2567, in _on_finish\n",
      "    self._footer_file_pusher_status_info(\n",
      "  File \"/Library/Frameworks/Python.framework/Versions/3.10/lib/python3.10/site-packages/wandb/sdk/wandb_run.py\", line 3749, in _footer_file_pusher_status_info\n",
      "    Run._footer_single_run_file_pusher_status_info(\n",
      "  File \"/Library/Frameworks/Python.framework/Versions/3.10/lib/python3.10/site-packages/wandb/sdk/wandb_run.py\", line 3802, in _footer_single_run_file_pusher_status_info\n",
      "    printer.progress_close()\n",
      "  File \"/Library/Frameworks/Python.framework/Versions/3.10/lib/python3.10/site-packages/wandb/sdk/lib/printer.py\", line 292, in progress_close\n",
      "    self._progress.close()\n",
      "  File \"/Library/Frameworks/Python.framework/Versions/3.10/lib/python3.10/site-packages/wandb/sdk/lib/ipython.py\", line 128, in close\n",
      "    self._widget.close()\n",
      "  File \"/Users/lucasericsson/Library/Python/3.10/lib/python/site-packages/ipywidgets/widgets/widget.py\", line 500, in close\n",
      "    self.comm.close()\n",
      "  File \"/Users/lucasericsson/Library/Python/3.10/lib/python/site-packages/comm/base_comm.py\", line 109, in close\n",
      "    comm.get_comm_manager().unregister_comm(self)\n",
      "  File \"/Users/lucasericsson/Library/Python/3.10/lib/python/site-packages/comm/base_comm.py\", line 199, in unregister_comm\n",
      "    comm = self.comms.pop(comm.comm_id)\n",
      "KeyError: 'c7da85064ca74a1ea51206356ef0f3f6'\n",
      "\u001b[34m\u001b[1mwandb\u001b[0m: Agent Starting Run: a90z33jv with config:\n",
      "\u001b[34m\u001b[1mwandb\u001b[0m: \tepochs: 20\n",
      "\u001b[34m\u001b[1mwandb\u001b[0m: \thidden_units: 200\n",
      "\u001b[34m\u001b[1mwandb\u001b[0m: \tk: 20\n",
      "\u001b[34m\u001b[1mwandb\u001b[0m: \tminibatch: 100\n",
      "Failed to detect the name of this notebook, you can set it manually with the WANDB_NOTEBOOK_NAME environment variable to enable code saving.\n",
      "\u001b[34m\u001b[1mwandb\u001b[0m: \u001b[33mWARNING\u001b[0m Ignored wandb.init() arg project when running a sweep.\n"
     ]
    },
    {
     "data": {
      "text/html": [
       "Tracking run with wandb version 0.16.6"
      ],
      "text/plain": [
       "<IPython.core.display.HTML object>"
      ]
     },
     "metadata": {},
     "output_type": "display_data"
    },
    {
     "data": {
      "text/html": [
       "Run data is saved locally in <code>/Users/lucasericsson/repos/restricted-boltzmann-machine/wandb/run-20240409_035411-a90z33jv</code>"
      ],
      "text/plain": [
       "<IPython.core.display.HTML object>"
      ]
     },
     "metadata": {},
     "output_type": "display_data"
    },
    {
     "data": {
      "text/html": [
       "Syncing run <strong><a href='https://wandb.ai/lucasericsson222/restricted_boltzmann_machine_sweep/runs/a90z33jv' target=\"_blank\">summer-sweep-94</a></strong> to <a href='https://wandb.ai/lucasericsson222/restricted_boltzmann_machine_sweep' target=\"_blank\">Weights & Biases</a> (<a href='https://wandb.me/run' target=\"_blank\">docs</a>)<br/>Sweep page: <a href='https://wandb.ai/lucasericsson222/restricted_boltzmann_machine_sweep/sweeps/r1b5058x' target=\"_blank\">https://wandb.ai/lucasericsson222/restricted_boltzmann_machine_sweep/sweeps/r1b5058x</a>"
      ],
      "text/plain": [
       "<IPython.core.display.HTML object>"
      ]
     },
     "metadata": {},
     "output_type": "display_data"
    },
    {
     "data": {
      "text/html": [
       " View project at <a href='https://wandb.ai/lucasericsson222/restricted_boltzmann_machine_sweep' target=\"_blank\">https://wandb.ai/lucasericsson222/restricted_boltzmann_machine_sweep</a>"
      ],
      "text/plain": [
       "<IPython.core.display.HTML object>"
      ]
     },
     "metadata": {},
     "output_type": "display_data"
    },
    {
     "data": {
      "text/html": [
       " View sweep at <a href='https://wandb.ai/lucasericsson222/restricted_boltzmann_machine_sweep/sweeps/r1b5058x' target=\"_blank\">https://wandb.ai/lucasericsson222/restricted_boltzmann_machine_sweep/sweeps/r1b5058x</a>"
      ],
      "text/plain": [
       "<IPython.core.display.HTML object>"
      ]
     },
     "metadata": {},
     "output_type": "display_data"
    },
    {
     "data": {
      "text/html": [
       " View run at <a href='https://wandb.ai/lucasericsson222/restricted_boltzmann_machine_sweep/runs/a90z33jv' target=\"_blank\">https://wandb.ai/lucasericsson222/restricted_boltzmann_machine_sweep/runs/a90z33jv</a>"
      ],
      "text/plain": [
       "<IPython.core.display.HTML object>"
      ]
     },
     "metadata": {},
     "output_type": "display_data"
    },
    {
     "name": "stdout",
     "output_type": "stream",
     "text": [
      "(60000, 784)\n",
      "Epoch: 0\n",
      "current_weight_diff: 21.80351970740207\n",
      "sqrd_recon_error: 2.248456632653061\n",
      "Epoch: 1\n",
      "current_weight_diff: 2.1401652355318324\n",
      "sqrd_recon_error: 1.2334693877551022\n",
      "Epoch: 2\n",
      "current_weight_diff: 4.908678347729034\n",
      "sqrd_recon_error: 0.583125\n",
      "Epoch: 3\n",
      "current_weight_diff: 1.3254479499791174\n",
      "sqrd_recon_error: 0.4046811224489796\n",
      "Epoch: 4\n",
      "current_weight_diff: 0.9644686168868484\n",
      "sqrd_recon_error: 0.2588010204081633\n",
      "Epoch: 5\n",
      "current_weight_diff: 0.5754751368480878\n",
      "sqrd_recon_error: 0.2751530612244898\n",
      "Epoch: 6\n",
      "current_weight_diff: 0.470360986855424\n",
      "sqrd_recon_error: 0.17054846938775511\n",
      "Epoch: 7\n",
      "current_weight_diff: 4.215707207945475\n",
      "sqrd_recon_error: 0.28364795918367347\n",
      "Epoch: 8\n",
      "current_weight_diff: 0.43560502974161985\n",
      "sqrd_recon_error: 0.18020408163265306\n",
      "Epoch: 9\n",
      "current_weight_diff: 0.3433232789465175\n",
      "sqrd_recon_error: 0.26823979591836733\n",
      "Epoch: 10\n",
      "current_weight_diff: 0.26891794340976743\n",
      "sqrd_recon_error: 0.23852040816326534\n",
      "Epoch: 11\n",
      "current_weight_diff: 0.4239804356792999\n",
      "sqrd_recon_error: 0.22176020408163263\n",
      "Epoch: 12\n",
      "current_weight_diff: 0.5821669270561036\n",
      "sqrd_recon_error: 0.16475765306122447\n",
      "Epoch: 13\n",
      "current_weight_diff: 0.25546640028660766\n",
      "sqrd_recon_error: 0.16021683673469386\n",
      "Epoch: 14\n",
      "current_weight_diff: 0.22289675374369186\n",
      "sqrd_recon_error: 0.14409438775510203\n",
      "Epoch: 15\n",
      "current_weight_diff: 0.22948560829171752\n",
      "sqrd_recon_error: 0.16991071428571428\n",
      "Epoch: 16\n",
      "current_weight_diff: 0.5072154164207718\n",
      "sqrd_recon_error: 0.21738520408163264\n",
      "Epoch: 17\n",
      "current_weight_diff: 0.19352567097366427\n",
      "sqrd_recon_error: 0.15806122448979593\n",
      "Epoch: 18\n",
      "current_weight_diff: 0.24650890176314766\n",
      "sqrd_recon_error: 0.14887755102040817\n",
      "Epoch: 19\n",
      "current_weight_diff: 0.2862115776882201\n",
      "sqrd_recon_error: 0.1814285714285714\n"
     ]
    },
    {
     "data": {
      "application/vnd.jupyter.widget-view+json": {
       "model_id": "0d07cf32320e45ae8d0f9b1f16dc8c48",
       "version_major": 2,
       "version_minor": 0
      },
      "text/plain": [
       "VBox(children=(Label(value='0.001 MB of 0.005 MB uploaded\\r'), FloatProgress(value=0.17704517704517705, max=1.…"
      ]
     },
     "metadata": {},
     "output_type": "display_data"
    },
    {
     "name": "stderr",
     "output_type": "stream",
     "text": [
      "\u001b[34m\u001b[1mwandb\u001b[0m: \u001b[32m\u001b[41mERROR\u001b[0m Problem finishing run\n",
      "Traceback (most recent call last):\n",
      "  File \"/Library/Frameworks/Python.framework/Versions/3.10/lib/python3.10/site-packages/wandb/sdk/wandb_run.py\", line 2313, in _atexit_cleanup\n",
      "    self._on_finish()\n",
      "  File \"/Library/Frameworks/Python.framework/Versions/3.10/lib/python3.10/site-packages/wandb/sdk/wandb_run.py\", line 2567, in _on_finish\n",
      "    self._footer_file_pusher_status_info(\n",
      "  File \"/Library/Frameworks/Python.framework/Versions/3.10/lib/python3.10/site-packages/wandb/sdk/wandb_run.py\", line 3749, in _footer_file_pusher_status_info\n",
      "    Run._footer_single_run_file_pusher_status_info(\n",
      "  File \"/Library/Frameworks/Python.framework/Versions/3.10/lib/python3.10/site-packages/wandb/sdk/wandb_run.py\", line 3802, in _footer_single_run_file_pusher_status_info\n",
      "    printer.progress_close()\n",
      "  File \"/Library/Frameworks/Python.framework/Versions/3.10/lib/python3.10/site-packages/wandb/sdk/lib/printer.py\", line 292, in progress_close\n",
      "    self._progress.close()\n",
      "  File \"/Library/Frameworks/Python.framework/Versions/3.10/lib/python3.10/site-packages/wandb/sdk/lib/ipython.py\", line 128, in close\n",
      "    self._widget.close()\n",
      "  File \"/Users/lucasericsson/Library/Python/3.10/lib/python/site-packages/ipywidgets/widgets/widget.py\", line 500, in close\n",
      "    self.comm.close()\n",
      "  File \"/Users/lucasericsson/Library/Python/3.10/lib/python/site-packages/comm/base_comm.py\", line 109, in close\n",
      "    comm.get_comm_manager().unregister_comm(self)\n",
      "  File \"/Users/lucasericsson/Library/Python/3.10/lib/python/site-packages/comm/base_comm.py\", line 199, in unregister_comm\n",
      "    comm = self.comms.pop(comm.comm_id)\n",
      "KeyError: '0d07cf32320e45ae8d0f9b1f16dc8c48'\n",
      "\u001b[34m\u001b[1mwandb\u001b[0m: Agent Starting Run: 7jiv318e with config:\n",
      "\u001b[34m\u001b[1mwandb\u001b[0m: \tepochs: 20\n",
      "\u001b[34m\u001b[1mwandb\u001b[0m: \thidden_units: 300\n",
      "\u001b[34m\u001b[1mwandb\u001b[0m: \tk: 3\n",
      "\u001b[34m\u001b[1mwandb\u001b[0m: \tminibatch: 200\n",
      "Failed to detect the name of this notebook, you can set it manually with the WANDB_NOTEBOOK_NAME environment variable to enable code saving.\n",
      "\u001b[34m\u001b[1mwandb\u001b[0m: \u001b[33mWARNING\u001b[0m Ignored wandb.init() arg project when running a sweep.\n"
     ]
    },
    {
     "data": {
      "text/html": [
       "Tracking run with wandb version 0.16.6"
      ],
      "text/plain": [
       "<IPython.core.display.HTML object>"
      ]
     },
     "metadata": {},
     "output_type": "display_data"
    },
    {
     "data": {
      "text/html": [
       "Run data is saved locally in <code>/Users/lucasericsson/repos/restricted-boltzmann-machine/wandb/run-20240409_040559-7jiv318e</code>"
      ],
      "text/plain": [
       "<IPython.core.display.HTML object>"
      ]
     },
     "metadata": {},
     "output_type": "display_data"
    },
    {
     "data": {
      "text/html": [
       "Syncing run <strong><a href='https://wandb.ai/lucasericsson222/restricted_boltzmann_machine_sweep/runs/7jiv318e' target=\"_blank\">generous-sweep-95</a></strong> to <a href='https://wandb.ai/lucasericsson222/restricted_boltzmann_machine_sweep' target=\"_blank\">Weights & Biases</a> (<a href='https://wandb.me/run' target=\"_blank\">docs</a>)<br/>Sweep page: <a href='https://wandb.ai/lucasericsson222/restricted_boltzmann_machine_sweep/sweeps/r1b5058x' target=\"_blank\">https://wandb.ai/lucasericsson222/restricted_boltzmann_machine_sweep/sweeps/r1b5058x</a>"
      ],
      "text/plain": [
       "<IPython.core.display.HTML object>"
      ]
     },
     "metadata": {},
     "output_type": "display_data"
    },
    {
     "data": {
      "text/html": [
       " View project at <a href='https://wandb.ai/lucasericsson222/restricted_boltzmann_machine_sweep' target=\"_blank\">https://wandb.ai/lucasericsson222/restricted_boltzmann_machine_sweep</a>"
      ],
      "text/plain": [
       "<IPython.core.display.HTML object>"
      ]
     },
     "metadata": {},
     "output_type": "display_data"
    },
    {
     "data": {
      "text/html": [
       " View sweep at <a href='https://wandb.ai/lucasericsson222/restricted_boltzmann_machine_sweep/sweeps/r1b5058x' target=\"_blank\">https://wandb.ai/lucasericsson222/restricted_boltzmann_machine_sweep/sweeps/r1b5058x</a>"
      ],
      "text/plain": [
       "<IPython.core.display.HTML object>"
      ]
     },
     "metadata": {},
     "output_type": "display_data"
    },
    {
     "data": {
      "text/html": [
       " View run at <a href='https://wandb.ai/lucasericsson222/restricted_boltzmann_machine_sweep/runs/7jiv318e' target=\"_blank\">https://wandb.ai/lucasericsson222/restricted_boltzmann_machine_sweep/runs/7jiv318e</a>"
      ],
      "text/plain": [
       "<IPython.core.display.HTML object>"
      ]
     },
     "metadata": {},
     "output_type": "display_data"
    },
    {
     "name": "stdout",
     "output_type": "stream",
     "text": [
      "(60000, 784)\n",
      "Epoch: 0\n",
      "current_weight_diff: 24.420761819842486\n",
      "sqrd_recon_error: 1.3130420918367347\n",
      "Epoch: 1\n",
      "current_weight_diff: 2.0697934229222494\n",
      "sqrd_recon_error: 0.7935586734693878\n",
      "Epoch: 2\n",
      "current_weight_diff: 2.954365711703498\n",
      "sqrd_recon_error: 0.7235459183673469\n",
      "Epoch: 3\n",
      "current_weight_diff: 1.3365424233662506\n",
      "sqrd_recon_error: 0.5469834183673469\n",
      "Epoch: 4\n",
      "current_weight_diff: 0.716508804620655\n",
      "sqrd_recon_error: 0.3690051020408163\n",
      "Epoch: 5\n",
      "current_weight_diff: 0.5510637342547625\n",
      "sqrd_recon_error: 0.33399234693877555\n",
      "Epoch: 6\n",
      "current_weight_diff: 0.63602141595032\n",
      "sqrd_recon_error: 0.27445153061224487\n",
      "Epoch: 7\n",
      "current_weight_diff: 0.37475395785128124\n",
      "sqrd_recon_error: 0.2422704081632653\n",
      "Epoch: 8\n",
      "current_weight_diff: 0.7752879330095345\n",
      "sqrd_recon_error: 0.22947066326530613\n",
      "Epoch: 9\n",
      "current_weight_diff: 0.272993584554833\n",
      "sqrd_recon_error: 0.20506377551020408\n",
      "Epoch: 10\n",
      "current_weight_diff: 0.3157095148745943\n",
      "sqrd_recon_error: 0.19227040816326532\n",
      "Epoch: 11\n",
      "current_weight_diff: 0.32297177475976135\n",
      "sqrd_recon_error: 0.2064094387755102\n",
      "Epoch: 12\n",
      "current_weight_diff: 0.22887790690602144\n",
      "sqrd_recon_error: 0.19643494897959182\n",
      "Epoch: 13\n",
      "current_weight_diff: 0.21031911834258182\n",
      "sqrd_recon_error: 0.16192602040816326\n",
      "Epoch: 14\n",
      "current_weight_diff: 0.2246140951668274\n",
      "sqrd_recon_error: 0.16317602040816326\n",
      "Epoch: 15\n",
      "current_weight_diff: 0.26358203409912195\n",
      "sqrd_recon_error: 0.15426658163265305\n",
      "Epoch: 16\n",
      "current_weight_diff: 0.21945588539914496\n",
      "sqrd_recon_error: 0.1536670918367347\n",
      "Epoch: 17\n",
      "current_weight_diff: 0.4714984386024997\n",
      "sqrd_recon_error: 0.16707908163265306\n",
      "Epoch: 18\n",
      "current_weight_diff: 0.26547953713557015\n",
      "sqrd_recon_error: 0.16239158163265305\n",
      "Epoch: 19\n",
      "current_weight_diff: 0.19236411155605548\n",
      "sqrd_recon_error: 0.14355867346938778\n"
     ]
    },
    {
     "data": {
      "application/vnd.jupyter.widget-view+json": {
       "model_id": "47929187fa8b41ef895b75780d2586bd",
       "version_major": 2,
       "version_minor": 0
      },
      "text/plain": [
       "VBox(children=(Label(value='0.001 MB of 0.001 MB uploaded\\r'), FloatProgress(value=1.0, max=1.0)))"
      ]
     },
     "metadata": {},
     "output_type": "display_data"
    },
    {
     "name": "stderr",
     "output_type": "stream",
     "text": [
      "\u001b[34m\u001b[1mwandb\u001b[0m: \u001b[32m\u001b[41mERROR\u001b[0m Problem finishing run\n",
      "Traceback (most recent call last):\n",
      "  File \"/Library/Frameworks/Python.framework/Versions/3.10/lib/python3.10/site-packages/wandb/sdk/wandb_run.py\", line 2313, in _atexit_cleanup\n",
      "    self._on_finish()\n",
      "  File \"/Library/Frameworks/Python.framework/Versions/3.10/lib/python3.10/site-packages/wandb/sdk/wandb_run.py\", line 2567, in _on_finish\n",
      "    self._footer_file_pusher_status_info(\n",
      "  File \"/Library/Frameworks/Python.framework/Versions/3.10/lib/python3.10/site-packages/wandb/sdk/wandb_run.py\", line 3749, in _footer_file_pusher_status_info\n",
      "    Run._footer_single_run_file_pusher_status_info(\n",
      "  File \"/Library/Frameworks/Python.framework/Versions/3.10/lib/python3.10/site-packages/wandb/sdk/wandb_run.py\", line 3802, in _footer_single_run_file_pusher_status_info\n",
      "    printer.progress_close()\n",
      "  File \"/Library/Frameworks/Python.framework/Versions/3.10/lib/python3.10/site-packages/wandb/sdk/lib/printer.py\", line 292, in progress_close\n",
      "    self._progress.close()\n",
      "  File \"/Library/Frameworks/Python.framework/Versions/3.10/lib/python3.10/site-packages/wandb/sdk/lib/ipython.py\", line 128, in close\n",
      "    self._widget.close()\n",
      "  File \"/Users/lucasericsson/Library/Python/3.10/lib/python/site-packages/ipywidgets/widgets/widget.py\", line 500, in close\n",
      "    self.comm.close()\n",
      "  File \"/Users/lucasericsson/Library/Python/3.10/lib/python/site-packages/comm/base_comm.py\", line 109, in close\n",
      "    comm.get_comm_manager().unregister_comm(self)\n",
      "  File \"/Users/lucasericsson/Library/Python/3.10/lib/python/site-packages/comm/base_comm.py\", line 199, in unregister_comm\n",
      "    comm = self.comms.pop(comm.comm_id)\n",
      "KeyError: '47929187fa8b41ef895b75780d2586bd'\n",
      "\u001b[34m\u001b[1mwandb\u001b[0m: Agent Starting Run: crnz4k1d with config:\n",
      "\u001b[34m\u001b[1mwandb\u001b[0m: \tepochs: 5\n",
      "\u001b[34m\u001b[1mwandb\u001b[0m: \thidden_units: 200\n",
      "\u001b[34m\u001b[1mwandb\u001b[0m: \tk: 10\n",
      "\u001b[34m\u001b[1mwandb\u001b[0m: \tminibatch: 150\n",
      "Failed to detect the name of this notebook, you can set it manually with the WANDB_NOTEBOOK_NAME environment variable to enable code saving.\n",
      "\u001b[34m\u001b[1mwandb\u001b[0m: \u001b[33mWARNING\u001b[0m Ignored wandb.init() arg project when running a sweep.\n"
     ]
    },
    {
     "data": {
      "text/html": [
       "Tracking run with wandb version 0.16.6"
      ],
      "text/plain": [
       "<IPython.core.display.HTML object>"
      ]
     },
     "metadata": {},
     "output_type": "display_data"
    },
    {
     "data": {
      "text/html": [
       "Run data is saved locally in <code>/Users/lucasericsson/repos/restricted-boltzmann-machine/wandb/run-20240409_040919-crnz4k1d</code>"
      ],
      "text/plain": [
       "<IPython.core.display.HTML object>"
      ]
     },
     "metadata": {},
     "output_type": "display_data"
    },
    {
     "data": {
      "text/html": [
       "Syncing run <strong><a href='https://wandb.ai/lucasericsson222/restricted_boltzmann_machine_sweep/runs/crnz4k1d' target=\"_blank\">devoted-sweep-96</a></strong> to <a href='https://wandb.ai/lucasericsson222/restricted_boltzmann_machine_sweep' target=\"_blank\">Weights & Biases</a> (<a href='https://wandb.me/run' target=\"_blank\">docs</a>)<br/>Sweep page: <a href='https://wandb.ai/lucasericsson222/restricted_boltzmann_machine_sweep/sweeps/r1b5058x' target=\"_blank\">https://wandb.ai/lucasericsson222/restricted_boltzmann_machine_sweep/sweeps/r1b5058x</a>"
      ],
      "text/plain": [
       "<IPython.core.display.HTML object>"
      ]
     },
     "metadata": {},
     "output_type": "display_data"
    },
    {
     "data": {
      "text/html": [
       " View project at <a href='https://wandb.ai/lucasericsson222/restricted_boltzmann_machine_sweep' target=\"_blank\">https://wandb.ai/lucasericsson222/restricted_boltzmann_machine_sweep</a>"
      ],
      "text/plain": [
       "<IPython.core.display.HTML object>"
      ]
     },
     "metadata": {},
     "output_type": "display_data"
    },
    {
     "data": {
      "text/html": [
       " View sweep at <a href='https://wandb.ai/lucasericsson222/restricted_boltzmann_machine_sweep/sweeps/r1b5058x' target=\"_blank\">https://wandb.ai/lucasericsson222/restricted_boltzmann_machine_sweep/sweeps/r1b5058x</a>"
      ],
      "text/plain": [
       "<IPython.core.display.HTML object>"
      ]
     },
     "metadata": {},
     "output_type": "display_data"
    },
    {
     "data": {
      "text/html": [
       " View run at <a href='https://wandb.ai/lucasericsson222/restricted_boltzmann_machine_sweep/runs/crnz4k1d' target=\"_blank\">https://wandb.ai/lucasericsson222/restricted_boltzmann_machine_sweep/runs/crnz4k1d</a>"
      ],
      "text/plain": [
       "<IPython.core.display.HTML object>"
      ]
     },
     "metadata": {},
     "output_type": "display_data"
    },
    {
     "name": "stdout",
     "output_type": "stream",
     "text": [
      "(60000, 784)\n",
      "Epoch: 0\n",
      "current_weight_diff: 28.41752802879689\n",
      "sqrd_recon_error: 2.154277210884354\n",
      "Epoch: 1\n",
      "current_weight_diff: 1.8731751283581823\n",
      "sqrd_recon_error: 0.9014795918367348\n",
      "Epoch: 2\n",
      "current_weight_diff: 2.4293849296795567\n",
      "sqrd_recon_error: 0.7005187074829932\n",
      "Epoch: 3\n",
      "current_weight_diff: 3.150229158743351\n",
      "sqrd_recon_error: 0.450204081632653\n",
      "Epoch: 4\n",
      "current_weight_diff: 0.9308658032707275\n",
      "sqrd_recon_error: 0.41655612244897955\n"
     ]
    },
    {
     "data": {
      "application/vnd.jupyter.widget-view+json": {
       "model_id": "a42b89ecea704151a0d58854ca41707e",
       "version_major": 2,
       "version_minor": 0
      },
      "text/plain": [
       "VBox(children=(Label(value='0.001 MB of 0.003 MB uploaded\\r'), FloatProgress(value=0.33289603148573305, max=1.…"
      ]
     },
     "metadata": {},
     "output_type": "display_data"
    },
    {
     "name": "stderr",
     "output_type": "stream",
     "text": [
      "\u001b[34m\u001b[1mwandb\u001b[0m: \u001b[32m\u001b[41mERROR\u001b[0m Problem finishing run\n",
      "Traceback (most recent call last):\n",
      "  File \"/Library/Frameworks/Python.framework/Versions/3.10/lib/python3.10/site-packages/wandb/sdk/wandb_run.py\", line 2313, in _atexit_cleanup\n",
      "    self._on_finish()\n",
      "  File \"/Library/Frameworks/Python.framework/Versions/3.10/lib/python3.10/site-packages/wandb/sdk/wandb_run.py\", line 2567, in _on_finish\n",
      "    self._footer_file_pusher_status_info(\n",
      "  File \"/Library/Frameworks/Python.framework/Versions/3.10/lib/python3.10/site-packages/wandb/sdk/wandb_run.py\", line 3749, in _footer_file_pusher_status_info\n",
      "    Run._footer_single_run_file_pusher_status_info(\n",
      "  File \"/Library/Frameworks/Python.framework/Versions/3.10/lib/python3.10/site-packages/wandb/sdk/wandb_run.py\", line 3802, in _footer_single_run_file_pusher_status_info\n",
      "    printer.progress_close()\n",
      "  File \"/Library/Frameworks/Python.framework/Versions/3.10/lib/python3.10/site-packages/wandb/sdk/lib/printer.py\", line 292, in progress_close\n",
      "    self._progress.close()\n",
      "  File \"/Library/Frameworks/Python.framework/Versions/3.10/lib/python3.10/site-packages/wandb/sdk/lib/ipython.py\", line 128, in close\n",
      "    self._widget.close()\n",
      "  File \"/Users/lucasericsson/Library/Python/3.10/lib/python/site-packages/ipywidgets/widgets/widget.py\", line 500, in close\n",
      "    self.comm.close()\n",
      "  File \"/Users/lucasericsson/Library/Python/3.10/lib/python/site-packages/comm/base_comm.py\", line 109, in close\n",
      "    comm.get_comm_manager().unregister_comm(self)\n",
      "  File \"/Users/lucasericsson/Library/Python/3.10/lib/python/site-packages/comm/base_comm.py\", line 199, in unregister_comm\n",
      "    comm = self.comms.pop(comm.comm_id)\n",
      "KeyError: 'a42b89ecea704151a0d58854ca41707e'\n",
      "\u001b[34m\u001b[1mwandb\u001b[0m: Agent Starting Run: mwy3drf0 with config:\n",
      "\u001b[34m\u001b[1mwandb\u001b[0m: \tepochs: 2\n",
      "\u001b[34m\u001b[1mwandb\u001b[0m: \thidden_units: 1000\n",
      "\u001b[34m\u001b[1mwandb\u001b[0m: \tk: 1\n",
      "\u001b[34m\u001b[1mwandb\u001b[0m: \tminibatch: 200\n",
      "Failed to detect the name of this notebook, you can set it manually with the WANDB_NOTEBOOK_NAME environment variable to enable code saving.\n",
      "\u001b[34m\u001b[1mwandb\u001b[0m: \u001b[33mWARNING\u001b[0m Ignored wandb.init() arg project when running a sweep.\n"
     ]
    },
    {
     "data": {
      "text/html": [
       "Tracking run with wandb version 0.16.6"
      ],
      "text/plain": [
       "<IPython.core.display.HTML object>"
      ]
     },
     "metadata": {},
     "output_type": "display_data"
    },
    {
     "data": {
      "text/html": [
       "Run data is saved locally in <code>/Users/lucasericsson/repos/restricted-boltzmann-machine/wandb/run-20240409_041020-mwy3drf0</code>"
      ],
      "text/plain": [
       "<IPython.core.display.HTML object>"
      ]
     },
     "metadata": {},
     "output_type": "display_data"
    },
    {
     "data": {
      "text/html": [
       "Syncing run <strong><a href='https://wandb.ai/lucasericsson222/restricted_boltzmann_machine_sweep/runs/mwy3drf0' target=\"_blank\">expert-sweep-97</a></strong> to <a href='https://wandb.ai/lucasericsson222/restricted_boltzmann_machine_sweep' target=\"_blank\">Weights & Biases</a> (<a href='https://wandb.me/run' target=\"_blank\">docs</a>)<br/>Sweep page: <a href='https://wandb.ai/lucasericsson222/restricted_boltzmann_machine_sweep/sweeps/r1b5058x' target=\"_blank\">https://wandb.ai/lucasericsson222/restricted_boltzmann_machine_sweep/sweeps/r1b5058x</a>"
      ],
      "text/plain": [
       "<IPython.core.display.HTML object>"
      ]
     },
     "metadata": {},
     "output_type": "display_data"
    },
    {
     "data": {
      "text/html": [
       " View project at <a href='https://wandb.ai/lucasericsson222/restricted_boltzmann_machine_sweep' target=\"_blank\">https://wandb.ai/lucasericsson222/restricted_boltzmann_machine_sweep</a>"
      ],
      "text/plain": [
       "<IPython.core.display.HTML object>"
      ]
     },
     "metadata": {},
     "output_type": "display_data"
    },
    {
     "data": {
      "text/html": [
       " View sweep at <a href='https://wandb.ai/lucasericsson222/restricted_boltzmann_machine_sweep/sweeps/r1b5058x' target=\"_blank\">https://wandb.ai/lucasericsson222/restricted_boltzmann_machine_sweep/sweeps/r1b5058x</a>"
      ],
      "text/plain": [
       "<IPython.core.display.HTML object>"
      ]
     },
     "metadata": {},
     "output_type": "display_data"
    },
    {
     "data": {
      "text/html": [
       " View run at <a href='https://wandb.ai/lucasericsson222/restricted_boltzmann_machine_sweep/runs/mwy3drf0' target=\"_blank\">https://wandb.ai/lucasericsson222/restricted_boltzmann_machine_sweep/runs/mwy3drf0</a>"
      ],
      "text/plain": [
       "<IPython.core.display.HTML object>"
      ]
     },
     "metadata": {},
     "output_type": "display_data"
    },
    {
     "name": "stdout",
     "output_type": "stream",
     "text": [
      "(60000, 784)\n",
      "Epoch: 0\n",
      "current_weight_diff: 96.76996686230545\n",
      "sqrd_recon_error: 0.6498533163265305\n",
      "Epoch: 1\n",
      "current_weight_diff: 4.488328565390899\n",
      "sqrd_recon_error: 0.5930612244897959\n"
     ]
    },
    {
     "data": {
      "application/vnd.jupyter.widget-view+json": {
       "model_id": "65ecf973ce8b4db0bf355425ae1f9b00",
       "version_major": 2,
       "version_minor": 0
      },
      "text/plain": [
       "VBox(children=(Label(value='0.001 MB of 0.001 MB uploaded\\r'), FloatProgress(value=1.0, max=1.0)))"
      ]
     },
     "metadata": {},
     "output_type": "display_data"
    },
    {
     "name": "stderr",
     "output_type": "stream",
     "text": [
      "\u001b[34m\u001b[1mwandb\u001b[0m: \u001b[32m\u001b[41mERROR\u001b[0m Problem finishing run\n",
      "Traceback (most recent call last):\n",
      "  File \"/Library/Frameworks/Python.framework/Versions/3.10/lib/python3.10/site-packages/wandb/sdk/wandb_run.py\", line 2313, in _atexit_cleanup\n",
      "    self._on_finish()\n",
      "  File \"/Library/Frameworks/Python.framework/Versions/3.10/lib/python3.10/site-packages/wandb/sdk/wandb_run.py\", line 2567, in _on_finish\n",
      "    self._footer_file_pusher_status_info(\n",
      "  File \"/Library/Frameworks/Python.framework/Versions/3.10/lib/python3.10/site-packages/wandb/sdk/wandb_run.py\", line 3749, in _footer_file_pusher_status_info\n",
      "    Run._footer_single_run_file_pusher_status_info(\n",
      "  File \"/Library/Frameworks/Python.framework/Versions/3.10/lib/python3.10/site-packages/wandb/sdk/wandb_run.py\", line 3802, in _footer_single_run_file_pusher_status_info\n",
      "    printer.progress_close()\n",
      "  File \"/Library/Frameworks/Python.framework/Versions/3.10/lib/python3.10/site-packages/wandb/sdk/lib/printer.py\", line 292, in progress_close\n",
      "    self._progress.close()\n",
      "  File \"/Library/Frameworks/Python.framework/Versions/3.10/lib/python3.10/site-packages/wandb/sdk/lib/ipython.py\", line 128, in close\n",
      "    self._widget.close()\n",
      "  File \"/Users/lucasericsson/Library/Python/3.10/lib/python/site-packages/ipywidgets/widgets/widget.py\", line 500, in close\n",
      "    self.comm.close()\n",
      "  File \"/Users/lucasericsson/Library/Python/3.10/lib/python/site-packages/comm/base_comm.py\", line 109, in close\n",
      "    comm.get_comm_manager().unregister_comm(self)\n",
      "  File \"/Users/lucasericsson/Library/Python/3.10/lib/python/site-packages/comm/base_comm.py\", line 199, in unregister_comm\n",
      "    comm = self.comms.pop(comm.comm_id)\n",
      "KeyError: '65ecf973ce8b4db0bf355425ae1f9b00'\n",
      "\u001b[34m\u001b[1mwandb\u001b[0m: Agent Starting Run: dxllkgdz with config:\n",
      "\u001b[34m\u001b[1mwandb\u001b[0m: \tepochs: 10\n",
      "\u001b[34m\u001b[1mwandb\u001b[0m: \thidden_units: 100\n",
      "\u001b[34m\u001b[1mwandb\u001b[0m: \tk: 5\n",
      "\u001b[34m\u001b[1mwandb\u001b[0m: \tminibatch: 50\n",
      "Failed to detect the name of this notebook, you can set it manually with the WANDB_NOTEBOOK_NAME environment variable to enable code saving.\n",
      "\u001b[34m\u001b[1mwandb\u001b[0m: \u001b[33mWARNING\u001b[0m Ignored wandb.init() arg project when running a sweep.\n"
     ]
    },
    {
     "data": {
      "text/html": [
       "Tracking run with wandb version 0.16.6"
      ],
      "text/plain": [
       "<IPython.core.display.HTML object>"
      ]
     },
     "metadata": {},
     "output_type": "display_data"
    },
    {
     "data": {
      "text/html": [
       "Run data is saved locally in <code>/Users/lucasericsson/repos/restricted-boltzmann-machine/wandb/run-20240409_041116-dxllkgdz</code>"
      ],
      "text/plain": [
       "<IPython.core.display.HTML object>"
      ]
     },
     "metadata": {},
     "output_type": "display_data"
    },
    {
     "data": {
      "text/html": [
       "Syncing run <strong><a href='https://wandb.ai/lucasericsson222/restricted_boltzmann_machine_sweep/runs/dxllkgdz' target=\"_blank\">denim-sweep-98</a></strong> to <a href='https://wandb.ai/lucasericsson222/restricted_boltzmann_machine_sweep' target=\"_blank\">Weights & Biases</a> (<a href='https://wandb.me/run' target=\"_blank\">docs</a>)<br/>Sweep page: <a href='https://wandb.ai/lucasericsson222/restricted_boltzmann_machine_sweep/sweeps/r1b5058x' target=\"_blank\">https://wandb.ai/lucasericsson222/restricted_boltzmann_machine_sweep/sweeps/r1b5058x</a>"
      ],
      "text/plain": [
       "<IPython.core.display.HTML object>"
      ]
     },
     "metadata": {},
     "output_type": "display_data"
    },
    {
     "data": {
      "text/html": [
       " View project at <a href='https://wandb.ai/lucasericsson222/restricted_boltzmann_machine_sweep' target=\"_blank\">https://wandb.ai/lucasericsson222/restricted_boltzmann_machine_sweep</a>"
      ],
      "text/plain": [
       "<IPython.core.display.HTML object>"
      ]
     },
     "metadata": {},
     "output_type": "display_data"
    },
    {
     "data": {
      "text/html": [
       " View sweep at <a href='https://wandb.ai/lucasericsson222/restricted_boltzmann_machine_sweep/sweeps/r1b5058x' target=\"_blank\">https://wandb.ai/lucasericsson222/restricted_boltzmann_machine_sweep/sweeps/r1b5058x</a>"
      ],
      "text/plain": [
       "<IPython.core.display.HTML object>"
      ]
     },
     "metadata": {},
     "output_type": "display_data"
    },
    {
     "data": {
      "text/html": [
       " View run at <a href='https://wandb.ai/lucasericsson222/restricted_boltzmann_machine_sweep/runs/dxllkgdz' target=\"_blank\">https://wandb.ai/lucasericsson222/restricted_boltzmann_machine_sweep/runs/dxllkgdz</a>"
      ],
      "text/plain": [
       "<IPython.core.display.HTML object>"
      ]
     },
     "metadata": {},
     "output_type": "display_data"
    },
    {
     "name": "stdout",
     "output_type": "stream",
     "text": [
      "(60000, 784)\n",
      "Epoch: 0\n",
      "current_weight_diff: 34.44042835558157\n",
      "sqrd_recon_error: 1.5275510204081633\n",
      "Epoch: 1\n",
      "current_weight_diff: 1.435299879105458\n",
      "sqrd_recon_error: 0.7605612244897959\n",
      "Epoch: 2\n",
      "current_weight_diff: 4.191184927506305\n",
      "sqrd_recon_error: 0.5451020408163265\n",
      "Epoch: 3\n",
      "current_weight_diff: 1.3997189099741127\n",
      "sqrd_recon_error: 0.4387755102040816\n",
      "Epoch: 4\n",
      "current_weight_diff: 0.8234952308543526\n",
      "sqrd_recon_error: 0.27543367346938774\n",
      "Epoch: 5\n",
      "current_weight_diff: 0.5542609500909135\n",
      "sqrd_recon_error: 0.20875\n",
      "Epoch: 6\n",
      "current_weight_diff: 0.6504622550546606\n",
      "sqrd_recon_error: 0.21107142857142858\n",
      "Epoch: 7\n",
      "current_weight_diff: 0.5733949575080333\n",
      "sqrd_recon_error: 0.18635204081632653\n",
      "Epoch: 8\n",
      "current_weight_diff: 0.3064907793610747\n",
      "sqrd_recon_error: 0.18010204081632655\n",
      "Epoch: 9\n",
      "current_weight_diff: 0.4197761887142133\n",
      "sqrd_recon_error: 0.16803571428571426\n"
     ]
    },
    {
     "data": {
      "application/vnd.jupyter.widget-view+json": {
       "model_id": "d853772124bd427e9b8ed422383eaf0d",
       "version_major": 2,
       "version_minor": 0
      },
      "text/plain": [
       "VBox(children=(Label(value='0.001 MB of 0.001 MB uploaded\\r'), FloatProgress(value=1.0, max=1.0)))"
      ]
     },
     "metadata": {},
     "output_type": "display_data"
    },
    {
     "name": "stderr",
     "output_type": "stream",
     "text": [
      "\u001b[34m\u001b[1mwandb\u001b[0m: \u001b[32m\u001b[41mERROR\u001b[0m Problem finishing run\n",
      "Traceback (most recent call last):\n",
      "  File \"/Library/Frameworks/Python.framework/Versions/3.10/lib/python3.10/site-packages/wandb/sdk/wandb_run.py\", line 2313, in _atexit_cleanup\n",
      "    self._on_finish()\n",
      "  File \"/Library/Frameworks/Python.framework/Versions/3.10/lib/python3.10/site-packages/wandb/sdk/wandb_run.py\", line 2567, in _on_finish\n",
      "    self._footer_file_pusher_status_info(\n",
      "  File \"/Library/Frameworks/Python.framework/Versions/3.10/lib/python3.10/site-packages/wandb/sdk/wandb_run.py\", line 3749, in _footer_file_pusher_status_info\n",
      "    Run._footer_single_run_file_pusher_status_info(\n",
      "  File \"/Library/Frameworks/Python.framework/Versions/3.10/lib/python3.10/site-packages/wandb/sdk/wandb_run.py\", line 3802, in _footer_single_run_file_pusher_status_info\n",
      "    printer.progress_close()\n",
      "  File \"/Library/Frameworks/Python.framework/Versions/3.10/lib/python3.10/site-packages/wandb/sdk/lib/printer.py\", line 292, in progress_close\n",
      "    self._progress.close()\n",
      "  File \"/Library/Frameworks/Python.framework/Versions/3.10/lib/python3.10/site-packages/wandb/sdk/lib/ipython.py\", line 128, in close\n",
      "    self._widget.close()\n",
      "  File \"/Users/lucasericsson/Library/Python/3.10/lib/python/site-packages/ipywidgets/widgets/widget.py\", line 500, in close\n",
      "    self.comm.close()\n",
      "  File \"/Users/lucasericsson/Library/Python/3.10/lib/python/site-packages/comm/base_comm.py\", line 109, in close\n",
      "    comm.get_comm_manager().unregister_comm(self)\n",
      "  File \"/Users/lucasericsson/Library/Python/3.10/lib/python/site-packages/comm/base_comm.py\", line 199, in unregister_comm\n",
      "    comm = self.comms.pop(comm.comm_id)\n",
      "KeyError: 'd853772124bd427e9b8ed422383eaf0d'\n",
      "\u001b[34m\u001b[1mwandb\u001b[0m: Sweep Agent: Waiting for job.\n",
      "\u001b[34m\u001b[1mwandb\u001b[0m: Job received.\n",
      "\u001b[34m\u001b[1mwandb\u001b[0m: Agent Starting Run: ghf7c3qc with config:\n",
      "\u001b[34m\u001b[1mwandb\u001b[0m: \tepochs: 1\n",
      "\u001b[34m\u001b[1mwandb\u001b[0m: \thidden_units: 1000\n",
      "\u001b[34m\u001b[1mwandb\u001b[0m: \tk: 4\n",
      "\u001b[34m\u001b[1mwandb\u001b[0m: \tminibatch: 50\n",
      "Failed to detect the name of this notebook, you can set it manually with the WANDB_NOTEBOOK_NAME environment variable to enable code saving.\n",
      "\u001b[34m\u001b[1mwandb\u001b[0m: \u001b[33mWARNING\u001b[0m Ignored wandb.init() arg project when running a sweep.\n"
     ]
    },
    {
     "data": {
      "text/html": [
       "Tracking run with wandb version 0.16.6"
      ],
      "text/plain": [
       "<IPython.core.display.HTML object>"
      ]
     },
     "metadata": {},
     "output_type": "display_data"
    },
    {
     "data": {
      "text/html": [
       "Run data is saved locally in <code>/Users/lucasericsson/repos/restricted-boltzmann-machine/wandb/run-20240409_042515-ghf7c3qc</code>"
      ],
      "text/plain": [
       "<IPython.core.display.HTML object>"
      ]
     },
     "metadata": {},
     "output_type": "display_data"
    },
    {
     "data": {
      "text/html": [
       "Syncing run <strong><a href='https://wandb.ai/lucasericsson222/restricted_boltzmann_machine_sweep/runs/ghf7c3qc' target=\"_blank\">sunny-sweep-99</a></strong> to <a href='https://wandb.ai/lucasericsson222/restricted_boltzmann_machine_sweep' target=\"_blank\">Weights & Biases</a> (<a href='https://wandb.me/run' target=\"_blank\">docs</a>)<br/>Sweep page: <a href='https://wandb.ai/lucasericsson222/restricted_boltzmann_machine_sweep/sweeps/r1b5058x' target=\"_blank\">https://wandb.ai/lucasericsson222/restricted_boltzmann_machine_sweep/sweeps/r1b5058x</a>"
      ],
      "text/plain": [
       "<IPython.core.display.HTML object>"
      ]
     },
     "metadata": {},
     "output_type": "display_data"
    },
    {
     "data": {
      "text/html": [
       " View project at <a href='https://wandb.ai/lucasericsson222/restricted_boltzmann_machine_sweep' target=\"_blank\">https://wandb.ai/lucasericsson222/restricted_boltzmann_machine_sweep</a>"
      ],
      "text/plain": [
       "<IPython.core.display.HTML object>"
      ]
     },
     "metadata": {},
     "output_type": "display_data"
    },
    {
     "data": {
      "text/html": [
       " View sweep at <a href='https://wandb.ai/lucasericsson222/restricted_boltzmann_machine_sweep/sweeps/r1b5058x' target=\"_blank\">https://wandb.ai/lucasericsson222/restricted_boltzmann_machine_sweep/sweeps/r1b5058x</a>"
      ],
      "text/plain": [
       "<IPython.core.display.HTML object>"
      ]
     },
     "metadata": {},
     "output_type": "display_data"
    },
    {
     "data": {
      "text/html": [
       " View run at <a href='https://wandb.ai/lucasericsson222/restricted_boltzmann_machine_sweep/runs/ghf7c3qc' target=\"_blank\">https://wandb.ai/lucasericsson222/restricted_boltzmann_machine_sweep/runs/ghf7c3qc</a>"
      ],
      "text/plain": [
       "<IPython.core.display.HTML object>"
      ]
     },
     "metadata": {},
     "output_type": "display_data"
    },
    {
     "name": "stdout",
     "output_type": "stream",
     "text": [
      "(60000, 784)\n",
      "Epoch: 0\n",
      "current_weight_diff: 9.446177374187018\n",
      "sqrd_recon_error: 0.3441326530612245\n"
     ]
    },
    {
     "data": {
      "application/vnd.jupyter.widget-view+json": {
       "model_id": "cf1e3d68cad84273b5cd26c8e4b75c77",
       "version_major": 2,
       "version_minor": 0
      },
      "text/plain": [
       "VBox(children=(Label(value='0.001 MB of 0.001 MB uploaded\\r'), FloatProgress(value=1.0, max=1.0)))"
      ]
     },
     "metadata": {},
     "output_type": "display_data"
    },
    {
     "name": "stderr",
     "output_type": "stream",
     "text": [
      "\u001b[34m\u001b[1mwandb\u001b[0m: \u001b[32m\u001b[41mERROR\u001b[0m Problem finishing run\n",
      "Traceback (most recent call last):\n",
      "  File \"/Library/Frameworks/Python.framework/Versions/3.10/lib/python3.10/site-packages/wandb/sdk/wandb_run.py\", line 2313, in _atexit_cleanup\n",
      "    self._on_finish()\n",
      "  File \"/Library/Frameworks/Python.framework/Versions/3.10/lib/python3.10/site-packages/wandb/sdk/wandb_run.py\", line 2567, in _on_finish\n",
      "    self._footer_file_pusher_status_info(\n",
      "  File \"/Library/Frameworks/Python.framework/Versions/3.10/lib/python3.10/site-packages/wandb/sdk/wandb_run.py\", line 3749, in _footer_file_pusher_status_info\n",
      "    Run._footer_single_run_file_pusher_status_info(\n",
      "  File \"/Library/Frameworks/Python.framework/Versions/3.10/lib/python3.10/site-packages/wandb/sdk/wandb_run.py\", line 3802, in _footer_single_run_file_pusher_status_info\n",
      "    printer.progress_close()\n",
      "  File \"/Library/Frameworks/Python.framework/Versions/3.10/lib/python3.10/site-packages/wandb/sdk/lib/printer.py\", line 292, in progress_close\n",
      "    self._progress.close()\n",
      "  File \"/Library/Frameworks/Python.framework/Versions/3.10/lib/python3.10/site-packages/wandb/sdk/lib/ipython.py\", line 128, in close\n",
      "    self._widget.close()\n",
      "  File \"/Users/lucasericsson/Library/Python/3.10/lib/python/site-packages/ipywidgets/widgets/widget.py\", line 500, in close\n",
      "    self.comm.close()\n",
      "  File \"/Users/lucasericsson/Library/Python/3.10/lib/python/site-packages/comm/base_comm.py\", line 109, in close\n",
      "    comm.get_comm_manager().unregister_comm(self)\n",
      "  File \"/Users/lucasericsson/Library/Python/3.10/lib/python/site-packages/comm/base_comm.py\", line 199, in unregister_comm\n",
      "    comm = self.comms.pop(comm.comm_id)\n",
      "KeyError: 'cf1e3d68cad84273b5cd26c8e4b75c77'\n",
      "\u001b[34m\u001b[1mwandb\u001b[0m: Agent Starting Run: a5mh7zfw with config:\n",
      "\u001b[34m\u001b[1mwandb\u001b[0m: \tepochs: 1\n",
      "\u001b[34m\u001b[1mwandb\u001b[0m: \thidden_units: 200\n",
      "\u001b[34m\u001b[1mwandb\u001b[0m: \tk: 3\n",
      "\u001b[34m\u001b[1mwandb\u001b[0m: \tminibatch: 150\n",
      "Failed to detect the name of this notebook, you can set it manually with the WANDB_NOTEBOOK_NAME environment variable to enable code saving.\n",
      "\u001b[34m\u001b[1mwandb\u001b[0m: \u001b[33mWARNING\u001b[0m Ignored wandb.init() arg project when running a sweep.\n"
     ]
    },
    {
     "data": {
      "text/html": [
       "Tracking run with wandb version 0.16.6"
      ],
      "text/plain": [
       "<IPython.core.display.HTML object>"
      ]
     },
     "metadata": {},
     "output_type": "display_data"
    },
    {
     "data": {
      "text/html": [
       "Run data is saved locally in <code>/Users/lucasericsson/repos/restricted-boltzmann-machine/wandb/run-20240409_043829-a5mh7zfw</code>"
      ],
      "text/plain": [
       "<IPython.core.display.HTML object>"
      ]
     },
     "metadata": {},
     "output_type": "display_data"
    },
    {
     "data": {
      "text/html": [
       "Syncing run <strong><a href='https://wandb.ai/lucasericsson222/restricted_boltzmann_machine_sweep/runs/a5mh7zfw' target=\"_blank\">driven-sweep-100</a></strong> to <a href='https://wandb.ai/lucasericsson222/restricted_boltzmann_machine_sweep' target=\"_blank\">Weights & Biases</a> (<a href='https://wandb.me/run' target=\"_blank\">docs</a>)<br/>Sweep page: <a href='https://wandb.ai/lucasericsson222/restricted_boltzmann_machine_sweep/sweeps/r1b5058x' target=\"_blank\">https://wandb.ai/lucasericsson222/restricted_boltzmann_machine_sweep/sweeps/r1b5058x</a>"
      ],
      "text/plain": [
       "<IPython.core.display.HTML object>"
      ]
     },
     "metadata": {},
     "output_type": "display_data"
    },
    {
     "data": {
      "text/html": [
       " View project at <a href='https://wandb.ai/lucasericsson222/restricted_boltzmann_machine_sweep' target=\"_blank\">https://wandb.ai/lucasericsson222/restricted_boltzmann_machine_sweep</a>"
      ],
      "text/plain": [
       "<IPython.core.display.HTML object>"
      ]
     },
     "metadata": {},
     "output_type": "display_data"
    },
    {
     "data": {
      "text/html": [
       " View sweep at <a href='https://wandb.ai/lucasericsson222/restricted_boltzmann_machine_sweep/sweeps/r1b5058x' target=\"_blank\">https://wandb.ai/lucasericsson222/restricted_boltzmann_machine_sweep/sweeps/r1b5058x</a>"
      ],
      "text/plain": [
       "<IPython.core.display.HTML object>"
      ]
     },
     "metadata": {},
     "output_type": "display_data"
    },
    {
     "data": {
      "text/html": [
       " View run at <a href='https://wandb.ai/lucasericsson222/restricted_boltzmann_machine_sweep/runs/a5mh7zfw' target=\"_blank\">https://wandb.ai/lucasericsson222/restricted_boltzmann_machine_sweep/runs/a5mh7zfw</a>"
      ],
      "text/plain": [
       "<IPython.core.display.HTML object>"
      ]
     },
     "metadata": {},
     "output_type": "display_data"
    },
    {
     "name": "stdout",
     "output_type": "stream",
     "text": [
      "(60000, 784)\n",
      "Epoch: 0\n",
      "current_weight_diff: 52.71690085922913\n",
      "sqrd_recon_error: 1.5600850340136054\n"
     ]
    },
    {
     "data": {
      "application/vnd.jupyter.widget-view+json": {
       "model_id": "d6bcf53a9b044c50bf35215ad269e29e",
       "version_major": 2,
       "version_minor": 0
      },
      "text/plain": [
       "VBox(children=(Label(value='0.001 MB of 0.001 MB uploaded\\r'), FloatProgress(value=1.0, max=1.0)))"
      ]
     },
     "metadata": {},
     "output_type": "display_data"
    },
    {
     "name": "stderr",
     "output_type": "stream",
     "text": [
      "\u001b[34m\u001b[1mwandb\u001b[0m: \u001b[32m\u001b[41mERROR\u001b[0m Problem finishing run\n",
      "Traceback (most recent call last):\n",
      "  File \"/Library/Frameworks/Python.framework/Versions/3.10/lib/python3.10/site-packages/wandb/sdk/wandb_run.py\", line 2313, in _atexit_cleanup\n",
      "    self._on_finish()\n",
      "  File \"/Library/Frameworks/Python.framework/Versions/3.10/lib/python3.10/site-packages/wandb/sdk/wandb_run.py\", line 2567, in _on_finish\n",
      "    self._footer_file_pusher_status_info(\n",
      "  File \"/Library/Frameworks/Python.framework/Versions/3.10/lib/python3.10/site-packages/wandb/sdk/wandb_run.py\", line 3749, in _footer_file_pusher_status_info\n",
      "    Run._footer_single_run_file_pusher_status_info(\n",
      "  File \"/Library/Frameworks/Python.framework/Versions/3.10/lib/python3.10/site-packages/wandb/sdk/wandb_run.py\", line 3802, in _footer_single_run_file_pusher_status_info\n",
      "    printer.progress_close()\n",
      "  File \"/Library/Frameworks/Python.framework/Versions/3.10/lib/python3.10/site-packages/wandb/sdk/lib/printer.py\", line 292, in progress_close\n",
      "    self._progress.close()\n",
      "  File \"/Library/Frameworks/Python.framework/Versions/3.10/lib/python3.10/site-packages/wandb/sdk/lib/ipython.py\", line 128, in close\n",
      "    self._widget.close()\n",
      "  File \"/Users/lucasericsson/Library/Python/3.10/lib/python/site-packages/ipywidgets/widgets/widget.py\", line 500, in close\n",
      "    self.comm.close()\n",
      "  File \"/Users/lucasericsson/Library/Python/3.10/lib/python/site-packages/comm/base_comm.py\", line 109, in close\n",
      "    comm.get_comm_manager().unregister_comm(self)\n",
      "  File \"/Users/lucasericsson/Library/Python/3.10/lib/python/site-packages/comm/base_comm.py\", line 199, in unregister_comm\n",
      "    comm = self.comms.pop(comm.comm_id)\n",
      "KeyError: 'd6bcf53a9b044c50bf35215ad269e29e'\n"
     ]
    }
   ],
   "source": [
    "import RestrictedBoltzmannMachine as RBM\n",
    "import numpy as np\n",
    "\n",
    "def objective(config):\n",
    "    my_rbm = RBM.RestrictedBoltzmannMachine(28*28, config.hidden_units)\n",
    "    my_rbm.minibatchsize = config.minibatch\n",
    "\n",
    "    data = None\n",
    "    with open(\"train-images.idx3-ubyte\", \"rb\") as f:\n",
    "        data = np.frombuffer(f.read(), np.uint8, offset=16).reshape(-1,28*28)\n",
    "\n",
    "    data = (data > 128).astype(np.uint8)\n",
    "\n",
    "    validation_data = None\n",
    "    with open(\"t10k-images.idx3-ubyte\", \"rb\") as f:\n",
    "        validation_data = np.frombuffer(f.read(), np.uint8, offset=16).reshape(-1,28*28)\n",
    "\n",
    "    validation_data = (validation_data > 128).astype(np.uint8)\n",
    "    my_rbm.contrastive_divergence(data, validation_data, config.epochs, config.k)\n",
    "\n",
    "    score = my_rbm.calculate_pixel_reconstruction_error(validation_data, 10, 100)\n",
    "    return score\n",
    "\n",
    "def main():\n",
    "    wandb.init(project=\"restricted_boltzmann_machine_sweep\")\n",
    "    score = objective(wandb.config)\n",
    "    wandb.log({\"score\":score})\n",
    "\n",
    "sweep_configuration = {\n",
    "    \"method\": \"random\",\n",
    "    \"metric\": {\"goal\": \"minimize\", \"name\": \"score\"},\n",
    "    \"parameters\": {\n",
    "        \"epochs\": {\"values\": [1, 2, 3, 4, 5, 10, 20, 30]},\n",
    "        \"k\": {\"values\": [1, 2, 3, 4, 5, 10, 20, 30]},\n",
    "        \"minibatch\": {\"values\": [50, 100, 150, 200]},\n",
    "        \"hidden_units\": {\"values\": [10, 20, 50, 100, 200, 300, 28*28, 1000]},\n",
    "    },\n",
    "}\n",
    "\n",
    "sweep_id = wandb.sweep(sweep=sweep_configuration, project=\"restricted_boltzmann_machine_sweep\")\n",
    "\n",
    "wandb.agent(sweep_id, function=main, count=100)"
   ]
  },
  {
   "cell_type": "code",
   "execution_count": null,
   "metadata": {},
   "outputs": [],
   "source": []
  }
 ],
 "metadata": {
  "kernelspec": {
   "display_name": "Python 3",
   "language": "python",
   "name": "python3"
  },
  "language_info": {
   "codemirror_mode": {
    "name": "ipython",
    "version": 3
   },
   "file_extension": ".py",
   "mimetype": "text/x-python",
   "name": "python",
   "nbconvert_exporter": "python",
   "pygments_lexer": "ipython3",
   "version": "3.10.6"
  }
 },
 "nbformat": 4,
 "nbformat_minor": 2
}
