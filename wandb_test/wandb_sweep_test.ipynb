{
 "cells": [
  {
   "cell_type": "markdown",
   "metadata": {},
   "source": [
    "This is following the tutorial at [https://docs.wandb.ai/guides/sweeps/walkthrough]()"
   ]
  },
  {
   "cell_type": "code",
   "execution_count": 1,
   "metadata": {},
   "outputs": [
    {
     "name": "stderr",
     "output_type": "stream",
     "text": [
      "Failed to detect the name of this notebook, you can set it manually with the WANDB_NOTEBOOK_NAME environment variable to enable code saving.\n",
      "\u001b[34m\u001b[1mwandb\u001b[0m: Currently logged in as: \u001b[33mlucasericsson\u001b[0m (\u001b[33mlucasericsson222\u001b[0m). Use \u001b[1m`wandb login --relogin`\u001b[0m to force relogin\n"
     ]
    },
    {
     "data": {
      "text/plain": [
       "True"
      ]
     },
     "execution_count": 1,
     "metadata": {},
     "output_type": "execute_result"
    }
   ],
   "source": [
    "import wandb\n",
    "\n",
    "wandb.login()"
   ]
  },
  {
   "cell_type": "code",
   "execution_count": 2,
   "metadata": {},
   "outputs": [
    {
     "name": "stdout",
     "output_type": "stream",
     "text": [
      "Create sweep with ID: su5csc5s\n",
      "Sweep URL: https://wandb.ai/lucasericsson222/my-first-sweep/sweeps/su5csc5s\n"
     ]
    },
    {
     "name": "stderr",
     "output_type": "stream",
     "text": [
      "\u001b[34m\u001b[1mwandb\u001b[0m: Agent Starting Run: jtaja65s with config:\n",
      "\u001b[34m\u001b[1mwandb\u001b[0m: \tx: 0.07782441666632975\n",
      "\u001b[34m\u001b[1mwandb\u001b[0m: \ty: 7\n",
      "Failed to detect the name of this notebook, you can set it manually with the WANDB_NOTEBOOK_NAME environment variable to enable code saving.\n",
      "\u001b[34m\u001b[1mwandb\u001b[0m: \u001b[33mWARNING\u001b[0m Ignored wandb.init() arg project when running a sweep.\n"
     ]
    },
    {
     "data": {
      "text/html": [
       "Tracking run with wandb version 0.16.6"
      ],
      "text/plain": [
       "<IPython.core.display.HTML object>"
      ]
     },
     "metadata": {},
     "output_type": "display_data"
    },
    {
     "data": {
      "text/html": [
       "Run data is saved locally in <code>/Users/lucasericsson/repos/restricted-boltzmann-machine/wandb_test/wandb/run-20240408_215541-jtaja65s</code>"
      ],
      "text/plain": [
       "<IPython.core.display.HTML object>"
      ]
     },
     "metadata": {},
     "output_type": "display_data"
    },
    {
     "data": {
      "text/html": [
       "Syncing run <strong><a href='https://wandb.ai/lucasericsson222/my-first-sweep/runs/jtaja65s' target=\"_blank\">astral-sweep-1</a></strong> to <a href='https://wandb.ai/lucasericsson222/my-first-sweep' target=\"_blank\">Weights & Biases</a> (<a href='https://wandb.me/run' target=\"_blank\">docs</a>)<br/>Sweep page: <a href='https://wandb.ai/lucasericsson222/my-first-sweep/sweeps/su5csc5s' target=\"_blank\">https://wandb.ai/lucasericsson222/my-first-sweep/sweeps/su5csc5s</a>"
      ],
      "text/plain": [
       "<IPython.core.display.HTML object>"
      ]
     },
     "metadata": {},
     "output_type": "display_data"
    },
    {
     "data": {
      "text/html": [
       " View project at <a href='https://wandb.ai/lucasericsson222/my-first-sweep' target=\"_blank\">https://wandb.ai/lucasericsson222/my-first-sweep</a>"
      ],
      "text/plain": [
       "<IPython.core.display.HTML object>"
      ]
     },
     "metadata": {},
     "output_type": "display_data"
    },
    {
     "data": {
      "text/html": [
       " View sweep at <a href='https://wandb.ai/lucasericsson222/my-first-sweep/sweeps/su5csc5s' target=\"_blank\">https://wandb.ai/lucasericsson222/my-first-sweep/sweeps/su5csc5s</a>"
      ],
      "text/plain": [
       "<IPython.core.display.HTML object>"
      ]
     },
     "metadata": {},
     "output_type": "display_data"
    },
    {
     "data": {
      "text/html": [
       " View run at <a href='https://wandb.ai/lucasericsson222/my-first-sweep/runs/jtaja65s' target=\"_blank\">https://wandb.ai/lucasericsson222/my-first-sweep/runs/jtaja65s</a>"
      ],
      "text/plain": [
       "<IPython.core.display.HTML object>"
      ]
     },
     "metadata": {},
     "output_type": "display_data"
    },
    {
     "data": {
      "application/vnd.jupyter.widget-view+json": {
       "model_id": "ab9a8369f7924a59b0cbdf79b863ab54",
       "version_major": 2,
       "version_minor": 0
      },
      "text/plain": [
       "VBox(children=(Label(value='0.003 MB of 0.003 MB uploaded\\r'), FloatProgress(value=1.0, max=1.0)))"
      ]
     },
     "metadata": {},
     "output_type": "display_data"
    },
    {
     "name": "stderr",
     "output_type": "stream",
     "text": [
      "\u001b[34m\u001b[1mwandb\u001b[0m: \u001b[32m\u001b[41mERROR\u001b[0m Problem finishing run\n",
      "Traceback (most recent call last):\n",
      "  File \"/Library/Frameworks/Python.framework/Versions/3.10/lib/python3.10/site-packages/wandb/sdk/wandb_run.py\", line 2313, in _atexit_cleanup\n",
      "    self._on_finish()\n",
      "  File \"/Library/Frameworks/Python.framework/Versions/3.10/lib/python3.10/site-packages/wandb/sdk/wandb_run.py\", line 2567, in _on_finish\n",
      "    self._footer_file_pusher_status_info(\n",
      "  File \"/Library/Frameworks/Python.framework/Versions/3.10/lib/python3.10/site-packages/wandb/sdk/wandb_run.py\", line 3749, in _footer_file_pusher_status_info\n",
      "    Run._footer_single_run_file_pusher_status_info(\n",
      "  File \"/Library/Frameworks/Python.framework/Versions/3.10/lib/python3.10/site-packages/wandb/sdk/wandb_run.py\", line 3802, in _footer_single_run_file_pusher_status_info\n",
      "    printer.progress_close()\n",
      "  File \"/Library/Frameworks/Python.framework/Versions/3.10/lib/python3.10/site-packages/wandb/sdk/lib/printer.py\", line 292, in progress_close\n",
      "    self._progress.close()\n",
      "  File \"/Library/Frameworks/Python.framework/Versions/3.10/lib/python3.10/site-packages/wandb/sdk/lib/ipython.py\", line 128, in close\n",
      "    self._widget.close()\n",
      "  File \"/Users/lucasericsson/Library/Python/3.10/lib/python/site-packages/ipywidgets/widgets/widget.py\", line 500, in close\n",
      "    self.comm.close()\n",
      "  File \"/Users/lucasericsson/Library/Python/3.10/lib/python/site-packages/comm/base_comm.py\", line 109, in close\n",
      "    comm.get_comm_manager().unregister_comm(self)\n",
      "  File \"/Users/lucasericsson/Library/Python/3.10/lib/python/site-packages/comm/base_comm.py\", line 199, in unregister_comm\n",
      "    comm = self.comms.pop(comm.comm_id)\n",
      "KeyError: 'ab9a8369f7924a59b0cbdf79b863ab54'\n",
      "\u001b[34m\u001b[1mwandb\u001b[0m: Agent Starting Run: izqaguqs with config:\n",
      "\u001b[34m\u001b[1mwandb\u001b[0m: \tx: 0.07971972506977638\n",
      "\u001b[34m\u001b[1mwandb\u001b[0m: \ty: 3\n",
      "Failed to detect the name of this notebook, you can set it manually with the WANDB_NOTEBOOK_NAME environment variable to enable code saving.\n",
      "\u001b[34m\u001b[1mwandb\u001b[0m: \u001b[33mWARNING\u001b[0m Ignored wandb.init() arg project when running a sweep.\n"
     ]
    },
    {
     "data": {
      "text/html": [
       "Tracking run with wandb version 0.16.6"
      ],
      "text/plain": [
       "<IPython.core.display.HTML object>"
      ]
     },
     "metadata": {},
     "output_type": "display_data"
    },
    {
     "data": {
      "text/html": [
       "Run data is saved locally in <code>/Users/lucasericsson/repos/restricted-boltzmann-machine/wandb_test/wandb/run-20240408_215547-izqaguqs</code>"
      ],
      "text/plain": [
       "<IPython.core.display.HTML object>"
      ]
     },
     "metadata": {},
     "output_type": "display_data"
    },
    {
     "data": {
      "text/html": [
       "Syncing run <strong><a href='https://wandb.ai/lucasericsson222/my-first-sweep/runs/izqaguqs' target=\"_blank\">proud-sweep-2</a></strong> to <a href='https://wandb.ai/lucasericsson222/my-first-sweep' target=\"_blank\">Weights & Biases</a> (<a href='https://wandb.me/run' target=\"_blank\">docs</a>)<br/>Sweep page: <a href='https://wandb.ai/lucasericsson222/my-first-sweep/sweeps/su5csc5s' target=\"_blank\">https://wandb.ai/lucasericsson222/my-first-sweep/sweeps/su5csc5s</a>"
      ],
      "text/plain": [
       "<IPython.core.display.HTML object>"
      ]
     },
     "metadata": {},
     "output_type": "display_data"
    },
    {
     "data": {
      "text/html": [
       " View project at <a href='https://wandb.ai/lucasericsson222/my-first-sweep' target=\"_blank\">https://wandb.ai/lucasericsson222/my-first-sweep</a>"
      ],
      "text/plain": [
       "<IPython.core.display.HTML object>"
      ]
     },
     "metadata": {},
     "output_type": "display_data"
    },
    {
     "data": {
      "text/html": [
       " View sweep at <a href='https://wandb.ai/lucasericsson222/my-first-sweep/sweeps/su5csc5s' target=\"_blank\">https://wandb.ai/lucasericsson222/my-first-sweep/sweeps/su5csc5s</a>"
      ],
      "text/plain": [
       "<IPython.core.display.HTML object>"
      ]
     },
     "metadata": {},
     "output_type": "display_data"
    },
    {
     "data": {
      "text/html": [
       " View run at <a href='https://wandb.ai/lucasericsson222/my-first-sweep/runs/izqaguqs' target=\"_blank\">https://wandb.ai/lucasericsson222/my-first-sweep/runs/izqaguqs</a>"
      ],
      "text/plain": [
       "<IPython.core.display.HTML object>"
      ]
     },
     "metadata": {},
     "output_type": "display_data"
    },
    {
     "data": {
      "application/vnd.jupyter.widget-view+json": {
       "model_id": "d98e39365010425a852be122e925d542",
       "version_major": 2,
       "version_minor": 0
      },
      "text/plain": [
       "VBox(children=(Label(value='0.003 MB of 0.003 MB uploaded\\r'), FloatProgress(value=1.0, max=1.0)))"
      ]
     },
     "metadata": {},
     "output_type": "display_data"
    },
    {
     "name": "stderr",
     "output_type": "stream",
     "text": [
      "\u001b[34m\u001b[1mwandb\u001b[0m: \u001b[32m\u001b[41mERROR\u001b[0m Problem finishing run\n",
      "Traceback (most recent call last):\n",
      "  File \"/Library/Frameworks/Python.framework/Versions/3.10/lib/python3.10/site-packages/wandb/sdk/wandb_run.py\", line 2313, in _atexit_cleanup\n",
      "    self._on_finish()\n",
      "  File \"/Library/Frameworks/Python.framework/Versions/3.10/lib/python3.10/site-packages/wandb/sdk/wandb_run.py\", line 2567, in _on_finish\n",
      "    self._footer_file_pusher_status_info(\n",
      "  File \"/Library/Frameworks/Python.framework/Versions/3.10/lib/python3.10/site-packages/wandb/sdk/wandb_run.py\", line 3749, in _footer_file_pusher_status_info\n",
      "    Run._footer_single_run_file_pusher_status_info(\n",
      "  File \"/Library/Frameworks/Python.framework/Versions/3.10/lib/python3.10/site-packages/wandb/sdk/wandb_run.py\", line 3802, in _footer_single_run_file_pusher_status_info\n",
      "    printer.progress_close()\n",
      "  File \"/Library/Frameworks/Python.framework/Versions/3.10/lib/python3.10/site-packages/wandb/sdk/lib/printer.py\", line 292, in progress_close\n",
      "    self._progress.close()\n",
      "  File \"/Library/Frameworks/Python.framework/Versions/3.10/lib/python3.10/site-packages/wandb/sdk/lib/ipython.py\", line 128, in close\n",
      "    self._widget.close()\n",
      "  File \"/Users/lucasericsson/Library/Python/3.10/lib/python/site-packages/ipywidgets/widgets/widget.py\", line 500, in close\n",
      "    self.comm.close()\n",
      "  File \"/Users/lucasericsson/Library/Python/3.10/lib/python/site-packages/comm/base_comm.py\", line 109, in close\n",
      "    comm.get_comm_manager().unregister_comm(self)\n",
      "  File \"/Users/lucasericsson/Library/Python/3.10/lib/python/site-packages/comm/base_comm.py\", line 199, in unregister_comm\n",
      "    comm = self.comms.pop(comm.comm_id)\n",
      "KeyError: 'd98e39365010425a852be122e925d542'\n",
      "\u001b[34m\u001b[1mwandb\u001b[0m: Agent Starting Run: lqc4ozey with config:\n",
      "\u001b[34m\u001b[1mwandb\u001b[0m: \tx: 0.03853637596350261\n",
      "\u001b[34m\u001b[1mwandb\u001b[0m: \ty: 3\n",
      "Failed to detect the name of this notebook, you can set it manually with the WANDB_NOTEBOOK_NAME environment variable to enable code saving.\n",
      "\u001b[34m\u001b[1mwandb\u001b[0m: \u001b[33mWARNING\u001b[0m Ignored wandb.init() arg project when running a sweep.\n"
     ]
    },
    {
     "data": {
      "text/html": [
       "Tracking run with wandb version 0.16.6"
      ],
      "text/plain": [
       "<IPython.core.display.HTML object>"
      ]
     },
     "metadata": {},
     "output_type": "display_data"
    },
    {
     "data": {
      "text/html": [
       "Run data is saved locally in <code>/Users/lucasericsson/repos/restricted-boltzmann-machine/wandb_test/wandb/run-20240408_215552-lqc4ozey</code>"
      ],
      "text/plain": [
       "<IPython.core.display.HTML object>"
      ]
     },
     "metadata": {},
     "output_type": "display_data"
    },
    {
     "data": {
      "text/html": [
       "Syncing run <strong><a href='https://wandb.ai/lucasericsson222/my-first-sweep/runs/lqc4ozey' target=\"_blank\">soft-sweep-3</a></strong> to <a href='https://wandb.ai/lucasericsson222/my-first-sweep' target=\"_blank\">Weights & Biases</a> (<a href='https://wandb.me/run' target=\"_blank\">docs</a>)<br/>Sweep page: <a href='https://wandb.ai/lucasericsson222/my-first-sweep/sweeps/su5csc5s' target=\"_blank\">https://wandb.ai/lucasericsson222/my-first-sweep/sweeps/su5csc5s</a>"
      ],
      "text/plain": [
       "<IPython.core.display.HTML object>"
      ]
     },
     "metadata": {},
     "output_type": "display_data"
    },
    {
     "data": {
      "text/html": [
       " View project at <a href='https://wandb.ai/lucasericsson222/my-first-sweep' target=\"_blank\">https://wandb.ai/lucasericsson222/my-first-sweep</a>"
      ],
      "text/plain": [
       "<IPython.core.display.HTML object>"
      ]
     },
     "metadata": {},
     "output_type": "display_data"
    },
    {
     "data": {
      "text/html": [
       " View sweep at <a href='https://wandb.ai/lucasericsson222/my-first-sweep/sweeps/su5csc5s' target=\"_blank\">https://wandb.ai/lucasericsson222/my-first-sweep/sweeps/su5csc5s</a>"
      ],
      "text/plain": [
       "<IPython.core.display.HTML object>"
      ]
     },
     "metadata": {},
     "output_type": "display_data"
    },
    {
     "data": {
      "text/html": [
       " View run at <a href='https://wandb.ai/lucasericsson222/my-first-sweep/runs/lqc4ozey' target=\"_blank\">https://wandb.ai/lucasericsson222/my-first-sweep/runs/lqc4ozey</a>"
      ],
      "text/plain": [
       "<IPython.core.display.HTML object>"
      ]
     },
     "metadata": {},
     "output_type": "display_data"
    },
    {
     "data": {
      "application/vnd.jupyter.widget-view+json": {
       "model_id": "444ccb92e1b54315a5a2ebd745d26a4d",
       "version_major": 2,
       "version_minor": 0
      },
      "text/plain": [
       "VBox(children=(Label(value='0.003 MB of 0.003 MB uploaded\\r'), FloatProgress(value=1.0, max=1.0)))"
      ]
     },
     "metadata": {},
     "output_type": "display_data"
    },
    {
     "name": "stderr",
     "output_type": "stream",
     "text": [
      "\u001b[34m\u001b[1mwandb\u001b[0m: \u001b[32m\u001b[41mERROR\u001b[0m Problem finishing run\n",
      "Traceback (most recent call last):\n",
      "  File \"/Library/Frameworks/Python.framework/Versions/3.10/lib/python3.10/site-packages/wandb/sdk/wandb_run.py\", line 2313, in _atexit_cleanup\n",
      "    self._on_finish()\n",
      "  File \"/Library/Frameworks/Python.framework/Versions/3.10/lib/python3.10/site-packages/wandb/sdk/wandb_run.py\", line 2567, in _on_finish\n",
      "    self._footer_file_pusher_status_info(\n",
      "  File \"/Library/Frameworks/Python.framework/Versions/3.10/lib/python3.10/site-packages/wandb/sdk/wandb_run.py\", line 3749, in _footer_file_pusher_status_info\n",
      "    Run._footer_single_run_file_pusher_status_info(\n",
      "  File \"/Library/Frameworks/Python.framework/Versions/3.10/lib/python3.10/site-packages/wandb/sdk/wandb_run.py\", line 3802, in _footer_single_run_file_pusher_status_info\n",
      "    printer.progress_close()\n",
      "  File \"/Library/Frameworks/Python.framework/Versions/3.10/lib/python3.10/site-packages/wandb/sdk/lib/printer.py\", line 292, in progress_close\n",
      "    self._progress.close()\n",
      "  File \"/Library/Frameworks/Python.framework/Versions/3.10/lib/python3.10/site-packages/wandb/sdk/lib/ipython.py\", line 128, in close\n",
      "    self._widget.close()\n",
      "  File \"/Users/lucasericsson/Library/Python/3.10/lib/python/site-packages/ipywidgets/widgets/widget.py\", line 500, in close\n",
      "    self.comm.close()\n",
      "  File \"/Users/lucasericsson/Library/Python/3.10/lib/python/site-packages/comm/base_comm.py\", line 109, in close\n",
      "    comm.get_comm_manager().unregister_comm(self)\n",
      "  File \"/Users/lucasericsson/Library/Python/3.10/lib/python/site-packages/comm/base_comm.py\", line 199, in unregister_comm\n",
      "    comm = self.comms.pop(comm.comm_id)\n",
      "KeyError: '444ccb92e1b54315a5a2ebd745d26a4d'\n",
      "\u001b[34m\u001b[1mwandb\u001b[0m: Agent Starting Run: 31zmgdxw with config:\n",
      "\u001b[34m\u001b[1mwandb\u001b[0m: \tx: 0.02337651720145014\n",
      "\u001b[34m\u001b[1mwandb\u001b[0m: \ty: 7\n",
      "Failed to detect the name of this notebook, you can set it manually with the WANDB_NOTEBOOK_NAME environment variable to enable code saving.\n",
      "\u001b[34m\u001b[1mwandb\u001b[0m: \u001b[33mWARNING\u001b[0m Ignored wandb.init() arg project when running a sweep.\n"
     ]
    },
    {
     "data": {
      "text/html": [
       "Tracking run with wandb version 0.16.6"
      ],
      "text/plain": [
       "<IPython.core.display.HTML object>"
      ]
     },
     "metadata": {},
     "output_type": "display_data"
    },
    {
     "data": {
      "text/html": [
       "Run data is saved locally in <code>/Users/lucasericsson/repos/restricted-boltzmann-machine/wandb_test/wandb/run-20240408_215558-31zmgdxw</code>"
      ],
      "text/plain": [
       "<IPython.core.display.HTML object>"
      ]
     },
     "metadata": {},
     "output_type": "display_data"
    },
    {
     "data": {
      "text/html": [
       "Syncing run <strong><a href='https://wandb.ai/lucasericsson222/my-first-sweep/runs/31zmgdxw' target=\"_blank\">splendid-sweep-4</a></strong> to <a href='https://wandb.ai/lucasericsson222/my-first-sweep' target=\"_blank\">Weights & Biases</a> (<a href='https://wandb.me/run' target=\"_blank\">docs</a>)<br/>Sweep page: <a href='https://wandb.ai/lucasericsson222/my-first-sweep/sweeps/su5csc5s' target=\"_blank\">https://wandb.ai/lucasericsson222/my-first-sweep/sweeps/su5csc5s</a>"
      ],
      "text/plain": [
       "<IPython.core.display.HTML object>"
      ]
     },
     "metadata": {},
     "output_type": "display_data"
    },
    {
     "data": {
      "text/html": [
       " View project at <a href='https://wandb.ai/lucasericsson222/my-first-sweep' target=\"_blank\">https://wandb.ai/lucasericsson222/my-first-sweep</a>"
      ],
      "text/plain": [
       "<IPython.core.display.HTML object>"
      ]
     },
     "metadata": {},
     "output_type": "display_data"
    },
    {
     "data": {
      "text/html": [
       " View sweep at <a href='https://wandb.ai/lucasericsson222/my-first-sweep/sweeps/su5csc5s' target=\"_blank\">https://wandb.ai/lucasericsson222/my-first-sweep/sweeps/su5csc5s</a>"
      ],
      "text/plain": [
       "<IPython.core.display.HTML object>"
      ]
     },
     "metadata": {},
     "output_type": "display_data"
    },
    {
     "data": {
      "text/html": [
       " View run at <a href='https://wandb.ai/lucasericsson222/my-first-sweep/runs/31zmgdxw' target=\"_blank\">https://wandb.ai/lucasericsson222/my-first-sweep/runs/31zmgdxw</a>"
      ],
      "text/plain": [
       "<IPython.core.display.HTML object>"
      ]
     },
     "metadata": {},
     "output_type": "display_data"
    },
    {
     "data": {
      "application/vnd.jupyter.widget-view+json": {
       "model_id": "bf19bf09f2154d349cecfe0ba561098f",
       "version_major": 2,
       "version_minor": 0
      },
      "text/plain": [
       "VBox(children=(Label(value='0.001 MB of 0.001 MB uploaded\\r'), FloatProgress(value=1.0, max=1.0)))"
      ]
     },
     "metadata": {},
     "output_type": "display_data"
    },
    {
     "name": "stderr",
     "output_type": "stream",
     "text": [
      "\u001b[34m\u001b[1mwandb\u001b[0m: \u001b[32m\u001b[41mERROR\u001b[0m Problem finishing run\n",
      "Traceback (most recent call last):\n",
      "  File \"/Library/Frameworks/Python.framework/Versions/3.10/lib/python3.10/site-packages/wandb/sdk/wandb_run.py\", line 2313, in _atexit_cleanup\n",
      "    self._on_finish()\n",
      "  File \"/Library/Frameworks/Python.framework/Versions/3.10/lib/python3.10/site-packages/wandb/sdk/wandb_run.py\", line 2567, in _on_finish\n",
      "    self._footer_file_pusher_status_info(\n",
      "  File \"/Library/Frameworks/Python.framework/Versions/3.10/lib/python3.10/site-packages/wandb/sdk/wandb_run.py\", line 3749, in _footer_file_pusher_status_info\n",
      "    Run._footer_single_run_file_pusher_status_info(\n",
      "  File \"/Library/Frameworks/Python.framework/Versions/3.10/lib/python3.10/site-packages/wandb/sdk/wandb_run.py\", line 3802, in _footer_single_run_file_pusher_status_info\n",
      "    printer.progress_close()\n",
      "  File \"/Library/Frameworks/Python.framework/Versions/3.10/lib/python3.10/site-packages/wandb/sdk/lib/printer.py\", line 292, in progress_close\n",
      "    self._progress.close()\n",
      "  File \"/Library/Frameworks/Python.framework/Versions/3.10/lib/python3.10/site-packages/wandb/sdk/lib/ipython.py\", line 128, in close\n",
      "    self._widget.close()\n",
      "  File \"/Users/lucasericsson/Library/Python/3.10/lib/python/site-packages/ipywidgets/widgets/widget.py\", line 500, in close\n",
      "    self.comm.close()\n",
      "  File \"/Users/lucasericsson/Library/Python/3.10/lib/python/site-packages/comm/base_comm.py\", line 109, in close\n",
      "    comm.get_comm_manager().unregister_comm(self)\n",
      "  File \"/Users/lucasericsson/Library/Python/3.10/lib/python/site-packages/comm/base_comm.py\", line 199, in unregister_comm\n",
      "    comm = self.comms.pop(comm.comm_id)\n",
      "KeyError: 'bf19bf09f2154d349cecfe0ba561098f'\n",
      "\u001b[34m\u001b[1mwandb\u001b[0m: Agent Starting Run: xwmr9pzk with config:\n",
      "\u001b[34m\u001b[1mwandb\u001b[0m: \tx: 0.04222108921045711\n",
      "\u001b[34m\u001b[1mwandb\u001b[0m: \ty: 1\n",
      "Failed to detect the name of this notebook, you can set it manually with the WANDB_NOTEBOOK_NAME environment variable to enable code saving.\n",
      "\u001b[34m\u001b[1mwandb\u001b[0m: \u001b[33mWARNING\u001b[0m Ignored wandb.init() arg project when running a sweep.\n"
     ]
    },
    {
     "data": {
      "text/html": [
       "Tracking run with wandb version 0.16.6"
      ],
      "text/plain": [
       "<IPython.core.display.HTML object>"
      ]
     },
     "metadata": {},
     "output_type": "display_data"
    },
    {
     "data": {
      "text/html": [
       "Run data is saved locally in <code>/Users/lucasericsson/repos/restricted-boltzmann-machine/wandb_test/wandb/run-20240408_215607-xwmr9pzk</code>"
      ],
      "text/plain": [
       "<IPython.core.display.HTML object>"
      ]
     },
     "metadata": {},
     "output_type": "display_data"
    },
    {
     "data": {
      "text/html": [
       "Syncing run <strong><a href='https://wandb.ai/lucasericsson222/my-first-sweep/runs/xwmr9pzk' target=\"_blank\">deep-sweep-5</a></strong> to <a href='https://wandb.ai/lucasericsson222/my-first-sweep' target=\"_blank\">Weights & Biases</a> (<a href='https://wandb.me/run' target=\"_blank\">docs</a>)<br/>Sweep page: <a href='https://wandb.ai/lucasericsson222/my-first-sweep/sweeps/su5csc5s' target=\"_blank\">https://wandb.ai/lucasericsson222/my-first-sweep/sweeps/su5csc5s</a>"
      ],
      "text/plain": [
       "<IPython.core.display.HTML object>"
      ]
     },
     "metadata": {},
     "output_type": "display_data"
    },
    {
     "data": {
      "text/html": [
       " View project at <a href='https://wandb.ai/lucasericsson222/my-first-sweep' target=\"_blank\">https://wandb.ai/lucasericsson222/my-first-sweep</a>"
      ],
      "text/plain": [
       "<IPython.core.display.HTML object>"
      ]
     },
     "metadata": {},
     "output_type": "display_data"
    },
    {
     "data": {
      "text/html": [
       " View sweep at <a href='https://wandb.ai/lucasericsson222/my-first-sweep/sweeps/su5csc5s' target=\"_blank\">https://wandb.ai/lucasericsson222/my-first-sweep/sweeps/su5csc5s</a>"
      ],
      "text/plain": [
       "<IPython.core.display.HTML object>"
      ]
     },
     "metadata": {},
     "output_type": "display_data"
    },
    {
     "data": {
      "text/html": [
       " View run at <a href='https://wandb.ai/lucasericsson222/my-first-sweep/runs/xwmr9pzk' target=\"_blank\">https://wandb.ai/lucasericsson222/my-first-sweep/runs/xwmr9pzk</a>"
      ],
      "text/plain": [
       "<IPython.core.display.HTML object>"
      ]
     },
     "metadata": {},
     "output_type": "display_data"
    },
    {
     "data": {
      "application/vnd.jupyter.widget-view+json": {
       "model_id": "0d1e9aeb67694579bf30f6295b7f73d7",
       "version_major": 2,
       "version_minor": 0
      },
      "text/plain": [
       "VBox(children=(Label(value='0.001 MB of 0.001 MB uploaded\\r'), FloatProgress(value=1.0, max=1.0)))"
      ]
     },
     "metadata": {},
     "output_type": "display_data"
    },
    {
     "name": "stderr",
     "output_type": "stream",
     "text": [
      "\u001b[34m\u001b[1mwandb\u001b[0m: \u001b[32m\u001b[41mERROR\u001b[0m Problem finishing run\n",
      "Traceback (most recent call last):\n",
      "  File \"/Library/Frameworks/Python.framework/Versions/3.10/lib/python3.10/site-packages/wandb/sdk/wandb_run.py\", line 2313, in _atexit_cleanup\n",
      "    self._on_finish()\n",
      "  File \"/Library/Frameworks/Python.framework/Versions/3.10/lib/python3.10/site-packages/wandb/sdk/wandb_run.py\", line 2567, in _on_finish\n",
      "    self._footer_file_pusher_status_info(\n",
      "  File \"/Library/Frameworks/Python.framework/Versions/3.10/lib/python3.10/site-packages/wandb/sdk/wandb_run.py\", line 3749, in _footer_file_pusher_status_info\n",
      "    Run._footer_single_run_file_pusher_status_info(\n",
      "  File \"/Library/Frameworks/Python.framework/Versions/3.10/lib/python3.10/site-packages/wandb/sdk/wandb_run.py\", line 3802, in _footer_single_run_file_pusher_status_info\n",
      "    printer.progress_close()\n",
      "  File \"/Library/Frameworks/Python.framework/Versions/3.10/lib/python3.10/site-packages/wandb/sdk/lib/printer.py\", line 292, in progress_close\n",
      "    self._progress.close()\n",
      "  File \"/Library/Frameworks/Python.framework/Versions/3.10/lib/python3.10/site-packages/wandb/sdk/lib/ipython.py\", line 128, in close\n",
      "    self._widget.close()\n",
      "  File \"/Users/lucasericsson/Library/Python/3.10/lib/python/site-packages/ipywidgets/widgets/widget.py\", line 500, in close\n",
      "    self.comm.close()\n",
      "  File \"/Users/lucasericsson/Library/Python/3.10/lib/python/site-packages/comm/base_comm.py\", line 109, in close\n",
      "    comm.get_comm_manager().unregister_comm(self)\n",
      "  File \"/Users/lucasericsson/Library/Python/3.10/lib/python/site-packages/comm/base_comm.py\", line 199, in unregister_comm\n",
      "    comm = self.comms.pop(comm.comm_id)\n",
      "KeyError: '0d1e9aeb67694579bf30f6295b7f73d7'\n",
      "\u001b[34m\u001b[1mwandb\u001b[0m: Sweep Agent: Waiting for job.\n",
      "\u001b[34m\u001b[1mwandb\u001b[0m: Job received.\n",
      "\u001b[34m\u001b[1mwandb\u001b[0m: Agent Starting Run: wwl8uyvm with config:\n",
      "\u001b[34m\u001b[1mwandb\u001b[0m: \tx: 0.07880695737773886\n",
      "\u001b[34m\u001b[1mwandb\u001b[0m: \ty: 7\n",
      "Failed to detect the name of this notebook, you can set it manually with the WANDB_NOTEBOOK_NAME environment variable to enable code saving.\n",
      "\u001b[34m\u001b[1mwandb\u001b[0m: \u001b[33mWARNING\u001b[0m Ignored wandb.init() arg project when running a sweep.\n"
     ]
    },
    {
     "data": {
      "text/html": [
       "Tracking run with wandb version 0.16.6"
      ],
      "text/plain": [
       "<IPython.core.display.HTML object>"
      ]
     },
     "metadata": {},
     "output_type": "display_data"
    },
    {
     "data": {
      "text/html": [
       "Run data is saved locally in <code>/Users/lucasericsson/repos/restricted-boltzmann-machine/wandb_test/wandb/run-20240408_215624-wwl8uyvm</code>"
      ],
      "text/plain": [
       "<IPython.core.display.HTML object>"
      ]
     },
     "metadata": {},
     "output_type": "display_data"
    },
    {
     "data": {
      "text/html": [
       "Syncing run <strong><a href='https://wandb.ai/lucasericsson222/my-first-sweep/runs/wwl8uyvm' target=\"_blank\">fresh-sweep-6</a></strong> to <a href='https://wandb.ai/lucasericsson222/my-first-sweep' target=\"_blank\">Weights & Biases</a> (<a href='https://wandb.me/run' target=\"_blank\">docs</a>)<br/>Sweep page: <a href='https://wandb.ai/lucasericsson222/my-first-sweep/sweeps/su5csc5s' target=\"_blank\">https://wandb.ai/lucasericsson222/my-first-sweep/sweeps/su5csc5s</a>"
      ],
      "text/plain": [
       "<IPython.core.display.HTML object>"
      ]
     },
     "metadata": {},
     "output_type": "display_data"
    },
    {
     "data": {
      "text/html": [
       " View project at <a href='https://wandb.ai/lucasericsson222/my-first-sweep' target=\"_blank\">https://wandb.ai/lucasericsson222/my-first-sweep</a>"
      ],
      "text/plain": [
       "<IPython.core.display.HTML object>"
      ]
     },
     "metadata": {},
     "output_type": "display_data"
    },
    {
     "data": {
      "text/html": [
       " View sweep at <a href='https://wandb.ai/lucasericsson222/my-first-sweep/sweeps/su5csc5s' target=\"_blank\">https://wandb.ai/lucasericsson222/my-first-sweep/sweeps/su5csc5s</a>"
      ],
      "text/plain": [
       "<IPython.core.display.HTML object>"
      ]
     },
     "metadata": {},
     "output_type": "display_data"
    },
    {
     "data": {
      "text/html": [
       " View run at <a href='https://wandb.ai/lucasericsson222/my-first-sweep/runs/wwl8uyvm' target=\"_blank\">https://wandb.ai/lucasericsson222/my-first-sweep/runs/wwl8uyvm</a>"
      ],
      "text/plain": [
       "<IPython.core.display.HTML object>"
      ]
     },
     "metadata": {},
     "output_type": "display_data"
    },
    {
     "data": {
      "application/vnd.jupyter.widget-view+json": {
       "model_id": "738fc70942dd49109ea756784381a5b1",
       "version_major": 2,
       "version_minor": 0
      },
      "text/plain": [
       "VBox(children=(Label(value='0.001 MB of 0.001 MB uploaded\\r'), FloatProgress(value=1.0, max=1.0)))"
      ]
     },
     "metadata": {},
     "output_type": "display_data"
    },
    {
     "name": "stderr",
     "output_type": "stream",
     "text": [
      "\u001b[34m\u001b[1mwandb\u001b[0m: \u001b[32m\u001b[41mERROR\u001b[0m Problem finishing run\n",
      "Traceback (most recent call last):\n",
      "  File \"/Library/Frameworks/Python.framework/Versions/3.10/lib/python3.10/site-packages/wandb/sdk/wandb_run.py\", line 2313, in _atexit_cleanup\n",
      "    self._on_finish()\n",
      "  File \"/Library/Frameworks/Python.framework/Versions/3.10/lib/python3.10/site-packages/wandb/sdk/wandb_run.py\", line 2567, in _on_finish\n",
      "    self._footer_file_pusher_status_info(\n",
      "  File \"/Library/Frameworks/Python.framework/Versions/3.10/lib/python3.10/site-packages/wandb/sdk/wandb_run.py\", line 3749, in _footer_file_pusher_status_info\n",
      "    Run._footer_single_run_file_pusher_status_info(\n",
      "  File \"/Library/Frameworks/Python.framework/Versions/3.10/lib/python3.10/site-packages/wandb/sdk/wandb_run.py\", line 3802, in _footer_single_run_file_pusher_status_info\n",
      "    printer.progress_close()\n",
      "  File \"/Library/Frameworks/Python.framework/Versions/3.10/lib/python3.10/site-packages/wandb/sdk/lib/printer.py\", line 292, in progress_close\n",
      "    self._progress.close()\n",
      "  File \"/Library/Frameworks/Python.framework/Versions/3.10/lib/python3.10/site-packages/wandb/sdk/lib/ipython.py\", line 128, in close\n",
      "    self._widget.close()\n",
      "  File \"/Users/lucasericsson/Library/Python/3.10/lib/python/site-packages/ipywidgets/widgets/widget.py\", line 500, in close\n",
      "    self.comm.close()\n",
      "  File \"/Users/lucasericsson/Library/Python/3.10/lib/python/site-packages/comm/base_comm.py\", line 109, in close\n",
      "    comm.get_comm_manager().unregister_comm(self)\n",
      "  File \"/Users/lucasericsson/Library/Python/3.10/lib/python/site-packages/comm/base_comm.py\", line 199, in unregister_comm\n",
      "    comm = self.comms.pop(comm.comm_id)\n",
      "KeyError: '738fc70942dd49109ea756784381a5b1'\n",
      "\u001b[34m\u001b[1mwandb\u001b[0m: Agent Starting Run: wwxiuejw with config:\n",
      "\u001b[34m\u001b[1mwandb\u001b[0m: \tx: 0.043154986433461745\n",
      "\u001b[34m\u001b[1mwandb\u001b[0m: \ty: 3\n",
      "Failed to detect the name of this notebook, you can set it manually with the WANDB_NOTEBOOK_NAME environment variable to enable code saving.\n",
      "\u001b[34m\u001b[1mwandb\u001b[0m: \u001b[33mWARNING\u001b[0m Ignored wandb.init() arg project when running a sweep.\n"
     ]
    },
    {
     "data": {
      "text/html": [
       "Tracking run with wandb version 0.16.6"
      ],
      "text/plain": [
       "<IPython.core.display.HTML object>"
      ]
     },
     "metadata": {},
     "output_type": "display_data"
    },
    {
     "data": {
      "text/html": [
       "Run data is saved locally in <code>/Users/lucasericsson/repos/restricted-boltzmann-machine/wandb_test/wandb/run-20240408_215633-wwxiuejw</code>"
      ],
      "text/plain": [
       "<IPython.core.display.HTML object>"
      ]
     },
     "metadata": {},
     "output_type": "display_data"
    },
    {
     "data": {
      "text/html": [
       "Syncing run <strong><a href='https://wandb.ai/lucasericsson222/my-first-sweep/runs/wwxiuejw' target=\"_blank\">rare-sweep-7</a></strong> to <a href='https://wandb.ai/lucasericsson222/my-first-sweep' target=\"_blank\">Weights & Biases</a> (<a href='https://wandb.me/run' target=\"_blank\">docs</a>)<br/>Sweep page: <a href='https://wandb.ai/lucasericsson222/my-first-sweep/sweeps/su5csc5s' target=\"_blank\">https://wandb.ai/lucasericsson222/my-first-sweep/sweeps/su5csc5s</a>"
      ],
      "text/plain": [
       "<IPython.core.display.HTML object>"
      ]
     },
     "metadata": {},
     "output_type": "display_data"
    },
    {
     "data": {
      "text/html": [
       " View project at <a href='https://wandb.ai/lucasericsson222/my-first-sweep' target=\"_blank\">https://wandb.ai/lucasericsson222/my-first-sweep</a>"
      ],
      "text/plain": [
       "<IPython.core.display.HTML object>"
      ]
     },
     "metadata": {},
     "output_type": "display_data"
    },
    {
     "data": {
      "text/html": [
       " View sweep at <a href='https://wandb.ai/lucasericsson222/my-first-sweep/sweeps/su5csc5s' target=\"_blank\">https://wandb.ai/lucasericsson222/my-first-sweep/sweeps/su5csc5s</a>"
      ],
      "text/plain": [
       "<IPython.core.display.HTML object>"
      ]
     },
     "metadata": {},
     "output_type": "display_data"
    },
    {
     "data": {
      "text/html": [
       " View run at <a href='https://wandb.ai/lucasericsson222/my-first-sweep/runs/wwxiuejw' target=\"_blank\">https://wandb.ai/lucasericsson222/my-first-sweep/runs/wwxiuejw</a>"
      ],
      "text/plain": [
       "<IPython.core.display.HTML object>"
      ]
     },
     "metadata": {},
     "output_type": "display_data"
    },
    {
     "data": {
      "application/vnd.jupyter.widget-view+json": {
       "model_id": "91832a2a136d462294957b15b163c836",
       "version_major": 2,
       "version_minor": 0
      },
      "text/plain": [
       "VBox(children=(Label(value='0.001 MB of 0.003 MB uploaded\\r'), FloatProgress(value=0.29124820659971307, max=1.…"
      ]
     },
     "metadata": {},
     "output_type": "display_data"
    },
    {
     "name": "stderr",
     "output_type": "stream",
     "text": [
      "\u001b[34m\u001b[1mwandb\u001b[0m: \u001b[32m\u001b[41mERROR\u001b[0m Problem finishing run\n",
      "Traceback (most recent call last):\n",
      "  File \"/Library/Frameworks/Python.framework/Versions/3.10/lib/python3.10/site-packages/wandb/sdk/wandb_run.py\", line 2313, in _atexit_cleanup\n",
      "    self._on_finish()\n",
      "  File \"/Library/Frameworks/Python.framework/Versions/3.10/lib/python3.10/site-packages/wandb/sdk/wandb_run.py\", line 2567, in _on_finish\n",
      "    self._footer_file_pusher_status_info(\n",
      "  File \"/Library/Frameworks/Python.framework/Versions/3.10/lib/python3.10/site-packages/wandb/sdk/wandb_run.py\", line 3749, in _footer_file_pusher_status_info\n",
      "    Run._footer_single_run_file_pusher_status_info(\n",
      "  File \"/Library/Frameworks/Python.framework/Versions/3.10/lib/python3.10/site-packages/wandb/sdk/wandb_run.py\", line 3802, in _footer_single_run_file_pusher_status_info\n",
      "    printer.progress_close()\n",
      "  File \"/Library/Frameworks/Python.framework/Versions/3.10/lib/python3.10/site-packages/wandb/sdk/lib/printer.py\", line 292, in progress_close\n",
      "    self._progress.close()\n",
      "  File \"/Library/Frameworks/Python.framework/Versions/3.10/lib/python3.10/site-packages/wandb/sdk/lib/ipython.py\", line 128, in close\n",
      "    self._widget.close()\n",
      "  File \"/Users/lucasericsson/Library/Python/3.10/lib/python/site-packages/ipywidgets/widgets/widget.py\", line 500, in close\n",
      "    self.comm.close()\n",
      "  File \"/Users/lucasericsson/Library/Python/3.10/lib/python/site-packages/comm/base_comm.py\", line 109, in close\n",
      "    comm.get_comm_manager().unregister_comm(self)\n",
      "  File \"/Users/lucasericsson/Library/Python/3.10/lib/python/site-packages/comm/base_comm.py\", line 199, in unregister_comm\n",
      "    comm = self.comms.pop(comm.comm_id)\n",
      "KeyError: '91832a2a136d462294957b15b163c836'\n",
      "\u001b[34m\u001b[1mwandb\u001b[0m: Agent Starting Run: 96vn5x6f with config:\n",
      "\u001b[34m\u001b[1mwandb\u001b[0m: \tx: 0.028128789736148727\n",
      "\u001b[34m\u001b[1mwandb\u001b[0m: \ty: 1\n",
      "Failed to detect the name of this notebook, you can set it manually with the WANDB_NOTEBOOK_NAME environment variable to enable code saving.\n",
      "\u001b[34m\u001b[1mwandb\u001b[0m: \u001b[33mWARNING\u001b[0m Ignored wandb.init() arg project when running a sweep.\n"
     ]
    },
    {
     "data": {
      "text/html": [
       "Tracking run with wandb version 0.16.6"
      ],
      "text/plain": [
       "<IPython.core.display.HTML object>"
      ]
     },
     "metadata": {},
     "output_type": "display_data"
    },
    {
     "data": {
      "text/html": [
       "Run data is saved locally in <code>/Users/lucasericsson/repos/restricted-boltzmann-machine/wandb_test/wandb/run-20240408_215640-96vn5x6f</code>"
      ],
      "text/plain": [
       "<IPython.core.display.HTML object>"
      ]
     },
     "metadata": {},
     "output_type": "display_data"
    },
    {
     "data": {
      "text/html": [
       "Syncing run <strong><a href='https://wandb.ai/lucasericsson222/my-first-sweep/runs/96vn5x6f' target=\"_blank\">northern-sweep-8</a></strong> to <a href='https://wandb.ai/lucasericsson222/my-first-sweep' target=\"_blank\">Weights & Biases</a> (<a href='https://wandb.me/run' target=\"_blank\">docs</a>)<br/>Sweep page: <a href='https://wandb.ai/lucasericsson222/my-first-sweep/sweeps/su5csc5s' target=\"_blank\">https://wandb.ai/lucasericsson222/my-first-sweep/sweeps/su5csc5s</a>"
      ],
      "text/plain": [
       "<IPython.core.display.HTML object>"
      ]
     },
     "metadata": {},
     "output_type": "display_data"
    },
    {
     "data": {
      "text/html": [
       " View project at <a href='https://wandb.ai/lucasericsson222/my-first-sweep' target=\"_blank\">https://wandb.ai/lucasericsson222/my-first-sweep</a>"
      ],
      "text/plain": [
       "<IPython.core.display.HTML object>"
      ]
     },
     "metadata": {},
     "output_type": "display_data"
    },
    {
     "data": {
      "text/html": [
       " View sweep at <a href='https://wandb.ai/lucasericsson222/my-first-sweep/sweeps/su5csc5s' target=\"_blank\">https://wandb.ai/lucasericsson222/my-first-sweep/sweeps/su5csc5s</a>"
      ],
      "text/plain": [
       "<IPython.core.display.HTML object>"
      ]
     },
     "metadata": {},
     "output_type": "display_data"
    },
    {
     "data": {
      "text/html": [
       " View run at <a href='https://wandb.ai/lucasericsson222/my-first-sweep/runs/96vn5x6f' target=\"_blank\">https://wandb.ai/lucasericsson222/my-first-sweep/runs/96vn5x6f</a>"
      ],
      "text/plain": [
       "<IPython.core.display.HTML object>"
      ]
     },
     "metadata": {},
     "output_type": "display_data"
    },
    {
     "data": {
      "application/vnd.jupyter.widget-view+json": {
       "model_id": "e3cc24a899c64af39d67fa8ad8184b6d",
       "version_major": 2,
       "version_minor": 0
      },
      "text/plain": [
       "VBox(children=(Label(value='0.001 MB of 0.003 MB uploaded\\r'), FloatProgress(value=0.2804642166344294, max=1.0…"
      ]
     },
     "metadata": {},
     "output_type": "display_data"
    },
    {
     "name": "stderr",
     "output_type": "stream",
     "text": [
      "\u001b[34m\u001b[1mwandb\u001b[0m: \u001b[32m\u001b[41mERROR\u001b[0m Problem finishing run\n",
      "Traceback (most recent call last):\n",
      "  File \"/Library/Frameworks/Python.framework/Versions/3.10/lib/python3.10/site-packages/wandb/sdk/wandb_run.py\", line 2313, in _atexit_cleanup\n",
      "    self._on_finish()\n",
      "  File \"/Library/Frameworks/Python.framework/Versions/3.10/lib/python3.10/site-packages/wandb/sdk/wandb_run.py\", line 2567, in _on_finish\n",
      "    self._footer_file_pusher_status_info(\n",
      "  File \"/Library/Frameworks/Python.framework/Versions/3.10/lib/python3.10/site-packages/wandb/sdk/wandb_run.py\", line 3749, in _footer_file_pusher_status_info\n",
      "    Run._footer_single_run_file_pusher_status_info(\n",
      "  File \"/Library/Frameworks/Python.framework/Versions/3.10/lib/python3.10/site-packages/wandb/sdk/wandb_run.py\", line 3802, in _footer_single_run_file_pusher_status_info\n",
      "    printer.progress_close()\n",
      "  File \"/Library/Frameworks/Python.framework/Versions/3.10/lib/python3.10/site-packages/wandb/sdk/lib/printer.py\", line 292, in progress_close\n",
      "    self._progress.close()\n",
      "  File \"/Library/Frameworks/Python.framework/Versions/3.10/lib/python3.10/site-packages/wandb/sdk/lib/ipython.py\", line 128, in close\n",
      "    self._widget.close()\n",
      "  File \"/Users/lucasericsson/Library/Python/3.10/lib/python/site-packages/ipywidgets/widgets/widget.py\", line 500, in close\n",
      "    self.comm.close()\n",
      "  File \"/Users/lucasericsson/Library/Python/3.10/lib/python/site-packages/comm/base_comm.py\", line 109, in close\n",
      "    comm.get_comm_manager().unregister_comm(self)\n",
      "  File \"/Users/lucasericsson/Library/Python/3.10/lib/python/site-packages/comm/base_comm.py\", line 199, in unregister_comm\n",
      "    comm = self.comms.pop(comm.comm_id)\n",
      "KeyError: 'e3cc24a899c64af39d67fa8ad8184b6d'\n",
      "\u001b[34m\u001b[1mwandb\u001b[0m: Agent Starting Run: domytca3 with config:\n",
      "\u001b[34m\u001b[1mwandb\u001b[0m: \tx: 0.05554944616400602\n",
      "\u001b[34m\u001b[1mwandb\u001b[0m: \ty: 7\n",
      "Failed to detect the name of this notebook, you can set it manually with the WANDB_NOTEBOOK_NAME environment variable to enable code saving.\n",
      "\u001b[34m\u001b[1mwandb\u001b[0m: \u001b[33mWARNING\u001b[0m Ignored wandb.init() arg project when running a sweep.\n"
     ]
    },
    {
     "data": {
      "text/html": [
       "Tracking run with wandb version 0.16.6"
      ],
      "text/plain": [
       "<IPython.core.display.HTML object>"
      ]
     },
     "metadata": {},
     "output_type": "display_data"
    },
    {
     "data": {
      "text/html": [
       "Run data is saved locally in <code>/Users/lucasericsson/repos/restricted-boltzmann-machine/wandb_test/wandb/run-20240408_215650-domytca3</code>"
      ],
      "text/plain": [
       "<IPython.core.display.HTML object>"
      ]
     },
     "metadata": {},
     "output_type": "display_data"
    },
    {
     "data": {
      "text/html": [
       "Syncing run <strong><a href='https://wandb.ai/lucasericsson222/my-first-sweep/runs/domytca3' target=\"_blank\">rosy-sweep-9</a></strong> to <a href='https://wandb.ai/lucasericsson222/my-first-sweep' target=\"_blank\">Weights & Biases</a> (<a href='https://wandb.me/run' target=\"_blank\">docs</a>)<br/>Sweep page: <a href='https://wandb.ai/lucasericsson222/my-first-sweep/sweeps/su5csc5s' target=\"_blank\">https://wandb.ai/lucasericsson222/my-first-sweep/sweeps/su5csc5s</a>"
      ],
      "text/plain": [
       "<IPython.core.display.HTML object>"
      ]
     },
     "metadata": {},
     "output_type": "display_data"
    },
    {
     "data": {
      "text/html": [
       " View project at <a href='https://wandb.ai/lucasericsson222/my-first-sweep' target=\"_blank\">https://wandb.ai/lucasericsson222/my-first-sweep</a>"
      ],
      "text/plain": [
       "<IPython.core.display.HTML object>"
      ]
     },
     "metadata": {},
     "output_type": "display_data"
    },
    {
     "data": {
      "text/html": [
       " View sweep at <a href='https://wandb.ai/lucasericsson222/my-first-sweep/sweeps/su5csc5s' target=\"_blank\">https://wandb.ai/lucasericsson222/my-first-sweep/sweeps/su5csc5s</a>"
      ],
      "text/plain": [
       "<IPython.core.display.HTML object>"
      ]
     },
     "metadata": {},
     "output_type": "display_data"
    },
    {
     "data": {
      "text/html": [
       " View run at <a href='https://wandb.ai/lucasericsson222/my-first-sweep/runs/domytca3' target=\"_blank\">https://wandb.ai/lucasericsson222/my-first-sweep/runs/domytca3</a>"
      ],
      "text/plain": [
       "<IPython.core.display.HTML object>"
      ]
     },
     "metadata": {},
     "output_type": "display_data"
    },
    {
     "data": {
      "application/vnd.jupyter.widget-view+json": {
       "model_id": "90b394c134114140a98536bb2561dada",
       "version_major": 2,
       "version_minor": 0
      },
      "text/plain": [
       "VBox(children=(Label(value='0.001 MB of 0.001 MB uploaded\\r'), FloatProgress(value=1.0, max=1.0)))"
      ]
     },
     "metadata": {},
     "output_type": "display_data"
    },
    {
     "name": "stderr",
     "output_type": "stream",
     "text": [
      "\u001b[34m\u001b[1mwandb\u001b[0m: \u001b[32m\u001b[41mERROR\u001b[0m Problem finishing run\n",
      "Traceback (most recent call last):\n",
      "  File \"/Library/Frameworks/Python.framework/Versions/3.10/lib/python3.10/site-packages/wandb/sdk/wandb_run.py\", line 2313, in _atexit_cleanup\n",
      "    self._on_finish()\n",
      "  File \"/Library/Frameworks/Python.framework/Versions/3.10/lib/python3.10/site-packages/wandb/sdk/wandb_run.py\", line 2567, in _on_finish\n",
      "    self._footer_file_pusher_status_info(\n",
      "  File \"/Library/Frameworks/Python.framework/Versions/3.10/lib/python3.10/site-packages/wandb/sdk/wandb_run.py\", line 3749, in _footer_file_pusher_status_info\n",
      "    Run._footer_single_run_file_pusher_status_info(\n",
      "  File \"/Library/Frameworks/Python.framework/Versions/3.10/lib/python3.10/site-packages/wandb/sdk/wandb_run.py\", line 3802, in _footer_single_run_file_pusher_status_info\n",
      "    printer.progress_close()\n",
      "  File \"/Library/Frameworks/Python.framework/Versions/3.10/lib/python3.10/site-packages/wandb/sdk/lib/printer.py\", line 292, in progress_close\n",
      "    self._progress.close()\n",
      "  File \"/Library/Frameworks/Python.framework/Versions/3.10/lib/python3.10/site-packages/wandb/sdk/lib/ipython.py\", line 128, in close\n",
      "    self._widget.close()\n",
      "  File \"/Users/lucasericsson/Library/Python/3.10/lib/python/site-packages/ipywidgets/widgets/widget.py\", line 500, in close\n",
      "    self.comm.close()\n",
      "  File \"/Users/lucasericsson/Library/Python/3.10/lib/python/site-packages/comm/base_comm.py\", line 109, in close\n",
      "    comm.get_comm_manager().unregister_comm(self)\n",
      "  File \"/Users/lucasericsson/Library/Python/3.10/lib/python/site-packages/comm/base_comm.py\", line 199, in unregister_comm\n",
      "    comm = self.comms.pop(comm.comm_id)\n",
      "KeyError: '90b394c134114140a98536bb2561dada'\n",
      "\u001b[34m\u001b[1mwandb\u001b[0m: Agent Starting Run: 5rrtq1ys with config:\n",
      "\u001b[34m\u001b[1mwandb\u001b[0m: \tx: 0.02031145130500834\n",
      "\u001b[34m\u001b[1mwandb\u001b[0m: \ty: 1\n",
      "Failed to detect the name of this notebook, you can set it manually with the WANDB_NOTEBOOK_NAME environment variable to enable code saving.\n",
      "\u001b[34m\u001b[1mwandb\u001b[0m: \u001b[33mWARNING\u001b[0m Ignored wandb.init() arg project when running a sweep.\n"
     ]
    },
    {
     "data": {
      "text/html": [
       "Tracking run with wandb version 0.16.6"
      ],
      "text/plain": [
       "<IPython.core.display.HTML object>"
      ]
     },
     "metadata": {},
     "output_type": "display_data"
    },
    {
     "data": {
      "text/html": [
       "Run data is saved locally in <code>/Users/lucasericsson/repos/restricted-boltzmann-machine/wandb_test/wandb/run-20240408_215659-5rrtq1ys</code>"
      ],
      "text/plain": [
       "<IPython.core.display.HTML object>"
      ]
     },
     "metadata": {},
     "output_type": "display_data"
    },
    {
     "data": {
      "text/html": [
       "Syncing run <strong><a href='https://wandb.ai/lucasericsson222/my-first-sweep/runs/5rrtq1ys' target=\"_blank\">cool-sweep-10</a></strong> to <a href='https://wandb.ai/lucasericsson222/my-first-sweep' target=\"_blank\">Weights & Biases</a> (<a href='https://wandb.me/run' target=\"_blank\">docs</a>)<br/>Sweep page: <a href='https://wandb.ai/lucasericsson222/my-first-sweep/sweeps/su5csc5s' target=\"_blank\">https://wandb.ai/lucasericsson222/my-first-sweep/sweeps/su5csc5s</a>"
      ],
      "text/plain": [
       "<IPython.core.display.HTML object>"
      ]
     },
     "metadata": {},
     "output_type": "display_data"
    },
    {
     "data": {
      "text/html": [
       " View project at <a href='https://wandb.ai/lucasericsson222/my-first-sweep' target=\"_blank\">https://wandb.ai/lucasericsson222/my-first-sweep</a>"
      ],
      "text/plain": [
       "<IPython.core.display.HTML object>"
      ]
     },
     "metadata": {},
     "output_type": "display_data"
    },
    {
     "data": {
      "text/html": [
       " View sweep at <a href='https://wandb.ai/lucasericsson222/my-first-sweep/sweeps/su5csc5s' target=\"_blank\">https://wandb.ai/lucasericsson222/my-first-sweep/sweeps/su5csc5s</a>"
      ],
      "text/plain": [
       "<IPython.core.display.HTML object>"
      ]
     },
     "metadata": {},
     "output_type": "display_data"
    },
    {
     "data": {
      "text/html": [
       " View run at <a href='https://wandb.ai/lucasericsson222/my-first-sweep/runs/5rrtq1ys' target=\"_blank\">https://wandb.ai/lucasericsson222/my-first-sweep/runs/5rrtq1ys</a>"
      ],
      "text/plain": [
       "<IPython.core.display.HTML object>"
      ]
     },
     "metadata": {},
     "output_type": "display_data"
    },
    {
     "data": {
      "application/vnd.jupyter.widget-view+json": {
       "model_id": "7be733e3625947279abdbc16fdc95abb",
       "version_major": 2,
       "version_minor": 0
      },
      "text/plain": [
       "VBox(children=(Label(value='0.001 MB of 0.003 MB uploaded\\r'), FloatProgress(value=0.28061929776057504, max=1.…"
      ]
     },
     "metadata": {},
     "output_type": "display_data"
    },
    {
     "name": "stderr",
     "output_type": "stream",
     "text": [
      "\u001b[34m\u001b[1mwandb\u001b[0m: \u001b[32m\u001b[41mERROR\u001b[0m Problem finishing run\n",
      "Traceback (most recent call last):\n",
      "  File \"/Library/Frameworks/Python.framework/Versions/3.10/lib/python3.10/site-packages/wandb/sdk/wandb_run.py\", line 2313, in _atexit_cleanup\n",
      "    self._on_finish()\n",
      "  File \"/Library/Frameworks/Python.framework/Versions/3.10/lib/python3.10/site-packages/wandb/sdk/wandb_run.py\", line 2567, in _on_finish\n",
      "    self._footer_file_pusher_status_info(\n",
      "  File \"/Library/Frameworks/Python.framework/Versions/3.10/lib/python3.10/site-packages/wandb/sdk/wandb_run.py\", line 3749, in _footer_file_pusher_status_info\n",
      "    Run._footer_single_run_file_pusher_status_info(\n",
      "  File \"/Library/Frameworks/Python.framework/Versions/3.10/lib/python3.10/site-packages/wandb/sdk/wandb_run.py\", line 3802, in _footer_single_run_file_pusher_status_info\n",
      "    printer.progress_close()\n",
      "  File \"/Library/Frameworks/Python.framework/Versions/3.10/lib/python3.10/site-packages/wandb/sdk/lib/printer.py\", line 292, in progress_close\n",
      "    self._progress.close()\n",
      "  File \"/Library/Frameworks/Python.framework/Versions/3.10/lib/python3.10/site-packages/wandb/sdk/lib/ipython.py\", line 128, in close\n",
      "    self._widget.close()\n",
      "  File \"/Users/lucasericsson/Library/Python/3.10/lib/python/site-packages/ipywidgets/widgets/widget.py\", line 500, in close\n",
      "    self.comm.close()\n",
      "  File \"/Users/lucasericsson/Library/Python/3.10/lib/python/site-packages/comm/base_comm.py\", line 109, in close\n",
      "    comm.get_comm_manager().unregister_comm(self)\n",
      "  File \"/Users/lucasericsson/Library/Python/3.10/lib/python/site-packages/comm/base_comm.py\", line 199, in unregister_comm\n",
      "    comm = self.comms.pop(comm.comm_id)\n",
      "KeyError: '7be733e3625947279abdbc16fdc95abb'\n"
     ]
    }
   ],
   "source": [
    "def objective(config):\n",
    "    score = config.x**3 - config.y\n",
    "    return score\n",
    "\n",
    "def main():\n",
    "    wandb.init(project=\"my-first-sweep\")\n",
    "    score = objective(wandb.config)\n",
    "    wandb.log({\"score\":score})\n",
    "\n",
    "sweep_configuration = {\n",
    "    \"method\": \"random\",\n",
    "    \"metric\": {\"goal\": \"minimize\", \"name\": \"score\"},\n",
    "    \"parameters\": {\n",
    "        \"x\": {\"max\": 0.1, \"min\": 0.01},\n",
    "        \"y\": {\"values\": [1, 3, 7]},\n",
    "    },\n",
    "}\n",
    "\n",
    "sweep_id = wandb.sweep(sweep=sweep_configuration, project=\"my-first-sweep\")\n",
    "\n",
    "wandb.agent(sweep_id, function=main, count=10)"
   ]
  }
 ],
 "metadata": {
  "kernelspec": {
   "display_name": "Python 3",
   "language": "python",
   "name": "python3"
  },
  "language_info": {
   "codemirror_mode": {
    "name": "ipython",
    "version": 3
   },
   "file_extension": ".py",
   "mimetype": "text/x-python",
   "name": "python",
   "nbconvert_exporter": "python",
   "pygments_lexer": "ipython3",
   "version": "3.10.6"
  }
 },
 "nbformat": 4,
 "nbformat_minor": 2
}
