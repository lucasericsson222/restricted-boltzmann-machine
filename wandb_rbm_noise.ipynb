{
 "cells": [
  {
   "cell_type": "code",
   "execution_count": 18,
   "metadata": {},
   "outputs": [],
   "source": [
    "import numpy as np\n",
    "import matplotlib.pyplot as plt\n",
    "import RestrictedBoltzmannMachine as RBM\n",
    "import wandb"
   ]
  },
  {
   "cell_type": "code",
   "execution_count": 2,
   "metadata": {},
   "outputs": [],
   "source": [
    "data = None\n",
    "with open(\"train-images.idx3-ubyte\", \"rb\") as f:\n",
    "    data = np.frombuffer(f.read(), np.uint8, offset=16).reshape(-1,28*28)\n",
    "\n",
    "data = (data > 128).astype(np.uint8)\n",
    "\n",
    "validation_data = None\n",
    "with open(\"t10k-images.idx3-ubyte\", \"rb\") as f:\n",
    "    validation_data = np.frombuffer(f.read(), np.uint8, offset=16).reshape(-1,28*28)\n",
    "\n",
    "validation_data = (validation_data > 128).astype(np.uint8)\n"
   ]
  },
  {
   "cell_type": "code",
   "execution_count": 3,
   "metadata": {},
   "outputs": [
    {
     "name": "stderr",
     "output_type": "stream",
     "text": [
      "Failed to detect the name of this notebook, you can set it manually with the WANDB_NOTEBOOK_NAME environment variable to enable code saving.\n",
      "\u001b[34m\u001b[1mwandb\u001b[0m: Currently logged in as: \u001b[33mlucasericsson\u001b[0m (\u001b[33mlucasericsson222\u001b[0m). Use \u001b[1m`wandb login --relogin`\u001b[0m to force relogin\n"
     ]
    },
    {
     "data": {
      "text/html": [
       "Tracking run with wandb version 0.16.6"
      ],
      "text/plain": [
       "<IPython.core.display.HTML object>"
      ]
     },
     "metadata": {},
     "output_type": "display_data"
    },
    {
     "data": {
      "text/html": [
       "Run data is saved locally in <code>/Users/lucasericsson/repos/restricted-boltzmann-machine/wandb/run-20240412_154937-99d98mi8</code>"
      ],
      "text/plain": [
       "<IPython.core.display.HTML object>"
      ]
     },
     "metadata": {},
     "output_type": "display_data"
    },
    {
     "data": {
      "text/html": [
       "Syncing run <strong><a href='https://wandb.ai/lucasericsson222/restricted-boltzmann-machine-noise/runs/99d98mi8' target=\"_blank\">splendid-meadow-4</a></strong> to <a href='https://wandb.ai/lucasericsson222/restricted-boltzmann-machine-noise' target=\"_blank\">Weights & Biases</a> (<a href='https://wandb.me/run' target=\"_blank\">docs</a>)<br/>"
      ],
      "text/plain": [
       "<IPython.core.display.HTML object>"
      ]
     },
     "metadata": {},
     "output_type": "display_data"
    },
    {
     "data": {
      "text/html": [
       " View project at <a href='https://wandb.ai/lucasericsson222/restricted-boltzmann-machine-noise' target=\"_blank\">https://wandb.ai/lucasericsson222/restricted-boltzmann-machine-noise</a>"
      ],
      "text/plain": [
       "<IPython.core.display.HTML object>"
      ]
     },
     "metadata": {},
     "output_type": "display_data"
    },
    {
     "data": {
      "text/html": [
       " View run at <a href='https://wandb.ai/lucasericsson222/restricted-boltzmann-machine-noise/runs/99d98mi8' target=\"_blank\">https://wandb.ai/lucasericsson222/restricted-boltzmann-machine-noise/runs/99d98mi8</a>"
      ],
      "text/plain": [
       "<IPython.core.display.HTML object>"
      ]
     },
     "metadata": {},
     "output_type": "display_data"
    },
    {
     "data": {
      "text/html": [
       "<button onClick=\"this.nextSibling.style.display='block';this.style.display='none';\">Display W&B run</button><iframe src='https://wandb.ai/lucasericsson222/restricted-boltzmann-machine-noise/runs/99d98mi8?jupyter=true' style='border:none;width:100%;height:420px;display:none;'></iframe>"
      ],
      "text/plain": [
       "<wandb.sdk.wandb_run.Run at 0x13e601a20>"
      ]
     },
     "execution_count": 3,
     "metadata": {},
     "output_type": "execute_result"
    }
   ],
   "source": [
    "wandb.init(\n",
    "    project=\"restricted-boltzmann-machine-noise\",\n",
    "\n",
    "    config={\n",
    "        \"learning_rate\": 0.01,\n",
    "        \"architecture\": \"RBM\",\n",
    "        \"dataset\": \"MNIST\",\n",
    "        \"epochs\": 10,\n",
    "    }\n",
    ")"
   ]
  },
  {
   "cell_type": "code",
   "execution_count": 4,
   "metadata": {},
   "outputs": [
    {
     "data": {
      "image/png": "[encoded data removed]",
      "text/plain": [
       "<Figure size 640x480 with 1 Axes>"
      ]
     },
     "metadata": {},
     "output_type": "display_data"
    }
   ],
   "source": [
    "my_rbm = RBM.RestrictedBoltzmannMachine(28*28*2, 1000)\n",
    "\n",
    "noise = np.random.rand(60000, 28*28) < .10\n",
    "noisy_data = np.copy(data) ^ noise\n",
    "new_data = np.column_stack((noisy_data, data))\n",
    "\n",
    "myin = new_data[1]\n",
    "inimg = myin.reshape(28*2,28).copy()\n",
    "plt.imshow(inimg, cmap='gray')\n",
    "plt.show()"
   ]
  },
  {
   "cell_type": "code",
   "execution_count": 5,
   "metadata": {},
   "outputs": [
    {
     "name": "stdout",
     "output_type": "stream",
     "text": [
      "(60000, 1568)\n",
      "Epoch: 0\n",
      "current_weight_diff: 10.300189349117739\n",
      "sqrd_recon_error: 0.374375\n",
      "Epoch: 1\n",
      "current_weight_diff: 3.8682894245678314\n",
      "sqrd_recon_error: 0.28920918367346937\n",
      "Epoch: 2\n",
      "current_weight_diff: 2.359281920114182\n",
      "sqrd_recon_error: 0.23942602040816324\n",
      "Epoch: 3\n",
      "current_weight_diff: 1.8519578824689855\n",
      "sqrd_recon_error: 0.23377551020408163\n",
      "Epoch: 4\n",
      "current_weight_diff: 1.3792281003480011\n",
      "sqrd_recon_error: 0.1993686224489796\n",
      "Epoch: 5\n",
      "current_weight_diff: 1.3455563891820341\n",
      "sqrd_recon_error: 0.20429846938775512\n",
      "Epoch: 6\n",
      "current_weight_diff: 0.9370373433600683\n",
      "sqrd_recon_error: 0.21022959183673467\n",
      "Epoch: 7\n",
      "current_weight_diff: 0.9986537403714206\n",
      "sqrd_recon_error: 0.2074936224489796\n",
      "Epoch: 8\n",
      "current_weight_diff: 3.5790025727787733\n",
      "sqrd_recon_error: 0.19600127551020408\n",
      "Epoch: 9\n",
      "current_weight_diff: 0.8395448574678904\n",
      "sqrd_recon_error: 0.20563775510204083\n"
     ]
    }
   ],
   "source": [
    "my_rbm.contrastive_divergence(new_data, validation_data, num_epochs=10)"
   ]
  },
  {
   "cell_type": "code",
   "execution_count": 6,
   "metadata": {},
   "outputs": [
    {
     "data": {
      "application/vnd.jupyter.widget-view+json": {
       "model_id": "c5448b5093ad40eb8192e7ebf56bbeeb",
       "version_major": 2,
       "version_minor": 0
      },
      "text/plain": [
       "VBox(children=(Label(value='0.001 MB of 0.001 MB uploaded\\r'), FloatProgress(value=1.0, max=1.0)))"
      ]
     },
     "metadata": {},
     "output_type": "display_data"
    },
    {
     "name": "stderr",
     "output_type": "stream",
     "text": [
      "\u001b[34m\u001b[1mwandb\u001b[0m: \u001b[32m\u001b[41mERROR\u001b[0m Problem finishing run\n",
      "Traceback (most recent call last):\n",
      "  File \"/Library/Frameworks/Python.framework/Versions/3.10/lib/python3.10/site-packages/wandb/sdk/wandb_run.py\", line 2313, in _atexit_cleanup\n",
      "    self._on_finish()\n",
      "  File \"/Library/Frameworks/Python.framework/Versions/3.10/lib/python3.10/site-packages/wandb/sdk/wandb_run.py\", line 2567, in _on_finish\n",
      "    self._footer_file_pusher_status_info(\n",
      "  File \"/Library/Frameworks/Python.framework/Versions/3.10/lib/python3.10/site-packages/wandb/sdk/wandb_run.py\", line 3749, in _footer_file_pusher_status_info\n",
      "    Run._footer_single_run_file_pusher_status_info(\n",
      "  File \"/Library/Frameworks/Python.framework/Versions/3.10/lib/python3.10/site-packages/wandb/sdk/wandb_run.py\", line 3802, in _footer_single_run_file_pusher_status_info\n",
      "    printer.progress_close()\n",
      "  File \"/Library/Frameworks/Python.framework/Versions/3.10/lib/python3.10/site-packages/wandb/sdk/lib/printer.py\", line 292, in progress_close\n",
      "    self._progress.close()\n",
      "  File \"/Library/Frameworks/Python.framework/Versions/3.10/lib/python3.10/site-packages/wandb/sdk/lib/ipython.py\", line 128, in close\n",
      "    self._widget.close()\n",
      "  File \"/Users/lucasericsson/Library/Python/3.10/lib/python/site-packages/ipywidgets/widgets/widget.py\", line 500, in close\n",
      "    self.comm.close()\n",
      "  File \"/Users/lucasericsson/Library/Python/3.10/lib/python/site-packages/comm/base_comm.py\", line 109, in close\n",
      "    comm.get_comm_manager().unregister_comm(self)\n",
      "  File \"/Users/lucasericsson/Library/Python/3.10/lib/python/site-packages/comm/base_comm.py\", line 199, in unregister_comm\n",
      "    comm = self.comms.pop(comm.comm_id)\n",
      "KeyError: 'c5448b5093ad40eb8192e7ebf56bbeeb'\n"
     ]
    }
   ],
   "source": [
    "wandb.finish()"
   ]
  },
  {
   "cell_type": "code",
   "execution_count": 17,
   "metadata": {},
   "outputs": [
    {
     "data": {
      "image/png": "[encoded data removed]",
      "text/plain": [
       "<Figure size 640x480 with 1 Axes>"
      ]
     },
     "metadata": {},
     "output_type": "display_data"
    },
    {
     "data": {
      "image/png": "[encoded data removed]",
      "text/plain": [
       "<Figure size 640x480 with 1 Axes>"
      ]
     },
     "metadata": {},
     "output_type": "display_data"
    },
    {
     "data": {
      "image/png": "[encoded data removed]",
      "text/plain": [
       "<Figure size 640x480 with 1 Axes>"
      ]
     },
     "metadata": {},
     "output_type": "display_data"
    }
   ],
   "source": [
    "data2 = None\n",
    "with open(\"t10k-images.idx3-ubyte\", \"rb\") as f:\n",
    "    data2 = np.frombuffer(f.read(), np.uint8, offset=16).reshape(-1,28*28)\n",
    "\n",
    "data2 = (data2 > 128).astype(np.uint8)\n",
    "\n",
    "noise = np.random.rand(10000, 28*28) < .10\n",
    "noisy_data = np.copy(data2) ^ noise\n",
    "new_data2 = np.column_stack((noisy_data, data2))\n",
    "\n",
    "myin = new_data2[np.random.randint(0,10000)]\n",
    "inimg = myin.reshape(28*2,28).copy()\n",
    "plt.imshow(inimg, cmap='gray')\n",
    "plt.show()\n",
    "inimg[29:, :] = 0\n",
    "plt.imshow(inimg, cmap='gray')\n",
    "plt.show()\n",
    "\n",
    "out = my_rbm.conditional_gibbs_sample(np.matrix(inimg.reshape(1, 28*28*2)).T, 1)\n",
    "for i in range(0, 10):\n",
    "    out += my_rbm.conditional_gibbs_sample(np.matrix(inimg.reshape(1, 28*28*2)).T, 10)\n",
    "\n",
    "\n",
    "out = out.astype(np.uint8)\n",
    "img = out.reshape(28*2,28) # First image in the training set.\n",
    "plt.imshow(img,cmap='gray')\n",
    "plt.show() # Show the image"
   ]
  },
  {
   "cell_type": "code",
   "execution_count": null,
   "metadata": {},
   "outputs": [],
   "source": []
  }
 ],
 "metadata": {
  "kernelspec": {
   "display_name": "Python 3",
   "language": "python",
   "name": "python3"
  },
  "language_info": {
   "codemirror_mode": {
    "name": "ipython",
    "version": 3
   },
   "file_extension": ".py",
   "mimetype": "text/x-python",
   "name": "python",
   "nbconvert_exporter": "python",
   "pygments_lexer": "ipython3",
   "version": "3.10.6"
  }
 },
 "nbformat": 4,
 "nbformat_minor": 2
}
